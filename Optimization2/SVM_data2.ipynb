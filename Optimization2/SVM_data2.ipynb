{
  "cells": [
    {
      "cell_type": "markdown",
      "metadata": {
        "id": "view-in-github",
        "colab_type": "text"
      },
      "source": [
<<<<<<< HEAD
        "<a href=\"https://colab.research.google.com/github/as2c/MLP---Cosmology/blob/main/Optimization2/SVM_data2.ipynb\" target=\"_parent\"><img src=\"https://colab.research.google.com/assets/colab-badge.svg\" alt=\"Open In Colab\"/></a>"
=======
        "<a href=\"https://colab.research.google.com/github/as2c/MLP---Cosmology/blob/NewData/Optimization2/SVM_data2.ipynb\" target=\"_parent\"><img src=\"https://colab.research.google.com/assets/colab-badge.svg\" alt=\"Open In Colab\"/></a>"
>>>>>>> 0b2d8548b2c8861c0d909c1c029aee026643de61
      ]
    },
    {
      "cell_type": "markdown",
      "metadata": {
        "id": "jwLDDwkEvixQ"
      },
      "source": [
        "In this code, our objective is to train some classic models such as SVM, KNN, RandomForest, etc on our test data, and try to evaluate their efficiency by plotting confusion matrixes, learning curves, validation curves, and measuring the prediction time. "
      ]
    },
    {
      "cell_type": "markdown",
      "metadata": {
        "id": "3v_SxfiDvixY"
      },
      "source": [
        "# Import phase I data"
      ]
    },
    {
      "cell_type": "markdown",
      "metadata": {
        "id": "U4iafM7UvixV"
      },
      "source": [
        "Import required libraries"
      ]
    },
    {
      "cell_type": "code",
<<<<<<< HEAD
      "execution_count": 24,
=======
      "execution_count": null,
>>>>>>> 0b2d8548b2c8861c0d909c1c029aee026643de61
      "metadata": {
        "colab": {
          "base_uri": "https://localhost:8080/"
        },
        "id": "Mx7soy-MvixW",
<<<<<<< HEAD
        "outputId": "72c2e155-76be-4bb9-b880-a6ac7e66696c"
      },
      "outputs": [
        {
          "output_type": "stream",
          "name": "stdout",
=======
        "outputId": "d5d0b69b-897d-49db-da55-88658b912a14"
      },
      "outputs": [
        {
          "name": "stdout",
          "output_type": "stream",
>>>>>>> 0b2d8548b2c8861c0d909c1c029aee026643de61
          "text": [
            "Created `%t` as an alias for `%timeit`.\n",
            "Created `%%t` as an alias for `%%timeit`.\n"
          ]
        }
      ],
      "source": [
        "import pandas as pd\n",
        "import numpy as np\n",
        "import matplotlib.pyplot as plt\n",
        "import matplotlib.cm as cm\n",
        "from sklearn.model_selection import learning_curve, validation_curve\n",
        "from sklearn.neighbors import KNeighborsClassifier\n",
        "from sklearn.preprocessing import PolynomialFeatures\n",
        "from sklearn.linear_model import LinearRegression\n",
        "from sklearn.pipeline import Pipeline\n",
        "from sklearn.utils import shuffle\n",
        "from sklearn.model_selection import train_test_split\n",
        "from sklearn.linear_model import RidgeClassifier\n",
        "from sklearn import svm\n",
        "from sklearn.svm import SVC\n",
        "from sklearn.metrics import confusion_matrix, plot_confusion_matrix\n",
        "import timeit\n",
        "import time\n",
        "%alias_magic t timeit\n",
        "# import warnings filter\n",
        "from warnings import simplefilter\n",
        "# ignore all future warnings\n",
        "simplefilter(action='ignore', category=FutureWarning)"
      ]
    },
    {
      "cell_type": "code",
<<<<<<< HEAD
      "execution_count": 25,
=======
      "execution_count": null,
>>>>>>> 0b2d8548b2c8861c0d909c1c029aee026643de61
      "metadata": {
        "colab": {
          "base_uri": "https://localhost:8080/"
        },
        "id": "nTp2S46b-8kT",
<<<<<<< HEAD
        "outputId": "0507f33c-7d74-4dfe-8fd1-c94486c1dce9"
      },
      "outputs": [
        {
          "output_type": "stream",
          "name": "stdout",
          "text": [
            "Drive already mounted at /content/drive; to attempt to forcibly remount, call drive.mount(\"/content/drive\", force_remount=True).\n"
=======
        "outputId": "27339c3e-8473-471d-d6e1-67cbd5a44c30"
      },
      "outputs": [
        {
          "name": "stdout",
          "output_type": "stream",
          "text": [
            "Mounted at /content/drive\n"
>>>>>>> 0b2d8548b2c8861c0d909c1c029aee026643de61
          ]
        }
      ],
      "source": [
        "from google.colab import drive\n",
        "drive.mount('/content/drive')"
      ]
    },
    {
      "cell_type": "markdown",
      "metadata": {
        "id": "xVLNS5KyItAF"
      },
      "source": [
        "### Gadget 2 Data / with Neutrino"
      ]
    },
    {
      "cell_type": "code",
<<<<<<< HEAD
      "execution_count": 26,
      "metadata": {
        "colab": {
          "base_uri": "https://localhost:8080/",
          "height": 0
        },
        "id": "wpc_eXP0-8kb",
        "outputId": "5b755c55-a823-44f1-c3b2-afb93cc9e3a3"
      },
      "outputs": [
        {
          "output_type": "execute_result",
          "data": {
            "text/html": [
              "\n",
              "  <div id=\"df-3d26921c-f562-41b9-8486-3c4eaac03b29\">\n",
=======
      "execution_count": null,
      "metadata": {
        "colab": {
          "base_uri": "https://localhost:8080/"
        },
        "id": "wpc_eXP0-8kb",
        "outputId": "3924653b-48cc-4690-afa1-53a2ca8a9490"
      },
      "outputs": [
        {
          "data": {
            "text/html": [
              "\n",
              "  <div id=\"df-e9446c9a-9276-4729-8f48-5e915cdb1d92\">\n",
>>>>>>> 0b2d8548b2c8861c0d909c1c029aee026643de61
              "    <div class=\"colab-df-container\">\n",
              "      <div>\n",
              "<style scoped>\n",
              "    .dataframe tbody tr th:only-of-type {\n",
              "        vertical-align: middle;\n",
              "    }\n",
              "\n",
              "    .dataframe tbody tr th {\n",
              "        vertical-align: top;\n",
              "    }\n",
              "\n",
              "    .dataframe thead th {\n",
              "        text-align: right;\n",
              "    }\n",
              "</style>\n",
              "<table border=\"1\" class=\"dataframe\">\n",
              "  <thead>\n",
              "    <tr style=\"text-align: right;\">\n",
              "      <th></th>\n",
              "      <th>id</th>\n",
              "      <th>haloID</th>\n",
              "      <th>halo_mass</th>\n",
              "      <th>vx</th>\n",
              "      <th>vy</th>\n",
              "      <th>vz</th>\n",
              "      <th>dc for 4.9</th>\n",
              "      <th>dc for 6.8</th>\n",
              "      <th>dc for 8.7</th>\n",
              "      <th>dc for 10.6</th>\n",
              "      <th>dc for 12.4</th>\n",
              "      <th>dc for 14.3</th>\n",
              "      <th>dc for 16.2</th>\n",
              "      <th>dc for 18.1</th>\n",
              "      <th>dc for 20.0</th>\n",
              "      <th>in_halo</th>\n",
              "    </tr>\n",
              "  </thead>\n",
              "  <tbody>\n",
              "    <tr>\n",
              "      <th>0</th>\n",
              "      <td>10156552</td>\n",
              "      <td>755</td>\n",
              "      <td>2280.0</td>\n",
              "      <td>171.21194</td>\n",
              "      <td>220.56293</td>\n",
              "      <td>-274.228700</td>\n",
              "      <td>-0.084922</td>\n",
              "      <td>-0.052028</td>\n",
              "      <td>-0.042415</td>\n",
              "      <td>-0.028087</td>\n",
              "      <td>-0.024984</td>\n",
              "      <td>-0.018675</td>\n",
              "      <td>-0.016231</td>\n",
              "      <td>-0.011940</td>\n",
              "      <td>-0.010111</td>\n",
              "      <td>1</td>\n",
              "    </tr>\n",
              "    <tr>\n",
              "      <th>1</th>\n",
              "      <td>11068486</td>\n",
              "      <td>85</td>\n",
              "      <td>1539.0</td>\n",
              "      <td>-129.84116</td>\n",
              "      <td>92.60424</td>\n",
              "      <td>212.125500</td>\n",
              "      <td>-0.127820</td>\n",
              "      <td>-0.081099</td>\n",
              "      <td>-0.051217</td>\n",
              "      <td>-0.028345</td>\n",
              "      <td>-0.013751</td>\n",
              "      <td>-0.013991</td>\n",
              "      <td>-0.012344</td>\n",
              "      <td>-0.011500</td>\n",
              "      <td>-0.012220</td>\n",
              "      <td>0</td>\n",
              "    </tr>\n",
              "    <tr>\n",
              "      <th>2</th>\n",
              "      <td>9530036</td>\n",
              "      <td>654</td>\n",
              "      <td>1944.0</td>\n",
              "      <td>-290.99210</td>\n",
              "      <td>-885.49430</td>\n",
              "      <td>468.255040</td>\n",
              "      <td>-0.078978</td>\n",
              "      <td>-0.052806</td>\n",
              "      <td>-0.030027</td>\n",
              "      <td>-0.011704</td>\n",
              "      <td>0.001295</td>\n",
              "      <td>0.003803</td>\n",
              "      <td>0.005131</td>\n",
              "      <td>0.005231</td>\n",
              "      <td>0.003787</td>\n",
              "      <td>1</td>\n",
              "    </tr>\n",
              "    <tr>\n",
              "      <th>3</th>\n",
              "      <td>11455022</td>\n",
              "      <td>752</td>\n",
              "      <td>1394.0</td>\n",
              "      <td>-60.35258</td>\n",
              "      <td>422.43716</td>\n",
              "      <td>79.394300</td>\n",
              "      <td>-0.109989</td>\n",
              "      <td>-0.079155</td>\n",
              "      <td>-0.054663</td>\n",
              "      <td>-0.037685</td>\n",
              "      <td>-0.026670</td>\n",
              "      <td>-0.017901</td>\n",
              "      <td>-0.009227</td>\n",
              "      <td>-0.000868</td>\n",
              "      <td>0.001568</td>\n",
              "      <td>0</td>\n",
              "    </tr>\n",
              "    <tr>\n",
              "      <th>4</th>\n",
              "      <td>8591034</td>\n",
              "      <td>356</td>\n",
              "      <td>1649.0</td>\n",
              "      <td>403.66608</td>\n",
              "      <td>345.88077</td>\n",
              "      <td>9.231552</td>\n",
              "      <td>-0.084405</td>\n",
              "      <td>-0.019068</td>\n",
              "      <td>-0.009396</td>\n",
              "      <td>-0.001539</td>\n",
              "      <td>0.002288</td>\n",
              "      <td>0.005629</td>\n",
              "      <td>0.011288</td>\n",
              "      <td>0.013111</td>\n",
              "      <td>0.013433</td>\n",
              "      <td>1</td>\n",
              "    </tr>\n",
              "    <tr>\n",
              "      <th>...</th>\n",
              "      <td>...</td>\n",
              "      <td>...</td>\n",
              "      <td>...</td>\n",
              "      <td>...</td>\n",
              "      <td>...</td>\n",
              "      <td>...</td>\n",
              "      <td>...</td>\n",
              "      <td>...</td>\n",
              "      <td>...</td>\n",
              "      <td>...</td>\n",
              "      <td>...</td>\n",
              "      <td>...</td>\n",
              "      <td>...</td>\n",
              "      <td>...</td>\n",
              "      <td>...</td>\n",
              "      <td>...</td>\n",
              "    </tr>\n",
              "    <tr>\n",
              "      <th>99995</th>\n",
              "      <td>2160800</td>\n",
              "      <td>451</td>\n",
              "      <td>2634.0</td>\n",
              "      <td>654.82430</td>\n",
              "      <td>210.78130</td>\n",
              "      <td>255.344150</td>\n",
              "      <td>-0.094225</td>\n",
              "      <td>-0.076043</td>\n",
              "      <td>-0.060624</td>\n",
              "      <td>-0.040368</td>\n",
              "      <td>-0.020840</td>\n",
              "      <td>-0.016261</td>\n",
              "      <td>-0.011803</td>\n",
              "      <td>-0.005002</td>\n",
              "      <td>0.000918</td>\n",
              "      <td>1</td>\n",
              "    </tr>\n",
              "    <tr>\n",
              "      <th>99996</th>\n",
              "      <td>3257728</td>\n",
              "      <td>43</td>\n",
              "      <td>1112.0</td>\n",
              "      <td>-154.27774</td>\n",
              "      <td>488.65564</td>\n",
              "      <td>-779.558400</td>\n",
              "      <td>-0.127045</td>\n",
              "      <td>-0.076529</td>\n",
              "      <td>-0.056246</td>\n",
              "      <td>-0.038201</td>\n",
              "      <td>-0.027520</td>\n",
              "      <td>-0.016374</td>\n",
              "      <td>-0.008045</td>\n",
              "      <td>0.002627</td>\n",
              "      <td>0.006124</td>\n",
              "      <td>0</td>\n",
              "    </tr>\n",
              "    <tr>\n",
              "      <th>99997</th>\n",
              "      <td>6101605</td>\n",
              "      <td>484</td>\n",
              "      <td>1198.0</td>\n",
              "      <td>-113.51735</td>\n",
              "      <td>68.44336</td>\n",
              "      <td>275.964000</td>\n",
              "      <td>-0.122135</td>\n",
              "      <td>-0.091794</td>\n",
              "      <td>-0.063465</td>\n",
              "      <td>-0.032060</td>\n",
              "      <td>-0.017973</td>\n",
              "      <td>-0.016684</td>\n",
              "      <td>-0.017740</td>\n",
              "      <td>-0.017154</td>\n",
              "      <td>-0.012600</td>\n",
              "      <td>0</td>\n",
              "    </tr>\n",
              "    <tr>\n",
              "      <th>99998</th>\n",
              "      <td>4576456</td>\n",
              "      <td>44</td>\n",
              "      <td>1058.0</td>\n",
              "      <td>-130.21120</td>\n",
              "      <td>292.63483</td>\n",
              "      <td>-754.563000</td>\n",
              "      <td>-0.097585</td>\n",
              "      <td>-0.076140</td>\n",
              "      <td>-0.061788</td>\n",
              "      <td>-0.054584</td>\n",
              "      <td>-0.043055</td>\n",
              "      <td>-0.032415</td>\n",
              "      <td>-0.021591</td>\n",
              "      <td>-0.007463</td>\n",
              "      <td>0.004673</td>\n",
              "      <td>0</td>\n",
              "    </tr>\n",
              "    <tr>\n",
              "      <th>99999</th>\n",
              "      <td>13755625</td>\n",
              "      <td>374</td>\n",
              "      <td>3436.0</td>\n",
              "      <td>-403.48090</td>\n",
              "      <td>360.35940</td>\n",
              "      <td>341.696500</td>\n",
              "      <td>-0.107922</td>\n",
              "      <td>-0.042597</td>\n",
              "      <td>-0.005298</td>\n",
              "      <td>0.006846</td>\n",
              "      <td>0.011993</td>\n",
              "      <td>0.019019</td>\n",
              "      <td>0.014505</td>\n",
              "      <td>0.013776</td>\n",
              "      <td>0.014595</td>\n",
              "      <td>1</td>\n",
              "    </tr>\n",
              "  </tbody>\n",
              "</table>\n",
              "<p>100000 rows × 16 columns</p>\n",
              "</div>\n",
<<<<<<< HEAD
              "      <button class=\"colab-df-convert\" onclick=\"convertToInteractive('df-3d26921c-f562-41b9-8486-3c4eaac03b29')\"\n",
=======
              "      <button class=\"colab-df-convert\" onclick=\"convertToInteractive('df-e9446c9a-9276-4729-8f48-5e915cdb1d92')\"\n",
>>>>>>> 0b2d8548b2c8861c0d909c1c029aee026643de61
              "              title=\"Convert this dataframe to an interactive table.\"\n",
              "              style=\"display:none;\">\n",
              "        \n",
              "  <svg xmlns=\"http://www.w3.org/2000/svg\" height=\"24px\"viewBox=\"0 0 24 24\"\n",
              "       width=\"24px\">\n",
              "    <path d=\"M0 0h24v24H0V0z\" fill=\"none\"/>\n",
              "    <path d=\"M18.56 5.44l.94 2.06.94-2.06 2.06-.94-2.06-.94-.94-2.06-.94 2.06-2.06.94zm-11 1L8.5 8.5l.94-2.06 2.06-.94-2.06-.94L8.5 2.5l-.94 2.06-2.06.94zm10 10l.94 2.06.94-2.06 2.06-.94-2.06-.94-.94-2.06-.94 2.06-2.06.94z\"/><path d=\"M17.41 7.96l-1.37-1.37c-.4-.4-.92-.59-1.43-.59-.52 0-1.04.2-1.43.59L10.3 9.45l-7.72 7.72c-.78.78-.78 2.05 0 2.83L4 21.41c.39.39.9.59 1.41.59.51 0 1.02-.2 1.41-.59l7.78-7.78 2.81-2.81c.8-.78.8-2.07 0-2.86zM5.41 20L4 18.59l7.72-7.72 1.47 1.35L5.41 20z\"/>\n",
              "  </svg>\n",
              "      </button>\n",
              "      \n",
              "  <style>\n",
              "    .colab-df-container {\n",
              "      display:flex;\n",
              "      flex-wrap:wrap;\n",
              "      gap: 12px;\n",
              "    }\n",
              "\n",
              "    .colab-df-convert {\n",
              "      background-color: #E8F0FE;\n",
              "      border: none;\n",
              "      border-radius: 50%;\n",
              "      cursor: pointer;\n",
              "      display: none;\n",
              "      fill: #1967D2;\n",
              "      height: 32px;\n",
              "      padding: 0 0 0 0;\n",
              "      width: 32px;\n",
              "    }\n",
              "\n",
              "    .colab-df-convert:hover {\n",
              "      background-color: #E2EBFA;\n",
              "      box-shadow: 0px 1px 2px rgba(60, 64, 67, 0.3), 0px 1px 3px 1px rgba(60, 64, 67, 0.15);\n",
              "      fill: #174EA6;\n",
              "    }\n",
              "\n",
              "    [theme=dark] .colab-df-convert {\n",
              "      background-color: #3B4455;\n",
              "      fill: #D2E3FC;\n",
              "    }\n",
              "\n",
              "    [theme=dark] .colab-df-convert:hover {\n",
              "      background-color: #434B5C;\n",
              "      box-shadow: 0px 1px 3px 1px rgba(0, 0, 0, 0.15);\n",
              "      filter: drop-shadow(0px 1px 2px rgba(0, 0, 0, 0.3));\n",
              "      fill: #FFFFFF;\n",
              "    }\n",
              "  </style>\n",
              "\n",
              "      <script>\n",
              "        const buttonEl =\n",
<<<<<<< HEAD
              "          document.querySelector('#df-3d26921c-f562-41b9-8486-3c4eaac03b29 button.colab-df-convert');\n",
=======
              "          document.querySelector('#df-e9446c9a-9276-4729-8f48-5e915cdb1d92 button.colab-df-convert');\n",
>>>>>>> 0b2d8548b2c8861c0d909c1c029aee026643de61
              "        buttonEl.style.display =\n",
              "          google.colab.kernel.accessAllowed ? 'block' : 'none';\n",
              "\n",
              "        async function convertToInteractive(key) {\n",
<<<<<<< HEAD
              "          const element = document.querySelector('#df-3d26921c-f562-41b9-8486-3c4eaac03b29');\n",
=======
              "          const element = document.querySelector('#df-e9446c9a-9276-4729-8f48-5e915cdb1d92');\n",
>>>>>>> 0b2d8548b2c8861c0d909c1c029aee026643de61
              "          const dataTable =\n",
              "            await google.colab.kernel.invokeFunction('convertToInteractive',\n",
              "                                                     [key], {});\n",
              "          if (!dataTable) return;\n",
              "\n",
              "          const docLinkHtml = 'Like what you see? Visit the ' +\n",
              "            '<a target=\"_blank\" href=https://colab.research.google.com/notebooks/data_table.ipynb>data table notebook</a>'\n",
              "            + ' to learn more about interactive tables.';\n",
              "          element.innerHTML = '';\n",
              "          dataTable['output_type'] = 'display_data';\n",
              "          await google.colab.output.renderOutput(dataTable, element);\n",
              "          const docLink = document.createElement('div');\n",
              "          docLink.innerHTML = docLinkHtml;\n",
              "          element.appendChild(docLink);\n",
              "        }\n",
              "      </script>\n",
              "    </div>\n",
              "  </div>\n",
              "  "
            ],
            "text/plain": [
              "             id  haloID  halo_mass  ...  dc for 18.1  dc for 20.0  in_halo\n",
              "0      10156552     755     2280.0  ...    -0.011940    -0.010111        1\n",
              "1      11068486      85     1539.0  ...    -0.011500    -0.012220        0\n",
              "2       9530036     654     1944.0  ...     0.005231     0.003787        1\n",
              "3      11455022     752     1394.0  ...    -0.000868     0.001568        0\n",
              "4       8591034     356     1649.0  ...     0.013111     0.013433        1\n",
              "...         ...     ...        ...  ...          ...          ...      ...\n",
              "99995   2160800     451     2634.0  ...    -0.005002     0.000918        1\n",
              "99996   3257728      43     1112.0  ...     0.002627     0.006124        0\n",
              "99997   6101605     484     1198.0  ...    -0.017154    -0.012600        0\n",
              "99998   4576456      44     1058.0  ...    -0.007463     0.004673        0\n",
              "99999  13755625     374     3436.0  ...     0.013776     0.014595        1\n",
              "\n",
              "[100000 rows x 16 columns]"
            ]
          },
<<<<<<< HEAD
          "metadata": {},
          "execution_count": 26
=======
          "execution_count": 4,
          "metadata": {},
          "output_type": "execute_result"
>>>>>>> 0b2d8548b2c8861c0d909c1c029aee026643de61
        }
      ],
      "source": [
        "data = pd.read_csv(r'/content/drive/MyDrive/denc_Neutrino')\n",
        "# data['in_halo'] = (data['haloID']>0).astype('int')\n",
        "data['in_halo'] = (data['halo_mass']>1600).astype('int32')\n",
        "data"
      ]
    },
    {
      "cell_type": "code",
<<<<<<< HEAD
      "execution_count": 27,
      "metadata": {
        "colab": {
          "base_uri": "https://localhost:8080/",
          "height": 0
        },
        "id": "5o6ASG2V-8kc",
        "outputId": "a1928bba-c98f-4849-e85a-6ec193f847f1"
      },
      "outputs": [
        {
          "output_type": "execute_result",
          "data": {
            "text/html": [
              "\n",
              "  <div id=\"df-a7e597fa-1509-4280-9e72-66138c8878ca\">\n",
=======
      "execution_count": null,
      "metadata": {
        "colab": {
          "base_uri": "https://localhost:8080/"
        },
        "id": "5o6ASG2V-8kc",
        "outputId": "732e8055-bc05-4c3e-9f38-88ec7c72cfb7"
      },
      "outputs": [
        {
          "data": {
            "text/html": [
              "\n",
              "  <div id=\"df-95071705-57f4-4a2b-897d-60dfed9a14b3\">\n",
>>>>>>> 0b2d8548b2c8861c0d909c1c029aee026643de61
              "    <div class=\"colab-df-container\">\n",
              "      <div>\n",
              "<style scoped>\n",
              "    .dataframe tbody tr th:only-of-type {\n",
              "        vertical-align: middle;\n",
              "    }\n",
              "\n",
              "    .dataframe tbody tr th {\n",
              "        vertical-align: top;\n",
              "    }\n",
              "\n",
              "    .dataframe thead th {\n",
              "        text-align: right;\n",
              "    }\n",
              "</style>\n",
              "<table border=\"1\" class=\"dataframe\">\n",
              "  <thead>\n",
              "    <tr style=\"text-align: right;\">\n",
              "      <th></th>\n",
              "      <th>id</th>\n",
              "      <th>haloID</th>\n",
              "      <th>halo_mass</th>\n",
              "      <th>vx</th>\n",
              "      <th>vy</th>\n",
              "      <th>vz</th>\n",
              "      <th>dc for 4.9</th>\n",
              "      <th>dc for 6.8</th>\n",
              "      <th>dc for 8.7</th>\n",
              "      <th>dc for 10.6</th>\n",
              "      <th>dc for 12.4</th>\n",
              "      <th>dc for 14.3</th>\n",
              "      <th>dc for 16.2</th>\n",
              "      <th>dc for 18.1</th>\n",
              "      <th>dc for 20.0</th>\n",
              "      <th>in_halo</th>\n",
              "    </tr>\n",
              "  </thead>\n",
              "  <tbody>\n",
              "    <tr>\n",
              "      <th>count</th>\n",
              "      <td>1.000000e+05</td>\n",
              "      <td>100000.000000</td>\n",
              "      <td>100000.000000</td>\n",
              "      <td>100000.000000</td>\n",
              "      <td>100000.000000</td>\n",
              "      <td>100000.000000</td>\n",
              "      <td>100000.000000</td>\n",
              "      <td>100000.000000</td>\n",
              "      <td>100000.000000</td>\n",
              "      <td>100000.000000</td>\n",
              "      <td>100000.000000</td>\n",
              "      <td>100000.000000</td>\n",
              "      <td>100000.000000</td>\n",
              "      <td>100000.000000</td>\n",
              "      <td>100000.000000</td>\n",
              "      <td>100000.000000</td>\n",
              "    </tr>\n",
              "    <tr>\n",
              "      <th>mean</th>\n",
              "      <td>8.716004e+06</td>\n",
              "      <td>424.627710</td>\n",
              "      <td>2369.299450</td>\n",
              "      <td>35.207601</td>\n",
              "      <td>-13.728656</td>\n",
              "      <td>97.821939</td>\n",
              "      <td>-0.107338</td>\n",
              "      <td>-0.062074</td>\n",
              "      <td>-0.038666</td>\n",
              "      <td>-0.025951</td>\n",
              "      <td>-0.017900</td>\n",
              "      <td>-0.011968</td>\n",
              "      <td>-0.007224</td>\n",
              "      <td>-0.003341</td>\n",
              "      <td>-0.000224</td>\n",
              "      <td>0.557930</td>\n",
              "    </tr>\n",
              "    <tr>\n",
              "      <th>std</th>\n",
              "      <td>3.549230e+06</td>\n",
              "      <td>230.962533</td>\n",
              "      <td>1856.527585</td>\n",
              "      <td>364.820655</td>\n",
              "      <td>369.919751</td>\n",
              "      <td>373.578625</td>\n",
              "      <td>0.020301</td>\n",
              "      <td>0.020965</td>\n",
              "      <td>0.019921</td>\n",
              "      <td>0.018106</td>\n",
              "      <td>0.015956</td>\n",
              "      <td>0.013969</td>\n",
              "      <td>0.012346</td>\n",
              "      <td>0.011069</td>\n",
              "      <td>0.010084</td>\n",
              "      <td>0.496635</td>\n",
              "    </tr>\n",
              "    <tr>\n",
              "      <th>min</th>\n",
              "      <td>2.131444e+06</td>\n",
              "      <td>16.000000</td>\n",
              "      <td>241.000000</td>\n",
              "      <td>-1247.932500</td>\n",
              "      <td>-1462.806300</td>\n",
              "      <td>-1250.519700</td>\n",
              "      <td>-0.127820</td>\n",
              "      <td>-0.099572</td>\n",
              "      <td>-0.083351</td>\n",
              "      <td>-0.072824</td>\n",
              "      <td>-0.065316</td>\n",
              "      <td>-0.058751</td>\n",
              "      <td>-0.050519</td>\n",
              "      <td>-0.043771</td>\n",
              "      <td>-0.038371</td>\n",
              "      <td>0.000000</td>\n",
              "    </tr>\n",
              "    <tr>\n",
              "      <th>25%</th>\n",
              "      <td>5.953820e+06</td>\n",
              "      <td>238.000000</td>\n",
              "      <td>1194.000000</td>\n",
              "      <td>-226.284345</td>\n",
              "      <td>-254.656135</td>\n",
              "      <td>-145.829085</td>\n",
              "      <td>-0.124202</td>\n",
              "      <td>-0.077891</td>\n",
              "      <td>-0.052474</td>\n",
              "      <td>-0.038510</td>\n",
              "      <td>-0.028860</td>\n",
              "      <td>-0.021233</td>\n",
              "      <td>-0.015384</td>\n",
              "      <td>-0.010712</td>\n",
              "      <td>-0.006964</td>\n",
              "      <td>0.000000</td>\n",
              "    </tr>\n",
              "    <tr>\n",
              "      <th>50%</th>\n",
              "      <td>9.043250e+06</td>\n",
              "      <td>418.000000</td>\n",
              "      <td>1791.000000</td>\n",
              "      <td>32.857450</td>\n",
              "      <td>-4.815737</td>\n",
              "      <td>101.883413</td>\n",
              "      <td>-0.113607</td>\n",
              "      <td>-0.063404</td>\n",
              "      <td>-0.039434</td>\n",
              "      <td>-0.026100</td>\n",
              "      <td>-0.017784</td>\n",
              "      <td>-0.011980</td>\n",
              "      <td>-0.007369</td>\n",
              "      <td>-0.003743</td>\n",
              "      <td>-0.000713</td>\n",
              "      <td>1.000000</td>\n",
              "    </tr>\n",
              "    <tr>\n",
              "      <th>75%</th>\n",
              "      <td>1.176120e+07</td>\n",
              "      <td>619.000000</td>\n",
              "      <td>2945.000000</td>\n",
              "      <td>284.168098</td>\n",
              "      <td>238.543252</td>\n",
              "      <td>350.062135</td>\n",
              "      <td>-0.095776</td>\n",
              "      <td>-0.048722</td>\n",
              "      <td>-0.025370</td>\n",
              "      <td>-0.013587</td>\n",
              "      <td>-0.006677</td>\n",
              "      <td>-0.002087</td>\n",
              "      <td>0.001081</td>\n",
              "      <td>0.004249</td>\n",
              "      <td>0.006694</td>\n",
              "      <td>1.000000</td>\n",
              "    </tr>\n",
              "    <tr>\n",
              "      <th>max</th>\n",
              "      <td>1.464652e+07</td>\n",
              "      <td>870.000000</td>\n",
              "      <td>10101.000000</td>\n",
              "      <td>1314.092800</td>\n",
              "      <td>1256.822900</td>\n",
              "      <td>1355.984900</td>\n",
              "      <td>0.017155</td>\n",
              "      <td>0.032463</td>\n",
              "      <td>0.044346</td>\n",
              "      <td>0.040490</td>\n",
              "      <td>0.042179</td>\n",
              "      <td>0.036009</td>\n",
              "      <td>0.033482</td>\n",
              "      <td>0.034145</td>\n",
              "      <td>0.032602</td>\n",
              "      <td>1.000000</td>\n",
              "    </tr>\n",
              "  </tbody>\n",
              "</table>\n",
              "</div>\n",
<<<<<<< HEAD
              "      <button class=\"colab-df-convert\" onclick=\"convertToInteractive('df-a7e597fa-1509-4280-9e72-66138c8878ca')\"\n",
=======
              "      <button class=\"colab-df-convert\" onclick=\"convertToInteractive('df-95071705-57f4-4a2b-897d-60dfed9a14b3')\"\n",
>>>>>>> 0b2d8548b2c8861c0d909c1c029aee026643de61
              "              title=\"Convert this dataframe to an interactive table.\"\n",
              "              style=\"display:none;\">\n",
              "        \n",
              "  <svg xmlns=\"http://www.w3.org/2000/svg\" height=\"24px\"viewBox=\"0 0 24 24\"\n",
              "       width=\"24px\">\n",
              "    <path d=\"M0 0h24v24H0V0z\" fill=\"none\"/>\n",
              "    <path d=\"M18.56 5.44l.94 2.06.94-2.06 2.06-.94-2.06-.94-.94-2.06-.94 2.06-2.06.94zm-11 1L8.5 8.5l.94-2.06 2.06-.94-2.06-.94L8.5 2.5l-.94 2.06-2.06.94zm10 10l.94 2.06.94-2.06 2.06-.94-2.06-.94-.94-2.06-.94 2.06-2.06.94z\"/><path d=\"M17.41 7.96l-1.37-1.37c-.4-.4-.92-.59-1.43-.59-.52 0-1.04.2-1.43.59L10.3 9.45l-7.72 7.72c-.78.78-.78 2.05 0 2.83L4 21.41c.39.39.9.59 1.41.59.51 0 1.02-.2 1.41-.59l7.78-7.78 2.81-2.81c.8-.78.8-2.07 0-2.86zM5.41 20L4 18.59l7.72-7.72 1.47 1.35L5.41 20z\"/>\n",
              "  </svg>\n",
              "      </button>\n",
              "      \n",
              "  <style>\n",
              "    .colab-df-container {\n",
              "      display:flex;\n",
              "      flex-wrap:wrap;\n",
              "      gap: 12px;\n",
              "    }\n",
              "\n",
              "    .colab-df-convert {\n",
              "      background-color: #E8F0FE;\n",
              "      border: none;\n",
              "      border-radius: 50%;\n",
              "      cursor: pointer;\n",
              "      display: none;\n",
              "      fill: #1967D2;\n",
              "      height: 32px;\n",
              "      padding: 0 0 0 0;\n",
              "      width: 32px;\n",
              "    }\n",
              "\n",
              "    .colab-df-convert:hover {\n",
              "      background-color: #E2EBFA;\n",
              "      box-shadow: 0px 1px 2px rgba(60, 64, 67, 0.3), 0px 1px 3px 1px rgba(60, 64, 67, 0.15);\n",
              "      fill: #174EA6;\n",
              "    }\n",
              "\n",
              "    [theme=dark] .colab-df-convert {\n",
              "      background-color: #3B4455;\n",
              "      fill: #D2E3FC;\n",
              "    }\n",
              "\n",
              "    [theme=dark] .colab-df-convert:hover {\n",
              "      background-color: #434B5C;\n",
              "      box-shadow: 0px 1px 3px 1px rgba(0, 0, 0, 0.15);\n",
              "      filter: drop-shadow(0px 1px 2px rgba(0, 0, 0, 0.3));\n",
              "      fill: #FFFFFF;\n",
              "    }\n",
              "  </style>\n",
              "\n",
              "      <script>\n",
              "        const buttonEl =\n",
<<<<<<< HEAD
              "          document.querySelector('#df-a7e597fa-1509-4280-9e72-66138c8878ca button.colab-df-convert');\n",
=======
              "          document.querySelector('#df-95071705-57f4-4a2b-897d-60dfed9a14b3 button.colab-df-convert');\n",
>>>>>>> 0b2d8548b2c8861c0d909c1c029aee026643de61
              "        buttonEl.style.display =\n",
              "          google.colab.kernel.accessAllowed ? 'block' : 'none';\n",
              "\n",
              "        async function convertToInteractive(key) {\n",
<<<<<<< HEAD
              "          const element = document.querySelector('#df-a7e597fa-1509-4280-9e72-66138c8878ca');\n",
=======
              "          const element = document.querySelector('#df-95071705-57f4-4a2b-897d-60dfed9a14b3');\n",
>>>>>>> 0b2d8548b2c8861c0d909c1c029aee026643de61
              "          const dataTable =\n",
              "            await google.colab.kernel.invokeFunction('convertToInteractive',\n",
              "                                                     [key], {});\n",
              "          if (!dataTable) return;\n",
              "\n",
              "          const docLinkHtml = 'Like what you see? Visit the ' +\n",
              "            '<a target=\"_blank\" href=https://colab.research.google.com/notebooks/data_table.ipynb>data table notebook</a>'\n",
              "            + ' to learn more about interactive tables.';\n",
              "          element.innerHTML = '';\n",
              "          dataTable['output_type'] = 'display_data';\n",
              "          await google.colab.output.renderOutput(dataTable, element);\n",
              "          const docLink = document.createElement('div');\n",
              "          docLink.innerHTML = docLinkHtml;\n",
              "          element.appendChild(docLink);\n",
              "        }\n",
              "      </script>\n",
              "    </div>\n",
              "  </div>\n",
              "  "
            ],
            "text/plain": [
              "                 id         haloID  ...    dc for 20.0        in_halo\n",
              "count  1.000000e+05  100000.000000  ...  100000.000000  100000.000000\n",
              "mean   8.716004e+06     424.627710  ...      -0.000224       0.557930\n",
              "std    3.549230e+06     230.962533  ...       0.010084       0.496635\n",
              "min    2.131444e+06      16.000000  ...      -0.038371       0.000000\n",
              "25%    5.953820e+06     238.000000  ...      -0.006964       0.000000\n",
              "50%    9.043250e+06     418.000000  ...      -0.000713       1.000000\n",
              "75%    1.176120e+07     619.000000  ...       0.006694       1.000000\n",
              "max    1.464652e+07     870.000000  ...       0.032602       1.000000\n",
              "\n",
              "[8 rows x 16 columns]"
            ]
          },
<<<<<<< HEAD
          "metadata": {},
          "execution_count": 27
=======
          "execution_count": 5,
          "metadata": {},
          "output_type": "execute_result"
>>>>>>> 0b2d8548b2c8861c0d909c1c029aee026643de61
        }
      ],
      "source": [
        "data.describe()"
      ]
    },
    {
      "cell_type": "markdown",
      "metadata": {
        "id": "oXABFDLNI2qo"
      },
      "source": [
        "### Gadget 2 Data / without Neutrino"
      ]
    },
    {
      "cell_type": "code",
<<<<<<< HEAD
      "execution_count": 28,
      "metadata": {
        "colab": {
          "base_uri": "https://localhost:8080/",
          "height": 0
        },
        "id": "a8TQpPtYI-oz",
        "outputId": "27cf9205-3cea-48be-da8a-c4d03884af6c"
      },
      "outputs": [
        {
          "output_type": "execute_result",
          "data": {
            "text/html": [
              "\n",
              "  <div id=\"df-c04e4f5a-d067-4d71-a42b-c28fe0fb80b2\">\n",
=======
      "execution_count": null,
      "metadata": {
        "colab": {
          "base_uri": "https://localhost:8080/"
        },
        "id": "a8TQpPtYI-oz",
        "outputId": "8b5ba81b-f7df-4f21-b4bd-6071fe278621"
      },
      "outputs": [
        {
          "data": {
            "text/html": [
              "\n",
              "  <div id=\"df-65088fec-89ce-4628-8b90-3480fb6943b9\">\n",
>>>>>>> 0b2d8548b2c8861c0d909c1c029aee026643de61
              "    <div class=\"colab-df-container\">\n",
              "      <div>\n",
              "<style scoped>\n",
              "    .dataframe tbody tr th:only-of-type {\n",
              "        vertical-align: middle;\n",
              "    }\n",
              "\n",
              "    .dataframe tbody tr th {\n",
              "        vertical-align: top;\n",
              "    }\n",
              "\n",
              "    .dataframe thead th {\n",
              "        text-align: right;\n",
              "    }\n",
              "</style>\n",
              "<table border=\"1\" class=\"dataframe\">\n",
              "  <thead>\n",
              "    <tr style=\"text-align: right;\">\n",
              "      <th></th>\n",
              "      <th>id</th>\n",
              "      <th>haloID</th>\n",
              "      <th>halo_mass</th>\n",
              "      <th>vx</th>\n",
              "      <th>vy</th>\n",
              "      <th>vz</th>\n",
              "      <th>dc for 4.9</th>\n",
              "      <th>dc for 6.8</th>\n",
              "      <th>dc for 8.7</th>\n",
              "      <th>dc for 10.6</th>\n",
              "      <th>dc for 12.4</th>\n",
              "      <th>dc for 14.3</th>\n",
              "      <th>dc for 16.2</th>\n",
              "      <th>dc for 18.1</th>\n",
              "      <th>dc for 20.0</th>\n",
              "      <th>in_halo</th>\n",
              "    </tr>\n",
              "  </thead>\n",
              "  <tbody>\n",
              "    <tr>\n",
              "      <th>0</th>\n",
              "      <td>8981131</td>\n",
              "      <td>414</td>\n",
              "      <td>1504.0</td>\n",
              "      <td>252.710050</td>\n",
              "      <td>-464.239500</td>\n",
              "      <td>509.94550</td>\n",
              "      <td>2.817576</td>\n",
              "      <td>2.780794</td>\n",
              "      <td>2.746420</td>\n",
              "      <td>2.446413</td>\n",
              "      <td>2.000415</td>\n",
              "      <td>1.533108</td>\n",
              "      <td>1.083378</td>\n",
              "      <td>0.691070</td>\n",
              "      <td>0.457584</td>\n",
              "      <td>0</td>\n",
              "    </tr>\n",
              "    <tr>\n",
              "      <th>1</th>\n",
              "      <td>9901676</td>\n",
              "      <td>1026</td>\n",
              "      <td>1013.0</td>\n",
              "      <td>-167.701370</td>\n",
              "      <td>499.161740</td>\n",
              "      <td>156.32635</td>\n",
              "      <td>2.690323</td>\n",
              "      <td>2.102417</td>\n",
              "      <td>1.805493</td>\n",
              "      <td>1.485764</td>\n",
              "      <td>1.267945</td>\n",
              "      <td>1.083753</td>\n",
              "      <td>0.849938</td>\n",
              "      <td>0.617267</td>\n",
              "      <td>0.431845</td>\n",
              "      <td>0</td>\n",
              "    </tr>\n",
              "    <tr>\n",
              "      <th>2</th>\n",
              "      <td>8288987</td>\n",
              "      <td>1079</td>\n",
              "      <td>727.0</td>\n",
              "      <td>46.129280</td>\n",
              "      <td>19.954561</td>\n",
              "      <td>164.61870</td>\n",
              "      <td>1.010590</td>\n",
              "      <td>0.821528</td>\n",
              "      <td>0.559744</td>\n",
              "      <td>0.220796</td>\n",
              "      <td>0.003400</td>\n",
              "      <td>-0.094805</td>\n",
              "      <td>-0.074599</td>\n",
              "      <td>0.003315</td>\n",
              "      <td>0.076079</td>\n",
              "      <td>0</td>\n",
              "    </tr>\n",
              "    <tr>\n",
              "      <th>3</th>\n",
              "      <td>4842631</td>\n",
              "      <td>675</td>\n",
              "      <td>1268.0</td>\n",
              "      <td>-234.629320</td>\n",
              "      <td>349.021400</td>\n",
              "      <td>-690.46674</td>\n",
              "      <td>1.889611</td>\n",
              "      <td>1.180236</td>\n",
              "      <td>0.495534</td>\n",
              "      <td>0.064434</td>\n",
              "      <td>-0.232441</td>\n",
              "      <td>-0.389582</td>\n",
              "      <td>-0.407908</td>\n",
              "      <td>-0.334146</td>\n",
              "      <td>-0.231578</td>\n",
              "      <td>0</td>\n",
              "    </tr>\n",
              "    <tr>\n",
              "      <th>4</th>\n",
              "      <td>12884124</td>\n",
              "      <td>437</td>\n",
              "      <td>6128.0</td>\n",
              "      <td>146.780670</td>\n",
              "      <td>-180.209270</td>\n",
              "      <td>-558.39777</td>\n",
              "      <td>2.676619</td>\n",
              "      <td>1.734870</td>\n",
              "      <td>0.906903</td>\n",
              "      <td>0.464721</td>\n",
              "      <td>0.187801</td>\n",
              "      <td>0.057663</td>\n",
              "      <td>0.029529</td>\n",
              "      <td>0.049055</td>\n",
              "      <td>0.101472</td>\n",
              "      <td>1</td>\n",
              "    </tr>\n",
              "    <tr>\n",
              "      <th>...</th>\n",
              "      <td>...</td>\n",
              "      <td>...</td>\n",
              "      <td>...</td>\n",
              "      <td>...</td>\n",
              "      <td>...</td>\n",
              "      <td>...</td>\n",
              "      <td>...</td>\n",
              "      <td>...</td>\n",
              "      <td>...</td>\n",
              "      <td>...</td>\n",
              "      <td>...</td>\n",
              "      <td>...</td>\n",
              "      <td>...</td>\n",
              "      <td>...</td>\n",
              "      <td>...</td>\n",
              "      <td>...</td>\n",
              "    </tr>\n",
              "    <tr>\n",
              "      <th>99995</th>\n",
              "      <td>12466311</td>\n",
              "      <td>1085</td>\n",
              "      <td>5542.0</td>\n",
              "      <td>25.253933</td>\n",
              "      <td>-580.586850</td>\n",
              "      <td>113.06337</td>\n",
              "      <td>1.482403</td>\n",
              "      <td>1.068278</td>\n",
              "      <td>0.857863</td>\n",
              "      <td>0.583947</td>\n",
              "      <td>0.327563</td>\n",
              "      <td>0.212553</td>\n",
              "      <td>0.139374</td>\n",
              "      <td>0.103515</td>\n",
              "      <td>0.090791</td>\n",
              "      <td>1</td>\n",
              "    </tr>\n",
              "    <tr>\n",
              "      <th>99996</th>\n",
              "      <td>11857185</td>\n",
              "      <td>491</td>\n",
              "      <td>691.0</td>\n",
              "      <td>-423.371550</td>\n",
              "      <td>138.109020</td>\n",
              "      <td>-300.80450</td>\n",
              "      <td>-0.209077</td>\n",
              "      <td>-0.534490</td>\n",
              "      <td>-0.724460</td>\n",
              "      <td>-0.749430</td>\n",
              "      <td>-0.743152</td>\n",
              "      <td>-0.663805</td>\n",
              "      <td>-0.511928</td>\n",
              "      <td>-0.347015</td>\n",
              "      <td>-0.253660</td>\n",
              "      <td>0</td>\n",
              "    </tr>\n",
              "    <tr>\n",
              "      <th>99997</th>\n",
              "      <td>9340191</td>\n",
              "      <td>947</td>\n",
              "      <td>868.0</td>\n",
              "      <td>225.385210</td>\n",
              "      <td>-9.085627</td>\n",
              "      <td>318.22006</td>\n",
              "      <td>1.086942</td>\n",
              "      <td>0.492283</td>\n",
              "      <td>0.114506</td>\n",
              "      <td>-0.050883</td>\n",
              "      <td>-0.161068</td>\n",
              "      <td>-0.168421</td>\n",
              "      <td>-0.159639</td>\n",
              "      <td>-0.175261</td>\n",
              "      <td>-0.202931</td>\n",
              "      <td>0</td>\n",
              "    </tr>\n",
              "    <tr>\n",
              "      <th>99998</th>\n",
              "      <td>13317963</td>\n",
              "      <td>1034</td>\n",
              "      <td>1175.0</td>\n",
              "      <td>-55.431606</td>\n",
              "      <td>16.332230</td>\n",
              "      <td>-898.90326</td>\n",
              "      <td>0.339088</td>\n",
              "      <td>-0.085185</td>\n",
              "      <td>-0.248881</td>\n",
              "      <td>-0.328230</td>\n",
              "      <td>-0.343797</td>\n",
              "      <td>-0.306353</td>\n",
              "      <td>-0.275684</td>\n",
              "      <td>-0.282089</td>\n",
              "      <td>-0.284524</td>\n",
              "      <td>0</td>\n",
              "    </tr>\n",
              "    <tr>\n",
              "      <th>99999</th>\n",
              "      <td>5325551</td>\n",
              "      <td>45</td>\n",
              "      <td>818.0</td>\n",
              "      <td>532.078060</td>\n",
              "      <td>372.133540</td>\n",
              "      <td>80.98245</td>\n",
              "      <td>0.448721</td>\n",
              "      <td>0.860566</td>\n",
              "      <td>0.864566</td>\n",
              "      <td>0.717441</td>\n",
              "      <td>0.626662</td>\n",
              "      <td>0.508189</td>\n",
              "      <td>0.307618</td>\n",
              "      <td>0.096964</td>\n",
              "      <td>-0.043834</td>\n",
              "      <td>0</td>\n",
              "    </tr>\n",
              "  </tbody>\n",
              "</table>\n",
              "<p>100000 rows × 16 columns</p>\n",
              "</div>\n",
<<<<<<< HEAD
              "      <button class=\"colab-df-convert\" onclick=\"convertToInteractive('df-c04e4f5a-d067-4d71-a42b-c28fe0fb80b2')\"\n",
=======
              "      <button class=\"colab-df-convert\" onclick=\"convertToInteractive('df-65088fec-89ce-4628-8b90-3480fb6943b9')\"\n",
>>>>>>> 0b2d8548b2c8861c0d909c1c029aee026643de61
              "              title=\"Convert this dataframe to an interactive table.\"\n",
              "              style=\"display:none;\">\n",
              "        \n",
              "  <svg xmlns=\"http://www.w3.org/2000/svg\" height=\"24px\"viewBox=\"0 0 24 24\"\n",
              "       width=\"24px\">\n",
              "    <path d=\"M0 0h24v24H0V0z\" fill=\"none\"/>\n",
              "    <path d=\"M18.56 5.44l.94 2.06.94-2.06 2.06-.94-2.06-.94-.94-2.06-.94 2.06-2.06.94zm-11 1L8.5 8.5l.94-2.06 2.06-.94-2.06-.94L8.5 2.5l-.94 2.06-2.06.94zm10 10l.94 2.06.94-2.06 2.06-.94-2.06-.94-.94-2.06-.94 2.06-2.06.94z\"/><path d=\"M17.41 7.96l-1.37-1.37c-.4-.4-.92-.59-1.43-.59-.52 0-1.04.2-1.43.59L10.3 9.45l-7.72 7.72c-.78.78-.78 2.05 0 2.83L4 21.41c.39.39.9.59 1.41.59.51 0 1.02-.2 1.41-.59l7.78-7.78 2.81-2.81c.8-.78.8-2.07 0-2.86zM5.41 20L4 18.59l7.72-7.72 1.47 1.35L5.41 20z\"/>\n",
              "  </svg>\n",
              "      </button>\n",
              "      \n",
              "  <style>\n",
              "    .colab-df-container {\n",
              "      display:flex;\n",
              "      flex-wrap:wrap;\n",
              "      gap: 12px;\n",
              "    }\n",
              "\n",
              "    .colab-df-convert {\n",
              "      background-color: #E8F0FE;\n",
              "      border: none;\n",
              "      border-radius: 50%;\n",
              "      cursor: pointer;\n",
              "      display: none;\n",
              "      fill: #1967D2;\n",
              "      height: 32px;\n",
              "      padding: 0 0 0 0;\n",
              "      width: 32px;\n",
              "    }\n",
              "\n",
              "    .colab-df-convert:hover {\n",
              "      background-color: #E2EBFA;\n",
              "      box-shadow: 0px 1px 2px rgba(60, 64, 67, 0.3), 0px 1px 3px 1px rgba(60, 64, 67, 0.15);\n",
              "      fill: #174EA6;\n",
              "    }\n",
              "\n",
              "    [theme=dark] .colab-df-convert {\n",
              "      background-color: #3B4455;\n",
              "      fill: #D2E3FC;\n",
              "    }\n",
              "\n",
              "    [theme=dark] .colab-df-convert:hover {\n",
              "      background-color: #434B5C;\n",
              "      box-shadow: 0px 1px 3px 1px rgba(0, 0, 0, 0.15);\n",
              "      filter: drop-shadow(0px 1px 2px rgba(0, 0, 0, 0.3));\n",
              "      fill: #FFFFFF;\n",
              "    }\n",
              "  </style>\n",
              "\n",
              "      <script>\n",
              "        const buttonEl =\n",
<<<<<<< HEAD
              "          document.querySelector('#df-c04e4f5a-d067-4d71-a42b-c28fe0fb80b2 button.colab-df-convert');\n",
=======
              "          document.querySelector('#df-65088fec-89ce-4628-8b90-3480fb6943b9 button.colab-df-convert');\n",
>>>>>>> 0b2d8548b2c8861c0d909c1c029aee026643de61
              "        buttonEl.style.display =\n",
              "          google.colab.kernel.accessAllowed ? 'block' : 'none';\n",
              "\n",
              "        async function convertToInteractive(key) {\n",
<<<<<<< HEAD
              "          const element = document.querySelector('#df-c04e4f5a-d067-4d71-a42b-c28fe0fb80b2');\n",
=======
              "          const element = document.querySelector('#df-65088fec-89ce-4628-8b90-3480fb6943b9');\n",
>>>>>>> 0b2d8548b2c8861c0d909c1c029aee026643de61
              "          const dataTable =\n",
              "            await google.colab.kernel.invokeFunction('convertToInteractive',\n",
              "                                                     [key], {});\n",
              "          if (!dataTable) return;\n",
              "\n",
              "          const docLinkHtml = 'Like what you see? Visit the ' +\n",
              "            '<a target=\"_blank\" href=https://colab.research.google.com/notebooks/data_table.ipynb>data table notebook</a>'\n",
              "            + ' to learn more about interactive tables.';\n",
              "          element.innerHTML = '';\n",
              "          dataTable['output_type'] = 'display_data';\n",
              "          await google.colab.output.renderOutput(dataTable, element);\n",
              "          const docLink = document.createElement('div');\n",
              "          docLink.innerHTML = docLinkHtml;\n",
              "          element.appendChild(docLink);\n",
              "        }\n",
              "      </script>\n",
              "    </div>\n",
              "  </div>\n",
              "  "
            ],
            "text/plain": [
              "             id  haloID  halo_mass  ...  dc for 18.1  dc for 20.0  in_halo\n",
              "0       8981131     414     1504.0  ...     0.691070     0.457584        0\n",
              "1       9901676    1026     1013.0  ...     0.617267     0.431845        0\n",
              "2       8288987    1079      727.0  ...     0.003315     0.076079        0\n",
              "3       4842631     675     1268.0  ...    -0.334146    -0.231578        0\n",
              "4      12884124     437     6128.0  ...     0.049055     0.101472        1\n",
              "...         ...     ...        ...  ...          ...          ...      ...\n",
              "99995  12466311    1085     5542.0  ...     0.103515     0.090791        1\n",
              "99996  11857185     491      691.0  ...    -0.347015    -0.253660        0\n",
              "99997   9340191     947      868.0  ...    -0.175261    -0.202931        0\n",
              "99998  13317963    1034     1175.0  ...    -0.282089    -0.284524        0\n",
              "99999   5325551      45      818.0  ...     0.096964    -0.043834        0\n",
              "\n",
              "[100000 rows x 16 columns]"
            ]
          },
<<<<<<< HEAD
          "metadata": {},
          "execution_count": 28
=======
          "execution_count": 6,
          "metadata": {},
          "output_type": "execute_result"
>>>>>>> 0b2d8548b2c8861c0d909c1c029aee026643de61
        }
      ],
      "source": [
        "data_cdm = pd.read_csv(r'/content/drive/MyDrive/denc_CDM')\n",
        "data_cdm['in_halo'] = (data_cdm['halo_mass']>1600).astype('int32')\n",
        "data_cdm"
      ]
    },
    {
      "cell_type": "code",
<<<<<<< HEAD
      "execution_count": 29,
      "metadata": {
        "colab": {
          "base_uri": "https://localhost:8080/",
          "height": 0
        },
        "id": "6bMfGLnOAZV3",
        "outputId": "08e05e0c-f78a-4c5f-ad3b-d6f53ca29c1e"
      },
      "outputs": [
        {
          "output_type": "execute_result",
          "data": {
            "text/html": [
              "\n",
              "  <div id=\"df-eb40ddde-5334-49f4-8d38-6b8046794e6e\">\n",
=======
      "execution_count": null,
      "metadata": {
        "colab": {
          "base_uri": "https://localhost:8080/"
        },
        "id": "6bMfGLnOAZV3",
        "outputId": "6690b70f-f037-4dee-efeb-d0e38142dfd7"
      },
      "outputs": [
        {
          "data": {
            "text/html": [
              "\n",
              "  <div id=\"df-b6ae0984-9dbb-4855-bf5c-fe284165e6f3\">\n",
>>>>>>> 0b2d8548b2c8861c0d909c1c029aee026643de61
              "    <div class=\"colab-df-container\">\n",
              "      <div>\n",
              "<style scoped>\n",
              "    .dataframe tbody tr th:only-of-type {\n",
              "        vertical-align: middle;\n",
              "    }\n",
              "\n",
              "    .dataframe tbody tr th {\n",
              "        vertical-align: top;\n",
              "    }\n",
              "\n",
              "    .dataframe thead th {\n",
              "        text-align: right;\n",
              "    }\n",
              "</style>\n",
              "<table border=\"1\" class=\"dataframe\">\n",
              "  <thead>\n",
              "    <tr style=\"text-align: right;\">\n",
              "      <th></th>\n",
              "      <th>id</th>\n",
              "      <th>haloID</th>\n",
              "      <th>halo_mass</th>\n",
              "      <th>vx</th>\n",
              "      <th>vy</th>\n",
              "      <th>vz</th>\n",
              "      <th>dc for 4.9</th>\n",
              "      <th>dc for 6.8</th>\n",
              "      <th>dc for 8.7</th>\n",
              "      <th>dc for 10.6</th>\n",
              "      <th>dc for 12.4</th>\n",
              "      <th>dc for 14.3</th>\n",
              "      <th>dc for 16.2</th>\n",
              "      <th>dc for 18.1</th>\n",
              "      <th>dc for 20.0</th>\n",
              "      <th>in_halo</th>\n",
              "    </tr>\n",
              "  </thead>\n",
              "  <tbody>\n",
              "    <tr>\n",
              "      <th>count</th>\n",
              "      <td>1.000000e+05</td>\n",
              "      <td>100000.000000</td>\n",
              "      <td>100000.000000</td>\n",
              "      <td>100000.000000</td>\n",
              "      <td>100000.000000</td>\n",
              "      <td>100000.000000</td>\n",
              "      <td>100000.000000</td>\n",
              "      <td>100000.000000</td>\n",
              "      <td>100000.000000</td>\n",
              "      <td>100000.000000</td>\n",
              "      <td>100000.000000</td>\n",
              "      <td>100000.000000</td>\n",
              "      <td>100000.000000</td>\n",
              "      <td>100000.000000</td>\n",
              "      <td>100000.000000</td>\n",
              "      <td>100000.000000</td>\n",
              "    </tr>\n",
              "    <tr>\n",
              "      <th>mean</th>\n",
              "      <td>8.533738e+06</td>\n",
              "      <td>633.075900</td>\n",
              "      <td>3004.391080</td>\n",
              "      <td>32.287533</td>\n",
              "      <td>-13.697343</td>\n",
              "      <td>89.574071</td>\n",
              "      <td>1.423915</td>\n",
              "      <td>1.032233</td>\n",
              "      <td>0.712873</td>\n",
              "      <td>0.480862</td>\n",
              "      <td>0.322917</td>\n",
              "      <td>0.216223</td>\n",
              "      <td>0.144046</td>\n",
              "      <td>0.096634</td>\n",
              "      <td>0.066060</td>\n",
              "      <td>0.589200</td>\n",
              "    </tr>\n",
              "    <tr>\n",
              "      <th>std</th>\n",
              "      <td>3.598448e+06</td>\n",
              "      <td>358.496156</td>\n",
              "      <td>2802.876192</td>\n",
              "      <td>359.880883</td>\n",
              "      <td>364.383569</td>\n",
              "      <td>374.571567</td>\n",
              "      <td>1.023549</td>\n",
              "      <td>0.920945</td>\n",
              "      <td>0.807251</td>\n",
              "      <td>0.689640</td>\n",
              "      <td>0.585773</td>\n",
              "      <td>0.502089</td>\n",
              "      <td>0.436403</td>\n",
              "      <td>0.384151</td>\n",
              "      <td>0.341271</td>\n",
              "      <td>0.491981</td>\n",
              "    </tr>\n",
              "    <tr>\n",
              "      <th>min</th>\n",
              "      <td>2.131195e+06</td>\n",
              "      <td>3.000000</td>\n",
              "      <td>271.000000</td>\n",
              "      <td>-1234.874100</td>\n",
              "      <td>-1571.376600</td>\n",
              "      <td>-1311.024700</td>\n",
              "      <td>-0.994127</td>\n",
              "      <td>-0.912349</td>\n",
              "      <td>-0.878283</td>\n",
              "      <td>-0.891915</td>\n",
              "      <td>-0.933043</td>\n",
              "      <td>-0.935449</td>\n",
              "      <td>-0.868262</td>\n",
              "      <td>-0.815454</td>\n",
              "      <td>-0.787467</td>\n",
              "      <td>0.000000</td>\n",
              "    </tr>\n",
              "    <tr>\n",
              "      <th>25%</th>\n",
              "      <td>5.640789e+06</td>\n",
              "      <td>368.000000</td>\n",
              "      <td>1181.000000</td>\n",
              "      <td>-223.982345</td>\n",
              "      <td>-249.685410</td>\n",
              "      <td>-148.388917</td>\n",
              "      <td>0.660156</td>\n",
              "      <td>0.354545</td>\n",
              "      <td>0.122621</td>\n",
              "      <td>-0.026842</td>\n",
              "      <td>-0.107359</td>\n",
              "      <td>-0.161173</td>\n",
              "      <td>-0.183527</td>\n",
              "      <td>-0.186967</td>\n",
              "      <td>-0.181568</td>\n",
              "      <td>0.000000</td>\n",
              "    </tr>\n",
              "    <tr>\n",
              "      <th>50%</th>\n",
              "      <td>8.790886e+06</td>\n",
              "      <td>676.000000</td>\n",
              "      <td>2020.000000</td>\n",
              "      <td>28.124724</td>\n",
              "      <td>-4.978945</td>\n",
              "      <td>97.944227</td>\n",
              "      <td>1.269011</td>\n",
              "      <td>0.890765</td>\n",
              "      <td>0.589027</td>\n",
              "      <td>0.370513</td>\n",
              "      <td>0.223129</td>\n",
              "      <td>0.134561</td>\n",
              "      <td>0.074502</td>\n",
              "      <td>0.037988</td>\n",
              "      <td>0.011761</td>\n",
              "      <td>1.000000</td>\n",
              "    </tr>\n",
              "    <tr>\n",
              "      <th>75%</th>\n",
              "      <td>1.143724e+07</td>\n",
              "      <td>970.000000</td>\n",
              "      <td>3662.000000</td>\n",
              "      <td>277.156240</td>\n",
              "      <td>231.618633</td>\n",
              "      <td>341.305498</td>\n",
              "      <td>2.057976</td>\n",
              "      <td>1.549992</td>\n",
              "      <td>1.162333</td>\n",
              "      <td>0.872826</td>\n",
              "      <td>0.674880</td>\n",
              "      <td>0.526476</td>\n",
              "      <td>0.422276</td>\n",
              "      <td>0.353801</td>\n",
              "      <td>0.294427</td>\n",
              "      <td>1.000000</td>\n",
              "    </tr>\n",
              "    <tr>\n",
              "      <th>max</th>\n",
              "      <td>1.464654e+07</td>\n",
              "      <td>1251.000000</td>\n",
              "      <td>31252.000000</td>\n",
              "      <td>1362.093800</td>\n",
              "      <td>1185.835400</td>\n",
              "      <td>1349.211900</td>\n",
              "      <td>5.624963</td>\n",
              "      <td>4.721646</td>\n",
              "      <td>3.972765</td>\n",
              "      <td>3.400808</td>\n",
              "      <td>2.783131</td>\n",
              "      <td>2.163220</td>\n",
              "      <td>1.888203</td>\n",
              "      <td>1.618024</td>\n",
              "      <td>1.364662</td>\n",
              "      <td>1.000000</td>\n",
              "    </tr>\n",
              "  </tbody>\n",
              "</table>\n",
              "</div>\n",
<<<<<<< HEAD
              "      <button class=\"colab-df-convert\" onclick=\"convertToInteractive('df-eb40ddde-5334-49f4-8d38-6b8046794e6e')\"\n",
=======
              "      <button class=\"colab-df-convert\" onclick=\"convertToInteractive('df-b6ae0984-9dbb-4855-bf5c-fe284165e6f3')\"\n",
>>>>>>> 0b2d8548b2c8861c0d909c1c029aee026643de61
              "              title=\"Convert this dataframe to an interactive table.\"\n",
              "              style=\"display:none;\">\n",
              "        \n",
              "  <svg xmlns=\"http://www.w3.org/2000/svg\" height=\"24px\"viewBox=\"0 0 24 24\"\n",
              "       width=\"24px\">\n",
              "    <path d=\"M0 0h24v24H0V0z\" fill=\"none\"/>\n",
              "    <path d=\"M18.56 5.44l.94 2.06.94-2.06 2.06-.94-2.06-.94-.94-2.06-.94 2.06-2.06.94zm-11 1L8.5 8.5l.94-2.06 2.06-.94-2.06-.94L8.5 2.5l-.94 2.06-2.06.94zm10 10l.94 2.06.94-2.06 2.06-.94-2.06-.94-.94-2.06-.94 2.06-2.06.94z\"/><path d=\"M17.41 7.96l-1.37-1.37c-.4-.4-.92-.59-1.43-.59-.52 0-1.04.2-1.43.59L10.3 9.45l-7.72 7.72c-.78.78-.78 2.05 0 2.83L4 21.41c.39.39.9.59 1.41.59.51 0 1.02-.2 1.41-.59l7.78-7.78 2.81-2.81c.8-.78.8-2.07 0-2.86zM5.41 20L4 18.59l7.72-7.72 1.47 1.35L5.41 20z\"/>\n",
              "  </svg>\n",
              "      </button>\n",
              "      \n",
              "  <style>\n",
              "    .colab-df-container {\n",
              "      display:flex;\n",
              "      flex-wrap:wrap;\n",
              "      gap: 12px;\n",
              "    }\n",
              "\n",
              "    .colab-df-convert {\n",
              "      background-color: #E8F0FE;\n",
              "      border: none;\n",
              "      border-radius: 50%;\n",
              "      cursor: pointer;\n",
              "      display: none;\n",
              "      fill: #1967D2;\n",
              "      height: 32px;\n",
              "      padding: 0 0 0 0;\n",
              "      width: 32px;\n",
              "    }\n",
              "\n",
              "    .colab-df-convert:hover {\n",
              "      background-color: #E2EBFA;\n",
              "      box-shadow: 0px 1px 2px rgba(60, 64, 67, 0.3), 0px 1px 3px 1px rgba(60, 64, 67, 0.15);\n",
              "      fill: #174EA6;\n",
              "    }\n",
              "\n",
              "    [theme=dark] .colab-df-convert {\n",
              "      background-color: #3B4455;\n",
              "      fill: #D2E3FC;\n",
              "    }\n",
              "\n",
              "    [theme=dark] .colab-df-convert:hover {\n",
              "      background-color: #434B5C;\n",
              "      box-shadow: 0px 1px 3px 1px rgba(0, 0, 0, 0.15);\n",
              "      filter: drop-shadow(0px 1px 2px rgba(0, 0, 0, 0.3));\n",
              "      fill: #FFFFFF;\n",
              "    }\n",
              "  </style>\n",
              "\n",
              "      <script>\n",
              "        const buttonEl =\n",
<<<<<<< HEAD
              "          document.querySelector('#df-eb40ddde-5334-49f4-8d38-6b8046794e6e button.colab-df-convert');\n",
=======
              "          document.querySelector('#df-b6ae0984-9dbb-4855-bf5c-fe284165e6f3 button.colab-df-convert');\n",
>>>>>>> 0b2d8548b2c8861c0d909c1c029aee026643de61
              "        buttonEl.style.display =\n",
              "          google.colab.kernel.accessAllowed ? 'block' : 'none';\n",
              "\n",
              "        async function convertToInteractive(key) {\n",
<<<<<<< HEAD
              "          const element = document.querySelector('#df-eb40ddde-5334-49f4-8d38-6b8046794e6e');\n",
=======
              "          const element = document.querySelector('#df-b6ae0984-9dbb-4855-bf5c-fe284165e6f3');\n",
>>>>>>> 0b2d8548b2c8861c0d909c1c029aee026643de61
              "          const dataTable =\n",
              "            await google.colab.kernel.invokeFunction('convertToInteractive',\n",
              "                                                     [key], {});\n",
              "          if (!dataTable) return;\n",
              "\n",
              "          const docLinkHtml = 'Like what you see? Visit the ' +\n",
              "            '<a target=\"_blank\" href=https://colab.research.google.com/notebooks/data_table.ipynb>data table notebook</a>'\n",
              "            + ' to learn more about interactive tables.';\n",
              "          element.innerHTML = '';\n",
              "          dataTable['output_type'] = 'display_data';\n",
              "          await google.colab.output.renderOutput(dataTable, element);\n",
              "          const docLink = document.createElement('div');\n",
              "          docLink.innerHTML = docLinkHtml;\n",
              "          element.appendChild(docLink);\n",
              "        }\n",
              "      </script>\n",
              "    </div>\n",
              "  </div>\n",
              "  "
            ],
            "text/plain": [
              "                 id         haloID  ...    dc for 20.0        in_halo\n",
              "count  1.000000e+05  100000.000000  ...  100000.000000  100000.000000\n",
              "mean   8.533738e+06     633.075900  ...       0.066060       0.589200\n",
              "std    3.598448e+06     358.496156  ...       0.341271       0.491981\n",
              "min    2.131195e+06       3.000000  ...      -0.787467       0.000000\n",
              "25%    5.640789e+06     368.000000  ...      -0.181568       0.000000\n",
              "50%    8.790886e+06     676.000000  ...       0.011761       1.000000\n",
              "75%    1.143724e+07     970.000000  ...       0.294427       1.000000\n",
              "max    1.464654e+07    1251.000000  ...       1.364662       1.000000\n",
              "\n",
              "[8 rows x 16 columns]"
            ]
          },
<<<<<<< HEAD
          "metadata": {},
          "execution_count": 29
=======
          "execution_count": 7,
          "metadata": {},
          "output_type": "execute_result"
>>>>>>> 0b2d8548b2c8861c0d909c1c029aee026643de61
        }
      ],
      "source": [
        "data_cdm.describe()"
      ]
    },
    {
      "cell_type": "markdown",
      "metadata": {
        "id": "T3j7w19QMtr6"
      },
      "source": [
        "## Define Datasets"
      ]
    },
    {
      "cell_type": "code",
<<<<<<< HEAD
      "execution_count": 30,
=======
      "execution_count": null,
>>>>>>> 0b2d8548b2c8861c0d909c1c029aee026643de61
      "metadata": {
        "id": "or4kY4WWMucw"
      },
      "outputs": [],
      "source": [
        "## Neutrino\n",
        "X = data.iloc[:,3:15].astype('float32').values\n",
        "Y = data.in_halo.astype('int32').values"
      ]
    },
    {
      "cell_type": "code",
<<<<<<< HEAD
      "execution_count": 31,
=======
      "execution_count": null,
>>>>>>> 0b2d8548b2c8861c0d909c1c029aee026643de61
      "metadata": {
        "id": "wZ-HpA6NM8Q2"
      },
      "outputs": [],
      "source": [
        "## CDM\n",
        "X2 = data_cdm.iloc[:,3:15].astype('float32').values\n",
        "Y2 = data_cdm.in_halo.astype('int32').values"
      ]
    },
    {
      "cell_type": "code",
<<<<<<< HEAD
      "execution_count": 32,
=======
      "execution_count": null,
>>>>>>> 0b2d8548b2c8861c0d909c1c029aee026643de61
      "metadata": {
        "id": "lXcWbPziPvLh"
      },
      "outputs": [],
      "source": [
        "## Scale / Neutrino\n",
        "X = (X - np.mean(X))/np.std(X)"
      ]
    },
    {
      "cell_type": "code",
<<<<<<< HEAD
      "execution_count": 33,
=======
      "execution_count": null,
>>>>>>> 0b2d8548b2c8861c0d909c1c029aee026643de61
      "metadata": {
        "id": "rWlWvyHiPwW2"
      },
      "outputs": [],
      "source": [
        "## Scale / CDM\n",
        "X2 = (X2 - np.mean(X2))/np.std(X2)"
      ]
    },
    {
      "cell_type": "code",
<<<<<<< HEAD
      "execution_count": 34,
=======
      "execution_count": null,
>>>>>>> 0b2d8548b2c8861c0d909c1c029aee026643de61
      "metadata": {
        "colab": {
          "base_uri": "https://localhost:8080/"
        },
        "id": "nwUV_V0rP2SM",
<<<<<<< HEAD
        "outputId": "26371fd7-c289-4c3e-82dc-b502745d892d"
      },
      "outputs": [
        {
          "output_type": "stream",
          "name": "stdout",
=======
        "outputId": "e4d4d940-a91a-4d06-b57a-3d9319e1c347"
      },
      "outputs": [
        {
          "name": "stdout",
          "output_type": "stream",
>>>>>>> 0b2d8548b2c8861c0d909c1c029aee026643de61
          "text": [
            "X_train : 80000    X_test : 20000\n"
          ]
        }
      ],
      "source": [
        "## Split into test and train / Neutrino\n",
        "\n",
        "tst_size = 0.2\n",
        "ns, nf = np.shape(X) \n",
        "X_train, X_test, Y_train, Y_test = train_test_split(*shuffle(X, Y, n_samples = ns, random_state=0) , random_state=0, test_size =tst_size )\n",
        "print('X_train :',len(X_train),'   X_test :',len(X_test))"
      ]
    },
    {
      "cell_type": "code",
<<<<<<< HEAD
      "execution_count": 35,
=======
      "execution_count": null,
>>>>>>> 0b2d8548b2c8861c0d909c1c029aee026643de61
      "metadata": {
        "colab": {
          "base_uri": "https://localhost:8080/"
        },
        "id": "9apbXZgBQBdC",
<<<<<<< HEAD
        "outputId": "36ee17bb-972c-47ca-9bdf-e5bd0e292d42"
      },
      "outputs": [
        {
          "output_type": "stream",
          "name": "stdout",
=======
        "outputId": "cd704e75-660e-4ade-a977-ea7f2455954e"
      },
      "outputs": [
        {
          "name": "stdout",
          "output_type": "stream",
>>>>>>> 0b2d8548b2c8861c0d909c1c029aee026643de61
          "text": [
            "X2_train : 80000    X2_test : 20000\n"
          ]
        }
      ],
      "source": [
        "## Split into test and train / CDM\n",
        "\n",
        "tst_size = 0.2\n",
        "ns, nf = np.shape(X) \n",
        "X2_train, X2_test, Y2_train, Y2_test = train_test_split(*shuffle(X, Y, n_samples = ns, random_state=0) , random_state=0, test_size =tst_size )\n",
        "print('X2_train :',len(X2_train),'   X2_test :',len(X2_test))"
      ]
    },
    {
      "cell_type": "code",
<<<<<<< HEAD
      "execution_count": 36,
=======
      "execution_count": null,
>>>>>>> 0b2d8548b2c8861c0d909c1c029aee026643de61
      "metadata": {
        "colab": {
          "base_uri": "https://localhost:8080/"
        },
        "id": "da58eyduR_5c",
<<<<<<< HEAD
        "outputId": "5441bc1e-1ab9-40eb-b063-dce036a10405"
      },
      "outputs": [
        {
          "output_type": "stream",
          "name": "stdout",
=======
        "outputId": "bb66b2f6-5301-4713-e5b5-0cb2c9a7e4b4"
      },
      "outputs": [
        {
          "name": "stdout",
          "output_type": "stream",
>>>>>>> 0b2d8548b2c8861c0d909c1c029aee026643de61
          "text": [
            "55.793 % of the stored data has class 1 \n"
          ]
        }
      ],
      "source": [
        "# Frequency of 1-class / Neutrino\n",
        "print(\"{} % of the stored data has class 1 \".format(100*Y.sum()/len(Y)))"
      ]
    },
    {
      "cell_type": "code",
<<<<<<< HEAD
      "execution_count": 37,
=======
      "execution_count": null,
>>>>>>> 0b2d8548b2c8861c0d909c1c029aee026643de61
      "metadata": {
        "colab": {
          "base_uri": "https://localhost:8080/"
        },
        "id": "cab_Ut9DApBC",
<<<<<<< HEAD
        "outputId": "60a7ef0b-6549-449a-b1eb-1dcc729a8370"
      },
      "outputs": [
        {
          "output_type": "stream",
          "name": "stdout",
=======
        "outputId": "9f7b7861-f1c8-40df-d76e-1f9d9069324a"
      },
      "outputs": [
        {
          "name": "stdout",
          "output_type": "stream",
>>>>>>> 0b2d8548b2c8861c0d909c1c029aee026643de61
          "text": [
            "58.92 % of the stored data has class 1 \n"
          ]
        }
      ],
      "source": [
        "# Frequency of 1-class / CDM\n",
        "print(\"{} % of the stored data has class 1 \".format(100*Y2.sum()/len(Y2)))"
      ]
    },
    {
      "cell_type": "markdown",
      "metadata": {
        "id": "As64UStyvixb"
      },
      "source": [
        "# SVM "
      ]
    },
    {
      "cell_type": "markdown",
      "metadata": {
        "id": "ew1ZoHKyvixc"
      },
      "source": [
        "Initialize and train svm model"
      ]
    },
    {
      "cell_type": "code",
      "execution_count": null,
      "metadata": {
<<<<<<< HEAD
        "id": "KC4q8yHIvixd"
      },
      "outputs": [],
      "source": [
        "svc = svm.SVC(kernel='rbf',C=.1)\n",
        "\n",
        "svc.fit(X_train, Y_train)\n",
        "Y_pred = svc.predict(X_test)"
      ]
    },
    {
      "cell_type": "code",
      "execution_count": null,
      "metadata": {
        "colab": {
          "base_uri": "https://localhost:8080/",
          "height": 625
        },
        "id": "B8PZgStO13gH",
        "outputId": "e2d4fa39-e76c-4062-c21d-0d5fcfbb0810"
      },
      "outputs": [
        {
          "data": {
            "image/png": "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\n",
            "text/plain": [
              "<Figure size 1440x720 with 2 Axes>"
            ]
          },
          "metadata": {},
          "output_type": "display_data"
        }
      ],
      "source": [
        "import matplotlib.pyplot as plt\n",
        "\n",
        "fig = plt.figure(figsize=(20,10))\n",
        "ax = fig.add_subplot(121 , xlabel = '$\\delta_{4.9}$', ylabel='$\\delta_{6.8}$' , title = 'Result of the Classification')\n",
        "\n",
        "ax.scatter(*X_test[:,6:8].T, c=Y_test)    \n",
        "\n",
        "ax = fig.add_subplot(122 , xlabel = '$\\delta_{4.9}$ ', ylabel='$\\delta_{6.8}$', title = 'Predicitions of the SVM classifier')\n",
        "plt.scatter(*X_test[:,6:8].T, c = Y_pred)\n",
        "plt.show()\n"
      ]
    },
    {
      "cell_type": "code",
      "execution_count": null,
      "metadata": {
        "colab": {
          "base_uri": "https://localhost:8080/"
        },
        "id": "XrEzFpnx2dbg",
        "outputId": "79e31c69-49a0-4d50-b7cb-663acc57ea57"
=======
        "colab": {
          "base_uri": "https://localhost:8080/"
        },
        "id": "KC4q8yHIvixd",
        "outputId": "d230cf71-a2fe-4a13-e5ad-71d76367af79"
>>>>>>> 0b2d8548b2c8861c0d909c1c029aee026643de61
      },
      "outputs": [
        {
          "name": "stdout",
          "output_type": "stream",
          "text": [
<<<<<<< HEAD
            "              precision    recall  f1-score   support\n",
            "\n",
            "           0       0.58      0.33      0.42      8852\n",
            "           1       0.60      0.81      0.69     11148\n",
            "\n",
            "    accuracy                           0.60     20000\n",
            "   macro avg       0.59      0.57      0.56     20000\n",
            "weighted avg       0.59      0.60      0.57     20000\n",
            "\n"
=======
            "Fitting 3 folds for each of 8 candidates, totalling 24 fits\n",
            "0.7163544464823675\n"
>>>>>>> 0b2d8548b2c8861c0d909c1c029aee026643de61
          ]
        }
      ],
      "source": [
<<<<<<< HEAD
        "from sklearn.metrics import classification_report\n",
        "print(classification_report(Y_test, Y_pred))"
      ]
    },
    {
      "cell_type": "markdown",
      "metadata": {
        "id": "YVW7wtDr2ebW"
      },
      "source": [
        "### Fine Tunning The Hyperparameter"
=======
        "# from sklearn.model_selection import cross_val_score\n",
        "from sklearn.model_selection import GridSearchCV\n",
        "import time\n",
        "\n",
        "svc = svm.SVC()\n",
        "tst_size = 0.2\n",
        "ns, nf = np.shape(X) \n",
        "# split data to train and test \n",
        "X_train, X_test, Y_train, Y_test = train_test_split(*shuffle(X, Y, n_samples = ns, random_state=0) , random_state=0, test_size =tst_size )\n",
        "# cross validation\n",
        "# scores = cross_val_score(svc, X_train, Y_train, cv=5 ,scoring= 'f1')\n",
        "cv = 3\n",
        "scoring = 'f1'\n",
        "param_grid = {'C': [0.1, 100],  \n",
        "                'gamma': [1, 0.001], \n",
        "                'kernel': ['rbf', 'sigmoid']}\n",
        "# evaluate hyper-parameters \n",
        "clf = GridSearchCV(svc, param_grid, scoring = scoring, cv = cv ,verbose = 1, n_jobs=-1, return_train_score=1)\n",
        "# train model\n",
        "start_train = time.time()\n",
        "trained_model = clf.fit(X_train, Y_train)\n",
        "runtime_train = start_train - time.time()\n",
        "# predict data\n",
        "start_pred = time.time()\n",
        "Y_pred = trained_model.predict(X_test)\n",
        "runtime_pred = start_pred - time.time()\n",
        "# scores = cross_val_score(clf.best_estimator_, X_train, Y_train, cv=5 ,scoring= 'accuracy')\n",
        "# print(scores)\n",
        "print(clf.best_score_)\n",
        "\n",
        "## runtime order = 3 hr"
>>>>>>> 0b2d8548b2c8861c0d909c1c029aee026643de61
      ]
    },
    {
      "cell_type": "code",
      "execution_count": null,
      "metadata": {
<<<<<<< HEAD
        "id": "VM1z3S_qy34f"
      },
      "outputs": [],
      "source": [
        "from sklearn.model_selection import RandomizedSearchCV\n",
        "param_grid = {'C': [0.1,1,.01],  \n",
        "                'gamma': [0.001,.1,.01,1], \n",
        "                'kernel': ['rbf', 'sigmoid']}"
      ]
    },
    {
      "cell_type": "code",
      "execution_count": null,
      "metadata": {
        "id": "aIaV2wia246_"
      },
      "outputs": [],
      "source": [
        "# Random search of parameters, using 2 fold cross validation, \n",
        "# search across 6 different combinations, and use all available cores\n",
        "print('start')\n",
        "svc= svm.SVC()\n",
        "svc_random = RandomizedSearchCV(estimator = svc, param_distributions = param_grid, n_iter =6, cv = 2, verbose=2, random_state=42, n_jobs = -1, refit=True)\n",
        "# Fit the random search model\n",
        "svc_random.fit(X2_train, Y2_train)\n",
        "\n",
        "print(svc_random.best_params_)"
=======
        "id": "70AA04UpRV4Z"
      },
      "outputs": [],
      "source": [
        "import pickle\n",
        "\n",
        "# save the model to disk\n",
        "filename = 'drive/MyDrive/svm_model.sav'\n",
        "pickle.dump(trained_model, open(filename, 'wb'))\n",
        "# load the model from disk\n",
        "# loaded_model = pickle.load(open(filename, 'rb'))\n",
        "# result = loaded_model.score(X_test, Y_test)\n",
        "# print(result)"
      ]
    },
    {
      "cell_type": "markdown",
      "metadata": {
        "id": "VgbAjfqAvixe"
      },
      "source": [
        "### Classification Report\n",
        "Print some information about the trained model such as training time, ... "
>>>>>>> 0b2d8548b2c8861c0d909c1c029aee026643de61
      ]
    },
    {
      "cell_type": "code",
      "execution_count": null,
      "metadata": {
        "colab": {
          "base_uri": "https://localhost:8080/"
        },
<<<<<<< HEAD
        "id": "sB27yewKzsKd",
        "outputId": "998450e4-57fd-448a-cade-2e654b8ba811"
=======
        "id": "oHmU_txHvixe",
        "outputId": "e608f66a-ecb0-4272-9ff3-0422a020e89e"
>>>>>>> 0b2d8548b2c8861c0d909c1c029aee026643de61
      },
      "outputs": [
        {
          "name": "stdout",
          "output_type": "stream",
          "text": [
<<<<<<< HEAD
            "{'kernel': 'rbf', 'gamma': 0.1, 'C': 0.01}\n"
=======
            "Best parameters set found on development set:\n",
            "{'C': 0.1, 'gamma': 0.001, 'kernel': 'rbf'}\n",
            "\n",
            "0.7163544464823675\n",
            "-----------------\n",
            "\n",
            "classification report: \n",
            "\n",
            "              precision    recall  f1-score   support\n",
            "\n",
            "           0       0.00      0.00      0.00      8852\n",
            "           1       0.56      1.00      0.72     11148\n",
            "\n",
            "    accuracy                           0.56     20000\n",
            "   macro avg       0.28      0.50      0.36     20000\n",
            "weighted avg       0.31      0.56      0.40     20000\n",
            "\n"
          ]
        },
        {
          "name": "stderr",
          "output_type": "stream",
          "text": [
            "/usr/local/lib/python3.7/dist-packages/sklearn/metrics/_classification.py:1318: UndefinedMetricWarning: Precision and F-score are ill-defined and being set to 0.0 in labels with no predicted samples. Use `zero_division` parameter to control this behavior.\n",
            "  _warn_prf(average, modifier, msg_start, len(result))\n",
            "/usr/local/lib/python3.7/dist-packages/sklearn/metrics/_classification.py:1318: UndefinedMetricWarning: Precision and F-score are ill-defined and being set to 0.0 in labels with no predicted samples. Use `zero_division` parameter to control this behavior.\n",
            "  _warn_prf(average, modifier, msg_start, len(result))\n",
            "/usr/local/lib/python3.7/dist-packages/sklearn/metrics/_classification.py:1318: UndefinedMetricWarning: Precision and F-score are ill-defined and being set to 0.0 in labels with no predicted samples. Use `zero_division` parameter to control this behavior.\n",
            "  _warn_prf(average, modifier, msg_start, len(result))\n"
          ]
        },
        {
          "name": "stdout",
          "output_type": "stream",
          "text": [
            "Training Time was: -11914.655703306198\n",
            "Prediction Time was: -99.0941174030304\n"
>>>>>>> 0b2d8548b2c8861c0d909c1c029aee026643de61
          ]
        }
      ],
      "source": [
<<<<<<< HEAD
        "print(svc_random.best_params_)"
      ]
    },
    {
      "cell_type": "code",
      "execution_count": null,
      "metadata": {
        "id": "70AA04UpRV4Z"
      },
      "outputs": [],
      "source": [
        "import pickle\n",
        "\n",
        "# save the model to disk\n",
        "\n",
        "filename = 'drive/MyDrive/svm_model.sav'\n",
        "# pickle.dump(trained_model, open(filename, 'wb'))\n",
        "\n",
        "# load the model from disk\n",
        "\n",
        "clf_load = pickle.load(open(filename, 'rb'))\n"
      ]
    },
    {
      "cell_type": "markdown",
      "metadata": {
        "id": "VgbAjfqAvixe"
      },
      "source": [
        "### Classification Report\n",
        "Print some information about the trained model such as training time, ... "
      ]
    },
    {
      "cell_type": "code",
      "execution_count": null,
      "metadata": {
        "id": "oHmU_txHvixe"
      },
      "outputs": [],
      "source": [
=======
        "print(\"Best parameters set found on development set:\")\n",
        "print(trained_model.best_params_)\n",
        "print()\n",
        "# print(sorted(trained_model.cv_results_.keys()))\n",
        "print(trained_model.best_score_)\n",
        "# print(trained_model.cv_results_.mean_fit)\n",
        "\n",
        "print('-----------------')\n",
        "# print(Y_pred)\n",
>>>>>>> 0b2d8548b2c8861c0d909c1c029aee026643de61
        "print('\\nclassification report: \\n')\n",
        "from sklearn.metrics import classification_report\n",
        "print(classification_report(Y_test, Y_pred))\n",
        "\n",
        "EM1 = scoring\n",
        "mean_test_scores = trained_model.cv_results_.get('mean_test_score')\n",
        "CVS1 = mean_test_scores[trained_model.best_index_]\n",
        "CPS1 = trained_model.score(X_test, Y_test)\n",
        "T1 = runtime_train\n",
        "PT1 = runtime_pred\n",
        "print( \"Training Time was: \" + str(T1))\n",
        "print(\"Prediction Time was: \" + str(PT1))"
      ]
    },
    {
      "cell_type": "markdown",
      "metadata": {
        "id": "rf8ukjsfvixf"
      },
      "source": [
        "### Confusion Matrix"
      ]
    },
    {
      "cell_type": "code",
      "execution_count": null,
      "metadata": {
        "colab": {
          "base_uri": "https://localhost:8080/",
          "height": 279
        },
        "id": "qNiOChmcvixf",
<<<<<<< HEAD
        "outputId": "4cf38cdf-54cf-445d-ee99-50cbad126e1a"
=======
        "outputId": "bd1acebf-f1ec-4fc9-91af-b992ac64d5d8"
>>>>>>> 0b2d8548b2c8861c0d909c1c029aee026643de61
      },
      "outputs": [
        {
          "data": {
            "image/png": "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\n",
            "text/plain": [
              "<Figure size 432x288 with 2 Axes>"
            ]
          },
          "metadata": {},
          "output_type": "display_data"
        }
      ],
      "source": [
        "from sklearn.metrics import ConfusionMatrixDisplay\n",
<<<<<<< HEAD
        "cm = confusion_matrix(Y_test, Y_pred, labels=trained_model.classes_)\n",
        "disp = ConfusionMatrixDisplay(confusion_matrix=cm, display_labels=trained_model.classes_)\n",
=======
        "cm = confusion_matrix(Y_test, Y_pred, labels=clf.classes_)\n",
        "disp = ConfusionMatrixDisplay(confusion_matrix=cm, display_labels=clf.classes_)\n",
>>>>>>> 0b2d8548b2c8861c0d909c1c029aee026643de61
        "disp.plot()\n",
        "plt.show()"
      ]
    },
    {
      "cell_type": "markdown",
      "metadata": {
        "id": "NkLTkX8zvixi"
      },
      "source": [
        "### Learning Curve\n"
      ]
    },
    {
      "cell_type": "code",
      "execution_count": null,
      "metadata": {
        "colab": {
          "base_uri": "https://localhost:8080/",
          "height": 625
        },
        "id": "xmA9wHBjvixj",
<<<<<<< HEAD
        "outputId": "05239bdb-c3e3-4e0c-fbc3-e020ce53d6dd"
=======
        "outputId": "d013d568-b484-47c3-c8cb-6610d38705a1"
>>>>>>> 0b2d8548b2c8861c0d909c1c029aee026643de61
      },
      "outputs": [
        {
          "data": {
<<<<<<< HEAD
            "image/png": "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\n",
=======
            "image/png": "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\n",
>>>>>>> 0b2d8548b2c8861c0d909c1c029aee026643de61
            "text/plain": [
              "<Figure size 432x288 with 1 Axes>"
            ]
          },
          "metadata": {},
          "output_type": "display_data"
        },
        {
          "name": "stdout",
          "output_type": "stream",
          "text": [
            "Training scores:\n",
            "\n",
<<<<<<< HEAD
            "            cv1       cv2       cv3       cv4       cv5\n",
            "100   0.857143  0.701299  0.701299  0.701299  0.701299\n",
            "500   0.745295  0.678996  0.678996  0.678996  0.678996\n",
            "1000  0.737374  0.698827  0.698827  0.698827  0.698827\n",
            "5000  0.721228  0.718442  0.718442  0.718442  0.718442\n",
            "6400  0.720384  0.719488  0.719488  0.719488  0.719488\n",
=======
            "            cv1       cv2       cv3\n",
            "100        NaN  0.770186  0.770186\n",
            "500   0.838560  0.719590  0.719590\n",
            "1000  0.781231  0.737975  0.737975\n",
            "5000  0.721555  0.715808  0.715808\n",
            "6400  0.721279  0.716277  0.716277\n",
>>>>>>> 0b2d8548b2c8861c0d909c1c029aee026643de61
            "\n",
            " ----------------------------------------------------------------------\n",
            "\n",
            "Validation scores:\n",
            "\n",
<<<<<<< HEAD
            "            cv1       cv2       cv3       cv4       cv5\n",
            "100   0.716262  0.716262  0.716262  0.716221  0.716221\n",
            "500   0.716262  0.716262  0.716262  0.716221  0.716221\n",
            "1000  0.716262  0.715920  0.716652  0.716625  0.715409\n",
            "5000  0.716262  0.716262  0.716262  0.716221  0.716221\n",
            "6400  0.716262  0.716262  0.716262  0.716221  0.716221\n"
=======
            "            cv1       cv2       cv3\n",
            "100        NaN  0.710096  0.710897\n",
            "500   0.716359  0.716359  0.716345\n",
            "1000  0.716359  0.716379  0.716455\n",
            "5000  0.716359  0.716359  0.716345\n",
            "6400  0.716359  0.716359  0.716345\n"
>>>>>>> 0b2d8548b2c8861c0d909c1c029aee026643de61
          ]
        }
      ],
      "source": [
        "ns = [100,500,1000,5000,6400]\n",
<<<<<<< HEAD
        "train_sizes, train_scores, valid_scores = learning_curve(trained_model, X, Y, train_sizes=ns, cv=cv, scoring= scoring, n_jobs = -1)\n",
=======
        "train_sizes, train_scores, valid_scores = learning_curve(trained_model, X_train, Y_train, train_sizes=ns, cv=cv, scoring= scoring, n_jobs = -1)\n",
>>>>>>> 0b2d8548b2c8861c0d909c1c029aee026643de61
        "\n",
        "train_scores_mean =  train_scores.mean(axis = 1)\n",
        "train_scores_std = np.std(train_scores, axis=1)\n",
        "validation_scores_mean =  valid_scores.mean(axis = 1)\n",
        "validation_scores_std  = valid_scores.std(axis = 1)\n",
        "\n",
        "xlabel = 'Sample Size'\n",
        "ylabel = scoring\n",
        "plt_title = 'Learning Curve'\n",
        "\n",
        "fig = plt.figure()\n",
        "ax = fig.add_subplot(111, xlabel=xlabel, ylabel=ylabel, title=plt_title)\n",
        "ax.plot(train_sizes, train_scores_mean, label = 'Training Score')\n",
        "ax.plot(train_sizes, validation_scores_mean, label = 'Validation Score')\n",
        "\n",
        "plt.fill_between(train_sizes, train_scores_mean - train_scores_std,\n",
        "                 train_scores_mean + train_scores_std, alpha=0.2,\n",
        "                 color=\"darkblue\", lw=2)\n",
        "plt.fill_between(train_sizes, validation_scores_mean - validation_scores_std,\n",
        "                 validation_scores_mean + validation_scores_std, alpha=0.2,\n",
        "                 color=\"darkgreen\", lw=2)\n",
        "\n",
        "plt.legend()\n",
        "# plt.yscale('log')\n",
        "plt.show()\n",
        "\n",
        "print('Training scores:\\n\\n', pd.DataFrame( train_scores, columns=[f'cv{i+1}' for i in range(cv)], index=ns) )\n",
        "print('\\n', '-' * 70) # separator to make the output easy to read\n",
        "print('\\nValidation scores:\\n\\n', pd.DataFrame(valid_scores, columns=[f'cv{i+1}' for i in range(cv)], index=ns) )"
      ]
    },
    {
<<<<<<< HEAD
      "cell_type": "code",
      "execution_count": null,
      "metadata": {
        "id": "Crxkx3uDDXW7"
      },
      "outputs": [],
      "source": [
        "X_train, X_test, Y_train, Y_test = train_test_split(*shuffle(X, Y, n_samples = 100000, random_state=0) , random_state=0, test_size =.09)"
      ]
    },
    {
=======
>>>>>>> 0b2d8548b2c8861c0d909c1c029aee026643de61
      "cell_type": "markdown",
      "metadata": {
        "id": "ptX4Ql42vixk"
      },
      "source": [
        "### Validation Curve\n"
      ]
    },
    {
      "cell_type": "code",
      "execution_count": null,
      "metadata": {
        "colab": {
<<<<<<< HEAD
          "base_uri": "https://localhost:8080/"
        },
        "id": "nxDGL2uDvixl",
        "outputId": "ff7bade1-295e-4921-8712-bc5e3636d717"
      },
      "outputs": [
        {
          "output_type": "stream",
          "name": "stderr",
          "text": [
            "[Parallel(n_jobs=-1)]: Using backend LokyBackend with 2 concurrent workers.\n"
          ]
        }
      ],
      "source": [
        "deg_list = [2,3,4]\n",
        "train_scores, valid_scores = validation_curve(SVC(kernel= 'poly'), X_train, Y_train, \n",
        "                                              param_name=\"degree\",\n",
        "                                              param_range=deg_list , \n",
=======
          "base_uri": "https://localhost:8080/",
          "height": 384
        },
        "id": "nxDGL2uDvixl",
        "outputId": "ddef0f00-7ba6-4335-c661-f57980815355"
      },
      "outputs": [
        {
          "name": "stderr",
          "output_type": "stream",
          "text": [
            "[Parallel(n_jobs=-1)]: Using backend LokyBackend with 2 concurrent workers.\n",
            "/usr/local/lib/python3.7/dist-packages/joblib/externals/loky/process_executor.py:705: UserWarning: A worker stopped while some jobs were given to the executor. This can be caused by a too short worker timeout or by a memory leak.\n",
            "  \"timeout or by a memory leak.\", UserWarning\n",
            "[Parallel(n_jobs=-1)]: Done   6 out of   6 | elapsed: 57.2min finished\n"
          ]
        },
        {
          "data": {
            "image/png": "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\n",
            "text/plain": [
              "<Figure size 432x288 with 1 Axes>"
            ]
          },
          "metadata": {},
          "output_type": "display_data"
        }
      ],
      "source": [
        "c_list = param_grid.get('C')\n",
        "train_scores, valid_scores = validation_curve(SVC(), X_train, Y_train, \n",
        "                                              param_name=\"gamma\",\n",
        "                                              param_range=c_list , \n",
>>>>>>> 0b2d8548b2c8861c0d909c1c029aee026643de61
        "                                              cv=cv, \n",
        "                                              scoring = scoring,\n",
        "                                              verbose=1, \n",
        "                                              n_jobs=-1\n",
        "                                             )\n",
        "train_scores_mean = np.mean(train_scores, axis=1)\n",
        "train_scores_std = np.std(train_scores, axis=1)\n",
        "valid_scores_mean = np.mean(valid_scores, axis=1)\n",
<<<<<<< HEAD
        "valid_scores_std = np.std(valid_scores, axis=1)\n"
      ]
    },
    {
      "cell_type": "code",
      "source": [
        "xlabel = 'polynomial degree'\n",
=======
        "valid_scores_std = np.std(valid_scores, axis=1)\n",
        "\n",
        "xlabel = 'gamma'\n",
>>>>>>> 0b2d8548b2c8861c0d909c1c029aee026643de61
        "ylabel = scoring\n",
        "plt_title = 'Validation Curve'\n",
        "\n",
        "fig = plt.figure()\n",
        "ax = fig.add_subplot(111, xlabel=xlabel, ylabel=ylabel, title=plt_title)\n",
        "plt.plot(c_list, train_scores_mean, label=\"Training score\",\n",
        "             color=\"darkorange\", lw=2)\n",
        "plt.fill_between(c_list, train_scores_mean - train_scores_std,\n",
        "                 train_scores_mean + train_scores_std, alpha=0.2,\n",
        "                 color=\"darkorange\", lw=2)\n",
        "plt.plot(c_list, valid_scores_mean, label=\"Validation score\",\n",
        "             color=\"navy\", lw=2)\n",
        "plt.fill_between(c_list, valid_scores_mean - valid_scores_std,\n",
        "                 valid_scores_mean + valid_scores_std, alpha=0.2,\n",
        "                 color=\"navy\", lw=2)\n",
        "plt.legend(loc=\"best\")\n",
        "plt.show()\n",
        "\n",
        "# print('Training scores:\\n\\n', pd.DataFrame( train_scores, columns=[f'cv{i+1}' for i in range(cv)], index=ns) )\n",
        "# print('\\n', '-' * 70) # separator to make the output easy to read\n",
        "# print('\\nValidation scores:\\n\\n', pd.DataFrame(valid_scores, columns=[f'cv{i+1}' for i in range(cv)], index=ns) )"
<<<<<<< HEAD
      ],
      "metadata": {
        "id": "mWiWh9h7g3Iq"
      },
      "execution_count": null,
      "outputs": []
    },
    {
      "cell_type": "markdown",
      "metadata": {
        "id": "7eFeiqX5sDx4"
      },
      "source": [
        "## Best Model"
      ]
    },
    {
      "cell_type": "code",
      "execution_count": null,
      "metadata": {
        "id": "RviXC1dxsDUC"
      },
      "outputs": [],
      "source": [
        "clf = svm.SVC(kernel='rbf', gamma=.1, C=.01)\n",
        "# train model\n",
        "start_train = time.time()\n",
        "trained_model = clf.fit(X_train, Y_train)\n",
        "runtime_train = start_train - time.time()\n",
        "# predict data\n",
        "start_pred = time.time()\n",
        "Y_pred = trained_model.predict(X_test)\n",
        "runtime_pred = start_pred - time.time()\n",
        "# scores = cross_val_score(clf.best_estimator_, X_train, Y_train, cv=5 ,scoring= 'accuracy')\n",
        "# print(scores)\n",
        "# print(clf.best_score_)"
      ]
    },
    {
      "cell_type": "code",
      "execution_count": null,
      "metadata": {
        "id": "_RaEo0NRazdl"
      },
      "outputs": [],
      "source": [
        "scoring = 'f1'\n",
        "cv =4"
=======
>>>>>>> 0b2d8548b2c8861c0d909c1c029aee026643de61
      ]
    },
    {
      "cell_type": "markdown",
      "metadata": {
        "id": "o6Lj00HDHQXP"
      },
      "source": [
        "# SVM / CDM"
      ]
    },
    {
      "cell_type": "code",
      "execution_count": null,
      "metadata": {
        "colab": {
<<<<<<< HEAD
          "background_save": true,
          "base_uri": "https://localhost:8080/"
        },
        "id": "1DyjH2u3G4DW",
        "outputId": "fb571afb-a3ed-4231-f462-f8d4bad49b41"
      },
      "outputs": [
        {
          "name": "stdout",
          "output_type": "stream",
          "text": [
            "Fitting 3 folds for each of 8 candidates, totalling 24 fits\n"
=======
          "base_uri": "https://localhost:8080/"
        },
        "id": "1DyjH2u3G4DW",
        "outputId": "7a23dc5c-3406-46f5-e233-78b462ed3947"
      },
      "outputs": [
        {
          "output_type": "stream",
          "name": "stdout",
          "text": [
            "Fitting 3 folds for each of 8 candidates, totalling 24 fits\n",
            "0.7163544464823675\n"
>>>>>>> 0b2d8548b2c8861c0d909c1c029aee026643de61
          ]
        }
      ],
      "source": [
        "# from sklearn.model_selection import cross_val_score\n",
        "from sklearn.model_selection import GridSearchCV\n",
        "import time\n",
        "\n",
        "svc = svm.SVC()\n",
        "ns, nf = np.shape(X2) \n",
        "\n",
        "# cross validation\n",
        "# scores = cross_val_score(svc, X2_train, Y2_train, cv=5 ,scoring= 'f1')\n",
        "cv = 3\n",
        "scoring = 'f1'\n",
        "param_grid = {'C': [0.1, 100],  \n",
        "                'gamma': [1, 0.001], \n",
        "                'kernel': ['rbf', 'sigmoid']}\n",
        "# evaluate hyper-parameters \n",
        "clf = GridSearchCV(svc, param_grid, scoring = scoring, cv = cv ,verbose = 1, n_jobs=-1, return_train_score=1)\n",
        "# train model\n",
        "start_train = time.time()\n",
        "trained_model = clf.fit(X2_train, Y2_train)\n",
        "runtime_train = start_train - time.time()\n",
        "# predict data\n",
        "start_pred = time.time()\n",
        "Y2_pred = trained_model.predict(X2_test)\n",
        "runtime_pred = start_pred - time.time()\n",
        "# scores = cross_val_score(clf.best_estimator_, X2_train, Y2_train, cv=5 ,scoring= 'accuracy')\n",
        "# print(scores)\n",
        "print(clf.best_score_)"
      ]
    },
    {
      "cell_type": "code",
      "execution_count": null,
      "metadata": {
        "id": "p4_RPsbXG4DW"
      },
      "outputs": [],
      "source": [
        "import pickle\n",
        "\n",
        "# save the model to disk\n",
        "filename = 'drive/MyDrive/svm_model_cdm.sav'\n",
        "pickle.dump(trained_model, open(filename, 'wb'))\n",
        "# load the model from disk\n",
        "# loaded_model = pickle.load(open(filename, 'rb'))\n",
        "# result = loaded_model.score(X2_test, Y2_test)\n",
        "# print(result)"
      ]
    },
    {
      "cell_type": "markdown",
      "metadata": {
        "id": "BmcQb0QkG4DW"
      },
      "source": [
        "### Classification Report\n",
        "Print some information about the trained model such as training time, ... "
      ]
    },
    {
      "cell_type": "code",
      "execution_count": null,
      "metadata": {
<<<<<<< HEAD
        "id": "Se6FwO4kG4DX"
      },
      "outputs": [],
      "source": [
        "print(\"Best parameters set found on development set:\")\n",
        "print(trained_model.best_params_)\n",
        "# print()\n",
        "# # print(sorted(trained_model.cv_results_.keys()))\n",
        "print(trained_model.best_score_)\n",
=======
        "colab": {
          "base_uri": "https://localhost:8080/"
        },
        "id": "Se6FwO4kG4DX",
        "outputId": "581b74f6-ea46-4e45-c8d5-4f4128545d25"
      },
      "outputs": [
        {
          "output_type": "stream",
          "name": "stdout",
          "text": [
            "-----------------\n",
            "\n",
            "classification report: \n",
            "\n",
            "              precision    recall  f1-score   support\n",
            "\n",
            "           0       0.00      0.00      0.00      8852\n",
            "           1       0.56      1.00      0.72     11148\n",
            "\n",
            "    accuracy                           0.56     20000\n",
            "   macro avg       0.28      0.50      0.36     20000\n",
            "weighted avg       0.31      0.56      0.40     20000\n",
            "\n"
          ]
        },
        {
          "output_type": "stream",
          "name": "stderr",
          "text": [
            "/usr/local/lib/python3.7/dist-packages/sklearn/metrics/_classification.py:1318: UndefinedMetricWarning: Precision and F-score are ill-defined and being set to 0.0 in labels with no predicted samples. Use `zero_division` parameter to control this behavior.\n",
            "  _warn_prf(average, modifier, msg_start, len(result))\n",
            "/usr/local/lib/python3.7/dist-packages/sklearn/metrics/_classification.py:1318: UndefinedMetricWarning: Precision and F-score are ill-defined and being set to 0.0 in labels with no predicted samples. Use `zero_division` parameter to control this behavior.\n",
            "  _warn_prf(average, modifier, msg_start, len(result))\n",
            "/usr/local/lib/python3.7/dist-packages/sklearn/metrics/_classification.py:1318: UndefinedMetricWarning: Precision and F-score are ill-defined and being set to 0.0 in labels with no predicted samples. Use `zero_division` parameter to control this behavior.\n",
            "  _warn_prf(average, modifier, msg_start, len(result))\n"
          ]
        },
        {
          "output_type": "stream",
          "name": "stdout",
          "text": [
            "Training Time was: -12365.784283876419\n",
            "Prediction Time was: -101.73333072662354\n"
          ]
        }
      ],
      "source": [
        "# print(\"Best parameters set found on development set:\")\n",
        "# print(trained_model.best_params_)\n",
        "# print()\n",
        "# # print(sorted(trained_model.cv_results_.keys()))\n",
        "# print(trained_model.best_score_)\n",
>>>>>>> 0b2d8548b2c8861c0d909c1c029aee026643de61
        "# print(trained_model.cv_results_.mean_fit)\n",
        "\n",
        "print('-----------------')\n",
        "# print(Y_pred)\n",
        "print('\\nclassification report: \\n')\n",
        "from sklearn.metrics import classification_report\n",
        "print(classification_report(Y2_test, Y2_pred))\n",
        "\n",
        "EM2 = scoring\n",
        "mean_test_scores = trained_model.cv_results_.get('mean_test_score')\n",
        "CVS2 = mean_test_scores[trained_model.best_index_]\n",
        "CPS2 = trained_model.score(X2_test, Y2_test)\n",
<<<<<<< HEAD
        "T2 = runtime_train2\n",
        "PT2 = runtime_pred2\n",
=======
        "T2 = runtime_train\n",
        "PT2 = runtime_pred\n",
>>>>>>> 0b2d8548b2c8861c0d909c1c029aee026643de61
        "print( \"Training Time was: \" + str(T2))\n",
        "print(\"Prediction Time was: \" + str(PT2))"
      ]
    },
    {
      "cell_type": "markdown",
      "metadata": {
        "id": "YbJKoKm3G4DX"
      },
      "source": [
        "### Confusion Matrix"
      ]
    },
    {
      "cell_type": "code",
      "execution_count": null,
      "metadata": {
<<<<<<< HEAD
=======
        "id": "0THF2qMcG4DX",
>>>>>>> 0b2d8548b2c8861c0d909c1c029aee026643de61
        "colab": {
          "base_uri": "https://localhost:8080/",
          "height": 279
        },
<<<<<<< HEAD
        "id": "0THF2qMcG4DX",
=======
>>>>>>> 0b2d8548b2c8861c0d909c1c029aee026643de61
        "outputId": "6c591bce-80ca-4302-dafe-56ff99302e3a"
      },
      "outputs": [
        {
<<<<<<< HEAD
=======
          "output_type": "display_data",
>>>>>>> 0b2d8548b2c8861c0d909c1c029aee026643de61
          "data": {
            "image/png": "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\n",
            "text/plain": [
              "<Figure size 432x288 with 2 Axes>"
            ]
          },
<<<<<<< HEAD
          "metadata": {},
          "output_type": "display_data"
=======
          "metadata": {
            "needs_background": "light"
          }
>>>>>>> 0b2d8548b2c8861c0d909c1c029aee026643de61
        }
      ],
      "source": [
        "from sklearn.metrics import ConfusionMatrixDisplay\n",
        "cm = confusion_matrix(Y2_test, Y2_pred, labels=clf.classes_)\n",
        "disp = ConfusionMatrixDisplay(confusion_matrix=cm, display_labels=clf.classes_)\n",
        "disp.plot()\n",
        "plt.show()"
      ]
    },
    {
      "cell_type": "markdown",
      "metadata": {
        "id": "p-srW3NnG4DX"
      },
      "source": [
        "### Learning Curve\n"
      ]
    },
    {
      "cell_type": "code",
      "execution_count": null,
      "metadata": {
<<<<<<< HEAD
=======
        "id": "iXwW5omNG4DX",
>>>>>>> 0b2d8548b2c8861c0d909c1c029aee026643de61
        "colab": {
          "base_uri": "https://localhost:8080/",
          "height": 625
        },
<<<<<<< HEAD
        "id": "iXwW5omNG4DX",
=======
>>>>>>> 0b2d8548b2c8861c0d909c1c029aee026643de61
        "outputId": "3cdf0302-64f2-4fff-88a4-00e4e3923466"
      },
      "outputs": [
        {
<<<<<<< HEAD
=======
          "output_type": "display_data",
>>>>>>> 0b2d8548b2c8861c0d909c1c029aee026643de61
          "data": {
            "image/png": "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\n",
            "text/plain": [
              "<Figure size 432x288 with 1 Axes>"
            ]
          },
<<<<<<< HEAD
          "metadata": {},
          "output_type": "display_data"
        },
        {
          "name": "stdout",
          "output_type": "stream",
=======
          "metadata": {
            "needs_background": "light"
          }
        },
        {
          "output_type": "stream",
          "name": "stdout",
>>>>>>> 0b2d8548b2c8861c0d909c1c029aee026643de61
          "text": [
            "Training scores:\n",
            "\n",
            "            cv1       cv2       cv3\n",
            "100        NaN  0.726115  0.726115\n",
            "500   0.930481  0.762376  0.762376\n",
            "1000  0.836533  0.737374  0.737374\n",
            "5000  0.766041  0.748122  0.748122\n",
            "6400  0.760580  0.746573  0.746573\n",
            "\n",
            " ----------------------------------------------------------------------\n",
            "\n",
            "Validation scores:\n",
            "\n",
            "            cv1      cv2      cv3\n",
            "100        NaN  0.74151  0.74151\n",
            "500   0.741496  0.74151  0.74151\n",
            "1000  0.741496  0.74151  0.74151\n",
            "5000  0.741496  0.74151  0.74151\n",
            "6400  0.739505  0.74151  0.74151\n"
          ]
        }
      ],
      "source": [
        "ns = [100,500,1000,5000,6400]\n",
        "train_sizes, train_scores, valid_scores = learning_curve(trained_model, X2, Y2, train_sizes=ns, cv=cv, scoring= scoring, n_jobs = -1)\n",
        "\n",
        "train_scores_mean =  train_scores.mean(axis = 1)\n",
        "train_scores_std = np.std(train_scores, axis=1)\n",
        "validation_scores_mean =  valid_scores.mean(axis = 1)\n",
        "validation_scores_std  = valid_scores.std(axis = 1)\n",
        "\n",
        "xlabel = 'Sample Size'\n",
        "ylabel = scoring\n",
        "plt_title = 'Learning Curve'\n",
        "\n",
        "fig = plt.figure()\n",
        "ax = fig.add_subplot(111, xlabel=xlabel, ylabel=ylabel, title=plt_title)\n",
        "ax.plot(train_sizes, train_scores_mean, label = 'Training Score')\n",
        "ax.plot(train_sizes, validation_scores_mean, label = 'Validation Score')\n",
        "\n",
        "plt.fill_between(train_sizes, train_scores_mean - train_scores_std,\n",
        "                 train_scores_mean + train_scores_std, alpha=0.2,\n",
        "                 color=\"darkblue\", lw=2)\n",
        "plt.fill_between(train_sizes, validation_scores_mean - validation_scores_std,\n",
        "                 validation_scores_mean + validation_scores_std, alpha=0.2,\n",
        "                 color=\"darkgreen\", lw=2)\n",
        "\n",
        "plt.legend()\n",
        "# plt.yscale('log')\n",
        "plt.show()\n",
        "\n",
        "print('Training scores:\\n\\n', pd.DataFrame( train_scores, columns=[f'cv{i+1}' for i in range(cv)], index=ns) )\n",
        "print('\\n', '-' * 70) # separator to make the output easy to read\n",
        "print('\\nValidation scores:\\n\\n', pd.DataFrame(valid_scores, columns=[f'cv{i+1}' for i in range(cv)], index=ns) )"
      ]
    },
    {
<<<<<<< HEAD
      "cell_type": "code",
      "execution_count": null,
      "metadata": {
        "id": "wLXvWtPMDdIL"
      },
      "outputs": [],
      "source": [
        "X2_train, X2_test, Y2_train, Y2_test = train_test_split(*shuffle(X2, Y2, n_samples = 100000, random_state=0) , random_state=0, test_size =.09)"
      ]
    },
    {
=======
>>>>>>> 0b2d8548b2c8861c0d909c1c029aee026643de61
      "cell_type": "markdown",
      "metadata": {
        "id": "swAQIdwlG4DX"
      },
      "source": [
        "### Validation Curve\n"
      ]
    },
    {
      "cell_type": "code",
<<<<<<< HEAD
      "execution_count": null,
      "metadata": {
        "id": "TtrMkZm5GVnO"
      },
      "outputs": [],
      "source": [
        "param_grid = {'C': [0.1, 100],  \n",
        "                'gamma': [1, 0.001], \n",
        "                'kernel': ['rbf', 'sigmoid']}"
      ]
    },
    {
      "cell_type": "code",
      "execution_count": null,
      "metadata": {
        "colab": {
          "background_save": true,
          "base_uri": "https://localhost:8080/"
        },
        "id": "Lg9_CmThG4DX",
        "outputId": "d2238a0a-617c-41b3-e773-b2b9f1964778"
      },
      "outputs": [
        {
          "name": "stderr",
          "output_type": "stream",
          "text": [
            "[Parallel(n_jobs=-1)]: Using backend LokyBackend with 2 concurrent workers.\n",
            "[Parallel(n_jobs=-1)]: Done  10 out of  10 | elapsed: 141.2min finished\n"
          ]
        },
        {
          "data": {
            "image/png": "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\n",
=======
      "execution_count": 26,
      "metadata": {
        "id": "Lg9_CmThG4DX",
        "colab": {
          "base_uri": "https://localhost:8080/",
          "height": 384
        },
        "outputId": "77b9caef-bec2-43dd-805f-fea111a676c7"
      },
      "outputs": [
        {
          "output_type": "stream",
          "name": "stderr",
          "text": [
            "[Parallel(n_jobs=-1)]: Using backend LokyBackend with 2 concurrent workers.\n",
            "/usr/local/lib/python3.7/dist-packages/joblib/externals/loky/process_executor.py:705: UserWarning: A worker stopped while some jobs were given to the executor. This can be caused by a too short worker timeout or by a memory leak.\n",
            "  \"timeout or by a memory leak.\", UserWarning\n",
            "[Parallel(n_jobs=-1)]: Done   6 out of   6 | elapsed: 56.6min finished\n"
          ]
        },
        {
          "output_type": "display_data",
          "data": {
            "image/png": "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\n",
>>>>>>> 0b2d8548b2c8861c0d909c1c029aee026643de61
            "text/plain": [
              "<Figure size 432x288 with 1 Axes>"
            ]
          },
<<<<<<< HEAD
          "metadata": {},
          "output_type": "display_data"
=======
          "metadata": {
            "needs_background": "light"
          }
>>>>>>> 0b2d8548b2c8861c0d909c1c029aee026643de61
        }
      ],
      "source": [
        "c_list = param_grid.get('C')\n",
        "train_scores, valid_scores = validation_curve(SVC(), X2_train, Y2_train, \n",
        "                                              param_name=\"gamma\",\n",
        "                                              param_range=c_list , \n",
        "                                              cv=cv, \n",
        "                                              scoring = scoring,\n",
        "                                              verbose=1, \n",
        "                                              n_jobs=-1\n",
        "                                             )\n",
        "train_scores_mean = np.mean(train_scores, axis=1)\n",
        "train_scores_std = np.std(train_scores, axis=1)\n",
        "valid_scores_mean = np.mean(valid_scores, axis=1)\n",
        "valid_scores_std = np.std(valid_scores, axis=1)\n",
        "\n",
        "xlabel = 'gamma'\n",
        "ylabel = scoring\n",
        "plt_title = 'Validation Curve'\n",
        "\n",
        "fig = plt.figure()\n",
        "ax = fig.add_subplot(111, xlabel=xlabel, ylabel=ylabel, title=plt_title)\n",
        "plt.plot(c_list, train_scores_mean, label=\"Training score\",\n",
        "             color=\"darkorange\", lw=2)\n",
        "plt.fill_between(c_list, train_scores_mean - train_scores_std,\n",
        "                 train_scores_mean + train_scores_std, alpha=0.2,\n",
        "                 color=\"darkorange\", lw=2)\n",
        "plt.plot(c_list, valid_scores_mean, label=\"Validation score\",\n",
        "             color=\"navy\", lw=2)\n",
        "plt.fill_between(c_list, valid_scores_mean - valid_scores_std,\n",
        "                 valid_scores_mean + valid_scores_std, alpha=0.2,\n",
        "                 color=\"navy\", lw=2)\n",
        "plt.legend(loc=\"best\")\n",
        "plt.show()\n",
        "\n",
        "# print('Training scores:\\n\\n', pd.DataFrame( train_scores, columns=[f'cv{i+1}' for i in range(cv)], index=ns) )\n",
        "# print('\\n', '-' * 70) # separator to make the output easy to read\n",
        "# print('\\nValidation scores:\\n\\n', pd.DataFrame(valid_scores, columns=[f'cv{i+1}' for i in range(cv)], index=ns) )"
      ]
    },
    {
      "cell_type": "markdown",
      "metadata": {
        "id": "2_QYvVbZvixn"
      },
      "source": [
        "# Comparing Models"
      ]
    },
    {
      "cell_type": "markdown",
      "metadata": {
        "id": "Ybi6kJ3Uvixo"
      },
      "source": [
        "A table is created to compare the five recently-traind models above. It includes evaluation metric(s), training time and prediction time of each models. Also, we sorted models based on their performance from different aspects. "
      ]
    },
    {
      "cell_type": "code",
      "execution_count": null,
      "metadata": {
        "id": "HEhpPmF_vixo"
      },
      "outputs": [],
      "source": [
        "table = pd.DataFrame({'Name':['Neutrino','CDM'],\n",
        "                        'Evaluation Metric(s)': [EM1, EM2],\n",
        "                        'Corresponding Validation Score': [CVS1, CVS2],\n",
        "                        'Corresponding Prediction Score':  [CPS1, CPS2],\n",
        "                        'Training Time': [T1, T2],\n",
        "                        'Prediction Time': [PT1, PT2]\n",
        "})\n",
        "\n",
        "print('Sort models based on their validation scores: \\n' + str(table.sort_values(by=['Corresponding Validation Score'], ascending= False).loc[:, ['Name', 'Corresponding Validation Score']]))\n",
        "print('\\nSort models based on their prediction scores: \\n' + str(table.sort_values(by=['Corresponding Prediction Score'], ascending= False).loc[:, ['Name', 'Corresponding Prediction Score']]))\n",
        "print('\\nSort models based on their training time: \\n' + str(table.sort_values(by=['Training Time'], ascending= True).loc[:, ['Name', 'Training Time']]))\n",
        "print('\\nSort models based on their prediction time: \\n' + str(table.sort_values(by=['Prediction Time'], ascending= True).loc[:, ['Name', 'Prediction Time']]))\n"
      ]
    }
  ],
  "metadata": {
    "colab": {
      "collapsed_sections": [],
      "name": "SVM_data2.ipynb",
      "provenance": [],
      "include_colab_link": true
    },
    "interpreter": {
      "hash": "fe5d99aa55929fe810a91df1bb66991ee2efa56184cda4e0a18aeeaadde96492"
    },
    "kernelspec": {
      "display_name": "Python 3.10.0 64-bit",
      "language": "python",
      "name": "python3"
    },
    "language_info": {
      "codemirror_mode": {
        "name": "ipython",
        "version": 3
      },
      "file_extension": ".py",
      "mimetype": "text/x-python",
      "name": "python",
      "nbconvert_exporter": "python",
      "pygments_lexer": "ipython3",
      "version": "3.10.0"
    }
  },
  "nbformat": 4,
  "nbformat_minor": 0
}