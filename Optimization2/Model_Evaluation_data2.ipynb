{
  "cells": [
    {
      "cell_type": "markdown",
      "metadata": {
        "id": "view-in-github",
        "colab_type": "text"
      },
      "source": [
        "<a href=\"https://colab.research.google.com/github/as2c/MLP---Cosmology/blob/main/Optimization2/Model_Evaluation_data2.ipynb\" target=\"_parent\"><img src=\"https://colab.research.google.com/assets/colab-badge.svg\" alt=\"Open In Colab\"/></a>"
      ]
    },
    {
      "cell_type": "markdown",
      "metadata": {
        "id": "jwLDDwkEvixQ"
      },
      "source": [
        "In this code, our objective is to train some classic models such as SVM, KNN, RandomForest, etc on our test data, and try to evaluate their efficiency by plotting confusion matrixes, learning curves, validation curves, and measuring the prediction time. "
      ]
    },
    {
      "cell_type": "markdown",
      "metadata": {
        "id": "3v_SxfiDvixY"
      },
      "source": [
        "# Import phase I data"
      ]
    },
    {
      "cell_type": "markdown",
      "metadata": {
        "id": "U4iafM7UvixV"
      },
      "source": [
        "Import required libraries"
      ]
    },
    {
      "cell_type": "code",
      "execution_count": 1,
      "metadata": {
        "colab": {
          "base_uri": "https://localhost:8080/"
        },
        "id": "Mx7soy-MvixW",
        "outputId": "b8f4a857-0ea2-4447-ed98-aa50b73f86e9"
      },
      "outputs": [
        {
          "output_type": "stream",
          "name": "stdout",
          "text": [
            "Created `%t` as an alias for `%timeit`.\n",
            "Created `%%t` as an alias for `%%timeit`.\n"
          ]
        }
      ],
      "source": [
        "import pandas as pd\n",
        "import numpy as np\n",
        "import matplotlib.pyplot as plt\n",
        "import matplotlib.cm as cm\n",
        "from sklearn.model_selection import learning_curve, validation_curve\n",
        "from sklearn.neighbors import KNeighborsClassifier\n",
        "from sklearn.preprocessing import PolynomialFeatures\n",
        "from sklearn.linear_model import LinearRegression\n",
        "from sklearn.pipeline import Pipeline\n",
        "from sklearn.utils import shuffle\n",
        "from sklearn.model_selection import train_test_split\n",
        "from sklearn.linear_model import RidgeClassifier\n",
        "from sklearn import svm\n",
        "from sklearn.svm import SVC\n",
        "from sklearn.metrics import confusion_matrix, plot_confusion_matrix\n",
        "import timeit\n",
        "import time\n",
        "%alias_magic t timeit\n",
        "# import warnings filter\n",
        "from warnings import simplefilter\n",
        "# ignore all future warnings\n",
        "simplefilter(action='ignore', category=FutureWarning)"
      ]
    },
    {
      "cell_type": "code",
      "execution_count": 2,
      "metadata": {
        "colab": {
          "base_uri": "https://localhost:8080/"
        },
        "id": "KkpZu5J4wA7g",
        "outputId": "23989385-2030-4136-d3a0-dd9ba468fc7a"
      },
      "outputs": [
        {
          "output_type": "stream",
          "name": "stdout",
          "text": [
            "Mounted at /content/drive\n"
          ]
        }
      ],
      "source": [
        "from google.colab import drive\n",
        "drive.mount('/content/drive')"
      ]
    },
    {
      "cell_type": "code",
      "execution_count": 3,
      "metadata": {
        "colab": {
          "base_uri": "https://localhost:8080/",
          "height": 206
        },
        "id": "KMXNEVc_vixY",
        "outputId": "c2fa7a83-30ed-45e1-ec70-96983c4c9a57"
      },
      "outputs": [
        {
          "output_type": "execute_result",
          "data": {
            "text/html": [
              "<div>\n",
              "<style scoped>\n",
              "    .dataframe tbody tr th:only-of-type {\n",
              "        vertical-align: middle;\n",
              "    }\n",
              "\n",
              "    .dataframe tbody tr th {\n",
              "        vertical-align: top;\n",
              "    }\n",
              "\n",
              "    .dataframe thead th {\n",
              "        text-align: right;\n",
              "    }\n",
              "</style>\n",
              "<table border=\"1\" class=\"dataframe\">\n",
              "  <thead>\n",
              "    <tr style=\"text-align: right;\">\n",
              "      <th></th>\n",
              "      <th>id</th>\n",
              "      <th>haloID</th>\n",
              "      <th>dc for 4.9</th>\n",
              "      <th>dc for 6.8</th>\n",
              "      <th>dc for 8.7</th>\n",
              "      <th>dc for 10.6</th>\n",
              "      <th>dc for 12.4</th>\n",
              "      <th>dc for 14.3</th>\n",
              "      <th>dc for 16.2</th>\n",
              "      <th>dc for 18.1</th>\n",
              "      <th>dc for 20.0</th>\n",
              "    </tr>\n",
              "  </thead>\n",
              "  <tbody>\n",
              "    <tr>\n",
              "      <th>0</th>\n",
              "      <td>12445545</td>\n",
              "      <td>460</td>\n",
              "      <td>-0.088540</td>\n",
              "      <td>-0.041625</td>\n",
              "      <td>-0.024765</td>\n",
              "      <td>-0.003293</td>\n",
              "      <td>0.001610</td>\n",
              "      <td>0.001286</td>\n",
              "      <td>0.002910</td>\n",
              "      <td>0.007345</td>\n",
              "      <td>0.010225</td>\n",
              "    </tr>\n",
              "    <tr>\n",
              "      <th>1</th>\n",
              "      <td>9757813</td>\n",
              "      <td>0</td>\n",
              "      <td>-0.122652</td>\n",
              "      <td>-0.078668</td>\n",
              "      <td>-0.052893</td>\n",
              "      <td>-0.029919</td>\n",
              "      <td>-0.023014</td>\n",
              "      <td>-0.022172</td>\n",
              "      <td>-0.020794</td>\n",
              "      <td>-0.018459</td>\n",
              "      <td>-0.016116</td>\n",
              "    </tr>\n",
              "    <tr>\n",
              "      <th>2</th>\n",
              "      <td>4364083</td>\n",
              "      <td>0</td>\n",
              "      <td>-0.104821</td>\n",
              "      <td>-0.066223</td>\n",
              "      <td>-0.042741</td>\n",
              "      <td>-0.039774</td>\n",
              "      <td>-0.038801</td>\n",
              "      <td>-0.034726</td>\n",
              "      <td>-0.028915</td>\n",
              "      <td>-0.017630</td>\n",
              "      <td>-0.011555</td>\n",
              "    </tr>\n",
              "    <tr>\n",
              "      <th>3</th>\n",
              "      <td>9111430</td>\n",
              "      <td>0</td>\n",
              "      <td>-0.125753</td>\n",
              "      <td>-0.058639</td>\n",
              "      <td>-0.046746</td>\n",
              "      <td>-0.035388</td>\n",
              "      <td>-0.020935</td>\n",
              "      <td>-0.006636</td>\n",
              "      <td>0.003451</td>\n",
              "      <td>0.003113</td>\n",
              "      <td>0.001856</td>\n",
              "    </tr>\n",
              "    <tr>\n",
              "      <th>4</th>\n",
              "      <td>2698019</td>\n",
              "      <td>0</td>\n",
              "      <td>-0.126528</td>\n",
              "      <td>-0.096267</td>\n",
              "      <td>-0.081301</td>\n",
              "      <td>-0.066142</td>\n",
              "      <td>-0.050869</td>\n",
              "      <td>-0.032982</td>\n",
              "      <td>-0.019405</td>\n",
              "      <td>-0.011659</td>\n",
              "      <td>-0.007534</td>\n",
              "    </tr>\n",
              "  </tbody>\n",
              "</table>\n",
              "</div>"
            ],
            "text/plain": [
              "         id  haloID  dc for 4.9  ...  dc for 16.2  dc for 18.1  dc for 20.0\n",
              "0  12445545     460   -0.088540  ...     0.002910     0.007345     0.010225\n",
              "1   9757813       0   -0.122652  ...    -0.020794    -0.018459    -0.016116\n",
              "2   4364083       0   -0.104821  ...    -0.028915    -0.017630    -0.011555\n",
              "3   9111430       0   -0.125753  ...     0.003451     0.003113     0.001856\n",
              "4   2698019       0   -0.126528  ...    -0.019405    -0.011659    -0.007534\n",
              "\n",
              "[5 rows x 11 columns]"
            ]
          },
          "metadata": {},
          "execution_count": 3
        }
      ],
      "source": [
        "data = pd.read_csv(r'/content/drive/MyDrive/density_contrast_final2.csv')\n",
        "data.head()"
      ]
    },
    {
      "cell_type": "code",
      "source": [
        "data.describe()"
      ],
      "metadata": {
        "colab": {
          "base_uri": "https://localhost:8080/",
          "height": 300
        },
        "id": "6IjgmnwZGeBF",
        "outputId": "1c940d84-dfee-45b3-bd87-9d3fb0cecd57"
      },
      "execution_count": 4,
      "outputs": [
        {
          "output_type": "execute_result",
          "data": {
            "text/html": [
              "<div>\n",
              "<style scoped>\n",
              "    .dataframe tbody tr th:only-of-type {\n",
              "        vertical-align: middle;\n",
              "    }\n",
              "\n",
              "    .dataframe tbody tr th {\n",
              "        vertical-align: top;\n",
              "    }\n",
              "\n",
              "    .dataframe thead th {\n",
              "        text-align: right;\n",
              "    }\n",
              "</style>\n",
              "<table border=\"1\" class=\"dataframe\">\n",
              "  <thead>\n",
              "    <tr style=\"text-align: right;\">\n",
              "      <th></th>\n",
              "      <th>id</th>\n",
              "      <th>haloID</th>\n",
              "      <th>dc for 4.9</th>\n",
              "      <th>dc for 6.8</th>\n",
              "      <th>dc for 8.7</th>\n",
              "      <th>dc for 10.6</th>\n",
              "      <th>dc for 12.4</th>\n",
              "      <th>dc for 14.3</th>\n",
              "      <th>dc for 16.2</th>\n",
              "      <th>dc for 18.1</th>\n",
              "      <th>dc for 20.0</th>\n",
              "    </tr>\n",
              "  </thead>\n",
              "  <tbody>\n",
              "    <tr>\n",
              "      <th>count</th>\n",
              "      <td>1.000000e+05</td>\n",
              "      <td>100000.000000</td>\n",
              "      <td>100000.000000</td>\n",
              "      <td>100000.000000</td>\n",
              "      <td>100000.000000</td>\n",
              "      <td>100000.000000</td>\n",
              "      <td>100000.000000</td>\n",
              "      <td>100000.000000</td>\n",
              "      <td>100000.000000</td>\n",
              "      <td>100000.000000</td>\n",
              "      <td>100000.000000</td>\n",
              "    </tr>\n",
              "    <tr>\n",
              "      <th>mean</th>\n",
              "      <td>8.336331e+06</td>\n",
              "      <td>73.518370</td>\n",
              "      <td>-0.122327</td>\n",
              "      <td>-0.086484</td>\n",
              "      <td>-0.062810</td>\n",
              "      <td>-0.045998</td>\n",
              "      <td>-0.033380</td>\n",
              "      <td>-0.023542</td>\n",
              "      <td>-0.015657</td>\n",
              "      <td>-0.009308</td>\n",
              "      <td>-0.004292</td>\n",
              "    </tr>\n",
              "    <tr>\n",
              "      <th>std</th>\n",
              "      <td>3.601997e+06</td>\n",
              "      <td>236.832955</td>\n",
              "      <td>0.011563</td>\n",
              "      <td>0.016253</td>\n",
              "      <td>0.018015</td>\n",
              "      <td>0.017880</td>\n",
              "      <td>0.016848</td>\n",
              "      <td>0.015417</td>\n",
              "      <td>0.013926</td>\n",
              "      <td>0.012521</td>\n",
              "      <td>0.011231</td>\n",
              "    </tr>\n",
              "    <tr>\n",
              "      <th>min</th>\n",
              "      <td>2.130504e+06</td>\n",
              "      <td>0.000000</td>\n",
              "      <td>-0.127820</td>\n",
              "      <td>-0.099572</td>\n",
              "      <td>-0.083351</td>\n",
              "      <td>-0.072824</td>\n",
              "      <td>-0.065442</td>\n",
              "      <td>-0.059979</td>\n",
              "      <td>-0.055687</td>\n",
              "      <td>-0.050980</td>\n",
              "      <td>-0.045462</td>\n",
              "    </tr>\n",
              "    <tr>\n",
              "      <th>25%</th>\n",
              "      <td>5.190622e+06</td>\n",
              "      <td>0.000000</td>\n",
              "      <td>-0.127820</td>\n",
              "      <td>-0.098795</td>\n",
              "      <td>-0.077809</td>\n",
              "      <td>-0.060421</td>\n",
              "      <td>-0.046111</td>\n",
              "      <td>-0.034633</td>\n",
              "      <td>-0.025136</td>\n",
              "      <td>-0.017410</td>\n",
              "      <td>-0.011502</td>\n",
              "    </tr>\n",
              "    <tr>\n",
              "      <th>50%</th>\n",
              "      <td>8.323708e+06</td>\n",
              "      <td>0.000000</td>\n",
              "      <td>-0.127820</td>\n",
              "      <td>-0.093253</td>\n",
              "      <td>-0.067097</td>\n",
              "      <td>-0.048082</td>\n",
              "      <td>-0.034295</td>\n",
              "      <td>-0.023678</td>\n",
              "      <td>-0.015654</td>\n",
              "      <td>-0.009241</td>\n",
              "      <td>-0.004137</td>\n",
              "    </tr>\n",
              "    <tr>\n",
              "      <th>75%</th>\n",
              "      <td>1.143864e+07</td>\n",
              "      <td>0.000000</td>\n",
              "      <td>-0.122910</td>\n",
              "      <td>-0.079543</td>\n",
              "      <td>-0.051962</td>\n",
              "      <td>-0.034537</td>\n",
              "      <td>-0.022148</td>\n",
              "      <td>-0.013248</td>\n",
              "      <td>-0.006321</td>\n",
              "      <td>-0.001057</td>\n",
              "      <td>0.003168</td>\n",
              "    </tr>\n",
              "    <tr>\n",
              "      <th>max</th>\n",
              "      <td>1.464666e+07</td>\n",
              "      <td>1233.000000</td>\n",
              "      <td>-0.006103</td>\n",
              "      <td>0.030810</td>\n",
              "      <td>0.033076</td>\n",
              "      <td>0.036258</td>\n",
              "      <td>0.039690</td>\n",
              "      <td>0.034802</td>\n",
              "      <td>0.031952</td>\n",
              "      <td>0.034043</td>\n",
              "      <td>0.033879</td>\n",
              "    </tr>\n",
              "  </tbody>\n",
              "</table>\n",
              "</div>"
            ],
            "text/plain": [
              "                 id         haloID  ...    dc for 18.1    dc for 20.0\n",
              "count  1.000000e+05  100000.000000  ...  100000.000000  100000.000000\n",
              "mean   8.336331e+06      73.518370  ...      -0.009308      -0.004292\n",
              "std    3.601997e+06     236.832955  ...       0.012521       0.011231\n",
              "min    2.130504e+06       0.000000  ...      -0.050980      -0.045462\n",
              "25%    5.190622e+06       0.000000  ...      -0.017410      -0.011502\n",
              "50%    8.323708e+06       0.000000  ...      -0.009241      -0.004137\n",
              "75%    1.143864e+07       0.000000  ...      -0.001057       0.003168\n",
              "max    1.464666e+07    1233.000000  ...       0.034043       0.033879\n",
              "\n",
              "[8 rows x 11 columns]"
            ]
          },
          "metadata": {},
          "execution_count": 4
        }
      ]
    },
    {
      "cell_type": "code",
      "execution_count": 5,
      "metadata": {
        "id": "Z_iIf7ENvixZ"
      },
      "outputs": [],
      "source": [
        "data = data.sort_values( by =['dc for 12.4'])\n",
        "X, Y = data.iloc[:,2:], (data['haloID']>0).astype('int')"
      ]
    },
    {
      "cell_type": "code",
      "source": [
        "# Frequency of 1-class\n",
        "print(\"{} % of the stored data has class 1 \".format(100*Y.sum()/len(Y)))"
      ],
      "metadata": {
        "colab": {
          "base_uri": "https://localhost:8080/"
        },
        "id": "da58eyduR_5c",
        "outputId": "127c9754-c186-4b29-b703-feb31b24502f"
      },
      "execution_count": 6,
      "outputs": [
        {
          "output_type": "stream",
          "name": "stdout",
          "text": [
            "11.621 % of the stored data has class 1 \n"
          ]
        }
      ]
    },
    {
      "cell_type": "code",
      "source": [
        "# Scale data\n",
        "# You may skip this\n",
        "\n",
        "from sklearn.preprocessing import StandardScaler\n",
        "from sklearn.preprocessing import MinMaxScaler\n",
        "from sklearn.preprocessing import RobustScaler\n",
        "\n",
        "s_scaler = StandardScaler()\n",
        "# m_scaler = MinMaxScaler()\n",
        "# r_scaler = RobustScaler()\n",
        "\n",
        "X = s_scaler.fit_transform(X)\n",
        "# X = m_scaler.fit_transform(X)\n",
        "# X = r_scaler.fit_transform(X)"
      ],
      "metadata": {
        "id": "I0Frc6p3HXSk"
      },
      "execution_count": 7,
      "outputs": []
    },
    {
      "cell_type": "code",
      "execution_count": 8,
      "metadata": {
        "colab": {
          "base_uri": "https://localhost:8080/"
        },
        "id": "TTV0HvsOwmPU",
        "outputId": "1263ee05-2d5b-4fa8-cac8-95d1e9ea5481"
      },
      "outputs": [
        {
          "output_type": "stream",
          "name": "stdout",
          "text": [
            "X_train : 80000    X_test : 20000\n"
          ]
        }
      ],
      "source": [
        "tst_size = 0.2\n",
        "ns, nf = np.shape(X) \n",
        "X_train, X_test, Y_train, Y_test = train_test_split(*shuffle(X, Y, n_samples = ns, random_state=0) , random_state=0, test_size =tst_size )\n",
        "print('X_train :',len(X_train),'   X_test :',len(X_test))"
      ]
    },
    {
      "cell_type": "code",
      "execution_count": 9,
      "metadata": {
        "id": "lFURGlGJwpjA"
      },
      "outputs": [],
      "source": [
        "X_test,X_train = np.array(X_test),np.array(X_train)\n",
        "Y_test,Y_train = np.array(Y_test),np.array(Y_train)\n",
        "X ,Y= np.array(X),np.array(Y)"
      ]
    },
    {
      "cell_type": "markdown",
      "metadata": {
        "id": "vQ66Ry4PyaWR"
      },
      "source": [
        "# Random Forrest"
      ]
    },
    {
      "cell_type": "code",
      "execution_count": null,
      "metadata": {
        "colab": {
          "base_uri": "https://localhost:8080/"
        },
        "id": "7VT14KqNyhLD",
        "outputId": "fc5155cb-01f6-4faa-c7c7-d10c154a311d"
      },
      "outputs": [
        {
          "output_type": "stream",
          "name": "stdout",
          "text": [
            "1 loop, best of 5: 3.6 s per loop\n",
            "10 loops, best of 5: 115 ms per loop\n",
            "20000\n",
            "0\n"
          ]
        }
      ],
      "source": [
        "from sklearn.ensemble import RandomForestClassifier\n",
        "classifier = RandomForestClassifier(max_depth=2, random_state=0)\n",
        "#check \n",
        "%t classifier.fit(X_train , Y_train)\n",
        "\n",
        "#Testing the classification on the test sample\n",
        "Y_predict = classifier.predict(X_test)\n",
        "#check\n",
        "%t Y_predict = classifier.predict(X_test)\n",
        "print(len(Y_test))\n",
        "print(len(Y_predict[Y_predict== 1]))"
      ]
    },
    {
      "cell_type": "code",
      "execution_count": null,
      "metadata": {
        "colab": {
          "base_uri": "https://localhost:8080/",
          "height": 625
        },
        "id": "ylv7UlC_ywjJ",
        "outputId": "7ebe6bfb-f7c9-457c-d3ec-a551b1f34699"
      },
      "outputs": [
        {
          "output_type": "display_data",
          "data": {
            "image/png": "[encoded data removed]",
            "text/plain": [
              "<Figure size 1440x720 with 2 Axes>"
            ]
          },
          "metadata": {
            "needs_background": "light"
          }
        }
      ],
      "source": [
        "import matplotlib.pyplot as plt\n",
        "\n",
        "fig = plt.figure(figsize=(20,10))\n",
        "ax = fig.add_subplot(121 , xlabel = '$\\delta_{4.9}$', ylabel='$\\delta_{6.8}$' , title = 'Result of the Classification')\n",
        "\n",
        "ax.scatter(*X_test[:,:2].T, c=Y_test)    \n",
        "\n",
        "ax = fig.add_subplot(122 , xlabel = '$\\delta_{4.9}$ ', ylabel='$\\delta_{6.8}$', title = 'Predicitions of the Random Forest classifier')\n",
        "plt.scatter(*X_test[:,:2].T, c = Y_predict)\n",
        "plt.show()\n"
      ]
    },
    {
      "cell_type": "markdown",
      "metadata": {
        "id": "Upau35J43b_B"
      },
      "source": [
        "### The Classification Report "
      ]
    },
    {
      "cell_type": "code",
      "execution_count": null,
      "metadata": {
        "colab": {
          "base_uri": "https://localhost:8080/"
        },
        "id": "Czq4WRJXyzlj",
        "outputId": "7d9d17fe-b736-442d-d8d3-98fdc6ae6dda"
      },
      "outputs": [
        {
          "output_type": "stream",
          "name": "stdout",
          "text": [
            "              precision    recall  f1-score   support\n",
            "\n",
            "           0       0.88      1.00      0.94     17671\n",
            "           1       0.00      0.00      0.00      2329\n",
            "\n",
            "    accuracy                           0.88     20000\n",
            "   macro avg       0.44      0.50      0.47     20000\n",
            "weighted avg       0.78      0.88      0.83     20000\n",
            "\n"
          ]
        },
        {
          "output_type": "stream",
          "name": "stderr",
          "text": [
            "/usr/local/lib/python3.7/dist-packages/sklearn/metrics/_classification.py:1308: UndefinedMetricWarning: Precision and F-score are ill-defined and being set to 0.0 in labels with no predicted samples. Use `zero_division` parameter to control this behavior.\n",
            "  _warn_prf(average, modifier, msg_start, len(result))\n",
            "/usr/local/lib/python3.7/dist-packages/sklearn/metrics/_classification.py:1308: UndefinedMetricWarning: Precision and F-score are ill-defined and being set to 0.0 in labels with no predicted samples. Use `zero_division` parameter to control this behavior.\n",
            "  _warn_prf(average, modifier, msg_start, len(result))\n",
            "/usr/local/lib/python3.7/dist-packages/sklearn/metrics/_classification.py:1308: UndefinedMetricWarning: Precision and F-score are ill-defined and being set to 0.0 in labels with no predicted samples. Use `zero_division` parameter to control this behavior.\n",
            "  _warn_prf(average, modifier, msg_start, len(result))\n"
          ]
        }
      ],
      "source": [
        "from sklearn.metrics import classification_report\n",
        "clf_report = classification_report(Y_test, Y_predict)\n",
        "print(clf_report)"
      ]
    },
    {
      "cell_type": "markdown",
      "metadata": {
        "id": "hNnQZIHG3l1a"
      },
      "source": [
        "### Fine Tunning The Hyperparameter"
      ]
    },
    {
      "cell_type": "code",
      "execution_count": null,
      "metadata": {
        "colab": {
          "base_uri": "https://localhost:8080/"
        },
        "id": "muncSq7GzAyH",
        "outputId": "8a1cd08d-7f56-4c8c-c042-bcbb16c2dee5"
      },
      "outputs": [
        {
          "output_type": "stream",
          "name": "stdout",
          "text": [
            "{'n_estimators': [200, 400, 600, 800, 1000, 1200, 1400, 1600, 1800, 2000], 'max_features': ['auto', 'sqrt'], 'max_depth': [1, 10, 20, 30, 40, 50, 60, 70, 80, 90, 100, 110, None], 'min_samples_split': [2, 5, 10], 'min_samples_leaf': [1, 2, 4], 'bootstrap': [True, False]}\n"
          ]
        }
      ],
      "source": [
        "from sklearn.model_selection import RandomizedSearchCV\n",
        "\n",
        "# Number of trees in random forest\n",
        "n_estimators = [int(x) for x in np.linspace(start = 200, stop = 2000, num = 10)]\n",
        "# Number of features to consider at every split\n",
        "max_features = ['auto', 'sqrt']\n",
        "# Maximum number of levels in tree\n",
        "max_depth = [int(x) for x in np.linspace(1, 110, num = 12)]\n",
        "max_depth.append(None)\n",
        "# Minimum number of samples required to split a node\n",
        "min_samples_split = [2, 5, 10]\n",
        "# Minimum number of samples required at each leaf node\n",
        "min_samples_leaf = [1, 2, 4]\n",
        "# Method of selecting samples for training each tree\n",
        "bootstrap = [True, False]\n",
        "# Create the random grid\n",
        "random_grid = {'n_estimators': n_estimators,\n",
        "               'max_features': max_features,\n",
        "               'max_depth': max_depth,\n",
        "               'min_samples_split': min_samples_split,\n",
        "               'min_samples_leaf': min_samples_leaf,\n",
        "               'bootstrap': bootstrap}\n",
        "\n",
        "print(random_grid)"
      ]
    },
    {
      "cell_type": "code",
      "execution_count": null,
      "metadata": {
        "colab": {
          "base_uri": "https://localhost:8080/"
        },
        "id": "FWREHWCizF3G",
        "outputId": "a9e5281f-21ac-405c-b7b3-edeea83099d0"
      },
      "outputs": [
        {
          "output_type": "stream",
          "name": "stdout",
          "text": [
            "start\n",
            "Fitting 2 folds for each of 10 candidates, totalling 20 fits\n"
          ]
        },
        {
          "output_type": "stream",
          "name": "stderr",
          "text": [
            "/usr/local/lib/python3.7/dist-packages/joblib/externals/loky/process_executor.py:705: UserWarning: A worker stopped while some jobs were given to the executor. This can be caused by a too short worker timeout or by a memory leak.\n",
            "  \"timeout or by a memory leak.\", UserWarning\n"
          ]
        },
        {
          "output_type": "stream",
          "name": "stdout",
          "text": [
            "{'n_estimators': 1200, 'min_samples_split': 2, 'min_samples_leaf': 4, 'max_features': 'auto', 'max_depth': 90, 'bootstrap': True}\n"
          ]
        }
      ],
      "source": [
        "# Random search of parameters, using 2 fold cross validation, \n",
        "# search across 10 different combinations, and use all available cores\n",
        "print('start')\n",
        "rf_random = RandomizedSearchCV(estimator = classifier, param_distributions = random_grid, n_iter = 10, cv = 2, verbose=2, random_state=42, n_jobs = -1, refit=True)\n",
        "# Fit the random search model\n",
        "rf_random.fit(X_train, Y_train)\n",
        "\n",
        "print(rf_random.best_params_)"
      ]
    },
    {
      "cell_type": "markdown",
      "metadata": {
        "id": "qD42IQVu4pwc"
      },
      "source": [
        "### Learning Curve"
      ]
    },
    {
      "cell_type": "code",
      "execution_count": null,
      "metadata": {
        "colab": {
          "base_uri": "https://localhost:8080/"
        },
        "id": "LehGPFj340pJ",
        "outputId": "2b9d9985-34f6-48f5-c7c8-adbda4a0bdc6"
      },
      "outputs": [
        {
          "output_type": "stream",
          "name": "stdout",
          "text": [
            "Training scores:\n",
            "\n",
            "           0         1         2         3         4\n",
            "0  1.000000  0.992000  0.992000  0.992000  0.992000\n",
            "1  1.000000  0.981253  0.980578  0.980578  0.980578\n",
            "2  0.986593  0.969728  0.971580  0.970716  0.970716\n",
            "3  0.967618  0.968846  0.964813  0.962805  0.959485\n",
            "4  0.960100  0.960938  0.961113  0.960862  0.955963\n",
            "\n",
            "Validation scores:\n",
            "\n",
            "         0        1        2        3        4\n",
            "0  0.8838  0.88380  0.88380  0.88380  0.88375\n",
            "1  0.8838  0.03775  0.89030  0.88645  0.86660\n",
            "2  0.8838  0.02890  0.02065  0.88505  0.73620\n",
            "3  0.8838  0.08610  0.03070  0.04450  0.76105\n",
            "4  0.8838  0.10900  0.04875  0.00420  0.11680\n"
          ]
        }
      ],
      "source": [
        "#first we should do the classification with the optimal values.\n",
        "\n",
        "classifier = rf_random.best_estimator_\n",
        "\n",
        "train_sizes = np.linspace(1000,80000,5, dtype='int')\n",
        "\n",
        "#computing training score and validation score for each sample size cv times\n",
        "ns_list, train_scores, validation_scores = learning_curve(\n",
        "                                                   estimator= classifier , X = X,\n",
        "                                                   y = Y, train_sizes = train_sizes, cv = 5, random_state = 0)\n",
        "\n",
        "print('Training scores:\\n\\n', pd.DataFrame( train_scores) )\n",
        "\n",
        "print('\\nValidation scores:\\n\\n', pd.DataFrame(validation_scores) )"
      ]
    },
    {
      "cell_type": "code",
      "execution_count": null,
      "metadata": {
        "colab": {
          "base_uri": "https://localhost:8080/",
          "height": 329
        },
        "id": "9Q9aNQXf4um0",
        "outputId": "aaab33d3-e4cd-4f78-ee4f-f1c895c5c03d"
      },
      "outputs": [
        {
          "output_type": "stream",
          "name": "stdout",
          "text": [
            "[0.9936     0.98459759 0.97386667 0.96471369 0.959795  ]\n",
            "[0.88379 0.71298 0.51092 0.36123 0.23251]\n"
          ]
        },
        {
          "output_type": "display_data",
          "data": {
            "image/png": "[encoded data removed]",
            "text/plain": [
              "<Figure size 432x288 with 1 Axes>"
            ]
          },
          "metadata": {
            "needs_background": "light"
          }
        }
      ],
      "source": [
        "train_scores_mean = train_scores.mean(axis = 1)\n",
        "print(train_scores_mean)\n",
        "validation_scores_mean = validation_scores.mean(axis = 1)\n",
        "print(validation_scores_mean)\n",
        "\n",
        "plt.title('Learning curve')\n",
        "plt.plot(ns_list, train_scores_mean,'g--',label = 'Training Score')\n",
        "plt.plot(ns_list, validation_scores_mean, 'r--', label = 'Validation Score')\n",
        "plt.xlabel('# Training samples')\n",
        "plt.ylabel('Score')\n",
        "plt.legend(loc='upper right')\n",
        "\n",
        "plt.show()"
      ]
    },
    {
      "cell_type": "markdown",
      "metadata": {
        "id": "iZnM78Aw8h0O"
      },
      "source": [
        "### Training with optimized hyperparameter"
      ]
    },
    {
      "cell_type": "code",
      "execution_count": null,
      "metadata": {
        "id": "ZbTOUmQL8vR2"
      },
      "outputs": [],
      "source": [
        "X_train, X_test, Y_train, Y_test  = train_test_split(X, Y , test_size = 0.2 , random_state= 0)\n",
        "X_test = np.array(X_test)\n",
        "X_train = np.array(X_train)\n",
        "Y_test = np.array(Y_test)\n",
        "Y_train = np.array(Y_train)\n",
        "X = np.array(X)\n",
        "Y = np.array(Y)"
      ]
    },
    {
      "cell_type": "code",
      "execution_count": null,
      "metadata": {
        "colab": {
          "base_uri": "https://localhost:8080/"
        },
        "id": "ipkcL4y584pY",
        "outputId": "63cf2e90-1e25-445f-b219-f22ec976d778"
      },
      "outputs": [
        {
          "output_type": "stream",
          "name": "stdout",
          "text": [
            "1 loop, best of 5: 5min 56s per loop\n",
            "1 loop, best of 5: 2.68 s per loop\n",
            "10000\n",
            "0\n"
          ]
        }
      ],
      "source": [
        "classifier = RandomForestClassifier(n_estimators = 1400, min_samples_split = 5, min_samples_leaf = 1, \n",
        "                                    max_features = 'sqrt', max_depth = 20, bootstrap = True, random_state=0)\n",
        "start_train = time.time()\n",
        "%t classifier.fit(X_train , Y_train)\n",
        "runtime_train = time.time() - start_train\n",
        "\n",
        "#Testing the classification on the test sample\n",
        "\n",
        "start_pred = time.time()\n",
        "%t Y_predict = classifier.predict(X_test)\n",
        "runtime_pred = time.time() - start_pred\n",
        "\n",
        "Y_predict = classifier.predict(X_test)\n",
        "Y_train_pred = classifier.predict(X_train)\n",
        "\n",
        "print(len(Y_test))\n",
        "print(len(Y_predict[Y_predict == 1]))"
      ]
    },
    {
      "cell_type": "code",
      "execution_count": null,
      "metadata": {
        "colab": {
          "base_uri": "https://localhost:8080/"
        },
        "id": "pgLNRJ_D9SeN",
        "outputId": "70b0eeed-f326-443e-9f6b-b409c63072bf"
      },
      "outputs": [
        {
          "output_type": "stream",
          "name": "stdout",
          "text": [
            "              precision    recall  f1-score   support\n",
            "\n",
            "           0       0.89      1.00      0.94      8847\n",
            "           1       0.54      0.04      0.07      1153\n",
            "\n",
            "    accuracy                           0.89     10000\n",
            "   macro avg       0.72      0.52      0.51     10000\n",
            "weighted avg       0.85      0.89      0.84     10000\n",
            "\n"
          ]
        }
      ],
      "source": [
        "#Evaluating the new trained model:\n",
        "final_report = classification_report(Y_test, Y_predict)\n",
        "print(final_report)"
      ]
    },
    {
      "cell_type": "markdown",
      "metadata": {
        "id": "0JAxVHWS-NgR"
      },
      "source": [
        "###Confusion Matrix"
      ]
    },
    {
      "cell_type": "code",
      "execution_count": null,
      "metadata": {
        "colab": {
          "base_uri": "https://localhost:8080/"
        },
        "id": "BPzyRqaH-S_9",
        "outputId": "93d7abec-9543-446b-c18f-c153708faa32"
      },
      "outputs": [
        {
          "output_type": "stream",
          "name": "stdout",
          "text": [
            "Here is the confusion matrix for the LG classifier: \n",
            "\n",
            "TP = 8810   FP = 37 \n",
            "\n",
            "FN = 1109   TN = 44 \n",
            "\n"
          ]
        }
      ],
      "source": [
        "from sklearn.metrics import confusion_matrix\n",
        "conf_matrix = confusion_matrix(Y_test , Y_predict, labels = (1,0))\n",
        "print('Here is the confusion matrix for the LG classifier: \\n'  )\n",
        "print('TP = {}'.format(conf_matrix[0][0]),'  FP = {}'.format(conf_matrix[0][1]) , '\\n')\n",
        "print('FN = {}'.format(conf_matrix[1][0]),'  TN = {}'.format(conf_matrix[1][1]) , '\\n')"
      ]
    },
    {
      "cell_type": "code",
      "execution_count": null,
      "metadata": {
        "colab": {
          "base_uri": "https://localhost:8080/",
          "height": 279
        },
        "id": "U4ZWTGXlFfXf",
        "outputId": "cdcbf5c2-773e-4043-b310-9c0c608e3e4e"
      },
      "outputs": [
        {
          "output_type": "display_data",
          "data": {
            "image/png": "[encoded data removed]",
            "text/plain": [
              "<Figure size 432x288 with 2 Axes>"
            ]
          },
          "metadata": {
            "needs_background": "light"
          }
        }
      ],
      "source": [
        "from sklearn.metrics import plot_confusion_matrix\n",
        "plot_confusion_matrix( classifier, X_test, Y_test)  \n",
        "plt.show()"
      ]
    },
    {
      "cell_type": "markdown",
      "metadata": {
        "id": "xZ4NPdkdGpNL"
      },
      "source": [
        "###Accuracy"
      ]
    },
    {
      "cell_type": "markdown",
      "metadata": {
        "id": "TUI9lhm5II62"
      },
      "source": [
        "$Accuracy = \\frac{TP + TN}{TP+TN+FP+FN} * 100$"
      ]
    },
    {
      "cell_type": "code",
      "execution_count": null,
      "metadata": {
        "colab": {
          "base_uri": "https://localhost:8080/"
        },
        "id": "qTA4uq5zGx9T",
        "outputId": "b75549c5-5da0-416e-9a78-927c2793f63f"
      },
      "outputs": [
        {
          "output_type": "stream",
          "name": "stdout",
          "text": [
            "The accuracy of the model is 88.54%\n"
          ]
        }
      ],
      "source": [
        "acurracy = (conf_matrix[0][0]+conf_matrix[1][1])/(conf_matrix[0][0]+conf_matrix[0][1]+conf_matrix[1][0]+conf_matrix[1][1])\n",
        "print('The accuracy of the model is {}%' .format(round(acurracy*100, 3)))"
      ]
    },
    {
      "cell_type": "markdown",
      "metadata": {
        "id": "Pn6SOMSQG8JJ"
      },
      "source": [
        "## Precision - Recall curve"
      ]
    },
    {
      "cell_type": "code",
      "execution_count": null,
      "metadata": {
        "colab": {
          "base_uri": "https://localhost:8080/",
          "height": 451
        },
        "id": "9theAxzSG-tX",
        "outputId": "e9a9ded9-8a85-4450-a647-05ffd4b26351"
      },
      "outputs": [
        {
          "output_type": "stream",
          "name": "stdout",
          "text": [
            "[[0.9485752  0.0514248 ]\n",
            " [0.83648051 0.16351949]\n",
            " [0.88879402 0.11120598]\n",
            " ...\n",
            " [0.94532505 0.05467495]\n",
            " [0.89773633 0.10226367]\n",
            " [0.87743232 0.12256768]]\n",
            "[0 0 0 ... 0 0 0]\n"
          ]
        },
        {
          "output_type": "execute_result",
          "data": {
            "text/plain": [
              "(0.0, 1.0)"
            ]
          },
          "metadata": {},
          "execution_count": 32
        },
        {
          "output_type": "display_data",
          "data": {
            "image/png": "[encoded data removed]",
            "text/plain": [
              "<Figure size 432x288 with 1 Axes>"
            ]
          },
          "metadata": {
            "needs_background": "light"
          }
        }
      ],
      "source": [
        "from sklearn.metrics import precision_recall_curve\n",
        "from sklearn.metrics import auc\n",
        "#getting the probability of being in each class from classifier without applying the threshold\n",
        "Y_probs=classifier.predict_proba(X_test) \n",
        "print(Y_probs)\n",
        "print(Y_predict)\n",
        "precision, recall, thresholds = precision_recall_curve(Y_test , Y_probs[:, 1]) \n",
        "\n",
        "#retrieve probability of being 1(in second column of Y_prob)\n",
        "pr_auc = auc(recall, precision)\n",
        "\n",
        "plt.title(\"Precision-Recall vs Threshold Chart\")\n",
        "plt.plot(thresholds, precision[: -1], \"b--\", label=\"Precision\")\n",
        "plt.plot(thresholds, recall[: -1], \"r--\", label=\"Recall\")\n",
        "plt.ylabel(\"Precision, Recall\")\n",
        "plt.xlabel(\"Threshold\")\n",
        "plt.legend(loc=\"lower left\")\n",
        "plt.ylim([0,1])"
      ]
    },
    {
      "cell_type": "markdown",
      "metadata": {
        "id": "UbH4Jdc-HwNI"
      },
      "source": [
        "As can be seen, increasing precision will result in a decrease in the recall and vice versa. The trade-off point between precision and recall is where the two curves coincide, around the threshold = 0.5, and will result in precision and recalls equal to 0.5. "
      ]
    },
    {
      "cell_type": "code",
      "execution_count": null,
      "metadata": {
        "colab": {
          "base_uri": "https://localhost:8080/"
        },
        "id": "_mtcoeI9uyxB",
        "outputId": "c5e194df-216e-4cbd-ff62-20c6fe697774"
      },
      "outputs": [
        {
          "output_type": "stream",
          "name": "stdout",
          "text": [
            "Training Time was: 2183.524209499359\n",
            "Prediction Time was: 17.04436707496643\n"
          ]
        }
      ],
      "source": [
        "from sklearn.metrics import accuracy_score\n",
        "EM1 = 'accuracy'\n",
        "#CVS1 =    #accuracy_score(Y_train_pred, Y_train)\n",
        "CPS1 = accuracy_score(Y_test, Y_predict)\n",
        "CVS1 =  CPS1  #accuracy_score(Y_train_pred, Y_train)\n",
        "\n",
        "T1 = runtime_train\n",
        "PT1 = runtime_pred\n",
        "print( \"Training Time was: \" + str(T1))\n",
        "print(\"Prediction Time was: \" + str(PT1))"
      ]
    },
    {
      "cell_type": "code",
      "execution_count": null,
      "metadata": {
        "id": "GNDOHpiztRlx"
      },
      "outputs": [],
      "source": [
        "# Here we tried to make an estimation of Bias and Variance\n",
        "%pip install mlxtend --upgrade\n",
        "from mlxtend.evaluate import bias_variance_decomp\n",
        "avg_expected_loss, avg_bias, avg_var = bias_variance_decomp(\n",
        "        classifier, X_train, Y_train, X_test, Y_test)\n",
        "\n",
        "print('Average expected loss: %.3f' % avg_expected_loss)\n",
        "print('Average bias: %.3f' % avg_bias)\n",
        "print('Average variance: %.3f' % avg_var)\n",
        "\n",
        "\n",
        "# runtime was too long"
      ]
    },
    {
      "cell_type": "markdown",
      "metadata": {
        "id": "As64UStyvixb"
      },
      "source": [
        "# SVM "
      ]
    },
    {
      "cell_type": "markdown",
      "metadata": {
        "id": "ew1ZoHKyvixc"
      },
      "source": [
        "Initialize and train svm model"
      ]
    },
    {
      "cell_type": "code",
      "execution_count": null,
      "metadata": {
        "colab": {
          "base_uri": "https://localhost:8080/"
        },
        "id": "KC4q8yHIvixd",
        "outputId": "d9cb42e8-f8b6-4e98-c00f-b7130ca8472a"
      },
      "outputs": [
        {
          "output_type": "stream",
          "name": "stdout",
          "text": [
            "Fitting 3 folds for each of 8 candidates, totalling 24 fits\n"
          ]
        }
      ],
      "source": [
        "# from sklearn.model_selection import cross_val_score\n",
        "from sklearn.model_selection import GridSearchCV\n",
        "import time\n",
        "\n",
        "svc = svm.SVC()\n",
        "tst_size = 0.2\n",
        "ns, nf = np.shape(X) \n",
        "# split data to train and test \n",
        "X_train, X_test, Y_train, Y_test = train_test_split(*shuffle(X, Y, n_samples = ns, random_state=0) , random_state=0, test_size =tst_size )\n",
        "# cross validation\n",
        "# scores = cross_val_score(svc, X_train, Y_train, cv=5 ,scoring= 'f1')\n",
        "cv = 3\n",
        "scoring = 'f1'\n",
        "param_grid = {'C': [0.1, 100],  \n",
        "                'gamma': [1, 0.001], \n",
        "                'kernel': ['rbf', 'sigmoid']}\n",
        "# evaluate hyper-parameters \n",
        "clf = GridSearchCV(svc, param_grid, scoring = scoring, cv = cv ,verbose = 1, n_jobs=-1, return_train_score=1)\n",
        "# train model\n",
        "start_train = time.time()\n",
        "trained_model = clf.fit(X_train, Y_train)\n",
        "runtime_train = start_train - time.time()\n",
        "# predict data\n",
        "start_pred = time.time()\n",
        "Y_pred = trained_model.predict(X_test)\n",
        "runtime_pred = start_pred - time.time()\n",
        "# scores = cross_val_score(clf.best_estimator_, X_train, Y_train, cv=5 ,scoring= 'accuracy')\n",
        "# print(scores)\n",
        "print(clf.best_score_)"
      ]
    },
    {
      "cell_type": "code",
      "execution_count": null,
      "metadata": {
        "id": "70AA04UpRV4Z"
      },
      "outputs": [],
      "source": [
        "import pickle\n",
        "\n",
        "# save the model to disk\n",
        "filename = 'svm_model.sav'\n",
        "pickle.dump(trained_model, open(filename, 'wb'))\n",
        "# load the model from disk\n",
        "# loaded_model = pickle.load(open(filename, 'rb'))\n",
        "# result = loaded_model.score(X_test, Y_test)\n",
        "# print(result)"
      ]
    },
    {
      "cell_type": "markdown",
      "metadata": {
        "id": "VgbAjfqAvixe"
      },
      "source": [
        "### Classification Report\n",
        "Print some information about the trained model such as training time, ... "
      ]
    },
    {
      "cell_type": "code",
      "execution_count": null,
      "metadata": {
        "id": "oHmU_txHvixe"
      },
      "outputs": [],
      "source": [
        "print(\"Best parameters set found on development set:\")\n",
        "print(trained_model.best_params_)\n",
        "print()\n",
        "# print(sorted(trained_model.cv_results_.keys()))\n",
        "print(trained_model.best_score_)\n",
        "# print(trained_model.cv_results_.mean_fit)\n",
        "\n",
        "print('-----------------')\n",
        "# print(Y_pred)\n",
        "print('\\nclassification report: \\n')\n",
        "from sklearn.metrics import classification_report\n",
        "print(classification_report(Y_test, Y_pred))\n",
        "\n",
        "EM2 = scoring\n",
        "mean_test_scores = trained_model.cv_results_.get('mean_test_score')\n",
        "CVS2 = mean_test_scores[trained_model.best_index_]\n",
        "CPS2 = trained_model.score(X_test, Y_test)\n",
        "T2 = runtime_train\n",
        "PT2 = runtime_pred\n",
        "print( \"Training Time was: \" + str(T2))\n",
        "print(\"Prediction Time was: \" + str(PT2))"
      ]
    },
    {
      "cell_type": "markdown",
      "metadata": {
        "id": "rf8ukjsfvixf"
      },
      "source": [
        "### Confusion Matrix"
      ]
    },
    {
      "cell_type": "code",
      "execution_count": null,
      "metadata": {
        "id": "qNiOChmcvixf"
      },
      "outputs": [],
      "source": [
        "from sklearn.metrics import ConfusionMatrixDisplay\n",
        "cm = confusion_matrix(Y_test, Y_pred, labels=clf.classes_)\n",
        "disp = ConfusionMatrixDisplay(confusion_matrix=cm, display_labels=clf.classes_)\n",
        "disp.plot()\n",
        "plt.show()"
      ]
    },
    {
      "cell_type": "markdown",
      "metadata": {
        "id": "NkLTkX8zvixi"
      },
      "source": [
        "### Learning Curve\n"
      ]
    },
    {
      "cell_type": "code",
      "execution_count": null,
      "metadata": {
        "id": "xmA9wHBjvixj"
      },
      "outputs": [],
      "source": [
        "ns = [100,500,1000,5000,6400]\n",
        "train_sizes, train_scores, valid_scores = learning_curve(trained_model, X_train, Y_train, train_sizes=ns, cv=cv, scoring= scoring, n_jobs = -1)\n",
        "\n",
        "train_scores_mean =  train_scores.mean(axis = 1)\n",
        "train_scores_std = np.std(train_scores, axis=1)\n",
        "validation_scores_mean =  valid_scores.mean(axis = 1)\n",
        "validation_scores_std  = valid_scores.std(axis = 1)\n",
        "\n",
        "xlabel = 'Sample Size'\n",
        "ylabel = scoring\n",
        "plt_title = 'Learning Curve'\n",
        "\n",
        "fig = plt.figure()\n",
        "ax = fig.add_subplot(111, xlabel=xlabel, ylabel=ylabel, title=plt_title)\n",
        "ax.plot(train_sizes, train_scores_mean, label = 'Training Score')\n",
        "ax.plot(train_sizes, validation_scores_mean, label = 'Validation Score')\n",
        "\n",
        "plt.fill_between(train_sizes, train_scores_mean - train_scores_std,\n",
        "                 train_scores_mean + train_scores_std, alpha=0.2,\n",
        "                 color=\"darkblue\", lw=2)\n",
        "plt.fill_between(train_sizes, validation_scores_mean - validation_scores_std,\n",
        "                 validation_scores_mean + validation_scores_std, alpha=0.2,\n",
        "                 color=\"darkgreen\", lw=2)\n",
        "\n",
        "plt.legend()\n",
        "# plt.yscale('log')\n",
        "plt.show()\n",
        "\n",
        "print('Training scores:\\n\\n', pd.DataFrame( train_scores, columns=[f'cv{i+1}' for i in range(cv)], index=ns) )\n",
        "print('\\n', '-' * 70) # separator to make the output easy to read\n",
        "print('\\nValidation scores:\\n\\n', pd.DataFrame(valid_scores, columns=[f'cv{i+1}' for i in range(cv)], index=ns) )"
      ]
    },
    {
      "cell_type": "markdown",
      "metadata": {
        "id": "ptX4Ql42vixk"
      },
      "source": [
        "### Validation Curve\n"
      ]
    },
    {
      "cell_type": "code",
      "execution_count": null,
      "metadata": {
        "id": "nxDGL2uDvixl"
      },
      "outputs": [],
      "source": [
        "c_list = param_grid.get('C')\n",
        "train_scores, valid_scores = validation_curve(SVC(), X_train, Y_train, \n",
        "                                              param_name=\"gamma\",\n",
        "                                              param_range=c_list , \n",
        "                                              cv=cv, \n",
        "                                              scoring = scoring,\n",
        "                                              verbose=1, \n",
        "                                              n_jobs=-1\n",
        "                                             )\n",
        "train_scores_mean = np.mean(train_scores, axis=1)\n",
        "train_scores_std = np.std(train_scores, axis=1)\n",
        "valid_scores_mean = np.mean(valid_scores, axis=1)\n",
        "valid_scores_std = np.std(valid_scores, axis=1)\n",
        "\n",
        "xlabel = 'gamma'\n",
        "ylabel = scoring\n",
        "plt_title = 'Validation Curve'\n",
        "\n",
        "fig = plt.figure()\n",
        "ax = fig.add_subplot(111, xlabel=xlabel, ylabel=ylabel, title=plt_title)\n",
        "plt.plot(c_list, train_scores_mean, label=\"Training score\",\n",
        "             color=\"darkorange\", lw=2)\n",
        "plt.fill_between(c_list, train_scores_mean - train_scores_std,\n",
        "                 train_scores_mean + train_scores_std, alpha=0.2,\n",
        "                 color=\"darkorange\", lw=2)\n",
        "plt.plot(c_list, valid_scores_mean, label=\"Validation score\",\n",
        "             color=\"navy\", lw=2)\n",
        "plt.fill_between(c_list, valid_scores_mean - valid_scores_std,\n",
        "                 valid_scores_mean + valid_scores_std, alpha=0.2,\n",
        "                 color=\"navy\", lw=2)\n",
        "plt.legend(loc=\"best\")\n",
        "plt.show()\n",
        "\n",
        "# print('Training scores:\\n\\n', pd.DataFrame( train_scores, columns=[f'cv{i+1}' for i in range(cv)], index=ns) )\n",
        "# print('\\n', '-' * 70) # separator to make the output easy to read\n",
        "# print('\\nValidation scores:\\n\\n', pd.DataFrame(valid_scores, columns=[f'cv{i+1}' for i in range(cv)], index=ns) )"
      ]
    },
    {
      "cell_type": "markdown",
      "metadata": {
        "id": "ckUaCbULvixn"
      },
      "source": [
        "# Logistic Regression"
      ]
    },
    {
      "cell_type": "markdown",
      "source": [
        "Training a linear logistic regression with intercepts on a 1st degree polynpmial of sample data, in pipeline."
      ],
      "metadata": {
        "id": "T-Ogq8Sk7JRD"
      }
    },
    {
      "cell_type": "code",
      "source": [
        "from sklearn.linear_model import LogisticRegression\n",
        "from sklearn.pipeline import Pipeline\n",
        "from sklearn.preprocessing import StandardScaler, PolynomialFeatures\n",
        "\n",
        "deg = 1\n",
        "\n",
        "lrg = LogisticRegression(fit_intercept=True, penalty='l2', max_iter=400, C = .1, tol=.005, class_weight ={0:1, 1:5}, solver='lbfgs')\n",
        "clf = Pipeline([('scaler', StandardScaler() ), \n",
        "                        ('p_transformer', PolynomialFeatures(degree = deg)), \n",
        "                        ('clf', lrg)])\n",
        "\n",
        "clf.fit(X_train, Y_train)\n",
        "Y_predict = clf.predict(X_test)"
      ],
      "metadata": {
        "id": "K8gtorbixqfI"
      },
      "execution_count": 10,
      "outputs": []
    },
    {
      "cell_type": "code",
      "source": [
        "# F1 score on the test set\n",
        "from sklearn.metrics import f1_score\n",
        "\n",
        "f1_score(Y_test, Y_predict, average='macro')"
      ],
      "metadata": {
        "colab": {
          "base_uri": "https://localhost:8080/"
        },
        "id": "ihOUBr9L6hvp",
        "outputId": "c8b13aec-82bd-4c63-9e99-aa985507dc10"
      },
      "execution_count": 11,
      "outputs": [
        {
          "output_type": "execute_result",
          "data": {
            "text/plain": [
              "0.6789298909491076"
            ]
          },
          "metadata": {},
          "execution_count": 11
        }
      ]
    },
    {
      "cell_type": "markdown",
      "metadata": {
        "id": "V-3OIsjJzcEc"
      },
      "source": [
        "### Fine Tuning The Hyperparameter"
      ]
    },
    {
      "cell_type": "code",
      "source": [
        "clf.get_params().keys()"
      ],
      "metadata": {
        "colab": {
          "base_uri": "https://localhost:8080/"
        },
        "id": "-JgU4LK2GSoc",
        "outputId": "0d6b9787-fec0-424e-f95b-35271981a72b"
      },
      "execution_count": null,
      "outputs": [
        {
          "output_type": "execute_result",
          "data": {
            "text/plain": [
              "dict_keys(['memory', 'steps', 'verbose', 'scaler', 'p_transformer', 'clf', 'scaler__copy', 'scaler__with_mean', 'scaler__with_std', 'p_transformer__degree', 'p_transformer__include_bias', 'p_transformer__interaction_only', 'p_transformer__order', 'clf__C', 'clf__class_weight', 'clf__dual', 'clf__fit_intercept', 'clf__intercept_scaling', 'clf__l1_ratio', 'clf__max_iter', 'clf__multi_class', 'clf__n_jobs', 'clf__penalty', 'clf__random_state', 'clf__solver', 'clf__tol', 'clf__verbose', 'clf__warm_start'])"
            ]
          },
          "metadata": {},
          "execution_count": 12
        }
      ]
    },
    {
      "cell_type": "code",
      "execution_count": 12,
      "metadata": {
        "colab": {
          "base_uri": "https://localhost:8080/"
        },
        "outputId": "262a5939-535c-4007-f492-0002fb3e1666",
        "id": "9e-F3pUdzcEc"
      },
      "outputs": [
        {
          "output_type": "stream",
          "name": "stdout",
          "text": [
            "{'clf__class_weight': [{0: 1, 1: 5}, {0: 1, 1: 3}, None], 'clf__solver': ['liblinear', 'sag', 'lbfgs', 'saga'], 'p_transformer__degree': array([1, 2]), 'clf__C': [0.1, 1]}\n"
          ]
        }
      ],
      "source": [
        "from sklearn.model_selection import GridSearchCV\n",
        "\n",
        "deg_list = np.arange(1,3)\n",
        "\n",
        "# tol = np.logspace(-3,-1, num=10)\n",
        "\n",
        "# penalty = ['l1', 'l2']\n",
        "\n",
        "class_weight = [{0: 1, 1:5}, {0: 1, 1:3}, None]\n",
        "\n",
        "C = [.1,1]\n",
        "\n",
        "solver = ['liblinear', 'sag', 'lbfgs', 'saga']\n",
        "\n",
        "random_grid_lrg = {\n",
        "                'clf__class_weight': class_weight,\n",
        "                'clf__solver': solver,\n",
        "                'p_transformer__degree' : deg_list,\n",
        "                'clf__C': C,\n",
        "                  }\n",
        "\n",
        "print(random_grid_lrg)"
      ]
    },
    {
      "cell_type": "code",
      "execution_count": 13,
      "metadata": {
        "id": "kw1xPX7NzcEc",
        "colab": {
          "base_uri": "https://localhost:8080/"
        },
        "outputId": "f00c93c3-7067-42c7-c544-7fcd1a7198ea"
      },
      "outputs": [
        {
          "output_type": "stream",
          "name": "stdout",
          "text": [
            "start\n",
            "Fitting 4 folds for each of 48 candidates, totalling 192 fits\n",
            "[CV] END clf__C=0.1, clf__class_weight={0: 1, 1: 5}, clf__solver=liblinear, p_transformer__degree=1; total time=   0.2s\n",
            "[CV] END clf__C=0.1, clf__class_weight={0: 1, 1: 5}, clf__solver=liblinear, p_transformer__degree=1; total time=   0.2s\n",
            "[CV] END clf__C=0.1, clf__class_weight={0: 1, 1: 5}, clf__solver=liblinear, p_transformer__degree=1; total time=   0.2s\n",
            "[CV] END clf__C=0.1, clf__class_weight={0: 1, 1: 5}, clf__solver=liblinear, p_transformer__degree=1; total time=   0.2s\n",
            "[CV] END clf__C=0.1, clf__class_weight={0: 1, 1: 5}, clf__solver=liblinear, p_transformer__degree=2; total time=   2.1s\n",
            "[CV] END clf__C=0.1, clf__class_weight={0: 1, 1: 5}, clf__solver=liblinear, p_transformer__degree=2; total time=   2.4s\n",
            "[CV] END clf__C=0.1, clf__class_weight={0: 1, 1: 5}, clf__solver=liblinear, p_transformer__degree=2; total time=   2.3s\n",
            "[CV] END clf__C=0.1, clf__class_weight={0: 1, 1: 5}, clf__solver=liblinear, p_transformer__degree=2; total time=   1.6s\n",
            "[CV] END clf__C=0.1, clf__class_weight={0: 1, 1: 5}, clf__solver=sag, p_transformer__degree=1; total time=   0.7s\n",
            "[CV] END clf__C=0.1, clf__class_weight={0: 1, 1: 5}, clf__solver=sag, p_transformer__degree=1; total time=   0.7s\n",
            "[CV] END clf__C=0.1, clf__class_weight={0: 1, 1: 5}, clf__solver=sag, p_transformer__degree=1; total time=   0.7s\n",
            "[CV] END clf__C=0.1, clf__class_weight={0: 1, 1: 5}, clf__solver=sag, p_transformer__degree=1; total time=   0.8s\n",
            "[CV] END clf__C=0.1, clf__class_weight={0: 1, 1: 5}, clf__solver=sag, p_transformer__degree=2; total time=   2.6s\n",
            "[CV] END clf__C=0.1, clf__class_weight={0: 1, 1: 5}, clf__solver=sag, p_transformer__degree=2; total time=   2.7s\n",
            "[CV] END clf__C=0.1, clf__class_weight={0: 1, 1: 5}, clf__solver=sag, p_transformer__degree=2; total time=   2.9s\n",
            "[CV] END clf__C=0.1, clf__class_weight={0: 1, 1: 5}, clf__solver=sag, p_transformer__degree=2; total time=   2.4s\n",
            "[CV] END clf__C=0.1, clf__class_weight={0: 1, 1: 5}, clf__solver=lbfgs, p_transformer__degree=1; total time=   1.1s\n",
            "[CV] END clf__C=0.1, clf__class_weight={0: 1, 1: 5}, clf__solver=lbfgs, p_transformer__degree=1; total time=   1.2s\n",
            "[CV] END clf__C=0.1, clf__class_weight={0: 1, 1: 5}, clf__solver=lbfgs, p_transformer__degree=1; total time=   1.3s\n",
            "[CV] END clf__C=0.1, clf__class_weight={0: 1, 1: 5}, clf__solver=lbfgs, p_transformer__degree=1; total time=   1.0s\n"
          ]
        },
        {
          "output_type": "stream",
          "name": "stderr",
          "text": [
            "/usr/local/lib/python3.7/dist-packages/sklearn/linear_model/_logistic.py:818: ConvergenceWarning: lbfgs failed to converge (status=1):\n",
            "STOP: TOTAL NO. of ITERATIONS REACHED LIMIT.\n",
            "\n",
            "Increase the number of iterations (max_iter) or scale the data as shown in:\n",
            "    https://scikit-learn.org/stable/modules/preprocessing.html\n",
            "Please also refer to the documentation for alternative solver options:\n",
            "    https://scikit-learn.org/stable/modules/linear_model.html#logistic-regression\n",
            "  extra_warning_msg=_LOGISTIC_SOLVER_CONVERGENCE_MSG,\n"
          ]
        },
        {
          "output_type": "stream",
          "name": "stdout",
          "text": [
            "[CV] END clf__C=0.1, clf__class_weight={0: 1, 1: 5}, clf__solver=lbfgs, p_transformer__degree=2; total time=   7.8s\n"
          ]
        },
        {
          "output_type": "stream",
          "name": "stderr",
          "text": [
            "/usr/local/lib/python3.7/dist-packages/sklearn/linear_model/_logistic.py:818: ConvergenceWarning: lbfgs failed to converge (status=1):\n",
            "STOP: TOTAL NO. of ITERATIONS REACHED LIMIT.\n",
            "\n",
            "Increase the number of iterations (max_iter) or scale the data as shown in:\n",
            "    https://scikit-learn.org/stable/modules/preprocessing.html\n",
            "Please also refer to the documentation for alternative solver options:\n",
            "    https://scikit-learn.org/stable/modules/linear_model.html#logistic-regression\n",
            "  extra_warning_msg=_LOGISTIC_SOLVER_CONVERGENCE_MSG,\n"
          ]
        },
        {
          "output_type": "stream",
          "name": "stdout",
          "text": [
            "[CV] END clf__C=0.1, clf__class_weight={0: 1, 1: 5}, clf__solver=lbfgs, p_transformer__degree=2; total time=   8.1s\n"
          ]
        },
        {
          "output_type": "stream",
          "name": "stderr",
          "text": [
            "/usr/local/lib/python3.7/dist-packages/sklearn/linear_model/_logistic.py:818: ConvergenceWarning: lbfgs failed to converge (status=1):\n",
            "STOP: TOTAL NO. of ITERATIONS REACHED LIMIT.\n",
            "\n",
            "Increase the number of iterations (max_iter) or scale the data as shown in:\n",
            "    https://scikit-learn.org/stable/modules/preprocessing.html\n",
            "Please also refer to the documentation for alternative solver options:\n",
            "    https://scikit-learn.org/stable/modules/linear_model.html#logistic-regression\n",
            "  extra_warning_msg=_LOGISTIC_SOLVER_CONVERGENCE_MSG,\n"
          ]
        },
        {
          "output_type": "stream",
          "name": "stdout",
          "text": [
            "[CV] END clf__C=0.1, clf__class_weight={0: 1, 1: 5}, clf__solver=lbfgs, p_transformer__degree=2; total time=   8.3s\n"
          ]
        },
        {
          "output_type": "stream",
          "name": "stderr",
          "text": [
            "/usr/local/lib/python3.7/dist-packages/sklearn/linear_model/_logistic.py:818: ConvergenceWarning: lbfgs failed to converge (status=1):\n",
            "STOP: TOTAL NO. of ITERATIONS REACHED LIMIT.\n",
            "\n",
            "Increase the number of iterations (max_iter) or scale the data as shown in:\n",
            "    https://scikit-learn.org/stable/modules/preprocessing.html\n",
            "Please also refer to the documentation for alternative solver options:\n",
            "    https://scikit-learn.org/stable/modules/linear_model.html#logistic-regression\n",
            "  extra_warning_msg=_LOGISTIC_SOLVER_CONVERGENCE_MSG,\n"
          ]
        },
        {
          "output_type": "stream",
          "name": "stdout",
          "text": [
            "[CV] END clf__C=0.1, clf__class_weight={0: 1, 1: 5}, clf__solver=lbfgs, p_transformer__degree=2; total time=   7.9s\n",
            "[CV] END clf__C=0.1, clf__class_weight={0: 1, 1: 5}, clf__solver=saga, p_transformer__degree=1; total time=   1.4s\n",
            "[CV] END clf__C=0.1, clf__class_weight={0: 1, 1: 5}, clf__solver=saga, p_transformer__degree=1; total time=   1.3s\n",
            "[CV] END clf__C=0.1, clf__class_weight={0: 1, 1: 5}, clf__solver=saga, p_transformer__degree=1; total time=   1.2s\n",
            "[CV] END clf__C=0.1, clf__class_weight={0: 1, 1: 5}, clf__solver=saga, p_transformer__degree=1; total time=   1.5s\n",
            "[CV] END clf__C=0.1, clf__class_weight={0: 1, 1: 5}, clf__solver=saga, p_transformer__degree=2; total time=   3.3s\n",
            "[CV] END clf__C=0.1, clf__class_weight={0: 1, 1: 5}, clf__solver=saga, p_transformer__degree=2; total time=   1.6s\n",
            "[CV] END clf__C=0.1, clf__class_weight={0: 1, 1: 5}, clf__solver=saga, p_transformer__degree=2; total time=   1.3s\n",
            "[CV] END clf__C=0.1, clf__class_weight={0: 1, 1: 5}, clf__solver=saga, p_transformer__degree=2; total time=   2.1s\n",
            "[CV] END clf__C=0.1, clf__class_weight={0: 1, 1: 3}, clf__solver=liblinear, p_transformer__degree=1; total time=   0.2s\n",
            "[CV] END clf__C=0.1, clf__class_weight={0: 1, 1: 3}, clf__solver=liblinear, p_transformer__degree=1; total time=   0.2s\n",
            "[CV] END clf__C=0.1, clf__class_weight={0: 1, 1: 3}, clf__solver=liblinear, p_transformer__degree=1; total time=   0.2s\n",
            "[CV] END clf__C=0.1, clf__class_weight={0: 1, 1: 3}, clf__solver=liblinear, p_transformer__degree=1; total time=   0.2s\n",
            "[CV] END clf__C=0.1, clf__class_weight={0: 1, 1: 3}, clf__solver=liblinear, p_transformer__degree=2; total time=   1.8s\n",
            "[CV] END clf__C=0.1, clf__class_weight={0: 1, 1: 3}, clf__solver=liblinear, p_transformer__degree=2; total time=   2.4s\n",
            "[CV] END clf__C=0.1, clf__class_weight={0: 1, 1: 3}, clf__solver=liblinear, p_transformer__degree=2; total time=   2.5s\n",
            "[CV] END clf__C=0.1, clf__class_weight={0: 1, 1: 3}, clf__solver=liblinear, p_transformer__degree=2; total time=   1.5s\n",
            "[CV] END clf__C=0.1, clf__class_weight={0: 1, 1: 3}, clf__solver=sag, p_transformer__degree=1; total time=   0.8s\n",
            "[CV] END clf__C=0.1, clf__class_weight={0: 1, 1: 3}, clf__solver=sag, p_transformer__degree=1; total time=   0.8s\n",
            "[CV] END clf__C=0.1, clf__class_weight={0: 1, 1: 3}, clf__solver=sag, p_transformer__degree=1; total time=   0.9s\n",
            "[CV] END clf__C=0.1, clf__class_weight={0: 1, 1: 3}, clf__solver=sag, p_transformer__degree=1; total time=   0.8s\n",
            "[CV] END clf__C=0.1, clf__class_weight={0: 1, 1: 3}, clf__solver=sag, p_transformer__degree=2; total time=   2.9s\n",
            "[CV] END clf__C=0.1, clf__class_weight={0: 1, 1: 3}, clf__solver=sag, p_transformer__degree=2; total time=   2.1s\n",
            "[CV] END clf__C=0.1, clf__class_weight={0: 1, 1: 3}, clf__solver=sag, p_transformer__degree=2; total time=   1.9s\n",
            "[CV] END clf__C=0.1, clf__class_weight={0: 1, 1: 3}, clf__solver=sag, p_transformer__degree=2; total time=   1.8s\n",
            "[CV] END clf__C=0.1, clf__class_weight={0: 1, 1: 3}, clf__solver=lbfgs, p_transformer__degree=1; total time=   0.9s\n",
            "[CV] END clf__C=0.1, clf__class_weight={0: 1, 1: 3}, clf__solver=lbfgs, p_transformer__degree=1; total time=   1.1s\n",
            "[CV] END clf__C=0.1, clf__class_weight={0: 1, 1: 3}, clf__solver=lbfgs, p_transformer__degree=1; total time=   1.2s\n",
            "[CV] END clf__C=0.1, clf__class_weight={0: 1, 1: 3}, clf__solver=lbfgs, p_transformer__degree=1; total time=   1.0s\n"
          ]
        },
        {
          "output_type": "stream",
          "name": "stderr",
          "text": [
            "/usr/local/lib/python3.7/dist-packages/sklearn/linear_model/_logistic.py:818: ConvergenceWarning: lbfgs failed to converge (status=1):\n",
            "STOP: TOTAL NO. of ITERATIONS REACHED LIMIT.\n",
            "\n",
            "Increase the number of iterations (max_iter) or scale the data as shown in:\n",
            "    https://scikit-learn.org/stable/modules/preprocessing.html\n",
            "Please also refer to the documentation for alternative solver options:\n",
            "    https://scikit-learn.org/stable/modules/linear_model.html#logistic-regression\n",
            "  extra_warning_msg=_LOGISTIC_SOLVER_CONVERGENCE_MSG,\n"
          ]
        },
        {
          "output_type": "stream",
          "name": "stdout",
          "text": [
            "[CV] END clf__C=0.1, clf__class_weight={0: 1, 1: 3}, clf__solver=lbfgs, p_transformer__degree=2; total time=   7.8s\n"
          ]
        },
        {
          "output_type": "stream",
          "name": "stderr",
          "text": [
            "/usr/local/lib/python3.7/dist-packages/sklearn/linear_model/_logistic.py:818: ConvergenceWarning: lbfgs failed to converge (status=1):\n",
            "STOP: TOTAL NO. of ITERATIONS REACHED LIMIT.\n",
            "\n",
            "Increase the number of iterations (max_iter) or scale the data as shown in:\n",
            "    https://scikit-learn.org/stable/modules/preprocessing.html\n",
            "Please also refer to the documentation for alternative solver options:\n",
            "    https://scikit-learn.org/stable/modules/linear_model.html#logistic-regression\n",
            "  extra_warning_msg=_LOGISTIC_SOLVER_CONVERGENCE_MSG,\n"
          ]
        },
        {
          "output_type": "stream",
          "name": "stdout",
          "text": [
            "[CV] END clf__C=0.1, clf__class_weight={0: 1, 1: 3}, clf__solver=lbfgs, p_transformer__degree=2; total time=   7.7s\n"
          ]
        },
        {
          "output_type": "stream",
          "name": "stderr",
          "text": [
            "/usr/local/lib/python3.7/dist-packages/sklearn/linear_model/_logistic.py:818: ConvergenceWarning: lbfgs failed to converge (status=1):\n",
            "STOP: TOTAL NO. of ITERATIONS REACHED LIMIT.\n",
            "\n",
            "Increase the number of iterations (max_iter) or scale the data as shown in:\n",
            "    https://scikit-learn.org/stable/modules/preprocessing.html\n",
            "Please also refer to the documentation for alternative solver options:\n",
            "    https://scikit-learn.org/stable/modules/linear_model.html#logistic-regression\n",
            "  extra_warning_msg=_LOGISTIC_SOLVER_CONVERGENCE_MSG,\n"
          ]
        },
        {
          "output_type": "stream",
          "name": "stdout",
          "text": [
            "[CV] END clf__C=0.1, clf__class_weight={0: 1, 1: 3}, clf__solver=lbfgs, p_transformer__degree=2; total time=   8.2s\n"
          ]
        },
        {
          "output_type": "stream",
          "name": "stderr",
          "text": [
            "/usr/local/lib/python3.7/dist-packages/sklearn/linear_model/_logistic.py:818: ConvergenceWarning: lbfgs failed to converge (status=1):\n",
            "STOP: TOTAL NO. of ITERATIONS REACHED LIMIT.\n",
            "\n",
            "Increase the number of iterations (max_iter) or scale the data as shown in:\n",
            "    https://scikit-learn.org/stable/modules/preprocessing.html\n",
            "Please also refer to the documentation for alternative solver options:\n",
            "    https://scikit-learn.org/stable/modules/linear_model.html#logistic-regression\n",
            "  extra_warning_msg=_LOGISTIC_SOLVER_CONVERGENCE_MSG,\n"
          ]
        },
        {
          "output_type": "stream",
          "name": "stdout",
          "text": [
            "[CV] END clf__C=0.1, clf__class_weight={0: 1, 1: 3}, clf__solver=lbfgs, p_transformer__degree=2; total time=   7.9s\n",
            "[CV] END clf__C=0.1, clf__class_weight={0: 1, 1: 3}, clf__solver=saga, p_transformer__degree=1; total time=   1.6s\n",
            "[CV] END clf__C=0.1, clf__class_weight={0: 1, 1: 3}, clf__solver=saga, p_transformer__degree=1; total time=   1.5s\n",
            "[CV] END clf__C=0.1, clf__class_weight={0: 1, 1: 3}, clf__solver=saga, p_transformer__degree=1; total time=   1.5s\n",
            "[CV] END clf__C=0.1, clf__class_weight={0: 1, 1: 3}, clf__solver=saga, p_transformer__degree=1; total time=   1.5s\n",
            "[CV] END clf__C=0.1, clf__class_weight={0: 1, 1: 3}, clf__solver=saga, p_transformer__degree=2; total time=   3.3s\n",
            "[CV] END clf__C=0.1, clf__class_weight={0: 1, 1: 3}, clf__solver=saga, p_transformer__degree=2; total time=   1.6s\n",
            "[CV] END clf__C=0.1, clf__class_weight={0: 1, 1: 3}, clf__solver=saga, p_transformer__degree=2; total time=   1.6s\n",
            "[CV] END clf__C=0.1, clf__class_weight={0: 1, 1: 3}, clf__solver=saga, p_transformer__degree=2; total time=   1.7s\n",
            "[CV] END clf__C=0.1, clf__class_weight=None, clf__solver=liblinear, p_transformer__degree=1; total time=   0.2s\n",
            "[CV] END clf__C=0.1, clf__class_weight=None, clf__solver=liblinear, p_transformer__degree=1; total time=   0.2s\n",
            "[CV] END clf__C=0.1, clf__class_weight=None, clf__solver=liblinear, p_transformer__degree=1; total time=   0.2s\n",
            "[CV] END clf__C=0.1, clf__class_weight=None, clf__solver=liblinear, p_transformer__degree=1; total time=   0.2s\n",
            "[CV] END clf__C=0.1, clf__class_weight=None, clf__solver=liblinear, p_transformer__degree=2; total time=   2.0s\n",
            "[CV] END clf__C=0.1, clf__class_weight=None, clf__solver=liblinear, p_transformer__degree=2; total time=   1.3s\n",
            "[CV] END clf__C=0.1, clf__class_weight=None, clf__solver=liblinear, p_transformer__degree=2; total time=   1.1s\n",
            "[CV] END clf__C=0.1, clf__class_weight=None, clf__solver=liblinear, p_transformer__degree=2; total time=   2.0s\n",
            "[CV] END clf__C=0.1, clf__class_weight=None, clf__solver=sag, p_transformer__degree=1; total time=   0.9s\n",
            "[CV] END clf__C=0.1, clf__class_weight=None, clf__solver=sag, p_transformer__degree=1; total time=   0.9s\n",
            "[CV] END clf__C=0.1, clf__class_weight=None, clf__solver=sag, p_transformer__degree=1; total time=   1.0s\n",
            "[CV] END clf__C=0.1, clf__class_weight=None, clf__solver=sag, p_transformer__degree=1; total time=   0.9s\n",
            "[CV] END clf__C=0.1, clf__class_weight=None, clf__solver=sag, p_transformer__degree=2; total time=   1.4s\n",
            "[CV] END clf__C=0.1, clf__class_weight=None, clf__solver=sag, p_transformer__degree=2; total time=   1.1s\n",
            "[CV] END clf__C=0.1, clf__class_weight=None, clf__solver=sag, p_transformer__degree=2; total time=   1.4s\n",
            "[CV] END clf__C=0.1, clf__class_weight=None, clf__solver=sag, p_transformer__degree=2; total time=   1.2s\n",
            "[CV] END clf__C=0.1, clf__class_weight=None, clf__solver=lbfgs, p_transformer__degree=1; total time=   1.0s\n",
            "[CV] END clf__C=0.1, clf__class_weight=None, clf__solver=lbfgs, p_transformer__degree=1; total time=   1.0s\n",
            "[CV] END clf__C=0.1, clf__class_weight=None, clf__solver=lbfgs, p_transformer__degree=1; total time=   1.3s\n",
            "[CV] END clf__C=0.1, clf__class_weight=None, clf__solver=lbfgs, p_transformer__degree=1; total time=   1.0s\n"
          ]
        },
        {
          "output_type": "stream",
          "name": "stderr",
          "text": [
            "/usr/local/lib/python3.7/dist-packages/sklearn/linear_model/_logistic.py:818: ConvergenceWarning: lbfgs failed to converge (status=1):\n",
            "STOP: TOTAL NO. of ITERATIONS REACHED LIMIT.\n",
            "\n",
            "Increase the number of iterations (max_iter) or scale the data as shown in:\n",
            "    https://scikit-learn.org/stable/modules/preprocessing.html\n",
            "Please also refer to the documentation for alternative solver options:\n",
            "    https://scikit-learn.org/stable/modules/linear_model.html#logistic-regression\n",
            "  extra_warning_msg=_LOGISTIC_SOLVER_CONVERGENCE_MSG,\n"
          ]
        },
        {
          "output_type": "stream",
          "name": "stdout",
          "text": [
            "[CV] END clf__C=0.1, clf__class_weight=None, clf__solver=lbfgs, p_transformer__degree=2; total time=   7.6s\n"
          ]
        },
        {
          "output_type": "stream",
          "name": "stderr",
          "text": [
            "/usr/local/lib/python3.7/dist-packages/sklearn/linear_model/_logistic.py:818: ConvergenceWarning: lbfgs failed to converge (status=1):\n",
            "STOP: TOTAL NO. of ITERATIONS REACHED LIMIT.\n",
            "\n",
            "Increase the number of iterations (max_iter) or scale the data as shown in:\n",
            "    https://scikit-learn.org/stable/modules/preprocessing.html\n",
            "Please also refer to the documentation for alternative solver options:\n",
            "    https://scikit-learn.org/stable/modules/linear_model.html#logistic-regression\n",
            "  extra_warning_msg=_LOGISTIC_SOLVER_CONVERGENCE_MSG,\n"
          ]
        },
        {
          "output_type": "stream",
          "name": "stdout",
          "text": [
            "[CV] END clf__C=0.1, clf__class_weight=None, clf__solver=lbfgs, p_transformer__degree=2; total time=   7.8s\n"
          ]
        },
        {
          "output_type": "stream",
          "name": "stderr",
          "text": [
            "/usr/local/lib/python3.7/dist-packages/sklearn/linear_model/_logistic.py:818: ConvergenceWarning: lbfgs failed to converge (status=1):\n",
            "STOP: TOTAL NO. of ITERATIONS REACHED LIMIT.\n",
            "\n",
            "Increase the number of iterations (max_iter) or scale the data as shown in:\n",
            "    https://scikit-learn.org/stable/modules/preprocessing.html\n",
            "Please also refer to the documentation for alternative solver options:\n",
            "    https://scikit-learn.org/stable/modules/linear_model.html#logistic-regression\n",
            "  extra_warning_msg=_LOGISTIC_SOLVER_CONVERGENCE_MSG,\n"
          ]
        },
        {
          "output_type": "stream",
          "name": "stdout",
          "text": [
            "[CV] END clf__C=0.1, clf__class_weight=None, clf__solver=lbfgs, p_transformer__degree=2; total time=   7.9s\n"
          ]
        },
        {
          "output_type": "stream",
          "name": "stderr",
          "text": [
            "/usr/local/lib/python3.7/dist-packages/sklearn/linear_model/_logistic.py:818: ConvergenceWarning: lbfgs failed to converge (status=1):\n",
            "STOP: TOTAL NO. of ITERATIONS REACHED LIMIT.\n",
            "\n",
            "Increase the number of iterations (max_iter) or scale the data as shown in:\n",
            "    https://scikit-learn.org/stable/modules/preprocessing.html\n",
            "Please also refer to the documentation for alternative solver options:\n",
            "    https://scikit-learn.org/stable/modules/linear_model.html#logistic-regression\n",
            "  extra_warning_msg=_LOGISTIC_SOLVER_CONVERGENCE_MSG,\n"
          ]
        },
        {
          "output_type": "stream",
          "name": "stdout",
          "text": [
            "[CV] END clf__C=0.1, clf__class_weight=None, clf__solver=lbfgs, p_transformer__degree=2; total time=   7.6s\n",
            "[CV] END clf__C=0.1, clf__class_weight=None, clf__solver=saga, p_transformer__degree=1; total time=   1.9s\n",
            "[CV] END clf__C=0.1, clf__class_weight=None, clf__solver=saga, p_transformer__degree=1; total time=   1.8s\n",
            "[CV] END clf__C=0.1, clf__class_weight=None, clf__solver=saga, p_transformer__degree=1; total time=   1.9s\n",
            "[CV] END clf__C=0.1, clf__class_weight=None, clf__solver=saga, p_transformer__degree=1; total time=   1.7s\n",
            "[CV] END clf__C=0.1, clf__class_weight=None, clf__solver=saga, p_transformer__degree=2; total time=   1.0s\n",
            "[CV] END clf__C=0.1, clf__class_weight=None, clf__solver=saga, p_transformer__degree=2; total time=   1.4s\n",
            "[CV] END clf__C=0.1, clf__class_weight=None, clf__solver=saga, p_transformer__degree=2; total time=   1.9s\n",
            "[CV] END clf__C=0.1, clf__class_weight=None, clf__solver=saga, p_transformer__degree=2; total time=   1.6s\n",
            "[CV] END clf__C=1, clf__class_weight={0: 1, 1: 5}, clf__solver=liblinear, p_transformer__degree=1; total time=   0.2s\n",
            "[CV] END clf__C=1, clf__class_weight={0: 1, 1: 5}, clf__solver=liblinear, p_transformer__degree=1; total time=   0.2s\n",
            "[CV] END clf__C=1, clf__class_weight={0: 1, 1: 5}, clf__solver=liblinear, p_transformer__degree=1; total time=   0.2s\n",
            "[CV] END clf__C=1, clf__class_weight={0: 1, 1: 5}, clf__solver=liblinear, p_transformer__degree=1; total time=   0.2s\n",
            "[CV] END clf__C=1, clf__class_weight={0: 1, 1: 5}, clf__solver=liblinear, p_transformer__degree=2; total time=   2.3s\n",
            "[CV] END clf__C=1, clf__class_weight={0: 1, 1: 5}, clf__solver=liblinear, p_transformer__degree=2; total time=   2.8s\n",
            "[CV] END clf__C=1, clf__class_weight={0: 1, 1: 5}, clf__solver=liblinear, p_transformer__degree=2; total time=   2.6s\n",
            "[CV] END clf__C=1, clf__class_weight={0: 1, 1: 5}, clf__solver=liblinear, p_transformer__degree=2; total time=   2.6s\n",
            "[CV] END clf__C=1, clf__class_weight={0: 1, 1: 5}, clf__solver=sag, p_transformer__degree=1; total time=   1.9s\n",
            "[CV] END clf__C=1, clf__class_weight={0: 1, 1: 5}, clf__solver=sag, p_transformer__degree=1; total time=   1.4s\n",
            "[CV] END clf__C=1, clf__class_weight={0: 1, 1: 5}, clf__solver=sag, p_transformer__degree=1; total time=   1.2s\n",
            "[CV] END clf__C=1, clf__class_weight={0: 1, 1: 5}, clf__solver=sag, p_transformer__degree=1; total time=   1.9s\n",
            "[CV] END clf__C=1, clf__class_weight={0: 1, 1: 5}, clf__solver=sag, p_transformer__degree=2; total time=   2.6s\n",
            "[CV] END clf__C=1, clf__class_weight={0: 1, 1: 5}, clf__solver=sag, p_transformer__degree=2; total time=   2.9s\n",
            "[CV] END clf__C=1, clf__class_weight={0: 1, 1: 5}, clf__solver=sag, p_transformer__degree=2; total time=   3.4s\n",
            "[CV] END clf__C=1, clf__class_weight={0: 1, 1: 5}, clf__solver=sag, p_transformer__degree=2; total time=   2.4s\n",
            "[CV] END clf__C=1, clf__class_weight={0: 1, 1: 5}, clf__solver=lbfgs, p_transformer__degree=1; total time=   0.7s\n",
            "[CV] END clf__C=1, clf__class_weight={0: 1, 1: 5}, clf__solver=lbfgs, p_transformer__degree=1; total time=   0.8s\n",
            "[CV] END clf__C=1, clf__class_weight={0: 1, 1: 5}, clf__solver=lbfgs, p_transformer__degree=1; total time=   0.9s\n",
            "[CV] END clf__C=1, clf__class_weight={0: 1, 1: 5}, clf__solver=lbfgs, p_transformer__degree=1; total time=   0.6s\n"
          ]
        },
        {
          "output_type": "stream",
          "name": "stderr",
          "text": [
            "/usr/local/lib/python3.7/dist-packages/sklearn/linear_model/_logistic.py:818: ConvergenceWarning: lbfgs failed to converge (status=1):\n",
            "STOP: TOTAL NO. of ITERATIONS REACHED LIMIT.\n",
            "\n",
            "Increase the number of iterations (max_iter) or scale the data as shown in:\n",
            "    https://scikit-learn.org/stable/modules/preprocessing.html\n",
            "Please also refer to the documentation for alternative solver options:\n",
            "    https://scikit-learn.org/stable/modules/linear_model.html#logistic-regression\n",
            "  extra_warning_msg=_LOGISTIC_SOLVER_CONVERGENCE_MSG,\n"
          ]
        },
        {
          "output_type": "stream",
          "name": "stdout",
          "text": [
            "[CV] END clf__C=1, clf__class_weight={0: 1, 1: 5}, clf__solver=lbfgs, p_transformer__degree=2; total time=   7.6s\n"
          ]
        },
        {
          "output_type": "stream",
          "name": "stderr",
          "text": [
            "/usr/local/lib/python3.7/dist-packages/sklearn/linear_model/_logistic.py:818: ConvergenceWarning: lbfgs failed to converge (status=1):\n",
            "STOP: TOTAL NO. of ITERATIONS REACHED LIMIT.\n",
            "\n",
            "Increase the number of iterations (max_iter) or scale the data as shown in:\n",
            "    https://scikit-learn.org/stable/modules/preprocessing.html\n",
            "Please also refer to the documentation for alternative solver options:\n",
            "    https://scikit-learn.org/stable/modules/linear_model.html#logistic-regression\n",
            "  extra_warning_msg=_LOGISTIC_SOLVER_CONVERGENCE_MSG,\n"
          ]
        },
        {
          "output_type": "stream",
          "name": "stdout",
          "text": [
            "[CV] END clf__C=1, clf__class_weight={0: 1, 1: 5}, clf__solver=lbfgs, p_transformer__degree=2; total time=   7.9s\n"
          ]
        },
        {
          "output_type": "stream",
          "name": "stderr",
          "text": [
            "/usr/local/lib/python3.7/dist-packages/sklearn/linear_model/_logistic.py:818: ConvergenceWarning: lbfgs failed to converge (status=1):\n",
            "STOP: TOTAL NO. of ITERATIONS REACHED LIMIT.\n",
            "\n",
            "Increase the number of iterations (max_iter) or scale the data as shown in:\n",
            "    https://scikit-learn.org/stable/modules/preprocessing.html\n",
            "Please also refer to the documentation for alternative solver options:\n",
            "    https://scikit-learn.org/stable/modules/linear_model.html#logistic-regression\n",
            "  extra_warning_msg=_LOGISTIC_SOLVER_CONVERGENCE_MSG,\n"
          ]
        },
        {
          "output_type": "stream",
          "name": "stdout",
          "text": [
            "[CV] END clf__C=1, clf__class_weight={0: 1, 1: 5}, clf__solver=lbfgs, p_transformer__degree=2; total time=   7.6s\n"
          ]
        },
        {
          "output_type": "stream",
          "name": "stderr",
          "text": [
            "/usr/local/lib/python3.7/dist-packages/sklearn/linear_model/_logistic.py:818: ConvergenceWarning: lbfgs failed to converge (status=1):\n",
            "STOP: TOTAL NO. of ITERATIONS REACHED LIMIT.\n",
            "\n",
            "Increase the number of iterations (max_iter) or scale the data as shown in:\n",
            "    https://scikit-learn.org/stable/modules/preprocessing.html\n",
            "Please also refer to the documentation for alternative solver options:\n",
            "    https://scikit-learn.org/stable/modules/linear_model.html#logistic-regression\n",
            "  extra_warning_msg=_LOGISTIC_SOLVER_CONVERGENCE_MSG,\n"
          ]
        },
        {
          "output_type": "stream",
          "name": "stdout",
          "text": [
            "[CV] END clf__C=1, clf__class_weight={0: 1, 1: 5}, clf__solver=lbfgs, p_transformer__degree=2; total time=   7.5s\n",
            "[CV] END clf__C=1, clf__class_weight={0: 1, 1: 5}, clf__solver=saga, p_transformer__degree=1; total time=   1.4s\n",
            "[CV] END clf__C=1, clf__class_weight={0: 1, 1: 5}, clf__solver=saga, p_transformer__degree=1; total time=   0.4s\n",
            "[CV] END clf__C=1, clf__class_weight={0: 1, 1: 5}, clf__solver=saga, p_transformer__degree=1; total time=   0.4s\n",
            "[CV] END clf__C=1, clf__class_weight={0: 1, 1: 5}, clf__solver=saga, p_transformer__degree=1; total time=   1.1s\n",
            "[CV] END clf__C=1, clf__class_weight={0: 1, 1: 5}, clf__solver=saga, p_transformer__degree=2; total time=   3.3s\n",
            "[CV] END clf__C=1, clf__class_weight={0: 1, 1: 5}, clf__solver=saga, p_transformer__degree=2; total time=   1.5s\n",
            "[CV] END clf__C=1, clf__class_weight={0: 1, 1: 5}, clf__solver=saga, p_transformer__degree=2; total time=   1.2s\n",
            "[CV] END clf__C=1, clf__class_weight={0: 1, 1: 5}, clf__solver=saga, p_transformer__degree=2; total time=   2.1s\n",
            "[CV] END clf__C=1, clf__class_weight={0: 1, 1: 3}, clf__solver=liblinear, p_transformer__degree=1; total time=   0.2s\n",
            "[CV] END clf__C=1, clf__class_weight={0: 1, 1: 3}, clf__solver=liblinear, p_transformer__degree=1; total time=   0.2s\n",
            "[CV] END clf__C=1, clf__class_weight={0: 1, 1: 3}, clf__solver=liblinear, p_transformer__degree=1; total time=   0.2s\n",
            "[CV] END clf__C=1, clf__class_weight={0: 1, 1: 3}, clf__solver=liblinear, p_transformer__degree=1; total time=   0.2s\n",
            "[CV] END clf__C=1, clf__class_weight={0: 1, 1: 3}, clf__solver=liblinear, p_transformer__degree=2; total time=   1.8s\n",
            "[CV] END clf__C=1, clf__class_weight={0: 1, 1: 3}, clf__solver=liblinear, p_transformer__degree=2; total time=   3.1s\n",
            "[CV] END clf__C=1, clf__class_weight={0: 1, 1: 3}, clf__solver=liblinear, p_transformer__degree=2; total time=   2.8s\n",
            "[CV] END clf__C=1, clf__class_weight={0: 1, 1: 3}, clf__solver=liblinear, p_transformer__degree=2; total time=   2.0s\n",
            "[CV] END clf__C=1, clf__class_weight={0: 1, 1: 3}, clf__solver=sag, p_transformer__degree=1; total time=   2.5s\n",
            "[CV] END clf__C=1, clf__class_weight={0: 1, 1: 3}, clf__solver=sag, p_transformer__degree=1; total time=   2.2s\n",
            "[CV] END clf__C=1, clf__class_weight={0: 1, 1: 3}, clf__solver=sag, p_transformer__degree=1; total time=   2.0s\n",
            "[CV] END clf__C=1, clf__class_weight={0: 1, 1: 3}, clf__solver=sag, p_transformer__degree=1; total time=   2.1s\n",
            "[CV] END clf__C=1, clf__class_weight={0: 1, 1: 3}, clf__solver=sag, p_transformer__degree=2; total time=   2.8s\n",
            "[CV] END clf__C=1, clf__class_weight={0: 1, 1: 3}, clf__solver=sag, p_transformer__degree=2; total time=   2.3s\n",
            "[CV] END clf__C=1, clf__class_weight={0: 1, 1: 3}, clf__solver=sag, p_transformer__degree=2; total time=   2.0s\n",
            "[CV] END clf__C=1, clf__class_weight={0: 1, 1: 3}, clf__solver=sag, p_transformer__degree=2; total time=   1.6s\n",
            "[CV] END clf__C=1, clf__class_weight={0: 1, 1: 3}, clf__solver=lbfgs, p_transformer__degree=1; total time=   0.6s\n",
            "[CV] END clf__C=1, clf__class_weight={0: 1, 1: 3}, clf__solver=lbfgs, p_transformer__degree=1; total time=   0.8s\n",
            "[CV] END clf__C=1, clf__class_weight={0: 1, 1: 3}, clf__solver=lbfgs, p_transformer__degree=1; total time=   0.8s\n",
            "[CV] END clf__C=1, clf__class_weight={0: 1, 1: 3}, clf__solver=lbfgs, p_transformer__degree=1; total time=   1.0s\n"
          ]
        },
        {
          "output_type": "stream",
          "name": "stderr",
          "text": [
            "/usr/local/lib/python3.7/dist-packages/sklearn/linear_model/_logistic.py:818: ConvergenceWarning: lbfgs failed to converge (status=1):\n",
            "STOP: TOTAL NO. of ITERATIONS REACHED LIMIT.\n",
            "\n",
            "Increase the number of iterations (max_iter) or scale the data as shown in:\n",
            "    https://scikit-learn.org/stable/modules/preprocessing.html\n",
            "Please also refer to the documentation for alternative solver options:\n",
            "    https://scikit-learn.org/stable/modules/linear_model.html#logistic-regression\n",
            "  extra_warning_msg=_LOGISTIC_SOLVER_CONVERGENCE_MSG,\n"
          ]
        },
        {
          "output_type": "stream",
          "name": "stdout",
          "text": [
            "[CV] END clf__C=1, clf__class_weight={0: 1, 1: 3}, clf__solver=lbfgs, p_transformer__degree=2; total time=   7.6s\n"
          ]
        },
        {
          "output_type": "stream",
          "name": "stderr",
          "text": [
            "/usr/local/lib/python3.7/dist-packages/sklearn/linear_model/_logistic.py:818: ConvergenceWarning: lbfgs failed to converge (status=1):\n",
            "STOP: TOTAL NO. of ITERATIONS REACHED LIMIT.\n",
            "\n",
            "Increase the number of iterations (max_iter) or scale the data as shown in:\n",
            "    https://scikit-learn.org/stable/modules/preprocessing.html\n",
            "Please also refer to the documentation for alternative solver options:\n",
            "    https://scikit-learn.org/stable/modules/linear_model.html#logistic-regression\n",
            "  extra_warning_msg=_LOGISTIC_SOLVER_CONVERGENCE_MSG,\n"
          ]
        },
        {
          "output_type": "stream",
          "name": "stdout",
          "text": [
            "[CV] END clf__C=1, clf__class_weight={0: 1, 1: 3}, clf__solver=lbfgs, p_transformer__degree=2; total time=   7.8s\n"
          ]
        },
        {
          "output_type": "stream",
          "name": "stderr",
          "text": [
            "/usr/local/lib/python3.7/dist-packages/sklearn/linear_model/_logistic.py:818: ConvergenceWarning: lbfgs failed to converge (status=1):\n",
            "STOP: TOTAL NO. of ITERATIONS REACHED LIMIT.\n",
            "\n",
            "Increase the number of iterations (max_iter) or scale the data as shown in:\n",
            "    https://scikit-learn.org/stable/modules/preprocessing.html\n",
            "Please also refer to the documentation for alternative solver options:\n",
            "    https://scikit-learn.org/stable/modules/linear_model.html#logistic-regression\n",
            "  extra_warning_msg=_LOGISTIC_SOLVER_CONVERGENCE_MSG,\n"
          ]
        },
        {
          "output_type": "stream",
          "name": "stdout",
          "text": [
            "[CV] END clf__C=1, clf__class_weight={0: 1, 1: 3}, clf__solver=lbfgs, p_transformer__degree=2; total time=   7.9s\n"
          ]
        },
        {
          "output_type": "stream",
          "name": "stderr",
          "text": [
            "/usr/local/lib/python3.7/dist-packages/sklearn/linear_model/_logistic.py:818: ConvergenceWarning: lbfgs failed to converge (status=1):\n",
            "STOP: TOTAL NO. of ITERATIONS REACHED LIMIT.\n",
            "\n",
            "Increase the number of iterations (max_iter) or scale the data as shown in:\n",
            "    https://scikit-learn.org/stable/modules/preprocessing.html\n",
            "Please also refer to the documentation for alternative solver options:\n",
            "    https://scikit-learn.org/stable/modules/linear_model.html#logistic-regression\n",
            "  extra_warning_msg=_LOGISTIC_SOLVER_CONVERGENCE_MSG,\n"
          ]
        },
        {
          "output_type": "stream",
          "name": "stdout",
          "text": [
            "[CV] END clf__C=1, clf__class_weight={0: 1, 1: 3}, clf__solver=lbfgs, p_transformer__degree=2; total time=   7.8s\n",
            "[CV] END clf__C=1, clf__class_weight={0: 1, 1: 3}, clf__solver=saga, p_transformer__degree=1; total time=   3.0s\n",
            "[CV] END clf__C=1, clf__class_weight={0: 1, 1: 3}, clf__solver=saga, p_transformer__degree=1; total time=   2.2s\n",
            "[CV] END clf__C=1, clf__class_weight={0: 1, 1: 3}, clf__solver=saga, p_transformer__degree=1; total time=   1.5s\n",
            "[CV] END clf__C=1, clf__class_weight={0: 1, 1: 3}, clf__solver=saga, p_transformer__degree=1; total time=   1.9s\n",
            "[CV] END clf__C=1, clf__class_weight={0: 1, 1: 3}, clf__solver=saga, p_transformer__degree=2; total time=   3.3s\n",
            "[CV] END clf__C=1, clf__class_weight={0: 1, 1: 3}, clf__solver=saga, p_transformer__degree=2; total time=   1.5s\n",
            "[CV] END clf__C=1, clf__class_weight={0: 1, 1: 3}, clf__solver=saga, p_transformer__degree=2; total time=   1.6s\n",
            "[CV] END clf__C=1, clf__class_weight={0: 1, 1: 3}, clf__solver=saga, p_transformer__degree=2; total time=   1.6s\n",
            "[CV] END clf__C=1, clf__class_weight=None, clf__solver=liblinear, p_transformer__degree=1; total time=   0.2s\n",
            "[CV] END clf__C=1, clf__class_weight=None, clf__solver=liblinear, p_transformer__degree=1; total time=   0.2s\n",
            "[CV] END clf__C=1, clf__class_weight=None, clf__solver=liblinear, p_transformer__degree=1; total time=   0.2s\n",
            "[CV] END clf__C=1, clf__class_weight=None, clf__solver=liblinear, p_transformer__degree=1; total time=   0.2s\n",
            "[CV] END clf__C=1, clf__class_weight=None, clf__solver=liblinear, p_transformer__degree=2; total time=   2.3s\n",
            "[CV] END clf__C=1, clf__class_weight=None, clf__solver=liblinear, p_transformer__degree=2; total time=   1.3s\n",
            "[CV] END clf__C=1, clf__class_weight=None, clf__solver=liblinear, p_transformer__degree=2; total time=   2.3s\n",
            "[CV] END clf__C=1, clf__class_weight=None, clf__solver=liblinear, p_transformer__degree=2; total time=   2.0s\n",
            "[CV] END clf__C=1, clf__class_weight=None, clf__solver=sag, p_transformer__degree=1; total time=   3.6s\n",
            "[CV] END clf__C=1, clf__class_weight=None, clf__solver=sag, p_transformer__degree=1; total time=   3.4s\n",
            "[CV] END clf__C=1, clf__class_weight=None, clf__solver=sag, p_transformer__degree=1; total time=   3.7s\n",
            "[CV] END clf__C=1, clf__class_weight=None, clf__solver=sag, p_transformer__degree=1; total time=   2.8s\n",
            "[CV] END clf__C=1, clf__class_weight=None, clf__solver=sag, p_transformer__degree=2; total time=   1.4s\n",
            "[CV] END clf__C=1, clf__class_weight=None, clf__solver=sag, p_transformer__degree=2; total time=   1.0s\n",
            "[CV] END clf__C=1, clf__class_weight=None, clf__solver=sag, p_transformer__degree=2; total time=   1.4s\n",
            "[CV] END clf__C=1, clf__class_weight=None, clf__solver=sag, p_transformer__degree=2; total time=   1.3s\n",
            "[CV] END clf__C=1, clf__class_weight=None, clf__solver=lbfgs, p_transformer__degree=1; total time=   1.2s\n",
            "[CV] END clf__C=1, clf__class_weight=None, clf__solver=lbfgs, p_transformer__degree=1; total time=   1.4s\n",
            "[CV] END clf__C=1, clf__class_weight=None, clf__solver=lbfgs, p_transformer__degree=1; total time=   1.3s\n",
            "[CV] END clf__C=1, clf__class_weight=None, clf__solver=lbfgs, p_transformer__degree=1; total time=   0.9s\n"
          ]
        },
        {
          "output_type": "stream",
          "name": "stderr",
          "text": [
            "/usr/local/lib/python3.7/dist-packages/sklearn/linear_model/_logistic.py:818: ConvergenceWarning: lbfgs failed to converge (status=1):\n",
            "STOP: TOTAL NO. of ITERATIONS REACHED LIMIT.\n",
            "\n",
            "Increase the number of iterations (max_iter) or scale the data as shown in:\n",
            "    https://scikit-learn.org/stable/modules/preprocessing.html\n",
            "Please also refer to the documentation for alternative solver options:\n",
            "    https://scikit-learn.org/stable/modules/linear_model.html#logistic-regression\n",
            "  extra_warning_msg=_LOGISTIC_SOLVER_CONVERGENCE_MSG,\n"
          ]
        },
        {
          "output_type": "stream",
          "name": "stdout",
          "text": [
            "[CV] END clf__C=1, clf__class_weight=None, clf__solver=lbfgs, p_transformer__degree=2; total time=   7.6s\n"
          ]
        },
        {
          "output_type": "stream",
          "name": "stderr",
          "text": [
            "/usr/local/lib/python3.7/dist-packages/sklearn/linear_model/_logistic.py:818: ConvergenceWarning: lbfgs failed to converge (status=1):\n",
            "STOP: TOTAL NO. of ITERATIONS REACHED LIMIT.\n",
            "\n",
            "Increase the number of iterations (max_iter) or scale the data as shown in:\n",
            "    https://scikit-learn.org/stable/modules/preprocessing.html\n",
            "Please also refer to the documentation for alternative solver options:\n",
            "    https://scikit-learn.org/stable/modules/linear_model.html#logistic-regression\n",
            "  extra_warning_msg=_LOGISTIC_SOLVER_CONVERGENCE_MSG,\n"
          ]
        },
        {
          "output_type": "stream",
          "name": "stdout",
          "text": [
            "[CV] END clf__C=1, clf__class_weight=None, clf__solver=lbfgs, p_transformer__degree=2; total time=   7.9s\n"
          ]
        },
        {
          "output_type": "stream",
          "name": "stderr",
          "text": [
            "/usr/local/lib/python3.7/dist-packages/sklearn/linear_model/_logistic.py:818: ConvergenceWarning: lbfgs failed to converge (status=1):\n",
            "STOP: TOTAL NO. of ITERATIONS REACHED LIMIT.\n",
            "\n",
            "Increase the number of iterations (max_iter) or scale the data as shown in:\n",
            "    https://scikit-learn.org/stable/modules/preprocessing.html\n",
            "Please also refer to the documentation for alternative solver options:\n",
            "    https://scikit-learn.org/stable/modules/linear_model.html#logistic-regression\n",
            "  extra_warning_msg=_LOGISTIC_SOLVER_CONVERGENCE_MSG,\n"
          ]
        },
        {
          "output_type": "stream",
          "name": "stdout",
          "text": [
            "[CV] END clf__C=1, clf__class_weight=None, clf__solver=lbfgs, p_transformer__degree=2; total time=   7.8s\n"
          ]
        },
        {
          "output_type": "stream",
          "name": "stderr",
          "text": [
            "/usr/local/lib/python3.7/dist-packages/sklearn/linear_model/_logistic.py:818: ConvergenceWarning: lbfgs failed to converge (status=1):\n",
            "STOP: TOTAL NO. of ITERATIONS REACHED LIMIT.\n",
            "\n",
            "Increase the number of iterations (max_iter) or scale the data as shown in:\n",
            "    https://scikit-learn.org/stable/modules/preprocessing.html\n",
            "Please also refer to the documentation for alternative solver options:\n",
            "    https://scikit-learn.org/stable/modules/linear_model.html#logistic-regression\n",
            "  extra_warning_msg=_LOGISTIC_SOLVER_CONVERGENCE_MSG,\n"
          ]
        },
        {
          "output_type": "stream",
          "name": "stdout",
          "text": [
            "[CV] END clf__C=1, clf__class_weight=None, clf__solver=lbfgs, p_transformer__degree=2; total time=   7.8s\n",
            "[CV] END clf__C=1, clf__class_weight=None, clf__solver=saga, p_transformer__degree=1; total time=   5.4s\n",
            "[CV] END clf__C=1, clf__class_weight=None, clf__solver=saga, p_transformer__degree=1; total time=   4.8s\n",
            "[CV] END clf__C=1, clf__class_weight=None, clf__solver=saga, p_transformer__degree=1; total time=   4.7s\n",
            "[CV] END clf__C=1, clf__class_weight=None, clf__solver=saga, p_transformer__degree=1; total time=   2.7s\n",
            "[CV] END clf__C=1, clf__class_weight=None, clf__solver=saga, p_transformer__degree=2; total time=   1.0s\n",
            "[CV] END clf__C=1, clf__class_weight=None, clf__solver=saga, p_transformer__degree=2; total time=   1.4s\n",
            "[CV] END clf__C=1, clf__class_weight=None, clf__solver=saga, p_transformer__degree=2; total time=   1.9s\n",
            "[CV] END clf__C=1, clf__class_weight=None, clf__solver=saga, p_transformer__degree=2; total time=   1.6s\n",
            "[{'clf__C': 1, 'clf__class_weight': {0: 1, 1: 5}, 'clf__solver': 'liblinear', 'p_transformer__degree': 1}]\n"
          ]
        }
      ],
      "source": [
        "scoring = 'f1'\n",
        "best_params= []\n",
        "print('start')\n",
        "\n",
        "lrg_grid = GridSearchCV(estimator = clf, param_grid = random_grid_lrg, scoring= scoring, cv = 4, verbose=2, pre_dispatch=2)\n",
        "\n",
        "\n",
        "lrg_grid.fit(X, Y)\n",
        "\n",
        "best_params += [lrg_grid.best_params_]\n",
        "print(best_params)"
      ]
    },
    {
      "cell_type": "code",
      "source": [
        "# Other best_params we got:\n",
        "# accuracy:\n",
        "## {'clf__C': 0.1, 'clf__penalty': 'l2', 'clf__solver': 'saga', 'p_transformer__degree': 1}\n",
        "## {'clf__C': 1, 'clf__solver': 'liblinear', 'p_transformer__degree': 1}\n",
        "## {'clf__C': 0.1,'clf__class_weight': None,'clf__solver': 'liblinear','p_transformer__degree': 1}\n",
        "#  f1:\n",
        "## {'clf__C': 1, 'clf__class_weight': {0: 1, 1: 5}, 'clf__solver': 'liblinear', 'p_transformer__degree': 1}"
      ],
      "metadata": {
        "id": "VALjKnpirVwE"
      },
      "execution_count": null,
      "outputs": []
    },
    {
      "cell_type": "markdown",
      "source": [
        "Best Model:"
      ],
      "metadata": {
        "id": "bNSwZJnRwyyy"
      }
    },
    {
      "cell_type": "code",
      "execution_count": 25,
      "metadata": {
        "id": "LOl9g5ZTvixn"
      },
      "outputs": [],
      "source": [
        "\n",
        "deg = 1\n",
        "\n",
        "lrg = LogisticRegression(fit_intercept=True, penalty='l2', max_iter=400, C=1, tol=.005, class_weight ={0: 1, 1: 5}, solver='liblinear')\n",
        "clf = Pipeline([('scaler', StandardScaler() ), \n",
        "                        ('p_transformer', PolynomialFeatures(degree = deg)), \n",
        "                        ('clf', lrg)])"
      ]
    },
    {
      "cell_type": "markdown",
      "metadata": {
        "id": "8h2D5sNBxjOz"
      },
      "source": [
        "### Learning Curve"
      ]
    },
    {
      "cell_type": "code",
      "execution_count": 15,
      "metadata": {
        "id": "GO7mkbIjxkiE",
        "colab": {
          "base_uri": "https://localhost:8080/",
          "height": 923
        },
        "outputId": "d0d479e8-9768-4d2d-f4e3-dc9e48254bea"
      },
      "outputs": [
        {
          "output_type": "display_data",
          "data": {
            "image/png": "[encoded data removed]",
            "text/plain": [
              "<Figure size 576x360 with 1 Axes>"
            ]
          },
          "metadata": {
            "needs_background": "light"
          }
        },
        {
          "output_type": "stream",
          "name": "stdout",
          "text": [
            "Training scores:\n",
            "\n",
            "            cv1       cv2       cv3       cv4\n",
            "0.01       NaN  0.500000  0.500000  0.500000\n",
            "0.10       NaN  0.260000  0.260000  0.260000\n",
            "0.19       NaN  0.248307  0.248307  0.248307\n",
            "0.28       NaN  0.219883  0.219883  0.219883\n",
            "0.37       NaN  0.467423  0.229651  0.229651\n",
            "0.46  0.294118  0.386436  0.212958  0.212958\n",
            "0.55  0.344000  0.325729  0.232574  0.232574\n",
            "0.64  0.365482  0.261195  0.546439  0.248047\n",
            "0.73  0.392709  0.234887  0.497275  0.263026\n",
            "0.82  0.410071  0.287510  0.413379  0.290477\n",
            "0.91  0.443112  0.356297  0.363245  0.317869\n",
            "1.00  0.487897  0.427252  0.431276  0.565561\n",
            "\n",
            " ----------------------------------------------------------------------\n",
            "\n",
            "Validation scores:\n",
            "\n",
            "            cv1       cv2       cv3       cv4  mean_score\n",
            "0.01       NaN  0.373676  0.260343  0.218369         NaN\n",
            "0.10       NaN  0.388833  0.227264  0.208375         NaN\n",
            "0.19       NaN  0.568507  0.434401  0.295284         NaN\n",
            "0.28       NaN  0.587503  0.435761  0.281771         NaN\n",
            "0.37       NaN  0.546339  0.461665  0.302415         NaN\n",
            "0.46  0.004808  0.614879  0.486646  0.322592    0.357231\n",
            "0.55  0.018417  0.579133  0.498758  0.334395    0.357676\n",
            "0.64  0.031843  0.497864  0.281984  0.332451    0.286035\n",
            "0.73  0.041793  0.415601  0.424909  0.330765    0.303267\n",
            "0.82  0.045745  0.514668  0.494328  0.331831    0.346643\n",
            "0.91  0.054905  0.562403  0.507991  0.332236    0.364384\n",
            "1.00  0.080608  0.584372  0.523992  0.238921    0.356973\n"
          ]
        }
      ],
      "source": [
        "scoring= 'f1'\n",
        "cv= 4\n",
        "\n",
        "ns = np.linspace(.01,1, num=12)\n",
        "train_sizes, train_scores, valid_scores = learning_curve(clf, X, Y, train_sizes=ns,\n",
        "                                                         cv=cv, scoring= scoring, n_jobs = -1)\n",
        "\n",
        "train_scores_mean =  train_scores.mean(axis = 1)\n",
        "train_scores_std = np.std(train_scores, axis=1)\n",
        "validation_scores_mean =  valid_scores.mean(axis = 1)\n",
        "validation_scores_std  = valid_scores.std(axis = 1)\n",
        "\n",
        "xlabel = 'Sample Size'\n",
        "ylabel = scoring\n",
        "plt_title = 'Learning Curve'\n",
        "\n",
        "fig = plt.figure(figsize=(8,5))\n",
        "ax = fig.add_subplot(111, xlabel=xlabel, ylabel=ylabel, title=plt_title)\n",
        "ax.plot(train_sizes, train_scores_mean, label = 'Training Score')\n",
        "ax.plot(train_sizes, validation_scores_mean, label = 'Validation Score')\n",
        "\n",
        "plt.fill_between(train_sizes, train_scores_mean - train_scores_std,\n",
        "                 train_scores_mean + train_scores_std, alpha=0.2,\n",
        "                 color=\"darkblue\", lw=2)\n",
        "plt.fill_between(train_sizes, validation_scores_mean - validation_scores_std,\n",
        "                 validation_scores_mean + validation_scores_std, alpha=0.2,\n",
        "                 color=\"darkgreen\", lw=2)\n",
        "\n",
        "plt.legend()\n",
        "# plt.yscale('log')\n",
        "plt.show()\n",
        "\n",
        "print('Training scores:\\n\\n', pd.DataFrame( train_scores, columns=[f'cv{i+1}' for i in range(cv)], index=ns) )\n",
        "print('\\n', '-' * 70) # separator to make the output easy to read\n",
        "valid_df = pd.DataFrame(valid_scores, columns=[f'cv{i+1}' for i in range(cv)], index=ns)\n",
        "valid_df['mean_score'] = validation_scores_mean\n",
        "print('\\nValidation scores:\\n\\n',valid_df )"
      ]
    },
    {
      "cell_type": "markdown",
      "source": [
        "Found the best split of data:"
      ],
      "metadata": {
        "id": "eK4kX8e-xKOf"
      }
    },
    {
      "cell_type": "code",
      "source": [
        "X_train, X_test, Y_train, Y_test = train_test_split(*shuffle(X, Y, n_samples = 100000, random_state=0) , random_state=0, test_size =.09)"
      ],
      "metadata": {
        "id": "9zJeFUq4vFOC"
      },
      "execution_count": 30,
      "outputs": []
    },
    {
      "cell_type": "markdown",
      "metadata": {
        "id": "JUP7ITZJxun1"
      },
      "source": [
        "### Validation Curve"
      ]
    },
    {
      "cell_type": "code",
      "execution_count": 20,
      "metadata": {
        "id": "yDDRiRqUxv_i",
        "colab": {
          "base_uri": "https://localhost:8080/",
          "height": 923
        },
        "outputId": "2d05c519-e707-4ab5-e393-1ff6003426e4"
      },
      "outputs": [
        {
          "output_type": "stream",
          "name": "stderr",
          "text": [
            "[Parallel(n_jobs=1)]: Using backend SequentialBackend with 1 concurrent workers.\n"
          ]
        },
        {
          "output_type": "stream",
          "name": "stdout",
          "text": [
            "[CV] END ............................p_transformer__degree=1; total time=   0.2s\n"
          ]
        },
        {
          "output_type": "stream",
          "name": "stderr",
          "text": [
            "[Parallel(n_jobs=1)]: Done   1 out of   1 | elapsed:    0.2s remaining:    0.0s\n"
          ]
        },
        {
          "output_type": "stream",
          "name": "stdout",
          "text": [
            "[CV] END ............................p_transformer__degree=2; total time=   2.0s\n",
            "[CV] END ............................p_transformer__degree=3; total time=  29.8s\n",
            "[CV] END ............................p_transformer__degree=1; total time=   0.2s\n",
            "[CV] END ............................p_transformer__degree=2; total time=   3.7s\n",
            "[CV] END ............................p_transformer__degree=3; total time=  26.7s\n",
            "[CV] END ............................p_transformer__degree=1; total time=   0.2s\n",
            "[CV] END ............................p_transformer__degree=2; total time=   3.9s\n",
            "[CV] END ............................p_transformer__degree=3; total time=  24.4s\n",
            "[CV] END ............................p_transformer__degree=1; total time=   0.2s\n",
            "[CV] END ............................p_transformer__degree=2; total time=   2.5s\n",
            "[CV] END ............................p_transformer__degree=3; total time=  35.5s\n",
            "[CV] END ............................p_transformer__degree=1; total time=   0.2s\n",
            "[CV] END ............................p_transformer__degree=2; total time=   2.3s\n",
            "[CV] END ............................p_transformer__degree=3; total time=  12.3s\n"
          ]
        },
        {
          "output_type": "stream",
          "name": "stderr",
          "text": [
            "[Parallel(n_jobs=1)]: Done  15 out of  15 | elapsed:  2.4min finished\n"
          ]
        },
        {
          "output_type": "display_data",
          "data": {
            "image/png": "[encoded data removed]",
            "text/plain": [
              "<Figure size 576x360 with 1 Axes>"
            ]
          },
          "metadata": {
            "needs_background": "light"
          }
        },
        {
          "output_type": "stream",
          "name": "stdout",
          "text": [
            "Training scores:\n",
            "\n",
            "         cv1       cv2       cv3       cv4       cv5\n",
            "1  0.481732  0.443445  0.427171  0.443471  0.544782\n",
            "2  0.479925  0.443628  0.430973  0.449006  0.553530\n",
            "3  0.480169  0.441029  0.435035  0.452648  0.553132\n",
            "\n",
            " ----------------------------------------------------------------------\n",
            "\n",
            "Validation scores:\n",
            "\n",
            "         cv1       cv2       cv3       cv4       cv5  mean_score\n",
            "1  0.081717  0.549336  0.589744  0.486679  0.240037    0.389503\n",
            "2  0.048699  0.546426  0.547295  0.422782  0.220933    0.357227\n",
            "3  0.018755  0.534994  0.466750  0.374902  0.217544    0.322589\n"
          ]
        }
      ],
      "source": [
        "cv=5\n",
        "scoring='f1'\n",
        "deg_list = [1,2,3]\n",
        "train_scores, valid_scores = validation_curve(clf, X, Y, \n",
        "                                              param_name='p_transformer__degree',\n",
        "                                              param_range= deg_list, \n",
        "                                              cv=cv, \n",
        "                                              scoring = scoring,\n",
        "                                              verbose=2, \n",
        "                                              pre_dispatch=3\n",
        "                                             )\n",
        "train_scores_mean = np.mean(train_scores, axis=1)\n",
        "train_scores_std = np.std(train_scores, axis=1)\n",
        "valid_scores_mean = np.mean(valid_scores, axis=1)\n",
        "valid_scores_std = np.std(valid_scores, axis=1)\n",
        "\n",
        "xlabel = 'Polynomial Degree'\n",
        "ylabel = scoring\n",
        "plt_title = 'Validation Curve'\n",
        "\n",
        "fig = plt.figure(figsize=(8,5))\n",
        "ax = fig.add_subplot(111, xlabel=xlabel, ylabel=ylabel, title=plt_title)\n",
        "plt.plot(deg_list, train_scores_mean, label=\"Training score\",\n",
        "                 color=\"darkorange\", lw=2)\n",
        "plt.fill_between(deg_list, train_scores_mean - train_scores_std,\n",
        "                 train_scores_mean + train_scores_std, alpha=0.2,\n",
        "                 color=\"darkorange\", lw=2)\n",
        "plt.plot(deg_list, valid_scores_mean, label=\"Validation score\",\n",
        "             color=\"navy\", lw=2)\n",
        "plt.fill_between(deg_list, valid_scores_mean - valid_scores_std,\n",
        "                 valid_scores_mean + valid_scores_std, alpha=0.2,\n",
        "                 color=\"navy\", lw=2)\n",
        "plt.legend(loc=\"best\")\n",
        "plt.show()\n",
        "\n",
        "print('Training scores:\\n\\n', pd.DataFrame(train_scores, columns=[f'cv{i+1}' for i in range(cv)], index=deg_list) )\n",
        "print('\\n', '-' * 70) # separator to make the output easy to read\n",
        "val_df = pd.DataFrame(valid_scores, columns=[f'cv{i+1}' for i in range(cv)], index=deg_list)\n",
        "val_df['mean_score'] = valid_scores_mean\n",
        "print('\\nValidation scores:\\n\\n', val_df )"
      ]
    },
    {
      "cell_type": "markdown",
      "metadata": {
        "id": "3rjtwSo6yr5w"
      },
      "source": [
        "### Classification Report \n",
        "Print some information about the trained model such as training time, ... "
      ]
    },
    {
      "cell_type": "code",
      "execution_count": 31,
      "metadata": {
        "colab": {
          "base_uri": "https://localhost:8080/"
        },
        "outputId": "4f3ca5a0-2006-4304-bde8-2a097fcb9d8a",
        "id": "vtE2R3jwyr5w"
      },
      "outputs": [
        {
          "output_type": "stream",
          "name": "stdout",
          "text": [
            "The in-sample error is 0.1735, and the out_sample error is 0.1721.\n",
            "The out_sample f1 score is 0.677215446175149\n",
            "\n",
            "\n",
            "              precision    recall  f1-score   support\n",
            "\n",
            "           0       0.95      0.85      0.90      7978\n",
            "           1       0.36      0.64      0.46      1022\n",
            "\n",
            "    accuracy                           0.83      9000\n",
            "   macro avg       0.65      0.74      0.68      9000\n",
            "weighted avg       0.88      0.83      0.85      9000\n",
            "\n",
            "Training Time was: 0.18645167350769043\n",
            "Prediction Time was: 0.0020079612731933594\n"
          ]
        }
      ],
      "source": [
        "from sklearn.metrics import classification_report\n",
        "\n",
        "deg = 1\n",
        "\n",
        "lrg = LogisticRegression(fit_intercept=True, penalty='l2', max_iter=400, C=1, tol=.005, class_weight ={0: 1, 1: 5}, solver='liblinear')\n",
        "clf = Pipeline([('scaler', StandardScaler() ), \n",
        "                        ('p_transformer', PolynomialFeatures(degree = deg)), \n",
        "                        ('clf', lrg)])\n",
        "start = time.time()\n",
        "trained_model = clf.fit(X_train,Y_train)\n",
        "runtime_train = time.time() - start\n",
        "\n",
        "### Testing the model\n",
        "\n",
        "start = time.time()\n",
        "Y_pred = trained_model.predict(X_test)\n",
        "runtime_pred = time.time() - start\n",
        "out_error = np.abs(Y_test - Y_pred).sum() / len(Y_test)\n",
        "\n",
        "in_error = np.abs(Y_train - trained_model.predict(X_train)  ).sum() / len(Y_train)\n",
        "\n",
        "f1 = f1_score(Y_test, Y_pred, average='macro')\n",
        "\n",
        "print(f'The in-sample error is {in_error:.4f}, and the out_sample error is {out_error:.4f}.')\n",
        "print(f'The out_sample f1 score is {f1}\\n\\n')\n",
        "\n",
        "clf_report = classification_report(Y_test, Y_pred)\n",
        "print(clf_report)\n",
        "\n",
        "EM3 = scoring\n",
        "CVS3 = f1_score(Y_train, clf.predict(X_train))\n",
        "CPS3 = f1_score(Y_test, Y_pred)\n",
        "T3 = runtime_train\n",
        "PT3 = runtime_pred\n",
        "print( \"Training Time was: \" + str(T3))\n",
        "print(\"Prediction Time was: \" + str(PT3))"
      ]
    },
    {
      "cell_type": "markdown",
      "metadata": {
        "id": "P9K93ONRxdNR"
      },
      "source": [
        "### Confusion Matrix"
      ]
    },
    {
      "cell_type": "code",
      "execution_count": 32,
      "metadata": {
        "id": "atjSM1dzxeg1",
        "colab": {
          "base_uri": "https://localhost:8080/",
          "height": 279
        },
        "outputId": "e4983998-b886-41c6-b4cc-db56270016c7"
      },
      "outputs": [
        {
          "output_type": "display_data",
          "data": {
            "image/png": "[encoded data removed]",
            "text/plain": [
              "<Figure size 432x288 with 2 Axes>"
            ]
          },
          "metadata": {
            "needs_background": "light"
          }
        }
      ],
      "source": [
        "from sklearn.metrics import ConfusionMatrixDisplay\n",
        "cm = confusion_matrix(Y_test, Y_pred, labels=clf.classes_)\n",
        "disp = ConfusionMatrixDisplay(confusion_matrix=cm, display_labels=clf.classes_)\n",
        "disp.plot()\n",
        "plt.show()"
      ]
    },
    {
      "cell_type": "markdown",
      "metadata": {
        "id": "3MWNGdkn0bt9"
      },
      "source": [
        "# KNN"
      ]
    },
    {
      "cell_type": "code",
      "execution_count": null,
      "metadata": {
        "id": "ItRUYOPG0cwe"
      },
      "outputs": [],
      "source": [
        "from sklearn.neighbors import KNeighborsClassifier\n",
        "classifier = KNeighborsClassifier(n_neighbors = 3, weights='uniform', \n",
        "                                  algorithm='auto', leaf_size = 30, p = 2, metric='minkowski', metric_params = None)\n",
        "#check\n",
        "%t classifier.fit(X_train , Y_train)\n",
        "\n",
        "#Testing the classification on the test sample\n",
        "Y_predict_knn = classifier.predict(X_test)\n",
        "#check\n",
        "%t Y_predict_knn = classifier.predict(X_test)"
      ]
    },
    {
      "cell_type": "code",
      "execution_count": null,
      "metadata": {
        "id": "hHSzAi3g00pP"
      },
      "outputs": [],
      "source": [
        "import matplotlib.pyplot as plt\n",
        "\n",
        "fig = plt.figure(figsize=(20,10))\n",
        "ax = fig.add_subplot(121 , xlabel = '$\\delta(rc=0.8)$', ylabel='$\\delta(rc=1.2)$' , title = 'Result of the Classification')\n",
        "\n",
        "ax.scatter(*X_test[:,:2].T, c=Y_test)    \n",
        "\n",
        "ax = fig.add_subplot(122 , xlabel = '$\\delta(rc=0.8)$', ylabel='$\\delta(rc=1.2)$' , title = 'Predicitions of the Knn classifier')\n",
        "plt.scatter(*X_test[:,:2].T, c = Y_predict_knn)\n",
        "plt.show()\n",
        "\n",
        "\n",
        "plt.show()"
      ]
    },
    {
      "cell_type": "code",
      "execution_count": null,
      "metadata": {
        "id": "P6GRnLd-0-u3"
      },
      "outputs": [],
      "source": [
        "from sklearn.metrics import classification_report\n",
        "clf_report = classification_report(Y_test, Y_predict_knn)\n",
        "print(clf_report)"
      ]
    },
    {
      "cell_type": "markdown",
      "metadata": {
        "id": "9SRmVOGm1FE6"
      },
      "source": [
        "### Validation Curve"
      ]
    },
    {
      "cell_type": "code",
      "execution_count": null,
      "metadata": {
        "id": "sbduuUqg1GpP"
      },
      "outputs": [],
      "source": [
        "from sklearn.model_selection import validation_curve\n",
        "\n",
        "\n",
        "param_range = np.arange(1,30, 1)\n",
        "print(param_range)\n",
        "\n",
        "train_scores, test_scores = validation_curve(\n",
        "classifier, X=X, y=Y,cv=5, param_name=\"n_neighbors\", param_range=param_range,\n",
        "scoring=\"accuracy\", n_jobs=1)\n",
        "\n",
        "\n",
        "train_scores_mean = np.mean(train_scores, axis=1)\n",
        "test_scores_mean = np.mean(test_scores, axis=1)\n",
        "\n",
        "plt.plot(param_range, train_scores_mean,'r--',label = 'Training Score')\n",
        "plt.plot(param_range, test_scores_mean,'g--',label = 'Cross-validation score')\n",
        "\n",
        "plt.title('validation curve')\n",
        "plt.xlabel('# Neighbors')\n",
        "plt.ylabel('Score')\n",
        "plt.legend(loc='upper left')\n",
        "\n",
        "plt.show()"
      ]
    },
    {
      "cell_type": "markdown",
      "metadata": {
        "id": "794ELCS61Qtk"
      },
      "source": [
        "Optimal value of $n_{neighbor}$ = 28"
      ]
    },
    {
      "cell_type": "markdown",
      "metadata": {
        "id": "10GME4F-1Rd-"
      },
      "source": [
        "### Run-Time vs. leaf-size\n",
        "\n"
      ]
    },
    {
      "cell_type": "code",
      "execution_count": null,
      "metadata": {
        "id": "bviM3RrC1URf"
      },
      "outputs": [],
      "source": [
        "import time\n",
        "\n",
        "leaf_range = np.arange(1,40,1)\n",
        "\n",
        "t_time = np.array([])\n",
        "p_time = np.array([])\n",
        "\n",
        "for i in leaf_range:\n",
        "    print(i)\n",
        "    classifier = KNeighborsClassifier(n_neighbors=20 , leaf_size=i, p=2, metric='minkowski')\n",
        "    \n",
        "    start = time.time()\n",
        "    classifier.fit(X_train, Y_train)\n",
        "    stop = time.time()\n",
        "    t1 = stop - start\n",
        "    t_time = np.append(t_time , t1)\n",
        "    \n",
        "    start = time.time()\n",
        "    n = classifier.predict(X_test)\n",
        "    stop = time.time()\n",
        "    t2 = stop - start\n",
        "    p_time = np.append(p_time , t2)\n",
        "    \n",
        "plt.plot(leaf_range , t_time , 'b--' , label = 'Training time')\n",
        "plt.plot(leaf_range , p_time , 'r--' , label = 'Prediction time')\n",
        "plt.title('Leaf_size versus time')\n",
        "plt.xlabel('Leaf size')\n",
        "plt.ylabel('Time')\n",
        "plt.legend(loc='upper left')\n",
        "plt.show()"
      ]
    },
    {
      "cell_type": "markdown",
      "metadata": {
        "id": "ivki2DbV1ewE"
      },
      "source": [
        "### Learning Curve"
      ]
    },
    {
      "cell_type": "code",
      "execution_count": null,
      "metadata": {
        "id": "4Y0iyVwJ1gZZ"
      },
      "outputs": [],
      "source": [
        "from sklearn.model_selection import learning_curve, validation_curve\n",
        "import pandas as pd\n",
        "train_sizes = np.arange(1000,4000,8000)\n",
        "\n",
        "print('learning started')\n",
        "ns_list, train_scores, validation_scores = learning_curve(\n",
        "                                                   estimator= classifier , X = X,\n",
        "                                                   y = Y, train_sizes = train_sizes, cv = 5, random_state = 0)\n",
        "\n",
        "print('Training scores:\\n\\n', pd.DataFrame( train_scores) )\n",
        "\n",
        "print('\\nValidation scores:\\n\\n', pd.DataFrame(validation_scores) )"
      ]
    },
    {
      "cell_type": "markdown",
      "metadata": {
        "id": "oKwCFu0l1mwC"
      },
      "source": [
        "### Fine Tuning The Model\n",
        "\n",
        "\n"
      ]
    },
    {
      "cell_type": "code",
      "execution_count": null,
      "metadata": {
        "id": "IIXu__Ul1nPk"
      },
      "outputs": [],
      "source": [
        "X_train, X_test, Y_train, Y_test  = train_test_split(X, Y, train_size = 9000 , random_state= 0)\n",
        "\n",
        "print(len(X_train))\n",
        "print(len(X_test))\n",
        "print(len(Y))"
      ]
    },
    {
      "cell_type": "code",
      "execution_count": null,
      "metadata": {
        "id": "tuKdtbLM1uUj"
      },
      "outputs": [],
      "source": [
        "classifier = KNeighborsClassifier(n_neighbors=20 , leaf_size=30 , p=2, metric='minkowski')\n",
        "start = time.time()\n",
        "%t classifier.fit(X_train , Y_train)\n",
        "runtime_train = time.time() - start\n",
        "#Testing the classification on the test sample\n",
        "start = time.time()\n",
        "Y_predict_knn = classifier.predict(X_test)\n",
        "runtime_pred = time.time() - start\n",
        "%t Y_predict_knn = classifier.predict(X_test)\n",
        "print(len(Y_test))\n",
        "print(len(Y_predict_knn[Y_predict_knn == 1]))"
      ]
    },
    {
      "cell_type": "code",
      "execution_count": null,
      "metadata": {
        "id": "hz6umQGe15Xh"
      },
      "outputs": [],
      "source": [
        "from sklearn.metrics import classification_report\n",
        "clf_report = classification_report(Y_test, Y_predict_knn)\n",
        "print(clf_report)"
      ]
    },
    {
      "cell_type": "markdown",
      "metadata": {
        "id": "L9PRUl0r14qE"
      },
      "source": [
        "### Metrics\n"
      ]
    },
    {
      "cell_type": "code",
      "execution_count": null,
      "metadata": {
        "id": "jkJDCtnZ1-Xx"
      },
      "outputs": [],
      "source": [
        "from sklearn.metrics import confusion_matrix\n",
        "conf_matrix = confusion_matrix(Y_test , Y_predict_knn)\n",
        "print('Here is the confusion matrix for the Knn classifier: \\n'  )\n",
        "print('TP = {}'.format(conf_matrix[0][0]),'  FP = {}'.format(conf_matrix[0][1]) , '\\n')\n",
        "print('FN = {}'.format(conf_matrix[1][0]),'  TN = {}'.format(conf_matrix[1][1]) , '\\n')"
      ]
    },
    {
      "cell_type": "code",
      "execution_count": null,
      "metadata": {
        "id": "CHGoqGxt2zVn"
      },
      "outputs": [],
      "source": [
        "import itertools\n",
        "\n",
        "class_names = {'IN' , 'OUT'}\n",
        "\n",
        "def plot_confusion_matrix(cm, classes,\n",
        "                          normalize=False,\n",
        "                          title='Confusion matrix',\n",
        "                          cmap=plt.cm.Blues):\n",
        "    \"\"\"\n",
        "    This function prints and plots the confusion matrix.\n",
        "    Normalization can be applied by setting `normalize=True`.\n",
        "    \"\"\"\n",
        "    plt.imshow(cm, interpolation='nearest', cmap=cmap)\n",
        "    plt.title(title)\n",
        "    plt.colorbar()\n",
        "    tick_marks = np.arange(len(classes))\n",
        "    plt.xticks(tick_marks, classes)\n",
        "    #, rotation=45)\n",
        "    plt.yticks(tick_marks, classes)\n",
        "\n",
        "    if normalize:\n",
        "        cm = cm.astype('float') / cm.sum(axis=1)[:, np.newaxis]\n",
        "        print(\"Normalized confusion matrix\")\n",
        "    else:\n",
        "        print('Confusion matrix, without normalization')\n",
        "\n",
        "    print(cm)\n",
        "\n",
        "    thresh = cm.max() / 2.\n",
        "    for i, j in itertools.product(range(cm.shape[0]), range(cm.shape[1])):\n",
        "        plt.text(j, i, round(cm[i, j],3),\n",
        "                 horizontalalignment='center',\n",
        "                 verticalalignment='center',\n",
        "                 #transform=ax.transAxes,\n",
        "                 fontsize = 13,\n",
        "                 color=\"white\" if cm[i, j] > thresh else \"black\")\n",
        "\n",
        "    plt.tight_layout()\n",
        "    plt.axis('equal')\n",
        "    plt.ylabel('True label')\n",
        "    plt.xlabel('Predicted label')\n",
        "\n",
        "# Compute confusion matrix\n",
        "# Plot non-normalized confusion matrix\n",
        "plt.figure()\n",
        "plot_confusion_matrix(conf_matrix, classes=class_names,\n",
        "                      title='Confusion matrix, without normalization')\n",
        "\n",
        "# Plot normalized confusion matrix\n",
        "plt.figure()\n",
        "plot_confusion_matrix(conf_matrix, classes=class_names, normalize=True,\n",
        "                      title='Normalized confusion matrix')\n",
        "\n",
        "plt.show()"
      ]
    },
    {
      "cell_type": "markdown",
      "metadata": {
        "id": "BFmoXe3G2jP6"
      },
      "source": [
        "### Accuracy"
      ]
    },
    {
      "cell_type": "code",
      "execution_count": null,
      "metadata": {
        "id": "A8TNjwpU2k3l"
      },
      "outputs": [],
      "source": [
        "acurracy = (conf_matrix[0][0]+conf_matrix[1][1])/(conf_matrix[0][0]+conf_matrix[0][1]+conf_matrix[1][0]+conf_matrix[1][1])\n",
        "print('The accuracy of the model is {}%' .format(round(acurracy*100, 3)))"
      ]
    },
    {
      "cell_type": "markdown",
      "metadata": {
        "id": "eJne6Fe22oaA"
      },
      "source": [
        "### Recall"
      ]
    },
    {
      "cell_type": "code",
      "execution_count": null,
      "metadata": {
        "id": "1PlCg8OJ2pIW"
      },
      "outputs": [],
      "source": [
        "from sklearn.metrics import recall_score, precision_score\n",
        "recall = recall_score(Y_test, Y_predict_knn, pos_label=0)\n",
        "precision = precision_score(Y_test, Y_predict_knn, pos_label = 0)\n",
        "print(f\"The recall for the Knn classifier: \\n {round(recall,3)}\"  )\n",
        "print(f\"The precision for Knn classifier: \\n {round(precision,3)}\"  )"
      ]
    },
    {
      "cell_type": "markdown",
      "metadata": {
        "id": "T0xEy-53217o"
      },
      "source": [
        "### Precision - Recall curve"
      ]
    },
    {
      "cell_type": "code",
      "execution_count": null,
      "metadata": {
        "id": "Qxp-raPn24JT"
      },
      "outputs": [],
      "source": [
        "Y_probs=classifier.predict_proba(X_test) \n",
        "print(Y_probs)\n",
        "print(Y_predict_knn)\n",
        "\n",
        "from sklearn.metrics import precision_recall_curve\n",
        "from sklearn.metrics import auc\n",
        "precision, recall, thresholds = precision_recall_curve(Y_test , Y_probs[:, 1]) \n",
        "\n",
        "#retrieve probability of being 1(in second column of Y_prob)\n",
        "pr_auc = auc(recall, precision)\n",
        "\n",
        "plt.title(\"Precision-Recall vs Threshold Chart\")\n",
        "plt.plot(thresholds, precision[: -1], \"b--\", label=\"Precision\")\n",
        "plt.plot(thresholds, recall[: -1], \"r--\", label=\"Recall\")\n",
        "plt.ylabel(\"Precision, Recall\")\n",
        "plt.xlabel(\"Threshold\")\n",
        "plt.legend(loc=\"lower left\")\n",
        "plt.ylim([0,1])\n",
        "plt.show()"
      ]
    },
    {
      "cell_type": "code",
      "execution_count": null,
      "metadata": {
        "id": "p-B20f5E3EHp"
      },
      "outputs": [],
      "source": [
        "\n",
        "# print('\\nclassification report: \\n')\n",
        "# from sklearn.metrics import classification_report\n",
        "# print(classification_report(Y_test, Y_pred))\n",
        "\n",
        "EM4 = 'accuracy'\n",
        "# mean_test_scores = trained_model.cv_results_.get('mean_test_score')\n",
        "CVS4 = accuracy_score(Y_train, classifier.predict(X_train))\n",
        "CPS4 = accuracy_score(Y_test, Y_predict_knn)\n",
        "T4 = runtime_train\n",
        "PT4 = runtime_pred\n",
        "print( \"Training Time was: \" + str(T4))\n",
        "print(\"Prediction Time was: \" + str(PT4))"
      ]
    },
    {
      "cell_type": "markdown",
      "metadata": {
        "id": "stCM-46_3cyE"
      },
      "source": [
        "# Decision Tree"
      ]
    },
    {
      "cell_type": "code",
      "execution_count": null,
      "metadata": {
        "id": "lMJ0xfvR3d_B"
      },
      "outputs": [],
      "source": [
        "from sklearn.tree import DecisionTreeClassifier \n",
        "from sklearn import metrics\n",
        "\n",
        "df = pd.read_csv(r'/content/drive/MyDrive/density_contrast_hunthou.csv')\n",
        "\n",
        "from sklearn.model_selection import train_test_split \n",
        "\n",
        "features = ['den_contrast for 12.4', 'den_contrast for 13.0']\n",
        "x = df.iloc[:,2:]\n",
        "y = df['in-halo']\n",
        "\n",
        "x_train, x_test, y_train, y_test = train_test_split(x, y, test_size=0.4, random_state=1)\n",
        "\n",
        "clf = DecisionTreeClassifier(max_depth=20)\n",
        "%t clf.fit(x_train,y_train)\n",
        "Y_pred_dt = clf.predict(x_test)\n",
        "\n",
        "print(metrics.accuracy_score(y_test, Y_pred_dt))"
      ]
    },
    {
      "cell_type": "code",
      "execution_count": null,
      "metadata": {
        "id": "YdwLGWp23lyQ"
      },
      "outputs": [],
      "source": [
        "clf = DecisionTreeClassifier(max_depth=20)\n",
        "clf = clf.fit(x_train,y_train)\n",
        "plt.scatter(x['den_contrast for 12.4'],x['den_contrast for 13.0'],c=clf.predict(x),s=15)\n",
        "plt.xlabel('$ \\delta_{12.4} $')\n",
        "plt.ylabel('$\\delta_{13.0} $')\n",
        "plt.title('Predicitions of the Decision Tree classifier')\n",
        "plt.show()"
      ]
    },
    {
      "cell_type": "markdown",
      "metadata": {
        "id": "Oiks4_IC3okC"
      },
      "source": [
        "### Validation Curve"
      ]
    },
    {
      "cell_type": "code",
      "execution_count": null,
      "metadata": {
        "id": "h6Izxp7q3sok"
      },
      "outputs": [],
      "source": [
        "from sklearn.model_selection import validation_curve\n",
        "\n",
        "\n",
        "param_range = np.arange(1, 40, 1)\n",
        "\n",
        "train_scores, test_scores = validation_curve(\n",
        "    clf, X=X_train, y=Y_train,cv=5, param_name=\"max_depth\", param_range=param_range,\n",
        "    scoring=\"accuracy\", n_jobs=1)\n",
        "\n",
        "\n",
        "train_scores_mean = np.mean(train_scores, axis=1)\n",
        "#train_scores_std = np.std(train_scores, axis=1)\n",
        "test_scores_mean = np.mean(test_scores, axis=1)\n",
        "#test_scores_std = np.std(test_scores, axis=1)\n",
        "\n",
        "plt.plot(param_range, train_scores_mean,'r--',label = 'Training Score')\n",
        "plt.plot(param_range, test_scores_mean,'g--',label = 'Cross-validation score')\n",
        "\n",
        "plt.title('validation curve')\n",
        "plt.xlabel('Tree max_depth')\n",
        "plt.ylabel('Score')\n",
        "plt.legend(loc='upper left')\n",
        "\n",
        "plt.show()\n"
      ]
    },
    {
      "cell_type": "markdown",
      "metadata": {
        "id": "VkuU1REJ30KZ"
      },
      "source": [
        "### Learning Curve"
      ]
    },
    {
      "cell_type": "code",
      "execution_count": null,
      "metadata": {
        "id": "t3A72t_6331s"
      },
      "outputs": [],
      "source": [
        "\n",
        "from sklearn.model_selection import learning_curve\n",
        "\n",
        "clf = DecisionTreeClassifier(max_depth=6)\n",
        "clf.fit(x_train,y_train)\n",
        "\n",
        "train_sizes = np.arange(1000,48000,1000)\n",
        "\n",
        "#computing training score and validation score for each sample size cv times\n",
        "ns_list, train_scores, validation_scores = learning_curve(\n",
        "                                                   estimator= clf , X = x,\n",
        "                                                   y = y, train_sizes = train_sizes, cv = 5, random_state = 0)\n",
        "\n",
        "train_scores_mean = train_scores.mean(axis = 1)\n",
        "validation_scores_mean = validation_scores.mean(axis = 1)\n",
        "\n",
        "plt.title('Learning curve')\n",
        "plt.plot(ns_list[1:], train_scores_mean[1:],'r--',label = 'Training Score')\n",
        "plt.plot(ns_list[1:], validation_scores_mean[1:], 'g--', label = 'Validation Score')\n",
        "plt.xlabel('# Training samples')\n",
        "plt.ylabel('Score')\n",
        "plt.legend(loc='upper right')\n",
        "\n",
        "plt.show()"
      ]
    },
    {
      "cell_type": "markdown",
      "metadata": {
        "id": "lFmM5ifc366B"
      },
      "source": [
        "### Fine Tuning The Model"
      ]
    },
    {
      "cell_type": "code",
      "execution_count": null,
      "metadata": {
        "id": "l0rvlhra39ux"
      },
      "outputs": [],
      "source": [
        "from sklearn.model_selection import train_test_split \n",
        "\n",
        "x = df.iloc[:,2:]\n",
        "y = df['in-halo']\n",
        "\n",
        "x_train, x_test, y_train, y_test = train_test_split(x, y, test_size=20000, random_state=1)\n",
        "\n",
        "clf = DecisionTreeClassifier(max_depth=6)\n",
        "start = time.time()\n",
        "%t clf.fit(x_train,y_train)\n",
        "runtime_train = time.time() - start\n",
        "\n",
        "start = time.time()\n",
        "y_pred_dt = clf.predict(x_test)\n",
        "runtime_pred = time.time() - start\n",
        "%t y_pred_dt = clf.predict(x_test)\n",
        "\n",
        "print(metrics.accuracy_score(y_test, y_pred_dt))"
      ]
    },
    {
      "cell_type": "markdown",
      "metadata": {
        "id": "ZsGNQ0P23_z_"
      },
      "source": [
        "### Confusion Matrix"
      ]
    },
    {
      "cell_type": "code",
      "execution_count": null,
      "metadata": {
        "id": "jCRhXEnr4Dud"
      },
      "outputs": [],
      "source": [
        "from sklearn.metrics import classification_report\n",
        "clf_report = classification_report(y_test, clf.predict(x_test))\n",
        "print(clf_report)"
      ]
    },
    {
      "cell_type": "code",
      "execution_count": null,
      "metadata": {
        "id": "7CGcQ7RH4INf"
      },
      "outputs": [],
      "source": [
        "from sklearn.metrics import confusion_matrix\n",
        "print(confusion_matrix(y, clf.predict(x)))"
      ]
    },
    {
      "cell_type": "code",
      "execution_count": null,
      "metadata": {
        "id": "OXai3siF4KZb"
      },
      "outputs": [],
      "source": [
        "import itertools\n",
        "\n",
        "conf=confusion_matrix(y, clf.predict(x))\n",
        "class_names = {'IN' , 'OUT'}\n",
        "\n",
        "def plot_confusion_matrix(cm, classes,\n",
        "                          normalize=False,\n",
        "                          title='Confusion matrix',\n",
        "                          cmap=plt.cm.Blues):\n",
        "    \"\"\"\n",
        "    This function prints and plots the confusion matrix.\n",
        "    Normalization can be applied by setting `normalize=True`.\n",
        "    \"\"\"\n",
        "    plt.imshow(cm, interpolation='nearest', cmap=cmap)\n",
        "    plt.title(title)\n",
        "    plt.colorbar()\n",
        "    tick_marks = np.arange(len(classes))\n",
        "    plt.xticks(tick_marks, classes)\n",
        "    #, rotation=45)\n",
        "    plt.yticks(tick_marks, classes)\n",
        "\n",
        "    if normalize:\n",
        "        cm = cm.astype('float') / cm.sum(axis=1)[:, np.newaxis]\n",
        "        print(\"Normalized confusion matrix\")\n",
        "    else:\n",
        "        print('Confusion matrix, without normalization')\n",
        "\n",
        "    print(cm)\n",
        "\n",
        "    thresh = cm.max() / 2.\n",
        "    for i, j in itertools.product(range(cm.shape[0]), range(cm.shape[1])):\n",
        "        plt.text(j, i, round(cm[i, j],3),\n",
        "                 horizontalalignment='center',\n",
        "                 verticalalignment='center',\n",
        "                 #transform=ax.transAxes,\n",
        "                 fontsize = 13,\n",
        "                 color=\"white\" if cm[i, j] > thresh else \"black\")\n",
        "\n",
        "    plt.tight_layout()\n",
        "    plt.axis('equal')\n",
        "    plt.ylabel('True label')\n",
        "    plt.xlabel('Predicted label')\n",
        "\n",
        "# Compute confusion matrix\n",
        "# Plot non-normalized confusion matrix\n",
        "plt.figure()\n",
        "plot_confusion_matrix(conf, classes=class_names,\n",
        "                      title='Confusion matrix, without normalization')\n",
        "\n",
        "# Plot normalized confusion matrix\n",
        "plt.figure()\n",
        "plot_confusion_matrix(conf, classes=class_names, normalize=True,\n",
        "                      title='Normalized confusion matrix')\n",
        "\n",
        "plt.show()"
      ]
    },
    {
      "cell_type": "code",
      "execution_count": null,
      "metadata": {
        "id": "OU2gp18n4NWd"
      },
      "outputs": [],
      "source": [
        "from sklearn.metrics import recall_score, precision_score\n",
        "print(recall_score(y, clf.predict(x), pos_label=0))\n",
        "print(precision_score(y, clf.predict(x), pos_label = 0))"
      ]
    },
    {
      "cell_type": "markdown",
      "metadata": {
        "id": "PPTfDgVA4LRr"
      },
      "source": [
        "### Precision-Recall curve"
      ]
    },
    {
      "cell_type": "code",
      "execution_count": null,
      "metadata": {
        "id": "UZSYX46v4RcV"
      },
      "outputs": [],
      "source": [
        "from sklearn.metrics import precision_recall_curve\n",
        "from sklearn.metrics import auc\n",
        "\n",
        "y_probs=clf.predict_proba(x_test) \n",
        "precision, recall, thresholds = precision_recall_curve(y_test , y_probs[:, 1]) \n",
        "thresholds=np.append(0,thresholds)\n",
        "\n",
        "area = auc(recall, precision)\n",
        "#print(area)\n",
        "\n",
        "plt.figure(figsize=(15, 15))\n",
        "ax1 = plt.subplot(221,xlabel='Threshold',ylabel='Precision, Recall' ,title='Precision-Recall vs Threshold')\n",
        "ax1.plot(thresholds, precision, \"b--\", label=\"Precision\")\n",
        "ax1.plot(thresholds, recall, \"r--\", label=\"Recall\")\n",
        "plt.legend(loc=\"lower left\",prop={'size': 15})\n",
        "\n",
        "ax2 = plt.subplot(222,title='Precision-Recall curve',xlabel='Recall',ylabel='Precision')\n",
        "ax2.plot( recall,precision,'g--',label='AUC={:.2f}'.format(area))\n",
        "ax2.set( ylim=(-.05, 1.05))\n",
        "plt.legend(loc=\"lower left\",prop={'size': 15})\n",
        "\n",
        "plt.show()"
      ]
    },
    {
      "cell_type": "code",
      "execution_count": null,
      "metadata": {
        "id": "UtIgXJxl4X_S"
      },
      "outputs": [],
      "source": [
        "EM5 = 'accuracy'\n",
        "# mean_test_scores = trained_model.cv_results_.get('mean_test_score')\n",
        "CVS5 = accuracy_score(y_train, classifier.predict(x_train))\n",
        "CPS5 = accuracy_score(y_test, y_pred_dt)\n",
        "T5 = runtime_train\n",
        "PT5 = runtime_pred\n",
        "print( \"Training Time was: \" + str(T5))\n",
        "print(\"Prediction Time was: \" + str(PT5))"
      ]
    },
    {
      "cell_type": "markdown",
      "metadata": {
        "id": "2_QYvVbZvixn"
      },
      "source": [
        "# Comparing Models"
      ]
    },
    {
      "cell_type": "markdown",
      "metadata": {
        "id": "Ybi6kJ3Uvixo"
      },
      "source": [
        "A table is created to compare the five recently-traind models above. It includes evaluation metric(s), training time and prediction time of each models. Also, we sorted models based on their performance from different aspects. "
      ]
    },
    {
      "cell_type": "code",
      "execution_count": null,
      "metadata": {
        "id": "HEhpPmF_vixo"
      },
      "outputs": [],
      "source": [
        "table = pd.DataFrame({'Name':['Random Forest', 'SVM', 'Logestic Regression', 'KNN', 'Decision Tree'],\n",
        "                        'Evaluation Metric(s)': [EM1, EM2, EM3, EM4, EM5],\n",
        "                        'Corresponding Validation Score': [CVS1, CVS2, CVS3, CVS4, CVS5],\n",
        "                        'Corresponding Prediction Score':  [CPS1, CPS2, CPS3, CPS4, CPS5],\n",
        "                        'Training Time': [T1, T2, T3, T4, T5],\n",
        "                        'Prediction Time': [PT1, PT2, PT3, PT4, PT5],\n",
        "})\n",
        "\n",
        "print('Sort models based on their validation scores: \\n' + str(table.sort_values(by=['Corresponding Validation Score'], ascending= False).loc[:, ['Name', 'Corresponding Prediction Score']]))\n",
        "print('\\nSort models based on their prediction scores: \\n' + str(table.sort_values(by=['Corresponding Prediction Score'], ascending= False).loc[:, ['Name', 'Corresponding Prediction Score']]))\n",
        "print('\\nSort models based on their training time: \\n' + str(table.sort_values(by=['Training Time'], ascending= True).loc[:, ['Name', 'Training Time']]))\n",
        "print('\\nSort models based on their prediction time: \\n' + str(table.sort_values(by=['Prediction Time'], ascending= True).loc[:, ['Name', 'Prediction Time']]))\n"
      ]
    }
  ],
  "metadata": {
    "colab": {
      "collapsed_sections": [
        "3v_SxfiDvixY",
        "vQ66Ry4PyaWR",
        "As64UStyvixb",
        "NkLTkX8zvixi",
        "ptX4Ql42vixk",
        "ckUaCbULvixn",
        "8h2D5sNBxjOz",
        "JUP7ITZJxun1",
        "3MWNGdkn0bt9",
        "stCM-46_3cyE"
      ],
      "name": "Model_Evaluation_data2.ipynb",
      "provenance": [],
      "include_colab_link": true
    },
    "interpreter": {
      "hash": "fe5d99aa55929fe810a91df1bb66991ee2efa56184cda4e0a18aeeaadde96492"
    },
    "kernelspec": {
      "display_name": "Python 3.10.0 64-bit",
      "language": "python",
      "name": "python3"
    },
    "language_info": {
      "codemirror_mode": {
        "name": "ipython",
        "version": 3
      },
      "file_extension": ".py",
      "mimetype": "text/x-python",
      "name": "python",
      "nbconvert_exporter": "python",
      "pygments_lexer": "ipython3",
      "version": "3.10.0"
    },
    "orig_nbformat": 4
  },
  "nbformat": 4,
  "nbformat_minor": 0
}