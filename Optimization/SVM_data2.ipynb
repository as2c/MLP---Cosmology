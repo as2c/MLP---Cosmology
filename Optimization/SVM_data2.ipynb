{
  "cells": [
    {
      "cell_type": "markdown",
      "metadata": {
        "id": "view-in-github",
        "colab_type": "text"
      },
      "source": [
        "<a href=\"https://colab.research.google.com/github/as2c/MLP---Cosmology/blob/NewData/Optimization2/SVM_data2.ipynb\" target=\"_parent\"><img src=\"https://colab.research.google.com/assets/colab-badge.svg\" alt=\"Open In Colab\"/></a>"
      ]
    },
    {
      "cell_type": "markdown",
      "metadata": {
        "id": "jwLDDwkEvixQ"
      },
      "source": [
        "In this code, our objective is to train some classic models such as SVM, KNN, RandomForest, etc on our test data, and try to evaluate their efficiency by plotting confusion matrixes, learning curves, validation curves, and measuring the prediction time. "
      ]
    },
    {
      "cell_type": "markdown",
      "metadata": {
        "id": "3v_SxfiDvixY"
      },
      "source": [
        "# Import phase I data"
      ]
    },
    {
      "cell_type": "markdown",
      "metadata": {
        "id": "U4iafM7UvixV"
      },
      "source": [
        "Import required libraries"
      ]
    },
    {
      "cell_type": "code",
      "execution_count": null,
      "metadata": {
        "colab": {
          "base_uri": "https://localhost:8080/"
        },
        "id": "Mx7soy-MvixW",
        "outputId": "d5d0b69b-897d-49db-da55-88658b912a14"
      },
      "outputs": [
        {
          "name": "stdout",
          "output_type": "stream",
          "text": [
            "Created `%t` as an alias for `%timeit`.\n",
            "Created `%%t` as an alias for `%%timeit`.\n"
          ]
        }
      ],
      "source": [
        "import pandas as pd\n",
        "import numpy as np\n",
        "import matplotlib.pyplot as plt\n",
        "import matplotlib.cm as cm\n",
        "from sklearn.model_selection import learning_curve, validation_curve\n",
        "from sklearn.neighbors import KNeighborsClassifier\n",
        "from sklearn.preprocessing import PolynomialFeatures\n",
        "from sklearn.linear_model import LinearRegression\n",
        "from sklearn.pipeline import Pipeline\n",
        "from sklearn.utils import shuffle\n",
        "from sklearn.model_selection import train_test_split\n",
        "from sklearn.linear_model import RidgeClassifier\n",
        "from sklearn import svm\n",
        "from sklearn.svm import SVC\n",
        "from sklearn.metrics import confusion_matrix, plot_confusion_matrix\n",
        "import timeit\n",
        "import time\n",
        "%alias_magic t timeit\n",
        "# import warnings filter\n",
        "from warnings import simplefilter\n",
        "# ignore all future warnings\n",
        "simplefilter(action='ignore', category=FutureWarning)"
      ]
    },
    {
      "cell_type": "code",
      "execution_count": null,
      "metadata": {
        "colab": {
          "base_uri": "https://localhost:8080/"
        },
        "id": "nTp2S46b-8kT",
        "outputId": "27339c3e-8473-471d-d6e1-67cbd5a44c30"
      },
      "outputs": [
        {
          "name": "stdout",
          "output_type": "stream",
          "text": [
            "Mounted at /content/drive\n"
          ]
        }
      ],
      "source": [
        "from google.colab import drive\n",
        "drive.mount('/content/drive')"
      ]
    },
    {
      "cell_type": "markdown",
      "metadata": {
        "id": "xVLNS5KyItAF"
      },
      "source": [
        "### Gadget 2 Data / with Neutrino"
      ]
    },
    {
      "cell_type": "code",
      "execution_count": null,
      "metadata": {
        "colab": {
          "base_uri": "https://localhost:8080/"
        },
        "id": "wpc_eXP0-8kb",
        "outputId": "3924653b-48cc-4690-afa1-53a2ca8a9490"
      },
      "outputs": [
        {
          "data": {
            "text/html": [
              "\n",
              "  <div id=\"df-e9446c9a-9276-4729-8f48-5e915cdb1d92\">\n",
              "    <div class=\"colab-df-container\">\n",
              "      <div>\n",
              "<style scoped>\n",
              "    .dataframe tbody tr th:only-of-type {\n",
              "        vertical-align: middle;\n",
              "    }\n",
              "\n",
              "    .dataframe tbody tr th {\n",
              "        vertical-align: top;\n",
              "    }\n",
              "\n",
              "    .dataframe thead th {\n",
              "        text-align: right;\n",
              "    }\n",
              "</style>\n",
              "<table border=\"1\" class=\"dataframe\">\n",
              "  <thead>\n",
              "    <tr style=\"text-align: right;\">\n",
              "      <th></th>\n",
              "      <th>id</th>\n",
              "      <th>haloID</th>\n",
              "      <th>halo_mass</th>\n",
              "      <th>vx</th>\n",
              "      <th>vy</th>\n",
              "      <th>vz</th>\n",
              "      <th>dc for 4.9</th>\n",
              "      <th>dc for 6.8</th>\n",
              "      <th>dc for 8.7</th>\n",
              "      <th>dc for 10.6</th>\n",
              "      <th>dc for 12.4</th>\n",
              "      <th>dc for 14.3</th>\n",
              "      <th>dc for 16.2</th>\n",
              "      <th>dc for 18.1</th>\n",
              "      <th>dc for 20.0</th>\n",
              "      <th>in_halo</th>\n",
              "    </tr>\n",
              "  </thead>\n",
              "  <tbody>\n",
              "    <tr>\n",
              "      <th>0</th>\n",
              "      <td>10156552</td>\n",
              "      <td>755</td>\n",
              "      <td>2280.0</td>\n",
              "      <td>171.21194</td>\n",
              "      <td>220.56293</td>\n",
              "      <td>-274.228700</td>\n",
              "      <td>-0.084922</td>\n",
              "      <td>-0.052028</td>\n",
              "      <td>-0.042415</td>\n",
              "      <td>-0.028087</td>\n",
              "      <td>-0.024984</td>\n",
              "      <td>-0.018675</td>\n",
              "      <td>-0.016231</td>\n",
              "      <td>-0.011940</td>\n",
              "      <td>-0.010111</td>\n",
              "      <td>1</td>\n",
              "    </tr>\n",
              "    <tr>\n",
              "      <th>1</th>\n",
              "      <td>11068486</td>\n",
              "      <td>85</td>\n",
              "      <td>1539.0</td>\n",
              "      <td>-129.84116</td>\n",
              "      <td>92.60424</td>\n",
              "      <td>212.125500</td>\n",
              "      <td>-0.127820</td>\n",
              "      <td>-0.081099</td>\n",
              "      <td>-0.051217</td>\n",
              "      <td>-0.028345</td>\n",
              "      <td>-0.013751</td>\n",
              "      <td>-0.013991</td>\n",
              "      <td>-0.012344</td>\n",
              "      <td>-0.011500</td>\n",
              "      <td>-0.012220</td>\n",
              "      <td>0</td>\n",
              "    </tr>\n",
              "    <tr>\n",
              "      <th>2</th>\n",
              "      <td>9530036</td>\n",
              "      <td>654</td>\n",
              "      <td>1944.0</td>\n",
              "      <td>-290.99210</td>\n",
              "      <td>-885.49430</td>\n",
              "      <td>468.255040</td>\n",
              "      <td>-0.078978</td>\n",
              "      <td>-0.052806</td>\n",
              "      <td>-0.030027</td>\n",
              "      <td>-0.011704</td>\n",
              "      <td>0.001295</td>\n",
              "      <td>0.003803</td>\n",
              "      <td>0.005131</td>\n",
              "      <td>0.005231</td>\n",
              "      <td>0.003787</td>\n",
              "      <td>1</td>\n",
              "    </tr>\n",
              "    <tr>\n",
              "      <th>3</th>\n",
              "      <td>11455022</td>\n",
              "      <td>752</td>\n",
              "      <td>1394.0</td>\n",
              "      <td>-60.35258</td>\n",
              "      <td>422.43716</td>\n",
              "      <td>79.394300</td>\n",
              "      <td>-0.109989</td>\n",
              "      <td>-0.079155</td>\n",
              "      <td>-0.054663</td>\n",
              "      <td>-0.037685</td>\n",
              "      <td>-0.026670</td>\n",
              "      <td>-0.017901</td>\n",
              "      <td>-0.009227</td>\n",
              "      <td>-0.000868</td>\n",
              "      <td>0.001568</td>\n",
              "      <td>0</td>\n",
              "    </tr>\n",
              "    <tr>\n",
              "      <th>4</th>\n",
              "      <td>8591034</td>\n",
              "      <td>356</td>\n",
              "      <td>1649.0</td>\n",
              "      <td>403.66608</td>\n",
              "      <td>345.88077</td>\n",
              "      <td>9.231552</td>\n",
              "      <td>-0.084405</td>\n",
              "      <td>-0.019068</td>\n",
              "      <td>-0.009396</td>\n",
              "      <td>-0.001539</td>\n",
              "      <td>0.002288</td>\n",
              "      <td>0.005629</td>\n",
              "      <td>0.011288</td>\n",
              "      <td>0.013111</td>\n",
              "      <td>0.013433</td>\n",
              "      <td>1</td>\n",
              "    </tr>\n",
              "    <tr>\n",
              "      <th>...</th>\n",
              "      <td>...</td>\n",
              "      <td>...</td>\n",
              "      <td>...</td>\n",
              "      <td>...</td>\n",
              "      <td>...</td>\n",
              "      <td>...</td>\n",
              "      <td>...</td>\n",
              "      <td>...</td>\n",
              "      <td>...</td>\n",
              "      <td>...</td>\n",
              "      <td>...</td>\n",
              "      <td>...</td>\n",
              "      <td>...</td>\n",
              "      <td>...</td>\n",
              "      <td>...</td>\n",
              "      <td>...</td>\n",
              "    </tr>\n",
              "    <tr>\n",
              "      <th>99995</th>\n",
              "      <td>2160800</td>\n",
              "      <td>451</td>\n",
              "      <td>2634.0</td>\n",
              "      <td>654.82430</td>\n",
              "      <td>210.78130</td>\n",
              "      <td>255.344150</td>\n",
              "      <td>-0.094225</td>\n",
              "      <td>-0.076043</td>\n",
              "      <td>-0.060624</td>\n",
              "      <td>-0.040368</td>\n",
              "      <td>-0.020840</td>\n",
              "      <td>-0.016261</td>\n",
              "      <td>-0.011803</td>\n",
              "      <td>-0.005002</td>\n",
              "      <td>0.000918</td>\n",
              "      <td>1</td>\n",
              "    </tr>\n",
              "    <tr>\n",
              "      <th>99996</th>\n",
              "      <td>3257728</td>\n",
              "      <td>43</td>\n",
              "      <td>1112.0</td>\n",
              "      <td>-154.27774</td>\n",
              "      <td>488.65564</td>\n",
              "      <td>-779.558400</td>\n",
              "      <td>-0.127045</td>\n",
              "      <td>-0.076529</td>\n",
              "      <td>-0.056246</td>\n",
              "      <td>-0.038201</td>\n",
              "      <td>-0.027520</td>\n",
              "      <td>-0.016374</td>\n",
              "      <td>-0.008045</td>\n",
              "      <td>0.002627</td>\n",
              "      <td>0.006124</td>\n",
              "      <td>0</td>\n",
              "    </tr>\n",
              "    <tr>\n",
              "      <th>99997</th>\n",
              "      <td>6101605</td>\n",
              "      <td>484</td>\n",
              "      <td>1198.0</td>\n",
              "      <td>-113.51735</td>\n",
              "      <td>68.44336</td>\n",
              "      <td>275.964000</td>\n",
              "      <td>-0.122135</td>\n",
              "      <td>-0.091794</td>\n",
              "      <td>-0.063465</td>\n",
              "      <td>-0.032060</td>\n",
              "      <td>-0.017973</td>\n",
              "      <td>-0.016684</td>\n",
              "      <td>-0.017740</td>\n",
              "      <td>-0.017154</td>\n",
              "      <td>-0.012600</td>\n",
              "      <td>0</td>\n",
              "    </tr>\n",
              "    <tr>\n",
              "      <th>99998</th>\n",
              "      <td>4576456</td>\n",
              "      <td>44</td>\n",
              "      <td>1058.0</td>\n",
              "      <td>-130.21120</td>\n",
              "      <td>292.63483</td>\n",
              "      <td>-754.563000</td>\n",
              "      <td>-0.097585</td>\n",
              "      <td>-0.076140</td>\n",
              "      <td>-0.061788</td>\n",
              "      <td>-0.054584</td>\n",
              "      <td>-0.043055</td>\n",
              "      <td>-0.032415</td>\n",
              "      <td>-0.021591</td>\n",
              "      <td>-0.007463</td>\n",
              "      <td>0.004673</td>\n",
              "      <td>0</td>\n",
              "    </tr>\n",
              "    <tr>\n",
              "      <th>99999</th>\n",
              "      <td>13755625</td>\n",
              "      <td>374</td>\n",
              "      <td>3436.0</td>\n",
              "      <td>-403.48090</td>\n",
              "      <td>360.35940</td>\n",
              "      <td>341.696500</td>\n",
              "      <td>-0.107922</td>\n",
              "      <td>-0.042597</td>\n",
              "      <td>-0.005298</td>\n",
              "      <td>0.006846</td>\n",
              "      <td>0.011993</td>\n",
              "      <td>0.019019</td>\n",
              "      <td>0.014505</td>\n",
              "      <td>0.013776</td>\n",
              "      <td>0.014595</td>\n",
              "      <td>1</td>\n",
              "    </tr>\n",
              "  </tbody>\n",
              "</table>\n",
              "<p>100000 rows × 16 columns</p>\n",
              "</div>\n",
              "      <button class=\"colab-df-convert\" onclick=\"convertToInteractive('df-e9446c9a-9276-4729-8f48-5e915cdb1d92')\"\n",
              "              title=\"Convert this dataframe to an interactive table.\"\n",
              "              style=\"display:none;\">\n",
              "        \n",
              "  <svg xmlns=\"http://www.w3.org/2000/svg\" height=\"24px\"viewBox=\"0 0 24 24\"\n",
              "       width=\"24px\">\n",
              "    <path d=\"M0 0h24v24H0V0z\" fill=\"none\"/>\n",
              "    <path d=\"M18.56 5.44l.94 2.06.94-2.06 2.06-.94-2.06-.94-.94-2.06-.94 2.06-2.06.94zm-11 1L8.5 8.5l.94-2.06 2.06-.94-2.06-.94L8.5 2.5l-.94 2.06-2.06.94zm10 10l.94 2.06.94-2.06 2.06-.94-2.06-.94-.94-2.06-.94 2.06-2.06.94z\"/><path d=\"M17.41 7.96l-1.37-1.37c-.4-.4-.92-.59-1.43-.59-.52 0-1.04.2-1.43.59L10.3 9.45l-7.72 7.72c-.78.78-.78 2.05 0 2.83L4 21.41c.39.39.9.59 1.41.59.51 0 1.02-.2 1.41-.59l7.78-7.78 2.81-2.81c.8-.78.8-2.07 0-2.86zM5.41 20L4 18.59l7.72-7.72 1.47 1.35L5.41 20z\"/>\n",
              "  </svg>\n",
              "      </button>\n",
              "      \n",
              "  <style>\n",
              "    .colab-df-container {\n",
              "      display:flex;\n",
              "      flex-wrap:wrap;\n",
              "      gap: 12px;\n",
              "    }\n",
              "\n",
              "    .colab-df-convert {\n",
              "      background-color: #E8F0FE;\n",
              "      border: none;\n",
              "      border-radius: 50%;\n",
              "      cursor: pointer;\n",
              "      display: none;\n",
              "      fill: #1967D2;\n",
              "      height: 32px;\n",
              "      padding: 0 0 0 0;\n",
              "      width: 32px;\n",
              "    }\n",
              "\n",
              "    .colab-df-convert:hover {\n",
              "      background-color: #E2EBFA;\n",
              "      box-shadow: 0px 1px 2px rgba(60, 64, 67, 0.3), 0px 1px 3px 1px rgba(60, 64, 67, 0.15);\n",
              "      fill: #174EA6;\n",
              "    }\n",
              "\n",
              "    [theme=dark] .colab-df-convert {\n",
              "      background-color: #3B4455;\n",
              "      fill: #D2E3FC;\n",
              "    }\n",
              "\n",
              "    [theme=dark] .colab-df-convert:hover {\n",
              "      background-color: #434B5C;\n",
              "      box-shadow: 0px 1px 3px 1px rgba(0, 0, 0, 0.15);\n",
              "      filter: drop-shadow(0px 1px 2px rgba(0, 0, 0, 0.3));\n",
              "      fill: #FFFFFF;\n",
              "    }\n",
              "  </style>\n",
              "\n",
              "      <script>\n",
              "        const buttonEl =\n",
              "          document.querySelector('#df-e9446c9a-9276-4729-8f48-5e915cdb1d92 button.colab-df-convert');\n",
              "        buttonEl.style.display =\n",
              "          google.colab.kernel.accessAllowed ? 'block' : 'none';\n",
              "\n",
              "        async function convertToInteractive(key) {\n",
              "          const element = document.querySelector('#df-e9446c9a-9276-4729-8f48-5e915cdb1d92');\n",
              "          const dataTable =\n",
              "            await google.colab.kernel.invokeFunction('convertToInteractive',\n",
              "                                                     [key], {});\n",
              "          if (!dataTable) return;\n",
              "\n",
              "          const docLinkHtml = 'Like what you see? Visit the ' +\n",
              "            '<a target=\"_blank\" href=https://colab.research.google.com/notebooks/data_table.ipynb>data table notebook</a>'\n",
              "            + ' to learn more about interactive tables.';\n",
              "          element.innerHTML = '';\n",
              "          dataTable['output_type'] = 'display_data';\n",
              "          await google.colab.output.renderOutput(dataTable, element);\n",
              "          const docLink = document.createElement('div');\n",
              "          docLink.innerHTML = docLinkHtml;\n",
              "          element.appendChild(docLink);\n",
              "        }\n",
              "      </script>\n",
              "    </div>\n",
              "  </div>\n",
              "  "
            ],
            "text/plain": [
              "             id  haloID  halo_mass  ...  dc for 18.1  dc for 20.0  in_halo\n",
              "0      10156552     755     2280.0  ...    -0.011940    -0.010111        1\n",
              "1      11068486      85     1539.0  ...    -0.011500    -0.012220        0\n",
              "2       9530036     654     1944.0  ...     0.005231     0.003787        1\n",
              "3      11455022     752     1394.0  ...    -0.000868     0.001568        0\n",
              "4       8591034     356     1649.0  ...     0.013111     0.013433        1\n",
              "...         ...     ...        ...  ...          ...          ...      ...\n",
              "99995   2160800     451     2634.0  ...    -0.005002     0.000918        1\n",
              "99996   3257728      43     1112.0  ...     0.002627     0.006124        0\n",
              "99997   6101605     484     1198.0  ...    -0.017154    -0.012600        0\n",
              "99998   4576456      44     1058.0  ...    -0.007463     0.004673        0\n",
              "99999  13755625     374     3436.0  ...     0.013776     0.014595        1\n",
              "\n",
              "[100000 rows x 16 columns]"
            ]
          },
          "execution_count": 4,
          "metadata": {},
          "output_type": "execute_result"
        }
      ],
      "source": [
        "data = pd.read_csv(r'/content/drive/MyDrive/denc_Neutrino')\n",
        "# data['in_halo'] = (data['haloID']>0).astype('int')\n",
        "data['in_halo'] = (data['halo_mass']>1600).astype('int32')\n",
        "data"
      ]
    },
    {
      "cell_type": "code",
      "execution_count": null,
      "metadata": {
        "colab": {
          "base_uri": "https://localhost:8080/"
        },
        "id": "5o6ASG2V-8kc",
        "outputId": "732e8055-bc05-4c3e-9f38-88ec7c72cfb7"
      },
      "outputs": [
        {
          "data": {
            "text/html": [
              "\n",
              "  <div id=\"df-95071705-57f4-4a2b-897d-60dfed9a14b3\">\n",
              "    <div class=\"colab-df-container\">\n",
              "      <div>\n",
              "<style scoped>\n",
              "    .dataframe tbody tr th:only-of-type {\n",
              "        vertical-align: middle;\n",
              "    }\n",
              "\n",
              "    .dataframe tbody tr th {\n",
              "        vertical-align: top;\n",
              "    }\n",
              "\n",
              "    .dataframe thead th {\n",
              "        text-align: right;\n",
              "    }\n",
              "</style>\n",
              "<table border=\"1\" class=\"dataframe\">\n",
              "  <thead>\n",
              "    <tr style=\"text-align: right;\">\n",
              "      <th></th>\n",
              "      <th>id</th>\n",
              "      <th>haloID</th>\n",
              "      <th>halo_mass</th>\n",
              "      <th>vx</th>\n",
              "      <th>vy</th>\n",
              "      <th>vz</th>\n",
              "      <th>dc for 4.9</th>\n",
              "      <th>dc for 6.8</th>\n",
              "      <th>dc for 8.7</th>\n",
              "      <th>dc for 10.6</th>\n",
              "      <th>dc for 12.4</th>\n",
              "      <th>dc for 14.3</th>\n",
              "      <th>dc for 16.2</th>\n",
              "      <th>dc for 18.1</th>\n",
              "      <th>dc for 20.0</th>\n",
              "      <th>in_halo</th>\n",
              "    </tr>\n",
              "  </thead>\n",
              "  <tbody>\n",
              "    <tr>\n",
              "      <th>count</th>\n",
              "      <td>1.000000e+05</td>\n",
              "      <td>100000.000000</td>\n",
              "      <td>100000.000000</td>\n",
              "      <td>100000.000000</td>\n",
              "      <td>100000.000000</td>\n",
              "      <td>100000.000000</td>\n",
              "      <td>100000.000000</td>\n",
              "      <td>100000.000000</td>\n",
              "      <td>100000.000000</td>\n",
              "      <td>100000.000000</td>\n",
              "      <td>100000.000000</td>\n",
              "      <td>100000.000000</td>\n",
              "      <td>100000.000000</td>\n",
              "      <td>100000.000000</td>\n",
              "      <td>100000.000000</td>\n",
              "      <td>100000.000000</td>\n",
              "    </tr>\n",
              "    <tr>\n",
              "      <th>mean</th>\n",
              "      <td>8.716004e+06</td>\n",
              "      <td>424.627710</td>\n",
              "      <td>2369.299450</td>\n",
              "      <td>35.207601</td>\n",
              "      <td>-13.728656</td>\n",
              "      <td>97.821939</td>\n",
              "      <td>-0.107338</td>\n",
              "      <td>-0.062074</td>\n",
              "      <td>-0.038666</td>\n",
              "      <td>-0.025951</td>\n",
              "      <td>-0.017900</td>\n",
              "      <td>-0.011968</td>\n",
              "      <td>-0.007224</td>\n",
              "      <td>-0.003341</td>\n",
              "      <td>-0.000224</td>\n",
              "      <td>0.557930</td>\n",
              "    </tr>\n",
              "    <tr>\n",
              "      <th>std</th>\n",
              "      <td>3.549230e+06</td>\n",
              "      <td>230.962533</td>\n",
              "      <td>1856.527585</td>\n",
              "      <td>364.820655</td>\n",
              "      <td>369.919751</td>\n",
              "      <td>373.578625</td>\n",
              "      <td>0.020301</td>\n",
              "      <td>0.020965</td>\n",
              "      <td>0.019921</td>\n",
              "      <td>0.018106</td>\n",
              "      <td>0.015956</td>\n",
              "      <td>0.013969</td>\n",
              "      <td>0.012346</td>\n",
              "      <td>0.011069</td>\n",
              "      <td>0.010084</td>\n",
              "      <td>0.496635</td>\n",
              "    </tr>\n",
              "    <tr>\n",
              "      <th>min</th>\n",
              "      <td>2.131444e+06</td>\n",
              "      <td>16.000000</td>\n",
              "      <td>241.000000</td>\n",
              "      <td>-1247.932500</td>\n",
              "      <td>-1462.806300</td>\n",
              "      <td>-1250.519700</td>\n",
              "      <td>-0.127820</td>\n",
              "      <td>-0.099572</td>\n",
              "      <td>-0.083351</td>\n",
              "      <td>-0.072824</td>\n",
              "      <td>-0.065316</td>\n",
              "      <td>-0.058751</td>\n",
              "      <td>-0.050519</td>\n",
              "      <td>-0.043771</td>\n",
              "      <td>-0.038371</td>\n",
              "      <td>0.000000</td>\n",
              "    </tr>\n",
              "    <tr>\n",
              "      <th>25%</th>\n",
              "      <td>5.953820e+06</td>\n",
              "      <td>238.000000</td>\n",
              "      <td>1194.000000</td>\n",
              "      <td>-226.284345</td>\n",
              "      <td>-254.656135</td>\n",
              "      <td>-145.829085</td>\n",
              "      <td>-0.124202</td>\n",
              "      <td>-0.077891</td>\n",
              "      <td>-0.052474</td>\n",
              "      <td>-0.038510</td>\n",
              "      <td>-0.028860</td>\n",
              "      <td>-0.021233</td>\n",
              "      <td>-0.015384</td>\n",
              "      <td>-0.010712</td>\n",
              "      <td>-0.006964</td>\n",
              "      <td>0.000000</td>\n",
              "    </tr>\n",
              "    <tr>\n",
              "      <th>50%</th>\n",
              "      <td>9.043250e+06</td>\n",
              "      <td>418.000000</td>\n",
              "      <td>1791.000000</td>\n",
              "      <td>32.857450</td>\n",
              "      <td>-4.815737</td>\n",
              "      <td>101.883413</td>\n",
              "      <td>-0.113607</td>\n",
              "      <td>-0.063404</td>\n",
              "      <td>-0.039434</td>\n",
              "      <td>-0.026100</td>\n",
              "      <td>-0.017784</td>\n",
              "      <td>-0.011980</td>\n",
              "      <td>-0.007369</td>\n",
              "      <td>-0.003743</td>\n",
              "      <td>-0.000713</td>\n",
              "      <td>1.000000</td>\n",
              "    </tr>\n",
              "    <tr>\n",
              "      <th>75%</th>\n",
              "      <td>1.176120e+07</td>\n",
              "      <td>619.000000</td>\n",
              "      <td>2945.000000</td>\n",
              "      <td>284.168098</td>\n",
              "      <td>238.543252</td>\n",
              "      <td>350.062135</td>\n",
              "      <td>-0.095776</td>\n",
              "      <td>-0.048722</td>\n",
              "      <td>-0.025370</td>\n",
              "      <td>-0.013587</td>\n",
              "      <td>-0.006677</td>\n",
              "      <td>-0.002087</td>\n",
              "      <td>0.001081</td>\n",
              "      <td>0.004249</td>\n",
              "      <td>0.006694</td>\n",
              "      <td>1.000000</td>\n",
              "    </tr>\n",
              "    <tr>\n",
              "      <th>max</th>\n",
              "      <td>1.464652e+07</td>\n",
              "      <td>870.000000</td>\n",
              "      <td>10101.000000</td>\n",
              "      <td>1314.092800</td>\n",
              "      <td>1256.822900</td>\n",
              "      <td>1355.984900</td>\n",
              "      <td>0.017155</td>\n",
              "      <td>0.032463</td>\n",
              "      <td>0.044346</td>\n",
              "      <td>0.040490</td>\n",
              "      <td>0.042179</td>\n",
              "      <td>0.036009</td>\n",
              "      <td>0.033482</td>\n",
              "      <td>0.034145</td>\n",
              "      <td>0.032602</td>\n",
              "      <td>1.000000</td>\n",
              "    </tr>\n",
              "  </tbody>\n",
              "</table>\n",
              "</div>\n",
              "      <button class=\"colab-df-convert\" onclick=\"convertToInteractive('df-95071705-57f4-4a2b-897d-60dfed9a14b3')\"\n",
              "              title=\"Convert this dataframe to an interactive table.\"\n",
              "              style=\"display:none;\">\n",
              "        \n",
              "  <svg xmlns=\"http://www.w3.org/2000/svg\" height=\"24px\"viewBox=\"0 0 24 24\"\n",
              "       width=\"24px\">\n",
              "    <path d=\"M0 0h24v24H0V0z\" fill=\"none\"/>\n",
              "    <path d=\"M18.56 5.44l.94 2.06.94-2.06 2.06-.94-2.06-.94-.94-2.06-.94 2.06-2.06.94zm-11 1L8.5 8.5l.94-2.06 2.06-.94-2.06-.94L8.5 2.5l-.94 2.06-2.06.94zm10 10l.94 2.06.94-2.06 2.06-.94-2.06-.94-.94-2.06-.94 2.06-2.06.94z\"/><path d=\"M17.41 7.96l-1.37-1.37c-.4-.4-.92-.59-1.43-.59-.52 0-1.04.2-1.43.59L10.3 9.45l-7.72 7.72c-.78.78-.78 2.05 0 2.83L4 21.41c.39.39.9.59 1.41.59.51 0 1.02-.2 1.41-.59l7.78-7.78 2.81-2.81c.8-.78.8-2.07 0-2.86zM5.41 20L4 18.59l7.72-7.72 1.47 1.35L5.41 20z\"/>\n",
              "  </svg>\n",
              "      </button>\n",
              "      \n",
              "  <style>\n",
              "    .colab-df-container {\n",
              "      display:flex;\n",
              "      flex-wrap:wrap;\n",
              "      gap: 12px;\n",
              "    }\n",
              "\n",
              "    .colab-df-convert {\n",
              "      background-color: #E8F0FE;\n",
              "      border: none;\n",
              "      border-radius: 50%;\n",
              "      cursor: pointer;\n",
              "      display: none;\n",
              "      fill: #1967D2;\n",
              "      height: 32px;\n",
              "      padding: 0 0 0 0;\n",
              "      width: 32px;\n",
              "    }\n",
              "\n",
              "    .colab-df-convert:hover {\n",
              "      background-color: #E2EBFA;\n",
              "      box-shadow: 0px 1px 2px rgba(60, 64, 67, 0.3), 0px 1px 3px 1px rgba(60, 64, 67, 0.15);\n",
              "      fill: #174EA6;\n",
              "    }\n",
              "\n",
              "    [theme=dark] .colab-df-convert {\n",
              "      background-color: #3B4455;\n",
              "      fill: #D2E3FC;\n",
              "    }\n",
              "\n",
              "    [theme=dark] .colab-df-convert:hover {\n",
              "      background-color: #434B5C;\n",
              "      box-shadow: 0px 1px 3px 1px rgba(0, 0, 0, 0.15);\n",
              "      filter: drop-shadow(0px 1px 2px rgba(0, 0, 0, 0.3));\n",
              "      fill: #FFFFFF;\n",
              "    }\n",
              "  </style>\n",
              "\n",
              "      <script>\n",
              "        const buttonEl =\n",
              "          document.querySelector('#df-95071705-57f4-4a2b-897d-60dfed9a14b3 button.colab-df-convert');\n",
              "        buttonEl.style.display =\n",
              "          google.colab.kernel.accessAllowed ? 'block' : 'none';\n",
              "\n",
              "        async function convertToInteractive(key) {\n",
              "          const element = document.querySelector('#df-95071705-57f4-4a2b-897d-60dfed9a14b3');\n",
              "          const dataTable =\n",
              "            await google.colab.kernel.invokeFunction('convertToInteractive',\n",
              "                                                     [key], {});\n",
              "          if (!dataTable) return;\n",
              "\n",
              "          const docLinkHtml = 'Like what you see? Visit the ' +\n",
              "            '<a target=\"_blank\" href=https://colab.research.google.com/notebooks/data_table.ipynb>data table notebook</a>'\n",
              "            + ' to learn more about interactive tables.';\n",
              "          element.innerHTML = '';\n",
              "          dataTable['output_type'] = 'display_data';\n",
              "          await google.colab.output.renderOutput(dataTable, element);\n",
              "          const docLink = document.createElement('div');\n",
              "          docLink.innerHTML = docLinkHtml;\n",
              "          element.appendChild(docLink);\n",
              "        }\n",
              "      </script>\n",
              "    </div>\n",
              "  </div>\n",
              "  "
            ],
            "text/plain": [
              "                 id         haloID  ...    dc for 20.0        in_halo\n",
              "count  1.000000e+05  100000.000000  ...  100000.000000  100000.000000\n",
              "mean   8.716004e+06     424.627710  ...      -0.000224       0.557930\n",
              "std    3.549230e+06     230.962533  ...       0.010084       0.496635\n",
              "min    2.131444e+06      16.000000  ...      -0.038371       0.000000\n",
              "25%    5.953820e+06     238.000000  ...      -0.006964       0.000000\n",
              "50%    9.043250e+06     418.000000  ...      -0.000713       1.000000\n",
              "75%    1.176120e+07     619.000000  ...       0.006694       1.000000\n",
              "max    1.464652e+07     870.000000  ...       0.032602       1.000000\n",
              "\n",
              "[8 rows x 16 columns]"
            ]
          },
          "execution_count": 5,
          "metadata": {},
          "output_type": "execute_result"
        }
      ],
      "source": [
        "data.describe()"
      ]
    },
    {
      "cell_type": "markdown",
      "metadata": {
        "id": "oXABFDLNI2qo"
      },
      "source": [
        "### Gadget 2 Data / without Neutrino"
      ]
    },
    {
      "cell_type": "code",
      "execution_count": null,
      "metadata": {
        "colab": {
          "base_uri": "https://localhost:8080/"
        },
        "id": "a8TQpPtYI-oz",
        "outputId": "8b5ba81b-f7df-4f21-b4bd-6071fe278621"
      },
      "outputs": [
        {
          "data": {
            "text/html": [
              "\n",
              "  <div id=\"df-65088fec-89ce-4628-8b90-3480fb6943b9\">\n",
              "    <div class=\"colab-df-container\">\n",
              "      <div>\n",
              "<style scoped>\n",
              "    .dataframe tbody tr th:only-of-type {\n",
              "        vertical-align: middle;\n",
              "    }\n",
              "\n",
              "    .dataframe tbody tr th {\n",
              "        vertical-align: top;\n",
              "    }\n",
              "\n",
              "    .dataframe thead th {\n",
              "        text-align: right;\n",
              "    }\n",
              "</style>\n",
              "<table border=\"1\" class=\"dataframe\">\n",
              "  <thead>\n",
              "    <tr style=\"text-align: right;\">\n",
              "      <th></th>\n",
              "      <th>id</th>\n",
              "      <th>haloID</th>\n",
              "      <th>halo_mass</th>\n",
              "      <th>vx</th>\n",
              "      <th>vy</th>\n",
              "      <th>vz</th>\n",
              "      <th>dc for 4.9</th>\n",
              "      <th>dc for 6.8</th>\n",
              "      <th>dc for 8.7</th>\n",
              "      <th>dc for 10.6</th>\n",
              "      <th>dc for 12.4</th>\n",
              "      <th>dc for 14.3</th>\n",
              "      <th>dc for 16.2</th>\n",
              "      <th>dc for 18.1</th>\n",
              "      <th>dc for 20.0</th>\n",
              "      <th>in_halo</th>\n",
              "    </tr>\n",
              "  </thead>\n",
              "  <tbody>\n",
              "    <tr>\n",
              "      <th>0</th>\n",
              "      <td>8981131</td>\n",
              "      <td>414</td>\n",
              "      <td>1504.0</td>\n",
              "      <td>252.710050</td>\n",
              "      <td>-464.239500</td>\n",
              "      <td>509.94550</td>\n",
              "      <td>2.817576</td>\n",
              "      <td>2.780794</td>\n",
              "      <td>2.746420</td>\n",
              "      <td>2.446413</td>\n",
              "      <td>2.000415</td>\n",
              "      <td>1.533108</td>\n",
              "      <td>1.083378</td>\n",
              "      <td>0.691070</td>\n",
              "      <td>0.457584</td>\n",
              "      <td>0</td>\n",
              "    </tr>\n",
              "    <tr>\n",
              "      <th>1</th>\n",
              "      <td>9901676</td>\n",
              "      <td>1026</td>\n",
              "      <td>1013.0</td>\n",
              "      <td>-167.701370</td>\n",
              "      <td>499.161740</td>\n",
              "      <td>156.32635</td>\n",
              "      <td>2.690323</td>\n",
              "      <td>2.102417</td>\n",
              "      <td>1.805493</td>\n",
              "      <td>1.485764</td>\n",
              "      <td>1.267945</td>\n",
              "      <td>1.083753</td>\n",
              "      <td>0.849938</td>\n",
              "      <td>0.617267</td>\n",
              "      <td>0.431845</td>\n",
              "      <td>0</td>\n",
              "    </tr>\n",
              "    <tr>\n",
              "      <th>2</th>\n",
              "      <td>8288987</td>\n",
              "      <td>1079</td>\n",
              "      <td>727.0</td>\n",
              "      <td>46.129280</td>\n",
              "      <td>19.954561</td>\n",
              "      <td>164.61870</td>\n",
              "      <td>1.010590</td>\n",
              "      <td>0.821528</td>\n",
              "      <td>0.559744</td>\n",
              "      <td>0.220796</td>\n",
              "      <td>0.003400</td>\n",
              "      <td>-0.094805</td>\n",
              "      <td>-0.074599</td>\n",
              "      <td>0.003315</td>\n",
              "      <td>0.076079</td>\n",
              "      <td>0</td>\n",
              "    </tr>\n",
              "    <tr>\n",
              "      <th>3</th>\n",
              "      <td>4842631</td>\n",
              "      <td>675</td>\n",
              "      <td>1268.0</td>\n",
              "      <td>-234.629320</td>\n",
              "      <td>349.021400</td>\n",
              "      <td>-690.46674</td>\n",
              "      <td>1.889611</td>\n",
              "      <td>1.180236</td>\n",
              "      <td>0.495534</td>\n",
              "      <td>0.064434</td>\n",
              "      <td>-0.232441</td>\n",
              "      <td>-0.389582</td>\n",
              "      <td>-0.407908</td>\n",
              "      <td>-0.334146</td>\n",
              "      <td>-0.231578</td>\n",
              "      <td>0</td>\n",
              "    </tr>\n",
              "    <tr>\n",
              "      <th>4</th>\n",
              "      <td>12884124</td>\n",
              "      <td>437</td>\n",
              "      <td>6128.0</td>\n",
              "      <td>146.780670</td>\n",
              "      <td>-180.209270</td>\n",
              "      <td>-558.39777</td>\n",
              "      <td>2.676619</td>\n",
              "      <td>1.734870</td>\n",
              "      <td>0.906903</td>\n",
              "      <td>0.464721</td>\n",
              "      <td>0.187801</td>\n",
              "      <td>0.057663</td>\n",
              "      <td>0.029529</td>\n",
              "      <td>0.049055</td>\n",
              "      <td>0.101472</td>\n",
              "      <td>1</td>\n",
              "    </tr>\n",
              "    <tr>\n",
              "      <th>...</th>\n",
              "      <td>...</td>\n",
              "      <td>...</td>\n",
              "      <td>...</td>\n",
              "      <td>...</td>\n",
              "      <td>...</td>\n",
              "      <td>...</td>\n",
              "      <td>...</td>\n",
              "      <td>...</td>\n",
              "      <td>...</td>\n",
              "      <td>...</td>\n",
              "      <td>...</td>\n",
              "      <td>...</td>\n",
              "      <td>...</td>\n",
              "      <td>...</td>\n",
              "      <td>...</td>\n",
              "      <td>...</td>\n",
              "    </tr>\n",
              "    <tr>\n",
              "      <th>99995</th>\n",
              "      <td>12466311</td>\n",
              "      <td>1085</td>\n",
              "      <td>5542.0</td>\n",
              "      <td>25.253933</td>\n",
              "      <td>-580.586850</td>\n",
              "      <td>113.06337</td>\n",
              "      <td>1.482403</td>\n",
              "      <td>1.068278</td>\n",
              "      <td>0.857863</td>\n",
              "      <td>0.583947</td>\n",
              "      <td>0.327563</td>\n",
              "      <td>0.212553</td>\n",
              "      <td>0.139374</td>\n",
              "      <td>0.103515</td>\n",
              "      <td>0.090791</td>\n",
              "      <td>1</td>\n",
              "    </tr>\n",
              "    <tr>\n",
              "      <th>99996</th>\n",
              "      <td>11857185</td>\n",
              "      <td>491</td>\n",
              "      <td>691.0</td>\n",
              "      <td>-423.371550</td>\n",
              "      <td>138.109020</td>\n",
              "      <td>-300.80450</td>\n",
              "      <td>-0.209077</td>\n",
              "      <td>-0.534490</td>\n",
              "      <td>-0.724460</td>\n",
              "      <td>-0.749430</td>\n",
              "      <td>-0.743152</td>\n",
              "      <td>-0.663805</td>\n",
              "      <td>-0.511928</td>\n",
              "      <td>-0.347015</td>\n",
              "      <td>-0.253660</td>\n",
              "      <td>0</td>\n",
              "    </tr>\n",
              "    <tr>\n",
              "      <th>99997</th>\n",
              "      <td>9340191</td>\n",
              "      <td>947</td>\n",
              "      <td>868.0</td>\n",
              "      <td>225.385210</td>\n",
              "      <td>-9.085627</td>\n",
              "      <td>318.22006</td>\n",
              "      <td>1.086942</td>\n",
              "      <td>0.492283</td>\n",
              "      <td>0.114506</td>\n",
              "      <td>-0.050883</td>\n",
              "      <td>-0.161068</td>\n",
              "      <td>-0.168421</td>\n",
              "      <td>-0.159639</td>\n",
              "      <td>-0.175261</td>\n",
              "      <td>-0.202931</td>\n",
              "      <td>0</td>\n",
              "    </tr>\n",
              "    <tr>\n",
              "      <th>99998</th>\n",
              "      <td>13317963</td>\n",
              "      <td>1034</td>\n",
              "      <td>1175.0</td>\n",
              "      <td>-55.431606</td>\n",
              "      <td>16.332230</td>\n",
              "      <td>-898.90326</td>\n",
              "      <td>0.339088</td>\n",
              "      <td>-0.085185</td>\n",
              "      <td>-0.248881</td>\n",
              "      <td>-0.328230</td>\n",
              "      <td>-0.343797</td>\n",
              "      <td>-0.306353</td>\n",
              "      <td>-0.275684</td>\n",
              "      <td>-0.282089</td>\n",
              "      <td>-0.284524</td>\n",
              "      <td>0</td>\n",
              "    </tr>\n",
              "    <tr>\n",
              "      <th>99999</th>\n",
              "      <td>5325551</td>\n",
              "      <td>45</td>\n",
              "      <td>818.0</td>\n",
              "      <td>532.078060</td>\n",
              "      <td>372.133540</td>\n",
              "      <td>80.98245</td>\n",
              "      <td>0.448721</td>\n",
              "      <td>0.860566</td>\n",
              "      <td>0.864566</td>\n",
              "      <td>0.717441</td>\n",
              "      <td>0.626662</td>\n",
              "      <td>0.508189</td>\n",
              "      <td>0.307618</td>\n",
              "      <td>0.096964</td>\n",
              "      <td>-0.043834</td>\n",
              "      <td>0</td>\n",
              "    </tr>\n",
              "  </tbody>\n",
              "</table>\n",
              "<p>100000 rows × 16 columns</p>\n",
              "</div>\n",
              "      <button class=\"colab-df-convert\" onclick=\"convertToInteractive('df-65088fec-89ce-4628-8b90-3480fb6943b9')\"\n",
              "              title=\"Convert this dataframe to an interactive table.\"\n",
              "              style=\"display:none;\">\n",
              "        \n",
              "  <svg xmlns=\"http://www.w3.org/2000/svg\" height=\"24px\"viewBox=\"0 0 24 24\"\n",
              "       width=\"24px\">\n",
              "    <path d=\"M0 0h24v24H0V0z\" fill=\"none\"/>\n",
              "    <path d=\"M18.56 5.44l.94 2.06.94-2.06 2.06-.94-2.06-.94-.94-2.06-.94 2.06-2.06.94zm-11 1L8.5 8.5l.94-2.06 2.06-.94-2.06-.94L8.5 2.5l-.94 2.06-2.06.94zm10 10l.94 2.06.94-2.06 2.06-.94-2.06-.94-.94-2.06-.94 2.06-2.06.94z\"/><path d=\"M17.41 7.96l-1.37-1.37c-.4-.4-.92-.59-1.43-.59-.52 0-1.04.2-1.43.59L10.3 9.45l-7.72 7.72c-.78.78-.78 2.05 0 2.83L4 21.41c.39.39.9.59 1.41.59.51 0 1.02-.2 1.41-.59l7.78-7.78 2.81-2.81c.8-.78.8-2.07 0-2.86zM5.41 20L4 18.59l7.72-7.72 1.47 1.35L5.41 20z\"/>\n",
              "  </svg>\n",
              "      </button>\n",
              "      \n",
              "  <style>\n",
              "    .colab-df-container {\n",
              "      display:flex;\n",
              "      flex-wrap:wrap;\n",
              "      gap: 12px;\n",
              "    }\n",
              "\n",
              "    .colab-df-convert {\n",
              "      background-color: #E8F0FE;\n",
              "      border: none;\n",
              "      border-radius: 50%;\n",
              "      cursor: pointer;\n",
              "      display: none;\n",
              "      fill: #1967D2;\n",
              "      height: 32px;\n",
              "      padding: 0 0 0 0;\n",
              "      width: 32px;\n",
              "    }\n",
              "\n",
              "    .colab-df-convert:hover {\n",
              "      background-color: #E2EBFA;\n",
              "      box-shadow: 0px 1px 2px rgba(60, 64, 67, 0.3), 0px 1px 3px 1px rgba(60, 64, 67, 0.15);\n",
              "      fill: #174EA6;\n",
              "    }\n",
              "\n",
              "    [theme=dark] .colab-df-convert {\n",
              "      background-color: #3B4455;\n",
              "      fill: #D2E3FC;\n",
              "    }\n",
              "\n",
              "    [theme=dark] .colab-df-convert:hover {\n",
              "      background-color: #434B5C;\n",
              "      box-shadow: 0px 1px 3px 1px rgba(0, 0, 0, 0.15);\n",
              "      filter: drop-shadow(0px 1px 2px rgba(0, 0, 0, 0.3));\n",
              "      fill: #FFFFFF;\n",
              "    }\n",
              "  </style>\n",
              "\n",
              "      <script>\n",
              "        const buttonEl =\n",
              "          document.querySelector('#df-65088fec-89ce-4628-8b90-3480fb6943b9 button.colab-df-convert');\n",
              "        buttonEl.style.display =\n",
              "          google.colab.kernel.accessAllowed ? 'block' : 'none';\n",
              "\n",
              "        async function convertToInteractive(key) {\n",
              "          const element = document.querySelector('#df-65088fec-89ce-4628-8b90-3480fb6943b9');\n",
              "          const dataTable =\n",
              "            await google.colab.kernel.invokeFunction('convertToInteractive',\n",
              "                                                     [key], {});\n",
              "          if (!dataTable) return;\n",
              "\n",
              "          const docLinkHtml = 'Like what you see? Visit the ' +\n",
              "            '<a target=\"_blank\" href=https://colab.research.google.com/notebooks/data_table.ipynb>data table notebook</a>'\n",
              "            + ' to learn more about interactive tables.';\n",
              "          element.innerHTML = '';\n",
              "          dataTable['output_type'] = 'display_data';\n",
              "          await google.colab.output.renderOutput(dataTable, element);\n",
              "          const docLink = document.createElement('div');\n",
              "          docLink.innerHTML = docLinkHtml;\n",
              "          element.appendChild(docLink);\n",
              "        }\n",
              "      </script>\n",
              "    </div>\n",
              "  </div>\n",
              "  "
            ],
            "text/plain": [
              "             id  haloID  halo_mass  ...  dc for 18.1  dc for 20.0  in_halo\n",
              "0       8981131     414     1504.0  ...     0.691070     0.457584        0\n",
              "1       9901676    1026     1013.0  ...     0.617267     0.431845        0\n",
              "2       8288987    1079      727.0  ...     0.003315     0.076079        0\n",
              "3       4842631     675     1268.0  ...    -0.334146    -0.231578        0\n",
              "4      12884124     437     6128.0  ...     0.049055     0.101472        1\n",
              "...         ...     ...        ...  ...          ...          ...      ...\n",
              "99995  12466311    1085     5542.0  ...     0.103515     0.090791        1\n",
              "99996  11857185     491      691.0  ...    -0.347015    -0.253660        0\n",
              "99997   9340191     947      868.0  ...    -0.175261    -0.202931        0\n",
              "99998  13317963    1034     1175.0  ...    -0.282089    -0.284524        0\n",
              "99999   5325551      45      818.0  ...     0.096964    -0.043834        0\n",
              "\n",
              "[100000 rows x 16 columns]"
            ]
          },
          "execution_count": 6,
          "metadata": {},
          "output_type": "execute_result"
        }
      ],
      "source": [
        "data_cdm = pd.read_csv(r'/content/drive/MyDrive/denc_CDM')\n",
        "data_cdm['in_halo'] = (data_cdm['halo_mass']>1600).astype('int32')\n",
        "data_cdm"
      ]
    },
    {
      "cell_type": "code",
      "execution_count": null,
      "metadata": {
        "colab": {
          "base_uri": "https://localhost:8080/"
        },
        "id": "6bMfGLnOAZV3",
        "outputId": "6690b70f-f037-4dee-efeb-d0e38142dfd7"
      },
      "outputs": [
        {
          "data": {
            "text/html": [
              "\n",
              "  <div id=\"df-b6ae0984-9dbb-4855-bf5c-fe284165e6f3\">\n",
              "    <div class=\"colab-df-container\">\n",
              "      <div>\n",
              "<style scoped>\n",
              "    .dataframe tbody tr th:only-of-type {\n",
              "        vertical-align: middle;\n",
              "    }\n",
              "\n",
              "    .dataframe tbody tr th {\n",
              "        vertical-align: top;\n",
              "    }\n",
              "\n",
              "    .dataframe thead th {\n",
              "        text-align: right;\n",
              "    }\n",
              "</style>\n",
              "<table border=\"1\" class=\"dataframe\">\n",
              "  <thead>\n",
              "    <tr style=\"text-align: right;\">\n",
              "      <th></th>\n",
              "      <th>id</th>\n",
              "      <th>haloID</th>\n",
              "      <th>halo_mass</th>\n",
              "      <th>vx</th>\n",
              "      <th>vy</th>\n",
              "      <th>vz</th>\n",
              "      <th>dc for 4.9</th>\n",
              "      <th>dc for 6.8</th>\n",
              "      <th>dc for 8.7</th>\n",
              "      <th>dc for 10.6</th>\n",
              "      <th>dc for 12.4</th>\n",
              "      <th>dc for 14.3</th>\n",
              "      <th>dc for 16.2</th>\n",
              "      <th>dc for 18.1</th>\n",
              "      <th>dc for 20.0</th>\n",
              "      <th>in_halo</th>\n",
              "    </tr>\n",
              "  </thead>\n",
              "  <tbody>\n",
              "    <tr>\n",
              "      <th>count</th>\n",
              "      <td>1.000000e+05</td>\n",
              "      <td>100000.000000</td>\n",
              "      <td>100000.000000</td>\n",
              "      <td>100000.000000</td>\n",
              "      <td>100000.000000</td>\n",
              "      <td>100000.000000</td>\n",
              "      <td>100000.000000</td>\n",
              "      <td>100000.000000</td>\n",
              "      <td>100000.000000</td>\n",
              "      <td>100000.000000</td>\n",
              "      <td>100000.000000</td>\n",
              "      <td>100000.000000</td>\n",
              "      <td>100000.000000</td>\n",
              "      <td>100000.000000</td>\n",
              "      <td>100000.000000</td>\n",
              "      <td>100000.000000</td>\n",
              "    </tr>\n",
              "    <tr>\n",
              "      <th>mean</th>\n",
              "      <td>8.533738e+06</td>\n",
              "      <td>633.075900</td>\n",
              "      <td>3004.391080</td>\n",
              "      <td>32.287533</td>\n",
              "      <td>-13.697343</td>\n",
              "      <td>89.574071</td>\n",
              "      <td>1.423915</td>\n",
              "      <td>1.032233</td>\n",
              "      <td>0.712873</td>\n",
              "      <td>0.480862</td>\n",
              "      <td>0.322917</td>\n",
              "      <td>0.216223</td>\n",
              "      <td>0.144046</td>\n",
              "      <td>0.096634</td>\n",
              "      <td>0.066060</td>\n",
              "      <td>0.589200</td>\n",
              "    </tr>\n",
              "    <tr>\n",
              "      <th>std</th>\n",
              "      <td>3.598448e+06</td>\n",
              "      <td>358.496156</td>\n",
              "      <td>2802.876192</td>\n",
              "      <td>359.880883</td>\n",
              "      <td>364.383569</td>\n",
              "      <td>374.571567</td>\n",
              "      <td>1.023549</td>\n",
              "      <td>0.920945</td>\n",
              "      <td>0.807251</td>\n",
              "      <td>0.689640</td>\n",
              "      <td>0.585773</td>\n",
              "      <td>0.502089</td>\n",
              "      <td>0.436403</td>\n",
              "      <td>0.384151</td>\n",
              "      <td>0.341271</td>\n",
              "      <td>0.491981</td>\n",
              "    </tr>\n",
              "    <tr>\n",
              "      <th>min</th>\n",
              "      <td>2.131195e+06</td>\n",
              "      <td>3.000000</td>\n",
              "      <td>271.000000</td>\n",
              "      <td>-1234.874100</td>\n",
              "      <td>-1571.376600</td>\n",
              "      <td>-1311.024700</td>\n",
              "      <td>-0.994127</td>\n",
              "      <td>-0.912349</td>\n",
              "      <td>-0.878283</td>\n",
              "      <td>-0.891915</td>\n",
              "      <td>-0.933043</td>\n",
              "      <td>-0.935449</td>\n",
              "      <td>-0.868262</td>\n",
              "      <td>-0.815454</td>\n",
              "      <td>-0.787467</td>\n",
              "      <td>0.000000</td>\n",
              "    </tr>\n",
              "    <tr>\n",
              "      <th>25%</th>\n",
              "      <td>5.640789e+06</td>\n",
              "      <td>368.000000</td>\n",
              "      <td>1181.000000</td>\n",
              "      <td>-223.982345</td>\n",
              "      <td>-249.685410</td>\n",
              "      <td>-148.388917</td>\n",
              "      <td>0.660156</td>\n",
              "      <td>0.354545</td>\n",
              "      <td>0.122621</td>\n",
              "      <td>-0.026842</td>\n",
              "      <td>-0.107359</td>\n",
              "      <td>-0.161173</td>\n",
              "      <td>-0.183527</td>\n",
              "      <td>-0.186967</td>\n",
              "      <td>-0.181568</td>\n",
              "      <td>0.000000</td>\n",
              "    </tr>\n",
              "    <tr>\n",
              "      <th>50%</th>\n",
              "      <td>8.790886e+06</td>\n",
              "      <td>676.000000</td>\n",
              "      <td>2020.000000</td>\n",
              "      <td>28.124724</td>\n",
              "      <td>-4.978945</td>\n",
              "      <td>97.944227</td>\n",
              "      <td>1.269011</td>\n",
              "      <td>0.890765</td>\n",
              "      <td>0.589027</td>\n",
              "      <td>0.370513</td>\n",
              "      <td>0.223129</td>\n",
              "      <td>0.134561</td>\n",
              "      <td>0.074502</td>\n",
              "      <td>0.037988</td>\n",
              "      <td>0.011761</td>\n",
              "      <td>1.000000</td>\n",
              "    </tr>\n",
              "    <tr>\n",
              "      <th>75%</th>\n",
              "      <td>1.143724e+07</td>\n",
              "      <td>970.000000</td>\n",
              "      <td>3662.000000</td>\n",
              "      <td>277.156240</td>\n",
              "      <td>231.618633</td>\n",
              "      <td>341.305498</td>\n",
              "      <td>2.057976</td>\n",
              "      <td>1.549992</td>\n",
              "      <td>1.162333</td>\n",
              "      <td>0.872826</td>\n",
              "      <td>0.674880</td>\n",
              "      <td>0.526476</td>\n",
              "      <td>0.422276</td>\n",
              "      <td>0.353801</td>\n",
              "      <td>0.294427</td>\n",
              "      <td>1.000000</td>\n",
              "    </tr>\n",
              "    <tr>\n",
              "      <th>max</th>\n",
              "      <td>1.464654e+07</td>\n",
              "      <td>1251.000000</td>\n",
              "      <td>31252.000000</td>\n",
              "      <td>1362.093800</td>\n",
              "      <td>1185.835400</td>\n",
              "      <td>1349.211900</td>\n",
              "      <td>5.624963</td>\n",
              "      <td>4.721646</td>\n",
              "      <td>3.972765</td>\n",
              "      <td>3.400808</td>\n",
              "      <td>2.783131</td>\n",
              "      <td>2.163220</td>\n",
              "      <td>1.888203</td>\n",
              "      <td>1.618024</td>\n",
              "      <td>1.364662</td>\n",
              "      <td>1.000000</td>\n",
              "    </tr>\n",
              "  </tbody>\n",
              "</table>\n",
              "</div>\n",
              "      <button class=\"colab-df-convert\" onclick=\"convertToInteractive('df-b6ae0984-9dbb-4855-bf5c-fe284165e6f3')\"\n",
              "              title=\"Convert this dataframe to an interactive table.\"\n",
              "              style=\"display:none;\">\n",
              "        \n",
              "  <svg xmlns=\"http://www.w3.org/2000/svg\" height=\"24px\"viewBox=\"0 0 24 24\"\n",
              "       width=\"24px\">\n",
              "    <path d=\"M0 0h24v24H0V0z\" fill=\"none\"/>\n",
              "    <path d=\"M18.56 5.44l.94 2.06.94-2.06 2.06-.94-2.06-.94-.94-2.06-.94 2.06-2.06.94zm-11 1L8.5 8.5l.94-2.06 2.06-.94-2.06-.94L8.5 2.5l-.94 2.06-2.06.94zm10 10l.94 2.06.94-2.06 2.06-.94-2.06-.94-.94-2.06-.94 2.06-2.06.94z\"/><path d=\"M17.41 7.96l-1.37-1.37c-.4-.4-.92-.59-1.43-.59-.52 0-1.04.2-1.43.59L10.3 9.45l-7.72 7.72c-.78.78-.78 2.05 0 2.83L4 21.41c.39.39.9.59 1.41.59.51 0 1.02-.2 1.41-.59l7.78-7.78 2.81-2.81c.8-.78.8-2.07 0-2.86zM5.41 20L4 18.59l7.72-7.72 1.47 1.35L5.41 20z\"/>\n",
              "  </svg>\n",
              "      </button>\n",
              "      \n",
              "  <style>\n",
              "    .colab-df-container {\n",
              "      display:flex;\n",
              "      flex-wrap:wrap;\n",
              "      gap: 12px;\n",
              "    }\n",
              "\n",
              "    .colab-df-convert {\n",
              "      background-color: #E8F0FE;\n",
              "      border: none;\n",
              "      border-radius: 50%;\n",
              "      cursor: pointer;\n",
              "      display: none;\n",
              "      fill: #1967D2;\n",
              "      height: 32px;\n",
              "      padding: 0 0 0 0;\n",
              "      width: 32px;\n",
              "    }\n",
              "\n",
              "    .colab-df-convert:hover {\n",
              "      background-color: #E2EBFA;\n",
              "      box-shadow: 0px 1px 2px rgba(60, 64, 67, 0.3), 0px 1px 3px 1px rgba(60, 64, 67, 0.15);\n",
              "      fill: #174EA6;\n",
              "    }\n",
              "\n",
              "    [theme=dark] .colab-df-convert {\n",
              "      background-color: #3B4455;\n",
              "      fill: #D2E3FC;\n",
              "    }\n",
              "\n",
              "    [theme=dark] .colab-df-convert:hover {\n",
              "      background-color: #434B5C;\n",
              "      box-shadow: 0px 1px 3px 1px rgba(0, 0, 0, 0.15);\n",
              "      filter: drop-shadow(0px 1px 2px rgba(0, 0, 0, 0.3));\n",
              "      fill: #FFFFFF;\n",
              "    }\n",
              "  </style>\n",
              "\n",
              "      <script>\n",
              "        const buttonEl =\n",
              "          document.querySelector('#df-b6ae0984-9dbb-4855-bf5c-fe284165e6f3 button.colab-df-convert');\n",
              "        buttonEl.style.display =\n",
              "          google.colab.kernel.accessAllowed ? 'block' : 'none';\n",
              "\n",
              "        async function convertToInteractive(key) {\n",
              "          const element = document.querySelector('#df-b6ae0984-9dbb-4855-bf5c-fe284165e6f3');\n",
              "          const dataTable =\n",
              "            await google.colab.kernel.invokeFunction('convertToInteractive',\n",
              "                                                     [key], {});\n",
              "          if (!dataTable) return;\n",
              "\n",
              "          const docLinkHtml = 'Like what you see? Visit the ' +\n",
              "            '<a target=\"_blank\" href=https://colab.research.google.com/notebooks/data_table.ipynb>data table notebook</a>'\n",
              "            + ' to learn more about interactive tables.';\n",
              "          element.innerHTML = '';\n",
              "          dataTable['output_type'] = 'display_data';\n",
              "          await google.colab.output.renderOutput(dataTable, element);\n",
              "          const docLink = document.createElement('div');\n",
              "          docLink.innerHTML = docLinkHtml;\n",
              "          element.appendChild(docLink);\n",
              "        }\n",
              "      </script>\n",
              "    </div>\n",
              "  </div>\n",
              "  "
            ],
            "text/plain": [
              "                 id         haloID  ...    dc for 20.0        in_halo\n",
              "count  1.000000e+05  100000.000000  ...  100000.000000  100000.000000\n",
              "mean   8.533738e+06     633.075900  ...       0.066060       0.589200\n",
              "std    3.598448e+06     358.496156  ...       0.341271       0.491981\n",
              "min    2.131195e+06       3.000000  ...      -0.787467       0.000000\n",
              "25%    5.640789e+06     368.000000  ...      -0.181568       0.000000\n",
              "50%    8.790886e+06     676.000000  ...       0.011761       1.000000\n",
              "75%    1.143724e+07     970.000000  ...       0.294427       1.000000\n",
              "max    1.464654e+07    1251.000000  ...       1.364662       1.000000\n",
              "\n",
              "[8 rows x 16 columns]"
            ]
          },
          "execution_count": 7,
          "metadata": {},
          "output_type": "execute_result"
        }
      ],
      "source": [
        "data_cdm.describe()"
      ]
    },
    {
      "cell_type": "markdown",
      "metadata": {
        "id": "T3j7w19QMtr6"
      },
      "source": [
        "## Define Datasets"
      ]
    },
    {
      "cell_type": "code",
      "execution_count": null,
      "metadata": {
        "id": "or4kY4WWMucw"
      },
      "outputs": [],
      "source": [
        "## Neutrino\n",
        "X = data.iloc[:,3:15].astype('float32').values\n",
        "Y = data.in_halo.astype('int32').values"
      ]
    },
    {
      "cell_type": "code",
      "execution_count": null,
      "metadata": {
        "id": "wZ-HpA6NM8Q2"
      },
      "outputs": [],
      "source": [
        "## CDM\n",
        "X2 = data_cdm.iloc[:,3:15].astype('float32').values\n",
        "Y2 = data_cdm.in_halo.astype('int32').values"
      ]
    },
    {
      "cell_type": "code",
      "execution_count": null,
      "metadata": {
        "id": "lXcWbPziPvLh"
      },
      "outputs": [],
      "source": [
        "## Scale / Neutrino\n",
        "X = (X - np.mean(X))/np.std(X)"
      ]
    },
    {
      "cell_type": "code",
      "execution_count": null,
      "metadata": {
        "id": "rWlWvyHiPwW2"
      },
      "outputs": [],
      "source": [
        "## Scale / CDM\n",
        "X2 = (X2 - np.mean(X2))/np.std(X2)"
      ]
    },
    {
      "cell_type": "code",
      "execution_count": null,
      "metadata": {
        "colab": {
          "base_uri": "https://localhost:8080/"
        },
        "id": "nwUV_V0rP2SM",
        "outputId": "e4d4d940-a91a-4d06-b57a-3d9319e1c347"
      },
      "outputs": [
        {
          "name": "stdout",
          "output_type": "stream",
          "text": [
            "X_train : 80000    X_test : 20000\n"
          ]
        }
      ],
      "source": [
        "## Split into test and train / Neutrino\n",
        "\n",
        "tst_size = 0.2\n",
        "ns, nf = np.shape(X) \n",
        "X_train, X_test, Y_train, Y_test = train_test_split(*shuffle(X, Y, n_samples = ns, random_state=0) , random_state=0, test_size =tst_size )\n",
        "print('X_train :',len(X_train),'   X_test :',len(X_test))"
      ]
    },
    {
      "cell_type": "code",
      "execution_count": null,
      "metadata": {
        "colab": {
          "base_uri": "https://localhost:8080/"
        },
        "id": "9apbXZgBQBdC",
        "outputId": "cd704e75-660e-4ade-a977-ea7f2455954e"
      },
      "outputs": [
        {
          "name": "stdout",
          "output_type": "stream",
          "text": [
            "X2_train : 80000    X2_test : 20000\n"
          ]
        }
      ],
      "source": [
        "## Split into test and train / CDM\n",
        "\n",
        "tst_size = 0.2\n",
        "ns, nf = np.shape(X) \n",
        "X2_train, X2_test, Y2_train, Y2_test = train_test_split(*shuffle(X, Y, n_samples = ns, random_state=0) , random_state=0, test_size =tst_size )\n",
        "print('X2_train :',len(X2_train),'   X2_test :',len(X2_test))"
      ]
    },
    {
      "cell_type": "code",
      "execution_count": null,
      "metadata": {
        "colab": {
          "base_uri": "https://localhost:8080/"
        },
        "id": "da58eyduR_5c",
        "outputId": "bb66b2f6-5301-4713-e5b5-0cb2c9a7e4b4"
      },
      "outputs": [
        {
          "name": "stdout",
          "output_type": "stream",
          "text": [
            "55.793 % of the stored data has class 1 \n"
          ]
        }
      ],
      "source": [
        "# Frequency of 1-class / Neutrino\n",
        "print(\"{} % of the stored data has class 1 \".format(100*Y.sum()/len(Y)))"
      ]
    },
    {
      "cell_type": "code",
      "execution_count": null,
      "metadata": {
        "colab": {
          "base_uri": "https://localhost:8080/"
        },
        "id": "cab_Ut9DApBC",
        "outputId": "9f7b7861-f1c8-40df-d76e-1f9d9069324a"
      },
      "outputs": [
        {
          "name": "stdout",
          "output_type": "stream",
          "text": [
            "58.92 % of the stored data has class 1 \n"
          ]
        }
      ],
      "source": [
        "# Frequency of 1-class / CDM\n",
        "print(\"{} % of the stored data has class 1 \".format(100*Y2.sum()/len(Y2)))"
      ]
    },
    {
      "cell_type": "markdown",
      "metadata": {
        "id": "As64UStyvixb"
      },
      "source": [
        "# SVM "
      ]
    },
    {
      "cell_type": "markdown",
      "metadata": {
        "id": "ew1ZoHKyvixc"
      },
      "source": [
        "Initialize and train svm model"
      ]
    },
    {
      "cell_type": "code",
      "execution_count": null,
      "metadata": {
        "colab": {
          "base_uri": "https://localhost:8080/"
        },
        "id": "KC4q8yHIvixd",
        "outputId": "d230cf71-a2fe-4a13-e5ad-71d76367af79"
      },
      "outputs": [
        {
          "name": "stdout",
          "output_type": "stream",
          "text": [
            "Fitting 3 folds for each of 8 candidates, totalling 24 fits\n",
            "0.7163544464823675\n"
          ]
        }
      ],
      "source": [
        "# from sklearn.model_selection import cross_val_score\n",
        "from sklearn.model_selection import GridSearchCV\n",
        "import time\n",
        "\n",
        "svc = svm.SVC()\n",
        "tst_size = 0.2\n",
        "ns, nf = np.shape(X) \n",
        "# split data to train and test \n",
        "X_train, X_test, Y_train, Y_test = train_test_split(*shuffle(X, Y, n_samples = ns, random_state=0) , random_state=0, test_size =tst_size )\n",
        "# cross validation\n",
        "# scores = cross_val_score(svc, X_train, Y_train, cv=5 ,scoring= 'f1')\n",
        "cv = 3\n",
        "scoring = 'f1'\n",
        "param_grid = {'C': [0.1, 100],  \n",
        "                'gamma': [1, 0.001], \n",
        "                'kernel': ['rbf', 'sigmoid']}\n",
        "# evaluate hyper-parameters \n",
        "clf = GridSearchCV(svc, param_grid, scoring = scoring, cv = cv ,verbose = 1, n_jobs=-1, return_train_score=1)\n",
        "# train model\n",
        "start_train = time.time()\n",
        "trained_model = clf.fit(X_train, Y_train)\n",
        "runtime_train = start_train - time.time()\n",
        "# predict data\n",
        "start_pred = time.time()\n",
        "Y_pred = trained_model.predict(X_test)\n",
        "runtime_pred = start_pred - time.time()\n",
        "# scores = cross_val_score(clf.best_estimator_, X_train, Y_train, cv=5 ,scoring= 'accuracy')\n",
        "# print(scores)\n",
        "print(clf.best_score_)\n",
        "\n",
        "## runtime order = 3 hr"
      ]
    },
    {
      "cell_type": "code",
      "execution_count": null,
      "metadata": {
        "id": "70AA04UpRV4Z"
      },
      "outputs": [],
      "source": [
        "import pickle\n",
        "\n",
        "# save the model to disk\n",
        "filename = 'drive/MyDrive/svm_model.sav'\n",
        "pickle.dump(trained_model, open(filename, 'wb'))\n",
        "# load the model from disk\n",
        "# loaded_model = pickle.load(open(filename, 'rb'))\n",
        "# result = loaded_model.score(X_test, Y_test)\n",
        "# print(result)"
      ]
    },
    {
      "cell_type": "markdown",
      "metadata": {
        "id": "VgbAjfqAvixe"
      },
      "source": [
        "### Classification Report\n",
        "Print some information about the trained model such as training time, ... "
      ]
    },
    {
      "cell_type": "code",
      "execution_count": null,
      "metadata": {
        "colab": {
          "base_uri": "https://localhost:8080/"
        },
        "id": "oHmU_txHvixe",
        "outputId": "e608f66a-ecb0-4272-9ff3-0422a020e89e"
      },
      "outputs": [
        {
          "name": "stdout",
          "output_type": "stream",
          "text": [
            "Best parameters set found on development set:\n",
            "{'C': 0.1, 'gamma': 0.001, 'kernel': 'rbf'}\n",
            "\n",
            "0.7163544464823675\n",
            "-----------------\n",
            "\n",
            "classification report: \n",
            "\n",
            "              precision    recall  f1-score   support\n",
            "\n",
            "           0       0.00      0.00      0.00      8852\n",
            "           1       0.56      1.00      0.72     11148\n",
            "\n",
            "    accuracy                           0.56     20000\n",
            "   macro avg       0.28      0.50      0.36     20000\n",
            "weighted avg       0.31      0.56      0.40     20000\n",
            "\n"
          ]
        },
        {
          "name": "stderr",
          "output_type": "stream",
          "text": [
            "/usr/local/lib/python3.7/dist-packages/sklearn/metrics/_classification.py:1318: UndefinedMetricWarning: Precision and F-score are ill-defined and being set to 0.0 in labels with no predicted samples. Use `zero_division` parameter to control this behavior.\n",
            "  _warn_prf(average, modifier, msg_start, len(result))\n",
            "/usr/local/lib/python3.7/dist-packages/sklearn/metrics/_classification.py:1318: UndefinedMetricWarning: Precision and F-score are ill-defined and being set to 0.0 in labels with no predicted samples. Use `zero_division` parameter to control this behavior.\n",
            "  _warn_prf(average, modifier, msg_start, len(result))\n",
            "/usr/local/lib/python3.7/dist-packages/sklearn/metrics/_classification.py:1318: UndefinedMetricWarning: Precision and F-score are ill-defined and being set to 0.0 in labels with no predicted samples. Use `zero_division` parameter to control this behavior.\n",
            "  _warn_prf(average, modifier, msg_start, len(result))\n"
          ]
        },
        {
          "name": "stdout",
          "output_type": "stream",
          "text": [
            "Training Time was: -11914.655703306198\n",
            "Prediction Time was: -99.0941174030304\n"
          ]
        }
      ],
      "source": [
        "print(\"Best parameters set found on development set:\")\n",
        "print(trained_model.best_params_)\n",
        "print()\n",
        "# print(sorted(trained_model.cv_results_.keys()))\n",
        "print(trained_model.best_score_)\n",
        "# print(trained_model.cv_results_.mean_fit)\n",
        "\n",
        "print('-----------------')\n",
        "# print(Y_pred)\n",
        "print('\\nclassification report: \\n')\n",
        "from sklearn.metrics import classification_report\n",
        "print(classification_report(Y_test, Y_pred))\n",
        "\n",
        "EM1 = scoring\n",
        "mean_test_scores = trained_model.cv_results_.get('mean_test_score')\n",
        "CVS1 = mean_test_scores[trained_model.best_index_]\n",
        "CPS1 = trained_model.score(X_test, Y_test)\n",
        "T1 = runtime_train\n",
        "PT1 = runtime_pred\n",
        "print( \"Training Time was: \" + str(T1))\n",
        "print(\"Prediction Time was: \" + str(PT1))"
      ]
    },
    {
      "cell_type": "markdown",
      "metadata": {
        "id": "rf8ukjsfvixf"
      },
      "source": [
        "### Confusion Matrix"
      ]
    },
    {
      "cell_type": "code",
      "execution_count": null,
      "metadata": {
        "colab": {
          "base_uri": "https://localhost:8080/",
          "height": 279
        },
        "id": "qNiOChmcvixf",
        "outputId": "bd1acebf-f1ec-4fc9-91af-b992ac64d5d8"
      },
      "outputs": [
        {
          "data": {
            "image/png": "[encoded data removed]",
            "text/plain": [
              "<Figure size 432x288 with 2 Axes>"
            ]
          },
          "metadata": {},
          "output_type": "display_data"
        }
      ],
      "source": [
        "from sklearn.metrics import ConfusionMatrixDisplay\n",
        "cm = confusion_matrix(Y_test, Y_pred, labels=clf.classes_)\n",
        "disp = ConfusionMatrixDisplay(confusion_matrix=cm, display_labels=clf.classes_)\n",
        "disp.plot()\n",
        "plt.show()"
      ]
    },
    {
      "cell_type": "markdown",
      "metadata": {
        "id": "NkLTkX8zvixi"
      },
      "source": [
        "### Learning Curve\n"
      ]
    },
    {
      "cell_type": "code",
      "execution_count": null,
      "metadata": {
        "colab": {
          "base_uri": "https://localhost:8080/",
          "height": 625
        },
        "id": "xmA9wHBjvixj",
        "outputId": "d013d568-b484-47c3-c8cb-6610d38705a1"
      },
      "outputs": [
        {
          "data": {
            "image/png": "[encoded data removed]",
            "text/plain": [
              "<Figure size 432x288 with 1 Axes>"
            ]
          },
          "metadata": {},
          "output_type": "display_data"
        },
        {
          "name": "stdout",
          "output_type": "stream",
          "text": [
            "Training scores:\n",
            "\n",
            "            cv1       cv2       cv3\n",
            "100        NaN  0.770186  0.770186\n",
            "500   0.838560  0.719590  0.719590\n",
            "1000  0.781231  0.737975  0.737975\n",
            "5000  0.721555  0.715808  0.715808\n",
            "6400  0.721279  0.716277  0.716277\n",
            "\n",
            " ----------------------------------------------------------------------\n",
            "\n",
            "Validation scores:\n",
            "\n",
            "            cv1       cv2       cv3\n",
            "100        NaN  0.710096  0.710897\n",
            "500   0.716359  0.716359  0.716345\n",
            "1000  0.716359  0.716379  0.716455\n",
            "5000  0.716359  0.716359  0.716345\n",
            "6400  0.716359  0.716359  0.716345\n"
          ]
        }
      ],
      "source": [
        "ns = [100,500,1000,5000,6400]\n",
        "train_sizes, train_scores, valid_scores = learning_curve(trained_model, X_train, Y_train, train_sizes=ns, cv=cv, scoring= scoring, n_jobs = -1)\n",
        "\n",
        "train_scores_mean =  train_scores.mean(axis = 1)\n",
        "train_scores_std = np.std(train_scores, axis=1)\n",
        "validation_scores_mean =  valid_scores.mean(axis = 1)\n",
        "validation_scores_std  = valid_scores.std(axis = 1)\n",
        "\n",
        "xlabel = 'Sample Size'\n",
        "ylabel = scoring\n",
        "plt_title = 'Learning Curve'\n",
        "\n",
        "fig = plt.figure()\n",
        "ax = fig.add_subplot(111, xlabel=xlabel, ylabel=ylabel, title=plt_title)\n",
        "ax.plot(train_sizes, train_scores_mean, label = 'Training Score')\n",
        "ax.plot(train_sizes, validation_scores_mean, label = 'Validation Score')\n",
        "\n",
        "plt.fill_between(train_sizes, train_scores_mean - train_scores_std,\n",
        "                 train_scores_mean + train_scores_std, alpha=0.2,\n",
        "                 color=\"darkblue\", lw=2)\n",
        "plt.fill_between(train_sizes, validation_scores_mean - validation_scores_std,\n",
        "                 validation_scores_mean + validation_scores_std, alpha=0.2,\n",
        "                 color=\"darkgreen\", lw=2)\n",
        "\n",
        "plt.legend()\n",
        "# plt.yscale('log')\n",
        "plt.show()\n",
        "\n",
        "print('Training scores:\\n\\n', pd.DataFrame( train_scores, columns=[f'cv{i+1}' for i in range(cv)], index=ns) )\n",
        "print('\\n', '-' * 70) # separator to make the output easy to read\n",
        "print('\\nValidation scores:\\n\\n', pd.DataFrame(valid_scores, columns=[f'cv{i+1}' for i in range(cv)], index=ns) )"
      ]
    },
    {
      "cell_type": "markdown",
      "metadata": {
        "id": "ptX4Ql42vixk"
      },
      "source": [
        "### Validation Curve\n"
      ]
    },
    {
      "cell_type": "code",
      "execution_count": null,
      "metadata": {
        "colab": {
          "base_uri": "https://localhost:8080/",
          "height": 384
        },
        "id": "nxDGL2uDvixl",
        "outputId": "ddef0f00-7ba6-4335-c661-f57980815355"
      },
      "outputs": [
        {
          "name": "stderr",
          "output_type": "stream",
          "text": [
            "[Parallel(n_jobs=-1)]: Using backend LokyBackend with 2 concurrent workers.\n",
            "/usr/local/lib/python3.7/dist-packages/joblib/externals/loky/process_executor.py:705: UserWarning: A worker stopped while some jobs were given to the executor. This can be caused by a too short worker timeout or by a memory leak.\n",
            "  \"timeout or by a memory leak.\", UserWarning\n",
            "[Parallel(n_jobs=-1)]: Done   6 out of   6 | elapsed: 57.2min finished\n"
          ]
        },
        {
          "data": {
            "image/png": "[encoded data removed]",
            "text/plain": [
              "<Figure size 432x288 with 1 Axes>"
            ]
          },
          "metadata": {},
          "output_type": "display_data"
        }
      ],
      "source": [
        "c_list = param_grid.get('C')\n",
        "train_scores, valid_scores = validation_curve(SVC(), X_train, Y_train, \n",
        "                                              param_name=\"gamma\",\n",
        "                                              param_range=c_list , \n",
        "                                              cv=cv, \n",
        "                                              scoring = scoring,\n",
        "                                              verbose=1, \n",
        "                                              n_jobs=-1\n",
        "                                             )\n",
        "train_scores_mean = np.mean(train_scores, axis=1)\n",
        "train_scores_std = np.std(train_scores, axis=1)\n",
        "valid_scores_mean = np.mean(valid_scores, axis=1)\n",
        "valid_scores_std = np.std(valid_scores, axis=1)\n",
        "\n",
        "xlabel = 'gamma'\n",
        "ylabel = scoring\n",
        "plt_title = 'Validation Curve'\n",
        "\n",
        "fig = plt.figure()\n",
        "ax = fig.add_subplot(111, xlabel=xlabel, ylabel=ylabel, title=plt_title)\n",
        "plt.plot(c_list, train_scores_mean, label=\"Training score\",\n",
        "             color=\"darkorange\", lw=2)\n",
        "plt.fill_between(c_list, train_scores_mean - train_scores_std,\n",
        "                 train_scores_mean + train_scores_std, alpha=0.2,\n",
        "                 color=\"darkorange\", lw=2)\n",
        "plt.plot(c_list, valid_scores_mean, label=\"Validation score\",\n",
        "             color=\"navy\", lw=2)\n",
        "plt.fill_between(c_list, valid_scores_mean - valid_scores_std,\n",
        "                 valid_scores_mean + valid_scores_std, alpha=0.2,\n",
        "                 color=\"navy\", lw=2)\n",
        "plt.legend(loc=\"best\")\n",
        "plt.show()\n",
        "\n",
        "# print('Training scores:\\n\\n', pd.DataFrame( train_scores, columns=[f'cv{i+1}' for i in range(cv)], index=ns) )\n",
        "# print('\\n', '-' * 70) # separator to make the output easy to read\n",
        "# print('\\nValidation scores:\\n\\n', pd.DataFrame(valid_scores, columns=[f'cv{i+1}' for i in range(cv)], index=ns) )"
      ]
    },
    {
      "cell_type": "markdown",
      "metadata": {
        "id": "o6Lj00HDHQXP"
      },
      "source": [
        "# SVM / CDM"
      ]
    },
    {
      "cell_type": "code",
      "execution_count": null,
      "metadata": {
        "colab": {
          "base_uri": "https://localhost:8080/"
        },
        "id": "1DyjH2u3G4DW",
        "outputId": "7a23dc5c-3406-46f5-e233-78b462ed3947"
      },
      "outputs": [
        {
          "output_type": "stream",
          "name": "stdout",
          "text": [
            "Fitting 3 folds for each of 8 candidates, totalling 24 fits\n",
            "0.7163544464823675\n"
          ]
        }
      ],
      "source": [
        "# from sklearn.model_selection import cross_val_score\n",
        "from sklearn.model_selection import GridSearchCV\n",
        "import time\n",
        "\n",
        "svc = svm.SVC()\n",
        "ns, nf = np.shape(X2) \n",
        "\n",
        "# cross validation\n",
        "# scores = cross_val_score(svc, X2_train, Y2_train, cv=5 ,scoring= 'f1')\n",
        "cv = 3\n",
        "scoring = 'f1'\n",
        "param_grid = {'C': [0.1, 100],  \n",
        "                'gamma': [1, 0.001], \n",
        "                'kernel': ['rbf', 'sigmoid']}\n",
        "# evaluate hyper-parameters \n",
        "clf = GridSearchCV(svc, param_grid, scoring = scoring, cv = cv ,verbose = 1, n_jobs=-1, return_train_score=1)\n",
        "# train model\n",
        "start_train = time.time()\n",
        "trained_model = clf.fit(X2_train, Y2_train)\n",
        "runtime_train = start_train - time.time()\n",
        "# predict data\n",
        "start_pred = time.time()\n",
        "Y2_pred = trained_model.predict(X2_test)\n",
        "runtime_pred = start_pred - time.time()\n",
        "# scores = cross_val_score(clf.best_estimator_, X2_train, Y2_train, cv=5 ,scoring= 'accuracy')\n",
        "# print(scores)\n",
        "print(clf.best_score_)"
      ]
    },
    {
      "cell_type": "code",
      "execution_count": null,
      "metadata": {
        "id": "p4_RPsbXG4DW"
      },
      "outputs": [],
      "source": [
        "import pickle\n",
        "\n",
        "# save the model to disk\n",
        "filename = 'drive/MyDrive/svm_model_cdm.sav'\n",
        "pickle.dump(trained_model, open(filename, 'wb'))\n",
        "# load the model from disk\n",
        "# loaded_model = pickle.load(open(filename, 'rb'))\n",
        "# result = loaded_model.score(X2_test, Y2_test)\n",
        "# print(result)"
      ]
    },
    {
      "cell_type": "markdown",
      "metadata": {
        "id": "BmcQb0QkG4DW"
      },
      "source": [
        "### Classification Report\n",
        "Print some information about the trained model such as training time, ... "
      ]
    },
    {
      "cell_type": "code",
      "execution_count": null,
      "metadata": {
        "colab": {
          "base_uri": "https://localhost:8080/"
        },
        "id": "Se6FwO4kG4DX",
        "outputId": "581b74f6-ea46-4e45-c8d5-4f4128545d25"
      },
      "outputs": [
        {
          "output_type": "stream",
          "name": "stdout",
          "text": [
            "-----------------\n",
            "\n",
            "classification report: \n",
            "\n",
            "              precision    recall  f1-score   support\n",
            "\n",
            "           0       0.00      0.00      0.00      8852\n",
            "           1       0.56      1.00      0.72     11148\n",
            "\n",
            "    accuracy                           0.56     20000\n",
            "   macro avg       0.28      0.50      0.36     20000\n",
            "weighted avg       0.31      0.56      0.40     20000\n",
            "\n"
          ]
        },
        {
          "output_type": "stream",
          "name": "stderr",
          "text": [
            "/usr/local/lib/python3.7/dist-packages/sklearn/metrics/_classification.py:1318: UndefinedMetricWarning: Precision and F-score are ill-defined and being set to 0.0 in labels with no predicted samples. Use `zero_division` parameter to control this behavior.\n",
            "  _warn_prf(average, modifier, msg_start, len(result))\n",
            "/usr/local/lib/python3.7/dist-packages/sklearn/metrics/_classification.py:1318: UndefinedMetricWarning: Precision and F-score are ill-defined and being set to 0.0 in labels with no predicted samples. Use `zero_division` parameter to control this behavior.\n",
            "  _warn_prf(average, modifier, msg_start, len(result))\n",
            "/usr/local/lib/python3.7/dist-packages/sklearn/metrics/_classification.py:1318: UndefinedMetricWarning: Precision and F-score are ill-defined and being set to 0.0 in labels with no predicted samples. Use `zero_division` parameter to control this behavior.\n",
            "  _warn_prf(average, modifier, msg_start, len(result))\n"
          ]
        },
        {
          "output_type": "stream",
          "name": "stdout",
          "text": [
            "Training Time was: -12365.784283876419\n",
            "Prediction Time was: -101.73333072662354\n"
          ]
        }
      ],
      "source": [
        "# print(\"Best parameters set found on development set:\")\n",
        "# print(trained_model.best_params_)\n",
        "# print()\n",
        "# # print(sorted(trained_model.cv_results_.keys()))\n",
        "# print(trained_model.best_score_)\n",
        "# print(trained_model.cv_results_.mean_fit)\n",
        "\n",
        "print('-----------------')\n",
        "# print(Y_pred)\n",
        "print('\\nclassification report: \\n')\n",
        "from sklearn.metrics import classification_report\n",
        "print(classification_report(Y2_test, Y2_pred))\n",
        "\n",
        "EM2 = scoring\n",
        "mean_test_scores = trained_model.cv_results_.get('mean_test_score')\n",
        "CVS2 = mean_test_scores[trained_model.best_index_]\n",
        "CPS2 = trained_model.score(X2_test, Y2_test)\n",
        "T2 = runtime_train\n",
        "PT2 = runtime_pred\n",
        "print( \"Training Time was: \" + str(T2))\n",
        "print(\"Prediction Time was: \" + str(PT2))"
      ]
    },
    {
      "cell_type": "markdown",
      "metadata": {
        "id": "YbJKoKm3G4DX"
      },
      "source": [
        "### Confusion Matrix"
      ]
    },
    {
      "cell_type": "code",
      "execution_count": null,
      "metadata": {
        "id": "0THF2qMcG4DX",
        "colab": {
          "base_uri": "https://localhost:8080/",
          "height": 279
        },
        "outputId": "6c591bce-80ca-4302-dafe-56ff99302e3a"
      },
      "outputs": [
        {
          "output_type": "display_data",
          "data": {
            "image/png": "[encoded data removed]",
            "text/plain": [
              "<Figure size 432x288 with 2 Axes>"
            ]
          },
          "metadata": {
            "needs_background": "light"
          }
        }
      ],
      "source": [
        "from sklearn.metrics import ConfusionMatrixDisplay\n",
        "cm = confusion_matrix(Y2_test, Y2_pred, labels=clf.classes_)\n",
        "disp = ConfusionMatrixDisplay(confusion_matrix=cm, display_labels=clf.classes_)\n",
        "disp.plot()\n",
        "plt.show()"
      ]
    },
    {
      "cell_type": "markdown",
      "metadata": {
        "id": "p-srW3NnG4DX"
      },
      "source": [
        "### Learning Curve\n"
      ]
    },
    {
      "cell_type": "code",
      "execution_count": null,
      "metadata": {
        "id": "iXwW5omNG4DX",
        "colab": {
          "base_uri": "https://localhost:8080/",
          "height": 625
        },
        "outputId": "3cdf0302-64f2-4fff-88a4-00e4e3923466"
      },
      "outputs": [
        {
          "output_type": "display_data",
          "data": {
            "image/png": "[encoded data removed]",
            "text/plain": [
              "<Figure size 432x288 with 1 Axes>"
            ]
          },
          "metadata": {
            "needs_background": "light"
          }
        },
        {
          "output_type": "stream",
          "name": "stdout",
          "text": [
            "Training scores:\n",
            "\n",
            "            cv1       cv2       cv3\n",
            "100        NaN  0.726115  0.726115\n",
            "500   0.930481  0.762376  0.762376\n",
            "1000  0.836533  0.737374  0.737374\n",
            "5000  0.766041  0.748122  0.748122\n",
            "6400  0.760580  0.746573  0.746573\n",
            "\n",
            " ----------------------------------------------------------------------\n",
            "\n",
            "Validation scores:\n",
            "\n",
            "            cv1      cv2      cv3\n",
            "100        NaN  0.74151  0.74151\n",
            "500   0.741496  0.74151  0.74151\n",
            "1000  0.741496  0.74151  0.74151\n",
            "5000  0.741496  0.74151  0.74151\n",
            "6400  0.739505  0.74151  0.74151\n"
          ]
        }
      ],
      "source": [
        "ns = [100,500,1000,5000,6400]\n",
        "train_sizes, train_scores, valid_scores = learning_curve(trained_model, X2, Y2, train_sizes=ns, cv=cv, scoring= scoring, n_jobs = -1)\n",
        "\n",
        "train_scores_mean =  train_scores.mean(axis = 1)\n",
        "train_scores_std = np.std(train_scores, axis=1)\n",
        "validation_scores_mean =  valid_scores.mean(axis = 1)\n",
        "validation_scores_std  = valid_scores.std(axis = 1)\n",
        "\n",
        "xlabel = 'Sample Size'\n",
        "ylabel = scoring\n",
        "plt_title = 'Learning Curve'\n",
        "\n",
        "fig = plt.figure()\n",
        "ax = fig.add_subplot(111, xlabel=xlabel, ylabel=ylabel, title=plt_title)\n",
        "ax.plot(train_sizes, train_scores_mean, label = 'Training Score')\n",
        "ax.plot(train_sizes, validation_scores_mean, label = 'Validation Score')\n",
        "\n",
        "plt.fill_between(train_sizes, train_scores_mean - train_scores_std,\n",
        "                 train_scores_mean + train_scores_std, alpha=0.2,\n",
        "                 color=\"darkblue\", lw=2)\n",
        "plt.fill_between(train_sizes, validation_scores_mean - validation_scores_std,\n",
        "                 validation_scores_mean + validation_scores_std, alpha=0.2,\n",
        "                 color=\"darkgreen\", lw=2)\n",
        "\n",
        "plt.legend()\n",
        "# plt.yscale('log')\n",
        "plt.show()\n",
        "\n",
        "print('Training scores:\\n\\n', pd.DataFrame( train_scores, columns=[f'cv{i+1}' for i in range(cv)], index=ns) )\n",
        "print('\\n', '-' * 70) # separator to make the output easy to read\n",
        "print('\\nValidation scores:\\n\\n', pd.DataFrame(valid_scores, columns=[f'cv{i+1}' for i in range(cv)], index=ns) )"
      ]
    },
    {
      "cell_type": "markdown",
      "metadata": {
        "id": "swAQIdwlG4DX"
      },
      "source": [
        "### Validation Curve\n"
      ]
    },
    {
      "cell_type": "code",
      "execution_count": 26,
      "metadata": {
        "id": "Lg9_CmThG4DX",
        "colab": {
          "base_uri": "https://localhost:8080/",
          "height": 384
        },
        "outputId": "77b9caef-bec2-43dd-805f-fea111a676c7"
      },
      "outputs": [
        {
          "output_type": "stream",
          "name": "stderr",
          "text": [
            "[Parallel(n_jobs=-1)]: Using backend LokyBackend with 2 concurrent workers.\n",
            "/usr/local/lib/python3.7/dist-packages/joblib/externals/loky/process_executor.py:705: UserWarning: A worker stopped while some jobs were given to the executor. This can be caused by a too short worker timeout or by a memory leak.\n",
            "  \"timeout or by a memory leak.\", UserWarning\n",
            "[Parallel(n_jobs=-1)]: Done   6 out of   6 | elapsed: 56.6min finished\n"
          ]
        },
        {
          "output_type": "display_data",
          "data": {
            "image/png": "[encoded data removed]",
            "text/plain": [
              "<Figure size 432x288 with 1 Axes>"
            ]
          },
          "metadata": {
            "needs_background": "light"
          }
        }
      ],
      "source": [
        "c_list = param_grid.get('C')\n",
        "train_scores, valid_scores = validation_curve(SVC(), X2_train, Y2_train, \n",
        "                                              param_name=\"gamma\",\n",
        "                                              param_range=c_list , \n",
        "                                              cv=cv, \n",
        "                                              scoring = scoring,\n",
        "                                              verbose=1, \n",
        "                                              n_jobs=-1\n",
        "                                             )\n",
        "train_scores_mean = np.mean(train_scores, axis=1)\n",
        "train_scores_std = np.std(train_scores, axis=1)\n",
        "valid_scores_mean = np.mean(valid_scores, axis=1)\n",
        "valid_scores_std = np.std(valid_scores, axis=1)\n",
        "\n",
        "xlabel = 'gamma'\n",
        "ylabel = scoring\n",
        "plt_title = 'Validation Curve'\n",
        "\n",
        "fig = plt.figure()\n",
        "ax = fig.add_subplot(111, xlabel=xlabel, ylabel=ylabel, title=plt_title)\n",
        "plt.plot(c_list, train_scores_mean, label=\"Training score\",\n",
        "             color=\"darkorange\", lw=2)\n",
        "plt.fill_between(c_list, train_scores_mean - train_scores_std,\n",
        "                 train_scores_mean + train_scores_std, alpha=0.2,\n",
        "                 color=\"darkorange\", lw=2)\n",
        "plt.plot(c_list, valid_scores_mean, label=\"Validation score\",\n",
        "             color=\"navy\", lw=2)\n",
        "plt.fill_between(c_list, valid_scores_mean - valid_scores_std,\n",
        "                 valid_scores_mean + valid_scores_std, alpha=0.2,\n",
        "                 color=\"navy\", lw=2)\n",
        "plt.legend(loc=\"best\")\n",
        "plt.show()\n",
        "\n",
        "# print('Training scores:\\n\\n', pd.DataFrame( train_scores, columns=[f'cv{i+1}' for i in range(cv)], index=ns) )\n",
        "# print('\\n', '-' * 70) # separator to make the output easy to read\n",
        "# print('\\nValidation scores:\\n\\n', pd.DataFrame(valid_scores, columns=[f'cv{i+1}' for i in range(cv)], index=ns) )"
      ]
    },
    {
      "cell_type": "markdown",
      "metadata": {
        "id": "2_QYvVbZvixn"
      },
      "source": [
        "# Comparing Models"
      ]
    },
    {
      "cell_type": "markdown",
      "metadata": {
        "id": "Ybi6kJ3Uvixo"
      },
      "source": [
        "A table is created to compare the five recently-traind models above. It includes evaluation metric(s), training time and prediction time of each models. Also, we sorted models based on their performance from different aspects. "
      ]
    },
    {
      "cell_type": "code",
      "execution_count": null,
      "metadata": {
        "id": "HEhpPmF_vixo"
      },
      "outputs": [],
      "source": [
        "table = pd.DataFrame({'Name':['Neutrino','CDM'],\n",
        "                        'Evaluation Metric(s)': [EM1, EM2],\n",
        "                        'Corresponding Validation Score': [CVS1, CVS2],\n",
        "                        'Corresponding Prediction Score':  [CPS1, CPS2],\n",
        "                        'Training Time': [T1, T2],\n",
        "                        'Prediction Time': [PT1, PT2]\n",
        "})\n",
        "\n",
        "print('Sort models based on their validation scores: \\n' + str(table.sort_values(by=['Corresponding Validation Score'], ascending= False).loc[:, ['Name', 'Corresponding Validation Score']]))\n",
        "print('\\nSort models based on their prediction scores: \\n' + str(table.sort_values(by=['Corresponding Prediction Score'], ascending= False).loc[:, ['Name', 'Corresponding Prediction Score']]))\n",
        "print('\\nSort models based on their training time: \\n' + str(table.sort_values(by=['Training Time'], ascending= True).loc[:, ['Name', 'Training Time']]))\n",
        "print('\\nSort models based on their prediction time: \\n' + str(table.sort_values(by=['Prediction Time'], ascending= True).loc[:, ['Name', 'Prediction Time']]))\n"
      ]
    }
  ],
  "metadata": {
    "colab": {
      "collapsed_sections": [],
      "name": "SVM_data2.ipynb",
      "provenance": [],
      "include_colab_link": true
    },
    "interpreter": {
      "hash": "fe5d99aa55929fe810a91df1bb66991ee2efa56184cda4e0a18aeeaadde96492"
    },
    "kernelspec": {
      "display_name": "Python 3.10.0 64-bit",
      "language": "python",
      "name": "python3"
    },
    "language_info": {
      "codemirror_mode": {
        "name": "ipython",
        "version": 3
      },
      "file_extension": ".py",
      "mimetype": "text/x-python",
      "name": "python",
      "nbconvert_exporter": "python",
      "pygments_lexer": "ipython3",
      "version": "3.10.0"
    }
  },
  "nbformat": 4,
  "nbformat_minor": 0
}