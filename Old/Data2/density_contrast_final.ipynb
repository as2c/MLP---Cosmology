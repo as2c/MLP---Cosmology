{
  "nbformat": 4,
  "nbformat_minor": 0,
  "metadata": {
    "colab": {
      "name": "density_contrast_final.ipynb",
      "provenance": [],
      "collapsed_sections": [],
      "mount_file_id": "1YQ0VkSKGr2YV3pRgr4a5Xwhs7aEwlwAs",
      "authorship_tag": "ABX9TyNw2OcDOeBweOjoSfOhDGRl",
      "include_colab_link": true
    },
    "kernelspec": {
      "name": "python3",
      "display_name": "Python 3"
    },
    "language_info": {
      "name": "python"
    }
  },
  "cells": [
    {
      "cell_type": "markdown",
      "metadata": {
        "id": "view-in-github",
        "colab_type": "text"
      },
      "source": [
        "<a href=\"https://colab.research.google.com/github/as2c/MLP---Cosmology/blob/main/Data2/density_contrast_final.ipynb\" target=\"_parent\"><img src=\"https://colab.research.google.com/assets/colab-badge.svg\" alt=\"Open In Colab\"/></a>"
      ]
    },
    {
      "cell_type": "code",
      "metadata": {
        "colab": {
          "base_uri": "https://localhost:8080/"
        },
        "id": "7cA0UEjOPWi-",
        "outputId": "7d1a6dbe-5625-44cd-b79f-6c915e6964c4"
      },
      "source": [
        "import pandas as pd\n",
        "import numpy as np\n",
        "!git clone https://github.com/jveitchmichaelis/pygadgetreader"
      ],
      "execution_count": 2,
      "outputs": [
        {
          "output_type": "stream",
          "name": "stdout",
          "text": [
            "Cloning into 'pygadgetreader'...\n",
            "remote: Enumerating objects: 236, done.\u001b[K\n",
            "remote: Counting objects: 100% (236/236), done.\u001b[K\n",
            "remote: Compressing objects: 100% (214/214), done.\u001b[K\n",
            "remote: Total 236 (delta 6), reused 236 (delta 6), pack-reused 0\u001b[K\n",
            "Receiving objects: 100% (236/236), 749.63 KiB | 28.83 MiB/s, done.\n",
            "Resolving deltas: 100% (6/6), done.\n"
          ]
        }
      ]
    },
    {
      "cell_type": "code",
      "metadata": {
        "colab": {
          "base_uri": "https://localhost:8080/"
        },
        "id": "CyAvRzOqMDbH",
        "outputId": "2baffb4b-c896-4675-9a04-12b306234a13"
      },
      "source": [
        "from google.colab import drive\n",
        "drive.mount('/content/drive')"
      ],
      "execution_count": 3,
      "outputs": [
        {
          "output_type": "stream",
          "name": "stdout",
          "text": [
            "Drive already mounted at /content/drive; to attempt to forcibly remount, call drive.mount(\"/content/drive\", force_remount=True).\n"
          ]
        }
      ]
    },
    {
      "cell_type": "code",
      "metadata": {
        "id": "6mP2uUIrwbCP",
        "colab": {
          "base_uri": "https://localhost:8080/"
        },
        "outputId": "13a3bb49-7b57-4153-8904-94bb9ebb989f"
      },
      "source": [
        "%cd /content/pygadgetreader\n",
        "!python setup.py build\n",
        "!python setup.py install"
      ],
      "execution_count": 4,
      "outputs": [
        {
          "output_type": "stream",
          "name": "stdout",
          "text": [
            "/content/pygadgetreader\n",
            "running build\n",
            "running build_py\n",
            "running install\n",
            "running bdist_egg\n",
            "running egg_info\n",
            "writing pyGadgetReader.egg-info/PKG-INFO\n",
            "writing dependency_links to pyGadgetReader.egg-info/dependency_links.txt\n",
            "writing requirements to pyGadgetReader.egg-info/requires.txt\n",
            "writing top-level names to pyGadgetReader.egg-info/top_level.txt\n",
            "adding license file 'LICENSE'\n",
            "writing manifest file 'pyGadgetReader.egg-info/SOURCES.txt'\n",
            "installing library code to build/bdist.linux-x86_64/egg\n",
            "running install_lib\n",
            "running build_py\n",
            "creating build/bdist.linux-x86_64\n",
            "creating build/bdist.linux-x86_64/egg\n",
            "creating build/bdist.linux-x86_64/egg/readgadget\n",
            "copying build/lib/readgadget/readrockstar.py -> build/bdist.linux-x86_64/egg/readgadget\n",
            "creating build/bdist.linux-x86_64/egg/readgadget/modules\n",
            "copying build/lib/readgadget/modules/common.py -> build/bdist.linux-x86_64/egg/readgadget/modules\n",
            "copying build/lib/readgadget/modules/hdf5.py -> build/bdist.linux-x86_64/egg/readgadget/modules\n",
            "copying build/lib/readgadget/modules/gadget1.py -> build/bdist.linux-x86_64/egg/readgadget/modules\n",
            "copying build/lib/readgadget/modules/tipsy.py -> build/bdist.linux-x86_64/egg/readgadget/modules\n",
            "copying build/lib/readgadget/modules/__init__.py -> build/bdist.linux-x86_64/egg/readgadget/modules\n",
            "copying build/lib/readgadget/modules/rs_structs.py -> build/bdist.linux-x86_64/egg/readgadget/modules\n",
            "copying build/lib/readgadget/modules/gadget_blockordering.py -> build/bdist.linux-x86_64/egg/readgadget/modules\n",
            "copying build/lib/readgadget/modules/names.py -> build/bdist.linux-x86_64/egg/readgadget/modules\n",
            "copying build/lib/readgadget/modules/gadget2.py -> build/bdist.linux-x86_64/egg/readgadget/modules\n",
            "copying build/lib/readgadget/modules/header.py -> build/bdist.linux-x86_64/egg/readgadget/modules\n",
            "copying build/lib/readgadget/__init__.py -> build/bdist.linux-x86_64/egg/readgadget\n",
            "copying build/lib/readgadget/readpstar.py -> build/bdist.linux-x86_64/egg/readgadget\n",
            "copying build/lib/readgadget/readfofspecial.py -> build/bdist.linux-x86_64/egg/readgadget\n",
            "copying build/lib/readgadget/readgadget.py -> build/bdist.linux-x86_64/egg/readgadget\n",
            "creating build/bdist.linux-x86_64/egg/pygadgetreader\n",
            "copying build/lib/pygadgetreader/__init__.py -> build/bdist.linux-x86_64/egg/pygadgetreader\n",
            "byte-compiling build/bdist.linux-x86_64/egg/readgadget/readrockstar.py to readrockstar.cpython-37.pyc\n",
            "byte-compiling build/bdist.linux-x86_64/egg/readgadget/modules/common.py to common.cpython-37.pyc\n",
            "byte-compiling build/bdist.linux-x86_64/egg/readgadget/modules/hdf5.py to hdf5.cpython-37.pyc\n",
            "byte-compiling build/bdist.linux-x86_64/egg/readgadget/modules/gadget1.py to gadget1.cpython-37.pyc\n",
            "byte-compiling build/bdist.linux-x86_64/egg/readgadget/modules/tipsy.py to tipsy.cpython-37.pyc\n",
            "byte-compiling build/bdist.linux-x86_64/egg/readgadget/modules/__init__.py to __init__.cpython-37.pyc\n",
            "byte-compiling build/bdist.linux-x86_64/egg/readgadget/modules/rs_structs.py to rs_structs.cpython-37.pyc\n",
            "byte-compiling build/bdist.linux-x86_64/egg/readgadget/modules/gadget_blockordering.py to gadget_blockordering.cpython-37.pyc\n",
            "byte-compiling build/bdist.linux-x86_64/egg/readgadget/modules/names.py to names.cpython-37.pyc\n",
            "byte-compiling build/bdist.linux-x86_64/egg/readgadget/modules/gadget2.py to gadget2.cpython-37.pyc\n",
            "byte-compiling build/bdist.linux-x86_64/egg/readgadget/modules/header.py to header.cpython-37.pyc\n",
            "byte-compiling build/bdist.linux-x86_64/egg/readgadget/__init__.py to __init__.cpython-37.pyc\n",
            "byte-compiling build/bdist.linux-x86_64/egg/readgadget/readpstar.py to readpstar.cpython-37.pyc\n",
            "byte-compiling build/bdist.linux-x86_64/egg/readgadget/readfofspecial.py to readfofspecial.cpython-37.pyc\n",
            "byte-compiling build/bdist.linux-x86_64/egg/readgadget/readgadget.py to readgadget.cpython-37.pyc\n",
            "byte-compiling build/bdist.linux-x86_64/egg/pygadgetreader/__init__.py to __init__.cpython-37.pyc\n",
            "creating build/bdist.linux-x86_64/egg/EGG-INFO\n",
            "copying pyGadgetReader.egg-info/PKG-INFO -> build/bdist.linux-x86_64/egg/EGG-INFO\n",
            "copying pyGadgetReader.egg-info/SOURCES.txt -> build/bdist.linux-x86_64/egg/EGG-INFO\n",
            "copying pyGadgetReader.egg-info/dependency_links.txt -> build/bdist.linux-x86_64/egg/EGG-INFO\n",
            "copying pyGadgetReader.egg-info/requires.txt -> build/bdist.linux-x86_64/egg/EGG-INFO\n",
            "copying pyGadgetReader.egg-info/top_level.txt -> build/bdist.linux-x86_64/egg/EGG-INFO\n",
            "zip_safe flag not set; analyzing archive contents...\n",
            "creating 'dist/pyGadgetReader-2.6-py3.7.egg' and adding 'build/bdist.linux-x86_64/egg' to it\n",
            "removing 'build/bdist.linux-x86_64/egg' (and everything under it)\n",
            "Processing pyGadgetReader-2.6-py3.7.egg\n",
            "Copying pyGadgetReader-2.6-py3.7.egg to /usr/local/lib/python3.7/dist-packages\n",
            "Adding pyGadgetReader 2.6 to easy-install.pth file\n",
            "\n",
            "Installed /usr/local/lib/python3.7/dist-packages/pyGadgetReader-2.6-py3.7.egg\n",
            "Processing dependencies for pyGadgetReader==2.6\n",
            "Searching for numpy==1.19.5\n",
            "Best match: numpy 1.19.5\n",
            "Adding numpy 1.19.5 to easy-install.pth file\n",
            "Installing f2py script to /usr/local/bin\n",
            "Installing f2py3 script to /usr/local/bin\n",
            "Installing f2py3.7 script to /usr/local/bin\n",
            "\n",
            "Using /usr/local/lib/python3.7/dist-packages\n",
            "Searching for h5py==3.1.0\n",
            "Best match: h5py 3.1.0\n",
            "Adding h5py 3.1.0 to easy-install.pth file\n",
            "\n",
            "Using /usr/local/lib/python3.7/dist-packages\n",
            "Searching for cached-property==1.5.2\n",
            "Best match: cached-property 1.5.2\n",
            "Adding cached-property 1.5.2 to easy-install.pth file\n",
            "\n",
            "Using /usr/local/lib/python3.7/dist-packages\n",
            "Finished processing dependencies for pyGadgetReader==2.6\n"
          ]
        }
      ]
    },
    {
      "cell_type": "code",
      "metadata": {
        "id": "XnK3AaPmxZ_s"
      },
      "source": [
        "from pygadgetreader import *"
      ],
      "execution_count": 5,
      "outputs": []
    },
    {
      "cell_type": "code",
      "metadata": {
        "id": "8UPWYJGWxgSD",
        "colab": {
          "base_uri": "https://localhost:8080/"
        },
        "outputId": "e2daf345-1269-480e-84da-f18b189ef682"
      },
      "source": [
        "# vel = readsnap('/content/drive/MyDrive/ML/n1lcdmML_snap000_cdm','vel','dm')\n",
        "# vx = vel[:,0].tolist()\n",
        "# vy = vel[:,1].tolist()\n",
        "# vz = vel[:,2].tolist()\n",
        "# mass = readsnap('/content/drive/MyDrive/ML/n1lcdmML_snap000_cdm','mass','dm').tolist()\n",
        "# particle_id = readsnap('/content/drive/MyDrive/ML/n1lcdmML_snap000_cdm','pid','dm').tolist()\n",
        "# position = readsnap('/content/drive/MyDrive/ML/n1lcdmML_snap000_cdm','pos','dm')\n",
        "# x = position[:,0].tolist()\n",
        "# y = position[:,1].tolist()\n",
        "# z = position[:,2].tolist()\n",
        "# data = {'particle_id': particle_id,\n",
        "#         'x': x,\n",
        "#         'y': y,\n",
        "#         'z': z,\n",
        "#         'vx': vx,\n",
        "#         'vy': vy,\n",
        "#         'vz': vz,\n",
        "#         'mass': mass}\n",
        "# df = pd.DataFrame(data)from pygadgetreader import *\n",
        "\n",
        "# seed = int(input(\"Enter the seed:\"))\n",
        "halopath = '/content/drive/MyDrive/ML/Project/halos_0'\n",
        "initial_snap_path = '/content/drive/MyDrive/ML/n1lcdmML_snap000_cdm'\n",
        "\n",
        "#Reading the halo particles \n",
        "\n",
        "particles = readrockstar(halopath,'particles')\n",
        "halo_particles = pd.DataFrame()\n",
        "halo_particles['id'] = particles[:,0]\n",
        "halo_particles['haloID'] = particles[:,1]\n",
        "\n",
        "#Reading the halo masses\n",
        "halo_num = pd.DataFrame() \n",
        "halos = readrockstar(halopath, 'halos') \n",
        "halo_num['haloID'] = halos['id']\n",
        "halo_num['np'] = halos['num_p']\n",
        "\n",
        "#a dataframe containing the subhalo id and sub halo mass for each particle\n",
        "halo_particles = pd.merge(halo_particles, halo_num , right_on = 'haloID', left_on = 'haloID', how = 'outer')\n",
        "\n",
        "print(halo_particles.describe())"
      ],
      "execution_count": 6,
      "outputs": [
        {
          "output_type": "stream",
          "name": "stdout",
          "text": [
            "                 id        haloID            np\n",
            "count  2.214619e+06  2.214619e+06  2.214619e+06\n",
            "mean   8.946561e+06  6.562720e+02  4.008056e+03\n",
            "std    4.967033e+06  3.655899e+02  5.164701e+03\n",
            "min    1.000000e+01  0.000000e+00  2.020000e+02\n",
            "25%    4.549009e+06  3.370000e+02  1.218000e+03\n",
            "50%    9.372965e+06  6.610000e+02  2.190000e+03\n",
            "75%    1.337186e+07  9.760000e+02  4.205000e+03\n",
            "max    1.677717e+07  1.272000e+03  3.125200e+04\n"
          ]
        }
      ]
    },
    {
      "cell_type": "code",
      "metadata": {
        "colab": {
          "base_uri": "https://localhost:8080/"
        },
        "id": "eevV-VpWdBkp",
        "outputId": "acb31969-6156-4799-b9d5-6e891da30d71"
      },
      "source": [
        "particle_data = pd.DataFrame()\n",
        "\n",
        "particle_data['id'] = np.array(readsnap(initial_snap_path, 'pid', 'dm'))\n",
        "\n",
        "particle_data['x'] = np.array(readsnap(initial_snap_path, 'pos', 'dm'))[:,0]\n",
        "particle_data['y'] = np.array(readsnap(initial_snap_path, 'pos', 'dm'))[:,1]\n",
        "particle_data['z'] = np.array(readsnap(initial_snap_path, 'pos', 'dm'))[:,2]\n",
        "\n",
        "particle_data['vx'] = np.array(readsnap(initial_snap_path, 'vel', 'dm'))[:,0]\n",
        "particle_data['vy'] = np.array(readsnap(initial_snap_path, 'vel', 'dm'))[:,1]\n",
        "particle_data['vz'] = np.array(readsnap(initial_snap_path, 'vel', 'dm'))[:,2]"
      ],
      "execution_count": 7,
      "outputs": [
        {
          "output_type": "stream",
          "name": "stdout",
          "text": [
            "Returning DM    Particle IDs\n",
            "Returning DM    Positions\n",
            "Returning DM    Positions\n",
            "Returning DM    Positions\n",
            "Returning DM    Velocities\n",
            "Returning DM    Velocities\n",
            "Returning DM    Velocities\n"
          ]
        }
      ]
    },
    {
      "cell_type": "code",
      "metadata": {
        "id": "YfRXJTfNdbBx"
      },
      "source": [
        "data = pd.merge(particle_data, halo_particles, left_on = 'id', right_on = 'id', how = 'outer')\n",
        "data['haloID'] = data['haloID'].fillna(0)\n",
        "data['halo_mass'] = data['np'].fillna(0)\n",
        "data = data[['id','x','y','z','vx','vy','vz','haloID','halo_mass']]"
      ],
      "execution_count": 8,
      "outputs": []
    },
    {
      "cell_type": "code",
      "source": [
        "data"
      ],
      "metadata": {
        "colab": {
          "base_uri": "https://localhost:8080/",
          "height": 419
        },
        "id": "fg2t5qTXjdhq",
        "outputId": "9a36e7d8-640b-441d-878c-f13abbe1c4df"
      },
      "execution_count": 9,
      "outputs": [
        {
          "output_type": "execute_result",
          "data": {
            "text/html": [
              "<div>\n",
              "<style scoped>\n",
              "    .dataframe tbody tr th:only-of-type {\n",
              "        vertical-align: middle;\n",
              "    }\n",
              "\n",
              "    .dataframe tbody tr th {\n",
              "        vertical-align: top;\n",
              "    }\n",
              "\n",
              "    .dataframe thead th {\n",
              "        text-align: right;\n",
              "    }\n",
              "</style>\n",
              "<table border=\"1\" class=\"dataframe\">\n",
              "  <thead>\n",
              "    <tr style=\"text-align: right;\">\n",
              "      <th></th>\n",
              "      <th>id</th>\n",
              "      <th>x</th>\n",
              "      <th>y</th>\n",
              "      <th>z</th>\n",
              "      <th>vx</th>\n",
              "      <th>vy</th>\n",
              "      <th>vz</th>\n",
              "      <th>haloID</th>\n",
              "      <th>halo_mass</th>\n",
              "    </tr>\n",
              "  </thead>\n",
              "  <tbody>\n",
              "    <tr>\n",
              "      <th>0</th>\n",
              "      <td>0</td>\n",
              "      <td>192.691193</td>\n",
              "      <td>231.858017</td>\n",
              "      <td>225.984268</td>\n",
              "      <td>-659.554321</td>\n",
              "      <td>-419.040802</td>\n",
              "      <td>-489.896637</td>\n",
              "      <td>0.0</td>\n",
              "      <td>0.0</td>\n",
              "    </tr>\n",
              "    <tr>\n",
              "      <th>1</th>\n",
              "      <td>7</td>\n",
              "      <td>809.101929</td>\n",
              "      <td>210.431351</td>\n",
              "      <td>214.217163</td>\n",
              "      <td>-702.608582</td>\n",
              "      <td>-530.673584</td>\n",
              "      <td>-534.257935</td>\n",
              "      <td>0.0</td>\n",
              "      <td>0.0</td>\n",
              "    </tr>\n",
              "    <tr>\n",
              "      <th>2</th>\n",
              "      <td>56</td>\n",
              "      <td>1437.270874</td>\n",
              "      <td>198.266098</td>\n",
              "      <td>201.348267</td>\n",
              "      <td>-689.156860</td>\n",
              "      <td>-608.542847</td>\n",
              "      <td>-615.787476</td>\n",
              "      <td>0.0</td>\n",
              "      <td>0.0</td>\n",
              "    </tr>\n",
              "    <tr>\n",
              "      <th>3</th>\n",
              "      <td>63</td>\n",
              "      <td>2043.859375</td>\n",
              "      <td>196.952347</td>\n",
              "      <td>187.470413</td>\n",
              "      <td>-797.107727</td>\n",
              "      <td>-646.467102</td>\n",
              "      <td>-686.565735</td>\n",
              "      <td>0.0</td>\n",
              "      <td>0.0</td>\n",
              "    </tr>\n",
              "    <tr>\n",
              "      <th>4</th>\n",
              "      <td>64</td>\n",
              "      <td>2664.605225</td>\n",
              "      <td>204.039200</td>\n",
              "      <td>170.532455</td>\n",
              "      <td>-818.485474</td>\n",
              "      <td>-626.312866</td>\n",
              "      <td>-768.481689</td>\n",
              "      <td>0.0</td>\n",
              "      <td>0.0</td>\n",
              "    </tr>\n",
              "    <tr>\n",
              "      <th>...</th>\n",
              "      <td>...</td>\n",
              "      <td>...</td>\n",
              "      <td>...</td>\n",
              "      <td>...</td>\n",
              "      <td>...</td>\n",
              "      <td>...</td>\n",
              "      <td>...</td>\n",
              "      <td>...</td>\n",
              "      <td>...</td>\n",
              "    </tr>\n",
              "    <tr>\n",
              "      <th>16777211</th>\n",
              "      <td>16777133</td>\n",
              "      <td>157062.375000</td>\n",
              "      <td>159616.125000</td>\n",
              "      <td>159625.109375</td>\n",
              "      <td>-701.834167</td>\n",
              "      <td>-397.481934</td>\n",
              "      <td>-357.832153</td>\n",
              "      <td>0.0</td>\n",
              "      <td>0.0</td>\n",
              "    </tr>\n",
              "    <tr>\n",
              "      <th>16777212</th>\n",
              "      <td>16777170</td>\n",
              "      <td>157688.234375</td>\n",
              "      <td>159621.156250</td>\n",
              "      <td>159610.312500</td>\n",
              "      <td>-678.720825</td>\n",
              "      <td>-381.776428</td>\n",
              "      <td>-408.717957</td>\n",
              "      <td>0.0</td>\n",
              "      <td>0.0</td>\n",
              "    </tr>\n",
              "    <tr>\n",
              "      <th>16777213</th>\n",
              "      <td>16777173</td>\n",
              "      <td>158317.078125</td>\n",
              "      <td>159623.343750</td>\n",
              "      <td>159602.531250</td>\n",
              "      <td>-681.724609</td>\n",
              "      <td>-368.299011</td>\n",
              "      <td>-465.415466</td>\n",
              "      <td>0.0</td>\n",
              "      <td>0.0</td>\n",
              "    </tr>\n",
              "    <tr>\n",
              "      <th>16777214</th>\n",
              "      <td>16777194</td>\n",
              "      <td>158937.750000</td>\n",
              "      <td>159618.203125</td>\n",
              "      <td>159612.140625</td>\n",
              "      <td>-697.889648</td>\n",
              "      <td>-382.313843</td>\n",
              "      <td>-450.085297</td>\n",
              "      <td>0.0</td>\n",
              "      <td>0.0</td>\n",
              "    </tr>\n",
              "    <tr>\n",
              "      <th>16777215</th>\n",
              "      <td>16777197</td>\n",
              "      <td>159574.640625</td>\n",
              "      <td>159612.421875</td>\n",
              "      <td>159620.000000</td>\n",
              "      <td>-637.320312</td>\n",
              "      <td>-410.518890</td>\n",
              "      <td>-407.712463</td>\n",
              "      <td>0.0</td>\n",
              "      <td>0.0</td>\n",
              "    </tr>\n",
              "  </tbody>\n",
              "</table>\n",
              "<p>16777216 rows × 9 columns</p>\n",
              "</div>"
            ],
            "text/plain": [
              "                id              x              y  ...          vz  haloID  halo_mass\n",
              "0                0     192.691193     231.858017  ... -489.896637     0.0        0.0\n",
              "1                7     809.101929     210.431351  ... -534.257935     0.0        0.0\n",
              "2               56    1437.270874     198.266098  ... -615.787476     0.0        0.0\n",
              "3               63    2043.859375     196.952347  ... -686.565735     0.0        0.0\n",
              "4               64    2664.605225     204.039200  ... -768.481689     0.0        0.0\n",
              "...            ...            ...            ...  ...         ...     ...        ...\n",
              "16777211  16777133  157062.375000  159616.125000  ... -357.832153     0.0        0.0\n",
              "16777212  16777170  157688.234375  159621.156250  ... -408.717957     0.0        0.0\n",
              "16777213  16777173  158317.078125  159623.343750  ... -465.415466     0.0        0.0\n",
              "16777214  16777194  158937.750000  159618.203125  ... -450.085297     0.0        0.0\n",
              "16777215  16777197  159574.640625  159612.421875  ... -407.712463     0.0        0.0\n",
              "\n",
              "[16777216 rows x 9 columns]"
            ]
          },
          "metadata": {},
          "execution_count": 9
        }
      ]
    },
    {
      "cell_type": "code",
      "source": [
        "pd.set_option('display.float_format', '{:e}'.format)"
      ],
      "metadata": {
        "id": "blLO67E_h0rD"
      },
      "execution_count": 10,
      "outputs": []
    },
    {
      "cell_type": "code",
      "metadata": {
        "id": "Gfu82RBGd5dA"
      },
      "source": [
        "#converting the postion from kpc to Mpc\n",
        "data['x'] = data['x']/1000\n",
        "data['y'] = data['y']/1000\n",
        "data['z'] = data['z']/1000\n",
        "data = data.astype({'haloID':'int64'})\n",
        "data = data.sort_values(by = 'x')"
      ],
      "execution_count": 11,
      "outputs": []
    },
    {
      "cell_type": "code",
      "source": [
        "data"
      ],
      "metadata": {
        "colab": {
          "base_uri": "https://localhost:8080/",
          "height": 419
        },
        "id": "eByz14t0jUbr",
        "outputId": "9eccd2a0-6485-402c-ae6d-85dfd3eeb476"
      },
      "execution_count": 12,
      "outputs": [
        {
          "output_type": "execute_result",
          "data": {
            "text/html": [
              "<div>\n",
              "<style scoped>\n",
              "    .dataframe tbody tr th:only-of-type {\n",
              "        vertical-align: middle;\n",
              "    }\n",
              "\n",
              "    .dataframe tbody tr th {\n",
              "        vertical-align: top;\n",
              "    }\n",
              "\n",
              "    .dataframe thead th {\n",
              "        text-align: right;\n",
              "    }\n",
              "</style>\n",
              "<table border=\"1\" class=\"dataframe\">\n",
              "  <thead>\n",
              "    <tr style=\"text-align: right;\">\n",
              "      <th></th>\n",
              "      <th>id</th>\n",
              "      <th>x</th>\n",
              "      <th>y</th>\n",
              "      <th>z</th>\n",
              "      <th>vx</th>\n",
              "      <th>vy</th>\n",
              "      <th>vz</th>\n",
              "      <th>haloID</th>\n",
              "      <th>halo_mass</th>\n",
              "    </tr>\n",
              "  </thead>\n",
              "  <tbody>\n",
              "    <tr>\n",
              "      <th>2573056</th>\n",
              "      <td>3702803</td>\n",
              "      <td>1.043876e-01</td>\n",
              "      <td>2.210869e+01</td>\n",
              "      <td>3.653300e+01</td>\n",
              "      <td>-1.147800e+03</td>\n",
              "      <td>-4.212986e+02</td>\n",
              "      <td>-1.593734e+02</td>\n",
              "      <td>0</td>\n",
              "      <td>0.000000e+00</td>\n",
              "    </tr>\n",
              "    <tr>\n",
              "      <th>2630144</th>\n",
              "      <td>4227097</td>\n",
              "      <td>1.063551e-01</td>\n",
              "      <td>2.149263e+01</td>\n",
              "      <td>4.091941e+01</td>\n",
              "      <td>-1.127608e+03</td>\n",
              "      <td>-4.015528e+02</td>\n",
              "      <td>-1.114685e+02</td>\n",
              "      <td>0</td>\n",
              "      <td>0.000000e+00</td>\n",
              "    </tr>\n",
              "    <tr>\n",
              "      <th>11749888</th>\n",
              "      <td>10133520</td>\n",
              "      <td>1.074259e-01</td>\n",
              "      <td>1.065825e+02</td>\n",
              "      <td>9.652391e+01</td>\n",
              "      <td>-1.146398e+03</td>\n",
              "      <td>1.358670e+02</td>\n",
              "      <td>-2.276244e+02</td>\n",
              "      <td>0</td>\n",
              "      <td>0.000000e+00</td>\n",
              "    </tr>\n",
              "    <tr>\n",
              "      <th>11750144</th>\n",
              "      <td>10133523</td>\n",
              "      <td>1.084110e-01</td>\n",
              "      <td>1.071977e+02</td>\n",
              "      <td>9.652399e+01</td>\n",
              "      <td>-1.141314e+03</td>\n",
              "      <td>4.801611e+01</td>\n",
              "      <td>-2.313971e+02</td>\n",
              "      <td>0</td>\n",
              "      <td>0.000000e+00</td>\n",
              "    </tr>\n",
              "    <tr>\n",
              "      <th>2654464</th>\n",
              "      <td>4489219</td>\n",
              "      <td>1.084628e-01</td>\n",
              "      <td>2.084463e+01</td>\n",
              "      <td>4.277568e+01</td>\n",
              "      <td>-1.133097e+03</td>\n",
              "      <td>-5.158618e+02</td>\n",
              "      <td>-2.124474e+02</td>\n",
              "      <td>0</td>\n",
              "      <td>0.000000e+00</td>\n",
              "    </tr>\n",
              "    <tr>\n",
              "      <th>...</th>\n",
              "      <td>...</td>\n",
              "      <td>...</td>\n",
              "      <td>...</td>\n",
              "      <td>...</td>\n",
              "      <td>...</td>\n",
              "      <td>...</td>\n",
              "      <td>...</td>\n",
              "      <td>...</td>\n",
              "      <td>...</td>\n",
              "    </tr>\n",
              "    <tr>\n",
              "      <th>10339839</th>\n",
              "      <td>15605748</td>\n",
              "      <td>1.598403e+02</td>\n",
              "      <td>8.340266e+01</td>\n",
              "      <td>1.489850e+02</td>\n",
              "      <td>8.447092e+02</td>\n",
              "      <td>-1.752089e+02</td>\n",
              "      <td>-4.431822e+02</td>\n",
              "      <td>915</td>\n",
              "      <td>5.946000e+03</td>\n",
              "    </tr>\n",
              "    <tr>\n",
              "      <th>10348031</th>\n",
              "      <td>15605749</td>\n",
              "      <td>1.598430e+02</td>\n",
              "      <td>8.341740e+01</td>\n",
              "      <td>1.496117e+02</td>\n",
              "      <td>8.598524e+02</td>\n",
              "      <td>-9.485448e+01</td>\n",
              "      <td>-4.641362e+02</td>\n",
              "      <td>915</td>\n",
              "      <td>5.946000e+03</td>\n",
              "    </tr>\n",
              "    <tr>\n",
              "      <th>10340351</th>\n",
              "      <td>15605740</td>\n",
              "      <td>1.598443e+02</td>\n",
              "      <td>8.463966e+01</td>\n",
              "      <td>1.490094e+02</td>\n",
              "      <td>8.691870e+02</td>\n",
              "      <td>-2.896236e+02</td>\n",
              "      <td>-3.002645e+02</td>\n",
              "      <td>915</td>\n",
              "      <td>5.946000e+03</td>\n",
              "    </tr>\n",
              "    <tr>\n",
              "      <th>10348287</th>\n",
              "      <td>15605742</td>\n",
              "      <td>1.598458e+02</td>\n",
              "      <td>8.405312e+01</td>\n",
              "      <td>1.496214e+02</td>\n",
              "      <td>8.852476e+02</td>\n",
              "      <td>-6.958143e+01</td>\n",
              "      <td>-3.914064e+02</td>\n",
              "      <td>916</td>\n",
              "      <td>7.980000e+03</td>\n",
              "    </tr>\n",
              "    <tr>\n",
              "      <th>10340095</th>\n",
              "      <td>15605743</td>\n",
              "      <td>1.598468e+02</td>\n",
              "      <td>8.405097e+01</td>\n",
              "      <td>1.489923e+02</td>\n",
              "      <td>8.819972e+02</td>\n",
              "      <td>-1.135994e+02</td>\n",
              "      <td>-3.831090e+02</td>\n",
              "      <td>915</td>\n",
              "      <td>5.946000e+03</td>\n",
              "    </tr>\n",
              "  </tbody>\n",
              "</table>\n",
              "<p>16777216 rows × 9 columns</p>\n",
              "</div>"
            ],
            "text/plain": [
              "                id            x            y  ...            vz  haloID    halo_mass\n",
              "2573056    3702803 1.043876e-01 2.210869e+01  ... -1.593734e+02       0 0.000000e+00\n",
              "2630144    4227097 1.063551e-01 2.149263e+01  ... -1.114685e+02       0 0.000000e+00\n",
              "11749888  10133520 1.074259e-01 1.065825e+02  ... -2.276244e+02       0 0.000000e+00\n",
              "11750144  10133523 1.084110e-01 1.071977e+02  ... -2.313971e+02       0 0.000000e+00\n",
              "2654464    4489219 1.084628e-01 2.084463e+01  ... -2.124474e+02       0 0.000000e+00\n",
              "...            ...          ...          ...  ...           ...     ...          ...\n",
              "10339839  15605748 1.598403e+02 8.340266e+01  ... -4.431822e+02     915 5.946000e+03\n",
              "10348031  15605749 1.598430e+02 8.341740e+01  ... -4.641362e+02     915 5.946000e+03\n",
              "10340351  15605740 1.598443e+02 8.463966e+01  ... -3.002645e+02     915 5.946000e+03\n",
              "10348287  15605742 1.598458e+02 8.405312e+01  ... -3.914064e+02     916 7.980000e+03\n",
              "10340095  15605743 1.598468e+02 8.405097e+01  ... -3.831090e+02     915 5.946000e+03\n",
              "\n",
              "[16777216 rows x 9 columns]"
            ]
          },
          "metadata": {},
          "execution_count": 12
        }
      ]
    },
    {
      "cell_type": "code",
      "metadata": {
        "id": "Jq9o_uEAMY4B"
      },
      "source": [
        "box_size = 159\n",
        "boundary = 20\n",
        "\n",
        "d = data[data.x > boundary]\n",
        "\n",
        "d = d[d.x < box_size - boundary]\n",
        "\n",
        "d = d[d.y > boundary]\n",
        "\n",
        "d = d[d.y < box_size - boundary]\n",
        "\n",
        "d = d[d.z > boundary]\n",
        "\n",
        "d = d[d.z < box_size - boundary]"
      ],
      "execution_count": 13,
      "outputs": []
    },
    {
      "cell_type": "code",
      "metadata": {
        "colab": {
          "base_uri": "https://localhost:8080/"
        },
        "id": "z677wvWLfVjw",
        "outputId": "9056ba52-443b-40a7-bf4a-dcb5ca870042"
      },
      "source": [
        "d.shape"
      ],
      "execution_count": 14,
      "outputs": [
        {
          "output_type": "execute_result",
          "data": {
            "text/plain": [
              "(6873748, 9)"
            ]
          },
          "metadata": {},
          "execution_count": 14
        }
      ]
    },
    {
      "cell_type": "code",
      "metadata": {
        "id": "he0AiJKrvONk"
      },
      "source": [
        "from tqdm import tqdm\n",
        "def box_mass(r_cutoff, data, sample):\n",
        "    m = len(sample)\n",
        "    mass = pd.DataFrame(np.zeros(m),columns=['den_contrast'])\n",
        "    for i in tqdm(range(m)):\n",
        "        wx=sample.iloc[i]['x']\n",
        "        wy=sample.iloc[i]['y']\n",
        "        wz=sample.iloc[i]['z']\n",
        "        ix = np.searchsorted(data[:,1] , wx-r_cutoff)\n",
        "        jx = np.searchsorted(data[:,1] , wx+r_cutoff)\n",
        "\n",
        "        temp = np.where((data[ix:jx,2] < wy+r_cutoff) & (data[ix:jx,2] > wy-r_cutoff) & (data[ix:jx,3] < wz+r_cutoff) & (data[ix:jx,3] > wz-r_cutoff))\n",
        "    \n",
        "        mass.den_contrast[i] = len(temp[0])\n",
        "    return mass"
      ],
      "execution_count": 15,
      "outputs": []
    },
    {
      "cell_type": "code",
      "source": [
        "d.shape"
      ],
      "metadata": {
        "colab": {
          "base_uri": "https://localhost:8080/"
        },
        "id": "Sl9qU1gJivzu",
        "outputId": "5e89272e-0233-42b4-c152-bb304472cbfd"
      },
      "execution_count": 16,
      "outputs": [
        {
          "output_type": "execute_result",
          "data": {
            "text/plain": [
              "(6873748, 9)"
            ]
          },
          "metadata": {},
          "execution_count": 16
        }
      ]
    },
    {
      "cell_type": "code",
      "metadata": {
        "id": "GSTQB_T34Oe4"
      },
      "source": [
        "n = 100\n",
        "\n",
        "sample = d.sample(n, random_state = 42)\n",
        "sample_density = sample[['id', 'haloID']]\n",
        "sample_density.reset_index(drop = True, inplace = True)"
      ],
      "execution_count": 17,
      "outputs": []
    },
    {
      "cell_type": "code",
      "metadata": {
        "colab": {
          "base_uri": "https://localhost:8080/",
          "height": 204
        },
        "id": "eiDXojRngkTE",
        "outputId": "379ae11e-108c-4e31-d421-bb9d392660a1"
      },
      "source": [
        "sample_density.head()"
      ],
      "execution_count": 18,
      "outputs": [
        {
          "output_type": "execute_result",
          "data": {
            "text/html": [
              "<div>\n",
              "<style scoped>\n",
              "    .dataframe tbody tr th:only-of-type {\n",
              "        vertical-align: middle;\n",
              "    }\n",
              "\n",
              "    .dataframe tbody tr th {\n",
              "        vertical-align: top;\n",
              "    }\n",
              "\n",
              "    .dataframe thead th {\n",
              "        text-align: right;\n",
              "    }\n",
              "</style>\n",
              "<table border=\"1\" class=\"dataframe\">\n",
              "  <thead>\n",
              "    <tr style=\"text-align: right;\">\n",
              "      <th></th>\n",
              "      <th>id</th>\n",
              "      <th>haloID</th>\n",
              "    </tr>\n",
              "  </thead>\n",
              "  <tbody>\n",
              "    <tr>\n",
              "      <th>0</th>\n",
              "      <td>12445545</td>\n",
              "      <td>460</td>\n",
              "    </tr>\n",
              "    <tr>\n",
              "      <th>1</th>\n",
              "      <td>9757813</td>\n",
              "      <td>0</td>\n",
              "    </tr>\n",
              "    <tr>\n",
              "      <th>2</th>\n",
              "      <td>4364083</td>\n",
              "      <td>0</td>\n",
              "    </tr>\n",
              "    <tr>\n",
              "      <th>3</th>\n",
              "      <td>9111430</td>\n",
              "      <td>0</td>\n",
              "    </tr>\n",
              "    <tr>\n",
              "      <th>4</th>\n",
              "      <td>2698019</td>\n",
              "      <td>0</td>\n",
              "    </tr>\n",
              "  </tbody>\n",
              "</table>\n",
              "</div>"
            ],
            "text/plain": [
              "         id  haloID\n",
              "0  12445545     460\n",
              "1   9757813       0\n",
              "2   4364083       0\n",
              "3   9111430       0\n",
              "4   2698019       0"
            ]
          },
          "metadata": {},
          "execution_count": 18
        }
      ]
    },
    {
      "cell_type": "code",
      "metadata": {
        "id": "mh52VHrRImIJ",
        "colab": {
          "base_uri": "https://localhost:8080/"
        },
        "outputId": "7df5fc8b-e198-4432-aaae-740b11cdfdba"
      },
      "source": [
        "print(data)"
      ],
      "execution_count": 19,
      "outputs": [
        {
          "output_type": "stream",
          "name": "stdout",
          "text": [
            "                id            x            y  ...            vz  haloID    halo_mass\n",
            "2573056    3702803 1.043876e-01 2.210869e+01  ... -1.593734e+02       0 0.000000e+00\n",
            "2630144    4227097 1.063551e-01 2.149263e+01  ... -1.114685e+02       0 0.000000e+00\n",
            "11749888  10133520 1.074259e-01 1.065825e+02  ... -2.276244e+02       0 0.000000e+00\n",
            "11750144  10133523 1.084110e-01 1.071977e+02  ... -2.313971e+02       0 0.000000e+00\n",
            "2654464    4489219 1.084628e-01 2.084463e+01  ... -2.124474e+02       0 0.000000e+00\n",
            "...            ...          ...          ...  ...           ...     ...          ...\n",
            "10339839  15605748 1.598403e+02 8.340266e+01  ... -4.431822e+02     915 5.946000e+03\n",
            "10348031  15605749 1.598430e+02 8.341740e+01  ... -4.641362e+02     915 5.946000e+03\n",
            "10340351  15605740 1.598443e+02 8.463966e+01  ... -3.002645e+02     915 5.946000e+03\n",
            "10348287  15605742 1.598458e+02 8.405312e+01  ... -3.914064e+02     916 7.980000e+03\n",
            "10340095  15605743 1.598468e+02 8.405097e+01  ... -3.831090e+02     915 5.946000e+03\n",
            "\n",
            "[16777216 rows x 9 columns]\n"
          ]
        }
      ]
    },
    {
      "cell_type": "code",
      "metadata": {
        "id": "DGwdyj0GMtEM"
      },
      "source": [
        "data = data.to_numpy()"
      ],
      "execution_count": 20,
      "outputs": []
    },
    {
      "cell_type": "code",
      "source": [
        "data = data.astype('float64')"
      ],
      "metadata": {
        "id": "VeK7mOGZdph9"
      },
      "execution_count": 21,
      "outputs": []
    },
    {
      "cell_type": "code",
      "source": [
        "data.shape"
      ],
      "metadata": {
        "colab": {
          "base_uri": "https://localhost:8080/"
        },
        "id": "1isQOkJ1g55v",
        "outputId": "1bd90202-bdfe-4b46-e15a-5a0d95a42dc1"
      },
      "execution_count": 22,
      "outputs": [
        {
          "output_type": "execute_result",
          "data": {
            "text/plain": [
              "(16777216, 9)"
            ]
          },
          "metadata": {},
          "execution_count": 22
        }
      ]
    },
    {
      "cell_type": "code",
      "metadata": {
        "id": "5QPsp3KF6afc",
        "colab": {
          "base_uri": "https://localhost:8080/",
          "height": 357
        },
        "outputId": "07ac87fe-45de-43d6-93c1-470f5aac8e25"
      },
      "source": [
        "n = 100000\n",
        "\n",
        "sample = d.sample(n, random_state = 42)\n",
        "sample_density = sample[['id', 'haloID']]\n",
        "sample_density.reset_index(drop = True, inplace = True)\n",
        "\n",
        "for r in np.linspace(4.9, 20, 9):\n",
        "  density = box_mass(r , data, sample)\n",
        "  density = density.div((2*r)**3)\n",
        "  sample_density = pd.concat([sample_density, density], axis = 1)\n",
        "  sample_density = sample_density.rename(columns={'den_contrast': 'dc for {0:.1f}'.format(r)})\n",
        "sample_density.head()"
      ],
      "execution_count": 23,
      "outputs": [
        {
          "output_type": "stream",
          "name": "stderr",
          "text": [
            "100%|██████████| 100000/100000 [08:27<00:00, 197.23it/s]\n",
            "100%|██████████| 100000/100000 [11:46<00:00, 141.63it/s]\n",
            "100%|██████████| 100000/100000 [15:03<00:00, 110.65it/s]\n",
            "100%|██████████| 100000/100000 [18:40<00:00, 89.28it/s]\n",
            "100%|██████████| 100000/100000 [21:39<00:00, 76.96it/s]\n",
            "100%|██████████| 100000/100000 [26:12<00:00, 63.59it/s]\n",
            "100%|██████████| 100000/100000 [30:05<00:00, 55.38it/s]\n",
            "100%|██████████| 100000/100000 [35:35<00:00, 46.83it/s]\n",
            "100%|██████████| 100000/100000 [43:14<00:00, 38.54it/s]\n"
          ]
        },
        {
          "output_type": "execute_result",
          "data": {
            "text/html": [
              "<div>\n",
              "<style scoped>\n",
              "    .dataframe tbody tr th:only-of-type {\n",
              "        vertical-align: middle;\n",
              "    }\n",
              "\n",
              "    .dataframe tbody tr th {\n",
              "        vertical-align: top;\n",
              "    }\n",
              "\n",
              "    .dataframe thead th {\n",
              "        text-align: right;\n",
              "    }\n",
              "</style>\n",
              "<table border=\"1\" class=\"dataframe\">\n",
              "  <thead>\n",
              "    <tr style=\"text-align: right;\">\n",
              "      <th></th>\n",
              "      <th>id</th>\n",
              "      <th>haloID</th>\n",
              "      <th>dc for 4.9</th>\n",
              "      <th>dc for 6.8</th>\n",
              "      <th>dc for 8.7</th>\n",
              "      <th>dc for 10.6</th>\n",
              "      <th>dc for 12.4</th>\n",
              "      <th>dc for 14.3</th>\n",
              "      <th>dc for 16.2</th>\n",
              "      <th>dc for 18.1</th>\n",
              "      <th>dc for 20.0</th>\n",
              "    </tr>\n",
              "  </thead>\n",
              "  <tbody>\n",
              "    <tr>\n",
              "      <th>0</th>\n",
              "      <td>12445545</td>\n",
              "      <td>460</td>\n",
              "      <td>3.747376e+00</td>\n",
              "      <td>3.940263e+00</td>\n",
              "      <td>4.009581e+00</td>\n",
              "      <td>4.097859e+00</td>\n",
              "      <td>4.118019e+00</td>\n",
              "      <td>4.116688e+00</td>\n",
              "      <td>4.123362e+00</td>\n",
              "      <td>4.141595e+00</td>\n",
              "      <td>4.153437e+00</td>\n",
              "    </tr>\n",
              "    <tr>\n",
              "      <th>1</th>\n",
              "      <td>9757813</td>\n",
              "      <td>0</td>\n",
              "      <td>3.607128e+00</td>\n",
              "      <td>3.787961e+00</td>\n",
              "      <td>3.893933e+00</td>\n",
              "      <td>3.988391e+00</td>\n",
              "      <td>4.016777e+00</td>\n",
              "      <td>4.020242e+00</td>\n",
              "      <td>4.025908e+00</td>\n",
              "      <td>4.035507e+00</td>\n",
              "      <td>4.045141e+00</td>\n",
              "    </tr>\n",
              "    <tr>\n",
              "      <th>2</th>\n",
              "      <td>4364083</td>\n",
              "      <td>0</td>\n",
              "      <td>3.680439e+00</td>\n",
              "      <td>3.839128e+00</td>\n",
              "      <td>3.935673e+00</td>\n",
              "      <td>3.947870e+00</td>\n",
              "      <td>3.951873e+00</td>\n",
              "      <td>3.968627e+00</td>\n",
              "      <td>3.992516e+00</td>\n",
              "      <td>4.038915e+00</td>\n",
              "      <td>4.063891e+00</td>\n",
              "    </tr>\n",
              "    <tr>\n",
              "      <th>3</th>\n",
              "      <td>9111430</td>\n",
              "      <td>0</td>\n",
              "      <td>3.594378e+00</td>\n",
              "      <td>3.870308e+00</td>\n",
              "      <td>3.919207e+00</td>\n",
              "      <td>3.965903e+00</td>\n",
              "      <td>4.025327e+00</td>\n",
              "      <td>4.084115e+00</td>\n",
              "      <td>4.125586e+00</td>\n",
              "      <td>4.124197e+00</td>\n",
              "      <td>4.119031e+00</td>\n",
              "    </tr>\n",
              "    <tr>\n",
              "      <th>4</th>\n",
              "      <td>2698019</td>\n",
              "      <td>0</td>\n",
              "      <td>3.591191e+00</td>\n",
              "      <td>3.715608e+00</td>\n",
              "      <td>3.777136e+00</td>\n",
              "      <td>3.839462e+00</td>\n",
              "      <td>3.902256e+00</td>\n",
              "      <td>3.975795e+00</td>\n",
              "      <td>4.031615e+00</td>\n",
              "      <td>4.063465e+00</td>\n",
              "      <td>4.080422e+00</td>\n",
              "    </tr>\n",
              "  </tbody>\n",
              "</table>\n",
              "</div>"
            ],
            "text/plain": [
              "         id  haloID   dc for 4.9  ...  dc for 16.2  dc for 18.1  dc for 20.0\n",
              "0  12445545     460 3.747376e+00  ... 4.123362e+00 4.141595e+00 4.153437e+00\n",
              "1   9757813       0 3.607128e+00  ... 4.025908e+00 4.035507e+00 4.045141e+00\n",
              "2   4364083       0 3.680439e+00  ... 3.992516e+00 4.038915e+00 4.063891e+00\n",
              "3   9111430       0 3.594378e+00  ... 4.125586e+00 4.124197e+00 4.119031e+00\n",
              "4   2698019       0 3.591191e+00  ... 4.031615e+00 4.063465e+00 4.080422e+00\n",
              "\n",
              "[5 rows x 11 columns]"
            ]
          },
          "metadata": {},
          "execution_count": 23
        }
      ]
    },
    {
      "cell_type": "code",
      "source": [
        "sample_density.describe()"
      ],
      "metadata": {
        "colab": {
          "base_uri": "https://localhost:8080/",
          "height": 297
        },
        "id": "h42qGEGecvin",
        "outputId": "a33fddfc-8e78-40be-b1d2-b87ff7a71c16"
      },
      "execution_count": 24,
      "outputs": [
        {
          "output_type": "execute_result",
          "data": {
            "text/html": [
              "<div>\n",
              "<style scoped>\n",
              "    .dataframe tbody tr th:only-of-type {\n",
              "        vertical-align: middle;\n",
              "    }\n",
              "\n",
              "    .dataframe tbody tr th {\n",
              "        vertical-align: top;\n",
              "    }\n",
              "\n",
              "    .dataframe thead th {\n",
              "        text-align: right;\n",
              "    }\n",
              "</style>\n",
              "<table border=\"1\" class=\"dataframe\">\n",
              "  <thead>\n",
              "    <tr style=\"text-align: right;\">\n",
              "      <th></th>\n",
              "      <th>id</th>\n",
              "      <th>haloID</th>\n",
              "      <th>dc for 4.9</th>\n",
              "      <th>dc for 6.8</th>\n",
              "      <th>dc for 8.7</th>\n",
              "      <th>dc for 10.6</th>\n",
              "      <th>dc for 12.4</th>\n",
              "      <th>dc for 14.3</th>\n",
              "      <th>dc for 16.2</th>\n",
              "      <th>dc for 18.1</th>\n",
              "      <th>dc for 20.0</th>\n",
              "    </tr>\n",
              "  </thead>\n",
              "  <tbody>\n",
              "    <tr>\n",
              "      <th>count</th>\n",
              "      <td>1.000000e+05</td>\n",
              "      <td>1.000000e+05</td>\n",
              "      <td>1.000000e+05</td>\n",
              "      <td>1.000000e+05</td>\n",
              "      <td>1.000000e+05</td>\n",
              "      <td>1.000000e+05</td>\n",
              "      <td>1.000000e+05</td>\n",
              "      <td>1.000000e+05</td>\n",
              "      <td>1.000000e+05</td>\n",
              "      <td>1.000000e+05</td>\n",
              "      <td>1.000000e+05</td>\n",
              "    </tr>\n",
              "    <tr>\n",
              "      <th>mean</th>\n",
              "      <td>8.336331e+06</td>\n",
              "      <td>7.351837e+01</td>\n",
              "      <td>3.608464e+00</td>\n",
              "      <td>3.755829e+00</td>\n",
              "      <td>3.853160e+00</td>\n",
              "      <td>3.922281e+00</td>\n",
              "      <td>3.974161e+00</td>\n",
              "      <td>4.014609e+00</td>\n",
              "      <td>4.047026e+00</td>\n",
              "      <td>4.073129e+00</td>\n",
              "      <td>4.093753e+00</td>\n",
              "    </tr>\n",
              "    <tr>\n",
              "      <th>std</th>\n",
              "      <td>3.601997e+06</td>\n",
              "      <td>2.368330e+02</td>\n",
              "      <td>4.754085e-02</td>\n",
              "      <td>6.682156e-02</td>\n",
              "      <td>7.406519e-02</td>\n",
              "      <td>7.351311e-02</td>\n",
              "      <td>6.926706e-02</td>\n",
              "      <td>6.338634e-02</td>\n",
              "      <td>5.725504e-02</td>\n",
              "      <td>5.147849e-02</td>\n",
              "      <td>4.617630e-02</td>\n",
              "    </tr>\n",
              "    <tr>\n",
              "      <th>min</th>\n",
              "      <td>2.130504e+06</td>\n",
              "      <td>0.000000e+00</td>\n",
              "      <td>3.585878e+00</td>\n",
              "      <td>3.702017e+00</td>\n",
              "      <td>3.768711e+00</td>\n",
              "      <td>3.811989e+00</td>\n",
              "      <td>3.842340e+00</td>\n",
              "      <td>3.864802e+00</td>\n",
              "      <td>3.882449e+00</td>\n",
              "      <td>3.901799e+00</td>\n",
              "      <td>3.924484e+00</td>\n",
              "    </tr>\n",
              "    <tr>\n",
              "      <th>25%</th>\n",
              "      <td>5.190622e+06</td>\n",
              "      <td>0.000000e+00</td>\n",
              "      <td>3.585878e+00</td>\n",
              "      <td>3.705215e+00</td>\n",
              "      <td>3.791496e+00</td>\n",
              "      <td>3.862984e+00</td>\n",
              "      <td>3.921818e+00</td>\n",
              "      <td>3.969009e+00</td>\n",
              "      <td>4.008056e+00</td>\n",
              "      <td>4.039820e+00</td>\n",
              "      <td>4.064109e+00</td>\n",
              "    </tr>\n",
              "    <tr>\n",
              "      <th>50%</th>\n",
              "      <td>8.323708e+06</td>\n",
              "      <td>0.000000e+00</td>\n",
              "      <td>3.585878e+00</td>\n",
              "      <td>3.728000e+00</td>\n",
              "      <td>3.835534e+00</td>\n",
              "      <td>3.913714e+00</td>\n",
              "      <td>3.970398e+00</td>\n",
              "      <td>4.014050e+00</td>\n",
              "      <td>4.047038e+00</td>\n",
              "      <td>4.073405e+00</td>\n",
              "      <td>4.094391e+00</td>\n",
              "    </tr>\n",
              "    <tr>\n",
              "      <th>75%</th>\n",
              "      <td>1.143864e+07</td>\n",
              "      <td>0.000000e+00</td>\n",
              "      <td>3.606065e+00</td>\n",
              "      <td>3.784364e+00</td>\n",
              "      <td>3.897762e+00</td>\n",
              "      <td>3.969403e+00</td>\n",
              "      <td>4.020339e+00</td>\n",
              "      <td>4.056929e+00</td>\n",
              "      <td>4.085412e+00</td>\n",
              "      <td>4.107053e+00</td>\n",
              "      <td>4.124422e+00</td>\n",
              "    </tr>\n",
              "    <tr>\n",
              "      <th>max</th>\n",
              "      <td>1.464666e+07</td>\n",
              "      <td>1.233000e+03</td>\n",
              "      <td>4.086308e+00</td>\n",
              "      <td>4.238072e+00</td>\n",
              "      <td>4.247387e+00</td>\n",
              "      <td>4.260471e+00</td>\n",
              "      <td>4.274578e+00</td>\n",
              "      <td>4.254484e+00</td>\n",
              "      <td>4.242765e+00</td>\n",
              "      <td>4.251363e+00</td>\n",
              "      <td>4.250687e+00</td>\n",
              "    </tr>\n",
              "  </tbody>\n",
              "</table>\n",
              "</div>"
            ],
            "text/plain": [
              "                id       haloID  ...  dc for 18.1  dc for 20.0\n",
              "count 1.000000e+05 1.000000e+05  ... 1.000000e+05 1.000000e+05\n",
              "mean  8.336331e+06 7.351837e+01  ... 4.073129e+00 4.093753e+00\n",
              "std   3.601997e+06 2.368330e+02  ... 5.147849e-02 4.617630e-02\n",
              "min   2.130504e+06 0.000000e+00  ... 3.901799e+00 3.924484e+00\n",
              "25%   5.190622e+06 0.000000e+00  ... 4.039820e+00 4.064109e+00\n",
              "50%   8.323708e+06 0.000000e+00  ... 4.073405e+00 4.094391e+00\n",
              "75%   1.143864e+07 0.000000e+00  ... 4.107053e+00 4.124422e+00\n",
              "max   1.464666e+07 1.233000e+03  ... 4.251363e+00 4.250687e+00\n",
              "\n",
              "[8 rows x 11 columns]"
            ]
          },
          "metadata": {},
          "execution_count": 24
        }
      ]
    },
    {
      "cell_type": "code",
      "metadata": {
        "id": "APst9mf55-2j"
      },
      "source": [
        "sample_density.to_csv('/content/drive/MyDrive/sample_density_final2.csv', index=False)"
      ],
      "execution_count": 25,
      "outputs": []
    },
    {
      "cell_type": "code",
      "metadata": {
        "id": "Z1TYX3q_zYN0",
        "colab": {
          "base_uri": "https://localhost:8080/"
        },
        "outputId": "733fc806-9d64-431f-fe95-1d7449e7ac4a"
      },
      "source": [
        "rho_bar = len(data) / (159.8**3)\n",
        "sample_density.iloc[:,2:] -= rho_bar\n",
        "sample_density.iloc[:,2:] /= rho_bar\n",
        "print(sample_density)"
      ],
      "execution_count": 26,
      "outputs": [
        {
          "output_type": "stream",
          "name": "stdout",
          "text": [
            "             id  haloID    dc for 4.9  ...   dc for 16.2   dc for 18.1   dc for 20.0\n",
            "0      12445545     460 -8.853990e-02  ...  2.909874e-03  7.344509e-03  1.022499e-02\n",
            "1       9757813       0 -1.226518e-01  ... -2.079352e-02 -1.845873e-02 -1.611565e-02\n",
            "2       4364083       0 -1.048206e-01  ... -2.891532e-02 -1.762983e-02 -1.155516e-02\n",
            "3       9111430       0 -1.257529e-01  ...  3.450852e-03  3.113044e-03  1.856490e-03\n",
            "4       2698019       0 -1.265282e-01  ... -1.940548e-02 -1.165871e-02 -7.534323e-03\n",
            "...         ...     ...           ...  ...           ...           ...           ...\n",
            "99995   5727559       0 -1.231687e-01  ... -2.297879e-02 -1.671395e-02 -1.403682e-02\n",
            "99996  13779938       0 -1.278203e-01  ...  2.667857e-03  5.973249e-03  6.515793e-03\n",
            "99997   5313693       0 -1.278203e-01  ... -1.696396e-02 -6.414148e-03 -2.183346e-03\n",
            "99998   7482364       0 -1.278203e-01  ... -1.503495e-02 -1.427843e-02 -1.217462e-02\n",
            "99999   8333714       0 -1.278203e-01  ... -5.169211e-03 -2.332411e-04  5.656900e-03\n",
            "\n",
            "[100000 rows x 11 columns]\n"
          ]
        }
      ]
    },
    {
      "cell_type": "code",
      "metadata": {
        "id": "_fB5tSzn7On1"
      },
      "source": [
        "sample_density.to_csv('/content/drive/MyDrive/density_contrast_final2.csv', index=False)"
      ],
      "execution_count": 27,
      "outputs": []
    },
    {
      "cell_type": "markdown",
      "metadata": {
        "id": "rzsN5sWNz_ZM"
      },
      "source": [
        "The above gives the physical properties that we were looking for, namely the density contrasts for each particle encompassed by boxes of different sizes."
      ]
    }
  ]
}