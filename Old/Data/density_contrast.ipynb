{
  "nbformat": 4,
  "nbformat_minor": 0,
  "metadata": {
    "colab": {
      "name": "density_contrast.ipynb",
      "provenance": [],
      "collapsed_sections": [],
      "toc_visible": true,
      "mount_file_id": "1qcV7u5qFAKQjt58YPk3VRm8eTrZfwJle",
      "authorship_tag": "ABX9TyNqLrhILYADX8him0QfEVOx",
      "include_colab_link": true
    },
    "kernelspec": {
      "name": "python3",
      "display_name": "Python 3"
    },
    "language_info": {
      "name": "python"
    }
  },
  "cells": [
    {
      "cell_type": "markdown",
      "metadata": {
        "id": "view-in-github",
        "colab_type": "text"
      },
      "source": [
        "<a href=\"https://colab.research.google.com/github/as2c/MLP---Cosmology/blob/main/Data/density_contrast.ipynb\" target=\"_parent\"><img src=\"https://colab.research.google.com/assets/colab-badge.svg\" alt=\"Open In Colab\"/></a>"
      ]
    },
    {
      "cell_type": "code",
      "metadata": {
        "colab": {
          "base_uri": "https://localhost:8080/"
        },
        "id": "7cA0UEjOPWi-",
        "outputId": "13d4beee-14f0-4c81-866a-66407372819e"
      },
      "source": [
        "import pandas as pd\n",
        "import numpy as np\n",
        "!git clone https://github.com/jveitchmichaelis/pygadgetreader"
      ],
      "execution_count": null,
      "outputs": [
        {
          "output_type": "stream",
          "name": "stdout",
          "text": [
            "fatal: destination path 'pygadgetreader' already exists and is not an empty directory.\n"
          ]
        }
      ]
    },
    {
      "cell_type": "code",
      "metadata": {
        "colab": {
          "base_uri": "https://localhost:8080/"
        },
        "id": "CyAvRzOqMDbH",
        "outputId": "0763c919-715b-4bc5-e6bd-7d87995d411e"
      },
      "source": [
        "from google.colab import drive\n",
        "drive.mount('/content/drive')"
      ],
      "execution_count": null,
      "outputs": [
        {
          "output_type": "stream",
          "name": "stdout",
          "text": [
            "Drive already mounted at /content/drive; to attempt to forcibly remount, call drive.mount(\"/content/drive\", force_remount=True).\n"
          ]
        }
      ]
    },
    {
      "cell_type": "code",
      "metadata": {
        "id": "6mP2uUIrwbCP",
        "colab": {
          "base_uri": "https://localhost:8080/"
        },
        "outputId": "7754ffa0-382b-496d-cc40-4881c43b19f0"
      },
      "source": [
        "%cd /content/pygadgetreader\n",
        "!python setup.py build\n",
        "!python setup.py install"
      ],
      "execution_count": null,
      "outputs": [
        {
          "output_type": "stream",
          "name": "stdout",
          "text": [
            "/content/pygadgetreader\n",
            "running build\n",
            "running build_py\n",
            "running install\n",
            "running bdist_egg\n",
            "running egg_info\n",
            "writing pyGadgetReader.egg-info/PKG-INFO\n",
            "writing dependency_links to pyGadgetReader.egg-info/dependency_links.txt\n",
            "writing requirements to pyGadgetReader.egg-info/requires.txt\n",
            "writing top-level names to pyGadgetReader.egg-info/top_level.txt\n",
            "adding license file 'LICENSE'\n",
            "writing manifest file 'pyGadgetReader.egg-info/SOURCES.txt'\n",
            "installing library code to build/bdist.linux-x86_64/egg\n",
            "running install_lib\n",
            "running build_py\n",
            "creating build/bdist.linux-x86_64/egg\n",
            "creating build/bdist.linux-x86_64/egg/pygadgetreader\n",
            "copying build/lib/pygadgetreader/__init__.py -> build/bdist.linux-x86_64/egg/pygadgetreader\n",
            "creating build/bdist.linux-x86_64/egg/readgadget\n",
            "copying build/lib/readgadget/readpstar.py -> build/bdist.linux-x86_64/egg/readgadget\n",
            "copying build/lib/readgadget/readrockstar.py -> build/bdist.linux-x86_64/egg/readgadget\n",
            "copying build/lib/readgadget/readgadget.py -> build/bdist.linux-x86_64/egg/readgadget\n",
            "copying build/lib/readgadget/readfofspecial.py -> build/bdist.linux-x86_64/egg/readgadget\n",
            "creating build/bdist.linux-x86_64/egg/readgadget/modules\n",
            "copying build/lib/readgadget/modules/common.py -> build/bdist.linux-x86_64/egg/readgadget/modules\n",
            "copying build/lib/readgadget/modules/gadget1.py -> build/bdist.linux-x86_64/egg/readgadget/modules\n",
            "copying build/lib/readgadget/modules/rs_structs.py -> build/bdist.linux-x86_64/egg/readgadget/modules\n",
            "copying build/lib/readgadget/modules/gadget2.py -> build/bdist.linux-x86_64/egg/readgadget/modules\n",
            "copying build/lib/readgadget/modules/header.py -> build/bdist.linux-x86_64/egg/readgadget/modules\n",
            "copying build/lib/readgadget/modules/tipsy.py -> build/bdist.linux-x86_64/egg/readgadget/modules\n",
            "copying build/lib/readgadget/modules/hdf5.py -> build/bdist.linux-x86_64/egg/readgadget/modules\n",
            "copying build/lib/readgadget/modules/names.py -> build/bdist.linux-x86_64/egg/readgadget/modules\n",
            "copying build/lib/readgadget/modules/gadget_blockordering.py -> build/bdist.linux-x86_64/egg/readgadget/modules\n",
            "copying build/lib/readgadget/modules/__init__.py -> build/bdist.linux-x86_64/egg/readgadget/modules\n",
            "copying build/lib/readgadget/__init__.py -> build/bdist.linux-x86_64/egg/readgadget\n",
            "byte-compiling build/bdist.linux-x86_64/egg/pygadgetreader/__init__.py to __init__.cpython-37.pyc\n",
            "byte-compiling build/bdist.linux-x86_64/egg/readgadget/readpstar.py to readpstar.cpython-37.pyc\n",
            "byte-compiling build/bdist.linux-x86_64/egg/readgadget/readrockstar.py to readrockstar.cpython-37.pyc\n",
            "byte-compiling build/bdist.linux-x86_64/egg/readgadget/readgadget.py to readgadget.cpython-37.pyc\n",
            "byte-compiling build/bdist.linux-x86_64/egg/readgadget/readfofspecial.py to readfofspecial.cpython-37.pyc\n",
            "byte-compiling build/bdist.linux-x86_64/egg/readgadget/modules/common.py to common.cpython-37.pyc\n",
            "byte-compiling build/bdist.linux-x86_64/egg/readgadget/modules/gadget1.py to gadget1.cpython-37.pyc\n",
            "byte-compiling build/bdist.linux-x86_64/egg/readgadget/modules/rs_structs.py to rs_structs.cpython-37.pyc\n",
            "byte-compiling build/bdist.linux-x86_64/egg/readgadget/modules/gadget2.py to gadget2.cpython-37.pyc\n",
            "byte-compiling build/bdist.linux-x86_64/egg/readgadget/modules/header.py to header.cpython-37.pyc\n",
            "byte-compiling build/bdist.linux-x86_64/egg/readgadget/modules/tipsy.py to tipsy.cpython-37.pyc\n",
            "byte-compiling build/bdist.linux-x86_64/egg/readgadget/modules/hdf5.py to hdf5.cpython-37.pyc\n",
            "byte-compiling build/bdist.linux-x86_64/egg/readgadget/modules/names.py to names.cpython-37.pyc\n",
            "byte-compiling build/bdist.linux-x86_64/egg/readgadget/modules/gadget_blockordering.py to gadget_blockordering.cpython-37.pyc\n",
            "byte-compiling build/bdist.linux-x86_64/egg/readgadget/modules/__init__.py to __init__.cpython-37.pyc\n",
            "byte-compiling build/bdist.linux-x86_64/egg/readgadget/__init__.py to __init__.cpython-37.pyc\n",
            "creating build/bdist.linux-x86_64/egg/EGG-INFO\n",
            "copying pyGadgetReader.egg-info/PKG-INFO -> build/bdist.linux-x86_64/egg/EGG-INFO\n",
            "copying pyGadgetReader.egg-info/SOURCES.txt -> build/bdist.linux-x86_64/egg/EGG-INFO\n",
            "copying pyGadgetReader.egg-info/dependency_links.txt -> build/bdist.linux-x86_64/egg/EGG-INFO\n",
            "copying pyGadgetReader.egg-info/requires.txt -> build/bdist.linux-x86_64/egg/EGG-INFO\n",
            "copying pyGadgetReader.egg-info/top_level.txt -> build/bdist.linux-x86_64/egg/EGG-INFO\n",
            "zip_safe flag not set; analyzing archive contents...\n",
            "creating 'dist/pyGadgetReader-2.6-py3.7.egg' and adding 'build/bdist.linux-x86_64/egg' to it\n",
            "removing 'build/bdist.linux-x86_64/egg' (and everything under it)\n",
            "Processing pyGadgetReader-2.6-py3.7.egg\n",
            "Removing /usr/local/lib/python3.7/dist-packages/pyGadgetReader-2.6-py3.7.egg\n",
            "Copying pyGadgetReader-2.6-py3.7.egg to /usr/local/lib/python3.7/dist-packages\n",
            "pyGadgetReader 2.6 is already the active version in easy-install.pth\n",
            "\n",
            "Installed /usr/local/lib/python3.7/dist-packages/pyGadgetReader-2.6-py3.7.egg\n",
            "Processing dependencies for pyGadgetReader==2.6\n",
            "Searching for numpy==1.19.5\n",
            "Best match: numpy 1.19.5\n",
            "Adding numpy 1.19.5 to easy-install.pth file\n",
            "Installing f2py script to /usr/local/bin\n",
            "Installing f2py3 script to /usr/local/bin\n",
            "Installing f2py3.7 script to /usr/local/bin\n",
            "\n",
            "Using /usr/local/lib/python3.7/dist-packages\n",
            "Searching for h5py==3.1.0\n",
            "Best match: h5py 3.1.0\n",
            "Adding h5py 3.1.0 to easy-install.pth file\n",
            "\n",
            "Using /usr/local/lib/python3.7/dist-packages\n",
            "Searching for cached-property==1.5.2\n",
            "Best match: cached-property 1.5.2\n",
            "Adding cached-property 1.5.2 to easy-install.pth file\n",
            "\n",
            "Using /usr/local/lib/python3.7/dist-packages\n",
            "Finished processing dependencies for pyGadgetReader==2.6\n"
          ]
        }
      ]
    },
    {
      "cell_type": "code",
      "metadata": {
        "id": "XnK3AaPmxZ_s"
      },
      "source": [
        "from pygadgetreader import *"
      ],
      "execution_count": null,
      "outputs": []
    },
    {
      "cell_type": "code",
      "metadata": {
        "id": "8UPWYJGWxgSD",
        "colab": {
          "base_uri": "https://localhost:8080/"
        },
        "outputId": "0b35c4e1-f480-421c-db81-f0b5ad56e735"
      },
      "source": [
        "vel = readsnap('/content/drive/MyDrive/ML/n1lcdmML_snap000_cdm','vel','dm')\n",
        "vx = vel[:,0].tolist()\n",
        "vy = vel[:,1].tolist()\n",
        "vz = vel[:,2].tolist()\n",
        "mass = readsnap('/content/drive/MyDrive/ML/n1lcdmML_snap000_cdm','mass','dm').tolist()\n",
        "particle_id = readsnap('/content/drive/MyDrive/ML/n1lcdmML_snap000_cdm','pid','dm').tolist()\n",
        "position = readsnap('/content/drive/MyDrive/ML/n1lcdmML_snap000_cdm','pos','dm')\n",
        "x = position[:,0].tolist()\n",
        "y = position[:,1].tolist()\n",
        "z = position[:,2].tolist()\n",
        "data = {'particle_id': particle_id,\n",
        "        'x': x,\n",
        "        'y': y,\n",
        "        'z': z,\n",
        "        'vx': vx,\n",
        "        'vy': vy,\n",
        "        'vz': vz,\n",
        "        'mass': mass}\n",
        "df = pd.DataFrame(data)"
      ],
      "execution_count": null,
      "outputs": [
        {
          "output_type": "stream",
          "name": "stdout",
          "text": [
            "Returning DM    Velocities\n",
            "Returning DM    Mass\n",
            "Returning DM    Particle IDs\n",
            "Returning DM    Positions\n"
          ]
        }
      ]
    },
    {
      "cell_type": "code",
      "metadata": {
        "id": "erRm-DW4zbCl",
        "colab": {
          "base_uri": "https://localhost:8080/",
          "height": 204
        },
        "outputId": "12475c58-b71e-4085-fb01-d9d8b220021f"
      },
      "source": [
        "df.head()"
      ],
      "execution_count": null,
      "outputs": [
        {
          "output_type": "execute_result",
          "data": {
            "text/html": [
              "<div>\n",
              "<style scoped>\n",
              "    .dataframe tbody tr th:only-of-type {\n",
              "        vertical-align: middle;\n",
              "    }\n",
              "\n",
              "    .dataframe tbody tr th {\n",
              "        vertical-align: top;\n",
              "    }\n",
              "\n",
              "    .dataframe thead th {\n",
              "        text-align: right;\n",
              "    }\n",
              "</style>\n",
              "<table border=\"1\" class=\"dataframe\">\n",
              "  <thead>\n",
              "    <tr style=\"text-align: right;\">\n",
              "      <th></th>\n",
              "      <th>particle_id</th>\n",
              "      <th>x</th>\n",
              "      <th>y</th>\n",
              "      <th>z</th>\n",
              "      <th>vx</th>\n",
              "      <th>vy</th>\n",
              "      <th>vz</th>\n",
              "      <th>mass</th>\n",
              "    </tr>\n",
              "  </thead>\n",
              "  <tbody>\n",
              "    <tr>\n",
              "      <th>0</th>\n",
              "      <td>0</td>\n",
              "      <td>192.691193</td>\n",
              "      <td>231.858017</td>\n",
              "      <td>225.984268</td>\n",
              "      <td>-659.554321</td>\n",
              "      <td>-419.040802</td>\n",
              "      <td>-489.896637</td>\n",
              "      <td>2.02478</td>\n",
              "    </tr>\n",
              "    <tr>\n",
              "      <th>1</th>\n",
              "      <td>7</td>\n",
              "      <td>809.101929</td>\n",
              "      <td>210.431351</td>\n",
              "      <td>214.217163</td>\n",
              "      <td>-702.608582</td>\n",
              "      <td>-530.673584</td>\n",
              "      <td>-534.257935</td>\n",
              "      <td>2.02478</td>\n",
              "    </tr>\n",
              "    <tr>\n",
              "      <th>2</th>\n",
              "      <td>56</td>\n",
              "      <td>1437.270874</td>\n",
              "      <td>198.266098</td>\n",
              "      <td>201.348267</td>\n",
              "      <td>-689.156860</td>\n",
              "      <td>-608.542847</td>\n",
              "      <td>-615.787476</td>\n",
              "      <td>2.02478</td>\n",
              "    </tr>\n",
              "    <tr>\n",
              "      <th>3</th>\n",
              "      <td>63</td>\n",
              "      <td>2043.859375</td>\n",
              "      <td>196.952347</td>\n",
              "      <td>187.470413</td>\n",
              "      <td>-797.107727</td>\n",
              "      <td>-646.467102</td>\n",
              "      <td>-686.565735</td>\n",
              "      <td>2.02478</td>\n",
              "    </tr>\n",
              "    <tr>\n",
              "      <th>4</th>\n",
              "      <td>64</td>\n",
              "      <td>2664.605225</td>\n",
              "      <td>204.039200</td>\n",
              "      <td>170.532455</td>\n",
              "      <td>-818.485474</td>\n",
              "      <td>-626.312866</td>\n",
              "      <td>-768.481689</td>\n",
              "      <td>2.02478</td>\n",
              "    </tr>\n",
              "  </tbody>\n",
              "</table>\n",
              "</div>"
            ],
            "text/plain": [
              "   particle_id            x           y  ...          vy          vz     mass\n",
              "0            0   192.691193  231.858017  ... -419.040802 -489.896637  2.02478\n",
              "1            7   809.101929  210.431351  ... -530.673584 -534.257935  2.02478\n",
              "2           56  1437.270874  198.266098  ... -608.542847 -615.787476  2.02478\n",
              "3           63  2043.859375  196.952347  ... -646.467102 -686.565735  2.02478\n",
              "4           64  2664.605225  204.039200  ... -626.312866 -768.481689  2.02478\n",
              "\n",
              "[5 rows x 8 columns]"
            ]
          },
          "metadata": {},
          "execution_count": 6
        }
      ]
    },
    {
      "cell_type": "code",
      "metadata": {
        "id": "-YfEyhhcxnnM"
      },
      "source": [
        "df = df.sort_values( by =['x'])\n",
        "df.drop(['mass'], axis = 1, inplace = True)"
      ],
      "execution_count": null,
      "outputs": []
    },
    {
      "cell_type": "code",
      "metadata": {
        "id": "GOglVd9syUni"
      },
      "source": [
        "df.insert(1, 'in-halo', 0)"
      ],
      "execution_count": null,
      "outputs": []
    },
    {
      "cell_type": "markdown",
      "metadata": {
        "id": "Q-hnINXh0Xwj"
      },
      "source": [
        "The following line of code has to be changed, since we only assign a random value of 0 or 1 for each particle's in-halo value."
      ]
    },
    {
      "cell_type": "code",
      "metadata": {
        "id": "GiFJ_GmPzfDH"
      },
      "source": [
        "df['in-halo'] = np.random.choice([0, 1], df.shape[0])\n",
        "# df.head(10)"
      ],
      "execution_count": null,
      "outputs": []
    },
    {
      "cell_type": "code",
      "metadata": {
        "colab": {
          "base_uri": "https://localhost:8080/"
        },
        "id": "ZvmkaVM7EpPC",
        "outputId": "0ae5a430-41c8-449f-88a0-f262944cd5c6"
      },
      "source": [
        "data = df.copy(deep = True)\n",
        "data.x = data.x / 1000\n",
        "data.y = df.y / 1000\n",
        "data.z = df.z / 1000\n",
        "print(data.x.max())\n",
        "print(data.y.max())\n",
        "print(data.z.max())"
      ],
      "execution_count": null,
      "outputs": [
        {
          "output_type": "stream",
          "name": "stdout",
          "text": [
            "159.846765625\n",
            "159.85021875\n",
            "159.824359375\n"
          ]
        }
      ]
    },
    {
      "cell_type": "code",
      "metadata": {
        "colab": {
          "base_uri": "https://localhost:8080/",
          "height": 204
        },
        "id": "dSz4vZEIHf2W",
        "outputId": "c04101e6-51c1-4dd7-8dfe-2e7ffde2b7a3"
      },
      "source": [
        "data.head()"
      ],
      "execution_count": null,
      "outputs": [
        {
          "output_type": "execute_result",
          "data": {
            "text/html": [
              "<div>\n",
              "<style scoped>\n",
              "    .dataframe tbody tr th:only-of-type {\n",
              "        vertical-align: middle;\n",
              "    }\n",
              "\n",
              "    .dataframe tbody tr th {\n",
              "        vertical-align: top;\n",
              "    }\n",
              "\n",
              "    .dataframe thead th {\n",
              "        text-align: right;\n",
              "    }\n",
              "</style>\n",
              "<table border=\"1\" class=\"dataframe\">\n",
              "  <thead>\n",
              "    <tr style=\"text-align: right;\">\n",
              "      <th></th>\n",
              "      <th>particle_id</th>\n",
              "      <th>in-halo</th>\n",
              "      <th>x</th>\n",
              "      <th>y</th>\n",
              "      <th>z</th>\n",
              "      <th>vx</th>\n",
              "      <th>vy</th>\n",
              "      <th>vz</th>\n",
              "    </tr>\n",
              "  </thead>\n",
              "  <tbody>\n",
              "    <tr>\n",
              "      <th>0</th>\n",
              "      <td>0</td>\n",
              "      <td>0</td>\n",
              "      <td>0.192691</td>\n",
              "      <td>0.231858</td>\n",
              "      <td>0.225984</td>\n",
              "      <td>-659.554321</td>\n",
              "      <td>-419.040802</td>\n",
              "      <td>-489.896637</td>\n",
              "    </tr>\n",
              "    <tr>\n",
              "      <th>1</th>\n",
              "      <td>7</td>\n",
              "      <td>0</td>\n",
              "      <td>0.809102</td>\n",
              "      <td>0.210431</td>\n",
              "      <td>0.214217</td>\n",
              "      <td>-702.608582</td>\n",
              "      <td>-530.673584</td>\n",
              "      <td>-534.257935</td>\n",
              "    </tr>\n",
              "    <tr>\n",
              "      <th>2</th>\n",
              "      <td>56</td>\n",
              "      <td>0</td>\n",
              "      <td>1.437271</td>\n",
              "      <td>0.198266</td>\n",
              "      <td>0.201348</td>\n",
              "      <td>-689.156860</td>\n",
              "      <td>-608.542847</td>\n",
              "      <td>-615.787476</td>\n",
              "    </tr>\n",
              "    <tr>\n",
              "      <th>3</th>\n",
              "      <td>63</td>\n",
              "      <td>0</td>\n",
              "      <td>2.043859</td>\n",
              "      <td>0.196952</td>\n",
              "      <td>0.187470</td>\n",
              "      <td>-797.107727</td>\n",
              "      <td>-646.467102</td>\n",
              "      <td>-686.565735</td>\n",
              "    </tr>\n",
              "    <tr>\n",
              "      <th>4</th>\n",
              "      <td>64</td>\n",
              "      <td>1</td>\n",
              "      <td>2.664605</td>\n",
              "      <td>0.204039</td>\n",
              "      <td>0.170532</td>\n",
              "      <td>-818.485474</td>\n",
              "      <td>-626.312866</td>\n",
              "      <td>-768.481689</td>\n",
              "    </tr>\n",
              "  </tbody>\n",
              "</table>\n",
              "</div>"
            ],
            "text/plain": [
              "   particle_id  in-halo         x  ...          vx          vy          vz\n",
              "0            0        0  0.192691  ... -659.554321 -419.040802 -489.896637\n",
              "1            7        0  0.809102  ... -702.608582 -530.673584 -534.257935\n",
              "2           56        0  1.437271  ... -689.156860 -608.542847 -615.787476\n",
              "3           63        0  2.043859  ... -797.107727 -646.467102 -686.565735\n",
              "4           64        1  2.664605  ... -818.485474 -626.312866 -768.481689\n",
              "\n",
              "[5 rows x 8 columns]"
            ]
          },
          "metadata": {},
          "execution_count": 11
        }
      ]
    },
    {
      "cell_type": "code",
      "metadata": {
        "id": "Jq9o_uEAMY4B",
        "colab": {
          "base_uri": "https://localhost:8080/"
        },
        "outputId": "af975548-78d4-429d-fdeb-f7fb7a6d7f0d"
      },
      "source": [
        "box_size = 159\n",
        "boundary = 20\n",
        "\n",
        "d = data[data.x > boundary]\n",
        "\n",
        "d = d[data.x < box_size - boundary]\n",
        "\n",
        "d = d[data.y > boundary]\n",
        "\n",
        "d = d[data.y < box_size - boundary]\n",
        "\n",
        "d = d[data.z > boundary]\n",
        "\n",
        "d = d[data.z < box_size - boundary]"
      ],
      "execution_count": null,
      "outputs": [
        {
          "output_type": "stream",
          "name": "stderr",
          "text": [
            "/usr/local/lib/python3.7/dist-packages/ipykernel_launcher.py:6: UserWarning: Boolean Series key will be reindexed to match DataFrame index.\n",
            "  \n",
            "/usr/local/lib/python3.7/dist-packages/ipykernel_launcher.py:8: UserWarning: Boolean Series key will be reindexed to match DataFrame index.\n",
            "  \n",
            "/usr/local/lib/python3.7/dist-packages/ipykernel_launcher.py:10: UserWarning: Boolean Series key will be reindexed to match DataFrame index.\n",
            "  # Remove the CWD from sys.path while we load stuff.\n",
            "/usr/local/lib/python3.7/dist-packages/ipykernel_launcher.py:12: UserWarning: Boolean Series key will be reindexed to match DataFrame index.\n",
            "  if sys.path[0] == '':\n",
            "/usr/local/lib/python3.7/dist-packages/ipykernel_launcher.py:14: UserWarning: Boolean Series key will be reindexed to match DataFrame index.\n",
            "  \n"
          ]
        }
      ]
    },
    {
      "cell_type": "code",
      "metadata": {
        "id": "he0AiJKrvONk"
      },
      "source": [
        "from tqdm import tqdm\n",
        "def box_mass(r_cutoff, df, d):\n",
        "    m = len(d)\n",
        "    mass = pd.DataFrame(np.zeros(m),columns=['den_contrast'])\n",
        "    for i in tqdm(range(m)):\n",
        "        wx=d.iloc[i]['x']\n",
        "        wy=d.iloc[i]['y']\n",
        "        wz=d.iloc[i]['z']\n",
        "        ix = np.searchsorted(df[:,2] , wx-r_cutoff)\n",
        "        jx = np.searchsorted(df[:,2] , wx+r_cutoff)\n",
        "\n",
        "        temp = np.where((df[ix:jx,3] < wy+r_cutoff) & (df[ix:jx,3] > wy-r_cutoff) & (df[ix:jx,4] < wz+r_cutoff) & (df[ix:jx,4] > wz-r_cutoff))\n",
        "    \n",
        "        mass.den_contrast[i] = len(temp[0])\n",
        "    return mass"
      ],
      "execution_count": null,
      "outputs": []
    },
    {
      "cell_type": "code",
      "metadata": {
        "id": "GSTQB_T34Oe4"
      },
      "source": [
        "n = 100000\n",
        "\n",
        "sample = d.sample(n, random_state = 1)\n",
        "sample_density = sample[['particle_id', 'in-halo']]\n",
        "sample_density.reset_index(drop = True, inplace = True)\n",
        "# sample_density.head()"
      ],
      "execution_count": null,
      "outputs": []
    },
    {
      "cell_type": "code",
      "metadata": {
        "id": "mh52VHrRImIJ",
        "colab": {
          "base_uri": "https://localhost:8080/"
        },
        "outputId": "c14a8e81-0d13-4245-fa29-c83741066574"
      },
      "source": [
        "print(data)"
      ],
      "execution_count": null,
      "outputs": [
        {
          "output_type": "stream",
          "name": "stdout",
          "text": [
            "          particle_id  in-halo           x  ...          vx          vy          vz\n",
            "0                   0        0    0.192691  ... -659.554321 -419.040802 -489.896637\n",
            "1                   7        0    0.809102  ... -702.608582 -530.673584 -534.257935\n",
            "2                  56        0    1.437271  ... -689.156860 -608.542847 -615.787476\n",
            "3                  63        0    2.043859  ... -797.107727 -646.467102 -686.565735\n",
            "4                  64        1    2.664605  ... -818.485474 -626.312866 -768.481689\n",
            "...               ...      ...         ...  ...         ...         ...         ...\n",
            "16777211     16777133        1  157.062375  ... -701.834167 -397.481934 -357.832153\n",
            "16777212     16777170        0  157.688234  ... -678.720825 -381.776428 -408.717957\n",
            "16777213     16777173        0  158.317078  ... -681.724609 -368.299011 -465.415466\n",
            "16777214     16777194        0  158.937750  ... -697.889648 -382.313843 -450.085297\n",
            "16777215     16777197        1  159.574641  ... -637.320312 -410.518890 -407.712463\n",
            "\n",
            "[16777216 rows x 8 columns]\n"
          ]
        }
      ]
    },
    {
      "cell_type": "code",
      "metadata": {
        "id": "DGwdyj0GMtEM"
      },
      "source": [
        "data = data.to_numpy()"
      ],
      "execution_count": null,
      "outputs": []
    },
    {
      "cell_type": "code",
      "metadata": {
        "colab": {
          "base_uri": "https://localhost:8080/"
        },
        "id": "a4xhsKlNzdZg",
        "outputId": "d86c54e5-99f8-4d17-8302-1a3ae95479b6"
      },
      "source": [
        "len(df)"
      ],
      "execution_count": null,
      "outputs": [
        {
          "output_type": "execute_result",
          "data": {
            "text/plain": [
              "16777216"
            ]
          },
          "metadata": {},
          "execution_count": 18
        }
      ]
    },
    {
      "cell_type": "code",
      "metadata": {
        "id": "5QPsp3KF6afc",
        "colab": {
          "base_uri": "https://localhost:8080/",
          "height": 255
        },
        "outputId": "0f48ac18-c13e-45e9-bb80-85c0660ffc09"
      },
      "source": [
        "rc = np.array([])\n",
        "for i in range(20, 23, 1):\n",
        "  r =  0.6 * i + 0.4\n",
        "  rc = np.append(rc, r)\n",
        "  density = box_mass(r , data, sample)\n",
        "  density = density.div((2*r)**3)\n",
        "  sample_density = pd.concat([sample_density, density], axis = 1)\n",
        "  sample_density = sample_density.rename(columns={'den_contrast': 'den_contrast for {}'.format(r)})\n",
        "sample_density.head()"
      ],
      "execution_count": null,
      "outputs": [
        {
          "output_type": "stream",
          "name": "stderr",
          "text": [
            "100%|██████████| 100000/100000 [22:00<00:00, 75.73it/s]\n",
            "100%|██████████| 100000/100000 [23:11<00:00, 71.85it/s]\n",
            "100%|██████████| 100000/100000 [24:33<00:00, 67.87it/s]\n"
          ]
        },
        {
          "output_type": "execute_result",
          "data": {
            "text/html": [
              "<div>\n",
              "<style scoped>\n",
              "    .dataframe tbody tr th:only-of-type {\n",
              "        vertical-align: middle;\n",
              "    }\n",
              "\n",
              "    .dataframe tbody tr th {\n",
              "        vertical-align: top;\n",
              "    }\n",
              "\n",
              "    .dataframe thead th {\n",
              "        text-align: right;\n",
              "    }\n",
              "</style>\n",
              "<table border=\"1\" class=\"dataframe\">\n",
              "  <thead>\n",
              "    <tr style=\"text-align: right;\">\n",
              "      <th></th>\n",
              "      <th>particle_id</th>\n",
              "      <th>in-halo</th>\n",
              "      <th>den_contrast for 12.4</th>\n",
              "      <th>den_contrast for 13.0</th>\n",
              "      <th>den_contrast for 13.6</th>\n",
              "    </tr>\n",
              "  </thead>\n",
              "  <tbody>\n",
              "    <tr>\n",
              "      <th>0</th>\n",
              "      <td>6734555</td>\n",
              "      <td>0</td>\n",
              "      <td>3.889729</td>\n",
              "      <td>3.921313</td>\n",
              "      <td>3.950924</td>\n",
              "    </tr>\n",
              "    <tr>\n",
              "      <th>1</th>\n",
              "      <td>12718733</td>\n",
              "      <td>1</td>\n",
              "      <td>3.913921</td>\n",
              "      <td>3.926491</td>\n",
              "      <td>3.951023</td>\n",
              "    </tr>\n",
              "    <tr>\n",
              "      <th>2</th>\n",
              "      <td>6470459</td>\n",
              "      <td>1</td>\n",
              "      <td>3.949455</td>\n",
              "      <td>3.967968</td>\n",
              "      <td>3.985460</td>\n",
              "    </tr>\n",
              "    <tr>\n",
              "      <th>3</th>\n",
              "      <td>12098249</td>\n",
              "      <td>1</td>\n",
              "      <td>3.909594</td>\n",
              "      <td>3.923020</td>\n",
              "      <td>3.950924</td>\n",
              "    </tr>\n",
              "    <tr>\n",
              "      <th>4</th>\n",
              "      <td>4799280</td>\n",
              "      <td>1</td>\n",
              "      <td>3.946111</td>\n",
              "      <td>3.939520</td>\n",
              "      <td>3.954750</td>\n",
              "    </tr>\n",
              "  </tbody>\n",
              "</table>\n",
              "</div>"
            ],
            "text/plain": [
              "   particle_id  in-halo  ...  den_contrast for 13.0  den_contrast for 13.6\n",
              "0      6734555        0  ...               3.921313               3.950924\n",
              "1     12718733        1  ...               3.926491               3.951023\n",
              "2      6470459        1  ...               3.967968               3.985460\n",
              "3     12098249        1  ...               3.923020               3.950924\n",
              "4      4799280        1  ...               3.939520               3.954750\n",
              "\n",
              "[5 rows x 5 columns]"
            ]
          },
          "metadata": {},
          "execution_count": 18
        }
      ]
    },
    {
      "cell_type": "code",
      "metadata": {
        "id": "APst9mf55-2j"
      },
      "source": [
        "sample_density.to_csv('/content/drive/MyDrive/sample_density_hunthou.csv', index=False)"
      ],
      "execution_count": null,
      "outputs": []
    },
    {
      "cell_type": "code",
      "metadata": {
        "id": "Z1TYX3q_zYN0",
        "colab": {
          "base_uri": "https://localhost:8080/"
        },
        "outputId": "59b326f1-2874-461c-d1f2-1b0e8845ff12"
      },
      "source": [
        "rho_bar = len(df) / (159.8**3)\n",
        "sample_density.iloc[:,2:] -= rho_bar\n",
        "sample_density.iloc[:,2:] /= rho_bar\n",
        "print(sample_density)"
      ],
      "execution_count": null,
      "outputs": [
        {
          "output_type": "stream",
          "name": "stdout",
          "text": [
            "       particle_id  in-halo  ...  den_contrast for 13.0  den_contrast for 13.6\n",
            "0          6734555        0  ...              -0.046234              -0.039032\n",
            "1         12718733        1  ...              -0.044974              -0.039007\n",
            "2          6470459        1  ...              -0.034886              -0.030631\n",
            "3         12098249        1  ...              -0.045819              -0.039032\n",
            "4          4799280        1  ...              -0.041805              -0.038101\n",
            "...            ...      ...  ...                    ...                    ...\n",
            "99995     13941529        0  ...              -0.046026              -0.039032\n",
            "99996     10307225        1  ...              -0.045736              -0.039032\n",
            "99997      5916846        0  ...              -0.046206              -0.039032\n",
            "99998     13686590        0  ...              -0.044061              -0.038705\n",
            "99999      9026520        0  ...              -0.045583              -0.039032\n",
            "\n",
            "[100000 rows x 5 columns]\n"
          ]
        }
      ]
    },
    {
      "cell_type": "code",
      "metadata": {
        "id": "_fB5tSzn7On1"
      },
      "source": [
        "sample_density.to_csv('/content/drive/MyDrive/density_contrast_hunthou.csv', index=False)"
      ],
      "execution_count": null,
      "outputs": []
    },
    {
      "cell_type": "markdown",
      "metadata": {
        "id": "rzsN5sWNz_ZM"
      },
      "source": [
        "The above gives the physical properties that we were looking for, namely the density contrasts for each particle encompassed by boxes of different sizes."
      ]
    }
  ]
}