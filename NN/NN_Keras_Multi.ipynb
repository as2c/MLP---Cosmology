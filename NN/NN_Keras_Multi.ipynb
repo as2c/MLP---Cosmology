{
  "cells": [
    {
      "cell_type": "markdown",
      "metadata": {
        "id": "view-in-github",
        "colab_type": "text"
      },
      "source": [
        "<a href=\"https://colab.research.google.com/github/as2c/MLP---Cosmology/blob/main/NN/NN_Keras_Multi.ipynb\" target=\"_parent\"><img src=\"https://colab.research.google.com/assets/colab-badge.svg\" alt=\"Open In Colab\"/></a>"
      ]
    },
    {
      "cell_type": "markdown",
      "metadata": {
        "id": "jwLDDwkEvixQ"
      },
      "source": [
        "In this code, our objective is to train some neural network models on our test data."
      ]
    },
    {
      "cell_type": "markdown",
      "metadata": {
        "id": "U4iafM7UvixV"
      },
      "source": [
        "### Import required libraries"
      ]
    },
    {
      "cell_type": "code",
      "execution_count": 1,
      "metadata": {
        "colab": {
          "base_uri": "https://localhost:8080/"
        },
        "id": "Mx7soy-MvixW",
        "outputId": "880bb214-2e88-40c3-efc6-52bd928b50b8"
      },
      "outputs": [
        {
          "output_type": "stream",
          "name": "stdout",
          "text": [
            "Created `%t` as an alias for `%timeit`.\n",
            "Created `%%t` as an alias for `%%timeit`.\n"
          ]
        }
      ],
      "source": [
        "import pandas as pd\n",
        "import numpy as np\n",
        "import matplotlib.pyplot as plt\n",
        "import matplotlib.cm as cm\n",
        "from sklearn.utils import shuffle\n",
        "from sklearn.model_selection import train_test_split\n",
        "from sklearn.metrics import confusion_matrix, plot_confusion_matrix\n",
        "import timeit\n",
        "import time\n",
        "%alias_magic t timeit\n",
        "\n",
        "plt.style.use('seaborn-talk')\n",
        "\n",
        "from matplotlib import rcParams\n",
        "\n",
        "# import warnings filter\n",
        "from warnings import simplefilter \n",
        "# ignore all future warnings\n",
        "simplefilter(action='ignore', category=FutureWarning)"
      ]
    },
    {
      "cell_type": "code",
      "source": [
        "SMALL_SIZE = 10\n",
        "MEDIUM_SIZE = 15\n",
        "BIGGER_SIZE = 18\n",
        "plt.rc('figure', figsize=(10,6))\n",
        "plt.rc('font', size=BIGGER_SIZE)          # controls default text sizes\n",
        "plt.rc('axes', titlesize=MEDIUM_SIZE)     # fontsize of the axes title\n",
        "plt.rc('axes', labelsize=MEDIUM_SIZE)     # fontsize of the x and y labels\n",
        "plt.rc('xtick', labelsize=SMALL_SIZE)     # fontsize of the tick labels\n",
        "plt.rc('ytick', labelsize=SMALL_SIZE)     # fontsize of the tick labels\n",
        "plt.rc('legend', fontsize=MEDIUM_SIZE)    # legend fontsize\n",
        "plt.rc('figure', titlesize=BIGGER_SIZE)   # fontsize of the figure title"
      ],
      "metadata": {
        "id": "4g7hVwbSqT0x"
      },
      "execution_count": 2,
      "outputs": []
    },
    {
      "cell_type": "markdown",
      "metadata": {
        "id": "3v_SxfiDvixY"
      },
      "source": [
        "# Import phase I data"
      ]
    },
    {
      "cell_type": "code",
      "execution_count": 20,
      "metadata": {
        "colab": {
          "base_uri": "https://localhost:8080/"
        },
        "id": "KkpZu5J4wA7g",
        "outputId": "556d54be-de72-4b03-b59e-e795eecf5e55"
      },
      "outputs": [
        {
          "output_type": "stream",
          "name": "stdout",
          "text": [
            "Drive already mounted at /content/drive; to attempt to forcibly remount, call drive.mount(\"/content/drive\", force_remount=True).\n"
          ]
        }
      ],
      "source": [
        "from google.colab import drive\n",
        "drive.mount('/content/drive')"
      ]
    },
    {
      "cell_type": "markdown",
      "source": [
        "### Gadget 2 Data / with Neutrino"
      ],
      "metadata": {
        "id": "xVLNS5KyItAF"
      }
    },
    {
      "cell_type": "code",
      "execution_count": 21,
      "metadata": {
        "colab": {
          "base_uri": "https://localhost:8080/",
          "height": 505
        },
        "id": "KMXNEVc_vixY",
        "outputId": "3b174216-62a3-4c18-c21d-931da13eb25e"
      },
      "outputs": [
        {
          "output_type": "execute_result",
          "data": {
            "text/html": [
              "\n",
              "  <div id=\"df-aa17d498-5824-4cad-a090-1ad8839d06d2\">\n",
              "    <div class=\"colab-df-container\">\n",
              "      <div>\n",
              "<style scoped>\n",
              "    .dataframe tbody tr th:only-of-type {\n",
              "        vertical-align: middle;\n",
              "    }\n",
              "\n",
              "    .dataframe tbody tr th {\n",
              "        vertical-align: top;\n",
              "    }\n",
              "\n",
              "    .dataframe thead th {\n",
              "        text-align: right;\n",
              "    }\n",
              "</style>\n",
              "<table border=\"1\" class=\"dataframe\">\n",
              "  <thead>\n",
              "    <tr style=\"text-align: right;\">\n",
              "      <th></th>\n",
              "      <th>id</th>\n",
              "      <th>haloID</th>\n",
              "      <th>halo_mass</th>\n",
              "      <th>vx</th>\n",
              "      <th>vy</th>\n",
              "      <th>vz</th>\n",
              "      <th>dc for 4.9</th>\n",
              "      <th>dc for 6.8</th>\n",
              "      <th>dc for 8.7</th>\n",
              "      <th>dc for 10.6</th>\n",
              "      <th>dc for 12.4</th>\n",
              "      <th>dc for 14.3</th>\n",
              "      <th>dc for 16.2</th>\n",
              "      <th>dc for 18.1</th>\n",
              "      <th>dc for 20.0</th>\n",
              "      <th>in_halo</th>\n",
              "    </tr>\n",
              "  </thead>\n",
              "  <tbody>\n",
              "    <tr>\n",
              "      <th>0</th>\n",
              "      <td>10156552</td>\n",
              "      <td>755</td>\n",
              "      <td>2280.0</td>\n",
              "      <td>171.21194</td>\n",
              "      <td>220.56293</td>\n",
              "      <td>-274.228700</td>\n",
              "      <td>-0.084922</td>\n",
              "      <td>-0.052028</td>\n",
              "      <td>-0.042415</td>\n",
              "      <td>-0.028087</td>\n",
              "      <td>-0.024984</td>\n",
              "      <td>-0.018675</td>\n",
              "      <td>-0.016231</td>\n",
              "      <td>-0.011940</td>\n",
              "      <td>-0.010111</td>\n",
              "      <td>1</td>\n",
              "    </tr>\n",
              "    <tr>\n",
              "      <th>1</th>\n",
              "      <td>11068486</td>\n",
              "      <td>85</td>\n",
              "      <td>1539.0</td>\n",
              "      <td>-129.84116</td>\n",
              "      <td>92.60424</td>\n",
              "      <td>212.125500</td>\n",
              "      <td>-0.127820</td>\n",
              "      <td>-0.081099</td>\n",
              "      <td>-0.051217</td>\n",
              "      <td>-0.028345</td>\n",
              "      <td>-0.013751</td>\n",
              "      <td>-0.013991</td>\n",
              "      <td>-0.012344</td>\n",
              "      <td>-0.011500</td>\n",
              "      <td>-0.012220</td>\n",
              "      <td>0</td>\n",
              "    </tr>\n",
              "    <tr>\n",
              "      <th>2</th>\n",
              "      <td>9530036</td>\n",
              "      <td>654</td>\n",
              "      <td>1944.0</td>\n",
              "      <td>-290.99210</td>\n",
              "      <td>-885.49430</td>\n",
              "      <td>468.255040</td>\n",
              "      <td>-0.078978</td>\n",
              "      <td>-0.052806</td>\n",
              "      <td>-0.030027</td>\n",
              "      <td>-0.011704</td>\n",
              "      <td>0.001295</td>\n",
              "      <td>0.003803</td>\n",
              "      <td>0.005131</td>\n",
              "      <td>0.005231</td>\n",
              "      <td>0.003787</td>\n",
              "      <td>1</td>\n",
              "    </tr>\n",
              "    <tr>\n",
              "      <th>3</th>\n",
              "      <td>11455022</td>\n",
              "      <td>752</td>\n",
              "      <td>1394.0</td>\n",
              "      <td>-60.35258</td>\n",
              "      <td>422.43716</td>\n",
              "      <td>79.394300</td>\n",
              "      <td>-0.109989</td>\n",
              "      <td>-0.079155</td>\n",
              "      <td>-0.054663</td>\n",
              "      <td>-0.037685</td>\n",
              "      <td>-0.026670</td>\n",
              "      <td>-0.017901</td>\n",
              "      <td>-0.009227</td>\n",
              "      <td>-0.000868</td>\n",
              "      <td>0.001568</td>\n",
              "      <td>0</td>\n",
              "    </tr>\n",
              "    <tr>\n",
              "      <th>4</th>\n",
              "      <td>8591034</td>\n",
              "      <td>356</td>\n",
              "      <td>1649.0</td>\n",
              "      <td>403.66608</td>\n",
              "      <td>345.88077</td>\n",
              "      <td>9.231552</td>\n",
              "      <td>-0.084405</td>\n",
              "      <td>-0.019068</td>\n",
              "      <td>-0.009396</td>\n",
              "      <td>-0.001539</td>\n",
              "      <td>0.002288</td>\n",
              "      <td>0.005629</td>\n",
              "      <td>0.011288</td>\n",
              "      <td>0.013111</td>\n",
              "      <td>0.013433</td>\n",
              "      <td>1</td>\n",
              "    </tr>\n",
              "    <tr>\n",
              "      <th>...</th>\n",
              "      <td>...</td>\n",
              "      <td>...</td>\n",
              "      <td>...</td>\n",
              "      <td>...</td>\n",
              "      <td>...</td>\n",
              "      <td>...</td>\n",
              "      <td>...</td>\n",
              "      <td>...</td>\n",
              "      <td>...</td>\n",
              "      <td>...</td>\n",
              "      <td>...</td>\n",
              "      <td>...</td>\n",
              "      <td>...</td>\n",
              "      <td>...</td>\n",
              "      <td>...</td>\n",
              "      <td>...</td>\n",
              "    </tr>\n",
              "    <tr>\n",
              "      <th>99995</th>\n",
              "      <td>2160800</td>\n",
              "      <td>451</td>\n",
              "      <td>2634.0</td>\n",
              "      <td>654.82430</td>\n",
              "      <td>210.78130</td>\n",
              "      <td>255.344150</td>\n",
              "      <td>-0.094225</td>\n",
              "      <td>-0.076043</td>\n",
              "      <td>-0.060624</td>\n",
              "      <td>-0.040368</td>\n",
              "      <td>-0.020840</td>\n",
              "      <td>-0.016261</td>\n",
              "      <td>-0.011803</td>\n",
              "      <td>-0.005002</td>\n",
              "      <td>0.000918</td>\n",
              "      <td>1</td>\n",
              "    </tr>\n",
              "    <tr>\n",
              "      <th>99996</th>\n",
              "      <td>3257728</td>\n",
              "      <td>43</td>\n",
              "      <td>1112.0</td>\n",
              "      <td>-154.27774</td>\n",
              "      <td>488.65564</td>\n",
              "      <td>-779.558400</td>\n",
              "      <td>-0.127045</td>\n",
              "      <td>-0.076529</td>\n",
              "      <td>-0.056246</td>\n",
              "      <td>-0.038201</td>\n",
              "      <td>-0.027520</td>\n",
              "      <td>-0.016374</td>\n",
              "      <td>-0.008045</td>\n",
              "      <td>0.002627</td>\n",
              "      <td>0.006124</td>\n",
              "      <td>0</td>\n",
              "    </tr>\n",
              "    <tr>\n",
              "      <th>99997</th>\n",
              "      <td>6101605</td>\n",
              "      <td>484</td>\n",
              "      <td>1198.0</td>\n",
              "      <td>-113.51735</td>\n",
              "      <td>68.44336</td>\n",
              "      <td>275.964000</td>\n",
              "      <td>-0.122135</td>\n",
              "      <td>-0.091794</td>\n",
              "      <td>-0.063465</td>\n",
              "      <td>-0.032060</td>\n",
              "      <td>-0.017973</td>\n",
              "      <td>-0.016684</td>\n",
              "      <td>-0.017740</td>\n",
              "      <td>-0.017154</td>\n",
              "      <td>-0.012600</td>\n",
              "      <td>0</td>\n",
              "    </tr>\n",
              "    <tr>\n",
              "      <th>99998</th>\n",
              "      <td>4576456</td>\n",
              "      <td>44</td>\n",
              "      <td>1058.0</td>\n",
              "      <td>-130.21120</td>\n",
              "      <td>292.63483</td>\n",
              "      <td>-754.563000</td>\n",
              "      <td>-0.097585</td>\n",
              "      <td>-0.076140</td>\n",
              "      <td>-0.061788</td>\n",
              "      <td>-0.054584</td>\n",
              "      <td>-0.043055</td>\n",
              "      <td>-0.032415</td>\n",
              "      <td>-0.021591</td>\n",
              "      <td>-0.007463</td>\n",
              "      <td>0.004673</td>\n",
              "      <td>0</td>\n",
              "    </tr>\n",
              "    <tr>\n",
              "      <th>99999</th>\n",
              "      <td>13755625</td>\n",
              "      <td>374</td>\n",
              "      <td>3436.0</td>\n",
              "      <td>-403.48090</td>\n",
              "      <td>360.35940</td>\n",
              "      <td>341.696500</td>\n",
              "      <td>-0.107922</td>\n",
              "      <td>-0.042597</td>\n",
              "      <td>-0.005298</td>\n",
              "      <td>0.006846</td>\n",
              "      <td>0.011993</td>\n",
              "      <td>0.019019</td>\n",
              "      <td>0.014505</td>\n",
              "      <td>0.013776</td>\n",
              "      <td>0.014595</td>\n",
              "      <td>1</td>\n",
              "    </tr>\n",
              "  </tbody>\n",
              "</table>\n",
              "<p>100000 rows × 16 columns</p>\n",
              "</div>\n",
              "      <button class=\"colab-df-convert\" onclick=\"convertToInteractive('df-aa17d498-5824-4cad-a090-1ad8839d06d2')\"\n",
              "              title=\"Convert this dataframe to an interactive table.\"\n",
              "              style=\"display:none;\">\n",
              "        \n",
              "  <svg xmlns=\"http://www.w3.org/2000/svg\" height=\"24px\"viewBox=\"0 0 24 24\"\n",
              "       width=\"24px\">\n",
              "    <path d=\"M0 0h24v24H0V0z\" fill=\"none\"/>\n",
              "    <path d=\"M18.56 5.44l.94 2.06.94-2.06 2.06-.94-2.06-.94-.94-2.06-.94 2.06-2.06.94zm-11 1L8.5 8.5l.94-2.06 2.06-.94-2.06-.94L8.5 2.5l-.94 2.06-2.06.94zm10 10l.94 2.06.94-2.06 2.06-.94-2.06-.94-.94-2.06-.94 2.06-2.06.94z\"/><path d=\"M17.41 7.96l-1.37-1.37c-.4-.4-.92-.59-1.43-.59-.52 0-1.04.2-1.43.59L10.3 9.45l-7.72 7.72c-.78.78-.78 2.05 0 2.83L4 21.41c.39.39.9.59 1.41.59.51 0 1.02-.2 1.41-.59l7.78-7.78 2.81-2.81c.8-.78.8-2.07 0-2.86zM5.41 20L4 18.59l7.72-7.72 1.47 1.35L5.41 20z\"/>\n",
              "  </svg>\n",
              "      </button>\n",
              "      \n",
              "  <style>\n",
              "    .colab-df-container {\n",
              "      display:flex;\n",
              "      flex-wrap:wrap;\n",
              "      gap: 12px;\n",
              "    }\n",
              "\n",
              "    .colab-df-convert {\n",
              "      background-color: #E8F0FE;\n",
              "      border: none;\n",
              "      border-radius: 50%;\n",
              "      cursor: pointer;\n",
              "      display: none;\n",
              "      fill: #1967D2;\n",
              "      height: 32px;\n",
              "      padding: 0 0 0 0;\n",
              "      width: 32px;\n",
              "    }\n",
              "\n",
              "    .colab-df-convert:hover {\n",
              "      background-color: #E2EBFA;\n",
              "      box-shadow: 0px 1px 2px rgba(60, 64, 67, 0.3), 0px 1px 3px 1px rgba(60, 64, 67, 0.15);\n",
              "      fill: #174EA6;\n",
              "    }\n",
              "\n",
              "    [theme=dark] .colab-df-convert {\n",
              "      background-color: #3B4455;\n",
              "      fill: #D2E3FC;\n",
              "    }\n",
              "\n",
              "    [theme=dark] .colab-df-convert:hover {\n",
              "      background-color: #434B5C;\n",
              "      box-shadow: 0px 1px 3px 1px rgba(0, 0, 0, 0.15);\n",
              "      filter: drop-shadow(0px 1px 2px rgba(0, 0, 0, 0.3));\n",
              "      fill: #FFFFFF;\n",
              "    }\n",
              "  </style>\n",
              "\n",
              "      <script>\n",
              "        const buttonEl =\n",
              "          document.querySelector('#df-aa17d498-5824-4cad-a090-1ad8839d06d2 button.colab-df-convert');\n",
              "        buttonEl.style.display =\n",
              "          google.colab.kernel.accessAllowed ? 'block' : 'none';\n",
              "\n",
              "        async function convertToInteractive(key) {\n",
              "          const element = document.querySelector('#df-aa17d498-5824-4cad-a090-1ad8839d06d2');\n",
              "          const dataTable =\n",
              "            await google.colab.kernel.invokeFunction('convertToInteractive',\n",
              "                                                     [key], {});\n",
              "          if (!dataTable) return;\n",
              "\n",
              "          const docLinkHtml = 'Like what you see? Visit the ' +\n",
              "            '<a target=\"_blank\" href=https://colab.research.google.com/notebooks/data_table.ipynb>data table notebook</a>'\n",
              "            + ' to learn more about interactive tables.';\n",
              "          element.innerHTML = '';\n",
              "          dataTable['output_type'] = 'display_data';\n",
              "          await google.colab.output.renderOutput(dataTable, element);\n",
              "          const docLink = document.createElement('div');\n",
              "          docLink.innerHTML = docLinkHtml;\n",
              "          element.appendChild(docLink);\n",
              "        }\n",
              "      </script>\n",
              "    </div>\n",
              "  </div>\n",
              "  "
            ],
            "text/plain": [
              "             id  haloID  halo_mass  ...  dc for 18.1  dc for 20.0  in_halo\n",
              "0      10156552     755     2280.0  ...    -0.011940    -0.010111        1\n",
              "1      11068486      85     1539.0  ...    -0.011500    -0.012220        0\n",
              "2       9530036     654     1944.0  ...     0.005231     0.003787        1\n",
              "3      11455022     752     1394.0  ...    -0.000868     0.001568        0\n",
              "4       8591034     356     1649.0  ...     0.013111     0.013433        1\n",
              "...         ...     ...        ...  ...          ...          ...      ...\n",
              "99995   2160800     451     2634.0  ...    -0.005002     0.000918        1\n",
              "99996   3257728      43     1112.0  ...     0.002627     0.006124        0\n",
              "99997   6101605     484     1198.0  ...    -0.017154    -0.012600        0\n",
              "99998   4576456      44     1058.0  ...    -0.007463     0.004673        0\n",
              "99999  13755625     374     3436.0  ...     0.013776     0.014595        1\n",
              "\n",
              "[100000 rows x 16 columns]"
            ]
          },
          "metadata": {},
          "execution_count": 21
        }
      ],
      "source": [
        "data = pd.read_csv(r'/content/drive/MyDrive/denc_Neutrino')\n",
        "# data['in_halo'] = (data['haloID']>0).astype('int')\n",
        "data['in_halo'] = (data['halo_mass']>1600).astype('int32')\n",
        "data"
      ]
    },
    {
      "cell_type": "code",
      "source": [
        "data.describe()"
      ],
      "metadata": {
        "colab": {
          "base_uri": "https://localhost:8080/",
          "height": 364
        },
        "id": "6IjgmnwZGeBF",
        "outputId": "49fb119b-0661-4df7-af02-40c742bb7912"
      },
      "execution_count": 22,
      "outputs": [
        {
          "output_type": "execute_result",
          "data": {
            "text/html": [
              "\n",
              "  <div id=\"df-fa247613-de3a-4af0-8256-fba503392f57\">\n",
              "    <div class=\"colab-df-container\">\n",
              "      <div>\n",
              "<style scoped>\n",
              "    .dataframe tbody tr th:only-of-type {\n",
              "        vertical-align: middle;\n",
              "    }\n",
              "\n",
              "    .dataframe tbody tr th {\n",
              "        vertical-align: top;\n",
              "    }\n",
              "\n",
              "    .dataframe thead th {\n",
              "        text-align: right;\n",
              "    }\n",
              "</style>\n",
              "<table border=\"1\" class=\"dataframe\">\n",
              "  <thead>\n",
              "    <tr style=\"text-align: right;\">\n",
              "      <th></th>\n",
              "      <th>id</th>\n",
              "      <th>haloID</th>\n",
              "      <th>halo_mass</th>\n",
              "      <th>vx</th>\n",
              "      <th>vy</th>\n",
              "      <th>vz</th>\n",
              "      <th>dc for 4.9</th>\n",
              "      <th>dc for 6.8</th>\n",
              "      <th>dc for 8.7</th>\n",
              "      <th>dc for 10.6</th>\n",
              "      <th>dc for 12.4</th>\n",
              "      <th>dc for 14.3</th>\n",
              "      <th>dc for 16.2</th>\n",
              "      <th>dc for 18.1</th>\n",
              "      <th>dc for 20.0</th>\n",
              "      <th>in_halo</th>\n",
              "    </tr>\n",
              "  </thead>\n",
              "  <tbody>\n",
              "    <tr>\n",
              "      <th>count</th>\n",
              "      <td>1.000000e+05</td>\n",
              "      <td>100000.000000</td>\n",
              "      <td>100000.000000</td>\n",
              "      <td>100000.000000</td>\n",
              "      <td>100000.000000</td>\n",
              "      <td>100000.000000</td>\n",
              "      <td>100000.000000</td>\n",
              "      <td>100000.000000</td>\n",
              "      <td>100000.000000</td>\n",
              "      <td>100000.000000</td>\n",
              "      <td>100000.000000</td>\n",
              "      <td>100000.000000</td>\n",
              "      <td>100000.000000</td>\n",
              "      <td>100000.000000</td>\n",
              "      <td>100000.000000</td>\n",
              "      <td>100000.000000</td>\n",
              "    </tr>\n",
              "    <tr>\n",
              "      <th>mean</th>\n",
              "      <td>8.716004e+06</td>\n",
              "      <td>424.627710</td>\n",
              "      <td>2369.299450</td>\n",
              "      <td>35.207601</td>\n",
              "      <td>-13.728656</td>\n",
              "      <td>97.821939</td>\n",
              "      <td>-0.107338</td>\n",
              "      <td>-0.062074</td>\n",
              "      <td>-0.038666</td>\n",
              "      <td>-0.025951</td>\n",
              "      <td>-0.017900</td>\n",
              "      <td>-0.011968</td>\n",
              "      <td>-0.007224</td>\n",
              "      <td>-0.003341</td>\n",
              "      <td>-0.000224</td>\n",
              "      <td>0.557930</td>\n",
              "    </tr>\n",
              "    <tr>\n",
              "      <th>std</th>\n",
              "      <td>3.549230e+06</td>\n",
              "      <td>230.962533</td>\n",
              "      <td>1856.527585</td>\n",
              "      <td>364.820655</td>\n",
              "      <td>369.919751</td>\n",
              "      <td>373.578625</td>\n",
              "      <td>0.020301</td>\n",
              "      <td>0.020965</td>\n",
              "      <td>0.019921</td>\n",
              "      <td>0.018106</td>\n",
              "      <td>0.015956</td>\n",
              "      <td>0.013969</td>\n",
              "      <td>0.012346</td>\n",
              "      <td>0.011069</td>\n",
              "      <td>0.010084</td>\n",
              "      <td>0.496635</td>\n",
              "    </tr>\n",
              "    <tr>\n",
              "      <th>min</th>\n",
              "      <td>2.131444e+06</td>\n",
              "      <td>16.000000</td>\n",
              "      <td>241.000000</td>\n",
              "      <td>-1247.932500</td>\n",
              "      <td>-1462.806300</td>\n",
              "      <td>-1250.519700</td>\n",
              "      <td>-0.127820</td>\n",
              "      <td>-0.099572</td>\n",
              "      <td>-0.083351</td>\n",
              "      <td>-0.072824</td>\n",
              "      <td>-0.065316</td>\n",
              "      <td>-0.058751</td>\n",
              "      <td>-0.050519</td>\n",
              "      <td>-0.043771</td>\n",
              "      <td>-0.038371</td>\n",
              "      <td>0.000000</td>\n",
              "    </tr>\n",
              "    <tr>\n",
              "      <th>25%</th>\n",
              "      <td>5.953820e+06</td>\n",
              "      <td>238.000000</td>\n",
              "      <td>1194.000000</td>\n",
              "      <td>-226.284345</td>\n",
              "      <td>-254.656135</td>\n",
              "      <td>-145.829085</td>\n",
              "      <td>-0.124202</td>\n",
              "      <td>-0.077891</td>\n",
              "      <td>-0.052474</td>\n",
              "      <td>-0.038510</td>\n",
              "      <td>-0.028860</td>\n",
              "      <td>-0.021233</td>\n",
              "      <td>-0.015384</td>\n",
              "      <td>-0.010712</td>\n",
              "      <td>-0.006964</td>\n",
              "      <td>0.000000</td>\n",
              "    </tr>\n",
              "    <tr>\n",
              "      <th>50%</th>\n",
              "      <td>9.043250e+06</td>\n",
              "      <td>418.000000</td>\n",
              "      <td>1791.000000</td>\n",
              "      <td>32.857450</td>\n",
              "      <td>-4.815737</td>\n",
              "      <td>101.883413</td>\n",
              "      <td>-0.113607</td>\n",
              "      <td>-0.063404</td>\n",
              "      <td>-0.039434</td>\n",
              "      <td>-0.026100</td>\n",
              "      <td>-0.017784</td>\n",
              "      <td>-0.011980</td>\n",
              "      <td>-0.007369</td>\n",
              "      <td>-0.003743</td>\n",
              "      <td>-0.000713</td>\n",
              "      <td>1.000000</td>\n",
              "    </tr>\n",
              "    <tr>\n",
              "      <th>75%</th>\n",
              "      <td>1.176120e+07</td>\n",
              "      <td>619.000000</td>\n",
              "      <td>2945.000000</td>\n",
              "      <td>284.168098</td>\n",
              "      <td>238.543252</td>\n",
              "      <td>350.062135</td>\n",
              "      <td>-0.095776</td>\n",
              "      <td>-0.048722</td>\n",
              "      <td>-0.025370</td>\n",
              "      <td>-0.013587</td>\n",
              "      <td>-0.006677</td>\n",
              "      <td>-0.002087</td>\n",
              "      <td>0.001081</td>\n",
              "      <td>0.004249</td>\n",
              "      <td>0.006694</td>\n",
              "      <td>1.000000</td>\n",
              "    </tr>\n",
              "    <tr>\n",
              "      <th>max</th>\n",
              "      <td>1.464652e+07</td>\n",
              "      <td>870.000000</td>\n",
              "      <td>10101.000000</td>\n",
              "      <td>1314.092800</td>\n",
              "      <td>1256.822900</td>\n",
              "      <td>1355.984900</td>\n",
              "      <td>0.017155</td>\n",
              "      <td>0.032463</td>\n",
              "      <td>0.044346</td>\n",
              "      <td>0.040490</td>\n",
              "      <td>0.042179</td>\n",
              "      <td>0.036009</td>\n",
              "      <td>0.033482</td>\n",
              "      <td>0.034145</td>\n",
              "      <td>0.032602</td>\n",
              "      <td>1.000000</td>\n",
              "    </tr>\n",
              "  </tbody>\n",
              "</table>\n",
              "</div>\n",
              "      <button class=\"colab-df-convert\" onclick=\"convertToInteractive('df-fa247613-de3a-4af0-8256-fba503392f57')\"\n",
              "              title=\"Convert this dataframe to an interactive table.\"\n",
              "              style=\"display:none;\">\n",
              "        \n",
              "  <svg xmlns=\"http://www.w3.org/2000/svg\" height=\"24px\"viewBox=\"0 0 24 24\"\n",
              "       width=\"24px\">\n",
              "    <path d=\"M0 0h24v24H0V0z\" fill=\"none\"/>\n",
              "    <path d=\"M18.56 5.44l.94 2.06.94-2.06 2.06-.94-2.06-.94-.94-2.06-.94 2.06-2.06.94zm-11 1L8.5 8.5l.94-2.06 2.06-.94-2.06-.94L8.5 2.5l-.94 2.06-2.06.94zm10 10l.94 2.06.94-2.06 2.06-.94-2.06-.94-.94-2.06-.94 2.06-2.06.94z\"/><path d=\"M17.41 7.96l-1.37-1.37c-.4-.4-.92-.59-1.43-.59-.52 0-1.04.2-1.43.59L10.3 9.45l-7.72 7.72c-.78.78-.78 2.05 0 2.83L4 21.41c.39.39.9.59 1.41.59.51 0 1.02-.2 1.41-.59l7.78-7.78 2.81-2.81c.8-.78.8-2.07 0-2.86zM5.41 20L4 18.59l7.72-7.72 1.47 1.35L5.41 20z\"/>\n",
              "  </svg>\n",
              "      </button>\n",
              "      \n",
              "  <style>\n",
              "    .colab-df-container {\n",
              "      display:flex;\n",
              "      flex-wrap:wrap;\n",
              "      gap: 12px;\n",
              "    }\n",
              "\n",
              "    .colab-df-convert {\n",
              "      background-color: #E8F0FE;\n",
              "      border: none;\n",
              "      border-radius: 50%;\n",
              "      cursor: pointer;\n",
              "      display: none;\n",
              "      fill: #1967D2;\n",
              "      height: 32px;\n",
              "      padding: 0 0 0 0;\n",
              "      width: 32px;\n",
              "    }\n",
              "\n",
              "    .colab-df-convert:hover {\n",
              "      background-color: #E2EBFA;\n",
              "      box-shadow: 0px 1px 2px rgba(60, 64, 67, 0.3), 0px 1px 3px 1px rgba(60, 64, 67, 0.15);\n",
              "      fill: #174EA6;\n",
              "    }\n",
              "\n",
              "    [theme=dark] .colab-df-convert {\n",
              "      background-color: #3B4455;\n",
              "      fill: #D2E3FC;\n",
              "    }\n",
              "\n",
              "    [theme=dark] .colab-df-convert:hover {\n",
              "      background-color: #434B5C;\n",
              "      box-shadow: 0px 1px 3px 1px rgba(0, 0, 0, 0.15);\n",
              "      filter: drop-shadow(0px 1px 2px rgba(0, 0, 0, 0.3));\n",
              "      fill: #FFFFFF;\n",
              "    }\n",
              "  </style>\n",
              "\n",
              "      <script>\n",
              "        const buttonEl =\n",
              "          document.querySelector('#df-fa247613-de3a-4af0-8256-fba503392f57 button.colab-df-convert');\n",
              "        buttonEl.style.display =\n",
              "          google.colab.kernel.accessAllowed ? 'block' : 'none';\n",
              "\n",
              "        async function convertToInteractive(key) {\n",
              "          const element = document.querySelector('#df-fa247613-de3a-4af0-8256-fba503392f57');\n",
              "          const dataTable =\n",
              "            await google.colab.kernel.invokeFunction('convertToInteractive',\n",
              "                                                     [key], {});\n",
              "          if (!dataTable) return;\n",
              "\n",
              "          const docLinkHtml = 'Like what you see? Visit the ' +\n",
              "            '<a target=\"_blank\" href=https://colab.research.google.com/notebooks/data_table.ipynb>data table notebook</a>'\n",
              "            + ' to learn more about interactive tables.';\n",
              "          element.innerHTML = '';\n",
              "          dataTable['output_type'] = 'display_data';\n",
              "          await google.colab.output.renderOutput(dataTable, element);\n",
              "          const docLink = document.createElement('div');\n",
              "          docLink.innerHTML = docLinkHtml;\n",
              "          element.appendChild(docLink);\n",
              "        }\n",
              "      </script>\n",
              "    </div>\n",
              "  </div>\n",
              "  "
            ],
            "text/plain": [
              "                 id         haloID  ...    dc for 20.0        in_halo\n",
              "count  1.000000e+05  100000.000000  ...  100000.000000  100000.000000\n",
              "mean   8.716004e+06     424.627710  ...      -0.000224       0.557930\n",
              "std    3.549230e+06     230.962533  ...       0.010084       0.496635\n",
              "min    2.131444e+06      16.000000  ...      -0.038371       0.000000\n",
              "25%    5.953820e+06     238.000000  ...      -0.006964       0.000000\n",
              "50%    9.043250e+06     418.000000  ...      -0.000713       1.000000\n",
              "75%    1.176120e+07     619.000000  ...       0.006694       1.000000\n",
              "max    1.464652e+07     870.000000  ...       0.032602       1.000000\n",
              "\n",
              "[8 rows x 16 columns]"
            ]
          },
          "metadata": {},
          "execution_count": 22
        }
      ]
    },
    {
      "cell_type": "markdown",
      "source": [
        "### Gadget 2 Data / without Neutrino"
      ],
      "metadata": {
        "id": "oXABFDLNI2qo"
      }
    },
    {
      "cell_type": "code",
      "source": [
        "data_cdm = pd.read_csv(r'/content/drive/MyDrive/denc_CDM')\n",
        "data_cdm['in_halo'] = (data_cdm['halo_mass']>1600).astype('int32')\n",
        "data_cdm"
      ],
      "metadata": {
        "colab": {
          "base_uri": "https://localhost:8080/",
          "height": 505
        },
        "id": "a8TQpPtYI-oz",
        "outputId": "62a81f9d-3b00-4ca9-fdbb-e14a26359120"
      },
      "execution_count": 23,
      "outputs": [
        {
          "output_type": "execute_result",
          "data": {
            "text/html": [
              "\n",
              "  <div id=\"df-cc6a23ba-82c5-4943-ac82-b1c85e6ffe25\">\n",
              "    <div class=\"colab-df-container\">\n",
              "      <div>\n",
              "<style scoped>\n",
              "    .dataframe tbody tr th:only-of-type {\n",
              "        vertical-align: middle;\n",
              "    }\n",
              "\n",
              "    .dataframe tbody tr th {\n",
              "        vertical-align: top;\n",
              "    }\n",
              "\n",
              "    .dataframe thead th {\n",
              "        text-align: right;\n",
              "    }\n",
              "</style>\n",
              "<table border=\"1\" class=\"dataframe\">\n",
              "  <thead>\n",
              "    <tr style=\"text-align: right;\">\n",
              "      <th></th>\n",
              "      <th>id</th>\n",
              "      <th>haloID</th>\n",
              "      <th>halo_mass</th>\n",
              "      <th>vx</th>\n",
              "      <th>vy</th>\n",
              "      <th>vz</th>\n",
              "      <th>dc for 4.9</th>\n",
              "      <th>dc for 6.8</th>\n",
              "      <th>dc for 8.7</th>\n",
              "      <th>dc for 10.6</th>\n",
              "      <th>dc for 12.4</th>\n",
              "      <th>dc for 14.3</th>\n",
              "      <th>dc for 16.2</th>\n",
              "      <th>dc for 18.1</th>\n",
              "      <th>dc for 20.0</th>\n",
              "      <th>in_halo</th>\n",
              "    </tr>\n",
              "  </thead>\n",
              "  <tbody>\n",
              "    <tr>\n",
              "      <th>0</th>\n",
              "      <td>8981131</td>\n",
              "      <td>414</td>\n",
              "      <td>1504.0</td>\n",
              "      <td>252.710050</td>\n",
              "      <td>-464.239500</td>\n",
              "      <td>509.94550</td>\n",
              "      <td>2.817576</td>\n",
              "      <td>2.780794</td>\n",
              "      <td>2.746420</td>\n",
              "      <td>2.446413</td>\n",
              "      <td>2.000415</td>\n",
              "      <td>1.533108</td>\n",
              "      <td>1.083378</td>\n",
              "      <td>0.691070</td>\n",
              "      <td>0.457584</td>\n",
              "      <td>0</td>\n",
              "    </tr>\n",
              "    <tr>\n",
              "      <th>1</th>\n",
              "      <td>9901676</td>\n",
              "      <td>1026</td>\n",
              "      <td>1013.0</td>\n",
              "      <td>-167.701370</td>\n",
              "      <td>499.161740</td>\n",
              "      <td>156.32635</td>\n",
              "      <td>2.690323</td>\n",
              "      <td>2.102417</td>\n",
              "      <td>1.805493</td>\n",
              "      <td>1.485764</td>\n",
              "      <td>1.267945</td>\n",
              "      <td>1.083753</td>\n",
              "      <td>0.849938</td>\n",
              "      <td>0.617267</td>\n",
              "      <td>0.431845</td>\n",
              "      <td>0</td>\n",
              "    </tr>\n",
              "    <tr>\n",
              "      <th>2</th>\n",
              "      <td>8288987</td>\n",
              "      <td>1079</td>\n",
              "      <td>727.0</td>\n",
              "      <td>46.129280</td>\n",
              "      <td>19.954561</td>\n",
              "      <td>164.61870</td>\n",
              "      <td>1.010590</td>\n",
              "      <td>0.821528</td>\n",
              "      <td>0.559744</td>\n",
              "      <td>0.220796</td>\n",
              "      <td>0.003400</td>\n",
              "      <td>-0.094805</td>\n",
              "      <td>-0.074599</td>\n",
              "      <td>0.003315</td>\n",
              "      <td>0.076079</td>\n",
              "      <td>0</td>\n",
              "    </tr>\n",
              "    <tr>\n",
              "      <th>3</th>\n",
              "      <td>4842631</td>\n",
              "      <td>675</td>\n",
              "      <td>1268.0</td>\n",
              "      <td>-234.629320</td>\n",
              "      <td>349.021400</td>\n",
              "      <td>-690.46674</td>\n",
              "      <td>1.889611</td>\n",
              "      <td>1.180236</td>\n",
              "      <td>0.495534</td>\n",
              "      <td>0.064434</td>\n",
              "      <td>-0.232441</td>\n",
              "      <td>-0.389582</td>\n",
              "      <td>-0.407908</td>\n",
              "      <td>-0.334146</td>\n",
              "      <td>-0.231578</td>\n",
              "      <td>0</td>\n",
              "    </tr>\n",
              "    <tr>\n",
              "      <th>4</th>\n",
              "      <td>12884124</td>\n",
              "      <td>437</td>\n",
              "      <td>6128.0</td>\n",
              "      <td>146.780670</td>\n",
              "      <td>-180.209270</td>\n",
              "      <td>-558.39777</td>\n",
              "      <td>2.676619</td>\n",
              "      <td>1.734870</td>\n",
              "      <td>0.906903</td>\n",
              "      <td>0.464721</td>\n",
              "      <td>0.187801</td>\n",
              "      <td>0.057663</td>\n",
              "      <td>0.029529</td>\n",
              "      <td>0.049055</td>\n",
              "      <td>0.101472</td>\n",
              "      <td>1</td>\n",
              "    </tr>\n",
              "    <tr>\n",
              "      <th>...</th>\n",
              "      <td>...</td>\n",
              "      <td>...</td>\n",
              "      <td>...</td>\n",
              "      <td>...</td>\n",
              "      <td>...</td>\n",
              "      <td>...</td>\n",
              "      <td>...</td>\n",
              "      <td>...</td>\n",
              "      <td>...</td>\n",
              "      <td>...</td>\n",
              "      <td>...</td>\n",
              "      <td>...</td>\n",
              "      <td>...</td>\n",
              "      <td>...</td>\n",
              "      <td>...</td>\n",
              "      <td>...</td>\n",
              "    </tr>\n",
              "    <tr>\n",
              "      <th>99995</th>\n",
              "      <td>12466311</td>\n",
              "      <td>1085</td>\n",
              "      <td>5542.0</td>\n",
              "      <td>25.253933</td>\n",
              "      <td>-580.586850</td>\n",
              "      <td>113.06337</td>\n",
              "      <td>1.482403</td>\n",
              "      <td>1.068278</td>\n",
              "      <td>0.857863</td>\n",
              "      <td>0.583947</td>\n",
              "      <td>0.327563</td>\n",
              "      <td>0.212553</td>\n",
              "      <td>0.139374</td>\n",
              "      <td>0.103515</td>\n",
              "      <td>0.090791</td>\n",
              "      <td>1</td>\n",
              "    </tr>\n",
              "    <tr>\n",
              "      <th>99996</th>\n",
              "      <td>11857185</td>\n",
              "      <td>491</td>\n",
              "      <td>691.0</td>\n",
              "      <td>-423.371550</td>\n",
              "      <td>138.109020</td>\n",
              "      <td>-300.80450</td>\n",
              "      <td>-0.209077</td>\n",
              "      <td>-0.534490</td>\n",
              "      <td>-0.724460</td>\n",
              "      <td>-0.749430</td>\n",
              "      <td>-0.743152</td>\n",
              "      <td>-0.663805</td>\n",
              "      <td>-0.511928</td>\n",
              "      <td>-0.347015</td>\n",
              "      <td>-0.253660</td>\n",
              "      <td>0</td>\n",
              "    </tr>\n",
              "    <tr>\n",
              "      <th>99997</th>\n",
              "      <td>9340191</td>\n",
              "      <td>947</td>\n",
              "      <td>868.0</td>\n",
              "      <td>225.385210</td>\n",
              "      <td>-9.085627</td>\n",
              "      <td>318.22006</td>\n",
              "      <td>1.086942</td>\n",
              "      <td>0.492283</td>\n",
              "      <td>0.114506</td>\n",
              "      <td>-0.050883</td>\n",
              "      <td>-0.161068</td>\n",
              "      <td>-0.168421</td>\n",
              "      <td>-0.159639</td>\n",
              "      <td>-0.175261</td>\n",
              "      <td>-0.202931</td>\n",
              "      <td>0</td>\n",
              "    </tr>\n",
              "    <tr>\n",
              "      <th>99998</th>\n",
              "      <td>13317963</td>\n",
              "      <td>1034</td>\n",
              "      <td>1175.0</td>\n",
              "      <td>-55.431606</td>\n",
              "      <td>16.332230</td>\n",
              "      <td>-898.90326</td>\n",
              "      <td>0.339088</td>\n",
              "      <td>-0.085185</td>\n",
              "      <td>-0.248881</td>\n",
              "      <td>-0.328230</td>\n",
              "      <td>-0.343797</td>\n",
              "      <td>-0.306353</td>\n",
              "      <td>-0.275684</td>\n",
              "      <td>-0.282089</td>\n",
              "      <td>-0.284524</td>\n",
              "      <td>0</td>\n",
              "    </tr>\n",
              "    <tr>\n",
              "      <th>99999</th>\n",
              "      <td>5325551</td>\n",
              "      <td>45</td>\n",
              "      <td>818.0</td>\n",
              "      <td>532.078060</td>\n",
              "      <td>372.133540</td>\n",
              "      <td>80.98245</td>\n",
              "      <td>0.448721</td>\n",
              "      <td>0.860566</td>\n",
              "      <td>0.864566</td>\n",
              "      <td>0.717441</td>\n",
              "      <td>0.626662</td>\n",
              "      <td>0.508189</td>\n",
              "      <td>0.307618</td>\n",
              "      <td>0.096964</td>\n",
              "      <td>-0.043834</td>\n",
              "      <td>0</td>\n",
              "    </tr>\n",
              "  </tbody>\n",
              "</table>\n",
              "<p>100000 rows × 16 columns</p>\n",
              "</div>\n",
              "      <button class=\"colab-df-convert\" onclick=\"convertToInteractive('df-cc6a23ba-82c5-4943-ac82-b1c85e6ffe25')\"\n",
              "              title=\"Convert this dataframe to an interactive table.\"\n",
              "              style=\"display:none;\">\n",
              "        \n",
              "  <svg xmlns=\"http://www.w3.org/2000/svg\" height=\"24px\"viewBox=\"0 0 24 24\"\n",
              "       width=\"24px\">\n",
              "    <path d=\"M0 0h24v24H0V0z\" fill=\"none\"/>\n",
              "    <path d=\"M18.56 5.44l.94 2.06.94-2.06 2.06-.94-2.06-.94-.94-2.06-.94 2.06-2.06.94zm-11 1L8.5 8.5l.94-2.06 2.06-.94-2.06-.94L8.5 2.5l-.94 2.06-2.06.94zm10 10l.94 2.06.94-2.06 2.06-.94-2.06-.94-.94-2.06-.94 2.06-2.06.94z\"/><path d=\"M17.41 7.96l-1.37-1.37c-.4-.4-.92-.59-1.43-.59-.52 0-1.04.2-1.43.59L10.3 9.45l-7.72 7.72c-.78.78-.78 2.05 0 2.83L4 21.41c.39.39.9.59 1.41.59.51 0 1.02-.2 1.41-.59l7.78-7.78 2.81-2.81c.8-.78.8-2.07 0-2.86zM5.41 20L4 18.59l7.72-7.72 1.47 1.35L5.41 20z\"/>\n",
              "  </svg>\n",
              "      </button>\n",
              "      \n",
              "  <style>\n",
              "    .colab-df-container {\n",
              "      display:flex;\n",
              "      flex-wrap:wrap;\n",
              "      gap: 12px;\n",
              "    }\n",
              "\n",
              "    .colab-df-convert {\n",
              "      background-color: #E8F0FE;\n",
              "      border: none;\n",
              "      border-radius: 50%;\n",
              "      cursor: pointer;\n",
              "      display: none;\n",
              "      fill: #1967D2;\n",
              "      height: 32px;\n",
              "      padding: 0 0 0 0;\n",
              "      width: 32px;\n",
              "    }\n",
              "\n",
              "    .colab-df-convert:hover {\n",
              "      background-color: #E2EBFA;\n",
              "      box-shadow: 0px 1px 2px rgba(60, 64, 67, 0.3), 0px 1px 3px 1px rgba(60, 64, 67, 0.15);\n",
              "      fill: #174EA6;\n",
              "    }\n",
              "\n",
              "    [theme=dark] .colab-df-convert {\n",
              "      background-color: #3B4455;\n",
              "      fill: #D2E3FC;\n",
              "    }\n",
              "\n",
              "    [theme=dark] .colab-df-convert:hover {\n",
              "      background-color: #434B5C;\n",
              "      box-shadow: 0px 1px 3px 1px rgba(0, 0, 0, 0.15);\n",
              "      filter: drop-shadow(0px 1px 2px rgba(0, 0, 0, 0.3));\n",
              "      fill: #FFFFFF;\n",
              "    }\n",
              "  </style>\n",
              "\n",
              "      <script>\n",
              "        const buttonEl =\n",
              "          document.querySelector('#df-cc6a23ba-82c5-4943-ac82-b1c85e6ffe25 button.colab-df-convert');\n",
              "        buttonEl.style.display =\n",
              "          google.colab.kernel.accessAllowed ? 'block' : 'none';\n",
              "\n",
              "        async function convertToInteractive(key) {\n",
              "          const element = document.querySelector('#df-cc6a23ba-82c5-4943-ac82-b1c85e6ffe25');\n",
              "          const dataTable =\n",
              "            await google.colab.kernel.invokeFunction('convertToInteractive',\n",
              "                                                     [key], {});\n",
              "          if (!dataTable) return;\n",
              "\n",
              "          const docLinkHtml = 'Like what you see? Visit the ' +\n",
              "            '<a target=\"_blank\" href=https://colab.research.google.com/notebooks/data_table.ipynb>data table notebook</a>'\n",
              "            + ' to learn more about interactive tables.';\n",
              "          element.innerHTML = '';\n",
              "          dataTable['output_type'] = 'display_data';\n",
              "          await google.colab.output.renderOutput(dataTable, element);\n",
              "          const docLink = document.createElement('div');\n",
              "          docLink.innerHTML = docLinkHtml;\n",
              "          element.appendChild(docLink);\n",
              "        }\n",
              "      </script>\n",
              "    </div>\n",
              "  </div>\n",
              "  "
            ],
            "text/plain": [
              "             id  haloID  halo_mass  ...  dc for 18.1  dc for 20.0  in_halo\n",
              "0       8981131     414     1504.0  ...     0.691070     0.457584        0\n",
              "1       9901676    1026     1013.0  ...     0.617267     0.431845        0\n",
              "2       8288987    1079      727.0  ...     0.003315     0.076079        0\n",
              "3       4842631     675     1268.0  ...    -0.334146    -0.231578        0\n",
              "4      12884124     437     6128.0  ...     0.049055     0.101472        1\n",
              "...         ...     ...        ...  ...          ...          ...      ...\n",
              "99995  12466311    1085     5542.0  ...     0.103515     0.090791        1\n",
              "99996  11857185     491      691.0  ...    -0.347015    -0.253660        0\n",
              "99997   9340191     947      868.0  ...    -0.175261    -0.202931        0\n",
              "99998  13317963    1034     1175.0  ...    -0.282089    -0.284524        0\n",
              "99999   5325551      45      818.0  ...     0.096964    -0.043834        0\n",
              "\n",
              "[100000 rows x 16 columns]"
            ]
          },
          "metadata": {},
          "execution_count": 23
        }
      ]
    },
    {
      "cell_type": "markdown",
      "source": [
        "### Neutrino Labels"
      ],
      "metadata": {
        "id": "CuN4JjcFK2Di"
      }
    },
    {
      "cell_type": "code",
      "source": [
        "### Labeling Based on Mass of Halos\n",
        "\n",
        "data['in_halo'] = np.zeros(len(data), dtype=int)\n",
        "mass = data['halo_mass']\n",
        "j = 0\n",
        "\n",
        "\n",
        "##_______________________________________________________\n",
        "# n = min(data['halo_mass'])\n",
        "# for m in np.logspace(2.8, 4, 5, endpoint=False):\n",
        "#     inclass = (mass > m).astype('int32')\n",
        "#     data['in_halo'] += inclass\n",
        "#     num = np.sum(data['in_halo']==j)\n",
        "#     print(f'class {j} ({n} < mass < {int(m)} ): {num}')\n",
        "#     j+=1\n",
        "#     n = int(m)\n",
        "# num = np.sum(data['in_halo']==j)\n",
        "# print(f'class {j} ({n} < mass ): {num}') \n",
        "##_______________________________________________________\n",
        "\n",
        "m1 = 1100\n",
        "m2 = 1500\n",
        "m3 = 2000\n",
        "m4 = 3300\n",
        "data['in_halo'] = data['in_halo'].astype('int32') + (mass>m1).astype('int32') + (mass>m2).astype('int32') + (mass>m3).astype('int32') + (mass>m4).astype('int32')\n",
        "\n",
        "for i in range(5):\n",
        "    num = np.sum(data['in_halo']==j)\n",
        "    print(f'class {j} : {num}')\n",
        "    j+=1\n",
        "    n = int(i)\n",
        "print(data.in_halo)"
      ],
      "metadata": {
        "colab": {
          "base_uri": "https://localhost:8080/"
        },
        "id": "qu4sp-DrFz66",
        "outputId": "f58b8b3e-48e0-4509-8b97-90664914592f"
      },
      "execution_count": 32,
      "outputs": [
        {
          "output_type": "stream",
          "name": "stdout",
          "text": [
            "class 0 : 21863\n",
            "class 1 : 18723\n",
            "class 2 : 16003\n",
            "class 3 : 24472\n",
            "class 4 : 18939\n",
            "0        3\n",
            "1        2\n",
            "2        2\n",
            "3        1\n",
            "4        2\n",
            "        ..\n",
            "99995    3\n",
            "99996    1\n",
            "99997    1\n",
            "99998    0\n",
            "99999    4\n",
            "Name: in_halo, Length: 100000, dtype: int32\n"
          ]
        }
      ]
    },
    {
      "cell_type": "markdown",
      "source": [
        "### CDM Labels"
      ],
      "metadata": {
        "id": "dViFwOlnMI4S"
      }
    },
    {
      "cell_type": "code",
      "source": [
        "### Labeling Based on Mass of Halos\n",
        "\n",
        "data_cdm['in_halo'] = np.zeros(len(data_cdm), dtype=int)\n",
        "mass = data_cdm['halo_mass']\n",
        "j = 0\n",
        "\n",
        "m1 = 1100\n",
        "m2 = 1600\n",
        "m3 = 2700\n",
        "m4 = 4000\n",
        "data_cdm['in_halo'] = data_cdm['in_halo'].astype('int32') + (mass>m1).astype('int32') + (mass>m2).astype('int32') + (mass>m3).astype('int32') + (mass>m4).astype('int32')\n",
        "\n",
        "for i in range(5):\n",
        "    num = np.sum(data_cdm['in_halo']==j)\n",
        "    print(f'class {j} : {num}')\n",
        "    j+=1\n",
        "    n = int(i)\n",
        "print(data_cdm.in_halo)"
      ],
      "metadata": {
        "colab": {
          "base_uri": "https://localhost:8080/"
        },
        "id": "z8gZ_e1wMIeO",
        "outputId": "09023ba9-936e-49fe-c653-a07177dd9f77"
      },
      "execution_count": 33,
      "outputs": [
        {
          "output_type": "stream",
          "name": "stdout",
          "text": [
            "class 0 : 20677\n",
            "class 1 : 20403\n",
            "class 2 : 18370\n",
            "class 3 : 19662\n",
            "class 4 : 20888\n",
            "0        1\n",
            "1        0\n",
            "2        0\n",
            "3        1\n",
            "4        4\n",
            "        ..\n",
            "99995    4\n",
            "99996    0\n",
            "99997    0\n",
            "99998    1\n",
            "99999    0\n",
            "Name: in_halo, Length: 100000, dtype: int32\n"
          ]
        }
      ]
    },
    {
      "cell_type": "markdown",
      "metadata": {
        "id": "laZHQWG-ytLW"
      },
      "source": [
        "## Define Datasets"
      ]
    },
    {
      "cell_type": "code",
      "execution_count": 37,
      "metadata": {
        "id": "FzZnU175ytLW"
      },
      "outputs": [],
      "source": [
        "## Neutrino\n",
        "X = data.iloc[:,3:15].astype('float32').values\n",
        "Y = data.in_halo.astype('int32').values"
      ]
    },
    {
      "cell_type": "code",
      "execution_count": 38,
      "metadata": {
        "id": "wEYLvOwtytLX"
      },
      "outputs": [],
      "source": [
        "## CDM\n",
        "X2 = data_cdm.iloc[:,3:15].astype('float32').values\n",
        "Y2 = data_cdm.in_halo.astype('int32').values"
      ]
    },
    {
      "cell_type": "code",
      "execution_count": 39,
      "metadata": {
        "id": "mUhWE5GaytLX"
      },
      "outputs": [],
      "source": [
        "## Scale / Neutrino\n",
        "X = (X - np.mean(X))/np.std(X)"
      ]
    },
    {
      "cell_type": "code",
      "execution_count": 40,
      "metadata": {
        "id": "eAFzYxN-ytLX"
      },
      "outputs": [],
      "source": [
        "## Scale / CDM\n",
        "X2 = (X2 - np.mean(X2))/np.std(X2)"
      ]
    },
    {
      "cell_type": "code",
      "execution_count": 41,
      "metadata": {
        "colab": {
          "base_uri": "https://localhost:8080/"
        },
        "outputId": "a19705eb-f151-4064-e2ac-3a5a5c86f052",
        "id": "bsouQA7OytLY"
      },
      "outputs": [
        {
          "output_type": "stream",
          "name": "stdout",
          "text": [
            "X_train : 80000    X_test : 20000\n"
          ]
        }
      ],
      "source": [
        "## Split into test and train / Neutrino\n",
        "\n",
        "tst_size = 0.2\n",
        "ns, nf = np.shape(X) \n",
        "X_train, X_test, Y_train, Y_test = train_test_split(*shuffle(X, Y, n_samples = ns, random_state=0) , random_state=0, test_size =tst_size )\n",
        "print('X_train :',len(X_train),'   X_test :',len(X_test))"
      ]
    },
    {
      "cell_type": "code",
      "execution_count": 42,
      "metadata": {
        "colab": {
          "base_uri": "https://localhost:8080/"
        },
        "outputId": "812e40de-e6cc-455f-fd12-c673201415d5",
        "id": "1nHd-gpDytLZ"
      },
      "outputs": [
        {
          "output_type": "stream",
          "name": "stdout",
          "text": [
            "X2_train : 80000    X2_test : 20000\n"
          ]
        }
      ],
      "source": [
        "## Split into test and train / CDM\n",
        "\n",
        "tst_size = 0.2\n",
        "ns, nf = np.shape(X) \n",
        "X2_train, X2_test, Y2_train, Y2_test = train_test_split(*shuffle(X2, Y2, n_samples = ns, random_state=0) , random_state=0, test_size =tst_size )\n",
        "print('X2_train :',len(X2_train),'   X2_test :',len(X2_test))"
      ]
    },
    {
      "cell_type": "code",
      "execution_count": 43,
      "metadata": {
        "colab": {
          "base_uri": "https://localhost:8080/"
        },
        "id": "da58eyduR_5c",
        "outputId": "57c018bd-585e-4767-db04-f5b187940e14"
      },
      "outputs": [
        {
          "output_type": "stream",
          "name": "stdout",
          "text": [
            "199.901 % of the stored data has class 1 \n"
          ]
        }
      ],
      "source": [
        "# Frequency of 1-class / Neutrino\n",
        "print(\"{} % of the stored data has class 1 \".format(100*Y.sum()/len(Y)))"
      ]
    },
    {
      "cell_type": "code",
      "execution_count": 44,
      "metadata": {
        "colab": {
          "base_uri": "https://localhost:8080/"
        },
        "id": "cab_Ut9DApBC",
        "outputId": "10dc50d8-441a-47b7-d4b6-5f78209bc03d"
      },
      "outputs": [
        {
          "output_type": "stream",
          "name": "stdout",
          "text": [
            "199.681 % of the stored data has class 1 \n"
          ]
        }
      ],
      "source": [
        "# Frequency of 1-class / CDM\n",
        "print(\"{} % of the stored data has class 1 \".format(100*Y2.sum()/len(Y2)))"
      ]
    },
    {
      "cell_type": "markdown",
      "source": [
        "# Keras Model / Multi-Class"
      ],
      "metadata": {
        "id": "8q41U8HRFwW8"
      }
    },
    {
      "cell_type": "markdown",
      "source": [
        "## Building the Model"
      ],
      "metadata": {
        "id": "BcBZy9eEQWIM"
      }
    },
    {
      "cell_type": "code",
      "source": [
        "from tensorflow import keras\n",
        "from tensorflow.keras import layers\n",
        "from keras.losses import MeanSquaredError\n",
        "from sklearn.metrics import classification_report\n",
        "\n",
        "\n",
        "model = keras.Sequential()\n",
        "model.add(layers.Dense(30,activation='relu', input_shape=(12, )))\n",
        "model.add(layers.Dense(10,kernel_initializer=keras.initializers.RandomUniform(minval=-0.5, maxval=0.5, seed=1), input_shape=(12,),activation='tanh'))\n",
        "model.add(keras.layers.Dense(5))\n",
        "\n",
        "\n",
        "model.compile(loss=keras.losses.SparseCategoricalCrossentropy(from_logits=True), optimizer = keras.optimizers.Adam(learning_rate=0.01, beta_1=0.9, beta_2=0.999, epsilon=1e-06), metrics=['accuracy'])"
      ],
      "metadata": {
        "id": "ugaYHWEzQU9-"
      },
      "execution_count": 17,
      "outputs": []
    },
    {
      "cell_type": "markdown",
      "source": [
        "## Keras on Neutrino"
      ],
      "metadata": {
        "id": "owdKsJMHQm9c"
      }
    },
    {
      "cell_type": "code",
      "source": [
        "hist1 = model.fit(\n",
        "    X_train,\n",
        "    Y_train,\n",
        "    batch_size= 100,\n",
        "    epochs=20,\n",
        "    verbose=2,\n",
        "    validation_split=.2,\n",
        "    shuffle=True,\n",
        ")"
      ],
      "metadata": {
        "colab": {
          "base_uri": "https://localhost:8080/"
        },
        "id": "AyKzegNcQNRI",
        "outputId": "57b91e6d-fd50-4aa1-866d-ce5a924e43fc"
      },
      "execution_count": null,
      "outputs": [
        {
          "output_type": "stream",
          "name": "stdout",
          "text": [
            "Epoch 1/20\n",
            "640/640 - 2s - loss: 1.5579 - Accuracy: 0.2880 - val_loss: 1.5463 - val_Accuracy: 0.2923 - 2s/epoch - 3ms/step\n",
            "Epoch 2/20\n",
            "640/640 - 1s - loss: 1.5417 - Accuracy: 0.2978 - val_loss: 1.5402 - val_Accuracy: 0.2980 - 1s/epoch - 2ms/step\n",
            "Epoch 3/20\n",
            "640/640 - 1s - loss: 1.5360 - Accuracy: 0.3020 - val_loss: 1.5476 - val_Accuracy: 0.2872 - 1s/epoch - 2ms/step\n",
            "Epoch 4/20\n",
            "640/640 - 1s - loss: 1.5307 - Accuracy: 0.3061 - val_loss: 1.5299 - val_Accuracy: 0.3059 - 1s/epoch - 2ms/step\n",
            "Epoch 5/20\n",
            "640/640 - 1s - loss: 1.5261 - Accuracy: 0.3084 - val_loss: 1.5274 - val_Accuracy: 0.3108 - 1s/epoch - 2ms/step\n",
            "Epoch 6/20\n",
            "640/640 - 1s - loss: 1.5240 - Accuracy: 0.3091 - val_loss: 1.5278 - val_Accuracy: 0.2999 - 1s/epoch - 2ms/step\n",
            "Epoch 7/20\n",
            "640/640 - 1s - loss: 1.5233 - Accuracy: 0.3071 - val_loss: 1.5235 - val_Accuracy: 0.3109 - 974ms/epoch - 2ms/step\n",
            "Epoch 8/20\n",
            "640/640 - 1s - loss: 1.5199 - Accuracy: 0.3099 - val_loss: 1.5204 - val_Accuracy: 0.3093 - 1s/epoch - 2ms/step\n",
            "Epoch 9/20\n",
            "640/640 - 1s - loss: 1.5195 - Accuracy: 0.3116 - val_loss: 1.5176 - val_Accuracy: 0.3141 - 1s/epoch - 2ms/step\n",
            "Epoch 10/20\n",
            "640/640 - 1s - loss: 1.5186 - Accuracy: 0.3112 - val_loss: 1.5184 - val_Accuracy: 0.3166 - 1s/epoch - 2ms/step\n",
            "Epoch 11/20\n",
            "640/640 - 1s - loss: 1.5175 - Accuracy: 0.3127 - val_loss: 1.5173 - val_Accuracy: 0.3114 - 982ms/epoch - 2ms/step\n",
            "Epoch 12/20\n",
            "640/640 - 1s - loss: 1.5181 - Accuracy: 0.3137 - val_loss: 1.5201 - val_Accuracy: 0.3142 - 1s/epoch - 2ms/step\n",
            "Epoch 13/20\n",
            "640/640 - 1s - loss: 1.5183 - Accuracy: 0.3115 - val_loss: 1.5150 - val_Accuracy: 0.3105 - 1s/epoch - 2ms/step\n",
            "Epoch 14/20\n",
            "640/640 - 1s - loss: 1.5175 - Accuracy: 0.3150 - val_loss: 1.5154 - val_Accuracy: 0.3175 - 971ms/epoch - 2ms/step\n",
            "Epoch 15/20\n",
            "640/640 - 1s - loss: 1.5172 - Accuracy: 0.3135 - val_loss: 1.5203 - val_Accuracy: 0.3112 - 1s/epoch - 2ms/step\n",
            "Epoch 16/20\n",
            "640/640 - 1s - loss: 1.5156 - Accuracy: 0.3173 - val_loss: 1.5166 - val_Accuracy: 0.3163 - 1s/epoch - 2ms/step\n",
            "Epoch 17/20\n",
            "640/640 - 1s - loss: 1.5164 - Accuracy: 0.3149 - val_loss: 1.5125 - val_Accuracy: 0.3203 - 984ms/epoch - 2ms/step\n",
            "Epoch 18/20\n",
            "640/640 - 1s - loss: 1.5149 - Accuracy: 0.3160 - val_loss: 1.5174 - val_Accuracy: 0.3176 - 975ms/epoch - 2ms/step\n",
            "Epoch 19/20\n",
            "640/640 - 1s - loss: 1.5154 - Accuracy: 0.3168 - val_loss: 1.5156 - val_Accuracy: 0.3142 - 1s/epoch - 2ms/step\n",
            "Epoch 20/20\n",
            "640/640 - 1s - loss: 1.5144 - Accuracy: 0.3188 - val_loss: 1.5132 - val_Accuracy: 0.3199 - 1s/epoch - 2ms/step\n"
          ]
        }
      ]
    },
    {
      "cell_type": "code",
      "source": [
        "fig = plt.figure(figsize=(7,5))\n",
        "\n",
        "ax1 = fig.add_subplot(1,1,1, ylabel= 'loss')\n",
        "ax1.plot(hist1.history['loss'])\n",
        "ax1.plot(hist1.history['val_loss'])\n",
        "plt.legend(['Train', 'Test'], loc='upper right')\n",
        "plt.show()"
      ],
      "metadata": {
        "colab": {
          "base_uri": "https://localhost:8080/",
          "height": 328
        },
        "id": "9vtgyApMQ4Cj",
        "outputId": "c48b096b-a7e1-4aa6-df97-e543c13f037d"
      },
      "execution_count": null,
      "outputs": [
        {
          "output_type": "display_data",
          "data": {
            "image/png": "[encoded data removed]",
            "text/plain": [
              "<Figure size 504x360 with 1 Axes>"
            ]
          },
          "metadata": {
            "needs_background": "light"
          }
        }
      ]
    },
    {
      "cell_type": "markdown",
      "source": [
        "### Cross-Validation"
      ],
      "metadata": {
        "id": "Vx-z5ToJJjn5"
      }
    },
    {
      "cell_type": "code",
      "source": [
        "epch = 25\n",
        "batch_sz = 600\n",
        "\n",
        "from sklearn.model_selection import KFold\n",
        "n_folds = 3\n",
        "kf = KFold(n_splits=n_folds, shuffle=True)\n",
        "\n",
        "\n",
        "loss = []\n",
        "acc = []\n",
        "val_loss = []\n",
        "val_acc = []\n",
        "\n",
        "# cross validate:\n",
        "for train_index, val_index in kf.split(X):\n",
        "    hist = model.fit(X[train_index], Y[train_index],\n",
        "                     epochs=epch,\n",
        "                     batch_size=500,\n",
        "                     validation_data = (X[val_index], Y[val_index]),\n",
        "                     verbose=0)\n",
        "    loss.append(hist.history['loss'])\n",
        "    acc.append(hist.history['accuracy'])\n",
        "    val_loss.append([hist.history['val_loss']])\n",
        "    val_acc.append(hist.history['val_accuracy'])\n",
        "    \n",
        "loss = np.array(loss).reshape(n_folds, epch )    \n",
        "acc = np.array(acc).reshape(n_folds, epch )       \n",
        "val_loss = np.array(val_loss).reshape(n_folds, epch )      \n",
        "val_acc  = np.array(val_acc).reshape(n_folds, epch )       "
      ],
      "metadata": {
        "id": "irv8cW2AiT2j"
      },
      "execution_count": 55,
      "outputs": []
    },
    {
      "cell_type": "code",
      "source": [
        "loss_m = loss.mean(axis=0)\n",
        "loss_s = loss.var(axis=0)\n",
        "acc_m = acc.mean(axis=0)\n",
        "acc_s = acc.var(axis=0)\n",
        "\n",
        "val_loss_m = val_loss.mean(axis=0)\n",
        "val_loss_s = val_loss.var(axis=0)\n",
        "val_acc_m = val_acc.mean(axis=0)\n",
        "val_acc_s = val_acc.var(axis=0)\n",
        "\n",
        "plt.figure(figsize=(18,5))\n",
        "\n",
        "ax1 = plt.subplot(1,2,1, ylabel='loss', xlabel='epoch')\n",
        "ax1.plot(loss_m, label = 'Training')\n",
        "ax1.fill_between(range(len(loss_m)),loss_m-loss_s/2, loss_m+loss_s/2,color=\"darkblue\", lw=2,alpha=0.5)\n",
        "ax1.plot(val_loss_m, label = 'Validation')\n",
        "ax1.fill_between(range(len(loss_m)),val_loss_m-loss_s/2, val_loss_m+loss_s/2,color=\"darkgreen\", lw=2,alpha=0.5)\n",
        "plt.legend(loc=0)\n",
        "\n",
        "ax2 = plt.subplot(1,2,2, ylabel='accuracy', xlabel='epoch')\n",
        "ax2.plot(acc_m, label = 'Training')\n",
        "ax2.fill_between(range(len(acc_m)),acc_m-acc_s/2, acc_m+acc_s/2,color=\"darkblue\", lw=2,alpha=0.5)\n",
        "ax2.plot(val_acc_m, label = 'Validation')\n",
        "ax2.fill_between(range(len(acc_m)),val_acc_m-acc_s/2, val_acc_m+acc_s/2,color=\"darkgreen\", lw=2,alpha=0.5)\n",
        "\n",
        "plt.legend(loc=0)\n",
        "plt.show()\n",
        "\n"
      ],
      "metadata": {
        "colab": {
          "base_uri": "https://localhost:8080/",
          "height": 344
        },
        "outputId": "89e24eb1-f9f0-4f64-b3af-f8684b46adc3",
        "id": "XDBNrQD3iT2j"
      },
      "execution_count": 56,
      "outputs": [
        {
          "output_type": "display_data",
          "data": {
            "image/png": "[encoded data removed]",
            "text/plain": [
              "<Figure size 1296x360 with 2 Axes>"
            ]
          },
          "metadata": {
            "needs_background": "light"
          }
        }
      ]
    },
    {
      "cell_type": "markdown",
      "source": [
        "### Tune HP"
      ],
      "metadata": {
        "id": "LnCoUI7ERNG7"
      }
    },
    {
      "cell_type": "code",
      "source": [
        "!pip install -q -U keras-tuner\n",
        "import keras_tuner as kt"
      ],
      "metadata": {
        "colab": {
          "base_uri": "https://localhost:8080/"
        },
        "id": "JZlVud90RFDz",
        "outputId": "20cea1ba-affa-4825-f5ba-a2abd68b2cf0"
      },
      "execution_count": null,
      "outputs": [
        {
          "output_type": "stream",
          "name": "stdout",
          "text": [
            "\u001b[?25l\r\u001b[K     |███▍                            | 10 kB 18.5 MB/s eta 0:00:01\r\u001b[K     |██████▊                         | 20 kB 21.0 MB/s eta 0:00:01\r\u001b[K     |██████████                      | 30 kB 15.4 MB/s eta 0:00:01\r\u001b[K     |█████████████▍                  | 40 kB 11.8 MB/s eta 0:00:01\r\u001b[K     |████████████████▊               | 51 kB 6.3 MB/s eta 0:00:01\r\u001b[K     |████████████████████            | 61 kB 6.4 MB/s eta 0:00:01\r\u001b[K     |███████████████████████▍        | 71 kB 5.5 MB/s eta 0:00:01\r\u001b[K     |██████████████████████████▊     | 81 kB 6.1 MB/s eta 0:00:01\r\u001b[K     |██████████████████████████████  | 92 kB 6.0 MB/s eta 0:00:01\r\u001b[K     |████████████████████████████████| 98 kB 3.1 MB/s \n",
            "\u001b[?25h"
          ]
        }
      ]
    },
    {
      "cell_type": "code",
      "source": [
        "# https://www.tensorflow.org/tutorials/keras/keras_tuner\n",
        "def model_builder(hp):\n",
        "  model = keras.Sequential()\n",
        "  model.add(keras.layers.Flatten(input_shape=(12, )))\n",
        "\n",
        "  # Tune the number of units in the first Dense layer\n",
        "  # Choose an optimal value between 32-512\n",
        "  hp_units = hp.Int('units', min_value=12, max_value=40, step=2)\n",
        "  model.add(keras.layers.Dense(units=hp_units, \n",
        "                               activation='relu', \n",
        "                               kernel_regularizer=keras.regularizers.l2(.05)))\n",
        "  model.add(keras.layers.Dense(units=hp_units, \n",
        "                               activation='tanh', \n",
        "                               kernel_regularizer=keras.regularizers.l2(.05)))\n",
        "  model.add(keras.layers.Dense(5))\n",
        "\n",
        "  # Tune the learning rate for the optimizer\n",
        "  # Choose an optimal value from 0.01, 0.001, or 0.0001\n",
        "  hp_learning_rate = hp.Choice('learning_rate', values=[1e-2, 1e-3, 1e-4, 2e-2])\n",
        "\n",
        "  model.compile(optimizer=keras.optimizers.Adam(learning_rate=hp_learning_rate),\n",
        "                loss=keras.losses.SparseCategoricalCrossentropy(from_logits=True),\n",
        "                metrics=['accuracy'])\n",
        "\n",
        "  return model"
      ],
      "metadata": {
        "id": "C6hsF-SnRRAP"
      },
      "execution_count": null,
      "outputs": []
    },
    {
      "cell_type": "code",
      "source": [
        "tuner = kt.Hyperband(model_builder,\n",
        "                     objective='val_accuracy',\n",
        "                     max_epochs=10,\n",
        "                     factor=3,\n",
        "                     project_name='kt1')"
      ],
      "metadata": {
        "id": "BkF7_sJCRThn"
      },
      "execution_count": null,
      "outputs": []
    },
    {
      "cell_type": "code",
      "source": [
        "stop_early = keras.callbacks.EarlyStopping(monitor='val_loss', patience=5)"
      ],
      "metadata": {
        "id": "taYTBfSqRYRd"
      },
      "execution_count": null,
      "outputs": []
    },
    {
      "cell_type": "code",
      "source": [
        "tuner.search(X_train, Y_train, \n",
        "             epochs=50, \n",
        "             batch_size = 100, \n",
        "             validation_split=0.2, \n",
        "             callbacks=[stop_early])\n",
        "\n",
        "# Get the optimal hyperparameters\n",
        "best_hps=tuner.get_best_hyperparameters(num_trials=1)[0]\n",
        "\n",
        "print(f\"\"\"\n",
        "The hyperparameter search is complete. The optimal number of units in the first densely-connected\n",
        "layer is {best_hps.get('units')} and the optimal learning rate for the optimizer\n",
        "is {best_hps.get('learning_rate')}.\n",
        "\"\"\")"
      ],
      "metadata": {
        "colab": {
          "base_uri": "https://localhost:8080/"
        },
        "id": "d5LNeei4RaB3",
        "outputId": "fd04279f-0c13-4d67-c7e3-a673decf7fe2"
      },
      "execution_count": null,
      "outputs": [
        {
          "output_type": "stream",
          "name": "stdout",
          "text": [
            "Trial 30 Complete [00h 00m 16s]\n",
            "val_accuracy: 0.28025001287460327\n",
            "\n",
            "Best val_accuracy So Far: 0.28331249952316284\n",
            "Total elapsed time: 00h 04m 48s\n",
            "INFO:tensorflow:Oracle triggered exit\n",
            "\n",
            "The hyperparameter search is complete. The optimal number of units in the first densely-connected\n",
            "layer is 36 and the optimal learning rate for the optimizer\n",
            "is 0.0001.\n",
            "\n"
          ]
        }
      ]
    },
    {
      "cell_type": "markdown",
      "source": [
        "### Best Model"
      ],
      "metadata": {
        "id": "h3yylWtaRiuO"
      }
    },
    {
      "cell_type": "code",
      "source": [
        "# Build the model with the optimal hyperparameters and train it on the data for 50 epochs\n",
        "model = tuner.hypermodel.build(best_hps)\n",
        "history = model.fit(X_train, Y_train, \n",
        "                    epochs=30, \n",
        "                    batch_size = 100, \n",
        "                    validation_data=(X_test, Y_test))\n",
        "\n",
        "val_acc_per_epoch = history.history['val_accuracy']\n",
        "best_n = max(val_acc_per_epoch)\n",
        "best_epoch = val_acc_per_epoch.index(max(val_acc_per_epoch)) + 1\n",
        "print('Best epoch: %d' % (best_epoch,))"
      ],
      "metadata": {
        "colab": {
          "base_uri": "https://localhost:8080/"
        },
        "id": "3DKuF9OGRh_x",
        "outputId": "b1d44a13-464f-4ef2-ec99-ad683176650b"
      },
      "execution_count": null,
      "outputs": [
        {
          "output_type": "stream",
          "name": "stdout",
          "text": [
            "Epoch 1/30\n",
            "800/800 [==============================] - 6s 6ms/step - loss: 3.5338 - accuracy: 0.2426 - val_loss: 2.8721 - val_accuracy: 0.2692\n",
            "Epoch 2/30\n",
            "800/800 [==============================] - 2s 2ms/step - loss: 2.4648 - accuracy: 0.2706 - val_loss: 2.1375 - val_accuracy: 0.2747\n",
            "Epoch 3/30\n",
            "800/800 [==============================] - 2s 2ms/step - loss: 1.9461 - accuracy: 0.2699 - val_loss: 1.7951 - val_accuracy: 0.2684\n",
            "Epoch 4/30\n",
            "800/800 [==============================] - 2s 2ms/step - loss: 1.7166 - accuracy: 0.2650 - val_loss: 1.6556 - val_accuracy: 0.2630\n",
            "Epoch 5/30\n",
            "800/800 [==============================] - 2s 2ms/step - loss: 1.6300 - accuracy: 0.2617 - val_loss: 1.6087 - val_accuracy: 0.2601\n",
            "Epoch 6/30\n",
            "800/800 [==============================] - 2s 2ms/step - loss: 1.6034 - accuracy: 0.2580 - val_loss: 1.5963 - val_accuracy: 0.2654\n",
            "Epoch 7/30\n",
            "800/800 [==============================] - 2s 2ms/step - loss: 1.5966 - accuracy: 0.2594 - val_loss: 1.5930 - val_accuracy: 0.2627\n",
            "Epoch 8/30\n",
            "800/800 [==============================] - 2s 2ms/step - loss: 1.5946 - accuracy: 0.2609 - val_loss: 1.5914 - val_accuracy: 0.2638\n",
            "Epoch 9/30\n",
            "800/800 [==============================] - 2s 2ms/step - loss: 1.5934 - accuracy: 0.2619 - val_loss: 1.5905 - val_accuracy: 0.2659\n",
            "Epoch 10/30\n",
            "800/800 [==============================] - 2s 2ms/step - loss: 1.5924 - accuracy: 0.2641 - val_loss: 1.5890 - val_accuracy: 0.2650\n",
            "Epoch 11/30\n",
            "800/800 [==============================] - 2s 2ms/step - loss: 1.5914 - accuracy: 0.2649 - val_loss: 1.5880 - val_accuracy: 0.2655\n",
            "Epoch 12/30\n",
            "800/800 [==============================] - 2s 2ms/step - loss: 1.5905 - accuracy: 0.2652 - val_loss: 1.5870 - val_accuracy: 0.2698\n",
            "Epoch 13/30\n",
            "800/800 [==============================] - 3s 4ms/step - loss: 1.5896 - accuracy: 0.2699 - val_loss: 1.5860 - val_accuracy: 0.2695\n",
            "Epoch 14/30\n",
            "800/800 [==============================] - 3s 4ms/step - loss: 1.5886 - accuracy: 0.2721 - val_loss: 1.5848 - val_accuracy: 0.2731\n",
            "Epoch 15/30\n",
            "800/800 [==============================] - 2s 3ms/step - loss: 1.5876 - accuracy: 0.2742 - val_loss: 1.5841 - val_accuracy: 0.2790\n",
            "Epoch 16/30\n",
            "800/800 [==============================] - 4s 5ms/step - loss: 1.5867 - accuracy: 0.2761 - val_loss: 1.5829 - val_accuracy: 0.2767\n",
            "Epoch 17/30\n",
            "800/800 [==============================] - 4s 4ms/step - loss: 1.5859 - accuracy: 0.2757 - val_loss: 1.5824 - val_accuracy: 0.2804\n",
            "Epoch 18/30\n",
            "800/800 [==============================] - 2s 2ms/step - loss: 1.5851 - accuracy: 0.2765 - val_loss: 1.5811 - val_accuracy: 0.2767\n",
            "Epoch 19/30\n",
            "800/800 [==============================] - 2s 2ms/step - loss: 1.5844 - accuracy: 0.2760 - val_loss: 1.5807 - val_accuracy: 0.2800\n",
            "Epoch 20/30\n",
            "800/800 [==============================] - 2s 2ms/step - loss: 1.5837 - accuracy: 0.2754 - val_loss: 1.5798 - val_accuracy: 0.2774\n",
            "Epoch 21/30\n",
            "800/800 [==============================] - 2s 2ms/step - loss: 1.5831 - accuracy: 0.2760 - val_loss: 1.5793 - val_accuracy: 0.2772\n",
            "Epoch 22/30\n",
            "800/800 [==============================] - 2s 2ms/step - loss: 1.5825 - accuracy: 0.2764 - val_loss: 1.5784 - val_accuracy: 0.2773\n",
            "Epoch 23/30\n",
            "800/800 [==============================] - 2s 2ms/step - loss: 1.5820 - accuracy: 0.2776 - val_loss: 1.5783 - val_accuracy: 0.2768\n",
            "Epoch 24/30\n",
            "800/800 [==============================] - 2s 2ms/step - loss: 1.5815 - accuracy: 0.2767 - val_loss: 1.5775 - val_accuracy: 0.2779\n",
            "Epoch 25/30\n",
            "800/800 [==============================] - 2s 2ms/step - loss: 1.5810 - accuracy: 0.2761 - val_loss: 1.5778 - val_accuracy: 0.2815\n",
            "Epoch 26/30\n",
            "800/800 [==============================] - 2s 2ms/step - loss: 1.5805 - accuracy: 0.2774 - val_loss: 1.5767 - val_accuracy: 0.2797\n",
            "Epoch 27/30\n",
            "800/800 [==============================] - 2s 2ms/step - loss: 1.5802 - accuracy: 0.2768 - val_loss: 1.5763 - val_accuracy: 0.2800\n",
            "Epoch 28/30\n",
            "800/800 [==============================] - 2s 2ms/step - loss: 1.5797 - accuracy: 0.2774 - val_loss: 1.5758 - val_accuracy: 0.2770\n",
            "Epoch 29/30\n",
            "800/800 [==============================] - 2s 2ms/step - loss: 1.5795 - accuracy: 0.2774 - val_loss: 1.5755 - val_accuracy: 0.2801\n",
            "Epoch 30/30\n",
            "800/800 [==============================] - 2s 2ms/step - loss: 1.5791 - accuracy: 0.2772 - val_loss: 1.5750 - val_accuracy: 0.2781\n",
            "Best epoch: 25\n"
          ]
        }
      ]
    },
    {
      "cell_type": "code",
      "source": [
        "# Plot training & validation accuracy values\n",
        "fig = plt.figure(figsize=(14,5))\n",
        "ax = fig.add_subplot(1,2,1, title = 'Model accuracy', ylabel= 'Accuracy')\n",
        "plt.plot(history.history['accuracy'])\n",
        "plt.plot(history.history['val_accuracy'])\n",
        "plt.legend(['Train', 'Test'], loc='upper left')\n",
        "\n",
        "# Plot training & validation loss values\n",
        "ax = fig.add_subplot(1,2,2, title = 'Model loss', ylabel= 'Loss')\n",
        "plt.plot(history.history['loss'])\n",
        "plt.plot(history.history['val_loss'])\n",
        "plt.legend(['Train', 'Test'], loc='upper left')\n",
        "\n",
        "plt.tight_layout()\n",
        "plt.show()"
      ],
      "metadata": {
        "colab": {
          "base_uri": "https://localhost:8080/",
          "height": 352
        },
        "id": "bMUC1ZmvRtAd",
        "outputId": "3ba45cb5-6c57-49b6-f343-fe907ec96897"
      },
      "execution_count": null,
      "outputs": [
        {
          "output_type": "display_data",
          "data": {
            "image/png": "[encoded data removed]",
            "text/plain": [
              "<Figure size 1008x360 with 2 Axes>"
            ]
          },
          "metadata": {
            "needs_background": "light"
          }
        }
      ]
    },
    {
      "cell_type": "markdown",
      "source": [
        "### Classification Report"
      ],
      "metadata": {
        "id": "sLoAvuHFRwEh"
      }
    },
    {
      "cell_type": "code",
      "source": [
        "from sklearn.metrics import classification_report\n",
        "clf_report_n = classification_report(Y_test, model.predict(X_test).argmax(axis=1))"
      ],
      "metadata": {
        "colab": {
          "base_uri": "https://localhost:8080/"
        },
        "id": "7EWATHyHRyQ0",
        "outputId": "b01e1a75-7ee3-4dea-c3d1-4ccd933d5263"
      },
      "execution_count": null,
      "outputs": [
        {
          "output_type": "stream",
          "name": "stderr",
          "text": [
            "/usr/local/lib/python3.7/dist-packages/sklearn/metrics/_classification.py:1308: UndefinedMetricWarning: Precision and F-score are ill-defined and being set to 0.0 in labels with no predicted samples. Use `zero_division` parameter to control this behavior.\n",
            "  _warn_prf(average, modifier, msg_start, len(result))\n",
            "/usr/local/lib/python3.7/dist-packages/sklearn/metrics/_classification.py:1308: UndefinedMetricWarning: Precision and F-score are ill-defined and being set to 0.0 in labels with no predicted samples. Use `zero_division` parameter to control this behavior.\n",
            "  _warn_prf(average, modifier, msg_start, len(result))\n",
            "/usr/local/lib/python3.7/dist-packages/sklearn/metrics/_classification.py:1308: UndefinedMetricWarning: Precision and F-score are ill-defined and being set to 0.0 in labels with no predicted samples. Use `zero_division` parameter to control this behavior.\n",
            "  _warn_prf(average, modifier, msg_start, len(result))\n"
          ]
        }
      ]
    },
    {
      "cell_type": "code",
      "source": [
        "from sklearn.metrics import ConfusionMatrixDisplay, confusion_matrix\n",
        "\n",
        "cm_n = confusion_matrix(Y_test, model.predict(X_test).argmax(axis=1))"
      ],
      "metadata": {
        "id": "WTMPbUkeSBzC"
      },
      "execution_count": null,
      "outputs": []
    },
    {
      "cell_type": "markdown",
      "source": [
        "## Keras on CDM"
      ],
      "metadata": {
        "id": "XqWT4-q4VXV9"
      }
    },
    {
      "cell_type": "code",
      "source": [
        "hist2 = model.fit(\n",
        "    X2_train,\n",
        "    Y2_train,\n",
        "    batch_size= 100,\n",
        "    epochs=20,\n",
        "    verbose=2,\n",
        "    validation_split=.2,\n",
        "    shuffle=True,\n",
        ")"
      ],
      "metadata": {
        "colab": {
          "base_uri": "https://localhost:8080/"
        },
        "outputId": "97bd82cf-9615-4cbc-87a7-35a2ff2227e1",
        "id": "w5hK9MhYVXV9"
      },
      "execution_count": null,
      "outputs": [
        {
          "output_type": "stream",
          "name": "stdout",
          "text": [
            "Epoch 1/20\n",
            "640/640 - 2s - loss: 1.5785 - accuracy: 0.2766 - val_loss: 1.5796 - val_accuracy: 0.2801 - 2s/epoch - 3ms/step\n",
            "Epoch 2/20\n",
            "640/640 - 2s - loss: 1.5783 - accuracy: 0.2781 - val_loss: 1.5791 - val_accuracy: 0.2781 - 2s/epoch - 3ms/step\n",
            "Epoch 3/20\n",
            "640/640 - 2s - loss: 1.5781 - accuracy: 0.2764 - val_loss: 1.5788 - val_accuracy: 0.2789 - 2s/epoch - 3ms/step\n",
            "Epoch 4/20\n",
            "640/640 - 1s - loss: 1.5778 - accuracy: 0.2782 - val_loss: 1.5789 - val_accuracy: 0.2792 - 1s/epoch - 2ms/step\n",
            "Epoch 5/20\n",
            "640/640 - 1s - loss: 1.5776 - accuracy: 0.2775 - val_loss: 1.5786 - val_accuracy: 0.2781 - 1s/epoch - 2ms/step\n",
            "Epoch 6/20\n",
            "640/640 - 1s - loss: 1.5774 - accuracy: 0.2775 - val_loss: 1.5785 - val_accuracy: 0.2804 - 1s/epoch - 2ms/step\n",
            "Epoch 7/20\n",
            "640/640 - 1s - loss: 1.5772 - accuracy: 0.2765 - val_loss: 1.5784 - val_accuracy: 0.2792 - 1s/epoch - 2ms/step\n",
            "Epoch 8/20\n",
            "640/640 - 1s - loss: 1.5769 - accuracy: 0.2778 - val_loss: 1.5778 - val_accuracy: 0.2786 - 1s/epoch - 2ms/step\n",
            "Epoch 9/20\n",
            "640/640 - 1s - loss: 1.5768 - accuracy: 0.2769 - val_loss: 1.5776 - val_accuracy: 0.2798 - 1s/epoch - 2ms/step\n",
            "Epoch 10/20\n",
            "640/640 - 1s - loss: 1.5765 - accuracy: 0.2770 - val_loss: 1.5776 - val_accuracy: 0.2800 - 1s/epoch - 2ms/step\n",
            "Epoch 11/20\n",
            "640/640 - 1s - loss: 1.5763 - accuracy: 0.2776 - val_loss: 1.5777 - val_accuracy: 0.2827 - 1s/epoch - 2ms/step\n",
            "Epoch 12/20\n",
            "640/640 - 1s - loss: 1.5761 - accuracy: 0.2776 - val_loss: 1.5772 - val_accuracy: 0.2788 - 1s/epoch - 2ms/step\n",
            "Epoch 13/20\n",
            "640/640 - 1s - loss: 1.5761 - accuracy: 0.2779 - val_loss: 1.5769 - val_accuracy: 0.2807 - 1s/epoch - 2ms/step\n",
            "Epoch 14/20\n",
            "640/640 - 1s - loss: 1.5758 - accuracy: 0.2769 - val_loss: 1.5769 - val_accuracy: 0.2783 - 1s/epoch - 2ms/step\n",
            "Epoch 15/20\n",
            "640/640 - 1s - loss: 1.5757 - accuracy: 0.2772 - val_loss: 1.5765 - val_accuracy: 0.2814 - 1s/epoch - 2ms/step\n",
            "Epoch 16/20\n",
            "640/640 - 1s - loss: 1.5754 - accuracy: 0.2786 - val_loss: 1.5769 - val_accuracy: 0.2796 - 1s/epoch - 2ms/step\n",
            "Epoch 17/20\n",
            "640/640 - 1s - loss: 1.5754 - accuracy: 0.2774 - val_loss: 1.5764 - val_accuracy: 0.2815 - 1s/epoch - 2ms/step\n",
            "Epoch 18/20\n",
            "640/640 - 1s - loss: 1.5752 - accuracy: 0.2775 - val_loss: 1.5761 - val_accuracy: 0.2807 - 1s/epoch - 2ms/step\n",
            "Epoch 19/20\n",
            "640/640 - 1s - loss: 1.5750 - accuracy: 0.2790 - val_loss: 1.5764 - val_accuracy: 0.2821 - 1s/epoch - 2ms/step\n",
            "Epoch 20/20\n",
            "640/640 - 1s - loss: 1.5749 - accuracy: 0.2772 - val_loss: 1.5758 - val_accuracy: 0.2794 - 1s/epoch - 2ms/step\n"
          ]
        }
      ]
    },
    {
      "cell_type": "code",
      "source": [
        "fig = plt.figure(figsize=(7,5))\n",
        "\n",
        "ax1 = fig.add_subplot(1,1,1, ylabel= 'loss')\n",
        "ax1.plot(hist2.history['loss'])\n",
        "ax1.plot(hist2.history['val_loss'])\n",
        "plt.legend(['Train', 'Test'], loc='upper right')\n",
        "plt.show()"
      ],
      "metadata": {
        "colab": {
          "base_uri": "https://localhost:8080/",
          "height": 325
        },
        "outputId": "705aa1d3-e0f6-451f-ef6e-2623c2e42b3f",
        "id": "CaY_hrWuV9vv"
      },
      "execution_count": null,
      "outputs": [
        {
          "output_type": "display_data",
          "data": {
            "image/png": "[encoded data removed]",
            "text/plain": [
              "<Figure size 504x360 with 1 Axes>"
            ]
          },
          "metadata": {
            "needs_background": "light"
          }
        }
      ]
    },
    {
      "cell_type": "markdown",
      "source": [
        "### Cross-Validation"
      ],
      "metadata": {
        "id": "rU32tu0cgOPz"
      }
    },
    {
      "cell_type": "code",
      "source": [
        "def model_fn():\n",
        "    from tensorflow import keras\n",
        "    from tensorflow.keras import layers\n",
        "    from keras.losses import MeanSquaredError\n",
        "    from sklearn.metrics import classification_report\n",
        "\n",
        "\n",
        "    model = keras.Sequential()\n",
        "    model.add(layers.Dense(30,kernel_initializer=keras.initializers.RandomUniform(minval=-0.5, maxval=0.5, seed=1),activation='relu'))\n",
        "    model.add(layers.Dense(10,kernel_initializer=keras.initializers.RandomUniform(minval=-0.5, maxval=0.5, seed=1), input_shape=(12,),activation='tanh'))\n",
        "    model.add(keras.layers.Dense(5))\n",
        "    \n",
        "    model.compile(loss=keras.losses.SparseCategoricalCrossentropy(from_logits=True), optimizer = keras.optimizers.Adam(learning_rate=0.01, beta_1=0.9, beta_2=0.999, epsilon=1e-06), metrics=['accuracy'])\n",
        "    return model"
      ],
      "metadata": {
        "id": "tF-o_7uXg9qB"
      },
      "execution_count": null,
      "outputs": []
    },
    {
      "cell_type": "code",
      "source": [
        "epch = 10\n",
        "batch_sz = 500\n",
        "\n",
        "from sklearn.model_selection import KFold\n",
        "n_folds = 3\n",
        "kf = KFold(n_splits=n_folds, shuffle=True)\n",
        "\n",
        "\n",
        "loss = []\n",
        "acc = []\n",
        "val_loss = []\n",
        "val_acc = []\n",
        "\n",
        "# cross validate:\n",
        "for train_index, val_index in kf.split(X2):\n",
        "    model = model_fn()\n",
        "    hist = model.fit(X2[train_index], Y2[train_index],\n",
        "                     epochs=epch,\n",
        "                     batch_size=500,\n",
        "                     validation_data = (X2[val_index], Y2[val_index]),\n",
        "                     verbose=0)\n",
        "    loss.append(hist.history['loss'])\n",
        "    acc.append(hist.history['accuracy'])\n",
        "    val_loss.append([hist.history['val_loss']])\n",
        "    val_acc.append(hist.history['val_accuracy'])\n",
        "    \n",
        "loss = np.array(loss).reshape(n_folds, epch )    \n",
        "acc = np.array(acc).reshape(n_folds, epch )       \n",
        "val_loss = np.array(val_loss).reshape(n_folds, epch )      \n",
        "val_acc  = np.array(val_acc).reshape(n_folds, epch )       "
      ],
      "metadata": {
        "id": "mi2HBhebeTux"
      },
      "execution_count": null,
      "outputs": []
    },
    {
      "cell_type": "code",
      "source": [
        "loss_m = loss.mean(axis=0)\n",
        "loss_s = loss.var(axis=0)\n",
        "\n",
        "\n",
        "val_loss_m = val_loss.mean(axis=0)\n",
        "val_loss_s = val_loss.var(axis=0)\n",
        "\n",
        "plt.plot(loss_m, label = 'Training')\n",
        "plt.fill_between(range(len(loss_m)),loss_m-loss_s/2, loss_m+loss_s/2)\n",
        "plt.plot(val_loss_m, label = 'Validation')\n",
        "plt.fill_between(range(len(loss_m)),val_loss_m-loss_s/2, val_loss_m+loss_s/2)\n",
        "plt.legend(loc=0)\n",
        "plt.show()"
      ],
      "metadata": {
        "colab": {
          "base_uri": "https://localhost:8080/",
          "height": 382
        },
        "id": "iDPeXmBAhdm2",
        "outputId": "54cd496b-202c-4e9f-f26b-25ca6cef4fcd"
      },
      "execution_count": null,
      "outputs": [
        {
          "output_type": "display_data",
          "data": {
            "image/png": "[encoded data removed]",
            "text/plain": [
              "<Figure size 720x432 with 1 Axes>"
            ]
          },
          "metadata": {
            "needs_background": "light"
          }
        }
      ]
    },
    {
      "cell_type": "markdown",
      "source": [
        "### Tuning HP"
      ],
      "metadata": {
        "id": "iD31azyzTDH0"
      }
    },
    {
      "cell_type": "markdown",
      "source": [
        "#### GridSearch"
      ],
      "metadata": {
        "id": "DHGo0voHTLC1"
      }
    },
    {
      "cell_type": "code",
      "source": [
        "def model_fn(dense_layer_sizes, regularizations, lr=.1): #dropouts\n",
        "    model = keras.Sequential() \n",
        "    \n",
        "    # model.add( keras.layers.Flatten(input_shape=(12, )) )\n",
        "    \n",
        "    for i in range( len(dense_layer_sizes )):\n",
        "        model.add( keras.layers.Dense( dense_layer_sizes[i], \n",
        "                                      activation='relu', \n",
        "                                      kernel_regularizer=keras.regularizers.l2(regularizations) \n",
        "                                     ) )\n",
        "    model.add(keras.layers.Dense(dense_layer_sizes[i], \n",
        "                            activation='tanh', \n",
        "                            kernel_regularizer=keras.regularizers.l2(regularizations)))\n",
        "        # model.add(keras.layers.Dropout( dropouts ) )\n",
        "        \n",
        "       \n",
        "    model.add(keras.layers.Dense(5))\n",
        "        \n",
        "    model.compile(loss=keras.losses.SparseCategoricalCrossentropy(from_logits=True), \n",
        "                  optimizer=keras.optimizers.Adam(learning_rate=lr, beta_1=0.9, beta_2=0.999, epsilon=1e-06), \n",
        "                  metrics=['accuracy'])\n",
        "    \n",
        "\n",
        "    return model\n",
        "\n",
        "mdl = model_fn([30,20], .001, .1) #.001\n",
        "# mdl = model_fn([128], [.01], [.01])\n",
        "# mdl.summary()"
      ],
      "metadata": {
        "id": "F0-PYblkTOFu"
      },
      "execution_count": null,
      "outputs": []
    },
    {
      "cell_type": "code",
      "source": [
        "btch_size = 500\n",
        "epch = 8\n",
        "history = mdl.fit(X2_train, Y2_train, batch_size=btch_size, epochs=epch )"
      ],
      "metadata": {
        "id": "Q8OXirIJXX-j",
        "outputId": "7dd74985-5d2a-4116-fa54-44858db61569",
        "colab": {
          "base_uri": "https://localhost:8080/"
        }
      },
      "execution_count": null,
      "outputs": [
        {
          "output_type": "stream",
          "name": "stdout",
          "text": [
            "Epoch 1/8\n",
            "160/160 [==============================] - 1s 4ms/step - loss: 1.6123 - accuracy: 0.2605\n",
            "Epoch 2/8\n",
            "160/160 [==============================] - 1s 3ms/step - loss: 1.5777 - accuracy: 0.2713\n",
            "Epoch 3/8\n",
            "160/160 [==============================] - 1s 6ms/step - loss: 1.5781 - accuracy: 0.2682\n",
            "Epoch 4/8\n",
            "160/160 [==============================] - 1s 5ms/step - loss: 1.5785 - accuracy: 0.2693\n",
            "Epoch 5/8\n",
            "160/160 [==============================] - 0s 2ms/step - loss: 1.5792 - accuracy: 0.2696\n",
            "Epoch 6/8\n",
            "160/160 [==============================] - 0s 2ms/step - loss: 1.5780 - accuracy: 0.2667\n",
            "Epoch 7/8\n",
            "160/160 [==============================] - 0s 3ms/step - loss: 1.5749 - accuracy: 0.2706\n",
            "Epoch 8/8\n",
            "160/160 [==============================] - 0s 3ms/step - loss: 1.5750 - accuracy: 0.2712\n"
          ]
        }
      ]
    },
    {
      "cell_type": "code",
      "source": [
        "# Grid search over these:\n",
        "dense_size_candidates = [[40,30,30], [30,10] , [30,10,10] ] # the lists contain the number of nodes for each layer\n",
        "regularizations_candidates = [ (.01), (.001) ]\n",
        "# dropouts_candidates = [  (.005), (.01), (.003) ]\n",
        "lr_candidates = [.1, .01, .001]\n",
        "# epch_list = [4, 10]\n",
        "batch_size_candidates = [500,300]\n",
        "\n",
        "from tensorflow.keras.wrappers.scikit_learn import KerasClassifier\n",
        "from sklearn.model_selection import StratifiedKFold, cross_val_score, GridSearchCV\n",
        "\n",
        "gs_classifier = KerasClassifier(model_fn)\n"
      ],
      "metadata": {
        "id": "ipoN4n6rXuvc",
        "outputId": "b102df39-53f6-4181-de73-6d4ab8b72620",
        "colab": {
          "base_uri": "https://localhost:8080/"
        }
      },
      "execution_count": null,
      "outputs": [
        {
          "output_type": "stream",
          "name": "stderr",
          "text": [
            "/usr/local/lib/python3.7/dist-packages/ipykernel_launcher.py:12: DeprecationWarning: KerasClassifier is deprecated, use Sci-Keras (https://github.com/adriangb/scikeras) instead.\n",
            "  if sys.path[0] == '':\n"
          ]
        }
      ]
    },
    {
      "cell_type": "code",
      "source": [
        "validator = GridSearchCV(gs_classifier,\n",
        "                         param_grid={'dense_layer_sizes': dense_size_candidates,\n",
        "                                     # epochs is avail for tuning even when not\n",
        "                                     # an argument to model building function\n",
        "                                     'epochs': [3],\n",
        "                                     'regularizations': regularizations_candidates,\n",
        "                                    #  'dropouts': dropouts_candidates,\n",
        "                                     'lr': lr_candidates},\n",
        "                         scoring='accuracy',\n",
        "                         n_jobs= 1,  )\n",
        "validator.fit(X2_train, Y2_train)"
      ],
      "metadata": {
        "id": "3Ply9ixEX6w0",
        "outputId": "b5d5b74b-0666-41dc-9c6c-c86470329cb6",
        "colab": {
          "base_uri": "https://localhost:8080/"
        }
      },
      "execution_count": null,
      "outputs": [
        {
          "output_type": "stream",
          "name": "stdout",
          "text": [
            "Epoch 1/3\n",
            "2000/2000 [==============================] - 8s 3ms/step - loss: 1.6323 - accuracy: 0.2222\n",
            "Epoch 2/3\n",
            "2000/2000 [==============================] - 4s 2ms/step - loss: 1.6253 - accuracy: 0.2216\n",
            "Epoch 3/3\n",
            "2000/2000 [==============================] - 4s 2ms/step - loss: 1.6216 - accuracy: 0.2284\n",
            "Epoch 1/3\n",
            "2000/2000 [==============================] - 5s 2ms/step - loss: 1.6261 - accuracy: 0.2232\n",
            "Epoch 2/3\n",
            "2000/2000 [==============================] - 4s 2ms/step - loss: 1.6243 - accuracy: 0.2200\n",
            "Epoch 3/3\n",
            "2000/2000 [==============================] - 5s 2ms/step - loss: 1.6232 - accuracy: 0.2233\n",
            "Epoch 1/3\n",
            "2000/2000 [==============================] - 6s 2ms/step - loss: 1.6285 - accuracy: 0.2260\n",
            "Epoch 2/3\n",
            "2000/2000 [==============================] - 4s 2ms/step - loss: 1.6255 - accuracy: 0.2234\n",
            "Epoch 3/3\n",
            "2000/2000 [==============================] - 5s 2ms/step - loss: 1.6246 - accuracy: 0.2268\n",
            "Epoch 1/3\n",
            "2000/2000 [==============================] - 5s 2ms/step - loss: 1.6287 - accuracy: 0.2219\n",
            "Epoch 2/3\n",
            "2000/2000 [==============================] - 4s 2ms/step - loss: 1.6244 - accuracy: 0.2198\n",
            "Epoch 3/3\n",
            "2000/2000 [==============================] - 5s 2ms/step - loss: 1.6241 - accuracy: 0.2242\n",
            "Epoch 1/3\n",
            "2000/2000 [==============================] - 5s 2ms/step - loss: 1.6281 - accuracy: 0.2230\n",
            "Epoch 2/3\n",
            "2000/2000 [==============================] - 4s 2ms/step - loss: 1.6224 - accuracy: 0.2244\n",
            "Epoch 3/3\n",
            "2000/2000 [==============================] - 4s 2ms/step - loss: 1.6238 - accuracy: 0.2234\n",
            "Epoch 1/3\n",
            "2000/2000 [==============================] - 5s 2ms/step - loss: 1.6327 - accuracy: 0.2214\n",
            "Epoch 2/3\n",
            "2000/2000 [==============================] - 4s 2ms/step - loss: 1.6217 - accuracy: 0.2246\n",
            "Epoch 3/3\n",
            "2000/2000 [==============================] - 4s 2ms/step - loss: 1.6215 - accuracy: 0.2245\n",
            "Epoch 1/3\n",
            "2000/2000 [==============================] - 6s 2ms/step - loss: 1.6292 - accuracy: 0.2255\n",
            "Epoch 2/3\n",
            "2000/2000 [==============================] - 4s 2ms/step - loss: 1.6205 - accuracy: 0.2236\n",
            "Epoch 3/3\n",
            "2000/2000 [==============================] - 5s 2ms/step - loss: 1.6244 - accuracy: 0.2184\n",
            "Epoch 1/3\n",
            "2000/2000 [==============================] - 5s 2ms/step - loss: 1.6266 - accuracy: 0.2258\n",
            "Epoch 2/3\n",
            "2000/2000 [==============================] - 5s 3ms/step - loss: 1.6228 - accuracy: 0.2216\n",
            "Epoch 3/3\n",
            "2000/2000 [==============================] - 4s 2ms/step - loss: 1.6237 - accuracy: 0.2256\n",
            "Epoch 1/3\n",
            "2000/2000 [==============================] - 5s 2ms/step - loss: 1.6399 - accuracy: 0.2243\n",
            "Epoch 2/3\n",
            "2000/2000 [==============================] - 5s 2ms/step - loss: 1.6194 - accuracy: 0.2229\n",
            "Epoch 3/3\n",
            "2000/2000 [==============================] - 4s 2ms/step - loss: 1.6218 - accuracy: 0.2246\n",
            "Epoch 1/3\n",
            "2000/2000 [==============================] - 5s 2ms/step - loss: 1.6258 - accuracy: 0.2234\n",
            "Epoch 2/3\n",
            "2000/2000 [==============================] - 4s 2ms/step - loss: 1.6237 - accuracy: 0.2234\n",
            "Epoch 3/3\n",
            "2000/2000 [==============================] - 5s 2ms/step - loss: 1.6222 - accuracy: 0.2236\n",
            "Epoch 1/3\n",
            "2000/2000 [==============================] - 5s 2ms/step - loss: 1.6093 - accuracy: 0.2416\n",
            "Epoch 2/3\n",
            "2000/2000 [==============================] - 4s 2ms/step - loss: 1.6006 - accuracy: 0.2430\n",
            "Epoch 3/3\n",
            "2000/2000 [==============================] - 5s 2ms/step - loss: 1.6005 - accuracy: 0.2408\n",
            "Epoch 1/3\n",
            "2000/2000 [==============================] - 5s 2ms/step - loss: 1.6095 - accuracy: 0.2415\n",
            "Epoch 2/3\n",
            "2000/2000 [==============================] - 4s 2ms/step - loss: 1.6008 - accuracy: 0.2414\n",
            "Epoch 3/3\n",
            "2000/2000 [==============================] - 4s 2ms/step - loss: 1.6006 - accuracy: 0.2410\n",
            "Epoch 1/3\n",
            "2000/2000 [==============================] - 5s 2ms/step - loss: 1.6093 - accuracy: 0.2428\n",
            "Epoch 2/3\n",
            "2000/2000 [==============================] - 4s 2ms/step - loss: 1.6003 - accuracy: 0.2427\n",
            "Epoch 3/3\n",
            "2000/2000 [==============================] - 4s 2ms/step - loss: 1.6002 - accuracy: 0.2405\n",
            "Epoch 1/3\n",
            "2000/2000 [==============================] - 5s 2ms/step - loss: 1.6093 - accuracy: 0.2405\n",
            "Epoch 2/3\n",
            "2000/2000 [==============================] - 4s 2ms/step - loss: 1.6007 - accuracy: 0.2423\n",
            "Epoch 3/3\n",
            "2000/2000 [==============================] - 5s 2ms/step - loss: 1.6008 - accuracy: 0.2424\n",
            "Epoch 1/3\n",
            "2000/2000 [==============================] - 5s 2ms/step - loss: 1.6081 - accuracy: 0.2413\n",
            "Epoch 2/3\n",
            "2000/2000 [==============================] - 5s 2ms/step - loss: 1.6008 - accuracy: 0.2419\n",
            "Epoch 3/3\n",
            "2000/2000 [==============================] - 4s 2ms/step - loss: 1.6009 - accuracy: 0.2428\n",
            "Epoch 1/3\n",
            "2000/2000 [==============================] - 5s 2ms/step - loss: 1.5844 - accuracy: 0.2710\n",
            "Epoch 2/3\n",
            "2000/2000 [==============================] - 4s 2ms/step - loss: 1.5720 - accuracy: 0.2794\n",
            "Epoch 3/3\n",
            "2000/2000 [==============================] - 4s 2ms/step - loss: 1.5700 - accuracy: 0.2799\n",
            "Epoch 1/3\n",
            "2000/2000 [==============================] - 5s 2ms/step - loss: 1.5825 - accuracy: 0.2712\n",
            "Epoch 2/3\n",
            "2000/2000 [==============================] - 4s 2ms/step - loss: 1.5716 - accuracy: 0.2745\n",
            "Epoch 3/3\n",
            "2000/2000 [==============================] - 4s 2ms/step - loss: 1.5697 - accuracy: 0.2767\n",
            "Epoch 1/3\n",
            "2000/2000 [==============================] - 5s 2ms/step - loss: 1.5830 - accuracy: 0.2726\n",
            "Epoch 2/3\n",
            "2000/2000 [==============================] - 4s 2ms/step - loss: 1.5711 - accuracy: 0.2804\n",
            "Epoch 3/3\n",
            "2000/2000 [==============================] - 4s 2ms/step - loss: 1.5696 - accuracy: 0.2776\n",
            "Epoch 1/3\n",
            "2000/2000 [==============================] - 5s 2ms/step - loss: 1.5847 - accuracy: 0.2685\n",
            "Epoch 2/3\n",
            "2000/2000 [==============================] - 4s 2ms/step - loss: 1.5739 - accuracy: 0.2743\n",
            "Epoch 3/3\n",
            "2000/2000 [==============================] - 4s 2ms/step - loss: 1.5711 - accuracy: 0.2753\n",
            "Epoch 1/3\n",
            "2000/2000 [==============================] - 5s 2ms/step - loss: 1.5859 - accuracy: 0.2686\n",
            "Epoch 2/3\n",
            "2000/2000 [==============================] - 4s 2ms/step - loss: 1.5713 - accuracy: 0.2790\n",
            "Epoch 3/3\n",
            "2000/2000 [==============================] - 4s 2ms/step - loss: 1.5687 - accuracy: 0.2767\n",
            "Epoch 1/3\n",
            "2000/2000 [==============================] - 5s 2ms/step - loss: 1.6943 - accuracy: 0.2705\n",
            "Epoch 2/3\n",
            "2000/2000 [==============================] - 4s 2ms/step - loss: 1.5948 - accuracy: 0.2752\n",
            "Epoch 3/3\n",
            "2000/2000 [==============================] - 4s 2ms/step - loss: 1.5903 - accuracy: 0.2754\n",
            "Epoch 1/3\n",
            "2000/2000 [==============================] - 5s 2ms/step - loss: 1.6887 - accuracy: 0.2674\n",
            "Epoch 2/3\n",
            "2000/2000 [==============================] - 4s 2ms/step - loss: 1.5950 - accuracy: 0.2741\n",
            "Epoch 3/3\n",
            "2000/2000 [==============================] - 4s 2ms/step - loss: 1.5912 - accuracy: 0.2746\n",
            "Epoch 1/3\n",
            "2000/2000 [==============================] - 5s 2ms/step - loss: 1.6870 - accuracy: 0.2681\n",
            "Epoch 2/3\n",
            "2000/2000 [==============================] - 4s 2ms/step - loss: 1.5948 - accuracy: 0.2718\n",
            "Epoch 3/3\n",
            "2000/2000 [==============================] - 4s 2ms/step - loss: 1.5906 - accuracy: 0.2745\n",
            "Epoch 1/3\n",
            "2000/2000 [==============================] - 5s 2ms/step - loss: 1.6961 - accuracy: 0.2686\n",
            "Epoch 2/3\n",
            "2000/2000 [==============================] - 4s 2ms/step - loss: 1.5943 - accuracy: 0.2756\n",
            "Epoch 3/3\n",
            "2000/2000 [==============================] - 4s 2ms/step - loss: 1.5907 - accuracy: 0.2731\n",
            "Epoch 1/3\n",
            "2000/2000 [==============================] - 5s 2ms/step - loss: 1.6864 - accuracy: 0.2669\n",
            "Epoch 2/3\n",
            "2000/2000 [==============================] - 4s 2ms/step - loss: 1.5943 - accuracy: 0.2735\n",
            "Epoch 3/3\n",
            "2000/2000 [==============================] - 5s 2ms/step - loss: 1.5900 - accuracy: 0.2753\n",
            "Epoch 1/3\n",
            "2000/2000 [==============================] - 5s 2ms/step - loss: 1.6083 - accuracy: 0.2922\n",
            "Epoch 2/3\n",
            "2000/2000 [==============================] - 5s 2ms/step - loss: 1.5669 - accuracy: 0.3015\n",
            "Epoch 3/3\n",
            "2000/2000 [==============================] - 5s 2ms/step - loss: 1.5556 - accuracy: 0.3051\n",
            "Epoch 1/3\n",
            "2000/2000 [==============================] - 6s 3ms/step - loss: 1.6060 - accuracy: 0.2862\n",
            "Epoch 2/3\n",
            "2000/2000 [==============================] - 5s 3ms/step - loss: 1.5664 - accuracy: 0.2997\n",
            "Epoch 3/3\n",
            "2000/2000 [==============================] - 4s 2ms/step - loss: 1.5567 - accuracy: 0.3038\n",
            "Epoch 1/3\n",
            "2000/2000 [==============================] - 5s 2ms/step - loss: 1.6029 - accuracy: 0.2861\n",
            "Epoch 2/3\n",
            "2000/2000 [==============================] - 4s 2ms/step - loss: 1.5671 - accuracy: 0.2965\n",
            "Epoch 3/3\n",
            "2000/2000 [==============================] - 4s 2ms/step - loss: 1.5577 - accuracy: 0.3006\n",
            "Epoch 1/3\n",
            "2000/2000 [==============================] - 6s 2ms/step - loss: 1.6074 - accuracy: 0.2860\n",
            "Epoch 2/3\n",
            "2000/2000 [==============================] - 4s 2ms/step - loss: 1.5684 - accuracy: 0.2981\n",
            "Epoch 3/3\n",
            "2000/2000 [==============================] - 4s 2ms/step - loss: 1.5582 - accuracy: 0.3006\n",
            "Epoch 1/3\n",
            "2000/2000 [==============================] - 5s 2ms/step - loss: 1.6011 - accuracy: 0.2886\n",
            "Epoch 2/3\n",
            "2000/2000 [==============================] - 5s 2ms/step - loss: 1.5674 - accuracy: 0.2959\n",
            "Epoch 3/3\n",
            "2000/2000 [==============================] - 5s 2ms/step - loss: 1.5569 - accuracy: 0.3009\n",
            "Epoch 1/3\n",
            "2000/2000 [==============================] - 4s 2ms/step - loss: 1.6184 - accuracy: 0.2276\n",
            "Epoch 2/3\n",
            "2000/2000 [==============================] - 4s 2ms/step - loss: 1.6141 - accuracy: 0.2309\n",
            "Epoch 3/3\n",
            "2000/2000 [==============================] - 4s 2ms/step - loss: 1.6143 - accuracy: 0.2286\n",
            "Epoch 1/3\n",
            "2000/2000 [==============================] - 4s 2ms/step - loss: 1.6175 - accuracy: 0.2240\n",
            "Epoch 2/3\n",
            "2000/2000 [==============================] - 4s 2ms/step - loss: 1.6142 - accuracy: 0.2262\n",
            "Epoch 3/3\n",
            "2000/2000 [==============================] - 4s 2ms/step - loss: 1.6163 - accuracy: 0.2265\n",
            "Epoch 1/3\n",
            "2000/2000 [==============================] - 4s 2ms/step - loss: 1.6170 - accuracy: 0.2240\n",
            "Epoch 2/3\n",
            "2000/2000 [==============================] - 4s 2ms/step - loss: 1.6139 - accuracy: 0.2262\n",
            "Epoch 3/3\n",
            "2000/2000 [==============================] - 4s 2ms/step - loss: 1.6142 - accuracy: 0.2281\n",
            "Epoch 1/3\n",
            "2000/2000 [==============================] - 4s 2ms/step - loss: 1.6156 - accuracy: 0.2272\n",
            "Epoch 2/3\n",
            "2000/2000 [==============================] - 4s 2ms/step - loss: 1.6174 - accuracy: 0.2233\n",
            "Epoch 3/3\n",
            "2000/2000 [==============================] - 4s 2ms/step - loss: 1.6135 - accuracy: 0.2272\n",
            "Epoch 1/3\n",
            "2000/2000 [==============================] - 5s 2ms/step - loss: 1.6165 - accuracy: 0.2259\n",
            "Epoch 2/3\n",
            "2000/2000 [==============================] - 4s 2ms/step - loss: 1.6149 - accuracy: 0.2251\n",
            "Epoch 3/3\n",
            "2000/2000 [==============================] - 4s 2ms/step - loss: 1.6166 - accuracy: 0.2236\n",
            "Epoch 1/3\n",
            "2000/2000 [==============================] - 4s 2ms/step - loss: 1.6186 - accuracy: 0.2241\n",
            "Epoch 2/3\n",
            "2000/2000 [==============================] - 4s 2ms/step - loss: 1.6139 - accuracy: 0.2287\n",
            "Epoch 3/3\n",
            "2000/2000 [==============================] - 4s 2ms/step - loss: 1.6153 - accuracy: 0.2262\n",
            "Epoch 1/3\n",
            "2000/2000 [==============================] - 4s 2ms/step - loss: 1.6160 - accuracy: 0.2273\n",
            "Epoch 2/3\n",
            "2000/2000 [==============================] - 4s 2ms/step - loss: 1.6155 - accuracy: 0.2257\n",
            "Epoch 3/3\n",
            "2000/2000 [==============================] - 4s 2ms/step - loss: 1.6161 - accuracy: 0.2261\n",
            "Epoch 1/3\n",
            "2000/2000 [==============================] - 4s 2ms/step - loss: 1.6158 - accuracy: 0.2300\n",
            "Epoch 2/3\n",
            "2000/2000 [==============================] - 4s 2ms/step - loss: 1.6134 - accuracy: 0.2262\n",
            "Epoch 3/3\n",
            "2000/2000 [==============================] - 4s 2ms/step - loss: 1.6139 - accuracy: 0.2285\n",
            "Epoch 1/3\n",
            "2000/2000 [==============================] - 4s 2ms/step - loss: 1.6164 - accuracy: 0.2292\n",
            "Epoch 2/3\n",
            "2000/2000 [==============================] - 4s 2ms/step - loss: 1.6146 - accuracy: 0.2262\n",
            "Epoch 3/3\n",
            "2000/2000 [==============================] - 4s 2ms/step - loss: 1.6145 - accuracy: 0.2285\n",
            "Epoch 1/3\n",
            "2000/2000 [==============================] - 4s 2ms/step - loss: 1.6164 - accuracy: 0.2303\n",
            "Epoch 2/3\n",
            "2000/2000 [==============================] - 4s 2ms/step - loss: 1.6140 - accuracy: 0.2246\n",
            "Epoch 3/3\n",
            "2000/2000 [==============================] - 4s 2ms/step - loss: 1.6161 - accuracy: 0.2251\n",
            "Epoch 1/3\n",
            "2000/2000 [==============================] - 4s 2ms/step - loss: 1.6009 - accuracy: 0.2666\n",
            "Epoch 2/3\n",
            "2000/2000 [==============================] - 4s 2ms/step - loss: 1.5888 - accuracy: 0.2681\n",
            "Epoch 3/3\n",
            "2000/2000 [==============================] - 4s 2ms/step - loss: 1.5850 - accuracy: 0.2716\n",
            "Epoch 1/3\n",
            "2000/2000 [==============================] - 5s 2ms/step - loss: 1.5999 - accuracy: 0.2657\n",
            "Epoch 2/3\n",
            "2000/2000 [==============================] - 4s 2ms/step - loss: 1.5890 - accuracy: 0.2689\n",
            "Epoch 3/3\n",
            "2000/2000 [==============================] - 4s 2ms/step - loss: 1.5865 - accuracy: 0.2705\n",
            "Epoch 1/3\n",
            "2000/2000 [==============================] - 5s 2ms/step - loss: 1.6028 - accuracy: 0.2459\n",
            "Epoch 2/3\n",
            "2000/2000 [==============================] - 4s 2ms/step - loss: 1.5953 - accuracy: 0.2462\n",
            "Epoch 3/3\n",
            "2000/2000 [==============================] - 4s 2ms/step - loss: 1.5945 - accuracy: 0.2459\n",
            "Epoch 1/3\n",
            "2000/2000 [==============================] - 5s 2ms/step - loss: 1.5988 - accuracy: 0.2649\n",
            "Epoch 2/3\n",
            "2000/2000 [==============================] - 4s 2ms/step - loss: 1.5883 - accuracy: 0.2693\n",
            "Epoch 3/3\n",
            "2000/2000 [==============================] - 4s 2ms/step - loss: 1.5858 - accuracy: 0.2712\n",
            "Epoch 1/3\n",
            "2000/2000 [==============================] - 5s 2ms/step - loss: 1.6041 - accuracy: 0.2501\n",
            "Epoch 2/3\n",
            "2000/2000 [==============================] - 4s 2ms/step - loss: 1.5958 - accuracy: 0.2531\n",
            "Epoch 3/3\n",
            "2000/2000 [==============================] - 4s 2ms/step - loss: 1.5953 - accuracy: 0.2531\n",
            "Epoch 1/3\n",
            "2000/2000 [==============================] - 5s 2ms/step - loss: 1.5758 - accuracy: 0.2767\n",
            "Epoch 2/3\n",
            "2000/2000 [==============================] - 4s 2ms/step - loss: 1.5672 - accuracy: 0.2851\n",
            "Epoch 3/3\n",
            "2000/2000 [==============================] - 4s 2ms/step - loss: 1.5666 - accuracy: 0.2821\n",
            "Epoch 1/3\n",
            "2000/2000 [==============================] - 5s 2ms/step - loss: 1.5772 - accuracy: 0.2743\n",
            "Epoch 2/3\n",
            "2000/2000 [==============================] - 4s 2ms/step - loss: 1.5689 - accuracy: 0.2799\n",
            "Epoch 3/3\n",
            "2000/2000 [==============================] - 4s 2ms/step - loss: 1.5649 - accuracy: 0.2825\n",
            "Epoch 1/3\n",
            "2000/2000 [==============================] - 4s 2ms/step - loss: 1.5750 - accuracy: 0.2777\n",
            "Epoch 2/3\n",
            "2000/2000 [==============================] - 4s 2ms/step - loss: 1.5661 - accuracy: 0.2830\n",
            "Epoch 3/3\n",
            "2000/2000 [==============================] - 4s 2ms/step - loss: 1.5628 - accuracy: 0.2848\n",
            "Epoch 1/3\n",
            "2000/2000 [==============================] - 4s 2ms/step - loss: 1.5750 - accuracy: 0.2786\n",
            "Epoch 2/3\n",
            "2000/2000 [==============================] - 4s 2ms/step - loss: 1.5661 - accuracy: 0.2828\n",
            "Epoch 3/3\n",
            "2000/2000 [==============================] - 4s 2ms/step - loss: 1.5633 - accuracy: 0.2829\n",
            "Epoch 1/3\n",
            "2000/2000 [==============================] - 4s 2ms/step - loss: 1.5786 - accuracy: 0.2720\n",
            "Epoch 2/3\n",
            "2000/2000 [==============================] - 4s 2ms/step - loss: 1.5701 - accuracy: 0.2737\n",
            "Epoch 3/3\n",
            "2000/2000 [==============================] - 4s 2ms/step - loss: 1.5677 - accuracy: 0.2784\n",
            "Epoch 1/3\n",
            "2000/2000 [==============================] - 4s 2ms/step - loss: 1.6538 - accuracy: 0.2723\n",
            "Epoch 2/3\n",
            "2000/2000 [==============================] - 4s 2ms/step - loss: 1.5853 - accuracy: 0.2762\n",
            "Epoch 3/3\n",
            "2000/2000 [==============================] - 4s 2ms/step - loss: 1.5806 - accuracy: 0.2794\n",
            "Epoch 1/3\n",
            "2000/2000 [==============================] - 4s 2ms/step - loss: 1.6384 - accuracy: 0.2709\n",
            "Epoch 2/3\n",
            "2000/2000 [==============================] - 4s 2ms/step - loss: 1.5842 - accuracy: 0.2772\n",
            "Epoch 3/3\n",
            "2000/2000 [==============================] - 4s 2ms/step - loss: 1.5798 - accuracy: 0.2786\n",
            "Epoch 1/3\n",
            "2000/2000 [==============================] - 4s 2ms/step - loss: 1.6531 - accuracy: 0.2690\n",
            "Epoch 2/3\n",
            "2000/2000 [==============================] - 4s 2ms/step - loss: 1.5845 - accuracy: 0.2755\n",
            "Epoch 3/3\n",
            "2000/2000 [==============================] - 4s 2ms/step - loss: 1.5801 - accuracy: 0.2779\n",
            "Epoch 1/3\n",
            "2000/2000 [==============================] - 4s 2ms/step - loss: 1.6528 - accuracy: 0.2663\n",
            "Epoch 2/3\n",
            "2000/2000 [==============================] - 4s 2ms/step - loss: 1.5849 - accuracy: 0.2757\n",
            "Epoch 3/3\n",
            "2000/2000 [==============================] - 4s 2ms/step - loss: 1.5808 - accuracy: 0.2764\n",
            "Epoch 1/3\n",
            "2000/2000 [==============================] - 5s 2ms/step - loss: 1.6368 - accuracy: 0.2730\n",
            "Epoch 2/3\n",
            "2000/2000 [==============================] - 4s 2ms/step - loss: 1.5834 - accuracy: 0.2785\n",
            "Epoch 3/3\n",
            "2000/2000 [==============================] - 4s 2ms/step - loss: 1.5795 - accuracy: 0.2778\n",
            "Epoch 1/3\n",
            "2000/2000 [==============================] - 5s 2ms/step - loss: 1.5844 - accuracy: 0.2818\n",
            "Epoch 2/3\n",
            "2000/2000 [==============================] - 4s 2ms/step - loss: 1.5624 - accuracy: 0.2945\n",
            "Epoch 3/3\n",
            "2000/2000 [==============================] - 4s 2ms/step - loss: 1.5569 - accuracy: 0.2971\n",
            "Epoch 1/3\n",
            "2000/2000 [==============================] - 5s 2ms/step - loss: 1.5832 - accuracy: 0.2815\n",
            "Epoch 2/3\n",
            "2000/2000 [==============================] - 4s 2ms/step - loss: 1.5617 - accuracy: 0.2929\n",
            "Epoch 3/3\n",
            "2000/2000 [==============================] - 4s 2ms/step - loss: 1.5563 - accuracy: 0.2967\n",
            "Epoch 1/3\n",
            "2000/2000 [==============================] - 5s 2ms/step - loss: 1.5867 - accuracy: 0.2795\n",
            "Epoch 2/3\n",
            "2000/2000 [==============================] - 4s 2ms/step - loss: 1.5627 - accuracy: 0.2910\n",
            "Epoch 3/3\n",
            "2000/2000 [==============================] - 4s 2ms/step - loss: 1.5556 - accuracy: 0.2959\n",
            "Epoch 1/3\n",
            "2000/2000 [==============================] - 5s 2ms/step - loss: 1.5853 - accuracy: 0.2770\n",
            "Epoch 2/3\n",
            "2000/2000 [==============================] - 4s 2ms/step - loss: 1.5612 - accuracy: 0.2944\n",
            "Epoch 3/3\n",
            "2000/2000 [==============================] - 4s 2ms/step - loss: 1.5545 - accuracy: 0.2964\n",
            "Epoch 1/3\n",
            "2000/2000 [==============================] - 5s 2ms/step - loss: 1.5858 - accuracy: 0.2771\n",
            "Epoch 2/3\n",
            "2000/2000 [==============================] - 4s 2ms/step - loss: 1.5605 - accuracy: 0.2941\n",
            "Epoch 3/3\n",
            "2000/2000 [==============================] - 4s 2ms/step - loss: 1.5550 - accuracy: 0.2965\n",
            "Epoch 1/3\n",
            "2000/2000 [==============================] - 5s 2ms/step - loss: 1.6162 - accuracy: 0.2293\n",
            "Epoch 2/3\n",
            "2000/2000 [==============================] - 5s 2ms/step - loss: 1.6143 - accuracy: 0.2246\n",
            "Epoch 3/3\n",
            "2000/2000 [==============================] - 5s 2ms/step - loss: 1.6156 - accuracy: 0.2277\n",
            "Epoch 1/3\n",
            "2000/2000 [==============================] - 5s 2ms/step - loss: 1.6166 - accuracy: 0.2286\n",
            "Epoch 2/3\n",
            "2000/2000 [==============================] - 5s 2ms/step - loss: 1.6150 - accuracy: 0.2253\n",
            "Epoch 3/3\n",
            "2000/2000 [==============================] - 4s 2ms/step - loss: 1.6139 - accuracy: 0.2281\n",
            "Epoch 1/3\n",
            "2000/2000 [==============================] - 5s 2ms/step - loss: 1.6172 - accuracy: 0.2248\n",
            "Epoch 2/3\n",
            "2000/2000 [==============================] - 4s 2ms/step - loss: 1.6151 - accuracy: 0.2262\n",
            "Epoch 3/3\n",
            "2000/2000 [==============================] - 5s 2ms/step - loss: 1.6128 - accuracy: 0.2267\n",
            "Epoch 1/3\n",
            "2000/2000 [==============================] - 5s 2ms/step - loss: 1.6162 - accuracy: 0.2267\n",
            "Epoch 2/3\n",
            "2000/2000 [==============================] - 4s 2ms/step - loss: 1.6142 - accuracy: 0.2263\n",
            "Epoch 3/3\n",
            "2000/2000 [==============================] - 4s 2ms/step - loss: 1.6152 - accuracy: 0.2279\n",
            "Epoch 1/3\n",
            "2000/2000 [==============================] - 5s 2ms/step - loss: 1.6169 - accuracy: 0.2254\n",
            "Epoch 2/3\n",
            "2000/2000 [==============================] - 4s 2ms/step - loss: 1.6166 - accuracy: 0.2253\n",
            "Epoch 3/3\n",
            "2000/2000 [==============================] - 4s 2ms/step - loss: 1.6162 - accuracy: 0.2261\n",
            "Epoch 1/3\n",
            "2000/2000 [==============================] - 5s 2ms/step - loss: 1.6158 - accuracy: 0.2286\n",
            "Epoch 2/3\n",
            "2000/2000 [==============================] - 4s 2ms/step - loss: 1.6136 - accuracy: 0.2269\n",
            "Epoch 3/3\n",
            "2000/2000 [==============================] - 4s 2ms/step - loss: 1.6135 - accuracy: 0.2277\n",
            "Epoch 1/3\n",
            "2000/2000 [==============================] - 6s 2ms/step - loss: 1.6157 - accuracy: 0.2271\n",
            "Epoch 2/3\n",
            "2000/2000 [==============================] - 4s 2ms/step - loss: 1.6148 - accuracy: 0.2255\n",
            "Epoch 3/3\n",
            "2000/2000 [==============================] - 4s 2ms/step - loss: 1.6147 - accuracy: 0.2252\n",
            "Epoch 1/3\n",
            "2000/2000 [==============================] - 5s 2ms/step - loss: 1.6157 - accuracy: 0.2289\n",
            "Epoch 2/3\n",
            "2000/2000 [==============================] - 4s 2ms/step - loss: 1.6141 - accuracy: 0.2264\n",
            "Epoch 3/3\n",
            "2000/2000 [==============================] - 4s 2ms/step - loss: 1.6133 - accuracy: 0.2280\n",
            "Epoch 1/3\n",
            "2000/2000 [==============================] - 5s 2ms/step - loss: 1.6158 - accuracy: 0.2275\n",
            "Epoch 2/3\n",
            "2000/2000 [==============================] - 4s 2ms/step - loss: 1.6142 - accuracy: 0.2256\n",
            "Epoch 3/3\n",
            "2000/2000 [==============================] - 4s 2ms/step - loss: 1.6137 - accuracy: 0.2269\n",
            "Epoch 1/3\n",
            "2000/2000 [==============================] - 5s 2ms/step - loss: 1.6159 - accuracy: 0.2288\n",
            "Epoch 2/3\n",
            "2000/2000 [==============================] - 4s 2ms/step - loss: 1.6159 - accuracy: 0.2263\n",
            "Epoch 3/3\n",
            "2000/2000 [==============================] - 4s 2ms/step - loss: 1.6153 - accuracy: 0.2273\n",
            "Epoch 1/3\n",
            "2000/2000 [==============================] - 5s 2ms/step - loss: 1.6070 - accuracy: 0.2432\n",
            "Epoch 2/3\n",
            "2000/2000 [==============================] - 4s 2ms/step - loss: 1.6002 - accuracy: 0.2418\n",
            "Epoch 3/3\n",
            "2000/2000 [==============================] - 4s 2ms/step - loss: 1.6002 - accuracy: 0.2432\n",
            "Epoch 1/3\n",
            "2000/2000 [==============================] - 5s 2ms/step - loss: 1.6048 - accuracy: 0.2414\n",
            "Epoch 2/3\n",
            "2000/2000 [==============================] - 4s 2ms/step - loss: 1.6002 - accuracy: 0.2426\n",
            "Epoch 3/3\n",
            "2000/2000 [==============================] - 4s 2ms/step - loss: 1.6001 - accuracy: 0.2417\n",
            "Epoch 1/3\n",
            "2000/2000 [==============================] - 5s 2ms/step - loss: 1.6046 - accuracy: 0.2425\n",
            "Epoch 2/3\n",
            "2000/2000 [==============================] - 4s 2ms/step - loss: 1.5999 - accuracy: 0.2429\n",
            "Epoch 3/3\n",
            "2000/2000 [==============================] - 4s 2ms/step - loss: 1.6001 - accuracy: 0.2422\n",
            "Epoch 1/3\n",
            "2000/2000 [==============================] - 5s 2ms/step - loss: 1.6053 - accuracy: 0.2433\n",
            "Epoch 2/3\n",
            "2000/2000 [==============================] - 4s 2ms/step - loss: 1.6002 - accuracy: 0.2430\n",
            "Epoch 3/3\n",
            "2000/2000 [==============================] - 4s 2ms/step - loss: 1.6003 - accuracy: 0.2439\n",
            "Epoch 1/3\n",
            "2000/2000 [==============================] - 5s 2ms/step - loss: 1.6071 - accuracy: 0.2424\n",
            "Epoch 2/3\n",
            "2000/2000 [==============================] - 4s 2ms/step - loss: 1.6004 - accuracy: 0.2437\n",
            "Epoch 3/3\n",
            "2000/2000 [==============================] - 4s 2ms/step - loss: 1.6007 - accuracy: 0.2427\n",
            "Epoch 1/3\n",
            "2000/2000 [==============================] - 5s 2ms/step - loss: 1.5803 - accuracy: 0.2730\n",
            "Epoch 2/3\n",
            "2000/2000 [==============================] - 4s 2ms/step - loss: 1.5734 - accuracy: 0.2762\n",
            "Epoch 3/3\n",
            "2000/2000 [==============================] - 4s 2ms/step - loss: 1.5712 - accuracy: 0.2782\n",
            "Epoch 1/3\n",
            "2000/2000 [==============================] - 5s 2ms/step - loss: 1.5795 - accuracy: 0.2720\n",
            "Epoch 2/3\n",
            "2000/2000 [==============================] - 4s 2ms/step - loss: 1.5712 - accuracy: 0.2777\n",
            "Epoch 3/3\n",
            "2000/2000 [==============================] - 4s 2ms/step - loss: 1.5690 - accuracy: 0.2786\n",
            "Epoch 1/3\n",
            "2000/2000 [==============================] - 5s 2ms/step - loss: 1.5793 - accuracy: 0.2725\n",
            "Epoch 2/3\n",
            "2000/2000 [==============================] - 4s 2ms/step - loss: 1.5719 - accuracy: 0.2748\n",
            "Epoch 3/3\n",
            "2000/2000 [==============================] - 4s 2ms/step - loss: 1.5693 - accuracy: 0.2798\n",
            "Epoch 1/3\n",
            "2000/2000 [==============================] - 5s 2ms/step - loss: 1.5794 - accuracy: 0.2757\n",
            "Epoch 2/3\n",
            "2000/2000 [==============================] - 4s 2ms/step - loss: 1.5725 - accuracy: 0.2762\n",
            "Epoch 3/3\n",
            "2000/2000 [==============================] - 4s 2ms/step - loss: 1.5714 - accuracy: 0.2790\n",
            "Epoch 1/3\n",
            "2000/2000 [==============================] - 5s 2ms/step - loss: 1.5787 - accuracy: 0.2734\n",
            "Epoch 2/3\n",
            "2000/2000 [==============================] - 4s 2ms/step - loss: 1.5697 - accuracy: 0.2775\n",
            "Epoch 3/3\n",
            "2000/2000 [==============================] - 4s 2ms/step - loss: 1.5681 - accuracy: 0.2803\n",
            "Epoch 1/3\n",
            "2000/2000 [==============================] - 5s 2ms/step - loss: 1.6494 - accuracy: 0.2442\n",
            "Epoch 2/3\n",
            "2000/2000 [==============================] - 5s 2ms/step - loss: 1.6005 - accuracy: 0.2492\n",
            "Epoch 3/3\n",
            "2000/2000 [==============================] - 5s 2ms/step - loss: 1.5983 - accuracy: 0.2509\n",
            "Epoch 1/3\n",
            "2000/2000 [==============================] - 5s 2ms/step - loss: 1.6609 - accuracy: 0.2650\n",
            "Epoch 2/3\n",
            "2000/2000 [==============================] - 4s 2ms/step - loss: 1.5965 - accuracy: 0.2738\n",
            "Epoch 3/3\n",
            "2000/2000 [==============================] - 5s 2ms/step - loss: 1.5922 - accuracy: 0.2751\n",
            "Epoch 1/3\n",
            "2000/2000 [==============================] - 5s 2ms/step - loss: 1.6622 - accuracy: 0.2590\n",
            "Epoch 2/3\n",
            "2000/2000 [==============================] - 4s 2ms/step - loss: 1.5970 - accuracy: 0.2709\n",
            "Epoch 3/3\n",
            "2000/2000 [==============================] - 4s 2ms/step - loss: 1.5918 - accuracy: 0.2766\n",
            "Epoch 1/3\n",
            "2000/2000 [==============================] - 5s 2ms/step - loss: 1.6624 - accuracy: 0.2476\n",
            "Epoch 2/3\n",
            "2000/2000 [==============================] - 4s 2ms/step - loss: 1.5981 - accuracy: 0.2579\n",
            "Epoch 3/3\n",
            "2000/2000 [==============================] - 4s 2ms/step - loss: 1.5944 - accuracy: 0.2608\n",
            "Epoch 1/3\n",
            "2000/2000 [==============================] - 5s 2ms/step - loss: 1.6563 - accuracy: 0.2609\n",
            "Epoch 2/3\n",
            "2000/2000 [==============================] - 4s 2ms/step - loss: 1.5958 - accuracy: 0.2647\n",
            "Epoch 3/3\n",
            "2000/2000 [==============================] - 4s 2ms/step - loss: 1.5929 - accuracy: 0.2651\n",
            "Epoch 1/3\n",
            "2000/2000 [==============================] - 5s 2ms/step - loss: 1.5861 - accuracy: 0.2815\n",
            "Epoch 2/3\n",
            "2000/2000 [==============================] - 4s 2ms/step - loss: 1.5648 - accuracy: 0.2959\n",
            "Epoch 3/3\n",
            "2000/2000 [==============================] - 4s 2ms/step - loss: 1.5582 - accuracy: 0.3021\n",
            "Epoch 1/3\n",
            "2000/2000 [==============================] - 5s 2ms/step - loss: 1.5893 - accuracy: 0.2754\n",
            "Epoch 2/3\n",
            "2000/2000 [==============================] - 4s 2ms/step - loss: 1.5676 - accuracy: 0.2930\n",
            "Epoch 3/3\n",
            "2000/2000 [==============================] - 4s 2ms/step - loss: 1.5615 - accuracy: 0.2936\n",
            "Epoch 1/3\n",
            "2000/2000 [==============================] - 5s 2ms/step - loss: 1.5888 - accuracy: 0.2793\n",
            "Epoch 2/3\n",
            "2000/2000 [==============================] - 4s 2ms/step - loss: 1.5663 - accuracy: 0.2912\n",
            "Epoch 3/3\n",
            "2000/2000 [==============================] - 4s 2ms/step - loss: 1.5602 - accuracy: 0.2953\n",
            "Epoch 1/3\n",
            "2000/2000 [==============================] - 5s 2ms/step - loss: 1.5940 - accuracy: 0.2780\n",
            "Epoch 2/3\n",
            "2000/2000 [==============================] - 4s 2ms/step - loss: 1.5682 - accuracy: 0.2864\n",
            "Epoch 3/3\n",
            "2000/2000 [==============================] - 4s 2ms/step - loss: 1.5627 - accuracy: 0.2906\n",
            "Epoch 1/3\n",
            "2000/2000 [==============================] - 5s 2ms/step - loss: 1.5886 - accuracy: 0.2790\n",
            "Epoch 2/3\n",
            "2000/2000 [==============================] - 4s 2ms/step - loss: 1.5671 - accuracy: 0.2879\n",
            "Epoch 3/3\n",
            "2000/2000 [==============================] - 4s 2ms/step - loss: 1.5629 - accuracy: 0.2900\n",
            "Epoch 1/3\n",
            "2500/2500 [==============================] - 8s 3ms/step - loss: 1.6013 - accuracy: 0.2912\n",
            "Epoch 2/3\n",
            "2500/2500 [==============================] - 6s 3ms/step - loss: 1.5630 - accuracy: 0.3015\n",
            "Epoch 3/3\n",
            "2500/2500 [==============================] - 6s 2ms/step - loss: 1.5534 - accuracy: 0.3057\n"
          ]
        },
        {
          "output_type": "execute_result",
          "data": {
            "text/plain": [
              "GridSearchCV(estimator=<keras.wrappers.scikit_learn.KerasClassifier object at 0x7f07590e1290>,\n",
              "             n_jobs=1,\n",
              "             param_grid={'dense_layer_sizes': [[40, 30, 30], [30, 10],\n",
              "                                               [30, 10, 10]],\n",
              "                         'epochs': [3], 'lr': [0.1, 0.01, 0.001],\n",
              "                         'regularizations': [0.01, 0.001]},\n",
              "             scoring='accuracy')"
            ]
          },
          "metadata": {},
          "execution_count": 126
        }
      ]
    },
    {
      "cell_type": "code",
      "source": [
        "from sklearn.metrics import SCORERS as s\n",
        "sorted(s.keys())"
      ],
      "metadata": {
        "id": "LaAeaT5qAPh5",
        "outputId": "7461b6b5-8544-4bff-d1bc-e835c8b8534e",
        "colab": {
          "base_uri": "https://localhost:8080/"
        }
      },
      "execution_count": null,
      "outputs": [
        {
          "output_type": "execute_result",
          "data": {
            "text/plain": [
              "['accuracy',\n",
              " 'adjusted_mutual_info_score',\n",
              " 'adjusted_rand_score',\n",
              " 'average_precision',\n",
              " 'balanced_accuracy',\n",
              " 'completeness_score',\n",
              " 'explained_variance',\n",
              " 'f1',\n",
              " 'f1_macro',\n",
              " 'f1_micro',\n",
              " 'f1_samples',\n",
              " 'f1_weighted',\n",
              " 'fowlkes_mallows_score',\n",
              " 'homogeneity_score',\n",
              " 'jaccard',\n",
              " 'jaccard_macro',\n",
              " 'jaccard_micro',\n",
              " 'jaccard_samples',\n",
              " 'jaccard_weighted',\n",
              " 'max_error',\n",
              " 'mutual_info_score',\n",
              " 'neg_brier_score',\n",
              " 'neg_log_loss',\n",
              " 'neg_mean_absolute_error',\n",
              " 'neg_mean_absolute_percentage_error',\n",
              " 'neg_mean_gamma_deviance',\n",
              " 'neg_mean_poisson_deviance',\n",
              " 'neg_mean_squared_error',\n",
              " 'neg_mean_squared_log_error',\n",
              " 'neg_median_absolute_error',\n",
              " 'neg_root_mean_squared_error',\n",
              " 'normalized_mutual_info_score',\n",
              " 'precision',\n",
              " 'precision_macro',\n",
              " 'precision_micro',\n",
              " 'precision_samples',\n",
              " 'precision_weighted',\n",
              " 'r2',\n",
              " 'rand_score',\n",
              " 'recall',\n",
              " 'recall_macro',\n",
              " 'recall_micro',\n",
              " 'recall_samples',\n",
              " 'recall_weighted',\n",
              " 'roc_auc',\n",
              " 'roc_auc_ovo',\n",
              " 'roc_auc_ovo_weighted',\n",
              " 'roc_auc_ovr',\n",
              " 'roc_auc_ovr_weighted',\n",
              " 'top_k_accuracy',\n",
              " 'v_measure_score']"
            ]
          },
          "metadata": {},
          "execution_count": 124
        }
      ]
    },
    {
      "cell_type": "code",
      "source": [
        "print('The parameters of the best model are: ')\n",
        "print(validator.best_params_)\n",
        "\n",
        "# validator.best_estimator_ returns sklearn-wrapped version of best model.\n",
        "# validator.best_estimator_.model returns the (unwrapped) keras model\n",
        "best_model = validator.best_estimator_"
      ],
      "metadata": {
        "id": "Mxb_tUojhfF_",
        "outputId": "63852777-dcab-42a6-8d35-071690a35b35",
        "colab": {
          "base_uri": "https://localhost:8080/"
        }
      },
      "execution_count": null,
      "outputs": [
        {
          "output_type": "stream",
          "name": "stdout",
          "text": [
            "The parameters of the best model are: \n",
            "{'dense_layer_sizes': [40, 30, 30], 'epochs': 3, 'lr': 0.001, 'regularizations': 0.001}\n"
          ]
        }
      ]
    },
    {
      "cell_type": "code",
      "source": [
        "epch = 1000\n",
        "hist = best_model.fit(X2_test, Y2_test, batch_size=500, epochs=epch , verbose=0)"
      ],
      "metadata": {
        "id": "RcAO__Onwlsn"
      },
      "execution_count": null,
      "outputs": []
    },
    {
      "cell_type": "code",
      "source": [
        "fig = plt.figure(figsize=(15,5))\n",
        "\n",
        "ax1 = fig.add_subplot(1,2,1, title='Model Loss', ylabel= 'Loss')\n",
        "ax1.plot(hist.history['loss'], label='test set')\n",
        "plt.legend(loc=0)\n",
        "\n",
        "ax2 = fig.add_subplot(1,2,2, title = 'Model accuracy', ylabel= 'Accuracy')\n",
        "ax2.plot(hist.history['accuracy'], label='test set')\n",
        "plt.legend(loc=0)\n",
        "plt.show()"
      ],
      "metadata": {
        "id": "OKXLs7EIHmjj",
        "outputId": "ae76e821-c722-494c-c952-8047064b0aec",
        "colab": {
          "base_uri": "https://localhost:8080/",
          "height": 343
        }
      },
      "execution_count": null,
      "outputs": [
        {
          "output_type": "display_data",
          "data": {
            "image/png": "[encoded data removed]",
            "text/plain": [
              "<Figure size 1080x360 with 2 Axes>"
            ]
          },
          "metadata": {
            "needs_background": "light"
          }
        }
      ]
    },
    {
      "cell_type": "code",
      "source": [
        "val_acc_per_epoch = hist.history['accuracy']\n",
        "best_CDM_1 = max(val_acc_per_epoch)\n",
        "best_epoch = val_acc_per_epoch.index(max(val_acc_per_epoch)) + 1\n",
        "print('Best epoch: %d' % (best_epoch,))\n",
        "print('Best accuracy: %f' %(best_CDM_1,))"
      ],
      "metadata": {
        "id": "83uPS13kO4uC",
        "outputId": "948b5d1b-0b76-458e-c539-c2d16d42b095",
        "colab": {
          "base_uri": "https://localhost:8080/"
        }
      },
      "execution_count": null,
      "outputs": [
        {
          "output_type": "stream",
          "name": "stdout",
          "text": [
            "Best epoch: 923\n",
            "Best accuracy: 0.370150\n"
          ]
        }
      ]
    },
    {
      "cell_type": "markdown",
      "source": [
        "####KerasTuner"
      ],
      "metadata": {
        "id": "eOHA_bHPW1pV"
      }
    },
    {
      "cell_type": "code",
      "source": [
        "# https://www.tensorflow.org/tutorials/keras/keras_tuner\n",
        "def model_builder(hp):\n",
        "  model = keras.Sequential()\n",
        "  model.add(keras.layers.Flatten(input_shape=(12, )))\n",
        "\n",
        "  # Tune the number of units in the first Dense layer\n",
        "  # Choose an optimal value between 32-512\n",
        "  hp_units = hp.Int('units', min_value=12, max_value=40, step=2)\n",
        "  model.add(keras.layers.Dense(units=hp_units, \n",
        "                               activation='relu', \n",
        "                               kernel_regularizer=keras.regularizers.l2(.05)))\n",
        "  model.add(keras.layers.Dense(units=hp_units, \n",
        "                               activation='tanh', \n",
        "                               kernel_regularizer=keras.regularizers.l2(.05)))\n",
        "  model.add(keras.layers.Dense(5))\n",
        "\n",
        "  # Tune the learning rate for the optimizer\n",
        "  # Choose an optimal value from 0.01, 0.001, or 0.0001\n",
        "  hp_learning_rate = hp.Choice('learning_rate', values=[1e-2, 1e-3, 1e-4, 2e-2])\n",
        "\n",
        "  model.compile(optimizer=keras.optimizers.Adam(learning_rate=hp_learning_rate),\n",
        "                loss=keras.losses.SparseCategoricalCrossentropy(from_logits=True),\n",
        "                metrics=['accuracy'])\n",
        "\n",
        "  return model"
      ],
      "metadata": {
        "id": "4j7fx1_CVmqz"
      },
      "execution_count": null,
      "outputs": []
    },
    {
      "cell_type": "code",
      "source": [
        "tuner = kt.Hyperband(model_builder,\n",
        "                     objective='val_accuracy',\n",
        "                     max_epochs=10,\n",
        "                     factor=3,\n",
        "                     project_name='kt2')"
      ],
      "metadata": {
        "id": "OjGbAZguVmq6"
      },
      "execution_count": null,
      "outputs": []
    },
    {
      "cell_type": "code",
      "source": [
        "stop_early = keras.callbacks.EarlyStopping(monitor='val_loss', patience=5)"
      ],
      "metadata": {
        "id": "sqWZV5LTVmq6"
      },
      "execution_count": null,
      "outputs": []
    },
    {
      "cell_type": "code",
      "source": [
        "tuner.search(X2_train, Y2_train, \n",
        "             epochs=50, \n",
        "             batch_size = 100, \n",
        "             validation_split=0.2, \n",
        "             callbacks=[stop_early])\n",
        "\n",
        "# Get the optimal hyperparameters\n",
        "best_hps=tuner.get_best_hyperparameters(num_trials=1)[0]\n",
        "\n",
        "print(f\"\"\"\n",
        "The hyperparameter search is complete. The optimal number of units in the first densely-connected\n",
        "layer is {best_hps.get('units')} and the optimal learning rate for the optimizer\n",
        "is {best_hps.get('learning_rate')}.\n",
        "\"\"\")"
      ],
      "metadata": {
        "colab": {
          "base_uri": "https://localhost:8080/"
        },
        "outputId": "cb4b9434-4364-4088-8a01-f816ed6e1384",
        "id": "2ywCL8PHVmq6"
      },
      "execution_count": null,
      "outputs": [
        {
          "output_type": "stream",
          "name": "stdout",
          "text": [
            "Trial 30 Complete [00h 00m 42s]\n",
            "val_accuracy: 0.2826874852180481\n",
            "\n",
            "Best val_accuracy So Far: 0.2826874852180481\n",
            "Total elapsed time: 00h 06m 19s\n",
            "INFO:tensorflow:Oracle triggered exit\n",
            "\n",
            "The hyperparameter search is complete. The optimal number of units in the first densely-connected\n",
            "layer is 30 and the optimal learning rate for the optimizer\n",
            "is 0.001.\n",
            "\n"
          ]
        }
      ]
    },
    {
      "cell_type": "markdown",
      "source": [
        "### Best Model"
      ],
      "metadata": {
        "id": "eAfx1gPvWPQc"
      }
    },
    {
      "cell_type": "code",
      "source": [
        "# Build the model with the optimal hyperparameters and train it on the data for 50 epochs\n",
        "model = tuner.hypermodel.build(best_hps)\n",
        "history = model.fit(X2_train, Y2_train, \n",
        "                    epochs=30, \n",
        "                    batch_size = 100, \n",
        "                    validation_data=(X2_test, Y2_test))\n",
        "\n",
        "val_acc_per_epoch = history.history['val_accuracy']\n",
        "best_CDM = max(val_acc_per_epoch)\n",
        "best_epoch = val_acc_per_epoch.index(max(val_acc_per_epoch)) + 1\n",
        "print('Best epoch: %d' % (best_epoch,))"
      ],
      "metadata": {
        "colab": {
          "base_uri": "https://localhost:8080/"
        },
        "outputId": "b7d0b2aa-0668-4605-bfd3-b55c52f54187",
        "id": "-et9iHZyWPQj"
      },
      "execution_count": null,
      "outputs": [
        {
          "output_type": "stream",
          "name": "stdout",
          "text": [
            "Epoch 1/30\n",
            "800/800 [==============================] - 2s 2ms/step - loss: 1.9352 - accuracy: 0.2613 - val_loss: 1.5936 - val_accuracy: 0.2504\n",
            "Epoch 2/30\n",
            "800/800 [==============================] - 2s 2ms/step - loss: 1.5941 - accuracy: 0.2591 - val_loss: 1.5897 - val_accuracy: 0.2594\n",
            "Epoch 3/30\n",
            "800/800 [==============================] - 2s 2ms/step - loss: 1.5903 - accuracy: 0.2693 - val_loss: 1.5855 - val_accuracy: 0.2702\n",
            "Epoch 4/30\n",
            "800/800 [==============================] - 2s 2ms/step - loss: 1.5862 - accuracy: 0.2749 - val_loss: 1.5801 - val_accuracy: 0.2763\n",
            "Epoch 5/30\n",
            "800/800 [==============================] - 2s 2ms/step - loss: 1.5829 - accuracy: 0.2746 - val_loss: 1.5785 - val_accuracy: 0.2831\n",
            "Epoch 6/30\n",
            "800/800 [==============================] - 2s 2ms/step - loss: 1.5805 - accuracy: 0.2768 - val_loss: 1.5754 - val_accuracy: 0.2779\n",
            "Epoch 7/30\n",
            "800/800 [==============================] - 2s 2ms/step - loss: 1.5788 - accuracy: 0.2782 - val_loss: 1.5730 - val_accuracy: 0.2789\n",
            "Epoch 8/30\n",
            "800/800 [==============================] - 2s 2ms/step - loss: 1.5770 - accuracy: 0.2787 - val_loss: 1.5720 - val_accuracy: 0.2812\n",
            "Epoch 9/30\n",
            "800/800 [==============================] - 2s 2ms/step - loss: 1.5760 - accuracy: 0.2778 - val_loss: 1.5714 - val_accuracy: 0.2813\n",
            "Epoch 10/30\n",
            "800/800 [==============================] - 2s 2ms/step - loss: 1.5754 - accuracy: 0.2781 - val_loss: 1.5740 - val_accuracy: 0.2786\n",
            "Epoch 11/30\n",
            "800/800 [==============================] - 2s 2ms/step - loss: 1.5746 - accuracy: 0.2779 - val_loss: 1.5700 - val_accuracy: 0.2785\n",
            "Epoch 12/30\n",
            "800/800 [==============================] - 2s 2ms/step - loss: 1.5736 - accuracy: 0.2788 - val_loss: 1.5690 - val_accuracy: 0.2792\n",
            "Epoch 13/30\n",
            "800/800 [==============================] - 2s 2ms/step - loss: 1.5731 - accuracy: 0.2792 - val_loss: 1.5704 - val_accuracy: 0.2797\n",
            "Epoch 14/30\n",
            "800/800 [==============================] - 2s 2ms/step - loss: 1.5725 - accuracy: 0.2790 - val_loss: 1.5681 - val_accuracy: 0.2802\n",
            "Epoch 15/30\n",
            "800/800 [==============================] - 2s 2ms/step - loss: 1.5716 - accuracy: 0.2789 - val_loss: 1.5670 - val_accuracy: 0.2837\n",
            "Epoch 16/30\n",
            "800/800 [==============================] - 2s 2ms/step - loss: 1.5709 - accuracy: 0.2794 - val_loss: 1.5680 - val_accuracy: 0.2790\n",
            "Epoch 17/30\n",
            "800/800 [==============================] - 2s 2ms/step - loss: 1.5704 - accuracy: 0.2794 - val_loss: 1.5658 - val_accuracy: 0.2835\n",
            "Epoch 18/30\n",
            "800/800 [==============================] - 2s 2ms/step - loss: 1.5701 - accuracy: 0.2805 - val_loss: 1.5655 - val_accuracy: 0.2820\n",
            "Epoch 19/30\n",
            "800/800 [==============================] - 2s 2ms/step - loss: 1.5697 - accuracy: 0.2806 - val_loss: 1.5657 - val_accuracy: 0.2785\n",
            "Epoch 20/30\n",
            "800/800 [==============================] - 2s 2ms/step - loss: 1.5695 - accuracy: 0.2804 - val_loss: 1.5638 - val_accuracy: 0.2844\n",
            "Epoch 21/30\n",
            "800/800 [==============================] - 2s 2ms/step - loss: 1.5690 - accuracy: 0.2791 - val_loss: 1.5642 - val_accuracy: 0.2812\n",
            "Epoch 22/30\n",
            "800/800 [==============================] - 3s 3ms/step - loss: 1.5691 - accuracy: 0.2806 - val_loss: 1.5661 - val_accuracy: 0.2831\n",
            "Epoch 23/30\n",
            "800/800 [==============================] - 3s 4ms/step - loss: 1.5685 - accuracy: 0.2806 - val_loss: 1.5674 - val_accuracy: 0.2876\n",
            "Epoch 24/30\n",
            "800/800 [==============================] - 3s 4ms/step - loss: 1.5684 - accuracy: 0.2815 - val_loss: 1.5630 - val_accuracy: 0.2830\n",
            "Epoch 25/30\n",
            "800/800 [==============================] - 2s 2ms/step - loss: 1.5681 - accuracy: 0.2809 - val_loss: 1.5642 - val_accuracy: 0.2822\n",
            "Epoch 26/30\n",
            "800/800 [==============================] - 2s 2ms/step - loss: 1.5679 - accuracy: 0.2811 - val_loss: 1.5648 - val_accuracy: 0.2826\n",
            "Epoch 27/30\n",
            "800/800 [==============================] - 2s 2ms/step - loss: 1.5680 - accuracy: 0.2807 - val_loss: 1.5621 - val_accuracy: 0.2784\n",
            "Epoch 28/30\n",
            "800/800 [==============================] - 2s 2ms/step - loss: 1.5676 - accuracy: 0.2800 - val_loss: 1.5630 - val_accuracy: 0.2821\n",
            "Epoch 29/30\n",
            "800/800 [==============================] - 2s 2ms/step - loss: 1.5676 - accuracy: 0.2818 - val_loss: 1.5650 - val_accuracy: 0.2792\n",
            "Epoch 30/30\n",
            "800/800 [==============================] - 2s 2ms/step - loss: 1.5672 - accuracy: 0.2806 - val_loss: 1.5626 - val_accuracy: 0.2852\n",
            "Best epoch: 23\n"
          ]
        }
      ]
    },
    {
      "cell_type": "code",
      "source": [
        "# Plot training & validation accuracy values\n",
        "fig = plt.figure(figsize=(14,5))\n",
        "ax = fig.add_subplot(1,2,1, title = 'Model accuracy', ylabel= 'Accuracy')\n",
        "plt.plot(history.history['accuracy'])\n",
        "plt.plot(history.history['val_accuracy'])\n",
        "plt.legend(['Train', 'Test'], loc='upper left')\n",
        "\n",
        "# Plot training & validation loss values\n",
        "ax = fig.add_subplot(1,2,2, title = 'Model loss', ylabel= 'Loss')\n",
        "plt.plot(history.history['loss'])\n",
        "plt.plot(history.history['val_loss'])\n",
        "plt.legend(['Train', 'Test'], loc='upper left')\n",
        "\n",
        "plt.tight_layout()\n",
        "plt.show()"
      ],
      "metadata": {
        "colab": {
          "base_uri": "https://localhost:8080/",
          "height": 352
        },
        "outputId": "4c33eebb-d1e4-49b5-d2ca-8753f6191b3a",
        "id": "nFXOcXn_WPQk"
      },
      "execution_count": null,
      "outputs": [
        {
          "output_type": "display_data",
          "data": {
            "image/png": "[encoded data removed]",
            "text/plain": [
              "<Figure size 1008x360 with 2 Axes>"
            ]
          },
          "metadata": {
            "needs_background": "light"
          }
        }
      ]
    },
    {
      "cell_type": "code",
      "source": [
        "!pip install"
      ],
      "metadata": {
        "id": "hD0JGQYhfkHQ"
      },
      "execution_count": null,
      "outputs": []
    },
    {
      "cell_type": "markdown",
      "source": [
        "### Classification Report"
      ],
      "metadata": {
        "id": "tGez4aFRWPQk"
      }
    },
    {
      "cell_type": "code",
      "source": [
        "from sklearn.metrics import classification_report\n",
        "clf_report_CDM = classification_report(Y2_test, model.predict(X2_test).argmax(axis=1))"
      ],
      "metadata": {
        "colab": {
          "base_uri": "https://localhost:8080/"
        },
        "outputId": "ff0dbeb6-fb8c-4e0d-9379-c380162d28c5",
        "id": "-xTP9C5QWPQk"
      },
      "execution_count": null,
      "outputs": [
        {
          "output_type": "stream",
          "name": "stderr",
          "text": [
            "/usr/local/lib/python3.7/dist-packages/sklearn/metrics/_classification.py:1308: UndefinedMetricWarning: Precision and F-score are ill-defined and being set to 0.0 in labels with no predicted samples. Use `zero_division` parameter to control this behavior.\n",
            "  _warn_prf(average, modifier, msg_start, len(result))\n",
            "/usr/local/lib/python3.7/dist-packages/sklearn/metrics/_classification.py:1308: UndefinedMetricWarning: Precision and F-score are ill-defined and being set to 0.0 in labels with no predicted samples. Use `zero_division` parameter to control this behavior.\n",
            "  _warn_prf(average, modifier, msg_start, len(result))\n",
            "/usr/local/lib/python3.7/dist-packages/sklearn/metrics/_classification.py:1308: UndefinedMetricWarning: Precision and F-score are ill-defined and being set to 0.0 in labels with no predicted samples. Use `zero_division` parameter to control this behavior.\n",
            "  _warn_prf(average, modifier, msg_start, len(result))\n"
          ]
        }
      ]
    },
    {
      "cell_type": "code",
      "source": [
        "from sklearn.metrics import ConfusionMatrixDisplay, confusion_matrix\n",
        "\n",
        "cm_CDM = confusion_matrix(Y2_test, model.predict(X2_test).argmax(axis=1))"
      ],
      "metadata": {
        "id": "D6thl5ATWPQk"
      },
      "execution_count": null,
      "outputs": []
    },
    {
      "cell_type": "markdown",
      "source": [
        "## Compare Results"
      ],
      "metadata": {
        "id": "y87XOm70W8Xa"
      }
    },
    {
      "cell_type": "code",
      "source": [
        "print(f'Best Accuracy on Neutrino: {best_n}')\n",
        "print(clf_report_n)\n",
        "print('-'*20)\n",
        "\n",
        "print(f'Best Accuracy on CDM: {best_CDM}')\n",
        "print(clf_report_CDM)\n",
        "\n",
        "fig = plt.figure(figsize=(18,6))\n",
        "\n",
        "disp1 = ConfusionMatrixDisplay(confusion_matrix=cm_n)\n",
        "ax1 = fig.add_subplot(1,2,1, title='Neutrino')\n",
        "disp1.plot(ax=ax1)\n",
        "\n",
        "disp2 = ConfusionMatrixDisplay(confusion_matrix=cm_CDM)\n",
        "ax2 = fig.add_subplot(1,2,2, title='CDM')\n",
        "disp2.plot(ax=ax2)\n",
        "plt.show()"
      ],
      "metadata": {
        "colab": {
          "base_uri": "https://localhost:8080/",
          "height": 881
        },
        "id": "cz6nHO0ZW_L6",
        "outputId": "c961b97e-8838-4807-86f3-077ae415dcf3"
      },
      "execution_count": null,
      "outputs": [
        {
          "output_type": "stream",
          "name": "stdout",
          "text": [
            "Best Accuracy on Neutrino: 0.2815000116825104\n",
            "              precision    recall  f1-score   support\n",
            "\n",
            "           0       0.23      0.10      0.13      4429\n",
            "           1       0.25      0.25      0.25      3719\n",
            "           2       0.00      0.00      0.00      3208\n",
            "           3       0.29      0.66      0.40      4931\n",
            "           4       0.30      0.26      0.28      3713\n",
            "\n",
            "    accuracy                           0.28     20000\n",
            "   macro avg       0.21      0.25      0.21     20000\n",
            "weighted avg       0.22      0.28      0.23     20000\n",
            "\n",
            "--------------------\n",
            "Best Accuracy on CDM: 0.28760001063346863\n",
            "              precision    recall  f1-score   support\n",
            "\n",
            "           0       0.23      0.14      0.18      4429\n",
            "           1       0.28      0.18      0.22      3719\n",
            "           2       0.00      0.00      0.00      3208\n",
            "           3       0.30      0.58      0.40      4931\n",
            "           4       0.29      0.41      0.34      3713\n",
            "\n",
            "    accuracy                           0.29     20000\n",
            "   macro avg       0.22      0.26      0.23     20000\n",
            "weighted avg       0.23      0.29      0.24     20000\n",
            "\n"
          ]
        },
        {
          "output_type": "display_data",
          "data": {
            "image/png": "[encoded data removed]",
            "text/plain": [
              "<Figure size 1296x432 with 4 Axes>"
            ]
          },
          "metadata": {
            "needs_background": "light"
          }
        }
      ]
    }
  ],
  "metadata": {
    "colab": {
      "collapsed_sections": [
        "U4iafM7UvixV",
        "laZHQWG-ytLW"
      ],
      "name": "NN_Keras_Multi.ipynb",
      "provenance": [],
      "include_colab_link": true
    },
    "interpreter": {
      "hash": "fe5d99aa55929fe810a91df1bb66991ee2efa56184cda4e0a18aeeaadde96492"
    },
    "kernelspec": {
      "display_name": "Python 3.10.0 64-bit",
      "language": "python",
      "name": "python3"
    },
    "language_info": {
      "codemirror_mode": {
        "name": "ipython",
        "version": 3
      },
      "file_extension": ".py",
      "mimetype": "text/x-python",
      "name": "python",
      "nbconvert_exporter": "python",
      "pygments_lexer": "ipython3",
      "version": "3.10.0"
    },
    "orig_nbformat": 4
  },
  "nbformat": 4,
  "nbformat_minor": 0
}