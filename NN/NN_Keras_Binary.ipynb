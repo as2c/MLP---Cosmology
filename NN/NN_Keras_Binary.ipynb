{
  "cells": [
    {
      "cell_type": "markdown",
      "metadata": {
        "id": "view-in-github",
        "colab_type": "text"
      },
      "source": [
        "<a href=\"https://colab.research.google.com/github/as2c/MLP---Cosmology/blob/main/NN/NN_Keras_Binary.ipynb\" target=\"_parent\"><img src=\"https://colab.research.google.com/assets/colab-badge.svg\" alt=\"Open In Colab\"/></a>"
      ]
    },
    {
      "cell_type": "markdown",
      "metadata": {
        "id": "jwLDDwkEvixQ"
      },
      "source": [
        "In this code, our objective is to train some neural network models on our test data."
      ]
    },
    {
      "cell_type": "markdown",
      "metadata": {
        "id": "U4iafM7UvixV"
      },
      "source": [
        "### Import required libraries"
      ]
    },
    {
      "cell_type": "code",
      "execution_count": 145,
      "metadata": {
        "colab": {
          "base_uri": "https://localhost:8080/"
        },
        "id": "Mx7soy-MvixW",
        "outputId": "c83f0172-b83b-4c6b-80b6-2257ee9e3635"
      },
      "outputs": [
        {
          "output_type": "stream",
          "name": "stdout",
          "text": [
            "Created `%t` as an alias for `%timeit`.\n",
            "Created `%%t` as an alias for `%%timeit`.\n"
          ]
        }
      ],
      "source": [
        "import pandas as pd\n",
        "import numpy as np\n",
        "import matplotlib.pyplot as plt\n",
        "import matplotlib.cm as cm\n",
        "from sklearn.utils import shuffle\n",
        "from sklearn.model_selection import train_test_split\n",
        "from sklearn.metrics import confusion_matrix, plot_confusion_matrix\n",
        "import timeit\n",
        "import time\n",
        "%alias_magic t timeit\n",
        "\n",
        "plt.style.use('seaborn-talk')\n",
        "\n",
        "from matplotlib import rcParams\n",
        "\n",
        "# import warnings filter\n",
        "from warnings import simplefilter \n",
        "# ignore all future warnings\n",
        "simplefilter(action='ignore', category=FutureWarning)"
      ]
    },
    {
      "cell_type": "code",
      "source": [
        "SMALL_SIZE = 10\n",
        "MEDIUM_SIZE = 15\n",
        "BIGGER_SIZE = 18\n",
        "plt.rc('figure', figsize=(10,6))\n",
        "plt.rc('font', size=BIGGER_SIZE)          # controls default text sizes\n",
        "plt.rc('axes', titlesize=MEDIUM_SIZE)     # fontsize of the axes title\n",
        "plt.rc('axes', labelsize=MEDIUM_SIZE)     # fontsize of the x and y labels\n",
        "plt.rc('xtick', labelsize=SMALL_SIZE)     # fontsize of the tick labels\n",
        "plt.rc('ytick', labelsize=SMALL_SIZE)     # fontsize of the tick labels\n",
        "plt.rc('legend', fontsize=MEDIUM_SIZE)    # legend fontsize\n",
        "plt.rc('figure', titlesize=BIGGER_SIZE)   # fontsize of the figure title"
      ],
      "metadata": {
        "id": "4g7hVwbSqT0x"
      },
      "execution_count": 146,
      "outputs": []
    },
    {
      "cell_type": "markdown",
      "metadata": {
        "id": "3v_SxfiDvixY"
      },
      "source": [
        "# Import phase I data"
      ]
    },
    {
      "cell_type": "code",
      "execution_count": 3,
      "metadata": {
        "colab": {
          "base_uri": "https://localhost:8080/"
        },
        "id": "KkpZu5J4wA7g",
        "outputId": "514a1bcf-cf43-441e-f6c2-44670066ed8e"
      },
      "outputs": [
        {
          "output_type": "stream",
          "name": "stdout",
          "text": [
            "Mounted at /content/drive\n"
          ]
        }
      ],
      "source": [
        "from google.colab import drive\n",
        "drive.mount('/content/drive')"
      ]
    },
    {
      "cell_type": "markdown",
      "source": [
        "### Gadget 2 Data / with Neutrino"
      ],
      "metadata": {
        "id": "xVLNS5KyItAF"
      }
    },
    {
      "cell_type": "code",
      "execution_count": 4,
      "metadata": {
        "colab": {
          "base_uri": "https://localhost:8080/",
          "height": 0
        },
        "id": "KMXNEVc_vixY",
        "outputId": "f300d7ff-5b87-4b3a-8d4c-abbdea000f55"
      },
      "outputs": [
        {
          "output_type": "execute_result",
          "data": {
            "text/html": [
              "\n",
              "  <div id=\"df-b51693b2-3164-4452-bf9a-79768e1a5c6b\">\n",
              "    <div class=\"colab-df-container\">\n",
              "      <div>\n",
              "<style scoped>\n",
              "    .dataframe tbody tr th:only-of-type {\n",
              "        vertical-align: middle;\n",
              "    }\n",
              "\n",
              "    .dataframe tbody tr th {\n",
              "        vertical-align: top;\n",
              "    }\n",
              "\n",
              "    .dataframe thead th {\n",
              "        text-align: right;\n",
              "    }\n",
              "</style>\n",
              "<table border=\"1\" class=\"dataframe\">\n",
              "  <thead>\n",
              "    <tr style=\"text-align: right;\">\n",
              "      <th></th>\n",
              "      <th>id</th>\n",
              "      <th>haloID</th>\n",
              "      <th>halo_mass</th>\n",
              "      <th>vx</th>\n",
              "      <th>vy</th>\n",
              "      <th>vz</th>\n",
              "      <th>dc for 4.9</th>\n",
              "      <th>dc for 6.8</th>\n",
              "      <th>dc for 8.7</th>\n",
              "      <th>dc for 10.6</th>\n",
              "      <th>dc for 12.4</th>\n",
              "      <th>dc for 14.3</th>\n",
              "      <th>dc for 16.2</th>\n",
              "      <th>dc for 18.1</th>\n",
              "      <th>dc for 20.0</th>\n",
              "      <th>in_halo</th>\n",
              "    </tr>\n",
              "  </thead>\n",
              "  <tbody>\n",
              "    <tr>\n",
              "      <th>0</th>\n",
              "      <td>10156552</td>\n",
              "      <td>755</td>\n",
              "      <td>2280.0</td>\n",
              "      <td>171.21194</td>\n",
              "      <td>220.56293</td>\n",
              "      <td>-274.228700</td>\n",
              "      <td>-0.084922</td>\n",
              "      <td>-0.052028</td>\n",
              "      <td>-0.042415</td>\n",
              "      <td>-0.028087</td>\n",
              "      <td>-0.024984</td>\n",
              "      <td>-0.018675</td>\n",
              "      <td>-0.016231</td>\n",
              "      <td>-0.011940</td>\n",
              "      <td>-0.010111</td>\n",
              "      <td>1</td>\n",
              "    </tr>\n",
              "    <tr>\n",
              "      <th>1</th>\n",
              "      <td>11068486</td>\n",
              "      <td>85</td>\n",
              "      <td>1539.0</td>\n",
              "      <td>-129.84116</td>\n",
              "      <td>92.60424</td>\n",
              "      <td>212.125500</td>\n",
              "      <td>-0.127820</td>\n",
              "      <td>-0.081099</td>\n",
              "      <td>-0.051217</td>\n",
              "      <td>-0.028345</td>\n",
              "      <td>-0.013751</td>\n",
              "      <td>-0.013991</td>\n",
              "      <td>-0.012344</td>\n",
              "      <td>-0.011500</td>\n",
              "      <td>-0.012220</td>\n",
              "      <td>0</td>\n",
              "    </tr>\n",
              "    <tr>\n",
              "      <th>2</th>\n",
              "      <td>9530036</td>\n",
              "      <td>654</td>\n",
              "      <td>1944.0</td>\n",
              "      <td>-290.99210</td>\n",
              "      <td>-885.49430</td>\n",
              "      <td>468.255040</td>\n",
              "      <td>-0.078978</td>\n",
              "      <td>-0.052806</td>\n",
              "      <td>-0.030027</td>\n",
              "      <td>-0.011704</td>\n",
              "      <td>0.001295</td>\n",
              "      <td>0.003803</td>\n",
              "      <td>0.005131</td>\n",
              "      <td>0.005231</td>\n",
              "      <td>0.003787</td>\n",
              "      <td>1</td>\n",
              "    </tr>\n",
              "    <tr>\n",
              "      <th>3</th>\n",
              "      <td>11455022</td>\n",
              "      <td>752</td>\n",
              "      <td>1394.0</td>\n",
              "      <td>-60.35258</td>\n",
              "      <td>422.43716</td>\n",
              "      <td>79.394300</td>\n",
              "      <td>-0.109989</td>\n",
              "      <td>-0.079155</td>\n",
              "      <td>-0.054663</td>\n",
              "      <td>-0.037685</td>\n",
              "      <td>-0.026670</td>\n",
              "      <td>-0.017901</td>\n",
              "      <td>-0.009227</td>\n",
              "      <td>-0.000868</td>\n",
              "      <td>0.001568</td>\n",
              "      <td>0</td>\n",
              "    </tr>\n",
              "    <tr>\n",
              "      <th>4</th>\n",
              "      <td>8591034</td>\n",
              "      <td>356</td>\n",
              "      <td>1649.0</td>\n",
              "      <td>403.66608</td>\n",
              "      <td>345.88077</td>\n",
              "      <td>9.231552</td>\n",
              "      <td>-0.084405</td>\n",
              "      <td>-0.019068</td>\n",
              "      <td>-0.009396</td>\n",
              "      <td>-0.001539</td>\n",
              "      <td>0.002288</td>\n",
              "      <td>0.005629</td>\n",
              "      <td>0.011288</td>\n",
              "      <td>0.013111</td>\n",
              "      <td>0.013433</td>\n",
              "      <td>1</td>\n",
              "    </tr>\n",
              "    <tr>\n",
              "      <th>...</th>\n",
              "      <td>...</td>\n",
              "      <td>...</td>\n",
              "      <td>...</td>\n",
              "      <td>...</td>\n",
              "      <td>...</td>\n",
              "      <td>...</td>\n",
              "      <td>...</td>\n",
              "      <td>...</td>\n",
              "      <td>...</td>\n",
              "      <td>...</td>\n",
              "      <td>...</td>\n",
              "      <td>...</td>\n",
              "      <td>...</td>\n",
              "      <td>...</td>\n",
              "      <td>...</td>\n",
              "      <td>...</td>\n",
              "    </tr>\n",
              "    <tr>\n",
              "      <th>99995</th>\n",
              "      <td>2160800</td>\n",
              "      <td>451</td>\n",
              "      <td>2634.0</td>\n",
              "      <td>654.82430</td>\n",
              "      <td>210.78130</td>\n",
              "      <td>255.344150</td>\n",
              "      <td>-0.094225</td>\n",
              "      <td>-0.076043</td>\n",
              "      <td>-0.060624</td>\n",
              "      <td>-0.040368</td>\n",
              "      <td>-0.020840</td>\n",
              "      <td>-0.016261</td>\n",
              "      <td>-0.011803</td>\n",
              "      <td>-0.005002</td>\n",
              "      <td>0.000918</td>\n",
              "      <td>1</td>\n",
              "    </tr>\n",
              "    <tr>\n",
              "      <th>99996</th>\n",
              "      <td>3257728</td>\n",
              "      <td>43</td>\n",
              "      <td>1112.0</td>\n",
              "      <td>-154.27774</td>\n",
              "      <td>488.65564</td>\n",
              "      <td>-779.558400</td>\n",
              "      <td>-0.127045</td>\n",
              "      <td>-0.076529</td>\n",
              "      <td>-0.056246</td>\n",
              "      <td>-0.038201</td>\n",
              "      <td>-0.027520</td>\n",
              "      <td>-0.016374</td>\n",
              "      <td>-0.008045</td>\n",
              "      <td>0.002627</td>\n",
              "      <td>0.006124</td>\n",
              "      <td>0</td>\n",
              "    </tr>\n",
              "    <tr>\n",
              "      <th>99997</th>\n",
              "      <td>6101605</td>\n",
              "      <td>484</td>\n",
              "      <td>1198.0</td>\n",
              "      <td>-113.51735</td>\n",
              "      <td>68.44336</td>\n",
              "      <td>275.964000</td>\n",
              "      <td>-0.122135</td>\n",
              "      <td>-0.091794</td>\n",
              "      <td>-0.063465</td>\n",
              "      <td>-0.032060</td>\n",
              "      <td>-0.017973</td>\n",
              "      <td>-0.016684</td>\n",
              "      <td>-0.017740</td>\n",
              "      <td>-0.017154</td>\n",
              "      <td>-0.012600</td>\n",
              "      <td>0</td>\n",
              "    </tr>\n",
              "    <tr>\n",
              "      <th>99998</th>\n",
              "      <td>4576456</td>\n",
              "      <td>44</td>\n",
              "      <td>1058.0</td>\n",
              "      <td>-130.21120</td>\n",
              "      <td>292.63483</td>\n",
              "      <td>-754.563000</td>\n",
              "      <td>-0.097585</td>\n",
              "      <td>-0.076140</td>\n",
              "      <td>-0.061788</td>\n",
              "      <td>-0.054584</td>\n",
              "      <td>-0.043055</td>\n",
              "      <td>-0.032415</td>\n",
              "      <td>-0.021591</td>\n",
              "      <td>-0.007463</td>\n",
              "      <td>0.004673</td>\n",
              "      <td>0</td>\n",
              "    </tr>\n",
              "    <tr>\n",
              "      <th>99999</th>\n",
              "      <td>13755625</td>\n",
              "      <td>374</td>\n",
              "      <td>3436.0</td>\n",
              "      <td>-403.48090</td>\n",
              "      <td>360.35940</td>\n",
              "      <td>341.696500</td>\n",
              "      <td>-0.107922</td>\n",
              "      <td>-0.042597</td>\n",
              "      <td>-0.005298</td>\n",
              "      <td>0.006846</td>\n",
              "      <td>0.011993</td>\n",
              "      <td>0.019019</td>\n",
              "      <td>0.014505</td>\n",
              "      <td>0.013776</td>\n",
              "      <td>0.014595</td>\n",
              "      <td>1</td>\n",
              "    </tr>\n",
              "  </tbody>\n",
              "</table>\n",
              "<p>100000 rows × 16 columns</p>\n",
              "</div>\n",
              "      <button class=\"colab-df-convert\" onclick=\"convertToInteractive('df-b51693b2-3164-4452-bf9a-79768e1a5c6b')\"\n",
              "              title=\"Convert this dataframe to an interactive table.\"\n",
              "              style=\"display:none;\">\n",
              "        \n",
              "  <svg xmlns=\"http://www.w3.org/2000/svg\" height=\"24px\"viewBox=\"0 0 24 24\"\n",
              "       width=\"24px\">\n",
              "    <path d=\"M0 0h24v24H0V0z\" fill=\"none\"/>\n",
              "    <path d=\"M18.56 5.44l.94 2.06.94-2.06 2.06-.94-2.06-.94-.94-2.06-.94 2.06-2.06.94zm-11 1L8.5 8.5l.94-2.06 2.06-.94-2.06-.94L8.5 2.5l-.94 2.06-2.06.94zm10 10l.94 2.06.94-2.06 2.06-.94-2.06-.94-.94-2.06-.94 2.06-2.06.94z\"/><path d=\"M17.41 7.96l-1.37-1.37c-.4-.4-.92-.59-1.43-.59-.52 0-1.04.2-1.43.59L10.3 9.45l-7.72 7.72c-.78.78-.78 2.05 0 2.83L4 21.41c.39.39.9.59 1.41.59.51 0 1.02-.2 1.41-.59l7.78-7.78 2.81-2.81c.8-.78.8-2.07 0-2.86zM5.41 20L4 18.59l7.72-7.72 1.47 1.35L5.41 20z\"/>\n",
              "  </svg>\n",
              "      </button>\n",
              "      \n",
              "  <style>\n",
              "    .colab-df-container {\n",
              "      display:flex;\n",
              "      flex-wrap:wrap;\n",
              "      gap: 12px;\n",
              "    }\n",
              "\n",
              "    .colab-df-convert {\n",
              "      background-color: #E8F0FE;\n",
              "      border: none;\n",
              "      border-radius: 50%;\n",
              "      cursor: pointer;\n",
              "      display: none;\n",
              "      fill: #1967D2;\n",
              "      height: 32px;\n",
              "      padding: 0 0 0 0;\n",
              "      width: 32px;\n",
              "    }\n",
              "\n",
              "    .colab-df-convert:hover {\n",
              "      background-color: #E2EBFA;\n",
              "      box-shadow: 0px 1px 2px rgba(60, 64, 67, 0.3), 0px 1px 3px 1px rgba(60, 64, 67, 0.15);\n",
              "      fill: #174EA6;\n",
              "    }\n",
              "\n",
              "    [theme=dark] .colab-df-convert {\n",
              "      background-color: #3B4455;\n",
              "      fill: #D2E3FC;\n",
              "    }\n",
              "\n",
              "    [theme=dark] .colab-df-convert:hover {\n",
              "      background-color: #434B5C;\n",
              "      box-shadow: 0px 1px 3px 1px rgba(0, 0, 0, 0.15);\n",
              "      filter: drop-shadow(0px 1px 2px rgba(0, 0, 0, 0.3));\n",
              "      fill: #FFFFFF;\n",
              "    }\n",
              "  </style>\n",
              "\n",
              "      <script>\n",
              "        const buttonEl =\n",
              "          document.querySelector('#df-b51693b2-3164-4452-bf9a-79768e1a5c6b button.colab-df-convert');\n",
              "        buttonEl.style.display =\n",
              "          google.colab.kernel.accessAllowed ? 'block' : 'none';\n",
              "\n",
              "        async function convertToInteractive(key) {\n",
              "          const element = document.querySelector('#df-b51693b2-3164-4452-bf9a-79768e1a5c6b');\n",
              "          const dataTable =\n",
              "            await google.colab.kernel.invokeFunction('convertToInteractive',\n",
              "                                                     [key], {});\n",
              "          if (!dataTable) return;\n",
              "\n",
              "          const docLinkHtml = 'Like what you see? Visit the ' +\n",
              "            '<a target=\"_blank\" href=https://colab.research.google.com/notebooks/data_table.ipynb>data table notebook</a>'\n",
              "            + ' to learn more about interactive tables.';\n",
              "          element.innerHTML = '';\n",
              "          dataTable['output_type'] = 'display_data';\n",
              "          await google.colab.output.renderOutput(dataTable, element);\n",
              "          const docLink = document.createElement('div');\n",
              "          docLink.innerHTML = docLinkHtml;\n",
              "          element.appendChild(docLink);\n",
              "        }\n",
              "      </script>\n",
              "    </div>\n",
              "  </div>\n",
              "  "
            ],
            "text/plain": [
              "             id  haloID  halo_mass  ...  dc for 18.1  dc for 20.0  in_halo\n",
              "0      10156552     755     2280.0  ...    -0.011940    -0.010111        1\n",
              "1      11068486      85     1539.0  ...    -0.011500    -0.012220        0\n",
              "2       9530036     654     1944.0  ...     0.005231     0.003787        1\n",
              "3      11455022     752     1394.0  ...    -0.000868     0.001568        0\n",
              "4       8591034     356     1649.0  ...     0.013111     0.013433        1\n",
              "...         ...     ...        ...  ...          ...          ...      ...\n",
              "99995   2160800     451     2634.0  ...    -0.005002     0.000918        1\n",
              "99996   3257728      43     1112.0  ...     0.002627     0.006124        0\n",
              "99997   6101605     484     1198.0  ...    -0.017154    -0.012600        0\n",
              "99998   4576456      44     1058.0  ...    -0.007463     0.004673        0\n",
              "99999  13755625     374     3436.0  ...     0.013776     0.014595        1\n",
              "\n",
              "[100000 rows x 16 columns]"
            ]
          },
          "metadata": {},
          "execution_count": 4
        }
      ],
      "source": [
        "data = pd.read_csv(r'/content/drive/MyDrive/denc_Neutrino')\n",
        "# data['in_halo'] = (data['haloID']>0).astype('int')\n",
        "data['in_halo'] = (data['halo_mass']>1600).astype('int32')\n",
        "data"
      ]
    },
    {
      "cell_type": "code",
      "source": [
        "data.describe()"
      ],
      "metadata": {
        "colab": {
          "base_uri": "https://localhost:8080/",
          "height": 0
        },
        "id": "6IjgmnwZGeBF",
        "outputId": "a3a76505-8f59-4cd1-cddd-5ab030d5e766"
      },
      "execution_count": 5,
      "outputs": [
        {
          "output_type": "execute_result",
          "data": {
            "text/html": [
              "\n",
              "  <div id=\"df-1dae0c9e-6e43-4894-a1d4-023b4785cdae\">\n",
              "    <div class=\"colab-df-container\">\n",
              "      <div>\n",
              "<style scoped>\n",
              "    .dataframe tbody tr th:only-of-type {\n",
              "        vertical-align: middle;\n",
              "    }\n",
              "\n",
              "    .dataframe tbody tr th {\n",
              "        vertical-align: top;\n",
              "    }\n",
              "\n",
              "    .dataframe thead th {\n",
              "        text-align: right;\n",
              "    }\n",
              "</style>\n",
              "<table border=\"1\" class=\"dataframe\">\n",
              "  <thead>\n",
              "    <tr style=\"text-align: right;\">\n",
              "      <th></th>\n",
              "      <th>id</th>\n",
              "      <th>haloID</th>\n",
              "      <th>halo_mass</th>\n",
              "      <th>vx</th>\n",
              "      <th>vy</th>\n",
              "      <th>vz</th>\n",
              "      <th>dc for 4.9</th>\n",
              "      <th>dc for 6.8</th>\n",
              "      <th>dc for 8.7</th>\n",
              "      <th>dc for 10.6</th>\n",
              "      <th>dc for 12.4</th>\n",
              "      <th>dc for 14.3</th>\n",
              "      <th>dc for 16.2</th>\n",
              "      <th>dc for 18.1</th>\n",
              "      <th>dc for 20.0</th>\n",
              "      <th>in_halo</th>\n",
              "    </tr>\n",
              "  </thead>\n",
              "  <tbody>\n",
              "    <tr>\n",
              "      <th>count</th>\n",
              "      <td>1.000000e+05</td>\n",
              "      <td>100000.000000</td>\n",
              "      <td>100000.000000</td>\n",
              "      <td>100000.000000</td>\n",
              "      <td>100000.000000</td>\n",
              "      <td>100000.000000</td>\n",
              "      <td>100000.000000</td>\n",
              "      <td>100000.000000</td>\n",
              "      <td>100000.000000</td>\n",
              "      <td>100000.000000</td>\n",
              "      <td>100000.000000</td>\n",
              "      <td>100000.000000</td>\n",
              "      <td>100000.000000</td>\n",
              "      <td>100000.000000</td>\n",
              "      <td>100000.000000</td>\n",
              "      <td>100000.000000</td>\n",
              "    </tr>\n",
              "    <tr>\n",
              "      <th>mean</th>\n",
              "      <td>8.716004e+06</td>\n",
              "      <td>424.627710</td>\n",
              "      <td>2369.299450</td>\n",
              "      <td>35.207601</td>\n",
              "      <td>-13.728656</td>\n",
              "      <td>97.821939</td>\n",
              "      <td>-0.107338</td>\n",
              "      <td>-0.062074</td>\n",
              "      <td>-0.038666</td>\n",
              "      <td>-0.025951</td>\n",
              "      <td>-0.017900</td>\n",
              "      <td>-0.011968</td>\n",
              "      <td>-0.007224</td>\n",
              "      <td>-0.003341</td>\n",
              "      <td>-0.000224</td>\n",
              "      <td>0.557930</td>\n",
              "    </tr>\n",
              "    <tr>\n",
              "      <th>std</th>\n",
              "      <td>3.549230e+06</td>\n",
              "      <td>230.962533</td>\n",
              "      <td>1856.527585</td>\n",
              "      <td>364.820655</td>\n",
              "      <td>369.919751</td>\n",
              "      <td>373.578625</td>\n",
              "      <td>0.020301</td>\n",
              "      <td>0.020965</td>\n",
              "      <td>0.019921</td>\n",
              "      <td>0.018106</td>\n",
              "      <td>0.015956</td>\n",
              "      <td>0.013969</td>\n",
              "      <td>0.012346</td>\n",
              "      <td>0.011069</td>\n",
              "      <td>0.010084</td>\n",
              "      <td>0.496635</td>\n",
              "    </tr>\n",
              "    <tr>\n",
              "      <th>min</th>\n",
              "      <td>2.131444e+06</td>\n",
              "      <td>16.000000</td>\n",
              "      <td>241.000000</td>\n",
              "      <td>-1247.932500</td>\n",
              "      <td>-1462.806300</td>\n",
              "      <td>-1250.519700</td>\n",
              "      <td>-0.127820</td>\n",
              "      <td>-0.099572</td>\n",
              "      <td>-0.083351</td>\n",
              "      <td>-0.072824</td>\n",
              "      <td>-0.065316</td>\n",
              "      <td>-0.058751</td>\n",
              "      <td>-0.050519</td>\n",
              "      <td>-0.043771</td>\n",
              "      <td>-0.038371</td>\n",
              "      <td>0.000000</td>\n",
              "    </tr>\n",
              "    <tr>\n",
              "      <th>25%</th>\n",
              "      <td>5.953820e+06</td>\n",
              "      <td>238.000000</td>\n",
              "      <td>1194.000000</td>\n",
              "      <td>-226.284345</td>\n",
              "      <td>-254.656135</td>\n",
              "      <td>-145.829085</td>\n",
              "      <td>-0.124202</td>\n",
              "      <td>-0.077891</td>\n",
              "      <td>-0.052474</td>\n",
              "      <td>-0.038510</td>\n",
              "      <td>-0.028860</td>\n",
              "      <td>-0.021233</td>\n",
              "      <td>-0.015384</td>\n",
              "      <td>-0.010712</td>\n",
              "      <td>-0.006964</td>\n",
              "      <td>0.000000</td>\n",
              "    </tr>\n",
              "    <tr>\n",
              "      <th>50%</th>\n",
              "      <td>9.043250e+06</td>\n",
              "      <td>418.000000</td>\n",
              "      <td>1791.000000</td>\n",
              "      <td>32.857450</td>\n",
              "      <td>-4.815737</td>\n",
              "      <td>101.883413</td>\n",
              "      <td>-0.113607</td>\n",
              "      <td>-0.063404</td>\n",
              "      <td>-0.039434</td>\n",
              "      <td>-0.026100</td>\n",
              "      <td>-0.017784</td>\n",
              "      <td>-0.011980</td>\n",
              "      <td>-0.007369</td>\n",
              "      <td>-0.003743</td>\n",
              "      <td>-0.000713</td>\n",
              "      <td>1.000000</td>\n",
              "    </tr>\n",
              "    <tr>\n",
              "      <th>75%</th>\n",
              "      <td>1.176120e+07</td>\n",
              "      <td>619.000000</td>\n",
              "      <td>2945.000000</td>\n",
              "      <td>284.168098</td>\n",
              "      <td>238.543252</td>\n",
              "      <td>350.062135</td>\n",
              "      <td>-0.095776</td>\n",
              "      <td>-0.048722</td>\n",
              "      <td>-0.025370</td>\n",
              "      <td>-0.013587</td>\n",
              "      <td>-0.006677</td>\n",
              "      <td>-0.002087</td>\n",
              "      <td>0.001081</td>\n",
              "      <td>0.004249</td>\n",
              "      <td>0.006694</td>\n",
              "      <td>1.000000</td>\n",
              "    </tr>\n",
              "    <tr>\n",
              "      <th>max</th>\n",
              "      <td>1.464652e+07</td>\n",
              "      <td>870.000000</td>\n",
              "      <td>10101.000000</td>\n",
              "      <td>1314.092800</td>\n",
              "      <td>1256.822900</td>\n",
              "      <td>1355.984900</td>\n",
              "      <td>0.017155</td>\n",
              "      <td>0.032463</td>\n",
              "      <td>0.044346</td>\n",
              "      <td>0.040490</td>\n",
              "      <td>0.042179</td>\n",
              "      <td>0.036009</td>\n",
              "      <td>0.033482</td>\n",
              "      <td>0.034145</td>\n",
              "      <td>0.032602</td>\n",
              "      <td>1.000000</td>\n",
              "    </tr>\n",
              "  </tbody>\n",
              "</table>\n",
              "</div>\n",
              "      <button class=\"colab-df-convert\" onclick=\"convertToInteractive('df-1dae0c9e-6e43-4894-a1d4-023b4785cdae')\"\n",
              "              title=\"Convert this dataframe to an interactive table.\"\n",
              "              style=\"display:none;\">\n",
              "        \n",
              "  <svg xmlns=\"http://www.w3.org/2000/svg\" height=\"24px\"viewBox=\"0 0 24 24\"\n",
              "       width=\"24px\">\n",
              "    <path d=\"M0 0h24v24H0V0z\" fill=\"none\"/>\n",
              "    <path d=\"M18.56 5.44l.94 2.06.94-2.06 2.06-.94-2.06-.94-.94-2.06-.94 2.06-2.06.94zm-11 1L8.5 8.5l.94-2.06 2.06-.94-2.06-.94L8.5 2.5l-.94 2.06-2.06.94zm10 10l.94 2.06.94-2.06 2.06-.94-2.06-.94-.94-2.06-.94 2.06-2.06.94z\"/><path d=\"M17.41 7.96l-1.37-1.37c-.4-.4-.92-.59-1.43-.59-.52 0-1.04.2-1.43.59L10.3 9.45l-7.72 7.72c-.78.78-.78 2.05 0 2.83L4 21.41c.39.39.9.59 1.41.59.51 0 1.02-.2 1.41-.59l7.78-7.78 2.81-2.81c.8-.78.8-2.07 0-2.86zM5.41 20L4 18.59l7.72-7.72 1.47 1.35L5.41 20z\"/>\n",
              "  </svg>\n",
              "      </button>\n",
              "      \n",
              "  <style>\n",
              "    .colab-df-container {\n",
              "      display:flex;\n",
              "      flex-wrap:wrap;\n",
              "      gap: 12px;\n",
              "    }\n",
              "\n",
              "    .colab-df-convert {\n",
              "      background-color: #E8F0FE;\n",
              "      border: none;\n",
              "      border-radius: 50%;\n",
              "      cursor: pointer;\n",
              "      display: none;\n",
              "      fill: #1967D2;\n",
              "      height: 32px;\n",
              "      padding: 0 0 0 0;\n",
              "      width: 32px;\n",
              "    }\n",
              "\n",
              "    .colab-df-convert:hover {\n",
              "      background-color: #E2EBFA;\n",
              "      box-shadow: 0px 1px 2px rgba(60, 64, 67, 0.3), 0px 1px 3px 1px rgba(60, 64, 67, 0.15);\n",
              "      fill: #174EA6;\n",
              "    }\n",
              "\n",
              "    [theme=dark] .colab-df-convert {\n",
              "      background-color: #3B4455;\n",
              "      fill: #D2E3FC;\n",
              "    }\n",
              "\n",
              "    [theme=dark] .colab-df-convert:hover {\n",
              "      background-color: #434B5C;\n",
              "      box-shadow: 0px 1px 3px 1px rgba(0, 0, 0, 0.15);\n",
              "      filter: drop-shadow(0px 1px 2px rgba(0, 0, 0, 0.3));\n",
              "      fill: #FFFFFF;\n",
              "    }\n",
              "  </style>\n",
              "\n",
              "      <script>\n",
              "        const buttonEl =\n",
              "          document.querySelector('#df-1dae0c9e-6e43-4894-a1d4-023b4785cdae button.colab-df-convert');\n",
              "        buttonEl.style.display =\n",
              "          google.colab.kernel.accessAllowed ? 'block' : 'none';\n",
              "\n",
              "        async function convertToInteractive(key) {\n",
              "          const element = document.querySelector('#df-1dae0c9e-6e43-4894-a1d4-023b4785cdae');\n",
              "          const dataTable =\n",
              "            await google.colab.kernel.invokeFunction('convertToInteractive',\n",
              "                                                     [key], {});\n",
              "          if (!dataTable) return;\n",
              "\n",
              "          const docLinkHtml = 'Like what you see? Visit the ' +\n",
              "            '<a target=\"_blank\" href=https://colab.research.google.com/notebooks/data_table.ipynb>data table notebook</a>'\n",
              "            + ' to learn more about interactive tables.';\n",
              "          element.innerHTML = '';\n",
              "          dataTable['output_type'] = 'display_data';\n",
              "          await google.colab.output.renderOutput(dataTable, element);\n",
              "          const docLink = document.createElement('div');\n",
              "          docLink.innerHTML = docLinkHtml;\n",
              "          element.appendChild(docLink);\n",
              "        }\n",
              "      </script>\n",
              "    </div>\n",
              "  </div>\n",
              "  "
            ],
            "text/plain": [
              "                 id         haloID  ...    dc for 20.0        in_halo\n",
              "count  1.000000e+05  100000.000000  ...  100000.000000  100000.000000\n",
              "mean   8.716004e+06     424.627710  ...      -0.000224       0.557930\n",
              "std    3.549230e+06     230.962533  ...       0.010084       0.496635\n",
              "min    2.131444e+06      16.000000  ...      -0.038371       0.000000\n",
              "25%    5.953820e+06     238.000000  ...      -0.006964       0.000000\n",
              "50%    9.043250e+06     418.000000  ...      -0.000713       1.000000\n",
              "75%    1.176120e+07     619.000000  ...       0.006694       1.000000\n",
              "max    1.464652e+07     870.000000  ...       0.032602       1.000000\n",
              "\n",
              "[8 rows x 16 columns]"
            ]
          },
          "metadata": {},
          "execution_count": 5
        }
      ]
    },
    {
      "cell_type": "markdown",
      "source": [
        "### Gadget 2 Data / without Neutrino"
      ],
      "metadata": {
        "id": "oXABFDLNI2qo"
      }
    },
    {
      "cell_type": "code",
      "source": [
        "data_cdm = pd.read_csv(r'/content/drive/MyDrive/denc_CDM')\n",
        "data_cdm['in_halo'] = (data_cdm['halo_mass']>1600).astype('int32')\n",
        "data_cdm"
      ],
      "metadata": {
        "colab": {
          "base_uri": "https://localhost:8080/",
          "height": 0
        },
        "id": "a8TQpPtYI-oz",
        "outputId": "3a9151dd-204d-4b89-d746-ef69ecad3315"
      },
      "execution_count": 6,
      "outputs": [
        {
          "output_type": "execute_result",
          "data": {
            "text/html": [
              "\n",
              "  <div id=\"df-818cee01-7e7f-4d2a-984c-f03845341d08\">\n",
              "    <div class=\"colab-df-container\">\n",
              "      <div>\n",
              "<style scoped>\n",
              "    .dataframe tbody tr th:only-of-type {\n",
              "        vertical-align: middle;\n",
              "    }\n",
              "\n",
              "    .dataframe tbody tr th {\n",
              "        vertical-align: top;\n",
              "    }\n",
              "\n",
              "    .dataframe thead th {\n",
              "        text-align: right;\n",
              "    }\n",
              "</style>\n",
              "<table border=\"1\" class=\"dataframe\">\n",
              "  <thead>\n",
              "    <tr style=\"text-align: right;\">\n",
              "      <th></th>\n",
              "      <th>id</th>\n",
              "      <th>haloID</th>\n",
              "      <th>halo_mass</th>\n",
              "      <th>vx</th>\n",
              "      <th>vy</th>\n",
              "      <th>vz</th>\n",
              "      <th>dc for 4.9</th>\n",
              "      <th>dc for 6.8</th>\n",
              "      <th>dc for 8.7</th>\n",
              "      <th>dc for 10.6</th>\n",
              "      <th>dc for 12.4</th>\n",
              "      <th>dc for 14.3</th>\n",
              "      <th>dc for 16.2</th>\n",
              "      <th>dc for 18.1</th>\n",
              "      <th>dc for 20.0</th>\n",
              "      <th>in_halo</th>\n",
              "    </tr>\n",
              "  </thead>\n",
              "  <tbody>\n",
              "    <tr>\n",
              "      <th>0</th>\n",
              "      <td>8981131</td>\n",
              "      <td>414</td>\n",
              "      <td>1504.0</td>\n",
              "      <td>252.710050</td>\n",
              "      <td>-464.239500</td>\n",
              "      <td>509.94550</td>\n",
              "      <td>2.817576</td>\n",
              "      <td>2.780794</td>\n",
              "      <td>2.746420</td>\n",
              "      <td>2.446413</td>\n",
              "      <td>2.000415</td>\n",
              "      <td>1.533108</td>\n",
              "      <td>1.083378</td>\n",
              "      <td>0.691070</td>\n",
              "      <td>0.457584</td>\n",
              "      <td>0</td>\n",
              "    </tr>\n",
              "    <tr>\n",
              "      <th>1</th>\n",
              "      <td>9901676</td>\n",
              "      <td>1026</td>\n",
              "      <td>1013.0</td>\n",
              "      <td>-167.701370</td>\n",
              "      <td>499.161740</td>\n",
              "      <td>156.32635</td>\n",
              "      <td>2.690323</td>\n",
              "      <td>2.102417</td>\n",
              "      <td>1.805493</td>\n",
              "      <td>1.485764</td>\n",
              "      <td>1.267945</td>\n",
              "      <td>1.083753</td>\n",
              "      <td>0.849938</td>\n",
              "      <td>0.617267</td>\n",
              "      <td>0.431845</td>\n",
              "      <td>0</td>\n",
              "    </tr>\n",
              "    <tr>\n",
              "      <th>2</th>\n",
              "      <td>8288987</td>\n",
              "      <td>1079</td>\n",
              "      <td>727.0</td>\n",
              "      <td>46.129280</td>\n",
              "      <td>19.954561</td>\n",
              "      <td>164.61870</td>\n",
              "      <td>1.010590</td>\n",
              "      <td>0.821528</td>\n",
              "      <td>0.559744</td>\n",
              "      <td>0.220796</td>\n",
              "      <td>0.003400</td>\n",
              "      <td>-0.094805</td>\n",
              "      <td>-0.074599</td>\n",
              "      <td>0.003315</td>\n",
              "      <td>0.076079</td>\n",
              "      <td>0</td>\n",
              "    </tr>\n",
              "    <tr>\n",
              "      <th>3</th>\n",
              "      <td>4842631</td>\n",
              "      <td>675</td>\n",
              "      <td>1268.0</td>\n",
              "      <td>-234.629320</td>\n",
              "      <td>349.021400</td>\n",
              "      <td>-690.46674</td>\n",
              "      <td>1.889611</td>\n",
              "      <td>1.180236</td>\n",
              "      <td>0.495534</td>\n",
              "      <td>0.064434</td>\n",
              "      <td>-0.232441</td>\n",
              "      <td>-0.389582</td>\n",
              "      <td>-0.407908</td>\n",
              "      <td>-0.334146</td>\n",
              "      <td>-0.231578</td>\n",
              "      <td>0</td>\n",
              "    </tr>\n",
              "    <tr>\n",
              "      <th>4</th>\n",
              "      <td>12884124</td>\n",
              "      <td>437</td>\n",
              "      <td>6128.0</td>\n",
              "      <td>146.780670</td>\n",
              "      <td>-180.209270</td>\n",
              "      <td>-558.39777</td>\n",
              "      <td>2.676619</td>\n",
              "      <td>1.734870</td>\n",
              "      <td>0.906903</td>\n",
              "      <td>0.464721</td>\n",
              "      <td>0.187801</td>\n",
              "      <td>0.057663</td>\n",
              "      <td>0.029529</td>\n",
              "      <td>0.049055</td>\n",
              "      <td>0.101472</td>\n",
              "      <td>1</td>\n",
              "    </tr>\n",
              "    <tr>\n",
              "      <th>...</th>\n",
              "      <td>...</td>\n",
              "      <td>...</td>\n",
              "      <td>...</td>\n",
              "      <td>...</td>\n",
              "      <td>...</td>\n",
              "      <td>...</td>\n",
              "      <td>...</td>\n",
              "      <td>...</td>\n",
              "      <td>...</td>\n",
              "      <td>...</td>\n",
              "      <td>...</td>\n",
              "      <td>...</td>\n",
              "      <td>...</td>\n",
              "      <td>...</td>\n",
              "      <td>...</td>\n",
              "      <td>...</td>\n",
              "    </tr>\n",
              "    <tr>\n",
              "      <th>99995</th>\n",
              "      <td>12466311</td>\n",
              "      <td>1085</td>\n",
              "      <td>5542.0</td>\n",
              "      <td>25.253933</td>\n",
              "      <td>-580.586850</td>\n",
              "      <td>113.06337</td>\n",
              "      <td>1.482403</td>\n",
              "      <td>1.068278</td>\n",
              "      <td>0.857863</td>\n",
              "      <td>0.583947</td>\n",
              "      <td>0.327563</td>\n",
              "      <td>0.212553</td>\n",
              "      <td>0.139374</td>\n",
              "      <td>0.103515</td>\n",
              "      <td>0.090791</td>\n",
              "      <td>1</td>\n",
              "    </tr>\n",
              "    <tr>\n",
              "      <th>99996</th>\n",
              "      <td>11857185</td>\n",
              "      <td>491</td>\n",
              "      <td>691.0</td>\n",
              "      <td>-423.371550</td>\n",
              "      <td>138.109020</td>\n",
              "      <td>-300.80450</td>\n",
              "      <td>-0.209077</td>\n",
              "      <td>-0.534490</td>\n",
              "      <td>-0.724460</td>\n",
              "      <td>-0.749430</td>\n",
              "      <td>-0.743152</td>\n",
              "      <td>-0.663805</td>\n",
              "      <td>-0.511928</td>\n",
              "      <td>-0.347015</td>\n",
              "      <td>-0.253660</td>\n",
              "      <td>0</td>\n",
              "    </tr>\n",
              "    <tr>\n",
              "      <th>99997</th>\n",
              "      <td>9340191</td>\n",
              "      <td>947</td>\n",
              "      <td>868.0</td>\n",
              "      <td>225.385210</td>\n",
              "      <td>-9.085627</td>\n",
              "      <td>318.22006</td>\n",
              "      <td>1.086942</td>\n",
              "      <td>0.492283</td>\n",
              "      <td>0.114506</td>\n",
              "      <td>-0.050883</td>\n",
              "      <td>-0.161068</td>\n",
              "      <td>-0.168421</td>\n",
              "      <td>-0.159639</td>\n",
              "      <td>-0.175261</td>\n",
              "      <td>-0.202931</td>\n",
              "      <td>0</td>\n",
              "    </tr>\n",
              "    <tr>\n",
              "      <th>99998</th>\n",
              "      <td>13317963</td>\n",
              "      <td>1034</td>\n",
              "      <td>1175.0</td>\n",
              "      <td>-55.431606</td>\n",
              "      <td>16.332230</td>\n",
              "      <td>-898.90326</td>\n",
              "      <td>0.339088</td>\n",
              "      <td>-0.085185</td>\n",
              "      <td>-0.248881</td>\n",
              "      <td>-0.328230</td>\n",
              "      <td>-0.343797</td>\n",
              "      <td>-0.306353</td>\n",
              "      <td>-0.275684</td>\n",
              "      <td>-0.282089</td>\n",
              "      <td>-0.284524</td>\n",
              "      <td>0</td>\n",
              "    </tr>\n",
              "    <tr>\n",
              "      <th>99999</th>\n",
              "      <td>5325551</td>\n",
              "      <td>45</td>\n",
              "      <td>818.0</td>\n",
              "      <td>532.078060</td>\n",
              "      <td>372.133540</td>\n",
              "      <td>80.98245</td>\n",
              "      <td>0.448721</td>\n",
              "      <td>0.860566</td>\n",
              "      <td>0.864566</td>\n",
              "      <td>0.717441</td>\n",
              "      <td>0.626662</td>\n",
              "      <td>0.508189</td>\n",
              "      <td>0.307618</td>\n",
              "      <td>0.096964</td>\n",
              "      <td>-0.043834</td>\n",
              "      <td>0</td>\n",
              "    </tr>\n",
              "  </tbody>\n",
              "</table>\n",
              "<p>100000 rows × 16 columns</p>\n",
              "</div>\n",
              "      <button class=\"colab-df-convert\" onclick=\"convertToInteractive('df-818cee01-7e7f-4d2a-984c-f03845341d08')\"\n",
              "              title=\"Convert this dataframe to an interactive table.\"\n",
              "              style=\"display:none;\">\n",
              "        \n",
              "  <svg xmlns=\"http://www.w3.org/2000/svg\" height=\"24px\"viewBox=\"0 0 24 24\"\n",
              "       width=\"24px\">\n",
              "    <path d=\"M0 0h24v24H0V0z\" fill=\"none\"/>\n",
              "    <path d=\"M18.56 5.44l.94 2.06.94-2.06 2.06-.94-2.06-.94-.94-2.06-.94 2.06-2.06.94zm-11 1L8.5 8.5l.94-2.06 2.06-.94-2.06-.94L8.5 2.5l-.94 2.06-2.06.94zm10 10l.94 2.06.94-2.06 2.06-.94-2.06-.94-.94-2.06-.94 2.06-2.06.94z\"/><path d=\"M17.41 7.96l-1.37-1.37c-.4-.4-.92-.59-1.43-.59-.52 0-1.04.2-1.43.59L10.3 9.45l-7.72 7.72c-.78.78-.78 2.05 0 2.83L4 21.41c.39.39.9.59 1.41.59.51 0 1.02-.2 1.41-.59l7.78-7.78 2.81-2.81c.8-.78.8-2.07 0-2.86zM5.41 20L4 18.59l7.72-7.72 1.47 1.35L5.41 20z\"/>\n",
              "  </svg>\n",
              "      </button>\n",
              "      \n",
              "  <style>\n",
              "    .colab-df-container {\n",
              "      display:flex;\n",
              "      flex-wrap:wrap;\n",
              "      gap: 12px;\n",
              "    }\n",
              "\n",
              "    .colab-df-convert {\n",
              "      background-color: #E8F0FE;\n",
              "      border: none;\n",
              "      border-radius: 50%;\n",
              "      cursor: pointer;\n",
              "      display: none;\n",
              "      fill: #1967D2;\n",
              "      height: 32px;\n",
              "      padding: 0 0 0 0;\n",
              "      width: 32px;\n",
              "    }\n",
              "\n",
              "    .colab-df-convert:hover {\n",
              "      background-color: #E2EBFA;\n",
              "      box-shadow: 0px 1px 2px rgba(60, 64, 67, 0.3), 0px 1px 3px 1px rgba(60, 64, 67, 0.15);\n",
              "      fill: #174EA6;\n",
              "    }\n",
              "\n",
              "    [theme=dark] .colab-df-convert {\n",
              "      background-color: #3B4455;\n",
              "      fill: #D2E3FC;\n",
              "    }\n",
              "\n",
              "    [theme=dark] .colab-df-convert:hover {\n",
              "      background-color: #434B5C;\n",
              "      box-shadow: 0px 1px 3px 1px rgba(0, 0, 0, 0.15);\n",
              "      filter: drop-shadow(0px 1px 2px rgba(0, 0, 0, 0.3));\n",
              "      fill: #FFFFFF;\n",
              "    }\n",
              "  </style>\n",
              "\n",
              "      <script>\n",
              "        const buttonEl =\n",
              "          document.querySelector('#df-818cee01-7e7f-4d2a-984c-f03845341d08 button.colab-df-convert');\n",
              "        buttonEl.style.display =\n",
              "          google.colab.kernel.accessAllowed ? 'block' : 'none';\n",
              "\n",
              "        async function convertToInteractive(key) {\n",
              "          const element = document.querySelector('#df-818cee01-7e7f-4d2a-984c-f03845341d08');\n",
              "          const dataTable =\n",
              "            await google.colab.kernel.invokeFunction('convertToInteractive',\n",
              "                                                     [key], {});\n",
              "          if (!dataTable) return;\n",
              "\n",
              "          const docLinkHtml = 'Like what you see? Visit the ' +\n",
              "            '<a target=\"_blank\" href=https://colab.research.google.com/notebooks/data_table.ipynb>data table notebook</a>'\n",
              "            + ' to learn more about interactive tables.';\n",
              "          element.innerHTML = '';\n",
              "          dataTable['output_type'] = 'display_data';\n",
              "          await google.colab.output.renderOutput(dataTable, element);\n",
              "          const docLink = document.createElement('div');\n",
              "          docLink.innerHTML = docLinkHtml;\n",
              "          element.appendChild(docLink);\n",
              "        }\n",
              "      </script>\n",
              "    </div>\n",
              "  </div>\n",
              "  "
            ],
            "text/plain": [
              "             id  haloID  halo_mass  ...  dc for 18.1  dc for 20.0  in_halo\n",
              "0       8981131     414     1504.0  ...     0.691070     0.457584        0\n",
              "1       9901676    1026     1013.0  ...     0.617267     0.431845        0\n",
              "2       8288987    1079      727.0  ...     0.003315     0.076079        0\n",
              "3       4842631     675     1268.0  ...    -0.334146    -0.231578        0\n",
              "4      12884124     437     6128.0  ...     0.049055     0.101472        1\n",
              "...         ...     ...        ...  ...          ...          ...      ...\n",
              "99995  12466311    1085     5542.0  ...     0.103515     0.090791        1\n",
              "99996  11857185     491      691.0  ...    -0.347015    -0.253660        0\n",
              "99997   9340191     947      868.0  ...    -0.175261    -0.202931        0\n",
              "99998  13317963    1034     1175.0  ...    -0.282089    -0.284524        0\n",
              "99999   5325551      45      818.0  ...     0.096964    -0.043834        0\n",
              "\n",
              "[100000 rows x 16 columns]"
            ]
          },
          "metadata": {},
          "execution_count": 6
        }
      ]
    },
    {
      "cell_type": "markdown",
      "source": [
        "## Define Datasets"
      ],
      "metadata": {
        "id": "T3j7w19QMtr6"
      }
    },
    {
      "cell_type": "code",
      "source": [
        "## Neutrino\n",
        "X = data.iloc[:,3:15].astype('float32').values\n",
        "Y = data.in_halo.astype('int32').values"
      ],
      "metadata": {
        "id": "or4kY4WWMucw"
      },
      "execution_count": 7,
      "outputs": []
    },
    {
      "cell_type": "code",
      "source": [
        "## CDM\n",
        "X2 = data_cdm.iloc[:,3:15].astype('float32').values\n",
        "Y2 = data_cdm.in_halo.astype('int32').values"
      ],
      "metadata": {
        "id": "wZ-HpA6NM8Q2"
      },
      "execution_count": 8,
      "outputs": []
    },
    {
      "cell_type": "code",
      "source": [
        "## Scale / Neutrino\n",
        "X = (X - np.mean(X))/np.std(X)"
      ],
      "metadata": {
        "id": "lXcWbPziPvLh"
      },
      "execution_count": 9,
      "outputs": []
    },
    {
      "cell_type": "code",
      "source": [
        "## Scale / CDM\n",
        "X2 = (X2 - np.mean(X2))/np.std(X2)"
      ],
      "metadata": {
        "id": "rWlWvyHiPwW2"
      },
      "execution_count": 10,
      "outputs": []
    },
    {
      "cell_type": "code",
      "source": [
        "## Split into test and train / Neutrino\n",
        "\n",
        "tst_size = 0.2\n",
        "ns, nf = np.shape(X) \n",
        "X_train, X_test, Y_train, Y_test = train_test_split(*shuffle(X, Y, n_samples = ns, random_state=0) , random_state=0, test_size =tst_size )\n",
        "print('X_train :',len(X_train),'   X_test :',len(X_test))"
      ],
      "metadata": {
        "colab": {
          "base_uri": "https://localhost:8080/"
        },
        "id": "nwUV_V0rP2SM",
        "outputId": "538932cf-e2c8-4c87-c6b0-11cfb1000edb"
      },
      "execution_count": 11,
      "outputs": [
        {
          "output_type": "stream",
          "name": "stdout",
          "text": [
            "X_train : 80000    X_test : 20000\n"
          ]
        }
      ]
    },
    {
      "cell_type": "code",
      "source": [
        "## Split into test and train / CDM\n",
        "\n",
        "tst_size = 0.2\n",
        "ns, nf = np.shape(X) \n",
        "X2_train, X2_test, Y2_train, Y2_test = train_test_split(*shuffle(X, Y, n_samples = ns, random_state=0) , random_state=0, test_size =tst_size )\n",
        "print('X2_train :',len(X2_train),'   X2_test :',len(X2_test))"
      ],
      "metadata": {
        "colab": {
          "base_uri": "https://localhost:8080/"
        },
        "id": "9apbXZgBQBdC",
        "outputId": "752109d4-7f48-4323-d3c7-a5b82e15ea13"
      },
      "execution_count": 12,
      "outputs": [
        {
          "output_type": "stream",
          "name": "stdout",
          "text": [
            "X2_train : 80000    X2_test : 20000\n"
          ]
        }
      ]
    },
    {
      "cell_type": "markdown",
      "source": [
        "# Keras Model / Binary"
      ],
      "metadata": {
        "id": "8q41U8HRFwW8"
      }
    },
    {
      "cell_type": "markdown",
      "source": [
        "## Building the Model"
      ],
      "metadata": {
        "id": "BcBZy9eEQWIM"
      }
    },
    {
      "cell_type": "code",
      "source": [
        "from tensorflow import keras\n",
        "from tensorflow.keras import layers\n",
        "from keras.losses import MeanSquaredError\n",
        "from sklearn.metrics import classification_report\n",
        "\n",
        "\n",
        "model = keras.Sequential()\n",
        "model.add(layers.Dense(30,activation='relu', input_shape=(12, )))\n",
        "# model.add(layers.Dense(10,activation='relu'))\n",
        "model.add(layers.Dense(100,kernel_initializer=keras.initializers.RandomUniform(minval=-0.5, maxval=0.5, seed=1),activation='tanh'))\n",
        "model.add(layers.Dense(300,kernel_initializer=keras.initializers.RandomUniform(minval=-0.5, maxval=0.5, seed=1),activation='elu'))\n",
        "model.add(layers.Dense(50,kernel_initializer=keras.initializers.RandomUniform(minval=-0.5, maxval=0.5, seed=1),activation='relu'))\n",
        "model.add(layers.Dense(10,activation='relu'))\n",
        "model.add(keras.layers.Dense(1,activation='sigmoid'))\n",
        "\n",
        "\n",
        "model.compile(loss=keras.losses.BinaryCrossentropy(), optimizer = keras.optimizers.Adam(learning_rate=0.01, beta_1=0.9, beta_2=0.999, epsilon=1e-06), metrics=['Accuracy'])"
      ],
      "metadata": {
        "id": "ugaYHWEzQU9-"
      },
      "execution_count": 118,
      "outputs": []
    },
    {
      "cell_type": "markdown",
      "source": [
        "## Keras on Neutrino"
      ],
      "metadata": {
        "id": "owdKsJMHQm9c"
      }
    },
    {
      "cell_type": "code",
      "source": [
        "hist1 = model.fit(\n",
        "    X_train,\n",
        "    Y_train,\n",
        "    batch_size= 500,\n",
        "    epochs=20,\n",
        "    verbose=1,\n",
        "    validation_split=.1,\n",
        "    shuffle=True,\n",
        ")"
      ],
      "metadata": {
        "colab": {
          "base_uri": "https://localhost:8080/"
        },
        "id": "AyKzegNcQNRI",
        "outputId": "c5cc454e-54e1-4471-dcac-a849847fa30a"
      },
      "execution_count": 62,
      "outputs": [
        {
          "output_type": "stream",
          "name": "stdout",
          "text": [
            "Epoch 1/20\n",
            "144/144 [==============================] - 2s 9ms/step - loss: 0.7209 - Accuracy: 0.5574 - val_loss: 0.6724 - val_Accuracy: 0.5820\n",
            "Epoch 2/20\n",
            "144/144 [==============================] - 1s 8ms/step - loss: 0.6708 - Accuracy: 0.5784 - val_loss: 0.6728 - val_Accuracy: 0.5704\n",
            "Epoch 3/20\n",
            "144/144 [==============================] - 1s 8ms/step - loss: 0.6674 - Accuracy: 0.5832 - val_loss: 0.6676 - val_Accuracy: 0.5829\n",
            "Epoch 4/20\n",
            "144/144 [==============================] - 1s 8ms/step - loss: 0.6657 - Accuracy: 0.5859 - val_loss: 0.6675 - val_Accuracy: 0.5796\n",
            "Epoch 5/20\n",
            "144/144 [==============================] - 1s 7ms/step - loss: 0.6647 - Accuracy: 0.5862 - val_loss: 0.6649 - val_Accuracy: 0.5918\n",
            "Epoch 6/20\n",
            "144/144 [==============================] - 1s 8ms/step - loss: 0.6646 - Accuracy: 0.5882 - val_loss: 0.6657 - val_Accuracy: 0.5913\n",
            "Epoch 7/20\n",
            "144/144 [==============================] - 1s 8ms/step - loss: 0.6634 - Accuracy: 0.5899 - val_loss: 0.6653 - val_Accuracy: 0.5909\n",
            "Epoch 8/20\n",
            "144/144 [==============================] - 1s 8ms/step - loss: 0.6630 - Accuracy: 0.5905 - val_loss: 0.6624 - val_Accuracy: 0.5930\n",
            "Epoch 9/20\n",
            "144/144 [==============================] - 1s 8ms/step - loss: 0.6624 - Accuracy: 0.5915 - val_loss: 0.6611 - val_Accuracy: 0.5950\n",
            "Epoch 10/20\n",
            "144/144 [==============================] - 1s 8ms/step - loss: 0.6623 - Accuracy: 0.5912 - val_loss: 0.6607 - val_Accuracy: 0.5910\n",
            "Epoch 11/20\n",
            "144/144 [==============================] - 1s 8ms/step - loss: 0.6612 - Accuracy: 0.5931 - val_loss: 0.6615 - val_Accuracy: 0.5904\n",
            "Epoch 12/20\n",
            "144/144 [==============================] - 1s 8ms/step - loss: 0.6609 - Accuracy: 0.5929 - val_loss: 0.6593 - val_Accuracy: 0.5944\n",
            "Epoch 13/20\n",
            "144/144 [==============================] - 1s 8ms/step - loss: 0.6602 - Accuracy: 0.5957 - val_loss: 0.6600 - val_Accuracy: 0.5919\n",
            "Epoch 14/20\n",
            "144/144 [==============================] - 1s 8ms/step - loss: 0.6591 - Accuracy: 0.5936 - val_loss: 0.6576 - val_Accuracy: 0.5972\n",
            "Epoch 15/20\n",
            "144/144 [==============================] - 1s 8ms/step - loss: 0.6605 - Accuracy: 0.5932 - val_loss: 0.6574 - val_Accuracy: 0.5966\n",
            "Epoch 16/20\n",
            "144/144 [==============================] - 1s 8ms/step - loss: 0.6586 - Accuracy: 0.5955 - val_loss: 0.6557 - val_Accuracy: 0.5989\n",
            "Epoch 17/20\n",
            "144/144 [==============================] - 1s 8ms/step - loss: 0.6579 - Accuracy: 0.5968 - val_loss: 0.6602 - val_Accuracy: 0.5922\n",
            "Epoch 18/20\n",
            "144/144 [==============================] - 1s 8ms/step - loss: 0.6583 - Accuracy: 0.5975 - val_loss: 0.6621 - val_Accuracy: 0.5866\n",
            "Epoch 19/20\n",
            "144/144 [==============================] - 1s 8ms/step - loss: 0.6577 - Accuracy: 0.5968 - val_loss: 0.6563 - val_Accuracy: 0.5972\n",
            "Epoch 20/20\n",
            "144/144 [==============================] - 1s 8ms/step - loss: 0.6568 - Accuracy: 0.5973 - val_loss: 0.6603 - val_Accuracy: 0.5978\n"
          ]
        }
      ]
    },
    {
      "cell_type": "code",
      "source": [
        "fig = plt.figure(figsize=(7,5))\n",
        "\n",
        "ax1 = fig.add_subplot(1,1,1, ylabel= 'loss')\n",
        "ax1.plot(hist1.history['loss'])\n",
        "ax1.plot(hist1.history['val_loss'])\n",
        "plt.legend(['Train', 'Test'], loc='upper right')\n",
        "plt.show()"
      ],
      "metadata": {
        "colab": {
          "base_uri": "https://localhost:8080/",
          "height": 325
        },
        "id": "9vtgyApMQ4Cj",
        "outputId": "29684ab2-d4c6-456f-bdd6-40ea92da1dae"
      },
      "execution_count": 35,
      "outputs": [
        {
          "output_type": "display_data",
          "data": {
            "image/png": "[encoded data removed]",
            "text/plain": [
              "<Figure size 504x360 with 1 Axes>"
            ]
          },
          "metadata": {
            "needs_background": "light"
          }
        }
      ]
    },
    {
      "cell_type": "code",
      "source": [
        "model.summary()"
      ],
      "metadata": {
        "colab": {
          "base_uri": "https://localhost:8080/"
        },
        "id": "AgqJLuQMioyf",
        "outputId": "dab85178-400a-41bf-893d-e07f6ce77ea3"
      },
      "execution_count": 36,
      "outputs": [
        {
          "output_type": "stream",
          "name": "stdout",
          "text": [
            "Model: \"sequential_4\"\n",
            "_________________________________________________________________\n",
            " Layer (type)                Output Shape              Param #   \n",
            "=================================================================\n",
            " dense_19 (Dense)            (None, 30)                390       \n",
            "                                                                 \n",
            " dense_20 (Dense)            (None, 100)               3100      \n",
            "                                                                 \n",
            " dense_21 (Dense)            (None, 300)               30300     \n",
            "                                                                 \n",
            " dense_22 (Dense)            (None, 50)                15050     \n",
            "                                                                 \n",
            " dense_23 (Dense)            (None, 10)                510       \n",
            "                                                                 \n",
            " dense_24 (Dense)            (None, 1)                 11        \n",
            "                                                                 \n",
            "=================================================================\n",
            "Total params: 49,361\n",
            "Trainable params: 49,361\n",
            "Non-trainable params: 0\n",
            "_________________________________________________________________\n"
          ]
        }
      ]
    },
    {
      "cell_type": "markdown",
      "source": [
        "### Cross-Validation"
      ],
      "metadata": {
        "id": "Vx-z5ToJJjn5"
      }
    },
    {
      "cell_type": "code",
      "source": [
        "def model_fn():\n",
        "    from tensorflow import keras\n",
        "    from tensorflow.keras import layers\n",
        "    from keras.losses import MeanSquaredError\n",
        "    from sklearn.metrics import classification_report\n",
        "\n",
        "\n",
        "    model = keras.Sequential()\n",
        "    model.add(layers.Dense(30,activation='relu', input_shape=(12, )))\n",
        "    # model.add(layers.Dense(10,activation='relu'))\n",
        "    model.add(layers.Dense(100,kernel_initializer=keras.initializers.RandomUniform(minval=-0.5, maxval=0.5, seed=1),activation='tanh'))\n",
        "    model.add(layers.Dense(100,kernel_initializer=keras.initializers.RandomUniform(minval=-0.5, maxval=0.5, seed=1),activation='elu'))\n",
        "    model.add(keras.layers.Dense(1,activation='sigmoid'))\n",
        "\n",
        "\n",
        "    model.compile(loss=keras.losses.BinaryCrossentropy(), optimizer = keras.optimizers.Adam(learning_rate=0.01, beta_1=0.9, beta_2=0.999, epsilon=1e-06), metrics=['Accuracy'])\n",
        "    # model.build()\n",
        "    return model"
      ],
      "metadata": {
        "id": "RFxKtKoSiT2j"
      },
      "execution_count": 125,
      "outputs": []
    },
    {
      "cell_type": "code",
      "source": [
        "epch = 25\n",
        "batch_sz = 800\n",
        "\n",
        "from sklearn.model_selection import KFold\n",
        "n_folds = 3\n",
        "kf = KFold(n_splits=n_folds, shuffle=True)\n",
        "\n",
        "\n",
        "loss = []\n",
        "acc = []\n",
        "val_loss = []\n",
        "val_acc = []\n",
        "\n",
        "# cross validate:\n",
        "for train_index, val_index in kf.split(X):\n",
        "    model = model_fn()\n",
        "    hists = model.fit(X[train_index], Y[train_index],\n",
        "                     epochs=epch,\n",
        "                     batch_size=500,\n",
        "                     validation_data = (X[val_index], Y[val_index]),\n",
        "                     verbose=0)\n",
        "    loss.append(hists.history['loss'])\n",
        "    acc.append(hists.history['Accuracy'])\n",
        "    val_loss.append([hists.history['val_loss']])\n",
        "    val_acc.append(hists.history['val_Accuracy'])\n",
        "    \n",
        "loss = np.array(loss).reshape(n_folds, epch )    \n",
        "acc = np.array(acc).reshape(n_folds, epch )       \n",
        "val_loss = np.array(val_loss).reshape(n_folds, epch )      \n",
        "val_acc  = np.array(val_acc).reshape(n_folds, epch )       "
      ],
      "metadata": {
        "id": "irv8cW2AiT2j"
      },
      "execution_count": 126,
      "outputs": []
    },
    {
      "cell_type": "code",
      "source": [
        "loss_m = loss.mean(axis=0)\n",
        "loss_s = loss.var(axis=0)\n",
        "acc_m = acc.mean(axis=0)\n",
        "acc_s = acc.var(axis=0)\n",
        "\n",
        "val_loss_m = val_loss.mean(axis=0)\n",
        "val_loss_s = val_loss.var(axis=0)\n",
        "val_acc_m = val_acc.mean(axis=0)\n",
        "val_acc_s = val_acc.var(axis=0)\n",
        "\n",
        "plt.figure(figsize=(18,5))\n",
        "\n",
        "ax1 = plt.subplot(1,2,1, ylabel='loss', xlabel='epoch')\n",
        "ax1.plot(loss_m, label = 'Training')\n",
        "ax1.fill_between(range(len(loss_m)),loss_m-loss_s/2, loss_m+loss_s/2,color=\"darkblue\", lw=2)\n",
        "ax1.plot(val_loss_m, label = 'Validation')\n",
        "ax1.fill_between(range(len(loss_m)),val_loss_m-loss_s/2, val_loss_m+loss_s/2,color=\"darkgreen\", lw=2)\n",
        "plt.legend(loc=0)\n",
        "\n",
        "ax2 = plt.subplot(1,2,2, ylabel='accuracy', xlabel='epoch')\n",
        "ax2.plot(acc_m, label = 'Training')\n",
        "ax2.fill_between(range(len(acc_m)),acc_m-acc_s/2, acc_m+acc_s/2,color=\"darkblue\", lw=2)\n",
        "ax2.plot(val_acc_m, label = 'Validation')\n",
        "ax2.fill_between(range(len(acc_m)),val_acc_m-acc_s/2, val_acc_m+acc_s/2,color=\"darkgreen\", lw=2)\n",
        "\n",
        "plt.legend(loc=0)\n",
        "plt.show()\n",
        "\n"
      ],
      "metadata": {
        "colab": {
          "base_uri": "https://localhost:8080/",
          "height": 347
        },
        "outputId": "3d6bbd95-3fac-4d3e-b6b3-74433febcbad",
        "id": "XDBNrQD3iT2j"
      },
      "execution_count": 70,
      "outputs": [
        {
          "output_type": "display_data",
          "data": {
            "image/png": "[encoded data removed]",
            "text/plain": [
              "<Figure size 1296x360 with 2 Axes>"
            ]
          },
          "metadata": {
            "needs_background": "light"
          }
        }
      ]
    },
    {
      "cell_type": "markdown",
      "source": [
        "### Tune HP"
      ],
      "metadata": {
        "id": "LnCoUI7ERNG7"
      }
    },
    {
      "cell_type": "markdown",
      "source": [
        "#### GridSearch"
      ],
      "metadata": {
        "id": "Av6oE30mNAV1"
      }
    },
    {
      "cell_type": "code",
      "source": [
        "def model_fn(dense_layer_sizes, regularizations, lr=.1): #dropouts\n",
        "    model = keras.Sequential() \n",
        "    \n",
        "    # model.add( keras.layers.Flatten(input_shape=(12, )) )\n",
        "    \n",
        "    for i in range( len(dense_layer_sizes )):\n",
        "        model.add( keras.layers.Dense( dense_layer_sizes[i], \n",
        "                                      activation='relu', \n",
        "                                      kernel_regularizer=keras.regularizers.l2(regularizations) \n",
        "                                     ) )\n",
        "    model.add(keras.layers.Dense(dense_layer_sizes[i], \n",
        "                            activation='tanh', \n",
        "                            kernel_regularizer=keras.regularizers.l2(regularizations)))\n",
        "        # model.add(keras.layers.Dropout( dropouts ) )\n",
        "        \n",
        "       \n",
        "    model.add(keras.layers.Dense(1,activation='sigmoid'))\n",
        "        \n",
        "    model.compile(loss=keras.losses.BinaryCrossentropy(), \n",
        "                  optimizer=keras.optimizers.Adam(learning_rate=lr, beta_1=0.9, beta_2=0.999, epsilon=1e-06), \n",
        "                  metrics=['accuracy'])\n",
        "    \n",
        "\n",
        "    return model\n",
        "\n",
        "mdl = model_fn([30,20,20], .001, .01) #.001\n",
        "# mdl = model_fn([128], [.01], [.01])\n",
        "# mdl.summary()"
      ],
      "metadata": {
        "id": "F_IN1dzDNAV-"
      },
      "execution_count": 89,
      "outputs": []
    },
    {
      "cell_type": "code",
      "source": [
        "btch_size = 500\n",
        "epch = 8\n",
        "history = mdl.fit(X_train, Y_train, batch_size=btch_size, epochs=epch )"
      ],
      "metadata": {
        "outputId": "9bf87fab-67d5-4c86-9ab6-4062f916fe9d",
        "colab": {
          "base_uri": "https://localhost:8080/"
        },
        "id": "GcdbKk9XNAV_"
      },
      "execution_count": 90,
      "outputs": [
        {
          "output_type": "stream",
          "name": "stdout",
          "text": [
            "Epoch 1/8\n",
            "160/160 [==============================] - 2s 3ms/step - loss: 0.6912 - accuracy: 0.5708\n",
            "Epoch 2/8\n",
            "160/160 [==============================] - 1s 3ms/step - loss: 0.6746 - accuracy: 0.5784\n",
            "Epoch 3/8\n",
            "160/160 [==============================] - 1s 3ms/step - loss: 0.6735 - accuracy: 0.5777\n",
            "Epoch 4/8\n",
            "160/160 [==============================] - 1s 3ms/step - loss: 0.6727 - accuracy: 0.5785\n",
            "Epoch 5/8\n",
            "160/160 [==============================] - 0s 2ms/step - loss: 0.6721 - accuracy: 0.5777\n",
            "Epoch 6/8\n",
            "160/160 [==============================] - 0s 2ms/step - loss: 0.6721 - accuracy: 0.5796\n",
            "Epoch 7/8\n",
            "160/160 [==============================] - 0s 2ms/step - loss: 0.6720 - accuracy: 0.5801\n",
            "Epoch 8/8\n",
            "160/160 [==============================] - 0s 2ms/step - loss: 0.6722 - accuracy: 0.5803\n"
          ]
        }
      ]
    },
    {
      "cell_type": "code",
      "source": [
        "# Grid search over these:\n",
        "dense_size_candidates = [[40,30,30], [30,10] , [30,10,10] ] # the lists contain the number of nodes for each layer\n",
        "regularizations_candidates = [ (.01), (.001) ]\n",
        "# dropouts_candidates = [  (.005), (.01), (.003) ]\n",
        "lr_candidates = [.1, .01, .001]\n",
        "# epch_list = [4, 10]\n",
        "batch_size_candidates = [500,300]\n",
        "\n",
        "from tensorflow.keras.wrappers.scikit_learn import KerasClassifier\n",
        "from sklearn.model_selection import StratifiedKFold, cross_val_score, GridSearchCV\n",
        "\n",
        "gs_classifier = KerasClassifier(model_fn)\n"
      ],
      "metadata": {
        "outputId": "d46bf2da-43a2-4874-d952-02a186200066",
        "colab": {
          "base_uri": "https://localhost:8080/"
        },
        "id": "JU2PwwrKNAV_"
      },
      "execution_count": 91,
      "outputs": [
        {
          "output_type": "stream",
          "name": "stderr",
          "text": [
            "/usr/local/lib/python3.7/dist-packages/ipykernel_launcher.py:12: DeprecationWarning: KerasClassifier is deprecated, use Sci-Keras (https://github.com/adriangb/scikeras) instead.\n",
            "  if sys.path[0] == '':\n"
          ]
        }
      ]
    },
    {
      "cell_type": "code",
      "source": [
        "validator = GridSearchCV(gs_classifier,\n",
        "                         param_grid={'dense_layer_sizes': dense_size_candidates,\n",
        "                                     # epochs is avail for tuning even when not\n",
        "                                     # an argument to model building function\n",
        "                                     'epochs': [3],\n",
        "                                     'regularizations': regularizations_candidates,\n",
        "                                    #  'dropouts': dropouts_candidates,\n",
        "                                     'lr': lr_candidates},\n",
        "                         scoring='accuracy',\n",
        "                         n_jobs= 1,  )\n",
        "validator.fit(X2_train, Y2_train)"
      ],
      "metadata": {
        "outputId": "8672312d-f3a4-4d15-c01e-2fc3f65b9a27",
        "colab": {
          "base_uri": "https://localhost:8080/"
        },
        "id": "NbPXu8PTNAV_"
      },
      "execution_count": 92,
      "outputs": [
        {
          "output_type": "stream",
          "name": "stdout",
          "text": [
            "Epoch 1/3\n",
            "2000/2000 [==============================] - 4s 2ms/step - loss: 0.7008 - accuracy: 0.5427\n",
            "Epoch 2/3\n",
            "2000/2000 [==============================] - 4s 2ms/step - loss: 0.6963 - accuracy: 0.5386\n",
            "Epoch 3/3\n",
            "2000/2000 [==============================] - 4s 2ms/step - loss: 0.6948 - accuracy: 0.5376\n",
            "Epoch 1/3\n",
            "2000/2000 [==============================] - 5s 2ms/step - loss: 0.6981 - accuracy: 0.5429\n",
            "Epoch 2/3\n",
            "2000/2000 [==============================] - 4s 2ms/step - loss: 0.6929 - accuracy: 0.5433\n",
            "Epoch 3/3\n",
            "2000/2000 [==============================] - 4s 2ms/step - loss: 0.6973 - accuracy: 0.5351\n",
            "Epoch 1/3\n",
            "2000/2000 [==============================] - 4s 2ms/step - loss: 0.6992 - accuracy: 0.5411\n",
            "Epoch 2/3\n",
            "2000/2000 [==============================] - 4s 2ms/step - loss: 0.6930 - accuracy: 0.5430\n",
            "Epoch 3/3\n",
            "2000/2000 [==============================] - 4s 2ms/step - loss: 0.6922 - accuracy: 0.5448\n",
            "Epoch 1/3\n",
            "2000/2000 [==============================] - 4s 2ms/step - loss: 0.6974 - accuracy: 0.5485\n",
            "Epoch 2/3\n",
            "2000/2000 [==============================] - 4s 2ms/step - loss: 0.6933 - accuracy: 0.5413\n",
            "Epoch 3/3\n",
            "2000/2000 [==============================] - 4s 2ms/step - loss: 0.6964 - accuracy: 0.5355\n",
            "Epoch 1/3\n",
            "2000/2000 [==============================] - 4s 2ms/step - loss: 0.6986 - accuracy: 0.5465\n",
            "Epoch 2/3\n",
            "2000/2000 [==============================] - 4s 2ms/step - loss: 0.6927 - accuracy: 0.5426\n",
            "Epoch 3/3\n",
            "2000/2000 [==============================] - 4s 2ms/step - loss: 0.6929 - accuracy: 0.5437\n",
            "Epoch 1/3\n",
            "2000/2000 [==============================] - 6s 2ms/step - loss: 0.6982 - accuracy: 0.5429\n",
            "Epoch 2/3\n",
            "2000/2000 [==============================] - 4s 2ms/step - loss: 0.6939 - accuracy: 0.5408\n",
            "Epoch 3/3\n",
            "2000/2000 [==============================] - 4s 2ms/step - loss: 0.6941 - accuracy: 0.5396\n",
            "Epoch 1/3\n",
            "2000/2000 [==============================] - 4s 2ms/step - loss: 0.6983 - accuracy: 0.5426\n",
            "Epoch 2/3\n",
            "2000/2000 [==============================] - 4s 2ms/step - loss: 0.6949 - accuracy: 0.5400\n",
            "Epoch 3/3\n",
            "2000/2000 [==============================] - 4s 2ms/step - loss: 0.6949 - accuracy: 0.5381\n",
            "Epoch 1/3\n",
            "2000/2000 [==============================] - 4s 2ms/step - loss: 0.6961 - accuracy: 0.5448\n",
            "Epoch 2/3\n",
            "2000/2000 [==============================] - 4s 2ms/step - loss: 0.6958 - accuracy: 0.5381\n",
            "Epoch 3/3\n",
            "2000/2000 [==============================] - 4s 2ms/step - loss: 0.6931 - accuracy: 0.5432\n",
            "Epoch 1/3\n",
            "2000/2000 [==============================] - 4s 2ms/step - loss: 0.6970 - accuracy: 0.5438\n",
            "Epoch 2/3\n",
            "2000/2000 [==============================] - 4s 2ms/step - loss: 0.6928 - accuracy: 0.5453\n",
            "Epoch 3/3\n",
            "2000/2000 [==============================] - 4s 2ms/step - loss: 0.6944 - accuracy: 0.5400\n",
            "Epoch 1/3\n",
            "2000/2000 [==============================] - 5s 2ms/step - loss: 0.6971 - accuracy: 0.5450\n",
            "Epoch 2/3\n",
            "2000/2000 [==============================] - 4s 2ms/step - loss: 0.6927 - accuracy: 0.5469\n",
            "Epoch 3/3\n",
            "2000/2000 [==============================] - 4s 2ms/step - loss: 0.6936 - accuracy: 0.5441\n",
            "Epoch 1/3\n",
            "2000/2000 [==============================] - 5s 2ms/step - loss: 0.6936 - accuracy: 0.5579\n",
            "Epoch 2/3\n",
            "2000/2000 [==============================] - 4s 2ms/step - loss: 0.6869 - accuracy: 0.5577\n",
            "Epoch 3/3\n",
            "2000/2000 [==============================] - 4s 2ms/step - loss: 0.6868 - accuracy: 0.5577\n",
            "Epoch 1/3\n",
            "2000/2000 [==============================] - 5s 2ms/step - loss: 0.6937 - accuracy: 0.5570\n",
            "Epoch 2/3\n",
            "2000/2000 [==============================] - 4s 2ms/step - loss: 0.6867 - accuracy: 0.5578\n",
            "Epoch 3/3\n",
            "2000/2000 [==============================] - 4s 2ms/step - loss: 0.6869 - accuracy: 0.5578\n",
            "Epoch 1/3\n",
            "2000/2000 [==============================] - 4s 2ms/step - loss: 0.6935 - accuracy: 0.5572\n",
            "Epoch 2/3\n",
            "2000/2000 [==============================] - 4s 2ms/step - loss: 0.6869 - accuracy: 0.5572\n",
            "Epoch 3/3\n",
            "2000/2000 [==============================] - 4s 2ms/step - loss: 0.6869 - accuracy: 0.5572\n",
            "Epoch 1/3\n",
            "2000/2000 [==============================] - 4s 2ms/step - loss: 0.6940 - accuracy: 0.5575\n",
            "Epoch 2/3\n",
            "2000/2000 [==============================] - 4s 2ms/step - loss: 0.6868 - accuracy: 0.5582\n",
            "Epoch 3/3\n",
            "2000/2000 [==============================] - 4s 2ms/step - loss: 0.6867 - accuracy: 0.5582\n",
            "Epoch 1/3\n",
            "2000/2000 [==============================] - 4s 2ms/step - loss: 0.6935 - accuracy: 0.5589\n",
            "Epoch 2/3\n",
            "2000/2000 [==============================] - 4s 2ms/step - loss: 0.6865 - accuracy: 0.5594\n",
            "Epoch 3/3\n",
            "2000/2000 [==============================] - 4s 2ms/step - loss: 0.6864 - accuracy: 0.5590\n",
            "Epoch 1/3\n",
            "2000/2000 [==============================] - 4s 2ms/step - loss: 0.6850 - accuracy: 0.5616\n",
            "Epoch 2/3\n",
            "2000/2000 [==============================] - 4s 2ms/step - loss: 0.6791 - accuracy: 0.5695\n",
            "Epoch 3/3\n",
            "2000/2000 [==============================] - 4s 2ms/step - loss: 0.6766 - accuracy: 0.5693\n",
            "Epoch 1/3\n",
            "2000/2000 [==============================] - 5s 2ms/step - loss: 0.6851 - accuracy: 0.5614\n",
            "Epoch 2/3\n",
            "2000/2000 [==============================] - 4s 2ms/step - loss: 0.6790 - accuracy: 0.5672\n",
            "Epoch 3/3\n",
            "2000/2000 [==============================] - 4s 2ms/step - loss: 0.6780 - accuracy: 0.5717\n",
            "Epoch 1/3\n",
            "2000/2000 [==============================] - 4s 2ms/step - loss: 0.6849 - accuracy: 0.5625\n",
            "Epoch 2/3\n",
            "2000/2000 [==============================] - 4s 2ms/step - loss: 0.6788 - accuracy: 0.5694\n",
            "Epoch 3/3\n",
            "2000/2000 [==============================] - 4s 2ms/step - loss: 0.6777 - accuracy: 0.5735\n",
            "Epoch 1/3\n",
            "2000/2000 [==============================] - 4s 2ms/step - loss: 0.6843 - accuracy: 0.5605\n",
            "Epoch 2/3\n",
            "2000/2000 [==============================] - 4s 2ms/step - loss: 0.6788 - accuracy: 0.5674\n",
            "Epoch 3/3\n",
            "2000/2000 [==============================] - 4s 2ms/step - loss: 0.6780 - accuracy: 0.5700\n",
            "Epoch 1/3\n",
            "2000/2000 [==============================] - 4s 2ms/step - loss: 0.6845 - accuracy: 0.5587\n",
            "Epoch 2/3\n",
            "2000/2000 [==============================] - 4s 2ms/step - loss: 0.6791 - accuracy: 0.5612\n",
            "Epoch 3/3\n",
            "2000/2000 [==============================] - 4s 2ms/step - loss: 0.6774 - accuracy: 0.5634\n",
            "Epoch 1/3\n",
            "2000/2000 [==============================] - 4s 2ms/step - loss: 0.7650 - accuracy: 0.5607\n",
            "Epoch 2/3\n",
            "2000/2000 [==============================] - 4s 2ms/step - loss: 0.6870 - accuracy: 0.5577\n",
            "Epoch 3/3\n",
            "2000/2000 [==============================] - 4s 2ms/step - loss: 0.6868 - accuracy: 0.5577\n",
            "Epoch 1/3\n",
            "2000/2000 [==============================] - 5s 2ms/step - loss: 0.7540 - accuracy: 0.5590\n",
            "Epoch 2/3\n",
            "2000/2000 [==============================] - 4s 2ms/step - loss: 0.6869 - accuracy: 0.5578\n",
            "Epoch 3/3\n",
            "2000/2000 [==============================] - 4s 2ms/step - loss: 0.6866 - accuracy: 0.5578\n",
            "Epoch 1/3\n",
            "2000/2000 [==============================] - 5s 2ms/step - loss: 0.7583 - accuracy: 0.5568\n",
            "Epoch 2/3\n",
            "2000/2000 [==============================] - 4s 2ms/step - loss: 0.6868 - accuracy: 0.5572\n",
            "Epoch 3/3\n",
            "2000/2000 [==============================] - 4s 2ms/step - loss: 0.6868 - accuracy: 0.5572\n",
            "Epoch 1/3\n",
            "2000/2000 [==============================] - 4s 2ms/step - loss: 0.7583 - accuracy: 0.5580\n",
            "Epoch 2/3\n",
            "2000/2000 [==============================] - 4s 2ms/step - loss: 0.6865 - accuracy: 0.5582\n",
            "Epoch 3/3\n",
            "2000/2000 [==============================] - 4s 2ms/step - loss: 0.6866 - accuracy: 0.5582\n",
            "Epoch 1/3\n",
            "2000/2000 [==============================] - 4s 2ms/step - loss: 0.7604 - accuracy: 0.5619\n",
            "Epoch 2/3\n",
            "2000/2000 [==============================] - 4s 2ms/step - loss: 0.6869 - accuracy: 0.5594\n",
            "Epoch 3/3\n",
            "2000/2000 [==============================] - 4s 2ms/step - loss: 0.6863 - accuracy: 0.5594\n",
            "Epoch 1/3\n",
            "2000/2000 [==============================] - 4s 2ms/step - loss: 0.7024 - accuracy: 0.5730\n",
            "Epoch 2/3\n",
            "2000/2000 [==============================] - 4s 2ms/step - loss: 0.6769 - accuracy: 0.5792\n",
            "Epoch 3/3\n",
            "2000/2000 [==============================] - 4s 2ms/step - loss: 0.6736 - accuracy: 0.5810\n",
            "Epoch 1/3\n",
            "2000/2000 [==============================] - 5s 2ms/step - loss: 0.6998 - accuracy: 0.5749\n",
            "Epoch 2/3\n",
            "2000/2000 [==============================] - 4s 2ms/step - loss: 0.6767 - accuracy: 0.5795\n",
            "Epoch 3/3\n",
            "2000/2000 [==============================] - 4s 2ms/step - loss: 0.6739 - accuracy: 0.5805\n",
            "Epoch 1/3\n",
            "2000/2000 [==============================] - 5s 2ms/step - loss: 0.7024 - accuracy: 0.5758\n",
            "Epoch 2/3\n",
            "2000/2000 [==============================] - 4s 2ms/step - loss: 0.6778 - accuracy: 0.5793\n",
            "Epoch 3/3\n",
            "2000/2000 [==============================] - 4s 2ms/step - loss: 0.6746 - accuracy: 0.5796\n",
            "Epoch 1/3\n",
            "2000/2000 [==============================] - 4s 2ms/step - loss: 0.7072 - accuracy: 0.5768\n",
            "Epoch 2/3\n",
            "2000/2000 [==============================] - 4s 2ms/step - loss: 0.6785 - accuracy: 0.5781\n",
            "Epoch 3/3\n",
            "2000/2000 [==============================] - 4s 2ms/step - loss: 0.6747 - accuracy: 0.5780\n",
            "Epoch 1/3\n",
            "2000/2000 [==============================] - 4s 2ms/step - loss: 0.7022 - accuracy: 0.5756\n",
            "Epoch 2/3\n",
            "2000/2000 [==============================] - 4s 2ms/step - loss: 0.6773 - accuracy: 0.5797\n",
            "Epoch 3/3\n",
            "2000/2000 [==============================] - 4s 2ms/step - loss: 0.6741 - accuracy: 0.5788\n",
            "Epoch 1/3\n",
            "2000/2000 [==============================] - 4s 2ms/step - loss: 0.6913 - accuracy: 0.5483\n",
            "Epoch 2/3\n",
            "2000/2000 [==============================] - 3s 2ms/step - loss: 0.6917 - accuracy: 0.5473\n",
            "Epoch 3/3\n",
            "2000/2000 [==============================] - 3s 2ms/step - loss: 0.6908 - accuracy: 0.5493\n",
            "Epoch 1/3\n",
            "2000/2000 [==============================] - 4s 2ms/step - loss: 0.6925 - accuracy: 0.5492\n",
            "Epoch 2/3\n",
            "2000/2000 [==============================] - 3s 2ms/step - loss: 0.6913 - accuracy: 0.5458\n",
            "Epoch 3/3\n",
            "2000/2000 [==============================] - 3s 2ms/step - loss: 0.6908 - accuracy: 0.5457\n",
            "Epoch 1/3\n",
            "2000/2000 [==============================] - 4s 2ms/step - loss: 0.6922 - accuracy: 0.5493\n",
            "Epoch 2/3\n",
            "2000/2000 [==============================] - 3s 2ms/step - loss: 0.6901 - accuracy: 0.5485\n",
            "Epoch 3/3\n",
            "2000/2000 [==============================] - 3s 2ms/step - loss: 0.6911 - accuracy: 0.5459\n",
            "Epoch 1/3\n",
            "2000/2000 [==============================] - 4s 2ms/step - loss: 0.6931 - accuracy: 0.5465\n",
            "Epoch 2/3\n",
            "2000/2000 [==============================] - 3s 2ms/step - loss: 0.6908 - accuracy: 0.5470\n",
            "Epoch 3/3\n",
            "2000/2000 [==============================] - 3s 2ms/step - loss: 0.6909 - accuracy: 0.5449\n",
            "Epoch 1/3\n",
            "2000/2000 [==============================] - 4s 2ms/step - loss: 0.6918 - accuracy: 0.5491\n",
            "Epoch 2/3\n",
            "2000/2000 [==============================] - 3s 2ms/step - loss: 0.6915 - accuracy: 0.5473\n",
            "Epoch 3/3\n",
            "2000/2000 [==============================] - 3s 2ms/step - loss: 0.6902 - accuracy: 0.5490\n",
            "Epoch 1/3\n",
            "2000/2000 [==============================] - 4s 2ms/step - loss: 0.6923 - accuracy: 0.5480\n",
            "Epoch 2/3\n",
            "2000/2000 [==============================] - 3s 2ms/step - loss: 0.6915 - accuracy: 0.5469\n",
            "Epoch 3/3\n",
            "2000/2000 [==============================] - 3s 2ms/step - loss: 0.6904 - accuracy: 0.5480\n",
            "Epoch 1/3\n",
            "2000/2000 [==============================] - 4s 2ms/step - loss: 0.6921 - accuracy: 0.5511\n",
            "Epoch 2/3\n",
            "2000/2000 [==============================] - 3s 2ms/step - loss: 0.6904 - accuracy: 0.5471\n",
            "Epoch 3/3\n",
            "2000/2000 [==============================] - 3s 2ms/step - loss: 0.6917 - accuracy: 0.5467\n",
            "Epoch 1/3\n",
            "2000/2000 [==============================] - 4s 2ms/step - loss: 0.6925 - accuracy: 0.5452\n",
            "Epoch 2/3\n",
            "2000/2000 [==============================] - 3s 2ms/step - loss: 0.6907 - accuracy: 0.5449\n",
            "Epoch 3/3\n",
            "2000/2000 [==============================] - 3s 2ms/step - loss: 0.6910 - accuracy: 0.5457\n",
            "Epoch 1/3\n",
            "2000/2000 [==============================] - 4s 2ms/step - loss: 0.6926 - accuracy: 0.5499\n",
            "Epoch 2/3\n",
            "2000/2000 [==============================] - 3s 2ms/step - loss: 0.6921 - accuracy: 0.5468\n",
            "Epoch 3/3\n",
            "2000/2000 [==============================] - 3s 2ms/step - loss: 0.6919 - accuracy: 0.5464\n",
            "Epoch 1/3\n",
            "2000/2000 [==============================] - 4s 2ms/step - loss: 0.6924 - accuracy: 0.5476\n",
            "Epoch 2/3\n",
            "2000/2000 [==============================] - 3s 2ms/step - loss: 0.6886 - accuracy: 0.5530\n",
            "Epoch 3/3\n",
            "2000/2000 [==============================] - 3s 2ms/step - loss: 0.6902 - accuracy: 0.5482\n",
            "Epoch 1/3\n",
            "2000/2000 [==============================] - 4s 2ms/step - loss: 0.6919 - accuracy: 0.5573\n",
            "Epoch 2/3\n",
            "2000/2000 [==============================] - 3s 2ms/step - loss: 0.6869 - accuracy: 0.5577\n",
            "Epoch 3/3\n",
            "2000/2000 [==============================] - 3s 2ms/step - loss: 0.6867 - accuracy: 0.5577\n",
            "Epoch 1/3\n",
            "2000/2000 [==============================] - 4s 2ms/step - loss: 0.6922 - accuracy: 0.5554\n",
            "Epoch 2/3\n",
            "2000/2000 [==============================] - 3s 2ms/step - loss: 0.6867 - accuracy: 0.5578\n",
            "Epoch 3/3\n",
            "2000/2000 [==============================] - 3s 2ms/step - loss: 0.6867 - accuracy: 0.5578\n",
            "Epoch 1/3\n",
            "2000/2000 [==============================] - 4s 2ms/step - loss: 0.6908 - accuracy: 0.5564\n",
            "Epoch 2/3\n",
            "2000/2000 [==============================] - 3s 2ms/step - loss: 0.6868 - accuracy: 0.5572\n",
            "Epoch 3/3\n",
            "2000/2000 [==============================] - 3s 2ms/step - loss: 0.6868 - accuracy: 0.5572\n",
            "Epoch 1/3\n",
            "2000/2000 [==============================] - 4s 2ms/step - loss: 0.6918 - accuracy: 0.5581\n",
            "Epoch 2/3\n",
            "2000/2000 [==============================] - 3s 2ms/step - loss: 0.6866 - accuracy: 0.5582\n",
            "Epoch 3/3\n",
            "2000/2000 [==============================] - 3s 2ms/step - loss: 0.6866 - accuracy: 0.5582\n",
            "Epoch 1/3\n",
            "2000/2000 [==============================] - 4s 2ms/step - loss: 0.6911 - accuracy: 0.5583\n",
            "Epoch 2/3\n",
            "2000/2000 [==============================] - 3s 2ms/step - loss: 0.6863 - accuracy: 0.5594\n",
            "Epoch 3/3\n",
            "2000/2000 [==============================] - 3s 2ms/step - loss: 0.6863 - accuracy: 0.5594\n",
            "Epoch 1/3\n",
            "2000/2000 [==============================] - 4s 2ms/step - loss: 0.6808 - accuracy: 0.5694\n",
            "Epoch 2/3\n",
            "2000/2000 [==============================] - 3s 2ms/step - loss: 0.6775 - accuracy: 0.5729\n",
            "Epoch 3/3\n",
            "2000/2000 [==============================] - 3s 2ms/step - loss: 0.6765 - accuracy: 0.5706\n",
            "Epoch 1/3\n",
            "2000/2000 [==============================] - 4s 2ms/step - loss: 0.6803 - accuracy: 0.5706\n",
            "Epoch 2/3\n",
            "2000/2000 [==============================] - 3s 2ms/step - loss: 0.6773 - accuracy: 0.5715\n",
            "Epoch 3/3\n",
            "2000/2000 [==============================] - 3s 2ms/step - loss: 0.6761 - accuracy: 0.5701\n",
            "Epoch 1/3\n",
            "2000/2000 [==============================] - 4s 2ms/step - loss: 0.6801 - accuracy: 0.5728\n",
            "Epoch 2/3\n",
            "2000/2000 [==============================] - 3s 2ms/step - loss: 0.6768 - accuracy: 0.5732\n",
            "Epoch 3/3\n",
            "2000/2000 [==============================] - 3s 2ms/step - loss: 0.6758 - accuracy: 0.5733\n",
            "Epoch 1/3\n",
            "2000/2000 [==============================] - 4s 2ms/step - loss: 0.6810 - accuracy: 0.5730\n",
            "Epoch 2/3\n",
            "2000/2000 [==============================] - 3s 2ms/step - loss: 0.6772 - accuracy: 0.5715\n",
            "Epoch 3/3\n",
            "2000/2000 [==============================] - 3s 2ms/step - loss: 0.6768 - accuracy: 0.5707\n",
            "Epoch 1/3\n",
            "2000/2000 [==============================] - 4s 2ms/step - loss: 0.6807 - accuracy: 0.5637\n",
            "Epoch 2/3\n",
            "2000/2000 [==============================] - 3s 2ms/step - loss: 0.6768 - accuracy: 0.5715\n",
            "Epoch 3/3\n",
            "2000/2000 [==============================] - 3s 2ms/step - loss: 0.6767 - accuracy: 0.5636\n",
            "Epoch 1/3\n",
            "2000/2000 [==============================] - 4s 2ms/step - loss: 0.7248 - accuracy: 0.5573\n",
            "Epoch 2/3\n",
            "2000/2000 [==============================] - 3s 2ms/step - loss: 0.6849 - accuracy: 0.5583\n",
            "Epoch 3/3\n",
            "2000/2000 [==============================] - 3s 2ms/step - loss: 0.6835 - accuracy: 0.5608\n",
            "Epoch 1/3\n",
            "2000/2000 [==============================] - 4s 2ms/step - loss: 0.7468 - accuracy: 0.5656\n",
            "Epoch 2/3\n",
            "2000/2000 [==============================] - 3s 2ms/step - loss: 0.6851 - accuracy: 0.5611\n",
            "Epoch 3/3\n",
            "2000/2000 [==============================] - 3s 2ms/step - loss: 0.6835 - accuracy: 0.5613\n",
            "Epoch 1/3\n",
            "2000/2000 [==============================] - 4s 2ms/step - loss: 0.7220 - accuracy: 0.5570\n",
            "Epoch 2/3\n",
            "2000/2000 [==============================] - 3s 2ms/step - loss: 0.6853 - accuracy: 0.5582\n",
            "Epoch 3/3\n",
            "2000/2000 [==============================] - 3s 2ms/step - loss: 0.6836 - accuracy: 0.5636\n",
            "Epoch 1/3\n",
            "2000/2000 [==============================] - 4s 2ms/step - loss: 0.7233 - accuracy: 0.5572\n",
            "Epoch 2/3\n",
            "2000/2000 [==============================] - 3s 2ms/step - loss: 0.6849 - accuracy: 0.5587\n",
            "Epoch 3/3\n",
            "2000/2000 [==============================] - 3s 2ms/step - loss: 0.6835 - accuracy: 0.5627\n",
            "Epoch 1/3\n",
            "2000/2000 [==============================] - 4s 2ms/step - loss: 0.7262 - accuracy: 0.5570\n",
            "Epoch 2/3\n",
            "2000/2000 [==============================] - 3s 2ms/step - loss: 0.6838 - accuracy: 0.5624\n",
            "Epoch 3/3\n",
            "2000/2000 [==============================] - 3s 2ms/step - loss: 0.6825 - accuracy: 0.5637\n",
            "Epoch 1/3\n",
            "2000/2000 [==============================] - 4s 2ms/step - loss: 0.6890 - accuracy: 0.5755\n",
            "Epoch 2/3\n",
            "2000/2000 [==============================] - 3s 2ms/step - loss: 0.6764 - accuracy: 0.5816\n",
            "Epoch 3/3\n",
            "2000/2000 [==============================] - 3s 2ms/step - loss: 0.6736 - accuracy: 0.5817\n",
            "Epoch 1/3\n",
            "2000/2000 [==============================] - 4s 2ms/step - loss: 0.6902 - accuracy: 0.5723\n",
            "Epoch 2/3\n",
            "2000/2000 [==============================] - 3s 2ms/step - loss: 0.6774 - accuracy: 0.5796\n",
            "Epoch 3/3\n",
            "2000/2000 [==============================] - 3s 2ms/step - loss: 0.6745 - accuracy: 0.5804\n",
            "Epoch 1/3\n",
            "2000/2000 [==============================] - 4s 2ms/step - loss: 0.6893 - accuracy: 0.5730\n",
            "Epoch 2/3\n",
            "2000/2000 [==============================] - 3s 2ms/step - loss: 0.6769 - accuracy: 0.5806\n",
            "Epoch 3/3\n",
            "2000/2000 [==============================] - 3s 2ms/step - loss: 0.6734 - accuracy: 0.5813\n",
            "Epoch 1/3\n",
            "2000/2000 [==============================] - 4s 2ms/step - loss: 0.6900 - accuracy: 0.5756\n",
            "Epoch 2/3\n",
            "2000/2000 [==============================] - 3s 2ms/step - loss: 0.6778 - accuracy: 0.5818\n",
            "Epoch 3/3\n",
            "2000/2000 [==============================] - 3s 2ms/step - loss: 0.6745 - accuracy: 0.5810\n",
            "Epoch 1/3\n",
            "2000/2000 [==============================] - 4s 2ms/step - loss: 0.6881 - accuracy: 0.5698\n",
            "Epoch 2/3\n",
            "2000/2000 [==============================] - 3s 2ms/step - loss: 0.6750 - accuracy: 0.5803\n",
            "Epoch 3/3\n",
            "2000/2000 [==============================] - 3s 2ms/step - loss: 0.6722 - accuracy: 0.5822\n",
            "Epoch 1/3\n",
            "2000/2000 [==============================] - 4s 2ms/step - loss: 0.6925 - accuracy: 0.5489\n",
            "Epoch 2/3\n",
            "2000/2000 [==============================] - 3s 2ms/step - loss: 0.6902 - accuracy: 0.5493\n",
            "Epoch 3/3\n",
            "2000/2000 [==============================] - 4s 2ms/step - loss: 0.6907 - accuracy: 0.5483\n",
            "Epoch 1/3\n",
            "2000/2000 [==============================] - 4s 2ms/step - loss: 0.6921 - accuracy: 0.5487\n",
            "Epoch 2/3\n",
            "2000/2000 [==============================] - 4s 2ms/step - loss: 0.6909 - accuracy: 0.5479\n",
            "Epoch 3/3\n",
            "2000/2000 [==============================] - 4s 2ms/step - loss: 0.6915 - accuracy: 0.5473\n",
            "Epoch 1/3\n",
            "2000/2000 [==============================] - 4s 2ms/step - loss: 0.6921 - accuracy: 0.5468\n",
            "Epoch 2/3\n",
            "2000/2000 [==============================] - 4s 2ms/step - loss: 0.6915 - accuracy: 0.5458\n",
            "Epoch 3/3\n",
            "2000/2000 [==============================] - 4s 2ms/step - loss: 0.6909 - accuracy: 0.5475\n",
            "Epoch 1/3\n",
            "2000/2000 [==============================] - 4s 2ms/step - loss: 0.6922 - accuracy: 0.5498\n",
            "Epoch 2/3\n",
            "2000/2000 [==============================] - 4s 2ms/step - loss: 0.6907 - accuracy: 0.5468\n",
            "Epoch 3/3\n",
            "2000/2000 [==============================] - 4s 2ms/step - loss: 0.6901 - accuracy: 0.5493\n",
            "Epoch 1/3\n",
            "2000/2000 [==============================] - 4s 2ms/step - loss: 0.6927 - accuracy: 0.5518\n",
            "Epoch 2/3\n",
            "2000/2000 [==============================] - 4s 2ms/step - loss: 0.6902 - accuracy: 0.5484\n",
            "Epoch 3/3\n",
            "2000/2000 [==============================] - 4s 2ms/step - loss: 0.6909 - accuracy: 0.5504\n",
            "Epoch 1/3\n",
            "2000/2000 [==============================] - 5s 2ms/step - loss: 0.6916 - accuracy: 0.5484\n",
            "Epoch 2/3\n",
            "2000/2000 [==============================] - 4s 2ms/step - loss: 0.6921 - accuracy: 0.5471\n",
            "Epoch 3/3\n",
            "2000/2000 [==============================] - 4s 2ms/step - loss: 0.6920 - accuracy: 0.5433\n",
            "Epoch 1/3\n",
            "2000/2000 [==============================] - 5s 2ms/step - loss: 0.6919 - accuracy: 0.5440\n",
            "Epoch 2/3\n",
            "2000/2000 [==============================] - 4s 2ms/step - loss: 0.6929 - accuracy: 0.5440\n",
            "Epoch 3/3\n",
            "2000/2000 [==============================] - 4s 2ms/step - loss: 0.6904 - accuracy: 0.5479\n",
            "Epoch 1/3\n",
            "2000/2000 [==============================] - 5s 2ms/step - loss: 0.6930 - accuracy: 0.5481\n",
            "Epoch 2/3\n",
            "2000/2000 [==============================] - 4s 2ms/step - loss: 0.6924 - accuracy: 0.5451\n",
            "Epoch 3/3\n",
            "2000/2000 [==============================] - 4s 2ms/step - loss: 0.6919 - accuracy: 0.5429\n",
            "Epoch 1/3\n",
            "2000/2000 [==============================] - 4s 2ms/step - loss: 0.6915 - accuracy: 0.5497\n",
            "Epoch 2/3\n",
            "2000/2000 [==============================] - 4s 2ms/step - loss: 0.6908 - accuracy: 0.5471\n",
            "Epoch 3/3\n",
            "2000/2000 [==============================] - 4s 2ms/step - loss: 0.6900 - accuracy: 0.5459\n",
            "Epoch 1/3\n",
            "2000/2000 [==============================] - 4s 2ms/step - loss: 0.6920 - accuracy: 0.5487\n",
            "Epoch 2/3\n",
            "2000/2000 [==============================] - 4s 2ms/step - loss: 0.6904 - accuracy: 0.5489\n",
            "Epoch 3/3\n",
            "2000/2000 [==============================] - 4s 2ms/step - loss: 0.6900 - accuracy: 0.5502\n",
            "Epoch 1/3\n",
            "2000/2000 [==============================] - 4s 2ms/step - loss: 0.6912 - accuracy: 0.5573\n",
            "Epoch 2/3\n",
            "2000/2000 [==============================] - 4s 2ms/step - loss: 0.6867 - accuracy: 0.5577\n",
            "Epoch 3/3\n",
            "2000/2000 [==============================] - 4s 2ms/step - loss: 0.6867 - accuracy: 0.5577\n",
            "Epoch 1/3\n",
            "2000/2000 [==============================] - 5s 2ms/step - loss: 0.6920 - accuracy: 0.5577\n",
            "Epoch 2/3\n",
            "2000/2000 [==============================] - 4s 2ms/step - loss: 0.6868 - accuracy: 0.5578\n",
            "Epoch 3/3\n",
            "2000/2000 [==============================] - 4s 2ms/step - loss: 0.6867 - accuracy: 0.5578\n",
            "Epoch 1/3\n",
            "2000/2000 [==============================] - 4s 2ms/step - loss: 0.6912 - accuracy: 0.5573\n",
            "Epoch 2/3\n",
            "2000/2000 [==============================] - 4s 2ms/step - loss: 0.6868 - accuracy: 0.5572\n",
            "Epoch 3/3\n",
            "2000/2000 [==============================] - 4s 2ms/step - loss: 0.6869 - accuracy: 0.5572\n",
            "Epoch 1/3\n",
            "2000/2000 [==============================] - 4s 2ms/step - loss: 0.6904 - accuracy: 0.5578\n",
            "Epoch 2/3\n",
            "2000/2000 [==============================] - 4s 2ms/step - loss: 0.6867 - accuracy: 0.5582\n",
            "Epoch 3/3\n",
            "2000/2000 [==============================] - 4s 2ms/step - loss: 0.6865 - accuracy: 0.5582\n",
            "Epoch 1/3\n",
            "2000/2000 [==============================] - 4s 2ms/step - loss: 0.6913 - accuracy: 0.5594\n",
            "Epoch 2/3\n",
            "2000/2000 [==============================] - 4s 2ms/step - loss: 0.6863 - accuracy: 0.5594\n",
            "Epoch 3/3\n",
            "2000/2000 [==============================] - 4s 2ms/step - loss: 0.6864 - accuracy: 0.5594\n",
            "Epoch 1/3\n",
            "2000/2000 [==============================] - 5s 2ms/step - loss: 0.6820 - accuracy: 0.5692\n",
            "Epoch 2/3\n",
            "2000/2000 [==============================] - 4s 2ms/step - loss: 0.6788 - accuracy: 0.5725\n",
            "Epoch 3/3\n",
            "2000/2000 [==============================] - 4s 2ms/step - loss: 0.6785 - accuracy: 0.5708\n",
            "Epoch 1/3\n",
            "2000/2000 [==============================] - 4s 2ms/step - loss: 0.6827 - accuracy: 0.5647\n",
            "Epoch 2/3\n",
            "2000/2000 [==============================] - 4s 2ms/step - loss: 0.6785 - accuracy: 0.5713\n",
            "Epoch 3/3\n",
            "2000/2000 [==============================] - 4s 2ms/step - loss: 0.6780 - accuracy: 0.5718\n",
            "Epoch 1/3\n",
            "2000/2000 [==============================] - 4s 2ms/step - loss: 0.6821 - accuracy: 0.5676\n",
            "Epoch 2/3\n",
            "2000/2000 [==============================] - 4s 2ms/step - loss: 0.6789 - accuracy: 0.5687\n",
            "Epoch 3/3\n",
            "2000/2000 [==============================] - 4s 2ms/step - loss: 0.6774 - accuracy: 0.5714\n",
            "Epoch 1/3\n",
            "2000/2000 [==============================] - 4s 2ms/step - loss: 0.6818 - accuracy: 0.5664\n",
            "Epoch 2/3\n",
            "2000/2000 [==============================] - 4s 2ms/step - loss: 0.6787 - accuracy: 0.5707\n",
            "Epoch 3/3\n",
            "2000/2000 [==============================] - 4s 2ms/step - loss: 0.6777 - accuracy: 0.5717\n",
            "Epoch 1/3\n",
            "2000/2000 [==============================] - 4s 2ms/step - loss: 0.6816 - accuracy: 0.5669\n",
            "Epoch 2/3\n",
            "2000/2000 [==============================] - 4s 2ms/step - loss: 0.6780 - accuracy: 0.5696\n",
            "Epoch 3/3\n",
            "2000/2000 [==============================] - 4s 2ms/step - loss: 0.6773 - accuracy: 0.5695\n",
            "Epoch 1/3\n",
            "2000/2000 [==============================] - 4s 2ms/step - loss: 0.7249 - accuracy: 0.5561\n",
            "Epoch 2/3\n",
            "2000/2000 [==============================] - 4s 2ms/step - loss: 0.6866 - accuracy: 0.5577\n",
            "Epoch 3/3\n",
            "2000/2000 [==============================] - 4s 2ms/step - loss: 0.6866 - accuracy: 0.5577\n",
            "Epoch 1/3\n",
            "2000/2000 [==============================] - 4s 2ms/step - loss: 0.7422 - accuracy: 0.5560\n",
            "Epoch 2/3\n",
            "2000/2000 [==============================] - 4s 2ms/step - loss: 0.6881 - accuracy: 0.5578\n",
            "Epoch 3/3\n",
            "2000/2000 [==============================] - 4s 2ms/step - loss: 0.6866 - accuracy: 0.5578\n",
            "Epoch 1/3\n",
            "2000/2000 [==============================] - 4s 2ms/step - loss: 0.7334 - accuracy: 0.5568\n",
            "Epoch 2/3\n",
            "2000/2000 [==============================] - 4s 2ms/step - loss: 0.6869 - accuracy: 0.5572\n",
            "Epoch 3/3\n",
            "2000/2000 [==============================] - 4s 2ms/step - loss: 0.6867 - accuracy: 0.5572\n",
            "Epoch 1/3\n",
            "2000/2000 [==============================] - 4s 2ms/step - loss: 0.7497 - accuracy: 0.5603\n",
            "Epoch 2/3\n",
            "2000/2000 [==============================] - 4s 2ms/step - loss: 0.6891 - accuracy: 0.5582\n",
            "Epoch 3/3\n",
            "2000/2000 [==============================] - 4s 2ms/step - loss: 0.6883 - accuracy: 0.5583\n",
            "Epoch 1/3\n",
            "2000/2000 [==============================] - 4s 2ms/step - loss: 0.7376 - accuracy: 0.5596\n",
            "Epoch 2/3\n",
            "2000/2000 [==============================] - 4s 2ms/step - loss: 0.6863 - accuracy: 0.5594\n",
            "Epoch 3/3\n",
            "2000/2000 [==============================] - 4s 2ms/step - loss: 0.6862 - accuracy: 0.5594\n",
            "Epoch 1/3\n",
            "2000/2000 [==============================] - 5s 2ms/step - loss: 0.6876 - accuracy: 0.5745\n",
            "Epoch 2/3\n",
            "2000/2000 [==============================] - 4s 2ms/step - loss: 0.6754 - accuracy: 0.5814\n",
            "Epoch 3/3\n",
            "2000/2000 [==============================] - 4s 2ms/step - loss: 0.6734 - accuracy: 0.5835\n",
            "Epoch 1/3\n",
            "2000/2000 [==============================] - 4s 2ms/step - loss: 0.6886 - accuracy: 0.5696\n",
            "Epoch 2/3\n",
            "2000/2000 [==============================] - 4s 2ms/step - loss: 0.6757 - accuracy: 0.5812\n",
            "Epoch 3/3\n",
            "2000/2000 [==============================] - 4s 2ms/step - loss: 0.6737 - accuracy: 0.5788\n",
            "Epoch 1/3\n",
            "2000/2000 [==============================] - 4s 2ms/step - loss: 0.6916 - accuracy: 0.5751\n",
            "Epoch 2/3\n",
            "2000/2000 [==============================] - 4s 2ms/step - loss: 0.6782 - accuracy: 0.5815\n",
            "Epoch 3/3\n",
            "2000/2000 [==============================] - 4s 2ms/step - loss: 0.6751 - accuracy: 0.5816\n",
            "Epoch 1/3\n",
            "2000/2000 [==============================] - 4s 2ms/step - loss: 0.6929 - accuracy: 0.5716\n",
            "Epoch 2/3\n",
            "2000/2000 [==============================] - 4s 2ms/step - loss: 0.6778 - accuracy: 0.5811\n",
            "Epoch 3/3\n",
            "2000/2000 [==============================] - 4s 2ms/step - loss: 0.6754 - accuracy: 0.5790\n",
            "Epoch 1/3\n",
            "2000/2000 [==============================] - 4s 2ms/step - loss: 0.6947 - accuracy: 0.5766\n",
            "Epoch 2/3\n",
            "2000/2000 [==============================] - 4s 2ms/step - loss: 0.6799 - accuracy: 0.5812\n",
            "Epoch 3/3\n",
            "2000/2000 [==============================] - 4s 2ms/step - loss: 0.6760 - accuracy: 0.5804\n",
            "Epoch 1/3\n",
            "2500/2500 [==============================] - 5s 2ms/step - loss: 0.6851 - accuracy: 0.5771\n",
            "Epoch 2/3\n",
            "2500/2500 [==============================] - 4s 2ms/step - loss: 0.6747 - accuracy: 0.5823\n",
            "Epoch 3/3\n",
            "2500/2500 [==============================] - 4s 2ms/step - loss: 0.6720 - accuracy: 0.5823\n"
          ]
        },
        {
          "output_type": "execute_result",
          "data": {
            "text/plain": [
              "GridSearchCV(estimator=<keras.wrappers.scikit_learn.KerasClassifier object at 0x7f57d68e5c50>,\n",
              "             n_jobs=1,\n",
              "             param_grid={'dense_layer_sizes': [[40, 30, 30], [30, 10],\n",
              "                                               [30, 10, 10]],\n",
              "                         'epochs': [3], 'lr': [0.1, 0.01, 0.001],\n",
              "                         'regularizations': [0.01, 0.001]},\n",
              "             scoring='accuracy')"
            ]
          },
          "metadata": {},
          "execution_count": 92
        }
      ]
    },
    {
      "cell_type": "code",
      "source": [
        "print('The parameters of the best model are: ')\n",
        "print(validator.best_params_)\n",
        "\n",
        "# validator.best_estimator_ returns sklearn-wrapped version of best model.\n",
        "# validator.best_estimator_.model returns the (unwrapped) keras model\n",
        "best_model = validator.best_estimator_"
      ],
      "metadata": {
        "outputId": "870d11b2-3244-4f36-9d6d-3db9d9abab70",
        "colab": {
          "base_uri": "https://localhost:8080/"
        },
        "id": "yEvzs4rrNAWA"
      },
      "execution_count": 93,
      "outputs": [
        {
          "output_type": "stream",
          "name": "stdout",
          "text": [
            "The parameters of the best model are: \n",
            "{'dense_layer_sizes': [30, 10], 'epochs': 3, 'lr': 0.001, 'regularizations': 0.001}\n"
          ]
        }
      ]
    },
    {
      "cell_type": "code",
      "source": [
        "epch = 1000\n",
        "hist = best_model.fit(X_test, Y_test, batch_size=500, epochs=epch , verbose=0)"
      ],
      "metadata": {
        "id": "Qr-4MGKYNAWA"
      },
      "execution_count": 94,
      "outputs": []
    },
    {
      "cell_type": "code",
      "source": [
        "fig = plt.figure(figsize=(15,5))\n",
        "\n",
        "ax1 = fig.add_subplot(1,2,1, title='Model Loss', ylabel= 'Loss')\n",
        "ax1.plot(hist.history['loss'], label='test set')\n",
        "plt.legend(loc=0)\n",
        "\n",
        "ax2 = fig.add_subplot(1,2,2, title = 'Model accuracy', ylabel= 'Accuracy')\n",
        "ax2.plot(hist.history['accuracy'], label='test set')\n",
        "plt.legend(loc=0)\n",
        "plt.show()"
      ],
      "metadata": {
        "outputId": "305cd0d7-9f03-4479-d2ba-d98b8ed79cd9",
        "colab": {
          "base_uri": "https://localhost:8080/",
          "height": 343
        },
        "id": "2dwTHkaHNAWA"
      },
      "execution_count": 95,
      "outputs": [
        {
          "output_type": "display_data",
          "data": {
            "image/png": "[encoded data removed]",
            "text/plain": [
              "<Figure size 1080x360 with 2 Axes>"
            ]
          },
          "metadata": {
            "needs_background": "light"
          }
        }
      ]
    },
    {
      "cell_type": "code",
      "source": [
        "val_acc_per_epoch = hist.history['accuracy']\n",
        "best_CDM_1 = max(val_acc_per_epoch)\n",
        "best_epoch = val_acc_per_epoch.index(max(val_acc_per_epoch)) + 1\n",
        "print('Best epoch: %d' % (best_epoch,))\n",
        "print('Best accuracy: %f' %(best_CDM_1,))"
      ],
      "metadata": {
        "outputId": "f02ce059-96c0-47dd-a96a-5b68754ce01c",
        "colab": {
          "base_uri": "https://localhost:8080/"
        },
        "id": "KfFKcRDqNAWA"
      },
      "execution_count": 96,
      "outputs": [
        {
          "output_type": "stream",
          "name": "stdout",
          "text": [
            "Best epoch: 993\n",
            "Best accuracy: 0.610100\n"
          ]
        }
      ]
    },
    {
      "cell_type": "markdown",
      "source": [
        "#### Keras tuner"
      ],
      "metadata": {
        "id": "hJ0kgpNPNKIf"
      }
    },
    {
      "cell_type": "code",
      "source": [
        "!pip install -q -U keras-tuner\n",
        "import keras_tuner as kt"
      ],
      "metadata": {
        "colab": {
          "base_uri": "https://localhost:8080/"
        },
        "id": "JZlVud90RFDz",
        "outputId": "ba85422e-3c71-4825-f9e8-ddbe02393aee"
      },
      "execution_count": 97,
      "outputs": [
        {
          "output_type": "stream",
          "name": "stdout",
          "text": [
            "\u001b[?25l\r\u001b[K     |███▍                            | 10 kB 17.7 MB/s eta 0:00:01\r\u001b[K     |██████▊                         | 20 kB 20.0 MB/s eta 0:00:01\r\u001b[K     |██████████                      | 30 kB 23.2 MB/s eta 0:00:01\r\u001b[K     |█████████████▍                  | 40 kB 25.3 MB/s eta 0:00:01\r\u001b[K     |████████████████▊               | 51 kB 25.5 MB/s eta 0:00:01\r\u001b[K     |████████████████████            | 61 kB 26.2 MB/s eta 0:00:01\r\u001b[K     |███████████████████████▍        | 71 kB 27.3 MB/s eta 0:00:01\r\u001b[K     |██████████████████████████▊     | 81 kB 27.5 MB/s eta 0:00:01\r\u001b[K     |██████████████████████████████  | 92 kB 27.5 MB/s eta 0:00:01\r\u001b[K     |████████████████████████████████| 98 kB 5.0 MB/s \n",
            "\u001b[?25h"
          ]
        }
      ]
    },
    {
      "cell_type": "code",
      "source": [
        "# https://www.tensorflow.org/tutorials/keras/keras_tuner\n",
        "def model_builder(hp):\n",
        "  model = keras.Sequential()\n",
        "  model.add(keras.layers.Flatten(input_shape=(12, )))\n",
        "\n",
        "  # Tune the number of units in the first Dense layer\n",
        "  # Choose an optimal value between 32-512\n",
        "  hp_units = hp.Int('units', min_value=12, max_value=40, step=2)\n",
        "  model.add(keras.layers.Dense(units=hp_units, \n",
        "                               activation='relu', \n",
        "                               kernel_regularizer=keras.regularizers.l2(.05)))\n",
        "  model.add(keras.layers.Dense(units=hp_units, \n",
        "                               activation='tanh', \n",
        "                               kernel_regularizer=keras.regularizers.l2(.05)))\n",
        "  model.add(keras.layers.Dense(5))\n",
        "\n",
        "  # Tune the learning rate for the optimizer\n",
        "  # Choose an optimal value from 0.01, 0.001, or 0.0001\n",
        "  hp_learning_rate = hp.Choice('learning_rate', values=[1e-2, 1e-3, 1e-4, 2e-2])\n",
        "\n",
        "  model.compile(optimizer=keras.optimizers.Adam(learning_rate=hp_learning_rate),\n",
        "                loss=keras.losses.BinaryCrossentropy(),\n",
        "                metrics=['accuracy'])\n",
        "\n",
        "  return model"
      ],
      "metadata": {
        "id": "C6hsF-SnRRAP"
      },
      "execution_count": 99,
      "outputs": []
    },
    {
      "cell_type": "code",
      "source": [
        "tuner = kt.Hyperband(model_builder,\n",
        "                     objective='val_accuracy',\n",
        "                     max_epochs=10,\n",
        "                     factor=3,\n",
        "                     project_name='kt1')"
      ],
      "metadata": {
        "id": "BkF7_sJCRThn"
      },
      "execution_count": 102,
      "outputs": []
    },
    {
      "cell_type": "code",
      "source": [
        "stop_early = keras.callbacks.EarlyStopping(monitor='val_loss', patience=5)"
      ],
      "metadata": {
        "id": "taYTBfSqRYRd"
      },
      "execution_count": 100,
      "outputs": []
    },
    {
      "cell_type": "code",
      "source": [
        "tuner.search(X_train, Y_train, \n",
        "             epochs=50, \n",
        "             batch_size = 100, \n",
        "             validation_split=0.2, \n",
        "             callbacks=[stop_early])\n",
        "\n",
        "# Get the optimal hyperparameters\n",
        "best_hps=tuner.get_best_hyperparameters(num_trials=1)[0]\n",
        "\n",
        "print(f\"\"\"\n",
        "The hyperparameter search is complete. The optimal number of units in the first densely-connected\n",
        "layer is {best_hps.get('units')} and the optimal learning rate for the optimizer\n",
        "is {best_hps.get('learning_rate')}.\n",
        "\"\"\")"
      ],
      "metadata": {
        "colab": {
          "base_uri": "https://localhost:8080/"
        },
        "id": "d5LNeei4RaB3",
        "outputId": "2b9e8060-2bb4-4994-ca31-f498c18b351d"
      },
      "execution_count": 103,
      "outputs": [
        {
          "output_type": "stream",
          "name": "stdout",
          "text": [
            "Trial 30 Complete [00h 00m 15s]\n",
            "val_accuracy: 0.3970625102519989\n",
            "\n",
            "Best val_accuracy So Far: 0.5528749823570251\n",
            "Total elapsed time: 00h 04m 23s\n",
            "INFO:tensorflow:Oracle triggered exit\n",
            "\n",
            "The hyperparameter search is complete. The optimal number of units in the first densely-connected\n",
            "layer is 20 and the optimal learning rate for the optimizer\n",
            "is 0.02.\n",
            "\n"
          ]
        }
      ]
    },
    {
      "cell_type": "markdown",
      "source": [
        "### Best Model"
      ],
      "metadata": {
        "id": "h3yylWtaRiuO"
      }
    },
    {
      "cell_type": "code",
      "source": [
        "# Build the model with the optimal hyperparameters and train it on the data for 50 epochs\n",
        "model_tuner = tuner.hypermodel.build(best_hps)\n",
        "history_tuner = model_tuner.fit(X_train, Y_train, \n",
        "                    epochs=30, \n",
        "                    batch_size = 400, \n",
        "                    validation_data=(X_test, Y_test))\n",
        "\n",
        "val_acc_per_epoch = history_tuner.history['val_accuracy']\n",
        "best_n = max(val_acc_per_epoch)\n",
        "best_epoch = val_acc_per_epoch.index(max(val_acc_per_epoch)) + 1\n",
        "print('Best epoch: %d' % (best_epoch,))"
      ],
      "metadata": {
        "colab": {
          "base_uri": "https://localhost:8080/"
        },
        "id": "3DKuF9OGRh_x",
        "outputId": "b75b4f3b-8b1f-4cc4-b842-bd952712330e"
      },
      "execution_count": 116,
      "outputs": [
        {
          "output_type": "stream",
          "name": "stdout",
          "text": [
            "Epoch 1/30\n",
            "200/200 [==============================] - 1s 3ms/step - loss: 1.2641 - accuracy: 0.1790 - val_loss: 0.6991 - val_accuracy: 0.1743\n",
            "Epoch 2/30\n",
            "200/200 [==============================] - 1s 3ms/step - loss: 0.6892 - accuracy: 0.1645 - val_loss: 0.6849 - val_accuracy: 0.2357\n",
            "Epoch 3/30\n",
            "200/200 [==============================] - 0s 2ms/step - loss: 0.6851 - accuracy: 0.1703 - val_loss: 0.6844 - val_accuracy: 0.4426\n",
            "Epoch 4/30\n",
            "200/200 [==============================] - 0s 2ms/step - loss: 0.6845 - accuracy: 0.1888 - val_loss: 0.6835 - val_accuracy: 0.0765\n",
            "Epoch 5/30\n",
            "200/200 [==============================] - 0s 2ms/step - loss: 0.6843 - accuracy: 0.1610 - val_loss: 0.6826 - val_accuracy: 0.1480\n",
            "Epoch 6/30\n",
            "200/200 [==============================] - 0s 2ms/step - loss: 0.6837 - accuracy: 0.1616 - val_loss: 0.6823 - val_accuracy: 0.1178\n",
            "Epoch 7/30\n",
            "200/200 [==============================] - 0s 2ms/step - loss: 0.6840 - accuracy: 0.1614 - val_loss: 0.6823 - val_accuracy: 0.1053\n",
            "Epoch 8/30\n",
            "200/200 [==============================] - 0s 2ms/step - loss: 0.6836 - accuracy: 0.1543 - val_loss: 0.6822 - val_accuracy: 0.3151\n",
            "Epoch 9/30\n",
            "200/200 [==============================] - 0s 2ms/step - loss: 0.6837 - accuracy: 0.1577 - val_loss: 0.6812 - val_accuracy: 0.0963\n",
            "Epoch 10/30\n",
            "200/200 [==============================] - 0s 2ms/step - loss: 0.6857 - accuracy: 0.1786 - val_loss: 0.6857 - val_accuracy: 0.4483\n",
            "Epoch 11/30\n",
            "200/200 [==============================] - 0s 2ms/step - loss: 0.6837 - accuracy: 0.1693 - val_loss: 0.6809 - val_accuracy: 0.3336\n",
            "Epoch 12/30\n",
            "200/200 [==============================] - 0s 2ms/step - loss: 0.6836 - accuracy: 0.1772 - val_loss: 0.6843 - val_accuracy: 0.3584\n",
            "Epoch 13/30\n",
            "200/200 [==============================] - 0s 2ms/step - loss: 0.6862 - accuracy: 0.1824 - val_loss: 0.6818 - val_accuracy: 0.0000e+00\n",
            "Epoch 14/30\n",
            "200/200 [==============================] - 0s 2ms/step - loss: 0.6844 - accuracy: 0.1719 - val_loss: 0.6817 - val_accuracy: 0.2289\n",
            "Epoch 15/30\n",
            "200/200 [==============================] - 0s 2ms/step - loss: 0.6838 - accuracy: 0.2172 - val_loss: 0.6821 - val_accuracy: 0.3225\n",
            "Epoch 16/30\n",
            "200/200 [==============================] - 0s 2ms/step - loss: 0.6847 - accuracy: 0.2115 - val_loss: 0.6891 - val_accuracy: 0.5048\n",
            "Epoch 17/30\n",
            "200/200 [==============================] - 0s 2ms/step - loss: 0.6847 - accuracy: 0.1901 - val_loss: 0.6815 - val_accuracy: 0.0415\n",
            "Epoch 18/30\n",
            "200/200 [==============================] - 1s 4ms/step - loss: 0.6839 - accuracy: 0.2039 - val_loss: 0.6810 - val_accuracy: 0.2323\n",
            "Epoch 19/30\n",
            "200/200 [==============================] - 0s 2ms/step - loss: 0.6847 - accuracy: 0.1858 - val_loss: 0.6836 - val_accuracy: 0.0256\n",
            "Epoch 20/30\n",
            "200/200 [==============================] - 0s 2ms/step - loss: 0.6840 - accuracy: 0.1728 - val_loss: 0.6827 - val_accuracy: 0.0000e+00\n",
            "Epoch 21/30\n",
            "200/200 [==============================] - 1s 4ms/step - loss: 0.6835 - accuracy: 0.1985 - val_loss: 0.6839 - val_accuracy: 0.3405\n",
            "Epoch 22/30\n",
            "200/200 [==============================] - 1s 3ms/step - loss: 0.6837 - accuracy: 0.2041 - val_loss: 0.6810 - val_accuracy: 0.2641\n",
            "Epoch 23/30\n",
            "200/200 [==============================] - 1s 4ms/step - loss: 0.6835 - accuracy: 0.1681 - val_loss: 0.6828 - val_accuracy: 0.1923\n",
            "Epoch 24/30\n",
            "200/200 [==============================] - 1s 6ms/step - loss: 0.6844 - accuracy: 0.1036 - val_loss: 0.6822 - val_accuracy: 0.0178\n",
            "Epoch 25/30\n",
            "200/200 [==============================] - 1s 6ms/step - loss: 0.6843 - accuracy: 0.0712 - val_loss: 0.6897 - val_accuracy: 0.0000e+00\n",
            "Epoch 26/30\n",
            "200/200 [==============================] - 1s 5ms/step - loss: 0.6848 - accuracy: 0.0927 - val_loss: 0.6823 - val_accuracy: 0.1946\n",
            "Epoch 27/30\n",
            "200/200 [==============================] - 1s 5ms/step - loss: 0.6839 - accuracy: 0.0828 - val_loss: 0.6835 - val_accuracy: 0.0250\n",
            "Epoch 28/30\n",
            "200/200 [==============================] - 1s 4ms/step - loss: 0.6850 - accuracy: 0.1046 - val_loss: 0.6827 - val_accuracy: 0.5408\n",
            "Epoch 29/30\n",
            "200/200 [==============================] - 1s 5ms/step - loss: 0.6839 - accuracy: 0.1559 - val_loss: 0.6828 - val_accuracy: 0.4699\n",
            "Epoch 30/30\n",
            "200/200 [==============================] - 1s 4ms/step - loss: 0.6841 - accuracy: 0.1500 - val_loss: 0.6827 - val_accuracy: 0.2803\n",
            "Best epoch: 28\n"
          ]
        }
      ]
    },
    {
      "cell_type": "code",
      "source": [
        "# Plot training & validation accuracy values\n",
        "fig = plt.figure(figsize=(14,5))\n",
        "ax = fig.add_subplot(1,2,1, title = 'Model accuracy', ylabel= 'Accuracy')\n",
        "plt.plot(history_tuner.history['accuracy'])\n",
        "plt.plot(history_tuner.history['val_accuracy'])\n",
        "plt.legend(['Train', 'Test'], loc='upper left')\n",
        "\n",
        "# Plot training & validation loss values\n",
        "ax = fig.add_subplot(1,2,2, title = 'Model loss', ylabel= 'Loss')\n",
        "plt.plot(history_tuner.history['loss'])\n",
        "plt.plot(history_tuner.history['val_loss'])\n",
        "plt.legend(['Train', 'Test'], loc='upper left')\n",
        "\n",
        "plt.tight_layout()\n",
        "plt.show()"
      ],
      "metadata": {
        "colab": {
          "base_uri": "https://localhost:8080/",
          "height": 352
        },
        "id": "bMUC1ZmvRtAd",
        "outputId": "1747cd13-b4f6-4644-8d81-f699e531e39e"
      },
      "execution_count": 117,
      "outputs": [
        {
          "output_type": "display_data",
          "data": {
            "image/png": "[encoded data removed]",
            "text/plain": [
              "<Figure size 1008x360 with 2 Axes>"
            ]
          },
          "metadata": {
            "needs_background": "light"
          }
        }
      ]
    },
    {
      "cell_type": "markdown",
      "source": [
        "Keras Tuner did worse."
      ],
      "metadata": {
        "id": "iozRX_7-Ch_C"
      }
    },
    {
      "cell_type": "markdown",
      "source": [
        "### Classification Report"
      ],
      "metadata": {
        "id": "sLoAvuHFRwEh"
      }
    },
    {
      "cell_type": "markdown",
      "source": [
        "Save matrices, show at the end of the file."
      ],
      "metadata": {
        "id": "p9P1CVGkC8tE"
      }
    },
    {
      "cell_type": "code",
      "source": [
        "from sklearn.metrics import classification_report\n",
        "clf_report_n = classification_report(Y_test, best_model.predict(X_test))"
      ],
      "metadata": {
        "id": "7EWATHyHRyQ0"
      },
      "execution_count": 112,
      "outputs": []
    },
    {
      "cell_type": "code",
      "source": [
        "from sklearn.metrics import ConfusionMatrixDisplay, confusion_matrix\n",
        "\n",
        "cm_n = confusion_matrix(Y_test, best_model.predict(X_test))"
      ],
      "metadata": {
        "id": "WTMPbUkeSBzC"
      },
      "execution_count": 111,
      "outputs": []
    },
    {
      "cell_type": "markdown",
      "source": [
        "## Keras on CDM"
      ],
      "metadata": {
        "id": "XqWT4-q4VXV9"
      }
    },
    {
      "cell_type": "code",
      "source": [
        "hist2 = model.fit(\n",
        "    X2_train,\n",
        "    Y2_train,\n",
        "    batch_size= 400,\n",
        "    epochs=50,\n",
        "    verbose=0,\n",
        "    validation_split=.2,\n",
        "    shuffle=True,\n",
        ")"
      ],
      "metadata": {
        "id": "w5hK9MhYVXV9"
      },
      "execution_count": 123,
      "outputs": []
    },
    {
      "cell_type": "code",
      "source": [
        "fig = plt.figure(figsize=(7,5))\n",
        "\n",
        "ax1 = fig.add_subplot(1,1,1, ylabel= 'loss')\n",
        "ax1.plot(hist2.history['loss'])\n",
        "ax1.plot(hist2.history['val_loss'])\n",
        "plt.legend(['Train', 'Test'], loc='upper right')\n",
        "plt.show()"
      ],
      "metadata": {
        "colab": {
          "base_uri": "https://localhost:8080/",
          "height": 329
        },
        "outputId": "96f8bf30-c6c8-4960-9d63-2f58798857d7",
        "id": "CaY_hrWuV9vv"
      },
      "execution_count": 124,
      "outputs": [
        {
          "output_type": "display_data",
          "data": {
            "image/png": "[encoded data removed]",
            "text/plain": [
              "<Figure size 504x360 with 1 Axes>"
            ]
          },
          "metadata": {
            "needs_background": "light"
          }
        }
      ]
    },
    {
      "cell_type": "markdown",
      "source": [
        "### Cross-Validation"
      ],
      "metadata": {
        "id": "rU32tu0cgOPz"
      }
    },
    {
      "cell_type": "code",
      "source": [
        "def model_fn():\n",
        "    from tensorflow import keras\n",
        "    from tensorflow.keras import layers\n",
        "    from keras.losses import MeanSquaredError\n",
        "    from sklearn.metrics import classification_report\n",
        "\n",
        "\n",
        "    model = keras.Sequential()\n",
        "    model.add(layers.Dense(30,kernel_initializer=keras.initializers.RandomUniform(minval=-0.5, maxval=0.5, seed=1),activation='relu'))\n",
        "    model.add(layers.Dense(10,kernel_initializer=keras.initializers.RandomUniform(minval=-0.5, maxval=0.5, seed=1), input_shape=(12,),activation='tanh'))\n",
        "    model.add(keras.layers.Dense(5))\n",
        "    \n",
        "    model.compile(loss=keras.losses.SparseCategoricalCrossentropy(from_logits=True), optimizer = keras.optimizers.Adam(learning_rate=0.01, beta_1=0.9, beta_2=0.999, epsilon=1e-06), metrics=['accuracy'])\n",
        "    return model"
      ],
      "metadata": {
        "id": "tF-o_7uXg9qB"
      },
      "execution_count": 127,
      "outputs": []
    },
    {
      "cell_type": "code",
      "source": [
        "epch = 10\n",
        "batch_sz = 500\n",
        "\n",
        "from sklearn.model_selection import KFold\n",
        "n_folds = 3\n",
        "kf = KFold(n_splits=n_folds, shuffle=True)\n",
        "\n",
        "\n",
        "loss = []\n",
        "acc = []\n",
        "val_loss = []\n",
        "val_acc = []\n",
        "\n",
        "# cross validate:\n",
        "for train_index, val_index in kf.split(X2):\n",
        "    model = model_fn()\n",
        "    hists = model.fit(X2[train_index], Y2[train_index],\n",
        "                     epochs=epch,\n",
        "                     batch_size=500,\n",
        "                     validation_data = (X2[val_index], Y2[val_index]),\n",
        "                     verbose=0)\n",
        "    # print(hist.history.keys)\n",
        "    loss.append(hists.history['loss'])\n",
        "    acc.append(hists.history['accuracy'])\n",
        "    val_loss.append([hists.history['val_loss']])\n",
        "    val_acc.append(hists.history['val_accuracy'])\n",
        "    \n",
        "loss = np.array(loss).reshape(n_folds, epch )    \n",
        "acc = np.array(acc).reshape(n_folds, epch )       \n",
        "val_loss = np.array(val_loss).reshape(n_folds, epch )      \n",
        "val_acc  = np.array(val_acc).reshape(n_folds, epch )       "
      ],
      "metadata": {
        "id": "mi2HBhebeTux"
      },
      "execution_count": 131,
      "outputs": []
    },
    {
      "cell_type": "code",
      "source": [
        "loss_m = loss.mean(axis=0)\n",
        "loss_s = loss.var(axis=0)\n",
        "acc_m = acc.mean(axis=0)\n",
        "acc_s= acc.var(axis=0)\n",
        "\n",
        "val_loss_m = val_loss.mean(axis=0)\n",
        "val_loss_s = val_loss.var(axis=0)\n",
        "val_acc_m = val_acc.mean(axis=0)\n",
        "val_acc_s= val_acc.var(axis=0)\n",
        "\n",
        "fig = plt.figure(figsize=(18,5))\n",
        "\n",
        "# Plot training & validation loss values\n",
        "ax = fig.add_subplot(1,2,2, title = 'Model loss', ylabel= 'Loss')\n",
        "plt.plot(loss_m, label = 'Training')\n",
        "plt.fill_between(range(len(loss_m)),loss_m-loss_s/2, loss_m+loss_s/2,color=\"darkblue\", lw=2)\n",
        "plt.plot(val_loss_m, label = 'Validation')\n",
        "plt.fill_between(range(len(loss_m)),val_loss_m-val_loss_s/2, val_loss_m+val_loss_s/2,color=\"darkgreen\", lw=2)\n",
        "plt.legend(loc=0)\n",
        "\n",
        "# Plot training & validation accuracy values\n",
        "ax = fig.add_subplot(1,2,1, title = 'Model accuracy', ylabel= 'Accuracy')\n",
        "plt.plot(acc_m, label = 'Training')\n",
        "plt.fill_between(range(len(acc_m)),acc_m-acc_s/2, acc_m+acc_s/2,color=\"darkblue\", lw=2)\n",
        "plt.plot(val_acc_m, label = 'Validation')\n",
        "plt.fill_between(range(len(acc_m)),val_acc_m-val_acc_s/2, val_acc_m+val_acc_s/2,color=\"darkgreen\", lw=2)\n",
        "plt.legend(loc=0)\n",
        "plt.show()"
      ],
      "metadata": {
        "colab": {
          "base_uri": "https://localhost:8080/",
          "height": 343
        },
        "id": "iDPeXmBAhdm2",
        "outputId": "7eb991a6-c7f9-4981-8e85-9269b45cf3dd"
      },
      "execution_count": 154,
      "outputs": [
        {
          "output_type": "display_data",
          "data": {
            "image/png": "[encoded data removed]",
            "text/plain": [
              "<Figure size 1296x360 with 2 Axes>"
            ]
          },
          "metadata": {
            "needs_background": "light"
          }
        }
      ]
    },
    {
      "cell_type": "markdown",
      "source": [
        "### Tuning HP"
      ],
      "metadata": {
        "id": "iD31azyzTDH0"
      }
    },
    {
      "cell_type": "markdown",
      "source": [
        "#### GridSearch"
      ],
      "metadata": {
        "id": "DHGo0voHTLC1"
      }
    },
    {
      "cell_type": "code",
      "source": [
        "def model_fn(dense_layer_sizes, regularizations, lr=.1): #dropouts\n",
        "    model = keras.Sequential() \n",
        "    \n",
        "    # model.add( keras.layers.Flatten(input_shape=(12, )) )\n",
        "    \n",
        "    for i in range( len(dense_layer_sizes )):\n",
        "        model.add( keras.layers.Dense( dense_layer_sizes[i], \n",
        "                                      activation='relu', \n",
        "                                      kernel_regularizer=keras.regularizers.l2(regularizations) \n",
        "                                     ) )\n",
        "    model.add(keras.layers.Dense(dense_layer_sizes[i], \n",
        "                            activation='tanh', \n",
        "                            kernel_regularizer=keras.regularizers.l2(regularizations)))\n",
        "        # model.add(keras.layers.Dropout( dropouts ) )\n",
        "        \n",
        "       \n",
        "    model.add(keras.layers.Dense(1,activation='sigmoid'))\n",
        "        \n",
        "    model.compile(loss=keras.losses.BinaryCrossentropy(), \n",
        "                  optimizer=keras.optimizers.Adam(learning_rate=lr, beta_1=0.9, beta_2=0.999, epsilon=1e-06), \n",
        "                  metrics=['accuracy'])\n",
        "    \n",
        "\n",
        "    return model\n",
        "\n",
        "mdl = model_fn([50,20,20], .001, .1) #.001\n",
        "# mdl = model_fn([128], [.01], [.01])\n",
        "# mdl.summary()"
      ],
      "metadata": {
        "id": "F0-PYblkTOFu"
      },
      "execution_count": 168,
      "outputs": []
    },
    {
      "cell_type": "code",
      "source": [
        "btch_size = 500\n",
        "epch = 8\n",
        "history = mdl.fit(X2_train, Y2_train, batch_size=btch_size, epochs=epch )"
      ],
      "metadata": {
        "id": "Q8OXirIJXX-j",
        "outputId": "7f9d4453-8fd4-432d-db9d-fc319a38ef90",
        "colab": {
          "base_uri": "https://localhost:8080/"
        }
      },
      "execution_count": 169,
      "outputs": [
        {
          "output_type": "stream",
          "name": "stdout",
          "text": [
            "Epoch 1/8\n",
            "160/160 [==============================] - 2s 5ms/step - loss: 0.7099 - accuracy: 0.5536\n",
            "Epoch 2/8\n",
            "160/160 [==============================] - 1s 7ms/step - loss: 0.6816 - accuracy: 0.5612\n",
            "Epoch 3/8\n",
            "160/160 [==============================] - 1s 3ms/step - loss: 0.6819 - accuracy: 0.5579\n",
            "Epoch 4/8\n",
            "160/160 [==============================] - 0s 2ms/step - loss: 0.6825 - accuracy: 0.5569\n",
            "Epoch 5/8\n",
            "160/160 [==============================] - 0s 2ms/step - loss: 0.6807 - accuracy: 0.5572\n",
            "Epoch 6/8\n",
            "160/160 [==============================] - 0s 2ms/step - loss: 0.6805 - accuracy: 0.5608\n",
            "Epoch 7/8\n",
            "160/160 [==============================] - 0s 2ms/step - loss: 0.6802 - accuracy: 0.5609\n",
            "Epoch 8/8\n",
            "160/160 [==============================] - 0s 2ms/step - loss: 0.6795 - accuracy: 0.5605\n"
          ]
        }
      ]
    },
    {
      "cell_type": "code",
      "source": [
        "# Grid search over these:\n",
        "dense_size_candidates = [[40,30,30], [30,10] , [30,10,10] ] # the lists contain the number of nodes for each layer\n",
        "regularizations_candidates = [ (.01), (.001) ]\n",
        "# dropouts_candidates = [  (.005), (.01), (.003) ]\n",
        "lr_candidates = [.1, .01, .001]\n",
        "# epch_list = [4, 10]\n",
        "batch_size_candidates = [500,300]\n",
        "\n",
        "from tensorflow.keras.wrappers.scikit_learn import KerasClassifier\n",
        "from sklearn.model_selection import StratifiedKFold, cross_val_score, GridSearchCV\n",
        "\n",
        "gs_classifier = KerasClassifier(model_fn)\n"
      ],
      "metadata": {
        "id": "ipoN4n6rXuvc",
        "outputId": "055d0f7b-e8b7-41c6-c31a-c4b3fc646af9",
        "colab": {
          "base_uri": "https://localhost:8080/"
        }
      },
      "execution_count": 167,
      "outputs": [
        {
          "output_type": "stream",
          "name": "stderr",
          "text": [
            "/usr/local/lib/python3.7/dist-packages/ipykernel_launcher.py:12: DeprecationWarning: KerasClassifier is deprecated, use Sci-Keras (https://github.com/adriangb/scikeras) instead.\n",
            "  if sys.path[0] == '':\n"
          ]
        }
      ]
    },
    {
      "cell_type": "code",
      "source": [
        "validator = GridSearchCV(gs_classifier,\n",
        "                         param_grid={'dense_layer_sizes': dense_size_candidates,\n",
        "                                     # epochs is avail for tuning even when not\n",
        "                                     # an argument to model building function\n",
        "                                     'epochs': [3],\n",
        "                                     'regularizations': regularizations_candidates,\n",
        "                                    #  'dropouts': dropouts_candidates,\n",
        "                                     'lr': lr_candidates},\n",
        "                         scoring='accuracy',\n",
        "                         n_jobs= 1,  )\n",
        "validator.fit(X2_train, Y2_train)"
      ],
      "metadata": {
        "id": "3Ply9ixEX6w0",
        "outputId": "582bdbae-6cc4-4d41-c952-68e8932fe86c",
        "colab": {
          "base_uri": "https://localhost:8080/"
        }
      },
      "execution_count": null,
      "outputs": [
        {
          "output_type": "stream",
          "name": "stdout",
          "text": [
            "Epoch 1/3\n",
            "2000/2000 [==============================] - 5s 2ms/step - loss: 0.6970 - accuracy: 0.5423\n",
            "Epoch 2/3\n",
            "2000/2000 [==============================] - 4s 2ms/step - loss: 0.6966 - accuracy: 0.5372\n",
            "Epoch 3/3\n",
            "2000/2000 [==============================] - 4s 2ms/step - loss: 0.6916 - accuracy: 0.5437\n",
            "Epoch 1/3\n",
            "2000/2000 [==============================] - 4s 2ms/step - loss: 0.6989 - accuracy: 0.5458\n",
            "Epoch 2/3\n",
            "2000/2000 [==============================] - 4s 2ms/step - loss: 0.6954 - accuracy: 0.5392\n",
            "Epoch 3/3\n",
            "2000/2000 [==============================] - 4s 2ms/step - loss: 0.6936 - accuracy: 0.5415\n",
            "Epoch 1/3\n",
            "2000/2000 [==============================] - 4s 2ms/step - loss: 0.6980 - accuracy: 0.5428\n",
            "Epoch 2/3\n",
            "2000/2000 [==============================] - 4s 2ms/step - loss: 0.6960 - accuracy: 0.5441\n",
            "Epoch 3/3\n",
            "2000/2000 [==============================] - 4s 2ms/step - loss: 0.6915 - accuracy: 0.5467\n",
            "Epoch 1/3\n",
            "2000/2000 [==============================] - 4s 2ms/step - loss: 0.6976 - accuracy: 0.5437\n",
            "Epoch 2/3\n",
            "2000/2000 [==============================] - 5s 2ms/step - loss: 0.6933 - accuracy: 0.5424\n",
            "Epoch 3/3\n",
            "2000/2000 [==============================] - 4s 2ms/step - loss: 0.6930 - accuracy: 0.5439\n",
            "Epoch 1/3\n",
            "2000/2000 [==============================] - 5s 2ms/step - loss: 0.6987 - accuracy: 0.5462\n",
            "Epoch 2/3\n",
            "2000/2000 [==============================] - 5s 2ms/step - loss: 0.6916 - accuracy: 0.5487\n",
            "Epoch 3/3\n",
            "2000/2000 [==============================] - 4s 2ms/step - loss: 0.6949 - accuracy: 0.5423\n",
            "Epoch 1/3\n",
            "2000/2000 [==============================] - 5s 2ms/step - loss: 0.6966 - accuracy: 0.5427\n",
            "Epoch 2/3\n",
            "2000/2000 [==============================] - 4s 2ms/step - loss: 0.6952 - accuracy: 0.5419\n",
            "Epoch 3/3\n",
            "2000/2000 [==============================] - 4s 2ms/step - loss: 0.6974 - accuracy: 0.5345\n",
            "Epoch 1/3\n",
            "2000/2000 [==============================] - 5s 2ms/step - loss: 0.6970 - accuracy: 0.5415\n",
            "Epoch 2/3\n",
            "2000/2000 [==============================] - 4s 2ms/step - loss: 0.6942 - accuracy: 0.5409\n",
            "Epoch 3/3\n",
            "2000/2000 [==============================] - 4s 2ms/step - loss: 0.6919 - accuracy: 0.5451\n",
            "Epoch 1/3\n",
            "2000/2000 [==============================] - 4s 2ms/step - loss: 0.7001 - accuracy: 0.5445\n",
            "Epoch 2/3\n",
            "2000/2000 [==============================] - 4s 2ms/step - loss: 0.6951 - accuracy: 0.5412\n",
            "Epoch 3/3\n",
            "2000/2000 [==============================] - 4s 2ms/step - loss: 0.6961 - accuracy: 0.5382\n",
            "Epoch 1/3\n",
            "2000/2000 [==============================] - 5s 2ms/step - loss: 0.7144 - accuracy: 0.5280\n",
            "Epoch 2/3\n",
            "2000/2000 [==============================] - 4s 2ms/step - loss: 0.6979 - accuracy: 0.5347\n",
            "Epoch 3/3\n",
            "2000/2000 [==============================] - 4s 2ms/step - loss: 0.6983 - accuracy: 0.5339\n",
            "Epoch 1/3\n",
            "2000/2000 [==============================] - 4s 2ms/step - loss: 0.6993 - accuracy: 0.5425\n",
            "Epoch 2/3\n",
            "2000/2000 [==============================] - 4s 2ms/step - loss: 0.6933 - accuracy: 0.5429\n",
            "Epoch 3/3\n",
            "2000/2000 [==============================] - 4s 2ms/step - loss: 0.6917 - accuracy: 0.5443\n",
            "Epoch 1/3\n",
            "2000/2000 [==============================] - 5s 2ms/step - loss: 0.6939 - accuracy: 0.5576\n",
            "Epoch 2/3\n",
            "2000/2000 [==============================] - 4s 2ms/step - loss: 0.6868 - accuracy: 0.5572\n",
            "Epoch 3/3\n",
            "2000/2000 [==============================] - 4s 2ms/step - loss: 0.6869 - accuracy: 0.5577\n",
            "Epoch 1/3\n",
            "2000/2000 [==============================] - 4s 2ms/step - loss: 0.6937 - accuracy: 0.5569\n",
            "Epoch 2/3\n",
            "2000/2000 [==============================] - 4s 2ms/step - loss: 0.6868 - accuracy: 0.5578\n",
            "Epoch 3/3\n",
            "2000/2000 [==============================] - 4s 2ms/step - loss: 0.6869 - accuracy: 0.5578\n",
            "Epoch 1/3\n",
            "2000/2000 [==============================] - 4s 2ms/step - loss: 0.6935 - accuracy: 0.5569\n",
            "Epoch 2/3\n",
            "2000/2000 [==============================] - 4s 2ms/step - loss: 0.6869 - accuracy: 0.5572\n",
            "Epoch 3/3\n",
            "2000/2000 [==============================] - 4s 2ms/step - loss: 0.6872 - accuracy: 0.5568\n",
            "Epoch 1/3\n",
            "2000/2000 [==============================] - 5s 2ms/step - loss: 0.6940 - accuracy: 0.5581\n",
            "Epoch 2/3\n",
            "2000/2000 [==============================] - 4s 2ms/step - loss: 0.6866 - accuracy: 0.5581\n",
            "Epoch 3/3\n",
            "2000/2000 [==============================] - 4s 2ms/step - loss: 0.6868 - accuracy: 0.5580\n",
            "Epoch 1/3\n",
            "2000/2000 [==============================] - 4s 2ms/step - loss: 0.6935 - accuracy: 0.5589\n",
            "Epoch 2/3\n",
            "2000/2000 [==============================] - 4s 2ms/step - loss: 0.6865 - accuracy: 0.5594\n",
            "Epoch 3/3\n",
            "2000/2000 [==============================] - 4s 2ms/step - loss: 0.6864 - accuracy: 0.5594\n",
            "Epoch 1/3\n",
            "2000/2000 [==============================] - 5s 2ms/step - loss: 0.6843 - accuracy: 0.5631\n",
            "Epoch 2/3\n",
            "2000/2000 [==============================] - 4s 2ms/step - loss: 0.6793 - accuracy: 0.5666\n",
            "Epoch 3/3\n",
            "2000/2000 [==============================] - 4s 2ms/step - loss: 0.6781 - accuracy: 0.5620\n",
            "Epoch 1/3\n",
            "2000/2000 [==============================] - 4s 2ms/step - loss: 0.6852 - accuracy: 0.5603\n",
            "Epoch 2/3\n",
            "2000/2000 [==============================] - 4s 2ms/step - loss: 0.6792 - accuracy: 0.5681\n",
            "Epoch 3/3\n",
            "2000/2000 [==============================] - 4s 2ms/step - loss: 0.6782 - accuracy: 0.5694\n",
            "Epoch 1/3\n",
            "2000/2000 [==============================] - 5s 2ms/step - loss: 0.6838 - accuracy: 0.5623\n",
            "Epoch 2/3\n",
            "2000/2000 [==============================] - 4s 2ms/step - loss: 0.6790 - accuracy: 0.5703\n",
            "Epoch 3/3\n",
            "2000/2000 [==============================] - 4s 2ms/step - loss: 0.6782 - accuracy: 0.5665\n",
            "Epoch 1/3\n",
            "2000/2000 [==============================] - 4s 2ms/step - loss: 0.6825 - accuracy: 0.5668\n",
            "Epoch 2/3\n",
            "2000/2000 [==============================] - 4s 2ms/step - loss: 0.6788 - accuracy: 0.5705\n",
            "Epoch 3/3\n",
            "2000/2000 [==============================] - 4s 2ms/step - loss: 0.6779 - accuracy: 0.5690\n",
            "Epoch 1/3\n",
            "2000/2000 [==============================] - 4s 2ms/step - loss: 0.6840 - accuracy: 0.5633\n",
            "Epoch 2/3\n",
            "2000/2000 [==============================] - 4s 2ms/step - loss: 0.6782 - accuracy: 0.5693\n",
            "Epoch 3/3\n",
            "2000/2000 [==============================] - 4s 2ms/step - loss: 0.6779 - accuracy: 0.5697\n",
            "Epoch 1/3\n",
            "2000/2000 [==============================] - 4s 2ms/step - loss: 0.7556 - accuracy: 0.5578\n",
            "Epoch 2/3\n",
            "2000/2000 [==============================] - 4s 2ms/step - loss: 0.6867 - accuracy: 0.5577\n",
            "Epoch 3/3\n",
            "2000/2000 [==============================] - 4s 2ms/step - loss: 0.6867 - accuracy: 0.5577\n",
            "Epoch 1/3\n",
            "2000/2000 [==============================] - 5s 2ms/step - loss: 0.7562 - accuracy: 0.5573\n",
            "Epoch 2/3\n",
            "2000/2000 [==============================] - 4s 2ms/step - loss: 0.6867 - accuracy: 0.5578\n",
            "Epoch 3/3\n",
            "2000/2000 [==============================] - 4s 2ms/step - loss: 0.6866 - accuracy: 0.5578\n",
            "Epoch 1/3\n",
            "2000/2000 [==============================] - 4s 2ms/step - loss: 0.7564 - accuracy: 0.5570\n",
            "Epoch 2/3\n",
            "2000/2000 [==============================] - 4s 2ms/step - loss: 0.6868 - accuracy: 0.5572\n",
            "Epoch 3/3\n",
            "2000/2000 [==============================] - 4s 2ms/step - loss: 0.6868 - accuracy: 0.5572\n",
            "Epoch 1/3\n",
            "2000/2000 [==============================] - 4s 2ms/step - loss: 0.7547 - accuracy: 0.5594\n",
            "Epoch 2/3\n",
            "2000/2000 [==============================] - 4s 2ms/step - loss: 0.6866 - accuracy: 0.5582\n",
            "Epoch 3/3\n",
            "2000/2000 [==============================] - 4s 2ms/step - loss: 0.6865 - accuracy: 0.5582\n",
            "Epoch 1/3\n",
            "2000/2000 [==============================] - 5s 2ms/step - loss: 0.7608 - accuracy: 0.5617\n",
            "Epoch 2/3\n",
            "2000/2000 [==============================] - 4s 2ms/step - loss: 0.6864 - accuracy: 0.5594\n",
            "Epoch 3/3\n",
            "2000/2000 [==============================] - 4s 2ms/step - loss: 0.6863 - accuracy: 0.5594\n",
            "Epoch 1/3\n",
            "2000/2000 [==============================] - 4s 2ms/step - loss: 0.7017 - accuracy: 0.5768\n",
            "Epoch 2/3\n",
            "2000/2000 [==============================] - 4s 2ms/step - loss: 0.6768 - accuracy: 0.5811\n",
            "Epoch 3/3\n",
            "2000/2000 [==============================] - 4s 2ms/step - loss: 0.6735 - accuracy: 0.5808\n",
            "Epoch 1/3\n",
            "2000/2000 [==============================] - 4s 2ms/step - loss: 0.6992 - accuracy: 0.5746\n",
            "Epoch 2/3\n",
            "2000/2000 [==============================] - 4s 2ms/step - loss: 0.6766 - accuracy: 0.5782\n",
            "Epoch 3/3\n",
            "2000/2000 [==============================] - 4s 2ms/step - loss: 0.6739 - accuracy: 0.5796\n",
            "Epoch 1/3\n",
            "2000/2000 [==============================] - 5s 2ms/step - loss: 0.7014 - accuracy: 0.5796\n",
            "Epoch 2/3\n",
            "2000/2000 [==============================] - 4s 2ms/step - loss: 0.6771 - accuracy: 0.5826\n",
            "Epoch 3/3\n",
            "2000/2000 [==============================] - 4s 2ms/step - loss: 0.6739 - accuracy: 0.5821\n",
            "Epoch 1/3\n",
            "2000/2000 [==============================] - 4s 2ms/step - loss: 0.6986 - accuracy: 0.5750\n",
            "Epoch 2/3\n",
            "2000/2000 [==============================] - 4s 2ms/step - loss: 0.6762 - accuracy: 0.5798\n",
            "Epoch 3/3\n",
            "2000/2000 [==============================] - 4s 2ms/step - loss: 0.6735 - accuracy: 0.5802\n",
            "Epoch 1/3\n",
            "2000/2000 [==============================] - 5s 2ms/step - loss: 0.7025 - accuracy: 0.5752\n",
            "Epoch 2/3\n",
            "2000/2000 [==============================] - 4s 2ms/step - loss: 0.6777 - accuracy: 0.5767\n",
            "Epoch 3/3\n",
            "2000/2000 [==============================] - 4s 2ms/step - loss: 0.6742 - accuracy: 0.5780\n",
            "Epoch 1/3\n",
            "2000/2000 [==============================] - 4s 2ms/step - loss: 0.6931 - accuracy: 0.5422\n",
            "Epoch 2/3\n",
            "2000/2000 [==============================] - 3s 2ms/step - loss: 0.6906 - accuracy: 0.5475\n",
            "Epoch 3/3\n",
            "2000/2000 [==============================] - 3s 2ms/step - loss: 0.6920 - accuracy: 0.5475\n",
            "Epoch 1/3\n",
            "2000/2000 [==============================] - 4s 2ms/step - loss: 0.6933 - accuracy: 0.5457\n",
            "Epoch 2/3\n",
            "2000/2000 [==============================] - 3s 2ms/step - loss: 0.6909 - accuracy: 0.5462\n",
            "Epoch 3/3\n",
            "2000/2000 [==============================] - 3s 2ms/step - loss: 0.6902 - accuracy: 0.5470\n",
            "Epoch 1/3\n",
            "2000/2000 [==============================] - 4s 2ms/step - loss: 0.6928 - accuracy: 0.5446\n",
            "Epoch 2/3\n",
            "2000/2000 [==============================] - 3s 2ms/step - loss: 0.6905 - accuracy: 0.5484\n",
            "Epoch 3/3\n",
            "2000/2000 [==============================] - 3s 2ms/step - loss: 0.6914 - accuracy: 0.5444\n",
            "Epoch 1/3\n",
            "2000/2000 [==============================] - 4s 2ms/step - loss: 0.6919 - accuracy: 0.5477\n",
            "Epoch 2/3\n",
            "2000/2000 [==============================] - 3s 2ms/step - loss: 0.6914 - accuracy: 0.5450\n",
            "Epoch 3/3\n",
            "2000/2000 [==============================] - 3s 2ms/step - loss: 0.6907 - accuracy: 0.5471\n",
            "Epoch 1/3\n",
            "2000/2000 [==============================] - 4s 2ms/step - loss: 0.6911 - accuracy: 0.5514\n",
            "Epoch 2/3\n",
            "2000/2000 [==============================] - 3s 2ms/step - loss: 0.6909 - accuracy: 0.5475\n",
            "Epoch 3/3\n",
            "2000/2000 [==============================] - 3s 2ms/step - loss: 0.6896 - accuracy: 0.5501\n",
            "Epoch 1/3\n",
            "2000/2000 [==============================] - 4s 2ms/step - loss: 0.6916 - accuracy: 0.5506\n",
            "Epoch 2/3\n",
            "2000/2000 [==============================] - 3s 2ms/step - loss: 0.6915 - accuracy: 0.5457\n",
            "Epoch 3/3\n",
            "2000/2000 [==============================] - 3s 2ms/step - loss: 0.6894 - accuracy: 0.5524\n",
            "Epoch 1/3\n",
            "2000/2000 [==============================] - 4s 2ms/step - loss: 0.6935 - accuracy: 0.5453\n",
            "Epoch 2/3\n",
            "2000/2000 [==============================] - 3s 2ms/step - loss: 0.6907 - accuracy: 0.5470\n",
            "Epoch 3/3\n",
            "2000/2000 [==============================] - 3s 2ms/step - loss: 0.6920 - accuracy: 0.5439\n",
            "Epoch 1/3\n",
            "2000/2000 [==============================] - 4s 2ms/step - loss: 0.6928 - accuracy: 0.5460\n",
            "Epoch 2/3\n",
            "2000/2000 [==============================] - 3s 2ms/step - loss: 0.6900 - accuracy: 0.5477\n",
            "Epoch 3/3\n",
            "2000/2000 [==============================] - 3s 2ms/step - loss: 0.6906 - accuracy: 0.5488\n",
            "Epoch 1/3\n",
            "2000/2000 [==============================] - 4s 2ms/step - loss: 0.6913 - accuracy: 0.5493\n",
            "Epoch 2/3\n",
            "2000/2000 [==============================] - 3s 2ms/step - loss: 0.6916 - accuracy: 0.5450\n",
            "Epoch 3/3\n",
            "2000/2000 [==============================] - 3s 2ms/step - loss: 0.6911 - accuracy: 0.5446\n",
            "Epoch 1/3\n",
            "2000/2000 [==============================] - 4s 2ms/step - loss: 0.6922 - accuracy: 0.5493\n",
            "Epoch 2/3\n",
            "2000/2000 [==============================] - 3s 2ms/step - loss: 0.6910 - accuracy: 0.5502\n",
            "Epoch 3/3\n",
            "2000/2000 [==============================] - 3s 2ms/step - loss: 0.6921 - accuracy: 0.5454\n",
            "Epoch 1/3\n",
            "2000/2000 [==============================] - 4s 2ms/step - loss: 0.6915 - accuracy: 0.5568\n",
            "Epoch 2/3\n",
            "2000/2000 [==============================] - 3s 2ms/step - loss: 0.6860 - accuracy: 0.5558\n",
            "Epoch 3/3\n",
            "2000/2000 [==============================] - 3s 2ms/step - loss: 0.6859 - accuracy: 0.5549\n",
            "Epoch 1/3\n",
            "2000/2000 [==============================] - 4s 2ms/step - loss: 0.6907 - accuracy: 0.5579\n",
            "Epoch 2/3\n",
            "2000/2000 [==============================] - 3s 2ms/step - loss: 0.6866 - accuracy: 0.5572\n",
            "Epoch 3/3\n",
            "2000/2000 [==============================] - 3s 2ms/step - loss: 0.6866 - accuracy: 0.5578\n",
            "Epoch 1/3\n",
            "2000/2000 [==============================] - 4s 2ms/step - loss: 0.6915 - accuracy: 0.5575\n",
            "Epoch 2/3\n",
            "2000/2000 [==============================] - 3s 2ms/step - loss: 0.6868 - accuracy: 0.5572\n",
            "Epoch 3/3\n",
            "2000/2000 [==============================] - 3s 2ms/step - loss: 0.6868 - accuracy: 0.5572\n",
            "Epoch 1/3\n",
            "2000/2000 [==============================] - 4s 2ms/step - loss: 0.6914 - accuracy: 0.5578\n",
            "Epoch 2/3\n",
            "2000/2000 [==============================] - 4s 2ms/step - loss: 0.6866 - accuracy: 0.5582\n",
            "Epoch 3/3\n",
            "2000/2000 [==============================] - 3s 2ms/step - loss: 0.6865 - accuracy: 0.5582\n",
            "Epoch 1/3\n",
            "2000/2000 [==============================] - 4s 2ms/step - loss: 0.6904 - accuracy: 0.5591\n",
            "Epoch 2/3\n",
            "2000/2000 [==============================] - 3s 2ms/step - loss: 0.6863 - accuracy: 0.5594\n",
            "Epoch 3/3\n",
            "2000/2000 [==============================] - 3s 2ms/step - loss: 0.6864 - accuracy: 0.5594\n",
            "Epoch 1/3\n",
            "2000/2000 [==============================] - 4s 2ms/step - loss: 0.6808 - accuracy: 0.5675\n",
            "Epoch 2/3\n",
            "2000/2000 [==============================] - 3s 2ms/step - loss: 0.6776 - accuracy: 0.5692\n",
            "Epoch 3/3\n",
            "2000/2000 [==============================] - 3s 2ms/step - loss: 0.6763 - accuracy: 0.5712\n",
            "Epoch 1/3\n",
            "2000/2000 [==============================] - 4s 2ms/step - loss: 0.6806 - accuracy: 0.5700\n",
            "Epoch 2/3\n",
            " 221/2000 [==>...........................] - ETA: 2s - loss: 0.6809 - accuracy: 0.5683"
          ]
        }
      ]
    },
    {
      "cell_type": "code",
      "source": [
        "print('The parameters of the best model are: ')\n",
        "print(validator.best_params_)\n",
        "\n",
        "# validator.best_estimator_ returns sklearn-wrapped version of best model.\n",
        "# validator.best_estimator_.model returns the (unwrapped) keras model\n",
        "best_model = validator.best_estimator_"
      ],
      "metadata": {
        "id": "Mxb_tUojhfF_",
        "outputId": "2bac0a4d-2aa1-476f-d8d0-0564c2826e4e",
        "colab": {
          "base_uri": "https://localhost:8080/"
        }
      },
      "execution_count": 147,
      "outputs": [
        {
          "output_type": "stream",
          "name": "stdout",
          "text": [
            "The parameters of the best model are: \n",
            "{'dense_layer_sizes': [40, 30, 30], 'epochs': 3, 'lr': 0.1, 'regularizations': 0.01}\n"
          ]
        }
      ]
    },
    {
      "cell_type": "code",
      "source": [
        "epch = 1000\n",
        "hist = best_model.fit(X2_test, Y2_test, batch_size=500, epochs=epch , verbose=0)"
      ],
      "metadata": {
        "id": "RcAO__Onwlsn"
      },
      "execution_count": 148,
      "outputs": []
    },
    {
      "cell_type": "code",
      "source": [
        "fig = plt.figure(figsize=(15,5))\n",
        "\n",
        "ax1 = fig.add_subplot(1,2,1, title='Model Loss', ylabel= 'Loss')\n",
        "ax1.plot(hist.history['loss'], label='test set')\n",
        "plt.legend(loc=0)\n",
        "\n",
        "ax2 = fig.add_subplot(1,2,2, title = 'Model accuracy', ylabel= 'Accuracy')\n",
        "ax2.plot(hist.history['accuracy'], label='test set')\n",
        "plt.legend(loc=0)\n",
        "plt.show()"
      ],
      "metadata": {
        "id": "OKXLs7EIHmjj",
        "outputId": "b7372f97-0c1a-4fa3-e6ee-198453055afe",
        "colab": {
          "base_uri": "https://localhost:8080/",
          "height": 343
        }
      },
      "execution_count": 149,
      "outputs": [
        {
          "output_type": "display_data",
          "data": {
            "image/png": "[encoded data removed]",
            "text/plain": [
              "<Figure size 1080x360 with 2 Axes>"
            ]
          },
          "metadata": {
            "needs_background": "light"
          }
        }
      ]
    },
    {
      "cell_type": "code",
      "source": [
        "val_acc_per_epoch = hist.history['accuracy']\n",
        "best_CDM_1 = max(val_acc_per_epoch)\n",
        "best_epoch = val_acc_per_epoch.index(max(val_acc_per_epoch)) + 1\n",
        "print('Best epoch: %d' % (best_epoch,))\n",
        "print('Best accuracy: %f' %(best_CDM_1,))"
      ],
      "metadata": {
        "id": "83uPS13kO4uC",
        "outputId": "cf926286-475f-4ca2-878e-6b5e9f8084ec",
        "colab": {
          "base_uri": "https://localhost:8080/"
        }
      },
      "execution_count": 150,
      "outputs": [
        {
          "output_type": "stream",
          "name": "stdout",
          "text": [
            "Best epoch: 3\n",
            "Best accuracy: 0.557400\n"
          ]
        }
      ]
    },
    {
      "cell_type": "markdown",
      "source": [
        "####KerasTuner"
      ],
      "metadata": {
        "id": "eOHA_bHPW1pV"
      }
    },
    {
      "cell_type": "code",
      "source": [
        "# https://www.tensorflow.org/tutorials/keras/keras_tuner\n",
        "def model_builder(hp):\n",
        "  model = keras.Sequential()\n",
        "  model.add(keras.layers.Flatten(input_shape=(12, )))\n",
        "\n",
        "  # Tune the number of units in the first Dense layer\n",
        "  # Choose an optimal value between 32-512\n",
        "  hp_units = hp.Int('units', min_value=12, max_value=40, step=2)\n",
        "  model.add(keras.layers.Dense(units=hp_units, \n",
        "                               activation='relu', \n",
        "                               kernel_regularizer=keras.regularizers.l2(.05)))\n",
        "  model.add(keras.layers.Dense(units=hp_units, \n",
        "                               activation='tanh', \n",
        "                               kernel_regularizer=keras.regularizers.l2(.05)))\n",
        "  model.add(keras.layers.Dense(1,activation='sigmoid'))\n",
        "\n",
        "  # Tune the learning rate for the optimizer\n",
        "  # Choose an optimal value from 0.01, 0.001, or 0.0001\n",
        "  hp_learning_rate = hp.Choice('learning_rate', values=[1e-2, 1e-3, 1e-4, 2e-2])\n",
        "\n",
        "  model.compile(optimizer=keras.optimizers.Adam(learning_rate=hp_learning_rate),\n",
        "                loss=keras.losses.BinaryCrossentropy(),\n",
        "                metrics=['accuracy'])\n",
        "\n",
        "  return model"
      ],
      "metadata": {
        "id": "4j7fx1_CVmqz"
      },
      "execution_count": 155,
      "outputs": []
    },
    {
      "cell_type": "code",
      "source": [
        "tuner = kt.Hyperband(model_builder,\n",
        "                     objective='val_accuracy',\n",
        "                     max_epochs=10,\n",
        "                     factor=3,\n",
        "                     project_name='kt2')"
      ],
      "metadata": {
        "id": "OjGbAZguVmq6"
      },
      "execution_count": 156,
      "outputs": []
    },
    {
      "cell_type": "code",
      "source": [
        "stop_early = keras.callbacks.EarlyStopping(monitor='val_loss', patience=5)"
      ],
      "metadata": {
        "id": "sqWZV5LTVmq6"
      },
      "execution_count": 157,
      "outputs": []
    },
    {
      "cell_type": "code",
      "source": [
        "tuner.search(X2_train, Y2_train, \n",
        "             epochs=50, \n",
        "             batch_size = 100, \n",
        "             validation_split=0.2, \n",
        "             callbacks=[stop_early])\n",
        "\n",
        "# Get the optimal hyperparameters\n",
        "best_hps=tuner.get_best_hyperparameters(num_trials=1)[0]\n",
        "\n",
        "print(f\"\"\"\n",
        "The hyperparameter search is complete. The optimal number of units in the first densely-connected\n",
        "layer is {best_hps.get('units')} and the optimal learning rate for the optimizer\n",
        "is {best_hps.get('learning_rate')}.\n",
        "\"\"\")"
      ],
      "metadata": {
        "colab": {
          "base_uri": "https://localhost:8080/"
        },
        "outputId": "143e4b24-5f54-4f41-e6dd-a8a44831b518",
        "id": "2ywCL8PHVmq6"
      },
      "execution_count": 158,
      "outputs": [
        {
          "output_type": "stream",
          "name": "stdout",
          "text": [
            "Trial 30 Complete [00h 00m 24s]\n",
            "val_accuracy: 0.5528749823570251\n",
            "\n",
            "Best val_accuracy So Far: 0.5715625286102295\n",
            "Total elapsed time: 00h 03m 55s\n",
            "INFO:tensorflow:Oracle triggered exit\n",
            "\n",
            "The hyperparameter search is complete. The optimal number of units in the first densely-connected\n",
            "layer is 18 and the optimal learning rate for the optimizer\n",
            "is 0.0001.\n",
            "\n"
          ]
        }
      ]
    },
    {
      "cell_type": "markdown",
      "source": [
        "### Best Model"
      ],
      "metadata": {
        "id": "eAfx1gPvWPQc"
      }
    },
    {
      "cell_type": "code",
      "source": [
        "# Build the model with the optimal hyperparameters and train it on the data for 50 epochs\n",
        "model_tuner = tuner.hypermodel.build(best_hps)\n",
        "history = model_tuner.fit(X2_train, Y2_train, \n",
        "                    epochs=30, \n",
        "                    batch_size = 100, \n",
        "                    validation_data=(X2_test, Y2_test))\n",
        "\n",
        "val_acc_per_epoch = history.history['val_accuracy']\n",
        "best_CDM = max(val_acc_per_epoch)\n",
        "best_epoch = val_acc_per_epoch.index(max(val_acc_per_epoch)) + 1\n",
        "print('Best epoch: %d' % (best_epoch,))"
      ],
      "metadata": {
        "colab": {
          "base_uri": "https://localhost:8080/"
        },
        "outputId": "3f8d8f5f-122b-43f1-b8c5-8bae802fd787",
        "id": "-et9iHZyWPQj"
      },
      "execution_count": 159,
      "outputs": [
        {
          "output_type": "stream",
          "name": "stdout",
          "text": [
            "Epoch 1/30\n",
            "800/800 [==============================] - 5s 4ms/step - loss: 1.8607 - accuracy: 0.4953 - val_loss: 1.5476 - val_accuracy: 0.5293\n",
            "Epoch 2/30\n",
            "800/800 [==============================] - 3s 4ms/step - loss: 1.3300 - accuracy: 0.5433 - val_loss: 1.1467 - val_accuracy: 0.5490\n",
            "Epoch 3/30\n",
            "800/800 [==============================] - 3s 3ms/step - loss: 1.0197 - accuracy: 0.5525 - val_loss: 0.9138 - val_accuracy: 0.5543\n",
            "Epoch 4/30\n",
            "800/800 [==============================] - 2s 2ms/step - loss: 0.8437 - accuracy: 0.5553 - val_loss: 0.7866 - val_accuracy: 0.5569\n",
            "Epoch 5/30\n",
            "800/800 [==============================] - 2s 2ms/step - loss: 0.7514 - accuracy: 0.5576 - val_loss: 0.7238 - val_accuracy: 0.5574\n",
            "Epoch 6/30\n",
            "800/800 [==============================] - 1s 2ms/step - loss: 0.7086 - accuracy: 0.5581 - val_loss: 0.6973 - val_accuracy: 0.5574\n",
            "Epoch 7/30\n",
            "800/800 [==============================] - 2s 2ms/step - loss: 0.6921 - accuracy: 0.5581 - val_loss: 0.6885 - val_accuracy: 0.5574\n",
            "Epoch 8/30\n",
            "800/800 [==============================] - 1s 2ms/step - loss: 0.6872 - accuracy: 0.5581 - val_loss: 0.6864 - val_accuracy: 0.5574\n",
            "Epoch 9/30\n",
            "800/800 [==============================] - 2s 2ms/step - loss: 0.6862 - accuracy: 0.5581 - val_loss: 0.6860 - val_accuracy: 0.5574\n",
            "Epoch 10/30\n",
            "800/800 [==============================] - 1s 2ms/step - loss: 0.6860 - accuracy: 0.5581 - val_loss: 0.6859 - val_accuracy: 0.5574\n",
            "Epoch 11/30\n",
            "800/800 [==============================] - 2s 2ms/step - loss: 0.6859 - accuracy: 0.5581 - val_loss: 0.6858 - val_accuracy: 0.5574\n",
            "Epoch 12/30\n",
            "800/800 [==============================] - 2s 2ms/step - loss: 0.6858 - accuracy: 0.5581 - val_loss: 0.6857 - val_accuracy: 0.5574\n",
            "Epoch 13/30\n",
            "800/800 [==============================] - 2s 2ms/step - loss: 0.6857 - accuracy: 0.5581 - val_loss: 0.6856 - val_accuracy: 0.5574\n",
            "Epoch 14/30\n",
            "800/800 [==============================] - 2s 2ms/step - loss: 0.6856 - accuracy: 0.5581 - val_loss: 0.6854 - val_accuracy: 0.5574\n",
            "Epoch 15/30\n",
            "800/800 [==============================] - 2s 2ms/step - loss: 0.6855 - accuracy: 0.5581 - val_loss: 0.6853 - val_accuracy: 0.5574\n",
            "Epoch 16/30\n",
            "800/800 [==============================] - 1s 2ms/step - loss: 0.6854 - accuracy: 0.5581 - val_loss: 0.6852 - val_accuracy: 0.5574\n",
            "Epoch 17/30\n",
            "800/800 [==============================] - 2s 2ms/step - loss: 0.6853 - accuracy: 0.5581 - val_loss: 0.6851 - val_accuracy: 0.5574\n",
            "Epoch 18/30\n",
            "800/800 [==============================] - 1s 2ms/step - loss: 0.6852 - accuracy: 0.5581 - val_loss: 0.6850 - val_accuracy: 0.5574\n",
            "Epoch 19/30\n",
            "800/800 [==============================] - 1s 2ms/step - loss: 0.6851 - accuracy: 0.5581 - val_loss: 0.6849 - val_accuracy: 0.5574\n",
            "Epoch 20/30\n",
            "800/800 [==============================] - 2s 2ms/step - loss: 0.6850 - accuracy: 0.5581 - val_loss: 0.6848 - val_accuracy: 0.5574\n",
            "Epoch 21/30\n",
            "800/800 [==============================] - 2s 2ms/step - loss: 0.6849 - accuracy: 0.5581 - val_loss: 0.6847 - val_accuracy: 0.5574\n",
            "Epoch 22/30\n",
            "800/800 [==============================] - 1s 2ms/step - loss: 0.6848 - accuracy: 0.5581 - val_loss: 0.6846 - val_accuracy: 0.5574\n",
            "Epoch 23/30\n",
            "800/800 [==============================] - 2s 2ms/step - loss: 0.6847 - accuracy: 0.5581 - val_loss: 0.6845 - val_accuracy: 0.5574\n",
            "Epoch 24/30\n",
            "800/800 [==============================] - 1s 2ms/step - loss: 0.6847 - accuracy: 0.5581 - val_loss: 0.6844 - val_accuracy: 0.5574\n",
            "Epoch 25/30\n",
            "800/800 [==============================] - 2s 2ms/step - loss: 0.6846 - accuracy: 0.5581 - val_loss: 0.6843 - val_accuracy: 0.5574\n",
            "Epoch 26/30\n",
            "800/800 [==============================] - 2s 2ms/step - loss: 0.6845 - accuracy: 0.5581 - val_loss: 0.6843 - val_accuracy: 0.5574\n",
            "Epoch 27/30\n",
            "800/800 [==============================] - 2s 2ms/step - loss: 0.6844 - accuracy: 0.5581 - val_loss: 0.6842 - val_accuracy: 0.5574\n",
            "Epoch 28/30\n",
            "800/800 [==============================] - 2s 2ms/step - loss: 0.6844 - accuracy: 0.5581 - val_loss: 0.6842 - val_accuracy: 0.5574\n",
            "Epoch 29/30\n",
            "800/800 [==============================] - 2s 2ms/step - loss: 0.6843 - accuracy: 0.5581 - val_loss: 0.6841 - val_accuracy: 0.5574\n",
            "Epoch 30/30\n",
            "800/800 [==============================] - 2s 2ms/step - loss: 0.6843 - accuracy: 0.5581 - val_loss: 0.6840 - val_accuracy: 0.5574\n",
            "Best epoch: 5\n"
          ]
        }
      ]
    },
    {
      "cell_type": "code",
      "source": [
        "# Plot training & validation accuracy values\n",
        "fig = plt.figure(figsize=(14,5))\n",
        "ax = fig.add_subplot(1,2,1, title = 'Model accuracy', ylabel= 'Accuracy')\n",
        "plt.plot(history.history['accuracy'])\n",
        "plt.plot(history.history['val_accuracy'])\n",
        "plt.legend(['Train', 'Test'], loc='upper left')\n",
        "\n",
        "# Plot training & validation loss values\n",
        "ax = fig.add_subplot(1,2,2, title = 'Model loss', ylabel= 'Loss')\n",
        "plt.plot(history.history['loss'])\n",
        "plt.plot(history.history['val_loss'])\n",
        "plt.legend(['Train', 'Test'], loc='upper left')\n",
        "\n",
        "plt.tight_layout()\n",
        "plt.show()"
      ],
      "metadata": {
        "colab": {
          "base_uri": "https://localhost:8080/",
          "height": 352
        },
        "outputId": "5fee3376-21d0-4c75-9ce1-ba1db860c6d0",
        "id": "nFXOcXn_WPQk"
      },
      "execution_count": 160,
      "outputs": [
        {
          "output_type": "display_data",
          "data": {
            "image/png": "[encoded data removed]",
            "text/plain": [
              "<Figure size 1008x360 with 2 Axes>"
            ]
          },
          "metadata": {
            "needs_background": "light"
          }
        }
      ]
    },
    {
      "cell_type": "markdown",
      "source": [
        "### Classification Report"
      ],
      "metadata": {
        "id": "tGez4aFRWPQk"
      }
    },
    {
      "cell_type": "code",
      "source": [
        "from sklearn.metrics import classification_report\n",
        "clf_report_CDM = classification_report(Y2_test, best_model.predict(X2_test))"
      ],
      "metadata": {
        "colab": {
          "base_uri": "https://localhost:8080/"
        },
        "outputId": "cf78c442-b5d5-4b1e-e2b2-e583b667e56d",
        "id": "-xTP9C5QWPQk"
      },
      "execution_count": 162,
      "outputs": [
        {
          "output_type": "stream",
          "name": "stderr",
          "text": [
            "/usr/local/lib/python3.7/dist-packages/sklearn/metrics/_classification.py:1318: UndefinedMetricWarning: Precision and F-score are ill-defined and being set to 0.0 in labels with no predicted samples. Use `zero_division` parameter to control this behavior.\n",
            "  _warn_prf(average, modifier, msg_start, len(result))\n",
            "/usr/local/lib/python3.7/dist-packages/sklearn/metrics/_classification.py:1318: UndefinedMetricWarning: Precision and F-score are ill-defined and being set to 0.0 in labels with no predicted samples. Use `zero_division` parameter to control this behavior.\n",
            "  _warn_prf(average, modifier, msg_start, len(result))\n",
            "/usr/local/lib/python3.7/dist-packages/sklearn/metrics/_classification.py:1318: UndefinedMetricWarning: Precision and F-score are ill-defined and being set to 0.0 in labels with no predicted samples. Use `zero_division` parameter to control this behavior.\n",
            "  _warn_prf(average, modifier, msg_start, len(result))\n"
          ]
        }
      ]
    },
    {
      "cell_type": "code",
      "source": [
        "from sklearn.metrics import ConfusionMatrixDisplay, confusion_matrix\n",
        "\n",
        "cm_CDM = confusion_matrix(Y2_test, best_model.predict(X2_test))"
      ],
      "metadata": {
        "id": "D6thl5ATWPQk"
      },
      "execution_count": 163,
      "outputs": []
    },
    {
      "cell_type": "markdown",
      "source": [
        "## Compare Results"
      ],
      "metadata": {
        "id": "y87XOm70W8Xa"
      }
    },
    {
      "cell_type": "code",
      "source": [
        "print(f'Best Accuracy on Neutrino: {best_n}')\n",
        "print(clf_report_n)\n",
        "print('-'*20)\n",
        "\n",
        "print(f'Best Accuracy on CDM: {best_CDM}')\n",
        "print(clf_report_CDM)\n",
        "\n",
        "fig = plt.figure(figsize=(18,6))\n",
        "\n",
        "disp1 = ConfusionMatrixDisplay(confusion_matrix=cm_n)\n",
        "ax1 = fig.add_subplot(1,2,1, title='Neutrino')\n",
        "disp1.plot(ax=ax1)\n",
        "\n",
        "disp2 = ConfusionMatrixDisplay(confusion_matrix=cm_CDM)\n",
        "ax2 = fig.add_subplot(1,2,2, title='CDM')\n",
        "disp2.plot(ax=ax2)\n",
        "plt.show()"
      ],
      "metadata": {
        "colab": {
          "base_uri": "https://localhost:8080/",
          "height": 781
        },
        "id": "cz6nHO0ZW_L6",
        "outputId": "fa5ef329-faf2-48c5-e17f-aca75bf2f7d0"
      },
      "execution_count": 164,
      "outputs": [
        {
          "output_type": "stream",
          "name": "stdout",
          "text": [
            "Best Accuracy on Neutrino: 0.5407999753952026\n",
            "              precision    recall  f1-score   support\n",
            "\n",
            "           0       0.56      0.49      0.53      8852\n",
            "           1       0.63      0.70      0.66     11148\n",
            "\n",
            "    accuracy                           0.61     20000\n",
            "   macro avg       0.60      0.60      0.60     20000\n",
            "weighted avg       0.60      0.61      0.60     20000\n",
            "\n",
            "--------------------\n",
            "Best Accuracy on CDM: 0.5573999881744385\n",
            "              precision    recall  f1-score   support\n",
            "\n",
            "           0       0.00      0.00      0.00      8852\n",
            "           1       0.56      1.00      0.72     11148\n",
            "\n",
            "    accuracy                           0.56     20000\n",
            "   macro avg       0.28      0.50      0.36     20000\n",
            "weighted avg       0.31      0.56      0.40     20000\n",
            "\n"
          ]
        },
        {
          "output_type": "display_data",
          "data": {
            "image/png": "[encoded data removed]",
            "text/plain": [
              "<Figure size 1296x432 with 4 Axes>"
            ]
          },
          "metadata": {
            "needs_background": "light"
          }
        }
      ]
    }
  ],
  "metadata": {
    "colab": {
      "collapsed_sections": [
        "U4iafM7UvixV",
        "T3j7w19QMtr6"
      ],
      "name": " NN_Keras_Binary.ipynb",
      "provenance": [],
      "include_colab_link": true
    },
    "interpreter": {
      "hash": "fe5d99aa55929fe810a91df1bb66991ee2efa56184cda4e0a18aeeaadde96492"
    },
    "kernelspec": {
      "display_name": "Python 3.10.0 64-bit",
      "language": "python",
      "name": "python3"
    },
    "language_info": {
      "codemirror_mode": {
        "name": "ipython",
        "version": 3
      },
      "file_extension": ".py",
      "mimetype": "text/x-python",
      "name": "python",
      "nbconvert_exporter": "python",
      "pygments_lexer": "ipython3",
      "version": "3.10.0"
    },
    "orig_nbformat": 4
  },
  "nbformat": 4,
  "nbformat_minor": 0
}